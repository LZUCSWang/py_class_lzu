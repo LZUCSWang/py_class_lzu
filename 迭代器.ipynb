{
 "cells": [
  {
   "cell_type": "markdown",
   "metadata": {},
   "source": [
    "### 迭代器\n",
    "\n",
    "如何拥有以下能力？\n",
    "\n",
    "实现的两个方法，一个是**iter**，一个是**next**，前者返回迭代器对象，后者返回下一个值，如果没有下一个值，抛出 StopIteration 异常。\n",
    "\n",
    "执行机制：每一轮方法就调用一次 next 方法，一般约定，如果没有元素了，就抛出一个异常\n",
    "\n",
    "迭代器可以在调用的时候才生成值，并不需要预先把数据全部准备好\n",
    "\n",
    "这带来两个性能上的好处\n",
    "- 可以一边生成数据，一边消费数据\n",
    "- 全部数据占用空间太大的情况会迫使操作系统进行缓存、换页等交换操作，设计良好的迭代器可以缓解这种压力"
   ]
  },
  {
   "cell_type": "markdown",
   "metadata": {},
   "source": [
    "### 生成器\n",
    "（迭代器，生成器，装饰器，容器）"
   ]
  },
  {
   "cell_type": "code",
   "execution_count": 1,
   "metadata": {},
   "outputs": [
    {
     "ename": "SyntaxError",
     "evalue": "cannot assign to function call here. Maybe you meant '==' instead of '='? (4047073918.py, line 1)",
     "output_type": "error",
     "traceback": [
      "\u001b[1;36m  Cell \u001b[1;32mIn[1], line 1\u001b[1;36m\u001b[0m\n\u001b[1;33m    len() = __len__\u001b[0m\n\u001b[1;37m    ^\u001b[0m\n\u001b[1;31mSyntaxError\u001b[0m\u001b[1;31m:\u001b[0m cannot assign to function call here. Maybe you meant '==' instead of '='?\n"
     ]
    }
   ],
   "source": [
    "len() = __len__"
   ]
  }
 ],
 "metadata": {
  "kernelspec": {
   "display_name": "Python 3",
   "language": "python",
   "name": "python3"
  },
  "language_info": {
   "codemirror_mode": {
    "name": "ipython",
    "version": 3
   },
   "file_extension": ".py",
   "mimetype": "text/x-python",
   "name": "python",
   "nbconvert_exporter": "python",
   "pygments_lexer": "ipython3",
   "version": "3.10.4"
  }
 },
 "nbformat": 4,
 "nbformat_minor": 2
}
