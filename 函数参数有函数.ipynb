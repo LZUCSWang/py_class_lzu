{
 "cells": [
  {
   "cell_type": "code",
   "execution_count": 2,
   "metadata": {},
   "outputs": [
    {
     "data": {
      "text/plain": [
       "11"
      ]
     },
     "execution_count": 2,
     "metadata": {},
     "output_type": "execute_result"
    }
   ],
   "source": [
    "# 函数式风格\n",
    "def f1(x, y): return x if x % 2 else x+y\n",
    "def f2(x, y): return x*y-1\n",
    "def f2(x: int, y: int) -> int: return x*y-1  # 类型注解，只是注解，不会做类型检查\n",
    "\n",
    "\n",
    "f2(3, 4)"
   ]
  },
  {
   "cell_type": "code",
   "execution_count": 3,
   "metadata": {},
   "outputs": [
    {
     "data": {
      "text/plain": [
       "([3, 8, 5, 10, 7, 12, 9], [11, 15, 19, 23, 27, 31, 35])"
      ]
     },
     "execution_count": 3,
     "metadata": {},
     "output_type": "execute_result"
    }
   ],
   "source": [
    "def myapply(ff, data, z=3): return [ff(x, z) for x in data if x > 2]\n",
    "\n",
    "\n",
    "data = range(10)\n",
    "myapply(f1, data, 4), myapply(f2, data, 4)"
   ]
  },
  {
   "cell_type": "code",
   "execution_count": 30,
   "metadata": {},
   "outputs": [
    {
     "name": "stdout",
     "output_type": "stream",
     "text": [
      "True\n"
     ]
    },
    {
     "data": {
      "text/plain": [
       "[1, 4, 9, 16]"
      ]
     },
     "execution_count": 30,
     "metadata": {},
     "output_type": "execute_result"
    }
   ],
   "source": [
    "# 常见的高阶函数\n",
    "data = [1, 2, 3, 4]\n",
    "def ff(x): return x**2\n",
    "\n",
    "\n",
    "print([*map(ff, data)] == [ff(x) for x in data])\n",
    "[*map(ff, data)]\n",
    "list(map(ff, data))"
   ]
  },
  {
   "cell_type": "code",
   "execution_count": 5,
   "metadata": {},
   "outputs": [
    {
     "data": {
      "text/plain": [
       "[1, 3]"
      ]
     },
     "execution_count": 5,
     "metadata": {},
     "output_type": "execute_result"
    }
   ],
   "source": [
    "def f(x): return x % 2\n",
    "\n",
    "\n",
    "[*filter(f, data)]"
   ]
  },
  {
   "cell_type": "markdown",
   "metadata": {},
   "source": [
    "sort\n"
   ]
  },
  {
   "cell_type": "code",
   "execution_count": 32,
   "metadata": {},
   "outputs": [
    {
     "name": "stdout",
     "output_type": "stream",
     "text": [
      ". W\n"
     ]
    },
    {
     "data": {
      "text/plain": [
       "' a=#ttWWddd,&df,x='"
      ]
     },
     "execution_count": 32,
     "metadata": {},
     "output_type": "execute_result"
    }
   ],
   "source": [
    "\n",
    "from functools import reduce\n",
    "s = ' a=0ttW.ddd,sdf,xbb'\n",
    "f = [('.', 'W'), ('s', '&'), ('0', '#'), ('bb', '=')]\n",
    "# 一行代码实现替换\n",
    "print(*('.', 'W'))\n",
    "reduce(lambda x, y: x.replace(*y), f, s)\n",
    "# reduce(lambda x, y: y.replace(*x), f, s)"
   ]
  },
  {
   "cell_type": "code",
   "execution_count": 7,
   "metadata": {},
   "outputs": [
    {
     "data": {
      "text/plain": [
       "10"
      ]
     },
     "execution_count": 7,
     "metadata": {},
     "output_type": "execute_result"
    }
   ],
   "source": [
    "def ff(x, y): return x+y\n",
    "\n",
    "\n",
    "x = data[0]\n",
    "for y in data[1:]:\n",
    "    x = ff(x, y)\n",
    "x"
   ]
  },
  {
   "cell_type": "markdown",
   "metadata": {},
   "source": [
    "# 装饰器\n"
   ]
  },
  {
   "cell_type": "code",
   "execution_count": 8,
   "metadata": {},
   "outputs": [
    {
     "data": {
      "text/plain": [
       "(12, 36)"
      ]
     },
     "execution_count": 8,
     "metadata": {},
     "output_type": "execute_result"
    }
   ],
   "source": [
    "def f2(x): return x*x\n",
    "def f3(x): return x+x\n",
    "def f1(x): return f2 if x else f3\n",
    "\n",
    "\n",
    "f1(2)(10)\n",
    "ff1 = f1(0)\n",
    "ff2 = f1(1)\n",
    "ff1(6), ff2(6)"
   ]
  },
  {
   "cell_type": "code",
   "execution_count": 34,
   "metadata": {},
   "outputs": [
    {
     "data": {
      "text/plain": [
       "20"
      ]
     },
     "execution_count": 34,
     "metadata": {},
     "output_type": "execute_result"
    }
   ],
   "source": [
    "# 返回内置函数\n",
    "def f1(x):\n",
    "    def f2(y): return x*y\n",
    "    return f2\n",
    "\n",
    "\n",
    "ff = f1(2)\n",
    "ff(10)"
   ]
  },
  {
   "cell_type": "markdown",
   "metadata": {},
   "source": [
    "## 偏函数\n"
   ]
  },
  {
   "cell_type": "code",
   "execution_count": 10,
   "metadata": {},
   "outputs": [],
   "source": [
    "import time\n",
    "ts = time.sleep\n",
    "get_time = time.perf_counter  # 获取时间\n",
    "def pp(x): print('运行时间', int(1000*get_time()-x))\n",
    "def f1(): print('f1 run'); ts(0.2)\n",
    "def f2(): print('f2 run'); ts(0.8)\n",
    "def f3(): print('f3 run'); ts(0.5)"
   ]
  },
  {
   "cell_type": "code",
   "execution_count": 11,
   "metadata": {},
   "outputs": [
    {
     "name": "stdout",
     "output_type": "stream",
     "text": [
      "f1 run\n",
      "运行时间 77816187\n",
      "f2 run\n"
     ]
    },
    {
     "name": "stdout",
     "output_type": "stream",
     "text": [
      "运行时间 77817002\n",
      "f3 run\n",
      "运行时间 77817502\n"
     ]
    },
    {
     "data": {
      "text/plain": [
       "(None, None, None)"
      ]
     },
     "execution_count": 11,
     "metadata": {},
     "output_type": "execute_result"
    }
   ],
   "source": [
    "def timeff(f):\n",
    "    t = get_time()\n",
    "    f()\n",
    "    pp(t)\n",
    "\n",
    "\n",
    "timeff(f1), timeff(f2), timeff(f3)"
   ]
  },
  {
   "cell_type": "code",
   "execution_count": 12,
   "metadata": {},
   "outputs": [],
   "source": [
    "# 装饰器\n",
    "def timeit(f):  # 这个装饰器只能装饰无参数函数，f，因为wrapper没有参数\n",
    "    def wrapper():\n",
    "        t = get_time()\n",
    "        f()\n",
    "        pp(t)\n",
    "    return wrapper"
   ]
  },
  {
   "cell_type": "code",
   "execution_count": 35,
   "metadata": {},
   "outputs": [
    {
     "name": "stdout",
     "output_type": "stream",
     "text": [
      "f4 run\n",
      "运行时间 80581798\n",
      "f4 run\n",
      "运行时间 80582798\n"
     ]
    }
   ],
   "source": [
    "def f4(): print('f4 run'); ts(1)\n",
    "\n",
    "\n",
    "timeit(f4)()\n",
    "ff = timeit(f4)\n",
    "ff()"
   ]
  },
  {
   "cell_type": "code",
   "execution_count": 14,
   "metadata": {},
   "outputs": [
    {
     "name": "stdout",
     "output_type": "stream",
     "text": [
      "start\n",
      "do timeit2\n",
      "f5 run\n",
      "运行时间 77818188\n"
     ]
    }
   ],
   "source": [
    "# 先调用timeit里面的wrapper，再在wrapper里面调用timeit里面的wrapper，再在wrapper里面调用f5\n",
    "def timeit2(f):\n",
    "    def wrapper():\n",
    "        print(\"do timeit2\")\n",
    "        f()\n",
    "    return wrapper\n",
    "\n",
    "\n",
    "def timeit(f):  # 这个装饰器只能装饰无参数函数，f，因为wrapper没有参数\n",
    "    def wrapper():\n",
    "        t = get_time()\n",
    "        f()\n",
    "        pp(t)\n",
    "    return wrapper\n",
    "\n",
    "\n",
    "# 装饰器的执行顺序，从下往上\n",
    "print(\"start\")\n",
    "@timeit2\n",
    "@timeit\n",
    "def f5(): print(\"f5 run\"); ts(0.2)\n",
    "\n",
    "# timeit2(timeit(f5))()\n",
    "f5()"
   ]
  },
  {
   "cell_type": "code",
   "execution_count": 40,
   "metadata": {},
   "outputs": [
    {
     "name": "stdout",
     "output_type": "stream",
     "text": [
      "['1', '3', '5']\n",
      "{}\n",
      "运行时间 80955768\n",
      "1 2\n",
      "{'z': 2, 'w': 4}\n",
      "运行时间 80955876\n",
      "\n",
      "{}\n",
      "运行时间 80956079\n"
     ]
    },
    {
     "data": {
      "text/plain": [
       "('1-3-5', 16, 'ok')"
      ]
     },
     "execution_count": 40,
     "metadata": {},
     "output_type": "execute_result"
    }
   ],
   "source": [
    "def timeit(func):\n",
    "    def wrapper(*args, **kwargs):\n",
    "        t = get_time()\n",
    "        # print(*args, **kwargs)\n",
    "        print(*args)\n",
    "        print(kwargs)\n",
    "        res = func(*args, **kwargs)\n",
    "        pp(t)\n",
    "        return res\n",
    "    return wrapper\n",
    "\n",
    "\n",
    "@timeit\n",
    "def test1(xlist):\n",
    "    ts(0.5)\n",
    "    return '-'.join(xlist)\n",
    "\n",
    "\n",
    "@timeit\n",
    "def test2(x, y, z, w):\n",
    "    ts(0.1)\n",
    "    return x*y*z*w\n",
    "\n",
    "\n",
    "@timeit\n",
    "def test3():\n",
    "    ts(0.2)\n",
    "    return 'ok'\n",
    "\n",
    "\n",
    "#\n",
    "test1(['1', '3', '5']), test2(1, 2, z=2, w=4), test3()"
   ]
  },
  {
   "cell_type": "code",
   "execution_count": 16,
   "metadata": {},
   "outputs": [
    {
     "data": {
      "text/plain": [
       "'<!DOCTYPE html>\\r\\n<!--STATUS OK--><html> <head><meta http-equiv=content-type content=text/html;charse'"
      ]
     },
     "execution_count": 16,
     "metadata": {},
     "output_type": "execute_result"
    }
   ],
   "source": [
    "import requests\n",
    "u1 = 'https://www.baidu.com'\n",
    "requests.get(u1).text[:100]"
   ]
  },
  {
   "cell_type": "code",
   "execution_count": 42,
   "metadata": {},
   "outputs": [
    {
     "name": "stdout",
     "output_type": "stream",
     "text": [
      " crwal  1\n",
      " crwal  2\n",
      " crwal  3\n",
      " crwal  4\n",
      "bad task\n"
     ]
    },
    {
     "data": {
      "text/plain": [
       "('<!DOCTYPE html>\\r\\n<!--STATUS OK--><html> <head><meta http-equiv=content-type content=text/html;charset=utf-8><meta http-equiv=X-UA-Compatible content=IE=Edge><meta content=always name=referrer><link rel=stylesheet type=text/css href=https://ss1.bdstatic.com/5eN1bjq8AAUYm2zgoY3K/r/www/cache/bdorz/baidu.min.css><title>ç\\x99¾åº¦ä¸\\x80ä¸\\x8bï¼\\x8cä½\\xa0å°±ç\\x9f¥é\\x81\\x93</title></head> <body link=#0000cc> <div id=wrapper> <div id=head> <div class=head_wrapper> <div class=s_form> <div class=s_form_wrapper> <div id=lg> <img hidefocus=true src=//www.baidu.com/img/bd_logo1.png width=270 height=129> </div> <form id=form name=f action=//www.baidu.com/s class=fm> <input type=hidden name=bdorz_come value=1> <input type=hidden name=ie value=utf-8> <input type=hidden name=f value=8> <input type=hidden name=rsv_bp value=1> <input type=hidden name=rsv_idx value=1> <input type=hidden name=tn value=baidu><span class=\"bg s_ipt_wr\"><input id=kw name=wd class=s_ipt value maxlength=255 autocomplete=off autofocus=autofocus></span><s',\n",
       " 0)"
      ]
     },
     "execution_count": 42,
     "metadata": {},
     "output_type": "execute_result"
    }
   ],
   "source": [
    "def try_counter(cc):  # 装饰器工厂，返回装饰器\n",
    "    def wrapper1(func):  # 装饰器，接受func作为参数，返回wrapper\n",
    "        def wrapper(*args, **kwargs):\n",
    "            c = 0\n",
    "            while True:\n",
    "                try:\n",
    "                    res = func(*args, **kwargs)\n",
    "                    return res\n",
    "                except:\n",
    "                    c += 1\n",
    "                    print(' crwal ', c)\n",
    "                    if c < cc:\n",
    "                        ts(0.2)\n",
    "                        continue\n",
    "                    print('bad task')\n",
    "                    return 0\n",
    "        return wrapper\n",
    "    return wrapper1\n",
    "\n",
    "\n",
    "@try_counter(4)\n",
    "def getweb(url):\n",
    "    return requests.get(url).text[:1000]\n",
    "\n",
    "\n",
    "u2 = 'google.com'\n",
    "# try_counter(4)(getweb)(u2)\n",
    "getweb(u1),getweb(u2)"
   ]
  },
  {
   "cell_type": "code",
   "execution_count": 43,
   "metadata": {},
   "outputs": [
    {
     "data": {
      "text/plain": [
       "'<!DOCTYPE html>\\r\\n<!--STATUS OK--><html> <head><meta http-equiv=content-type content=text/html;charse'"
      ]
     },
     "execution_count": 43,
     "metadata": {},
     "output_type": "execute_result"
    }
   ],
   "source": [
    "@try_counter(4)\n",
    "def getweb(url):\n",
    "    return requests.get(url).text[:100]\n",
    "\n",
    "\n",
    "getweb(u1)"
   ]
  },
  {
   "cell_type": "code",
   "execution_count": 19,
   "metadata": {},
   "outputs": [
    {
     "data": {
      "text/plain": [
       "'<!DOCTYPE html>\\r\\n<!--STATUS OK--><html> <head><meta http-equiv=content-type content=text/html;charse'"
      ]
     },
     "execution_count": 19,
     "metadata": {},
     "output_type": "execute_result"
    }
   ],
   "source": [
    "tt = try_counter(2)\n",
    "\n",
    "\n",
    "@tt\n",
    "def getweb(url):\n",
    "    return requests.get(url).text[:100]\n",
    "\n",
    "\n",
    "getweb(u1)"
   ]
  },
  {
   "cell_type": "code",
   "execution_count": 20,
   "metadata": {},
   "outputs": [
    {
     "data": {
      "text/plain": [
       "'<b>HELLO, LZU XGY</b>'"
      ]
     },
     "execution_count": 20,
     "metadata": {},
     "output_type": "execute_result"
    }
   ],
   "source": [
    "# case :生成标记文本\n",
    "def makeblod(f):\n",
    "    def inner(s): return '<b>'+f(s)+'</b>'\n",
    "    return inner\n",
    "\n",
    "\n",
    "def makeitalic(f):\n",
    "    def inner(s): return '<i>'+f(s)+'</i>'\n",
    "    return inner\n",
    "\n",
    "\n",
    "@makeblod\n",
    "def makeTxt(s): return s.upper()\n",
    "\n",
    "\n",
    "makeTxt('hello, lzu XGY')"
   ]
  },
  {
   "cell_type": "markdown",
   "metadata": {},
   "source": [
    "## 函数分析工具箱：调试阶段测试性能，写日志，算资源利用等等\n"
   ]
  },
  {
   "cell_type": "code",
   "execution_count": 21,
   "metadata": {},
   "outputs": [
    {
     "name": "stdout",
     "output_type": "stream",
     "text": [
      "https://www.baidu.com 2443\n",
      "https://www.163.com 235\n",
      "https://www.sina.com.cn 417572\n"
     ]
    }
   ],
   "source": [
    "import requests\n",
    "\n",
    "\n",
    "def getweb(url):\n",
    "    try:\n",
    "        return len(requests.get(url).text)\n",
    "    except:\n",
    "        return 0\n",
    "\n",
    "\n",
    "for url in {\n",
    "    'https://www.baidu.com',\n",
    "    'https://www.sina.com.cn',\n",
    "    'https://www.163.com',\n",
    "}:\n",
    "    print(url, getweb(url))"
   ]
  },
  {
   "cell_type": "code",
   "execution_count": 45,
   "metadata": {},
   "outputs": [
    {
     "name": "stdout",
     "output_type": "stream",
     "text": [
      " write log.txt.....\n",
      "第1次执行\n",
      "运行时间 81494507\n",
      "https://www.baidu.com 2443\n",
      " write log.txt.....\n",
      "第2次执行\n",
      "运行时间 81494915\n",
      "https://www.163.com 235\n",
      " write log.txt.....\n",
      "第3次执行\n",
      "运行时间 81495773\n",
      "https://www.sina.com.cn 417368\n"
     ]
    }
   ],
   "source": [
    "import requests\n",
    "\n",
    "\n",
    "def benchmark(ff):\n",
    "    '''\n",
    "    执行时间计算\n",
    "    '''\n",
    "    def wrapper(*args, **kwargs):\n",
    "        # wrapper.count += 1\n",
    "        t = get_time()\n",
    "        res = ff(*args, **kwargs)\n",
    "        pp(t)\n",
    "        return res\n",
    "    return wrapper\n",
    "\n",
    "\n",
    "def counter(ff):\n",
    "    '''\n",
    "    计算执行次数\n",
    "    '''\n",
    "    def wrapper(*args, **kwargs):\n",
    "        wrapper.count += 1\n",
    "        print(f\"第{wrapper.count}次执行\")\n",
    "        return ff(*args, **kwargs)\n",
    "    wrapper.count = 0\n",
    "    return wrapper\n",
    "\n",
    "\n",
    "def logging(log_file):\n",
    "    '''\n",
    "    记录执行日志\n",
    "    '''\n",
    "    def wrapper1(ff):\n",
    "        def wrapper(*args, **kwargs):\n",
    "            # 把函数名，当前时间，写到logfile\n",
    "            print(f\" write {log_file}.....\")\n",
    "            return ff(*args, **kwargs)\n",
    "        return wrapper\n",
    "    return wrapper1\n",
    "\n",
    "\n",
    "@logging('log.txt')\n",
    "@benchmark\n",
    "@counter\n",
    "def getweb(url):\n",
    "    return len(requests.get(url).text)\n",
    "\n",
    "\n",
    "for url in {\n",
    "    'https://www.baidu.com',\n",
    "    'https://www.sina.com.cn',\n",
    "    'https://www.163.com',\n",
    "}:\n",
    "    print(url, getweb(url))"
   ]
  },
  {
   "cell_type": "code",
   "execution_count": 50,
   "metadata": {},
   "outputs": [
    {
     "name": "stdout",
     "output_type": "stream",
     "text": [
      "1000\n"
     ]
    }
   ],
   "source": [
    "def ff(): ff.count += 1; print(ff.count)\n",
    "\n",
    "\n",
    "ff.cc = 0\n",
    "ff.count = 999\n",
    "ff.__dict__\n"
   ]
  },
  {
   "cell_type": "code",
   "execution_count": 61,
   "metadata": {},
   "outputs": [
    {
     "name": "stdout",
     "output_type": "stream",
     "text": [
      "1011\n"
     ]
    }
   ],
   "source": [
    "ff()"
   ]
  },
  {
   "cell_type": "code",
   "execution_count": 24,
   "metadata": {},
   "outputs": [
    {
     "name": "stdout",
     "output_type": "stream",
     "text": [
      "第1次执行\n",
      " write log.txt.....\n",
      "运行时间 77833321\n",
      "https://www.baidu.com 15255\n",
      "第2次执行\n",
      " write log.txt.....\n",
      "运行时间 77834144\n",
      "https://www.163.com 235\n",
      "第3次执行\n",
      " write log.txt.....\n",
      "运行时间 77835050\n",
      "https://www.sina.com.cn 417572\n"
     ]
    }
   ],
   "source": [
    "import requests\n",
    "\n",
    "\n",
    "def getweb(url):\n",
    "    return len(requests.get(url).text)\n",
    "\n",
    "\n",
    "def benchmark(ff):\n",
    "    def wrapper(*args, **kwargs):\n",
    "        t = get_time()\n",
    "        res = ff(*args, **kwargs)\n",
    "        pp(t)\n",
    "        return res\n",
    "    return wrapper\n",
    "\n",
    "\n",
    "def counter(ff):\n",
    "    def wrapper(*args, **kwargs):\n",
    "        wrapper.count += 1\n",
    "        print(f\"第{wrapper.count}次执行\")\n",
    "        return ff(*args, **kwargs)\n",
    "    wrapper.count = 0\n",
    "    return wrapper\n",
    "\n",
    "\n",
    "def logging(log_file):\n",
    "    def wrapper1(ff):\n",
    "        def wrapper(*args, **kwargs):\n",
    "            print(f\" write {log_file}.....\")\n",
    "            return ff(*args, **kwargs)\n",
    "        return wrapper\n",
    "    return wrapper1\n",
    "\n",
    "\n",
    "# 使用高阶函数替代装饰器\n",
    "logged_getweb = logging('log.txt')(getweb)\n",
    "benchmarked_getweb = benchmark(logged_getweb)\n",
    "counted_getweb = counter(benchmarked_getweb)\n",
    "\n",
    "for url in {\n",
    "    'https://www.baidu.com',\n",
    "    'https://www.sina.com.cn',\n",
    "    'https://www.163.com',\n",
    "}:\n",
    "    print(url, counted_getweb(url))"
   ]
  }
 ],
 "metadata": {
  "kernelspec": {
   "display_name": "Python 3",
   "language": "python",
   "name": "python3"
  },
  "language_info": {
   "codemirror_mode": {
    "name": "ipython",
    "version": 3
   },
   "file_extension": ".py",
   "mimetype": "text/x-python",
   "name": "python",
   "nbconvert_exporter": "python",
   "pygments_lexer": "ipython3",
   "version": "3.10.4"
  }
 },
 "nbformat": 4,
 "nbformat_minor": 2
}
