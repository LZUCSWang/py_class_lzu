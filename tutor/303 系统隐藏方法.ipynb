{
 "cells": [
  {
   "cell_type": "code",
   "execution_count": 1,
   "metadata": {},
   "outputs": [],
   "source": [
    "from IPython.core.interactiveshell import InteractiveShell\n",
    "InteractiveShell.ast_node_interactivity = \"all\""
   ]
  },
  {
   "cell_type": "code",
   "execution_count": 2,
   "metadata": {},
   "outputs": [],
   "source": [
    "# 5个隐藏方法，引用计数机制\n",
    "class Person:\n",
    "    def __init__(self,n) -> None:\n",
    "        self.name = n\n",
    "        print(f\"{n}来了...\") # 构造函数\n",
    "    def __del__(self):\n",
    "        print(f\"{self.name}走了...\")\n",
    "    def __str__(self):\n",
    "        return \"_str_\"+f\"{self.name}\"\n",
    "    def __repr__(self):\n",
    "        return f\"repr:\"+str(id(self))\n",
    "    def __call__(self,x,y):\n",
    "        # return f\"{self.name}被调用了\"\n",
    "        return x+y\n",
    "\n",
    "\n"
   ]
  },
  {
   "cell_type": "code",
   "execution_count": 3,
   "metadata": {},
   "outputs": [],
   "source": [
    "cc = 0"
   ]
  },
  {
   "cell_type": "code",
   "execution_count": 4,
   "metadata": {},
   "outputs": [
    {
     "name": "stdout",
     "output_type": "stream",
     "text": [
      "张三来了...\n"
     ]
    },
    {
     "data": {
      "text/plain": [
       "5"
      ]
     },
     "execution_count": 4,
     "metadata": {},
     "output_type": "execute_result"
    }
   ],
   "source": [
    "v = Person(\"张三\")\n",
    "v(2,3)"
   ]
  },
  {
   "cell_type": "code",
   "execution_count": 5,
   "metadata": {},
   "outputs": [
    {
     "name": "stdout",
     "output_type": "stream",
     "text": [
      "小明1来了...\n",
      "_str_小明1\n"
     ]
    },
    {
     "data": {
      "text/plain": [
       "repr:1949519166768"
      ]
     },
     "execution_count": 5,
     "metadata": {},
     "output_type": "execute_result"
    }
   ],
   "source": [
    "cc += 1\n",
    "b = Person(f\"小明{cc}\") # 重名的变量，后面的会覆盖前面的\n",
    "print(b)\n",
    "b"
   ]
  },
  {
   "cell_type": "code",
   "execution_count": 6,
   "metadata": {},
   "outputs": [
    {
     "name": "stdout",
     "output_type": "stream",
     "text": [
      "小李来了...\n"
     ]
    }
   ],
   "source": [
    "c = Person(\"小李\")"
   ]
  },
  {
   "cell_type": "code",
   "execution_count": 7,
   "metadata": {},
   "outputs": [
    {
     "name": "stdout",
     "output_type": "stream",
     "text": [
      "小李走了...\n"
     ]
    }
   ],
   "source": [
    "del c \n"
   ]
  },
  {
   "cell_type": "code",
   "execution_count": 8,
   "metadata": {},
   "outputs": [
    {
     "name": "stdout",
     "output_type": "stream",
     "text": [
      "小张来了...\n",
      "小张走了...\n"
     ]
    }
   ],
   "source": [
    "def ff():\n",
    "    a = Person(\"小张\")\n",
    "\n",
    "ff()\n",
    "    "
   ]
  },
  {
   "cell_type": "code",
   "execution_count": 9,
   "metadata": {},
   "outputs": [
    {
     "name": "stdout",
     "output_type": "stream",
     "text": [
      "小王来了...\n"
     ]
    }
   ],
   "source": [
    "def ff(d):\n",
    "    pass\n",
    "f = Person(\"小王\")\n",
    "ff(f) #ff函数执行完毕，f的引用计数减1，但是f还在，所以不会调用__del__方法"
   ]
  },
  {
   "cell_type": "code",
   "execution_count": 10,
   "metadata": {},
   "outputs": [
    {
     "name": "stdout",
     "output_type": "stream",
     "text": [
      "小李来了...\n"
     ]
    }
   ],
   "source": [
    "s1 = Person(\"小李\")\n",
    "s2 = s1\n",
    "s3 = s1"
   ]
  },
  {
   "cell_type": "code",
   "execution_count": 11,
   "metadata": {},
   "outputs": [],
   "source": [
    "del s1"
   ]
  },
  {
   "cell_type": "code",
   "execution_count": 12,
   "metadata": {},
   "outputs": [],
   "source": [
    "del s2"
   ]
  },
  {
   "cell_type": "code",
   "execution_count": 13,
   "metadata": {},
   "outputs": [
    {
     "name": "stdout",
     "output_type": "stream",
     "text": [
      "小李走了...\n"
     ]
    }
   ],
   "source": [
    "del s3 # 调用__del__方法，引用计数为0，销毁对象（释放内存）"
   ]
  },
  {
   "cell_type": "code",
   "execution_count": null,
   "metadata": {},
   "outputs": [],
   "source": []
  }
 ],
 "metadata": {
  "kernelspec": {
   "display_name": "Python 3",
   "language": "python",
   "name": "python3"
  },
  "language_info": {
   "codemirror_mode": {
    "name": "ipython",
    "version": 3
   },
   "file_extension": ".py",
   "mimetype": "text/x-python",
   "name": "python",
   "nbconvert_exporter": "python",
   "pygments_lexer": "ipython3",
   "version": "3.10.4"
  }
 },
 "nbformat": 4,
 "nbformat_minor": 2
}
