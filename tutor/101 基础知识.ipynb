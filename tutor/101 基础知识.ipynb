{
 "cells": [
  {
   "cell_type": "markdown",
   "id": "935de54a",
   "metadata": {},
   "source": [
    "### 101 基础基础知识\n",
    "使用以下代码安装jupyter notebook插件\n",
    "\n",
    "```\n",
    "pip install jupyter_contrib_nbextensions\n",
    "jupyter contrib nbextension install --user\n",
    "jupyter nbextension enable codefolding/main\n",
    "```\n",
    "MarkDown语法\n",
    "$$ y = a + b^2_{i*j} $$"
   ]
  },
  {
   "cell_type": "code",
   "execution_count": 1,
   "id": "62c70906",
   "metadata": {
    "code_folding": []
   },
   "outputs": [],
   "source": [
    "from IPython.core.interactiveshell import InteractiveShell\n",
    "InteractiveShell.ast_node_interactivity = \"all\""
   ]
  },
  {
   "cell_type": "code",
   "execution_count": 2,
   "id": "8d2b095f",
   "metadata": {},
   "outputs": [
    {
     "name": "stdout",
     "output_type": "stream",
     "text": [
      "no\n",
      "&&&&&&&&&&&&&&&&&&&&\n",
      "over\n"
     ]
    }
   ],
   "source": [
    "n = 1\n",
    "# 条件判断\n",
    "if n == 2:\n",
    "    print(\"yes\")\n",
    "    print('='*20)\n",
    "else:\n",
    "    print('no')\n",
    "    print('&'*20)\n",
    "print('over')"
   ]
  },
  {
   "cell_type": "code",
   "execution_count": 3,
   "id": "5b17d480",
   "metadata": {},
   "outputs": [
    {
     "data": {
      "text/plain": [
       "['False',\n",
       " 'None',\n",
       " 'True',\n",
       " 'and',\n",
       " 'as',\n",
       " 'assert',\n",
       " 'async',\n",
       " 'await',\n",
       " 'break',\n",
       " 'class',\n",
       " 'continue',\n",
       " 'def',\n",
       " 'del',\n",
       " 'elif',\n",
       " 'else',\n",
       " 'except',\n",
       " 'finally',\n",
       " 'for',\n",
       " 'from',\n",
       " 'global',\n",
       " 'if',\n",
       " 'import',\n",
       " 'in',\n",
       " 'is',\n",
       " 'lambda',\n",
       " 'nonlocal',\n",
       " 'not',\n",
       " 'or',\n",
       " 'pass',\n",
       " 'raise',\n",
       " 'return',\n",
       " 'try',\n",
       " 'while',\n",
       " 'with',\n",
       " 'yield']"
      ]
     },
     "execution_count": 3,
     "metadata": {},
     "output_type": "execute_result"
    }
   ],
   "source": [
    "import keyword # 导入关键字模块\n",
    "keyword.kwlist"
   ]
  },
  {
   "cell_type": "markdown",
   "id": "708d772c",
   "metadata": {},
   "source": [
    "### 简单语法"
   ]
  },
  {
   "cell_type": "code",
   "execution_count": 4,
   "id": "02fc2c5d",
   "metadata": {},
   "outputs": [
    {
     "data": {
      "text/plain": [
       "6"
      ]
     },
     "execution_count": 4,
     "metadata": {},
     "output_type": "execute_result"
    },
    {
     "data": {
      "text/plain": [
       "29.400000000000002"
      ]
     },
     "execution_count": 4,
     "metadata": {},
     "output_type": "execute_result"
    },
    {
     "data": {
      "text/plain": [
       "'lzulzulzu'"
      ]
     },
     "execution_count": 4,
     "metadata": {},
     "output_type": "execute_result"
    },
    {
     "data": {
      "text/plain": [
       "'兰州大学兰州大学兰州大学'"
      ]
     },
     "execution_count": 4,
     "metadata": {},
     "output_type": "execute_result"
    }
   ],
   "source": [
    "n = 2\n",
    "n * 3\n",
    "n = 9.8\n",
    "n*3\n",
    "n = 'lzu'\n",
    "n*3\n",
    "我的大学 = '兰州大学'\n",
    "我的大学*3"
   ]
  },
  {
   "cell_type": "code",
   "execution_count": 6,
   "id": "c73d5b99",
   "metadata": {},
   "outputs": [
    {
     "data": {
      "text/plain": [
       "[1, 2, 3]"
      ]
     },
     "execution_count": 6,
     "metadata": {},
     "output_type": "execute_result"
    },
    {
     "data": {
      "text/plain": [
       "[1, 2, 'lzu']"
      ]
     },
     "execution_count": 6,
     "metadata": {},
     "output_type": "execute_result"
    },
    {
     "data": {
      "text/plain": [
       "[1, 5, True, 'lzu']"
      ]
     },
     "execution_count": 6,
     "metadata": {},
     "output_type": "execute_result"
    },
    {
     "data": {
      "text/plain": [
       "[1, <function __main__.<lambda>(x)>, 'lzu']"
      ]
     },
     "execution_count": 6,
     "metadata": {},
     "output_type": "execute_result"
    },
    {
     "data": {
      "text/plain": [
       "3"
      ]
     },
     "execution_count": 6,
     "metadata": {},
     "output_type": "execute_result"
    }
   ],
   "source": [
    "n = [1, 2, 3]\n",
    "n = [1, 2, 'lzu']\n",
    "n = [1, 2+3, 2 < 3, 'lzu']\n",
    "n = [1, lambda x:(x*2, x-1), 'lzu']\n",
    "n[1](4)[1]  # 我们知道n是一个列表，而n[1]是第二个元素，(4)是传输的参数，[1]代表取第二个返回值"
   ]
  },
  {
   "cell_type": "code",
   "execution_count": 7,
   "id": "92355c86",
   "metadata": {},
   "outputs": [
    {
     "data": {
      "text/plain": [
       "(1, 3, 2)"
      ]
     },
     "execution_count": 7,
     "metadata": {},
     "output_type": "execute_result"
    }
   ],
   "source": [
    "a, b = 1, 2\n",
    "a, b = b, a\n",
    "a, b\n",
    "c = 3\n",
    "a, b, c = b, c, a\n",
    "a, b, c"
   ]
  },
  {
   "cell_type": "code",
   "execution_count": 7,
   "id": "ba9c863e",
   "metadata": {},
   "outputs": [
    {
     "data": {
      "text/plain": [
       "'\\npython good\\njava good\\nc++ good\\nstudy well just good\\n'"
      ]
     },
     "execution_count": 7,
     "metadata": {},
     "output_type": "execute_result"
    },
    {
     "data": {
      "text/plain": [
       "'\\npython good\\njava good\\nc++ good\\nstudy well just good\\n'"
      ]
     },
     "execution_count": 7,
     "metadata": {},
     "output_type": "execute_result"
    },
    {
     "name": "stdout",
     "output_type": "stream",
     "text": [
      "\n",
      "python good\n",
      "java good\n",
      "c++ good\n",
      "study well just good\n",
      "\n"
     ]
    }
   ],
   "source": [
    "# 这是一个表达式\n",
    "n = 1  # 行内说明\n",
    "\"\"\"\n",
    "python good\n",
    "java good\n",
    "c++ good\n",
    "study well just good\n",
    "\"\"\"\n",
    "\n",
    "s = '''\n",
    "python good\n",
    "java good\n",
    "c++ good\n",
    "study well just good\n",
    "'''\n",
    "s\n",
    "print(s)"
   ]
  },
  {
   "cell_type": "code",
   "execution_count": 11,
   "id": "744dae67",
   "metadata": {},
   "outputs": [
    {
     "data": {
      "text/plain": [
       "961"
      ]
     },
     "execution_count": 11,
     "metadata": {},
     "output_type": "execute_result"
    },
    {
     "data": {
      "text/plain": [
       "961"
      ]
     },
     "execution_count": 11,
     "metadata": {},
     "output_type": "execute_result"
    }
   ],
   "source": [
    "# 这是一个表达式, 但是我们可以用\\来换行\n",
    "s = 2*3\\\n",
    "    + (607+111*3)+max(4, 3)\\\n",
    "    + 2**3\\\n",
    "    + 6//2\n",
    "s\n",
    "# 但是如果是在括号内，就不需要加\\了\n",
    "s = (2*3\n",
    "     + (607+111*3)+max(4, 3)\n",
    "     + 2**3\n",
    "     + 6//2)\n",
    "s"
   ]
  },
  {
   "cell_type": "markdown",
   "id": "7d8d23c2",
   "metadata": {},
   "source": [
    "### 函数"
   ]
  },
  {
   "cell_type": "code",
   "execution_count": 12,
   "id": "1a01adf0",
   "metadata": {},
   "outputs": [
    {
     "data": {
      "text/plain": [
       "5"
      ]
     },
     "execution_count": 12,
     "metadata": {},
     "output_type": "execute_result"
    },
    {
     "data": {
      "text/plain": [
       "'lzu good'"
      ]
     },
     "execution_count": 12,
     "metadata": {},
     "output_type": "execute_result"
    }
   ],
   "source": [
    "# difinition\n",
    "def ff(x, y) -> int:  # return integer/ this is a note, not declaration\n",
    "    return x+y\n",
    "\n",
    "ff(2, 3)\n",
    "ff('lzu ', 'good')"
   ]
  },
  {
   "cell_type": "code",
   "execution_count": 25,
   "id": "b4abbf51",
   "metadata": {},
   "outputs": [
    {
     "data": {
      "text/plain": [
       "(<function max>, <function min>)"
      ]
     },
     "execution_count": 25,
     "metadata": {},
     "output_type": "execute_result"
    },
    {
     "data": {
      "text/plain": [
       "6"
      ]
     },
     "execution_count": 25,
     "metadata": {},
     "output_type": "execute_result"
    },
    {
     "data": {
      "text/plain": [
       "range(0, 10)"
      ]
     },
     "execution_count": 25,
     "metadata": {},
     "output_type": "execute_result"
    },
    {
     "data": {
      "text/plain": [
       "5050"
      ]
     },
     "execution_count": 25,
     "metadata": {},
     "output_type": "execute_result"
    }
   ],
   "source": [
    "#  丰富的内置函数\n",
    "max, min\n",
    "sum([1, 2, 3])\n",
    "range(10)\n",
    "sum(range(101))"
   ]
  },
  {
   "cell_type": "markdown",
   "id": "714b382a",
   "metadata": {},
   "source": [
    "### 查信息"
   ]
  },
  {
   "cell_type": "code",
   "execution_count": 13,
   "id": "3234654c",
   "metadata": {},
   "outputs": [
    {
     "name": "stdout",
     "output_type": "stream",
     "text": [
      "\n",
      "Welcome to Python 3.8's help utility!\n",
      "\n",
      "If this is your first time using Python, you should definitely check out\n",
      "the tutorial on the Internet at https://docs.python.org/3.8/tutorial/.\n",
      "\n",
      "Enter the name of any module, keyword, or topic to get help on writing\n",
      "Python programs and using Python modules.  To quit this help utility and\n",
      "return to the interpreter, just type \"quit\".\n",
      "\n",
      "To get a list of available modules, keywords, symbols, or topics, type\n",
      "\"modules\", \"keywords\", \"symbols\", or \"topics\".  Each module also comes\n",
      "with a one-line summary of what it does; to list the modules whose name\n",
      "or summary contain a given string such as \"spam\", type \"modules spam\".\n",
      "\n",
      "\n",
      "You are now leaving help and returning to the Python interpreter.\n",
      "If you want to ask for help on a particular object directly from the\n",
      "interpreter, you can type \"help(object)\".  Executing \"help('string')\"\n",
      "has the same effect as typing a particular string at the help> prompt.\n"
     ]
    }
   ],
   "source": [
    "help()"
   ]
  },
  {
   "cell_type": "code",
   "execution_count": 31,
   "id": "5d67548a",
   "metadata": {},
   "outputs": [
    {
     "data": {
      "text/plain": [
       "16"
      ]
     },
     "execution_count": 31,
     "metadata": {},
     "output_type": "execute_result"
    }
   ],
   "source": [
    "sum([1, 2, 3], 10)# 10是初始值，如果不写，默认为0，前面的是可迭代对象"
   ]
  },
  {
   "cell_type": "code",
   "execution_count": 14,
   "id": "a9ad8d49",
   "metadata": {},
   "outputs": [
    {
     "data": {
      "text/plain": [
       "['__add__',\n",
       " '__class__',\n",
       " '__contains__',\n",
       " '__delattr__',\n",
       " '__dir__',\n",
       " '__doc__',\n",
       " '__eq__',\n",
       " '__format__',\n",
       " '__ge__',\n",
       " '__getattribute__',\n",
       " '__getitem__',\n",
       " '__getnewargs__',\n",
       " '__gt__',\n",
       " '__hash__',\n",
       " '__init__',\n",
       " '__init_subclass__',\n",
       " '__iter__',\n",
       " '__le__',\n",
       " '__len__',\n",
       " '__lt__',\n",
       " '__mod__',\n",
       " '__mul__',\n",
       " '__ne__',\n",
       " '__new__',\n",
       " '__reduce__',\n",
       " '__reduce_ex__',\n",
       " '__repr__',\n",
       " '__rmod__',\n",
       " '__rmul__',\n",
       " '__setattr__',\n",
       " '__sizeof__',\n",
       " '__str__',\n",
       " '__subclasshook__',\n",
       " 'capitalize',\n",
       " 'casefold',\n",
       " 'center',\n",
       " 'count',\n",
       " 'encode',\n",
       " 'endswith',\n",
       " 'expandtabs',\n",
       " 'find',\n",
       " 'format',\n",
       " 'format_map',\n",
       " 'index',\n",
       " 'isalnum',\n",
       " 'isalpha',\n",
       " 'isascii',\n",
       " 'isdecimal',\n",
       " 'isdigit',\n",
       " 'isidentifier',\n",
       " 'islower',\n",
       " 'isnumeric',\n",
       " 'isprintable',\n",
       " 'isspace',\n",
       " 'istitle',\n",
       " 'isupper',\n",
       " 'join',\n",
       " 'ljust',\n",
       " 'lower',\n",
       " 'lstrip',\n",
       " 'maketrans',\n",
       " 'partition',\n",
       " 'replace',\n",
       " 'rfind',\n",
       " 'rindex',\n",
       " 'rjust',\n",
       " 'rpartition',\n",
       " 'rsplit',\n",
       " 'rstrip',\n",
       " 'split',\n",
       " 'splitlines',\n",
       " 'startswith',\n",
       " 'strip',\n",
       " 'swapcase',\n",
       " 'title',\n",
       " 'translate',\n",
       " 'upper',\n",
       " 'zfill']"
      ]
     },
     "execution_count": 14,
     "metadata": {},
     "output_type": "execute_result"
    },
    {
     "data": {
      "text/plain": [
       "3"
      ]
     },
     "execution_count": 14,
     "metadata": {},
     "output_type": "execute_result"
    },
    {
     "data": {
      "text/plain": [
       "52"
      ]
     },
     "execution_count": 14,
     "metadata": {},
     "output_type": "execute_result"
    },
    {
     "name": "stdout",
     "output_type": "stream",
     "text": [
      "3\n"
     ]
    }
   ],
   "source": [
    "a = 'lzu'\n",
    "dir(a)\n",
    "a.__len__()\n",
    "\n",
    "a.__sizeof__()\n",
    "if '__len__' in dir(a):\n",
    "    print(a.__len__())"
   ]
  },
  {
   "cell_type": "code",
   "execution_count": 40,
   "id": "502a9a25",
   "metadata": {},
   "outputs": [
    {
     "data": {
      "text/plain": [
       "True"
      ]
     },
     "execution_count": 40,
     "metadata": {},
     "output_type": "execute_result"
    },
    {
     "data": {
      "text/plain": [
       "(True, True)"
      ]
     },
     "execution_count": 40,
     "metadata": {},
     "output_type": "execute_result"
    },
    {
     "data": {
      "text/plain": [
       "False"
      ]
     },
     "execution_count": 40,
     "metadata": {},
     "output_type": "execute_result"
    }
   ],
   "source": [
    "a, b = 1, 2\n",
    "a == 1 and b >= 2\n",
    "a == 1 and b >= 2, a == 1 or b >= 2\n",
    "a != 1"
   ]
  },
  {
   "cell_type": "code",
   "execution_count": 42,
   "id": "8d25206f",
   "metadata": {},
   "outputs": [
    {
     "name": "stdout",
     "output_type": "stream",
     "text": [
      "y\n",
      "y\n"
     ]
    }
   ],
   "source": [
    "# 链式表达式\n",
    "y = 5\n",
    "if (9 > y) and (y > 2):\n",
    "    print('y')\n",
    "if (9 > y > 2):\n",
    "    print('y')"
   ]
  },
  {
   "cell_type": "markdown",
   "id": "68b84539",
   "metadata": {},
   "source": [
    "### 多条件判断"
   ]
  },
  {
   "cell_type": "code",
   "execution_count": 45,
   "id": "acc8dbfe",
   "metadata": {},
   "outputs": [
    {
     "data": {
      "text/plain": [
       "(True, False, True)"
      ]
     },
     "execution_count": 45,
     "metadata": {},
     "output_type": "execute_result"
    },
    {
     "data": {
      "text/plain": [
       "(False, False, True)"
      ]
     },
     "execution_count": 45,
     "metadata": {},
     "output_type": "execute_result"
    }
   ],
   "source": [
    "a = [True, False]\n",
    "b = [0, 0, False, False]\n",
    "c = [1, True, 2]\n",
    "any(a), any(b), any(c)  # 有一个真为真\n",
    "all(a), all(b), all(c)  # 有一个假为假"
   ]
  },
  {
   "cell_type": "code",
   "execution_count": 15,
   "id": "4d034ce5",
   "metadata": {},
   "outputs": [
    {
     "name": "stdout",
     "output_type": "stream",
     "text": [
      "ok\n",
      "ok\n"
     ]
    }
   ],
   "source": [
    "a, b, c = 1, 2, 3\n",
    "if (a == 1) and (b != 3) and (c == 3):\n",
    "    print(\"ok\")\n",
    "if all([(a == 1),(b != 3),(c == 3)]):\n",
    "    print(\"ok\")"
   ]
  },
  {
   "cell_type": "code",
   "execution_count": 52,
   "id": "d5f17f11",
   "metadata": {},
   "outputs": [
    {
     "data": {
      "text/plain": [
       "True"
      ]
     },
     "execution_count": 52,
     "metadata": {},
     "output_type": "execute_result"
    },
    {
     "data": {
      "text/plain": [
       "True"
      ]
     },
     "execution_count": 52,
     "metadata": {},
     "output_type": "execute_result"
    }
   ],
   "source": [
    "# 并非所有 and，or表达式组合都要all，any\n",
    "name = \"敦煌\"\n",
    "any([\n",
    "    name == \"武威\",\n",
    "    name == \"张掖\",\n",
    "    name == \"敦煌\",\n",
    "    name == \"酒泉\",\n",
    "])\n",
    "# name in ['武威','张掖','敦煌','酒泉']\n",
    "name in '武威 张掖 敦煌 酒泉'"
   ]
  },
  {
   "cell_type": "code",
   "execution_count": null,
   "id": "267d68c2",
   "metadata": {},
   "outputs": [],
   "source": []
  }
 ],
 "metadata": {
  "kernelspec": {
   "display_name": "Python 3 (ipykernel)",
   "language": "python",
   "name": "python3"
  },
  "language_info": {
   "codemirror_mode": {
    "name": "ipython",
    "version": 3
   },
   "file_extension": ".py",
   "mimetype": "text/x-python",
   "name": "python",
   "nbconvert_exporter": "python",
   "pygments_lexer": "ipython3",
   "version": "3.8.10"
  },
  "toc": {
   "base_numbering": 1,
   "nav_menu": {},
   "number_sections": true,
   "sideBar": true,
   "skip_h1_title": false,
   "title_cell": "Table of Contents",
   "title_sidebar": "Contents",
   "toc_cell": false,
   "toc_position": {},
   "toc_section_display": true,
   "toc_window_display": false
  }
 },
 "nbformat": 4,
 "nbformat_minor": 5
}
