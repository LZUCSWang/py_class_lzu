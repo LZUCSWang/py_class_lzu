{
 "cells": [
  {
   "cell_type": "code",
   "execution_count": 2,
   "id": "33d48e4b",
   "metadata": {},
   "outputs": [
    {
     "name": "stdout",
     "output_type": "stream",
     "text": [
      "hello, world!\n"
     ]
    }
   ],
   "source": [
    "print('hello, world!')"
   ]
  },
  {
   "cell_type": "code",
   "execution_count": 4,
   "id": "e693409c",
   "metadata": {},
   "outputs": [
    {
     "data": {
      "text/plain": [
       "'hello,world'"
      ]
     },
     "execution_count": 4,
     "metadata": {},
     "output_type": "execute_result"
    }
   ],
   "source": [
    "'hello,world'"
   ]
  },
  {
   "cell_type": "code",
   "execution_count": 6,
   "id": "2e5c58d6",
   "metadata": {},
   "outputs": [],
   "source": [
    "import __hello__"
   ]
  },
  {
   "cell_type": "code",
   "execution_count": 8,
   "id": "3d990d59",
   "metadata": {},
   "outputs": [],
   "source": [
    "import this"
   ]
  },
  {
   "cell_type": "code",
   "execution_count": 1,
   "id": "9735ee00",
   "metadata": {},
   "outputs": [
    {
     "data": {
      "text/plain": [
       "'好学,hello world'"
      ]
     },
     "execution_count": 1,
     "metadata": {},
     "output_type": "execute_result"
    }
   ],
   "source": [
    "n = '好学'\n",
    "f'{n},hello world'"
   ]
  },
  {
   "cell_type": "code",
   "execution_count": 2,
   "id": "65ebba9c",
   "metadata": {},
   "outputs": [
    {
     "name": "stdout",
     "output_type": "stream",
     "text": [
      "hello, world,郝雪\n",
      "hello, world,陶雪\n",
      "hello, world,唐雪\n"
     ]
    }
   ],
   "source": [
    "for n in ['郝雪','陶雪','唐雪'] : \n",
    "    print(f'hello, world,{n}')"
   ]
  },
  {
   "cell_type": "code",
   "execution_count": 6,
   "id": "7cf6997e",
   "metadata": {},
   "outputs": [
    {
     "data": {
      "text/html": [
       "<div>\n",
       "<style scoped>\n",
       "    .dataframe tbody tr th:only-of-type {\n",
       "        vertical-align: middle;\n",
       "    }\n",
       "\n",
       "    .dataframe tbody tr th {\n",
       "        vertical-align: top;\n",
       "    }\n",
       "\n",
       "    .dataframe thead th {\n",
       "        text-align: right;\n",
       "    }\n",
       "</style>\n",
       "<table border=\"1\" class=\"dataframe\">\n",
       "  <thead>\n",
       "    <tr style=\"text-align: right;\">\n",
       "      <th></th>\n",
       "      <th>学   号</th>\n",
       "      <th>姓  名</th>\n",
       "      <th>性  别</th>\n",
       "      <th>院系</th>\n",
       "      <th>专业</th>\n",
       "      <th>年级</th>\n",
       "      <th>班级</th>\n",
       "      <th>选课属性</th>\n",
       "      <th>考核方式</th>\n",
       "      <th>考试性质</th>\n",
       "      <th>是否缓考</th>\n",
       "      <th>成绩</th>\n",
       "    </tr>\n",
       "  </thead>\n",
       "  <tbody>\n",
       "    <tr>\n",
       "      <th>0</th>\n",
       "      <td>320190940920</td>\n",
       "      <td>白宗琴</td>\n",
       "      <td>女</td>\n",
       "      <td>信息科学与工程学院</td>\n",
       "      <td>计算机科学与技术</td>\n",
       "      <td>2019级</td>\n",
       "      <td>2019级计算机1班</td>\n",
       "      <td>限选</td>\n",
       "      <td>未确定</td>\n",
       "      <td>正常考试</td>\n",
       "      <td>非缓考</td>\n",
       "      <td>NaN</td>\n",
       "    </tr>\n",
       "    <tr>\n",
       "      <th>1</th>\n",
       "      <td>320190940931</td>\n",
       "      <td>蔡子晰</td>\n",
       "      <td>男</td>\n",
       "      <td>信息科学与工程学院</td>\n",
       "      <td>计算机科学与技术</td>\n",
       "      <td>2019级</td>\n",
       "      <td>2019级计算机1班</td>\n",
       "      <td>限选</td>\n",
       "      <td>未确定</td>\n",
       "      <td>正常考试</td>\n",
       "      <td>非缓考</td>\n",
       "      <td>NaN</td>\n",
       "    </tr>\n",
       "    <tr>\n",
       "      <th>2</th>\n",
       "      <td>320190941051</td>\n",
       "      <td>范琼耀</td>\n",
       "      <td>男</td>\n",
       "      <td>信息科学与工程学院</td>\n",
       "      <td>计算机科学与技术</td>\n",
       "      <td>2019级</td>\n",
       "      <td>2019级计算机1班</td>\n",
       "      <td>限选</td>\n",
       "      <td>未确定</td>\n",
       "      <td>正常考试</td>\n",
       "      <td>非缓考</td>\n",
       "      <td>NaN</td>\n",
       "    </tr>\n",
       "  </tbody>\n",
       "</table>\n",
       "</div>"
      ],
      "text/plain": [
       "          学   号 姓  名 性  别             院系            专业     年级          班级  \\\n",
       "0  320190940920  白宗琴    女    信息科学与工程学院      计算机科学与技术    2019级  2019级计算机1班   \n",
       "1  320190940931  蔡子晰    男    信息科学与工程学院      计算机科学与技术    2019级  2019级计算机1班   \n",
       "2  320190941051  范琼耀    男    信息科学与工程学院      计算机科学与技术    2019级  2019级计算机1班   \n",
       "\n",
       "  选课属性 考核方式  考试性质 是否缓考  成绩  \n",
       "0   限选  未确定  正常考试  非缓考 NaN  \n",
       "1   限选  未确定  正常考试  非缓考 NaN  \n",
       "2   限选  未确定  正常考试  非缓考 NaN  "
      ]
     },
     "execution_count": 6,
     "metadata": {},
     "output_type": "execute_result"
    }
   ],
   "source": [
    "# !pip install xlrd\n",
    "import pandas as pd\n",
    "df = pd.read_excel('../data/py_info.xls',header = 1) # header = 1 表示第二行为列名，如果没有则默认为0，会读取第一行的数据（一般是表头）\n",
    "df.head(3) # 显示前3行"
   ]
  },
  {
   "cell_type": "code",
   "execution_count": 7,
   "id": "29c6c6f2",
   "metadata": {},
   "outputs": [
    {
     "data": {
      "text/plain": [
       "Index(['学   号', '姓  名', '性  别', '院系', '专业', '年级', '班级', '选课属性', '考核方式', '考试性质',\n",
       "       '是否缓考', '成绩'],\n",
       "      dtype='object')"
      ]
     },
     "execution_count": 7,
     "metadata": {},
     "output_type": "execute_result"
    }
   ],
   "source": [
    "df.columns # 显示列名"
   ]
  },
  {
   "cell_type": "code",
   "execution_count": 8,
   "id": "bc124407",
   "metadata": {},
   "outputs": [
    {
     "name": "stdout",
     "output_type": "stream",
     "text": [
      "hello world,白宗琴\n",
      "hello world,蔡子晰\n",
      "hello world,范琼耀\n",
      "hello world,管楚盈\n",
      "hello world,华有伟\n",
      "hello world,李城炜\n",
      "hello world,李浩达\n",
      "hello world,刘龙唯\n",
      "hello world,刘奇\n",
      "hello world,刘伟斌\n",
      "hello world,刘毓昊\n",
      "hello world,宋华玮\n",
      "hello world,王雲飞\n",
      "hello world,吴昊智\n",
      "hello world,杨昊\n",
      "hello world,张华龙\n",
      "hello world,郑小龙\n",
      "hello world,赵琪润\n",
      "hello world,梁泽成\n",
      "hello world,陆钇桦\n",
      "hello world,徐兰天\n",
      "hello world,许勇\n",
      "hello world,谢观福\n",
      "hello world,陈波\n",
      "hello world,传开国\n",
      "hello world,韩新初\n",
      "hello world,姜彤\n",
      "hello world,李昂轩\n",
      "hello world,李嘉鑫\n",
      "hello world,李艺杰\n",
      "hello world,李蕴鹏\n",
      "hello world,刘传秀\n",
      "hello world,马卓\n",
      "hello world,盛曼曼\n",
      "hello world,王高坤\n",
      "hello world,王家成\n",
      "hello world,王岩\n",
      "hello world,王昀芊\n",
      "hello world,吴成鹏\n",
      "hello world,武嘉鹏\n",
      "hello world,杨月兰\n",
      "hello world,赵朝洋\n"
     ]
    }
   ],
   "source": [
    "for n in df['姓  名']:\n",
    "    print(f'hello world,{n}')"
   ]
  },
  {
   "cell_type": "code",
   "execution_count": 11,
   "id": "039b88fd",
   "metadata": {},
   "outputs": [
    {
     "name": "stdout",
     "output_type": "stream",
     "text": [
      "hello,白 #@#\n",
      "hello,蔡 #@#\n",
      "hello,范 #@#\n",
      "hello,管 #@#\n",
      "hello,华 #@#\n"
     ]
    }
   ],
   "source": [
    "for n in map(lambda x: x[0], df['姓  名'][:5]):\n",
    "    print(f'hello,{n}', end=\" #@#\\n\")"
   ]
  },
  {
   "cell_type": "code",
   "execution_count": 32,
   "id": "a2c55fe2",
   "metadata": {},
   "outputs": [
    {
     "data": {
      "text/plain": [
       "男    33\n",
       "女     9\n",
       "Name: 性  别, dtype: int64"
      ]
     },
     "execution_count": 32,
     "metadata": {},
     "output_type": "execute_result"
    }
   ],
   "source": [
    "# df['性  别'].value_counts()"
   ]
  },
  {
   "cell_type": "code",
   "execution_count": 44,
   "id": "fd4f1fcd",
   "metadata": {},
   "outputs": [
    {
     "name": "stdout",
     "output_type": "stream",
     "text": [
      "%pylab is deprecated, use %matplotlib inline and import the required libraries.\n",
      "Populating the interactive namespace from numpy and matplotlib\n"
     ]
    },
    {
     "data": {
      "text/plain": [
       "男    33\n",
       "女     9\n",
       "Name: 性  别, dtype: int64"
      ]
     },
     "execution_count": 44,
     "metadata": {},
     "output_type": "execute_result"
    },
    {
     "data": {
      "image/png": "[encoded data removed]",
      "text/plain": [
       "<Figure size 640x480 with 1 Axes>"
      ]
     },
     "metadata": {},
     "output_type": "display_data"
    }
   ],
   "source": [
    "%pylab inline # 表示在jupyter notebook中显示图形\n",
    "import matplotlib.pyplot as plt\n",
    "plt.rcParams['font.sans-serif']=['SimHei'] #用来正常显示中文标签\n",
    "plt.rcParams['axes.unicode_minus']=False #用来正常显示负号\n",
    "df['性  别'].value_counts().plot(kind = 'bar') # 绘制性别柱状图\n"
   ]
  },
  {
   "cell_type": "code",
   "execution_count": 12,
   "id": "a54c81d0",
   "metadata": {},
   "outputs": [
    {
     "name": "stdout",
     "output_type": "stream",
     "text": [
      " * Serving Flask app '__main__'\n",
      " * Debug mode: off\n"
     ]
    },
    {
     "name": "stderr",
     "output_type": "stream",
     "text": [
      "WARNING: This is a development server. Do not use it in a production deployment. Use a production WSGI server instead.\n",
      " * Running on http://127.0.0.1:5000\n",
      "Press CTRL+C to quit\n",
      "127.0.0.1 - - [24/Dec/2023 23:07:25] \"GET / HTTP/1.1\" 200 -\n",
      "127.0.0.1 - - [24/Dec/2023 23:07:25] \"GET /favicon.ico HTTP/1.1\" 404 -\n"
     ]
    }
   ],
   "source": [
    "from flask import Flask\n",
    "app = Flask(__name__)   # 创建一个服务，赋值给APP\n",
    "\n",
    "\n",
    "@app.route('/')  # 指定接口访问的路径，支持多个路由\n",
    "def home():\n",
    "    return 'hello,world'    # 通过装饰器路由，指定访问的接口内容\n",
    "\n",
    "app.run()"
   ]
  },
  {
   "cell_type": "code",
   "execution_count": 3,
   "id": "ad182761",
   "metadata": {},
   "outputs": [],
   "source": [
    "%run pyQt_hello.py"
   ]
  },
  {
   "cell_type": "code",
   "execution_count": 6,
   "id": "e6309658",
   "metadata": {},
   "outputs": [
    {
     "name": "stdout",
     "output_type": "stream",
     "text": [
      "Requirement already satisfied: jupyter_contrib_nbextensions in d:\\code\\anaconda\\lib\\site-packages (0.7.0)\n",
      "Requirement already satisfied: notebook>=6.0 in d:\\code\\anaconda\\lib\\site-packages (from jupyter_contrib_nbextensions) (6.5.2)\n",
      "Requirement already satisfied: jupyter-highlight-selected-word>=0.1.1 in d:\\code\\anaconda\\lib\\site-packages (from jupyter_contrib_nbextensions) (0.2.0)\n",
      "Requirement already satisfied: jupyter-core in d:\\code\\anaconda\\lib\\site-packages (from jupyter_contrib_nbextensions) (5.2.0)\n",
      "Requirement already satisfied: tornado in d:\\code\\anaconda\\lib\\site-packages (from jupyter_contrib_nbextensions) (6.1)\n",
      "Requirement already satisfied: lxml in d:\\code\\anaconda\\lib\\site-packages (from jupyter_contrib_nbextensions) (4.9.1)\n",
      "Requirement already satisfied: nbconvert>=6.0 in d:\\code\\anaconda\\lib\\site-packages (from jupyter_contrib_nbextensions) (6.5.4)\n",
      "Requirement already satisfied: jupyter-contrib-core>=0.3.3 in d:\\code\\anaconda\\lib\\site-packages (from jupyter_contrib_nbextensions) (0.4.2)\n",
      "Requirement already satisfied: jupyter-nbextensions-configurator>=0.4.0 in d:\\code\\anaconda\\lib\\site-packages (from jupyter_contrib_nbextensions) (0.6.3)\n",
      "Requirement already satisfied: traitlets>=4.1 in d:\\code\\anaconda\\lib\\site-packages (from jupyter_contrib_nbextensions) (5.7.1)\n",
      "Requirement already satisfied: ipython-genutils in d:\\code\\anaconda\\lib\\site-packages (from jupyter_contrib_nbextensions) (0.2.0)\n",
      "Requirement already satisfied: setuptools in d:\\code\\anaconda\\lib\\site-packages (from jupyter-contrib-core>=0.3.3->jupyter_contrib_nbextensions) (65.6.3)\n",
      "Requirement already satisfied: pyyaml in d:\\code\\anaconda\\lib\\site-packages (from jupyter-nbextensions-configurator>=0.4.0->jupyter_contrib_nbextensions) (6.0)\n",
      "Requirement already satisfied: mistune<2,>=0.8.1 in d:\\code\\anaconda\\lib\\site-packages (from nbconvert>=6.0->jupyter_contrib_nbextensions) (0.8.4)\n",
      "Requirement already satisfied: jinja2>=3.0 in d:\\code\\anaconda\\lib\\site-packages (from nbconvert>=6.0->jupyter_contrib_nbextensions) (3.1.2)\n",
      "Requirement already satisfied: pandocfilters>=1.4.1 in d:\\code\\anaconda\\lib\\site-packages (from nbconvert>=6.0->jupyter_contrib_nbextensions) (1.5.0)\n",
      "Requirement already satisfied: beautifulsoup4 in d:\\code\\anaconda\\lib\\site-packages (from nbconvert>=6.0->jupyter_contrib_nbextensions) (4.11.1)\n",
      "Requirement already satisfied: MarkupSafe>=2.0 in d:\\code\\anaconda\\lib\\site-packages (from nbconvert>=6.0->jupyter_contrib_nbextensions) (2.1.1)\n",
      "Requirement already satisfied: nbformat>=5.1 in d:\\code\\anaconda\\lib\\site-packages (from nbconvert>=6.0->jupyter_contrib_nbextensions) (5.7.0)\n",
      "Requirement already satisfied: defusedxml in d:\\code\\anaconda\\lib\\site-packages (from nbconvert>=6.0->jupyter_contrib_nbextensions) (0.7.1)\n",
      "Requirement already satisfied: pygments>=2.4.1 in d:\\code\\anaconda\\lib\\site-packages (from nbconvert>=6.0->jupyter_contrib_nbextensions) (2.11.2)\n",
      "Requirement already satisfied: tinycss2 in d:\\code\\anaconda\\lib\\site-packages (from nbconvert>=6.0->jupyter_contrib_nbextensions) (1.2.1)\n",
      "Requirement already satisfied: packaging in d:\\code\\anaconda\\lib\\site-packages (from nbconvert>=6.0->jupyter_contrib_nbextensions) (22.0)\n",
      "Requirement already satisfied: nbclient>=0.5.0 in d:\\code\\anaconda\\lib\\site-packages (from nbconvert>=6.0->jupyter_contrib_nbextensions) (0.5.13)\n",
      "Requirement already satisfied: entrypoints>=0.2.2 in d:\\code\\anaconda\\lib\\site-packages (from nbconvert>=6.0->jupyter_contrib_nbextensions) (0.4)\n",
      "Requirement already satisfied: bleach in d:\\code\\anaconda\\lib\\site-packages (from nbconvert>=6.0->jupyter_contrib_nbextensions) (4.1.0)\n",
      "Requirement already satisfied: jupyterlab-pygments in d:\\code\\anaconda\\lib\\site-packages (from nbconvert>=6.0->jupyter_contrib_nbextensions) (0.1.2)\n",
      "Requirement already satisfied: platformdirs>=2.5 in d:\\code\\anaconda\\lib\\site-packages (from jupyter-core->jupyter_contrib_nbextensions) (2.5.2)\n",
      "Requirement already satisfied: pywin32>=1.0 in d:\\code\\anaconda\\lib\\site-packages (from jupyter-core->jupyter_contrib_nbextensions) (305.1)\n",
      "Requirement already satisfied: Send2Trash>=1.8.0 in d:\\code\\anaconda\\lib\\site-packages (from notebook>=6.0->jupyter_contrib_nbextensions) (1.8.0)\n",
      "Requirement already satisfied: nbclassic>=0.4.7 in d:\\code\\anaconda\\lib\\site-packages (from notebook>=6.0->jupyter_contrib_nbextensions) (0.5.2)\n",
      "Requirement already satisfied: prometheus-client in d:\\code\\anaconda\\lib\\site-packages (from notebook>=6.0->jupyter_contrib_nbextensions) (0.14.1)\n",
      "Requirement already satisfied: jupyter-client>=5.3.4 in d:\\code\\anaconda\\lib\\site-packages (from notebook>=6.0->jupyter_contrib_nbextensions) (7.3.4)\n",
      "Requirement already satisfied: pyzmq>=17 in d:\\code\\anaconda\\lib\\site-packages (from notebook>=6.0->jupyter_contrib_nbextensions) (23.2.0)\n",
      "Requirement already satisfied: ipykernel in d:\\code\\anaconda\\lib\\site-packages (from notebook>=6.0->jupyter_contrib_nbextensions) (6.19.2)\n",
      "Requirement already satisfied: nest-asyncio>=1.5 in d:\\code\\anaconda\\lib\\site-packages (from notebook>=6.0->jupyter_contrib_nbextensions) (1.5.6)\n",
      "Requirement already satisfied: argon2-cffi in d:\\code\\anaconda\\lib\\site-packages (from notebook>=6.0->jupyter_contrib_nbextensions) (21.3.0)\n",
      "Requirement already satisfied: terminado>=0.8.3 in d:\\code\\anaconda\\lib\\site-packages (from notebook>=6.0->jupyter_contrib_nbextensions) (0.17.1)\n",
      "Requirement already satisfied: python-dateutil>=2.8.2 in d:\\code\\anaconda\\lib\\site-packages (from jupyter-client>=5.3.4->notebook>=6.0->jupyter_contrib_nbextensions) (2.8.2)\n",
      "Requirement already satisfied: notebook-shim>=0.1.0 in d:\\code\\anaconda\\lib\\site-packages (from nbclassic>=0.4.7->notebook>=6.0->jupyter_contrib_nbextensions) (0.2.2)\n",
      "Requirement already satisfied: jupyter-server>=1.8 in d:\\code\\anaconda\\lib\\site-packages (from nbclassic>=0.4.7->notebook>=6.0->jupyter_contrib_nbextensions) (1.23.4)\n",
      "Requirement already satisfied: jsonschema>=2.6 in d:\\code\\anaconda\\lib\\site-packages (from nbformat>=5.1->nbconvert>=6.0->jupyter_contrib_nbextensions) (4.17.3)\n",
      "Requirement already satisfied: fastjsonschema in d:\\code\\anaconda\\lib\\site-packages (from nbformat>=5.1->nbconvert>=6.0->jupyter_contrib_nbextensions) (2.16.2)\n",
      "Requirement already satisfied: pywinpty>=1.1.0 in d:\\code\\anaconda\\lib\\site-packages (from terminado>=0.8.3->notebook>=6.0->jupyter_contrib_nbextensions) (2.0.10)\n",
      "Requirement already satisfied: argon2-cffi-bindings in d:\\code\\anaconda\\lib\\site-packages (from argon2-cffi->notebook>=6.0->jupyter_contrib_nbextensions) (21.2.0)\n",
      "Requirement already satisfied: soupsieve>1.2 in d:\\code\\anaconda\\lib\\site-packages (from beautifulsoup4->nbconvert>=6.0->jupyter_contrib_nbextensions) (2.3.2.post1)\n",
      "Requirement already satisfied: webencodings in d:\\code\\anaconda\\lib\\site-packages (from bleach->nbconvert>=6.0->jupyter_contrib_nbextensions) (0.5.1)\n",
      "Requirement already satisfied: six>=1.9.0 in d:\\code\\anaconda\\lib\\site-packages (from bleach->nbconvert>=6.0->jupyter_contrib_nbextensions) (1.16.0)\n",
      "Requirement already satisfied: matplotlib-inline>=0.1 in d:\\code\\anaconda\\lib\\site-packages (from ipykernel->notebook>=6.0->jupyter_contrib_nbextensions) (0.1.6)\n",
      "Requirement already satisfied: psutil in d:\\code\\anaconda\\lib\\site-packages (from ipykernel->notebook>=6.0->jupyter_contrib_nbextensions) (5.9.0)\n",
      "Requirement already satisfied: debugpy>=1.0 in d:\\code\\anaconda\\lib\\site-packages (from ipykernel->notebook>=6.0->jupyter_contrib_nbextensions) (1.5.1)\n",
      "Requirement already satisfied: comm>=0.1.1 in d:\\code\\anaconda\\lib\\site-packages (from ipykernel->notebook>=6.0->jupyter_contrib_nbextensions) (0.1.2)\n",
      "Requirement already satisfied: ipython>=7.23.1 in d:\\code\\anaconda\\lib\\site-packages (from ipykernel->notebook>=6.0->jupyter_contrib_nbextensions) (8.10.0)\n",
      "Requirement already satisfied: colorama in d:\\code\\anaconda\\lib\\site-packages (from ipython>=7.23.1->ipykernel->notebook>=6.0->jupyter_contrib_nbextensions) (0.4.6)\n",
      "Requirement already satisfied: prompt-toolkit<3.1.0,>=3.0.30 in d:\\code\\anaconda\\lib\\site-packages (from ipython>=7.23.1->ipykernel->notebook>=6.0->jupyter_contrib_nbextensions) (3.0.36)\n",
      "Requirement already satisfied: stack-data in d:\\code\\anaconda\\lib\\site-packages (from ipython>=7.23.1->ipykernel->notebook>=6.0->jupyter_contrib_nbextensions) (0.2.0)\n",
      "Requirement already satisfied: jedi>=0.16 in d:\\code\\anaconda\\lib\\site-packages (from ipython>=7.23.1->ipykernel->notebook>=6.0->jupyter_contrib_nbextensions) (0.18.1)\n",
      "Requirement already satisfied: pickleshare in d:\\code\\anaconda\\lib\\site-packages (from ipython>=7.23.1->ipykernel->notebook>=6.0->jupyter_contrib_nbextensions) (0.7.5)\n",
      "Requirement already satisfied: decorator in d:\\code\\anaconda\\lib\\site-packages (from ipython>=7.23.1->ipykernel->notebook>=6.0->jupyter_contrib_nbextensions) (5.1.1)\n",
      "Requirement already satisfied: backcall in d:\\code\\anaconda\\lib\\site-packages (from ipython>=7.23.1->ipykernel->notebook>=6.0->jupyter_contrib_nbextensions) (0.2.0)\n",
      "Requirement already satisfied: attrs>=17.4.0 in d:\\code\\anaconda\\lib\\site-packages (from jsonschema>=2.6->nbformat>=5.1->nbconvert>=6.0->jupyter_contrib_nbextensions) (22.1.0)\n",
      "Requirement already satisfied: pyrsistent!=0.17.0,!=0.17.1,!=0.17.2,>=0.14.0 in d:\\code\\anaconda\\lib\\site-packages (from jsonschema>=2.6->nbformat>=5.1->nbconvert>=6.0->jupyter_contrib_nbextensions) (0.18.0)\n",
      "Requirement already satisfied: websocket-client in d:\\code\\anaconda\\lib\\site-packages (from jupyter-server>=1.8->nbclassic>=0.4.7->notebook>=6.0->jupyter_contrib_nbextensions) (0.58.0)\n",
      "Requirement already satisfied: anyio<4,>=3.1.0 in d:\\code\\anaconda\\lib\\site-packages (from jupyter-server>=1.8->nbclassic>=0.4.7->notebook>=6.0->jupyter_contrib_nbextensions) (3.5.0)\n",
      "Requirement already satisfied: cffi>=1.0.1 in d:\\code\\anaconda\\lib\\site-packages (from argon2-cffi-bindings->argon2-cffi->notebook>=6.0->jupyter_contrib_nbextensions) (1.15.1)\n",
      "Requirement already satisfied: idna>=2.8 in d:\\code\\anaconda\\lib\\site-packages (from anyio<4,>=3.1.0->jupyter-server>=1.8->nbclassic>=0.4.7->notebook>=6.0->jupyter_contrib_nbextensions) (3.4)\n",
      "Requirement already satisfied: sniffio>=1.1 in d:\\code\\anaconda\\lib\\site-packages (from anyio<4,>=3.1.0->jupyter-server>=1.8->nbclassic>=0.4.7->notebook>=6.0->jupyter_contrib_nbextensions) (1.2.0)\n",
      "Requirement already satisfied: pycparser in d:\\code\\anaconda\\lib\\site-packages (from cffi>=1.0.1->argon2-cffi-bindings->argon2-cffi->notebook>=6.0->jupyter_contrib_nbextensions) (2.21)\n",
      "Requirement already satisfied: parso<0.9.0,>=0.8.0 in d:\\code\\anaconda\\lib\\site-packages (from jedi>=0.16->ipython>=7.23.1->ipykernel->notebook>=6.0->jupyter_contrib_nbextensions) (0.8.3)\n",
      "Requirement already satisfied: wcwidth in d:\\code\\anaconda\\lib\\site-packages (from prompt-toolkit<3.1.0,>=3.0.30->ipython>=7.23.1->ipykernel->notebook>=6.0->jupyter_contrib_nbextensions) (0.2.5)\n",
      "Requirement already satisfied: executing in d:\\code\\anaconda\\lib\\site-packages (from stack-data->ipython>=7.23.1->ipykernel->notebook>=6.0->jupyter_contrib_nbextensions) (0.8.3)\n",
      "Requirement already satisfied: pure-eval in d:\\code\\anaconda\\lib\\site-packages (from stack-data->ipython>=7.23.1->ipykernel->notebook>=6.0->jupyter_contrib_nbextensions) (0.2.2)\n",
      "Requirement already satisfied: asttokens in d:\\code\\anaconda\\lib\\site-packages (from stack-data->ipython>=7.23.1->ipykernel->notebook>=6.0->jupyter_contrib_nbextensions) (2.0.5)\n"
     ]
    }
   ],
   "source": [
    "# !pip install jupyter_contrib_nbextensions\n",
    "# !pip install jupyternotify\n",
    "# jupyter contrib nbextension install --user"
   ]
  }
 ],
 "metadata": {
  "kernelspec": {
   "display_name": "Python 3 (ipykernel)",
   "language": "python",
   "name": "python3"
  },
  "language_info": {
   "codemirror_mode": {
    "name": "ipython",
    "version": 3
   },
   "file_extension": ".py",
   "mimetype": "text/x-python",
   "name": "python",
   "nbconvert_exporter": "python",
   "pygments_lexer": "ipython3",
   "version": "3.8.10"
  }
 },
 "nbformat": 4,
 "nbformat_minor": 5
}
