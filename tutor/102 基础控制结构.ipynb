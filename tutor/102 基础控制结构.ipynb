{
 "cells": [
  {
   "cell_type": "markdown",
   "id": "935de54a",
   "metadata": {},
   "source": [
    "## 102 基础控制结构"
   ]
  },
  {
   "cell_type": "markdown",
   "id": "90375e7e",
   "metadata": {},
   "source": [
    "#### 表达式"
   ]
  },
  {
   "cell_type": "markdown",
   "id": "b7e14d6d",
   "metadata": {},
   "source": [
    "##### 选择"
   ]
  },
  {
   "cell_type": "code",
   "execution_count": 14,
   "id": "271d9cf2",
   "metadata": {},
   "outputs": [
    {
     "name": "stdout",
     "output_type": "stream",
     "text": [
      "ok\n",
      "y1\n",
      "y1\n"
     ]
    }
   ],
   "source": [
    "a = 1\n",
    "if a == 1:\n",
    "    print('ok')\n",
    "if a != 1:\n",
    "    print('ok')\n",
    "if a == 1:\n",
    "    print(\"y1\")\n",
    "else:\n",
    "    print('ol')\n",
    "if (a == 1):\n",
    "    print('y1')\n",
    "else:\n",
    "    print('ol')"
   ]
  },
  {
   "cell_type": "code",
   "execution_count": 15,
   "id": "4c986d4e",
   "metadata": {},
   "outputs": [
    {
     "name": "stdout",
     "output_type": "stream",
     "text": [
      "[] is None\n",
      "() is None\n",
      "{} is None\n",
      "  is not None\n",
      " is None\n",
      "None is None\n",
      "0 is None\n",
      "999 is not None\n",
      "-1 is not None\n",
      "[' '] is not None\n"
     ]
    }
   ],
   "source": [
    "# 是否为空\n",
    "a = None\n",
    "a = not None\n",
    "\n",
    "\n",
    "def judgeNone(a):\n",
    "    #if a != None:\n",
    "    if a:\n",
    "        print(str(a) +' is not None')\n",
    "    else:\n",
    "        print(str(a) + ' is None')\n",
    "\n",
    "\n",
    "a = []\n",
    "judgeNone(a)\n",
    "judgeNone(())\n",
    "judgeNone({})\n",
    "\n",
    "b = ' '  # 空格不是空\n",
    "judgeNone(b)\n",
    "judgeNone('')\n",
    "\n",
    "def ff(x): pass\n",
    "\n",
    "a = ff(2)\n",
    "judgeNone(a)\n",
    "\n",
    "a = 0\n",
    "judgeNone(a)\n",
    "judgeNone(999)\n",
    "judgeNone(-1)\n",
    "judgeNone([' '])"
   ]
  },
  {
   "cell_type": "markdown",
   "id": "d129b03c",
   "metadata": {},
   "source": [
    "### 条件表达式"
   ]
  },
  {
   "cell_type": "code",
   "execution_count": 16,
   "id": "d012e402",
   "metadata": {},
   "outputs": [
    {
     "data": {
      "text/plain": [
       "'男 '"
      ]
     },
     "execution_count": 16,
     "metadata": {},
     "output_type": "execute_result"
    }
   ],
   "source": [
    "s = 'male'\n",
    "f = '男 ' if s == \"male\" else '女'\n",
    "f"
   ]
  },
  {
   "cell_type": "code",
   "execution_count": 17,
   "id": "533a1428",
   "metadata": {},
   "outputs": [
    {
     "data": {
      "text/plain": [
       "'男'"
      ]
     },
     "execution_count": 17,
     "metadata": {},
     "output_type": "execute_result"
    }
   ],
   "source": [
    "f = (s == 'male') and '男' or '女'\n",
    "f"
   ]
  },
  {
   "cell_type": "code",
   "execution_count": 18,
   "id": "6c73b2b0",
   "metadata": {},
   "outputs": [
    {
     "name": "stdout",
     "output_type": "stream",
     "text": [
      "True\n"
     ]
    }
   ],
   "source": [
    "x = [1, 2, 3]\n",
    "y = x\n",
    "# is 操作符\n",
    "print(x is y)"
   ]
  },
  {
   "cell_type": "code",
   "execution_count": 19,
   "id": "7f7ea3db",
   "metadata": {},
   "outputs": [
    {
     "name": "stdout",
     "output_type": "stream",
     "text": [
      "False\n"
     ]
    }
   ],
   "source": [
    "a = [1, 2, 3]\n",
    "b = a.copy() # 浅拷贝，只拷贝第一层，不拷贝子对象\n",
    "print(a is b) # False，不是同一个对象"
   ]
  },
  {
   "cell_type": "code",
   "execution_count": 20,
   "id": "142b9613",
   "metadata": {},
   "outputs": [
    {
     "name": "stdout",
     "output_type": "stream",
     "text": [
      "v1\n",
      "v2\n"
     ]
    }
   ],
   "source": [
    "# 嵌套\n",
    "k = 10\n",
    "if k != 1:\n",
    "    print('v1')\n",
    "    if k > 9:\n",
    "        print('v2')\n",
    "else:\n",
    "    print(\"v3\")"
   ]
  },
  {
   "cell_type": "code",
   "execution_count": 21,
   "id": "a73621f4",
   "metadata": {},
   "outputs": [],
   "source": [
    "# 多条件\n",
    "a, b, c = 2, 5, 9\n",
    "if a > b:\n",
    "    print('v1')\n",
    "elif b == 3:\n",
    "    print('v2')\n",
    "elif c <= 3:\n",
    "    print('v3')\n",
    "elif c != c:\n",
    "    print('v4')"
   ]
  },
  {
   "cell_type": "code",
   "execution_count": 22,
   "id": "c0e6f0a5",
   "metadata": {},
   "outputs": [
    {
     "data": {
      "text/plain": [
       "{2}"
      ]
     },
     "execution_count": 22,
     "metadata": {},
     "output_type": "execute_result"
    }
   ],
   "source": [
    "# 复合三目运算符\n",
    "y = 10\n",
    "3 if (y <= 1) else 2 if (y >= 1) else -1\n",
    "# 提高阅读性\n",
    "3 if (y <= 1)\\\n",
    "    else \\\n",
    "    2 if (y >= 1)\\\n",
    "    else -1\n",
    "{\n",
    "    3 if (y <= 1)\n",
    "    else\n",
    "    2 if (y >= 1)\n",
    "    else -1\n",
    "}"
   ]
  },
  {
   "cell_type": "code",
   "execution_count": 23,
   "id": "76b1ba59",
   "metadata": {},
   "outputs": [
    {
     "data": {
      "text/plain": [
       "'小兰应该多吃蔬菜'"
      ]
     },
     "execution_count": 23,
     "metadata": {},
     "output_type": "execute_result"
    }
   ],
   "source": [
    "# bmi = int (input())\n",
    "s, lv = '小兰', int(input()) > 23\n",
    "f\"{s}{'应该' if lv else '不用'}多吃蔬菜\"\n",
    "# 嵌套使用引号"
   ]
  },
  {
   "cell_type": "code",
   "execution_count": 24,
   "id": "56d04fe6",
   "metadata": {},
   "outputs": [
    {
     "data": {
      "text/plain": [
       "5050"
      ]
     },
     "execution_count": 24,
     "metadata": {},
     "output_type": "execute_result"
    }
   ],
   "source": [
    "# 循环\n",
    "n, s = 100, 0\n",
    "while n > 0:\n",
    "    s += n\n",
    "    n -= 1\n",
    "\n",
    "s"
   ]
  },
  {
   "cell_type": "code",
   "execution_count": 25,
   "id": "55f25310",
   "metadata": {},
   "outputs": [
    {
     "data": {
      "text/plain": [
       "5050"
      ]
     },
     "execution_count": 25,
     "metadata": {},
     "output_type": "execute_result"
    }
   ],
   "source": [
    "s = 0\n",
    "n = 100\n",
    "while True:\n",
    "    s += n\n",
    "    n -= 1\n",
    "    if n == 0:\n",
    "        break\n",
    "s"
   ]
  },
  {
   "cell_type": "code",
   "execution_count": 26,
   "id": "1e1935dd",
   "metadata": {},
   "outputs": [
    {
     "name": "stdout",
     "output_type": "stream",
     "text": [
      "9, 7, 5, 3, 1, "
     ]
    }
   ],
   "source": [
    "n = 10\n",
    "while n > 0:\n",
    "    n -= 1\n",
    "    if n % 2 == 0:\n",
    "        continue\n",
    "    print(n, end=\", \")"
   ]
  },
  {
   "cell_type": "code",
   "execution_count": 27,
   "id": "2fca588d",
   "metadata": {},
   "outputs": [
    {
     "name": "stdout",
     "output_type": "stream",
     "text": [
      "0, 1, 2, 3, 4, 5, 6, 7, 8, 9, 10, 11, 12, 13, 14, 15, 16, 17, 18, 19, 20, 21, 22, 23, 24, 25, 26, 27, 28, 29, 30, 31, 32, 33, 34, 35, 36, 37, 38, 39, 40, 41, 42, 43, 44, 45, 46, 47, 48, 49, 50, 51, 52, 53, 54, 55, 56, 57, 58, 59, 60, 61, 62, 63, 64, 65, 66, 67, 68, 69, 70, 71, 72, 73, 74, 75, 76, 77, 78, 79, 80, 81, 82, 83, 84, 85, 86, 87, 88, 89, 90, 91, 92, 93, 94, 95, 96, 97, 98, 99, 100, "
     ]
    },
    {
     "data": {
      "text/plain": [
       "5050"
      ]
     },
     "execution_count": 27,
     "metadata": {},
     "output_type": "execute_result"
    }
   ],
   "source": [
    "# for\n",
    "range(4)\n",
    "list(range(4))\n",
    "s = 0\n",
    "for n in range(101):\n",
    "    s += n\n",
    "    print(n, end=', ')\n",
    "s"
   ]
  },
  {
   "cell_type": "code",
   "execution_count": 28,
   "id": "54176751",
   "metadata": {},
   "outputs": [],
   "source": [
    "\n",
    "def mysum(n):\n",
    "    s = 0\n",
    "    for n in range(n + 1):\n",
    "        s += n\n",
    "    return s"
   ]
  },
  {
   "cell_type": "code",
   "execution_count": 29,
   "id": "0fb0ba66",
   "metadata": {},
   "outputs": [
    {
     "ename": "AssertionError",
     "evalue": "",
     "output_type": "error",
     "traceback": [
      "\u001b[1;31m---------------------------------------------------------------------------\u001b[0m",
      "\u001b[1;31mAssertionError\u001b[0m                            Traceback (most recent call last)",
      "Cell \u001b[1;32mIn[29], line 2\u001b[0m\n\u001b[0;32m      1\u001b[0m \u001b[38;5;66;03m# 测试, 使用assert捕获错误\u001b[39;00m\n\u001b[1;32m----> 2\u001b[0m \u001b[38;5;28;01massert\u001b[39;00m mysum(\u001b[38;5;241m100\u001b[39m) \u001b[38;5;241m==\u001b[39m \u001b[38;5;28msum\u001b[39m(\u001b[38;5;28mrange\u001b[39m(\u001b[38;5;241m100\u001b[39m))\n",
      "\u001b[1;31mAssertionError\u001b[0m: "
     ]
    }
   ],
   "source": [
    "# 测试, 使用assert捕获错误\n",
    "assert mysum(100) == sum(range(100))"
   ]
  },
  {
   "cell_type": "code",
   "execution_count": 30,
   "id": "f8ec944a",
   "metadata": {},
   "outputs": [
    {
     "name": "stdout",
     "output_type": "stream",
     "text": [
      "ok\n"
     ]
    }
   ],
   "source": [
    "for x in (30, 150):\n",
    "    assert mysum(x) == sum(range(x+1))\n",
    "else:\n",
    "    print('ok')"
   ]
  },
  {
   "cell_type": "code",
   "execution_count": null,
   "id": "1e431dae",
   "metadata": {},
   "outputs": [
    {
     "data": {
      "text/plain": [
       "True"
      ]
     },
     "metadata": {},
     "output_type": "display_data"
    }
   ],
   "source": [
    "# 测试\n",
    "all([mysum(x) == sum(range(x+1)) for x in range(10, 50)])"
   ]
  },
  {
   "cell_type": "code",
   "execution_count": null,
   "id": "e16ccdc8",
   "metadata": {},
   "outputs": [
    {
     "data": {
      "text/plain": [
       "55"
      ]
     },
     "metadata": {},
     "output_type": "display_data"
    }
   ],
   "source": [
    "# 递归\n",
    "def mysum(n):\n",
    "    s = 0\n",
    "    if (n == 0):\n",
    "        return s\n",
    "    else:\n",
    "        s = n + mysum(n-1)\n",
    "        return s\n",
    "\n",
    "\n",
    "s = mysum(10)\n",
    "s"
   ]
  },
  {
   "cell_type": "code",
   "execution_count": null,
   "id": "9089d36a",
   "metadata": {},
   "outputs": [],
   "source": [
    "# 递归(老师)\n",
    "def mysum(n):\n",
    "    if (n == 1):\n",
    "        return 1\n",
    "    else:\n",
    "        return n + mysum(n-1)\n",
    "\n",
    "\n",
    "# 测试驱动的编程方法\n",
    "assert mysum(100) == sum(range(101))"
   ]
  },
  {
   "cell_type": "markdown",
   "id": "c5212c55",
   "metadata": {},
   "source": [
    "# for else"
   ]
  },
  {
   "cell_type": "code",
   "execution_count": 31,
   "id": "be23847c",
   "metadata": {},
   "outputs": [
    {
     "data": {
      "text/plain": [
       "(['a', 'b', 'c', 'dd', 'ee'], ['a', 'bb', 'cc', 'd', 'ff', 'ee', 'h'])"
      ]
     },
     "execution_count": 31,
     "metadata": {},
     "output_type": "execute_result"
    }
   ],
   "source": [
    "# s1中的元素是否在s2中的出现\n",
    "s1 = 'a b c dd ee'.split()# split()默认以空格分割\n",
    "s2 = 'a bb cc d ff ee h'.split()\n",
    "s1, s2"
   ]
  },
  {
   "cell_type": "code",
   "execution_count": 32,
   "id": "e2021cd1",
   "metadata": {},
   "outputs": [
    {
     "name": "stdout",
     "output_type": "stream",
     "text": [
      "a : get\n",
      "b : not get\n",
      "c : not get\n",
      "dd : not get\n",
      "ee : get\n"
     ]
    }
   ],
   "source": [
    "def ff(w, s) -> str:\n",
    "    \"\"\"\n",
    "    w:待匹配元素\n",
    "    s:目标元素ist\n",
    "\n",
    "    \"\"\"\n",
    "    is_found = False\n",
    "    for ww in s:\n",
    "        if w == ww:\n",
    "            is_found = True\n",
    "            break\n",
    "    if not is_found:\n",
    "        return 'not get'\n",
    "    else:\n",
    "        return 'get'\n",
    "\n",
    "\n",
    "for k in s1:\n",
    "    print(k, ':', ff(k, s2)) # 这里的print使用,划分参数，输出时会自动加空格"
   ]
  },
  {
   "cell_type": "code",
   "execution_count": 34,
   "id": "f9cdc575",
   "metadata": {},
   "outputs": [
    {
     "name": "stdout",
     "output_type": "stream",
     "text": [
      "a : get\n",
      "b : not get\n",
      "c : not get\n",
      "dd : not get\n",
      "ee : get\n"
     ]
    }
   ],
   "source": [
    "def ff(w, s) -> str:\n",
    "    \"\"\"\n",
    "    w:待匹配元素\n",
    "    s:目标元素ist\n",
    "\n",
    "    \"\"\"\n",
    "#     is_found = False\n",
    "    for ww in s:\n",
    "        if w == ww:\n",
    "            #     is_found  = True\n",
    "            break\n",
    "    else:  # 顺利结束才运行\n",
    "        return 'not get'\n",
    "    return 'get'\n",
    "\n",
    "\n",
    "for k in s1:\n",
    "    print(k, ':', ff(k, s2))"
   ]
  },
  {
   "cell_type": "code",
   "execution_count": null,
   "id": "6c752dfa",
   "metadata": {},
   "outputs": [
    {
     "name": "stdout",
     "output_type": "stream",
     "text": [
      "a :get\n",
      "b :not get\n",
      "c :not get\n",
      "dd :not get\n",
      "ee :get\n"
     ]
    }
   ],
   "source": [
    "for k in s1:\n",
    "    if (k in s2):\n",
    "        print(k, ':get')\n",
    "    else:\n",
    "        print(k, ':not get')"
   ]
  },
  {
   "cell_type": "code",
   "execution_count": null,
   "id": "8d2b095f",
   "metadata": {},
   "outputs": [],
   "source": []
  }
 ],
 "metadata": {
  "kernelspec": {
   "display_name": "Python 3 (ipykernel)",
   "language": "python",
   "name": "python3"
  },
  "language_info": {
   "codemirror_mode": {
    "name": "ipython",
    "version": 3
   },
   "file_extension": ".py",
   "mimetype": "text/x-python",
   "name": "python",
   "nbconvert_exporter": "python",
   "pygments_lexer": "ipython3",
   "version": "3.8.10"
  },
  "toc": {
   "base_numbering": 1,
   "nav_menu": {},
   "number_sections": true,
   "sideBar": true,
   "skip_h1_title": false,
   "title_cell": "Table of Contents",
   "title_sidebar": "Contents",
   "toc_cell": false,
   "toc_position": {},
   "toc_section_display": true,
   "toc_window_display": false
  }
 },
 "nbformat": 4,
 "nbformat_minor": 5
}
