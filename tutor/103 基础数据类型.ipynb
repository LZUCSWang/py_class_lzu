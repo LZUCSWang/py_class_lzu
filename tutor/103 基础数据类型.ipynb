{
 "cells": [
  {
   "cell_type": "markdown",
   "id": "3eb71290",
   "metadata": {},
   "source": [
    "#### 类型\n",
    "\n",
    "- 数值：int float boolean\n",
    "- 顺序：str list tuple\n",
    "- 无序：dict set\n",
    "\n",
    "#### 是否可变\n",
    "\n",
    "- 不可变：str tuple int float boolean\n",
    "- 可变：list dict set\n"
   ]
  },
  {
   "cell_type": "code",
   "execution_count": 2,
   "id": "962509d3",
   "metadata": {},
   "outputs": [],
   "source": [
    "from IPython.core.interactiveshell import InteractiveShell\n",
    "InteractiveShell.ast_node_interactivity = \"all\""
   ]
  },
  {
   "cell_type": "code",
   "execution_count": 3,
   "id": "34b08fee",
   "metadata": {},
   "outputs": [
    {
     "data": {
      "text/plain": [
       "64"
      ]
     },
     "execution_count": 3,
     "metadata": {},
     "output_type": "execute_result"
    },
    {
     "data": {
      "text/plain": [
       "(4.25, 4, 1)"
      ]
     },
     "execution_count": 3,
     "metadata": {},
     "output_type": "execute_result"
    }
   ],
   "source": [
    "a = 2\n",
    "a += 1\n",
    "a -= 1\n",
    "a *= 2\n",
    "a **= 3\n",
    "a\n",
    "17/4, 17//4, 17 % 4"
   ]
  },
  {
   "cell_type": "code",
   "execution_count": 4,
   "id": "8355c3d3",
   "metadata": {},
   "outputs": [
    {
     "data": {
      "text/plain": [
       "(float, False, False)"
      ]
     },
     "execution_count": 4,
     "metadata": {},
     "output_type": "execute_result"
    }
   ],
   "source": [
    "k = 99\n",
    "k = '99'\n",
    "k = float(k)\n",
    "type(k), isinstance(k, int), isinstance(k, str)"
   ]
  },
  {
   "cell_type": "code",
   "execution_count": 5,
   "id": "39c42870",
   "metadata": {},
   "outputs": [
    {
     "data": {
      "text/plain": [
       "False"
      ]
     },
     "execution_count": 5,
     "metadata": {},
     "output_type": "execute_result"
    },
    {
     "data": {
      "text/plain": [
       "True"
      ]
     },
     "execution_count": 5,
     "metadata": {},
     "output_type": "execute_result"
    }
   ],
   "source": [
    "# 浮点数的比较\n",
    "(0.1+0.2) == 0.3\n",
    "abs((0.1+0.2)-0.3) <= 1e-5"
   ]
  },
  {
   "cell_type": "markdown",
   "id": "c8089810",
   "metadata": {},
   "source": [
    "## 列表\n"
   ]
  },
  {
   "cell_type": "code",
   "execution_count": 6,
   "id": "ef1d6a68",
   "metadata": {},
   "outputs": [
    {
     "name": "stdout",
     "output_type": "stream",
     "text": [
      "Help on class list in module builtins:\n",
      "\n",
      "class list(object)\n",
      " |  list(iterable=(), /)\n",
      " |  \n",
      " |  Built-in mutable sequence.\n",
      " |  \n",
      " |  If no argument is given, the constructor creates a new empty list.\n",
      " |  The argument must be an iterable if specified.\n",
      " |  \n",
      " |  Methods defined here:\n",
      " |  \n",
      " |  __add__(self, value, /)\n",
      " |      Return self+value.\n",
      " |  \n",
      " |  __contains__(self, key, /)\n",
      " |      Return key in self.\n",
      " |  \n",
      " |  __delitem__(self, key, /)\n",
      " |      Delete self[key].\n",
      " |  \n",
      " |  __eq__(self, value, /)\n",
      " |      Return self==value.\n",
      " |  \n",
      " |  __ge__(self, value, /)\n",
      " |      Return self>=value.\n",
      " |  \n",
      " |  __getattribute__(self, name, /)\n",
      " |      Return getattr(self, name).\n",
      " |  \n",
      " |  __getitem__(...)\n",
      " |      x.__getitem__(y) <==> x[y]\n",
      " |  \n",
      " |  __gt__(self, value, /)\n",
      " |      Return self>value.\n",
      " |  \n",
      " |  __iadd__(self, value, /)\n",
      " |      Implement self+=value.\n",
      " |  \n",
      " |  __imul__(self, value, /)\n",
      " |      Implement self*=value.\n",
      " |  \n",
      " |  __init__(self, /, *args, **kwargs)\n",
      " |      Initialize self.  See help(type(self)) for accurate signature.\n",
      " |  \n",
      " |  __iter__(self, /)\n",
      " |      Implement iter(self).\n",
      " |  \n",
      " |  __le__(self, value, /)\n",
      " |      Return self<=value.\n",
      " |  \n",
      " |  __len__(self, /)\n",
      " |      Return len(self).\n",
      " |  \n",
      " |  __lt__(self, value, /)\n",
      " |      Return self<value.\n",
      " |  \n",
      " |  __mul__(self, value, /)\n",
      " |      Return self*value.\n",
      " |  \n",
      " |  __ne__(self, value, /)\n",
      " |      Return self!=value.\n",
      " |  \n",
      " |  __repr__(self, /)\n",
      " |      Return repr(self).\n",
      " |  \n",
      " |  __reversed__(self, /)\n",
      " |      Return a reverse iterator over the list.\n",
      " |  \n",
      " |  __rmul__(self, value, /)\n",
      " |      Return value*self.\n",
      " |  \n",
      " |  __setitem__(self, key, value, /)\n",
      " |      Set self[key] to value.\n",
      " |  \n",
      " |  __sizeof__(self, /)\n",
      " |      Return the size of the list in memory, in bytes.\n",
      " |  \n",
      " |  append(self, object, /)\n",
      " |      Append object to the end of the list.\n",
      " |  \n",
      " |  clear(self, /)\n",
      " |      Remove all items from list.\n",
      " |  \n",
      " |  copy(self, /)\n",
      " |      Return a shallow copy of the list.\n",
      " |  \n",
      " |  count(self, value, /)\n",
      " |      Return number of occurrences of value.\n",
      " |  \n",
      " |  extend(self, iterable, /)\n",
      " |      Extend list by appending elements from the iterable.\n",
      " |  \n",
      " |  index(self, value, start=0, stop=9223372036854775807, /)\n",
      " |      Return first index of value.\n",
      " |      \n",
      " |      Raises ValueError if the value is not present.\n",
      " |  \n",
      " |  insert(self, index, object, /)\n",
      " |      Insert object before index.\n",
      " |  \n",
      " |  pop(self, index=-1, /)\n",
      " |      Remove and return item at index (default last).\n",
      " |      \n",
      " |      Raises IndexError if list is empty or index is out of range.\n",
      " |  \n",
      " |  remove(self, value, /)\n",
      " |      Remove first occurrence of value.\n",
      " |      \n",
      " |      Raises ValueError if the value is not present.\n",
      " |  \n",
      " |  reverse(self, /)\n",
      " |      Reverse *IN PLACE*.\n",
      " |  \n",
      " |  sort(self, /, *, key=None, reverse=False)\n",
      " |      Sort the list in ascending order and return None.\n",
      " |      \n",
      " |      The sort is in-place (i.e. the list itself is modified) and stable (i.e. the\n",
      " |      order of two equal elements is maintained).\n",
      " |      \n",
      " |      If a key function is given, apply it once to each list item and sort them,\n",
      " |      ascending or descending, according to their function values.\n",
      " |      \n",
      " |      The reverse flag can be set to sort in descending order.\n",
      " |  \n",
      " |  ----------------------------------------------------------------------\n",
      " |  Class methods defined here:\n",
      " |  \n",
      " |  __class_getitem__(...) from builtins.type\n",
      " |      See PEP 585\n",
      " |  \n",
      " |  ----------------------------------------------------------------------\n",
      " |  Static methods defined here:\n",
      " |  \n",
      " |  __new__(*args, **kwargs) from builtins.type\n",
      " |      Create and return a new object.  See help(type) for accurate signature.\n",
      " |  \n",
      " |  ----------------------------------------------------------------------\n",
      " |  Data and other attributes defined here:\n",
      " |  \n",
      " |  __hash__ = None\n",
      "\n"
     ]
    }
   ],
   "source": [
    "help(list)"
   ]
  },
  {
   "cell_type": "code",
   "execution_count": 7,
   "id": "3d58f2d5",
   "metadata": {},
   "outputs": [
    {
     "name": "stdout",
     "output_type": "stream",
     "text": [
      "Help on list object:\n",
      "\n",
      "class list(object)\n",
      " |  list(iterable=(), /)\n",
      " |  \n",
      " |  Built-in mutable sequence.\n",
      " |  \n",
      " |  If no argument is given, the constructor creates a new empty list.\n",
      " |  The argument must be an iterable if specified.\n",
      " |  \n",
      " |  Methods defined here:\n",
      " |  \n",
      " |  __add__(self, value, /)\n",
      " |      Return self+value.\n",
      " |  \n",
      " |  __contains__(self, key, /)\n",
      " |      Return key in self.\n",
      " |  \n",
      " |  __delitem__(self, key, /)\n",
      " |      Delete self[key].\n",
      " |  \n",
      " |  __eq__(self, value, /)\n",
      " |      Return self==value.\n",
      " |  \n",
      " |  __ge__(self, value, /)\n",
      " |      Return self>=value.\n",
      " |  \n",
      " |  __getattribute__(self, name, /)\n",
      " |      Return getattr(self, name).\n",
      " |  \n",
      " |  __getitem__(...)\n",
      " |      x.__getitem__(y) <==> x[y]\n",
      " |  \n",
      " |  __gt__(self, value, /)\n",
      " |      Return self>value.\n",
      " |  \n",
      " |  __iadd__(self, value, /)\n",
      " |      Implement self+=value.\n",
      " |  \n",
      " |  __imul__(self, value, /)\n",
      " |      Implement self*=value.\n",
      " |  \n",
      " |  __init__(self, /, *args, **kwargs)\n",
      " |      Initialize self.  See help(type(self)) for accurate signature.\n",
      " |  \n",
      " |  __iter__(self, /)\n",
      " |      Implement iter(self).\n",
      " |  \n",
      " |  __le__(self, value, /)\n",
      " |      Return self<=value.\n",
      " |  \n",
      " |  __len__(self, /)\n",
      " |      Return len(self).\n",
      " |  \n",
      " |  __lt__(self, value, /)\n",
      " |      Return self<value.\n",
      " |  \n",
      " |  __mul__(self, value, /)\n",
      " |      Return self*value.\n",
      " |  \n",
      " |  __ne__(self, value, /)\n",
      " |      Return self!=value.\n",
      " |  \n",
      " |  __repr__(self, /)\n",
      " |      Return repr(self).\n",
      " |  \n",
      " |  __reversed__(self, /)\n",
      " |      Return a reverse iterator over the list.\n",
      " |  \n",
      " |  __rmul__(self, value, /)\n",
      " |      Return value*self.\n",
      " |  \n",
      " |  __setitem__(self, key, value, /)\n",
      " |      Set self[key] to value.\n",
      " |  \n",
      " |  __sizeof__(self, /)\n",
      " |      Return the size of the list in memory, in bytes.\n",
      " |  \n",
      " |  append(self, object, /)\n",
      " |      Append object to the end of the list.\n",
      " |  \n",
      " |  clear(self, /)\n",
      " |      Remove all items from list.\n",
      " |  \n",
      " |  copy(self, /)\n",
      " |      Return a shallow copy of the list.\n",
      " |  \n",
      " |  count(self, value, /)\n",
      " |      Return number of occurrences of value.\n",
      " |  \n",
      " |  extend(self, iterable, /)\n",
      " |      Extend list by appending elements from the iterable.\n",
      " |  \n",
      " |  index(self, value, start=0, stop=9223372036854775807, /)\n",
      " |      Return first index of value.\n",
      " |      \n",
      " |      Raises ValueError if the value is not present.\n",
      " |  \n",
      " |  insert(self, index, object, /)\n",
      " |      Insert object before index.\n",
      " |  \n",
      " |  pop(self, index=-1, /)\n",
      " |      Remove and return item at index (default last).\n",
      " |      \n",
      " |      Raises IndexError if list is empty or index is out of range.\n",
      " |  \n",
      " |  remove(self, value, /)\n",
      " |      Remove first occurrence of value.\n",
      " |      \n",
      " |      Raises ValueError if the value is not present.\n",
      " |  \n",
      " |  reverse(self, /)\n",
      " |      Reverse *IN PLACE*.\n",
      " |  \n",
      " |  sort(self, /, *, key=None, reverse=False)\n",
      " |      Sort the list in ascending order and return None.\n",
      " |      \n",
      " |      The sort is in-place (i.e. the list itself is modified) and stable (i.e. the\n",
      " |      order of two equal elements is maintained).\n",
      " |      \n",
      " |      If a key function is given, apply it once to each list item and sort them,\n",
      " |      ascending or descending, according to their function values.\n",
      " |      \n",
      " |      The reverse flag can be set to sort in descending order.\n",
      " |  \n",
      " |  ----------------------------------------------------------------------\n",
      " |  Class methods defined here:\n",
      " |  \n",
      " |  __class_getitem__(...) from builtins.type\n",
      " |      See PEP 585\n",
      " |  \n",
      " |  ----------------------------------------------------------------------\n",
      " |  Static methods defined here:\n",
      " |  \n",
      " |  __new__(*args, **kwargs) from builtins.type\n",
      " |      Create and return a new object.  See help(type) for accurate signature.\n",
      " |  \n",
      " |  ----------------------------------------------------------------------\n",
      " |  Data and other attributes defined here:\n",
      " |  \n",
      " |  __hash__ = None\n",
      "\n"
     ]
    }
   ],
   "source": [
    "help([])"
   ]
  },
  {
   "cell_type": "code",
   "execution_count": 8,
   "id": "a2fb99bd",
   "metadata": {},
   "outputs": [
    {
     "data": {
      "text/plain": [
       "[0, 1, 2]"
      ]
     },
     "execution_count": 8,
     "metadata": {},
     "output_type": "execute_result"
    },
    {
     "data": {
      "text/plain": [
       "[0, 1, 2]"
      ]
     },
     "execution_count": 8,
     "metadata": {},
     "output_type": "execute_result"
    },
    {
     "data": {
      "text/plain": [
       "[0, 1, 2, 3, 4, 5, 6, 7, 8, 9]"
      ]
     },
     "execution_count": 8,
     "metadata": {},
     "output_type": "execute_result"
    }
   ],
   "source": [
    "xlist = [1, 2, 3]\n",
    "xlist = list(range(10))\n",
    "xlist[0:3]\n",
    "xlist[:3]\n",
    "xlist[:]"
   ]
  },
  {
   "cell_type": "code",
   "execution_count": 9,
   "id": "08ff4a4d",
   "metadata": {},
   "outputs": [
    {
     "data": {
      "text/plain": [
       "(False, True)"
      ]
     },
     "execution_count": 9,
     "metadata": {},
     "output_type": "execute_result"
    },
    {
     "data": {
      "text/plain": [
       "([0, 1, 2, 3, 4, 5, 6, 7, 8, 9], [0, 1, 2, 3, 4, 5, 6, 7, 8, 9], 9)"
      ]
     },
     "execution_count": 9,
     "metadata": {},
     "output_type": "execute_result"
    }
   ],
   "source": [
    "id(xlist[:]) == id(xlist), xlist[:] == xlist\n",
    "# 切片操作会生成一个新的列表，但是[:]的元素与原列表中的元素值相同，所以==为True\n",
    "\n",
    "xlist[:][-1] = 100\n",
    "xlist, xlist[:], xlist[:][-1]"
   ]
  },
  {
   "cell_type": "code",
   "execution_count": 10,
   "id": "8d7c83da",
   "metadata": {},
   "outputs": [
    {
     "data": {
      "text/plain": [
       "5"
      ]
     },
     "execution_count": 10,
     "metadata": {},
     "output_type": "execute_result"
    },
    {
     "data": {
      "text/plain": [
       "([5, 6, 7, 8, 9], 9)"
      ]
     },
     "execution_count": 10,
     "metadata": {},
     "output_type": "execute_result"
    },
    {
     "data": {
      "text/plain": [
       "7"
      ]
     },
     "execution_count": 10,
     "metadata": {},
     "output_type": "execute_result"
    },
    {
     "data": {
      "text/plain": [
       "[7, 8, 9]"
      ]
     },
     "execution_count": 10,
     "metadata": {},
     "output_type": "execute_result"
    },
    {
     "data": {
      "text/plain": [
       "[7, 8]"
      ]
     },
     "execution_count": 10,
     "metadata": {},
     "output_type": "execute_result"
    },
    {
     "data": {
      "text/plain": [
       "[]"
      ]
     },
     "execution_count": 10,
     "metadata": {},
     "output_type": "execute_result"
    },
    {
     "data": {
      "text/plain": [
       "[9, 8]"
      ]
     },
     "execution_count": 10,
     "metadata": {},
     "output_type": "execute_result"
    }
   ],
   "source": [
    "xlist[5]\n",
    "xlist[5:], xlist[-1]\n",
    "xlist[-3]\n",
    "xlist[-3:]\n",
    "xlist[-3:-1]  # 切片操作不包含最后一个元素,左闭右开\n",
    "# 这里的切片必须是从左到右的（从小到大），否则返回空列表\n",
    "xlist[-1:-3]\n",
    "xlist[-1:-3:-1]"
   ]
  },
  {
   "cell_type": "code",
   "execution_count": 68,
   "id": "72ad56e8",
   "metadata": {},
   "outputs": [
    {
     "name": "stdout",
     "output_type": "stream",
     "text": [
      "2\n"
     ]
    },
    {
     "data": {
      "text/plain": [
       "(True, 2)"
      ]
     },
     "execution_count": 68,
     "metadata": {},
     "output_type": "execute_result"
    },
    {
     "name": "stdout",
     "output_type": "stream",
     "text": [
      "1,2,3,"
     ]
    }
   ],
   "source": [
    "xlist = [1, 2, 3]\n",
    "print(x := 2)  # := 表达式赋值，就是说x=2，然后返回x=2的值2\n",
    "\n",
    "x = 3\n",
    "(x := 2) in xlist, x\n",
    "\n",
    "\n",
    "for x in xlist:\n",
    "\n",
    "    print(x, end=',')"
   ]
  },
  {
   "cell_type": "code",
   "execution_count": 12,
   "id": "81f3e825",
   "metadata": {},
   "outputs": [
    {
     "data": {
      "text/plain": [
       "True"
      ]
     },
     "execution_count": 12,
     "metadata": {},
     "output_type": "execute_result"
    },
    {
     "data": {
      "text/plain": [
       "True"
      ]
     },
     "execution_count": 12,
     "metadata": {},
     "output_type": "execute_result"
    }
   ],
   "source": [
    "3 in xlist\n",
    "# in的功能相当于底下的代码\n",
    "\n",
    "\n",
    "def ff(y, xlist):\n",
    "\n",
    "    for x in xlist:\n",
    "\n",
    "        if x == y:\n",
    "\n",
    "            return True\n",
    "\n",
    "    else:\n",
    "\n",
    "        return False\n",
    "\n",
    "\n",
    "ff(2, xlist)"
   ]
  },
  {
   "cell_type": "markdown",
   "id": "420f9ce3",
   "metadata": {},
   "source": [
    "#### 列表的操作\n"
   ]
  },
  {
   "cell_type": "code",
   "execution_count": 13,
   "id": "d0e95ba8",
   "metadata": {},
   "outputs": [
    {
     "data": {
      "text/plain": [
       "[1, 99, 3]"
      ]
     },
     "execution_count": 13,
     "metadata": {},
     "output_type": "execute_result"
    },
    {
     "data": {
      "text/plain": [
       "[1, 99, 3, 88]"
      ]
     },
     "execution_count": 13,
     "metadata": {},
     "output_type": "execute_result"
    }
   ],
   "source": [
    "xlist[1] = 99\n",
    "xlist\n",
    "xlist.append(88)\n",
    "xlist"
   ]
  },
  {
   "cell_type": "code",
   "execution_count": 14,
   "id": "b49a8442",
   "metadata": {},
   "outputs": [
    {
     "data": {
      "text/plain": [
       "[1, 99, 2, 3]"
      ]
     },
     "execution_count": 14,
     "metadata": {},
     "output_type": "execute_result"
    }
   ],
   "source": [
    "xlist = [1, 2, 3]\n",
    "xlist.insert(1, 99)  # insert(index,object)在index位置插入object\n",
    "xlist"
   ]
  },
  {
   "cell_type": "code",
   "execution_count": 15,
   "id": "5ce4ea53",
   "metadata": {},
   "outputs": [
    {
     "data": {
      "text/plain": [
       "[1, 2, 3]"
      ]
     },
     "execution_count": 15,
     "metadata": {},
     "output_type": "execute_result"
    },
    {
     "data": {
      "text/plain": [
       "(1, [2, 3])"
      ]
     },
     "execution_count": 15,
     "metadata": {},
     "output_type": "execute_result"
    }
   ],
   "source": [
    "xlist.remove(99)\n",
    "xlist\n",
    "c = xlist.pop(0)  # pop()默认删除最后一个元素，pop(0)删除第一个元素，返回删除的元素\n",
    "c, xlist"
   ]
  },
  {
   "cell_type": "code",
   "execution_count": 16,
   "id": "39fd1e30",
   "metadata": {},
   "outputs": [
    {
     "data": {
      "text/plain": [
       "88"
      ]
     },
     "execution_count": 16,
     "metadata": {},
     "output_type": "execute_result"
    },
    {
     "data": {
      "text/plain": [
       "[1]"
      ]
     },
     "execution_count": 16,
     "metadata": {},
     "output_type": "execute_result"
    }
   ],
   "source": [
    "xlist = [1, 88]\n",
    "xlist.pop(xlist.index(88))  # index()返回元素的索引，pop()删除索引对应的元素，返回删除的元素\n",
    "xlist"
   ]
  },
  {
   "cell_type": "code",
   "execution_count": 74,
   "id": "2bd306dd",
   "metadata": {},
   "outputs": [
    {
     "name": "stdout",
     "output_type": "stream",
     "text": [
      "3 2 1 "
     ]
    },
    {
     "data": {
      "text/plain": [
       "[]"
      ]
     },
     "execution_count": 74,
     "metadata": {},
     "output_type": "execute_result"
    }
   ],
   "source": [
    "xlist = [1, 2, 3]\n",
    "while xlist:\n",
    "    y = xlist.pop()\n",
    "    print(y, end=' ')\n",
    "    # do\n",
    "xlist\n",
    "xlist = [1, 2, 3]"
   ]
  },
  {
   "cell_type": "code",
   "execution_count": 75,
   "metadata": {},
   "outputs": [],
   "source": [
    "xlist = []"
   ]
  },
  {
   "cell_type": "code",
   "execution_count": 76,
   "id": "e2935cd5",
   "metadata": {},
   "outputs": [
    {
     "data": {
      "text/plain": [
       "[]"
      ]
     },
     "execution_count": 76,
     "metadata": {},
     "output_type": "execute_result"
    }
   ],
   "source": [
    "del xlist[1:2]\n",
    "xlist"
   ]
  },
  {
   "cell_type": "code",
   "execution_count": 19,
   "id": "603ccb44",
   "metadata": {},
   "outputs": [],
   "source": [
    "del xlist  # 只能删除一次，再次删除会报错\n",
    "# xlist"
   ]
  },
  {
   "cell_type": "code",
   "execution_count": 20,
   "id": "28f31120",
   "metadata": {},
   "outputs": [
    {
     "data": {
      "text/plain": [
       "[1, 2, 66, 77, 6]"
      ]
     },
     "execution_count": 20,
     "metadata": {},
     "output_type": "execute_result"
    }
   ],
   "source": [
    "# 片段处理\n",
    "xlist = [1, 2, 3, 4, 5, 6]\n",
    "xlist[2:5] = [66, 77]  # 用[66,77]替换xlist[2:5]\n",
    "xlist"
   ]
  },
  {
   "cell_type": "code",
   "execution_count": 21,
   "id": "9292ddb1",
   "metadata": {},
   "outputs": [
    {
     "data": {
      "text/plain": [
       "[3, 2, 1]"
      ]
     },
     "execution_count": 21,
     "metadata": {},
     "output_type": "execute_result"
    }
   ],
   "source": [
    "xlist = [1, 2, 3]\n",
    "xlist.reverse()\n",
    "xlist"
   ]
  },
  {
   "cell_type": "code",
   "execution_count": 22,
   "id": "e06960e5",
   "metadata": {},
   "outputs": [
    {
     "data": {
      "text/plain": [
       "([1, 2, 3], [3, 2, 1])"
      ]
     },
     "execution_count": 22,
     "metadata": {},
     "output_type": "execute_result"
    }
   ],
   "source": [
    "a = reversed(xlist)  # 产生一个计算反转之后的副本地址\n",
    "list(a), xlist"
   ]
  },
  {
   "cell_type": "code",
   "execution_count": 23,
   "id": "3eb24e3c",
   "metadata": {},
   "outputs": [
    {
     "data": {
      "text/plain": [
       "[3, 2, 1]"
      ]
     },
     "execution_count": 23,
     "metadata": {},
     "output_type": "execute_result"
    },
    {
     "data": {
      "text/plain": [
       "([1, 2, 3], [3, 2, 1])"
      ]
     },
     "execution_count": 23,
     "metadata": {},
     "output_type": "execute_result"
    }
   ],
   "source": [
    "xlist = [1, 2, 3]\n",
    "list(xlist.__reversed__())  # 类似于reversed，但是返回的是一个迭代器，同时不会改变原列表\n",
    "ylist = xlist[::-1]  # 反转,其实是反向输出\n",
    "xlist, ylist"
   ]
  },
  {
   "cell_type": "code",
   "execution_count": 24,
   "id": "f6901906",
   "metadata": {},
   "outputs": [
    {
     "data": {
      "text/plain": [
       "[0, 2, 4, 6, 8, 10, 12, 14, 16, 18]"
      ]
     },
     "execution_count": 24,
     "metadata": {},
     "output_type": "execute_result"
    }
   ],
   "source": [
    "xlist = list(range(20))\n",
    "xlist[::2]  # 从0开始，每隔2个取一个"
   ]
  },
  {
   "cell_type": "code",
   "execution_count": 25,
   "id": "6e232044",
   "metadata": {},
   "outputs": [
    {
     "data": {
      "text/plain": [
       "([7, 5, 3], [3, 5, 7])"
      ]
     },
     "execution_count": 25,
     "metadata": {},
     "output_type": "execute_result"
    }
   ],
   "source": [
    "# 排序\n",
    "xlist = [5, 7, 3]\n",
    "xlist.sort(reverse=True)  # 默认升序，reverse = True降序\n",
    "ylist = sorted(xlist)  # sorted()返回一个排序后的列表，不改变原列表，默认升序\n",
    "xlist, ylist"
   ]
  },
  {
   "cell_type": "code",
   "execution_count": 26,
   "id": "a84412d2",
   "metadata": {},
   "outputs": [
    {
     "data": {
      "text/plain": [
       "[1, 2, 3, 5, 6, 7]"
      ]
     },
     "execution_count": 26,
     "metadata": {},
     "output_type": "execute_result"
    },
    {
     "data": {
      "text/plain": [
       "[1, 2, 3]"
      ]
     },
     "execution_count": 26,
     "metadata": {},
     "output_type": "execute_result"
    },
    {
     "data": {
      "text/plain": [
       "([1, 2, 3, 5, 6, 7], [5, 6, 7])"
      ]
     },
     "execution_count": 26,
     "metadata": {},
     "output_type": "execute_result"
    }
   ],
   "source": [
    "# 连接\n",
    "a, b = [1, 2, 3], [5, 6, 7]\n",
    "a+b  # +号连接\n",
    "a\n",
    "a.extend(b)  # extend()连接，改变原列表\n",
    "a, b"
   ]
  },
  {
   "cell_type": "code",
   "execution_count": 27,
   "id": "c562b480",
   "metadata": {},
   "outputs": [
    {
     "data": {
      "text/plain": [
       "3"
      ]
     },
     "execution_count": 27,
     "metadata": {},
     "output_type": "execute_result"
    },
    {
     "data": {
      "text/plain": [
       "[]"
      ]
     },
     "execution_count": 27,
     "metadata": {},
     "output_type": "execute_result"
    },
    {
     "data": {
      "text/plain": [
       "[1, 1, 1, 1, 1, 1, 1, 1, 1, 1]"
      ]
     },
     "execution_count": 27,
     "metadata": {},
     "output_type": "execute_result"
    }
   ],
   "source": [
    "# 其他\n",
    "[1, 2, 2, 4, 2].count(2)\n",
    "x = [1, 2, 3, 4]\n",
    "x.clear()\n",
    "x\n",
    "m = 10\n",
    "x = [1]*m  # 初始化所有元素\n",
    "x"
   ]
  },
  {
   "cell_type": "code",
   "execution_count": 28,
   "id": "26c844ec",
   "metadata": {},
   "outputs": [
    {
     "data": {
      "text/plain": [
       "(True, True)"
      ]
     },
     "execution_count": 28,
     "metadata": {},
     "output_type": "execute_result"
    },
    {
     "data": {
      "text/plain": [
       "True"
      ]
     },
     "execution_count": 28,
     "metadata": {},
     "output_type": "execute_result"
    }
   ],
   "source": [
    "# 深复制\n",
    "a = [1, 2, 3]\n",
    "b = a\n",
    "b == a, id(a) == id(b)\n",
    "b.append(4)\n",
    "b == a"
   ]
  },
  {
   "cell_type": "code",
   "execution_count": 29,
   "id": "cbde2b3c",
   "metadata": {},
   "outputs": [
    {
     "data": {
      "text/plain": [
       "(True, False)"
      ]
     },
     "execution_count": 29,
     "metadata": {},
     "output_type": "execute_result"
    },
    {
     "data": {
      "text/plain": [
       "(False, False)"
      ]
     },
     "execution_count": 29,
     "metadata": {},
     "output_type": "execute_result"
    }
   ],
   "source": [
    "# 浅复制\n",
    "a = [1, 2, 3]\n",
    "b = a.copy()\n",
    "b == a, id(a) == id(b)\n",
    "b.append(4)\n",
    "b == a, id(a) == id(b)"
   ]
  },
  {
   "cell_type": "code",
   "execution_count": 30,
   "id": "918c5f5d",
   "metadata": {},
   "outputs": [
    {
     "data": {
      "text/plain": [
       "False"
      ]
     },
     "execution_count": 30,
     "metadata": {},
     "output_type": "execute_result"
    }
   ],
   "source": [
    "b = a[:]  # 与copy写法和作用不同\n",
    "a is b  # 符合外国人的阅读习惯"
   ]
  },
  {
   "cell_type": "code",
   "execution_count": 31,
   "id": "4760abb5",
   "metadata": {},
   "outputs": [
    {
     "data": {
      "text/plain": [
       "(True, False)"
      ]
     },
     "execution_count": 31,
     "metadata": {},
     "output_type": "execute_result"
    },
    {
     "data": {
      "text/plain": [
       "(False, [1, 2, [3, 4], 5, [6], 7], [1, 2, [3, 4, 999], 5, [6], 7])"
      ]
     },
     "execution_count": 31,
     "metadata": {},
     "output_type": "execute_result"
    },
    {
     "data": {
      "text/plain": [
       "([1, 2, [3, 4, 99], 5, [6], 7], [1, 2, [3, 4, 99], 5, [6], 7])"
      ]
     },
     "execution_count": 31,
     "metadata": {},
     "output_type": "execute_result"
    },
    {
     "data": {
      "text/plain": [
       "True"
      ]
     },
     "execution_count": 31,
     "metadata": {},
     "output_type": "execute_result"
    },
    {
     "data": {
      "text/plain": [
       "([1, 2, [9, 99], 5, [6], 7], [1, 2, [3, 4, 99], 5, [6], 7])"
      ]
     },
     "execution_count": 31,
     "metadata": {},
     "output_type": "execute_result"
    },
    {
     "data": {
      "text/plain": [
       "False"
      ]
     },
     "execution_count": 31,
     "metadata": {},
     "output_type": "execute_result"
    }
   ],
   "source": [
    "import copy\n",
    "a = [1, 2, [3, 4], 5, [6], 7]\n",
    "b = copy.deepcopy(a)  # 深复制，复制所有元素，包括嵌套的元素\n",
    "c = copy.copy(a)  # 浅复制，复制所有元素，但是嵌套的元素只复制了一个引用\n",
    "# a[2] = 99\n",
    "b == a, a is b  # 内存地址不同\n",
    "b[2].append(999)\n",
    "a[2] is b[2], a, b\n",
    "\n",
    "a[2].append(99)\n",
    "a, c\n",
    "a[2] is c[2]\n",
    "a[2] = [9, 99]\n",
    "a, c\n",
    "a[2] is c[2]"
   ]
  },
  {
   "cell_type": "markdown",
   "id": "2115060b",
   "metadata": {},
   "source": [
    "## 元组\n",
    "\n",
    "- 只读的列表\n",
    "- 有序，不可修改\n"
   ]
  },
  {
   "cell_type": "code",
   "execution_count": 32,
   "id": "d3c8c6c0",
   "metadata": {},
   "outputs": [
    {
     "data": {
      "text/plain": [
       "True"
      ]
     },
     "execution_count": 32,
     "metadata": {},
     "output_type": "execute_result"
    },
    {
     "data": {
      "text/plain": [
       "True"
      ]
     },
     "execution_count": 32,
     "metadata": {},
     "output_type": "execute_result"
    }
   ],
   "source": [
    "isinstance(tuple([1, 2, 3]), tuple)\n",
    "isinstance((1, 2, 3), tuple)"
   ]
  },
  {
   "cell_type": "code",
   "execution_count": 33,
   "id": "a2ac0245",
   "metadata": {},
   "outputs": [
    {
     "data": {
      "text/plain": [
       "(2, (1, 2), (2, 3), (1, 2, 3))"
      ]
     },
     "execution_count": 33,
     "metadata": {},
     "output_type": "execute_result"
    }
   ],
   "source": [
    "t = (1, 2, 3)\n",
    "t[1], t[:2], t[1:3], t[:]"
   ]
  },
  {
   "cell_type": "code",
   "execution_count": 34,
   "id": "36c469c0",
   "metadata": {},
   "outputs": [
    {
     "data": {
      "text/plain": [
       "True"
      ]
     },
     "execution_count": 34,
     "metadata": {},
     "output_type": "execute_result"
    },
    {
     "name": "stdout",
     "output_type": "stream",
     "text": [
      "1,2,3,"
     ]
    }
   ],
   "source": [
    "2 in t\n",
    "for s in t:\n",
    "    print(s, end=',')"
   ]
  },
  {
   "cell_type": "code",
   "execution_count": 35,
   "id": "82db1a6b",
   "metadata": {},
   "outputs": [
    {
     "data": {
      "text/plain": [
       "(120, 72)"
      ]
     },
     "execution_count": 35,
     "metadata": {},
     "output_type": "execute_result"
    }
   ],
   "source": [
    "import sys\n",
    "a, b = [1, 2, 3, 4], (1, 2, 3, 4)\n",
    "sys.getsizeof(a), sys.getsizeof(b)  # 元组比列表占用内存小"
   ]
  },
  {
   "cell_type": "code",
   "execution_count": 36,
   "id": "1ff9c63d",
   "metadata": {},
   "outputs": [
    {
     "data": {
      "text/plain": [
       "(3, 3)"
      ]
     },
     "execution_count": 36,
     "metadata": {},
     "output_type": "execute_result"
    }
   ],
   "source": [
    "t = (1, 2, 3, 4, 2, 3, 6, 2)\n",
    "t.count(2), t.index(4)"
   ]
  },
  {
   "cell_type": "markdown",
   "id": "14c1058f",
   "metadata": {},
   "source": [
    "## 字符串\n",
    "\n",
    "- 有顺序，不可修改\n",
    "  help（str）\n"
   ]
  },
  {
   "cell_type": "code",
   "execution_count": 37,
   "id": "e9b3f55b",
   "metadata": {},
   "outputs": [
    {
     "data": {
      "text/plain": [
       "'a'"
      ]
     },
     "execution_count": 37,
     "metadata": {},
     "output_type": "execute_result"
    }
   ],
   "source": [
    "a = 'a'\n",
    "a = \"a\"\n",
    "a = '''a'''\n",
    "a = \"\"\"a\"\"\"\n",
    "a"
   ]
  },
  {
   "cell_type": "code",
   "execution_count": 38,
   "id": "6bb4873c",
   "metadata": {},
   "outputs": [
    {
     "data": {
      "text/plain": [
       "\"fa'B'cDef\""
      ]
     },
     "execution_count": 38,
     "metadata": {},
     "output_type": "execute_result"
    }
   ],
   "source": [
    "b = \"\"\"fa'B'cDef\"\"\"\n",
    "b"
   ]
  },
  {
   "cell_type": "code",
   "execution_count": 39,
   "id": "996b0ec0",
   "metadata": {},
   "outputs": [
    {
     "data": {
      "text/plain": [
       "123342571"
      ]
     },
     "execution_count": 39,
     "metadata": {},
     "output_type": "execute_result"
    }
   ],
   "source": [
    "x = 123_342_567  # 用下划线分隔数字，方便阅读\n",
    "y = 4\n",
    "x + y"
   ]
  },
  {
   "cell_type": "code",
   "execution_count": 40,
   "id": "e040f093",
   "metadata": {},
   "outputs": [
    {
     "data": {
      "text/plain": [
       "('lzu', 'lzu', 2103870274672, 2103870274672)"
      ]
     },
     "execution_count": 40,
     "metadata": {},
     "output_type": "execute_result"
    }
   ],
   "source": [
    "s1 = 'lzu'\n",
    "s2 = s1\n",
    "s1, s2, id(s1), id(s2)"
   ]
  },
  {
   "cell_type": "code",
   "execution_count": 77,
   "metadata": {},
   "outputs": [
    {
     "data": {
      "text/plain": [
       "True"
      ]
     },
     "execution_count": 77,
     "metadata": {},
     "output_type": "execute_result"
    }
   ],
   "source": [
    "s1 = 'lzu'\n",
    "s2 = s1  # 这里字符串赋值不是引用，而是复制\n",
    "s2 is s1"
   ]
  },
  {
   "cell_type": "code",
   "execution_count": 78,
   "metadata": {},
   "outputs": [
    {
     "data": {
      "text/plain": [
       "True"
      ]
     },
     "execution_count": 78,
     "metadata": {},
     "output_type": "execute_result"
    }
   ],
   "source": [
    "s1 = 'lzu'*1000000\n",
    "s2 = s1\n",
    "s1 is s2"
   ]
  },
  {
   "cell_type": "code",
   "execution_count": 41,
   "id": "58c1e2a0",
   "metadata": {},
   "outputs": [
    {
     "data": {
      "text/plain": [
       "('lzu', 'lzux', 2103870274672, 2103870586672)"
      ]
     },
     "execution_count": 41,
     "metadata": {},
     "output_type": "execute_result"
    }
   ],
   "source": [
    "s1 = 'lzu'\n",
    "s2 = s1  # 这里字符串赋值不是引用，而是复制\n",
    "s2 += 'x'\n",
    "s1, s2, id(s1), id(s2)"
   ]
  },
  {
   "cell_type": "code",
   "execution_count": 42,
   "id": "ea15267e",
   "metadata": {},
   "outputs": [
    {
     "data": {
      "text/plain": [
       "(['lzu', 'x'], ['lzu', 'x'], 2103849200512, 2103849200512)"
      ]
     },
     "execution_count": 42,
     "metadata": {},
     "output_type": "execute_result"
    }
   ],
   "source": [
    "s1 = ['lzu']  # 类似于链表指向首地址\n",
    "s2 = s1\n",
    "s2 += ['x']\n",
    "s1, s2, id(s1), id(s2)"
   ]
  },
  {
   "cell_type": "code",
   "execution_count": 43,
   "id": "222eca7b",
   "metadata": {},
   "outputs": [
    {
     "name": "stdout",
     "output_type": "stream",
     "text": [
      "a,b,c,e,f,g,"
     ]
    }
   ],
   "source": [
    "for x in 'abcefg':\n",
    "    print(x, end=',')"
   ]
  },
  {
   "cell_type": "code",
   "execution_count": 44,
   "id": "5699e2e4",
   "metadata": {},
   "outputs": [
    {
     "data": {
      "text/plain": [
       "'d'"
      ]
     },
     "execution_count": 44,
     "metadata": {},
     "output_type": "execute_result"
    },
    {
     "data": {
      "text/plain": [
       "'bc'"
      ]
     },
     "execution_count": 44,
     "metadata": {},
     "output_type": "execute_result"
    }
   ],
   "source": [
    "s = 'abcdefg'\n",
    "s1 = s[3]\n",
    "s1\n",
    "s2 = s[1:3]\n",
    "s2"
   ]
  },
  {
   "cell_type": "code",
   "execution_count": 45,
   "id": "c57e5da8",
   "metadata": {},
   "outputs": [],
   "source": [
    "# s[3] = 'x'\n",
    "# 只读，不可修改"
   ]
  },
  {
   "cell_type": "code",
   "execution_count": 46,
   "id": "cf2b8825",
   "metadata": {},
   "outputs": [
    {
     "data": {
      "text/plain": [
       "'abxcdefg'"
      ]
     },
     "execution_count": 46,
     "metadata": {},
     "output_type": "execute_result"
    }
   ],
   "source": [
    "s = s[:2] + 'x' + s[2:]\n",
    "s"
   ]
  },
  {
   "cell_type": "code",
   "execution_count": 47,
   "id": "d2681793",
   "metadata": {},
   "outputs": [
    {
     "name": "stdout",
     "output_type": "stream",
     "text": [
      "    韩宝驹把酒碗往桌上一放，便欲认输。朱聪向他使个眼色，对丘处机道：“道长内功出神入化。我们佩服之极。不过我们五个拚你一个，总似乎不大公平。”丘处机一怔，道：“朱二哥瞧着该怎么办？”朱聪笑道：“还是让兄弟一对一的跟道长较量下去吧。”此言一出，众人都觉奇怪，眼见五人与他斗酒都已处于必败之地，怎么他反而要独自抵挡？但六怪都知这位兄弟虽然言语滑稽，却是满肚子的诡计，行事往往高深莫测，他既这么说，必是另有诈道，当下都不作声。\n",
      "\n"
     ]
    }
   ],
   "source": [
    "data = open(r'../data/射雕英雄传.txt', encoding='GB18030').readlines()\n",
    "print(data[100])"
   ]
  },
  {
   "cell_type": "code",
   "execution_count": 48,
   "id": "16e3f640",
   "metadata": {},
   "outputs": [
    {
     "name": "stdout",
     "output_type": "stream",
     "text": [
      "    周伯通问道：“刚才咱们讲故事讲到了哪里？”郭靖道：“你讲到天下的英雄豪杰都要抢夺《九阴真经》。”周伯通道：“不错。后来事情越闹越大，连全真教教主、桃花岛主黄老邪、丐帮的洪帮主这些大高手也插上手了。他们五人约定在华山论剑，谁的武功天下第一，经书就归谁所有。”郭靖道：“那经书终究是落在你师哥手里了。”\n",
      "\n"
     ]
    }
   ],
   "source": [
    "data = open(r'../data/射雕英雄传.txt', errors='ignore').readlines()\n",
    "s = data[1000]\n",
    "print(s)"
   ]
  },
  {
   "cell_type": "code",
   "execution_count": 49,
   "id": "7d1b6a6c",
   "metadata": {},
   "outputs": [
    {
     "data": {
      "text/plain": [
       "(154, 154)"
      ]
     },
     "execution_count": 49,
     "metadata": {},
     "output_type": "execute_result"
    }
   ],
   "source": [
    "len(s), s.__len__()"
   ]
  },
  {
   "cell_type": "code",
   "execution_count": 50,
   "id": "9d3b15e4",
   "metadata": {},
   "outputs": [
    {
     "data": {
      "text/plain": [
       "'    周伯通问道：“刚才咱们讲故事讲到了哪里？”郭靖道：“你讲到天下的英雄豪杰都要抢夺《九阴真经》。”周伯通道：“不错。后来事情越闹越大，连全真教教主、桃花岛主黄老邪、丐帮的洪帮主这些大高手也插上手了。他们五人约定在华山论剑，谁的武功天下第一，经书就归谁所有。”郭靖道：“那经书终究是落在你师哥手里了。”'"
      ]
     },
     "execution_count": 50,
     "metadata": {},
     "output_type": "execute_result"
    }
   ],
   "source": [
    "s = s.replace('\\n', '')\n",
    "s"
   ]
  },
  {
   "cell_type": "code",
   "execution_count": 51,
   "id": "a7e167a2",
   "metadata": {},
   "outputs": [
    {
     "data": {
      "text/plain": [
       "(2, 2)"
      ]
     },
     "execution_count": 51,
     "metadata": {},
     "output_type": "execute_result"
    },
    {
     "data": {
      "text/plain": [
       "0"
      ]
     },
     "execution_count": 51,
     "metadata": {},
     "output_type": "execute_result"
    },
    {
     "data": {
      "text/plain": [
       "0"
      ]
     },
     "execution_count": 51,
     "metadata": {},
     "output_type": "execute_result"
    }
   ],
   "source": [
    "s.count('郭靖'), s.count('周伯通')\n",
    "s.replace('郭靖', '靖儿').count('郭靖')  # replace()替换所有的郭靖。\n",
    "s.count('靖儿')"
   ]
  },
  {
   "cell_type": "code",
   "execution_count": 80,
   "id": "895c1539",
   "metadata": {},
   "outputs": [
    {
     "data": {
      "text/plain": [
       "' 加州 谷歌 '"
      ]
     },
     "execution_count": 80,
     "metadata": {},
     "output_type": "execute_result"
    },
    {
     "data": {
      "text/plain": [
       "'&& 加州 谷歌 ...'"
      ]
     },
     "execution_count": 80,
     "metadata": {},
     "output_type": "execute_result"
    },
    {
     "data": {
      "text/plain": [
       "'加州 谷歌'"
      ]
     },
     "execution_count": 80,
     "metadata": {},
     "output_type": "execute_result"
    },
    {
     "data": {
      "text/plain": [
       "' 加州 谷歌 '"
      ]
     },
     "execution_count": 80,
     "metadata": {},
     "output_type": "execute_result"
    }
   ],
   "source": [
    "s = '&& 加州 谷歌 ...'\n",
    "# 去除首尾空格和指定字符，lstrip()去除左边，rstrip()去除右边，strip()去除两边,默认去除空格\n",
    "s.strip().lstrip('&').rstrip('.')\n",
    "s\n",
    "s.strip('&. ')  # 去除首尾空格和指定字符\n",
    "s.strip('&.')  # 去除首尾空格和指定字符"
   ]
  },
  {
   "cell_type": "code",
   "execution_count": 81,
   "metadata": {},
   "outputs": [
    {
     "data": {
      "text/plain": [
       "'加州 谷歌'"
      ]
     },
     "execution_count": 81,
     "metadata": {},
     "output_type": "execute_result"
    }
   ],
   "source": [
    "s = ' &. 加州 谷歌 ...'\n",
    "s.strip('&. ')"
   ]
  },
  {
   "cell_type": "code",
   "execution_count": 53,
   "id": "a720ee2c",
   "metadata": {},
   "outputs": [
    {
     "data": {
      "text/plain": [
       "'You Love Lzu'"
      ]
     },
     "execution_count": 53,
     "metadata": {},
     "output_type": "execute_result"
    },
    {
     "data": {
      "text/plain": [
       "False"
      ]
     },
     "execution_count": 53,
     "metadata": {},
     "output_type": "execute_result"
    }
   ],
   "source": [
    "'you love lzu'.title()\n",
    "'you love lzu'.upper().lower().isupper()"
   ]
  },
  {
   "cell_type": "markdown",
   "id": "939d1865",
   "metadata": {},
   "source": [
    "## 集合\n",
    "\n",
    "help（set）\n",
    "无序\n"
   ]
  },
  {
   "cell_type": "code",
   "execution_count": 54,
   "id": "a937151c",
   "metadata": {},
   "outputs": [
    {
     "data": {
      "text/plain": [
       "True"
      ]
     },
     "execution_count": 54,
     "metadata": {},
     "output_type": "execute_result"
    }
   ],
   "source": [
    "s = {1, 2, 3, 4}  # 集合\n",
    "s = set([1, 2, 3, 4])\n",
    "isinstance(s, set)"
   ]
  },
  {
   "cell_type": "code",
   "execution_count": 55,
   "id": "2d55ca7c",
   "metadata": {},
   "outputs": [
    {
     "data": {
      "text/plain": [
       "True"
      ]
     },
     "execution_count": 55,
     "metadata": {},
     "output_type": "execute_result"
    },
    {
     "name": "stdout",
     "output_type": "stream",
     "text": [
      "1,2,3,4,"
     ]
    }
   ],
   "source": [
    "1 in s\n",
    "for x in s:\n",
    "    print(x, end=',')"
   ]
  },
  {
   "cell_type": "code",
   "execution_count": 56,
   "id": "119022f7",
   "metadata": {},
   "outputs": [
    {
     "name": "stdout",
     "output_type": "stream",
     "text": [
      "0,1,2,3,"
     ]
    }
   ],
   "source": [
    "cc = set(range(4))\n",
    "while cc:\n",
    "    print(cc.pop(), end=',')    # pop()默认删除最后一个元素，pop(0)删除第一个元素，返回删除的元素"
   ]
  },
  {
   "cell_type": "code",
   "execution_count": 57,
   "id": "2ba011e7",
   "metadata": {},
   "outputs": [
    {
     "data": {
      "text/plain": [
       "(None, None)"
      ]
     },
     "execution_count": 57,
     "metadata": {},
     "output_type": "execute_result"
    },
    {
     "data": {
      "text/plain": [
       "{1, 2, 3, 4}"
      ]
     },
     "execution_count": 57,
     "metadata": {},
     "output_type": "execute_result"
    },
    {
     "data": {
      "text/plain": [
       "[1, 2, 3, 4, 5]"
      ]
     },
     "execution_count": 57,
     "metadata": {},
     "output_type": "execute_result"
    }
   ],
   "source": [
    "# 加一个元素\n",
    "c = {1, 2, 3}\n",
    "c.add(4), c.add(4)\n",
    "c\n",
    "# c.append(3)没有append方法\n",
    "\n",
    "c = {1, 2, 3, 4, 2, 1, 5, 2}\n",
    "# 去除重复元素\n",
    "list(set(c))"
   ]
  },
  {
   "cell_type": "code",
   "execution_count": 58,
   "id": "af612402",
   "metadata": {},
   "outputs": [
    {
     "data": {
      "text/plain": [
       "{1, 2, 3, 4}"
      ]
     },
     "execution_count": 58,
     "metadata": {},
     "output_type": "execute_result"
    },
    {
     "data": {
      "text/plain": [
       "({1, 2, 3, 4}, {1, 2, 3}, {3, 4})"
      ]
     },
     "execution_count": 58,
     "metadata": {},
     "output_type": "execute_result"
    }
   ],
   "source": [
    "# 合并一个集合\n",
    "c = {1, 2, 3}\n",
    "b = {3, 4}\n",
    "c.update(b)  # 改变原集合\n",
    "c\n",
    "c = {1, 2, 3}\n",
    "b = {3, 4}\n",
    "d = c.union(b)  # 返回一个集合，不改变原集合\n",
    "d, c, b"
   ]
  },
  {
   "cell_type": "code",
   "execution_count": 59,
   "id": "c41f4dab",
   "metadata": {},
   "outputs": [
    {
     "data": {
      "text/plain": [
       "{'a', 'f', 'g', 'j', 'n', 'o', 'p', 's', 'x'}"
      ]
     },
     "execution_count": 59,
     "metadata": {},
     "output_type": "execute_result"
    },
    {
     "data": {
      "text/plain": [
       "{'f', 'g', 'j', 'n', 'o', 'p', 's', 'x'}"
      ]
     },
     "execution_count": 59,
     "metadata": {},
     "output_type": "execute_result"
    }
   ],
   "source": [
    "a = set(\"jafsogagjgsnapgxYafx\")\n",
    "x = 'X'\n",
    "x = 'Y'\n",
    "try:\n",
    "    a.remove(x)  # remove()删除元素，如果元素不存在，会报错\n",
    "except:\n",
    "    pass\n",
    "a\n",
    "a.discard('Y')  # discard()删除元素，如果元素不存在，不会报错\n",
    "a.discard('a')\n",
    "a"
   ]
  },
  {
   "cell_type": "code",
   "execution_count": 60,
   "id": "da9ee7fc",
   "metadata": {},
   "outputs": [
    {
     "data": {
      "text/plain": [
       "({1, 2, 3, 4, 5}, {1, 2}, {3}, {4, 5}, {3, 4, 5})"
      ]
     },
     "execution_count": 60,
     "metadata": {},
     "output_type": "execute_result"
    }
   ],
   "source": [
    "a = {1, 2, 3}\n",
    "b = {4, 5, 2, 1}\n",
    "a | b, a & b, a-b, b-a, a ^ b  # 并集-交集"
   ]
  },
  {
   "cell_type": "code",
   "execution_count": 61,
   "id": "f57f1473",
   "metadata": {},
   "outputs": [
    {
     "data": {
      "text/plain": [
       "True"
      ]
     },
     "execution_count": 61,
     "metadata": {},
     "output_type": "execute_result"
    },
    {
     "data": {
      "text/plain": [
       "True"
      ]
     },
     "execution_count": 61,
     "metadata": {},
     "output_type": "execute_result"
    }
   ],
   "source": [
    "{2, 3}.issubset([1, 2, 3])  # 子集的判断\n",
    "{1, 2, 3}.issuperset([2])  # 超集的判断\n",
    "\n",
    "# intersection交集"
   ]
  },
  {
   "cell_type": "markdown",
   "id": "fbb7f95c",
   "metadata": {},
   "source": [
    "字典\n",
    "1.无序\n",
    "2.可修改,可以看成不定长map"
   ]
  },
  {
   "cell_type": "code",
   "execution_count": 62,
   "id": "9971cacc",
   "metadata": {},
   "outputs": [
    {
     "data": {
      "text/plain": [
       "{'a': 1, 'b': 2, (1, 2): 3, 234: 4, '__main__': 5, True: 6}"
      ]
     },
     "execution_count": 62,
     "metadata": {},
     "output_type": "execute_result"
    }
   ],
   "source": [
    "dc = {'a': 1, 'b': 2, (1, 2): 3, 234: 4, __name__: 5, bool(1): 6}\n",
    "dc"
   ]
  },
  {
   "cell_type": "code",
   "execution_count": 63,
   "id": "cffcd91b",
   "metadata": {},
   "outputs": [
    {
     "data": {
      "text/plain": [
       "(1, 2)"
      ]
     },
     "execution_count": 63,
     "metadata": {},
     "output_type": "execute_result"
    }
   ],
   "source": [
    "dc['a'], dc['b']"
   ]
  },
  {
   "cell_type": "code",
   "execution_count": 64,
   "id": "ea99a251",
   "metadata": {},
   "outputs": [
    {
     "data": {
      "text/plain": [
       "(4, 999)"
      ]
     },
     "execution_count": 64,
     "metadata": {},
     "output_type": "execute_result"
    }
   ],
   "source": [
    "dc['c'] = 999  # add/edit\n",
    "dc[234], dc['c']"
   ]
  },
  {
   "cell_type": "code",
   "execution_count": 65,
   "id": "fe6d59eb",
   "metadata": {},
   "outputs": [
    {
     "data": {
      "text/plain": [
       "{'a': 1, 'b': 2, (1, 2): 3, 234: 4, '__main__': 5, True: 6}"
      ]
     },
     "execution_count": 65,
     "metadata": {},
     "output_type": "execute_result"
    }
   ],
   "source": [
    "del dc['c']  # 不能连续删除两次\n",
    "dc"
   ]
  },
  {
   "cell_type": "code",
   "execution_count": 95,
   "id": "e30fa241",
   "metadata": {},
   "outputs": [
    {
     "data": {
      "text/plain": [
       "{'c': [1, 2, (3, 4), 3, (55, 66)]}"
      ]
     },
     "execution_count": 95,
     "metadata": {},
     "output_type": "execute_result"
    }
   ],
   "source": [
    "dc['c'] = [1, 2, (3, 4), 3, (55, 66)]\n",
    "dc  # python的list是真牛逼"
   ]
  },
  {
   "cell_type": "code",
   "execution_count": 93,
   "metadata": {},
   "outputs": [
    {
     "data": {
      "text/plain": [
       "[1, 2, (3, 4), 3, (55, 66)]"
      ]
     },
     "execution_count": 93,
     "metadata": {},
     "output_type": "execute_result"
    }
   ],
   "source": [
    "dc.pop('c')  # pop()默认删除最后一个元素，pop(0)删除第一个元素，返回删除的元素的值"
   ]
  },
  {
   "cell_type": "code",
   "execution_count": 96,
   "metadata": {},
   "outputs": [
    {
     "data": {
      "text/plain": [
       "('c', [1, 2, (3, 4), 3, (55, 66)])"
      ]
     },
     "execution_count": 96,
     "metadata": {},
     "output_type": "execute_result"
    }
   ],
   "source": [
    "dc.popitem()  # 随机删除一个元素，返回删除的元素的键值对"
   ]
  },
  {
   "cell_type": "code",
   "execution_count": 67,
   "id": "3b99876b",
   "metadata": {},
   "outputs": [
    {
     "ename": "AssertionError",
     "evalue": "",
     "output_type": "error",
     "traceback": [
      "\u001b[1;31m---------------------------------------------------------------------------\u001b[0m",
      "\u001b[1;31mAssertionError\u001b[0m                            Traceback (most recent call last)",
      "\u001b[1;32md:\\code\\py2023\\tutor\\103 基础数据类型.ipynb 单元格 73\u001b[0m line \u001b[0;36m1\n\u001b[1;32m----> <a href='vscode-notebook-cell:/d%3A/code/py2023/tutor/103%20%E5%9F%BA%E7%A1%80%E6%95%B0%E6%8D%AE%E7%B1%BB%E5%9E%8B.ipynb#Y132sZmlsZQ%3D%3D?line=0'>1</a>\u001b[0m \u001b[39massert\u001b[39;00m (\u001b[39m'\u001b[39m\u001b[39md\u001b[39m\u001b[39m'\u001b[39m \u001b[39min\u001b[39;00m dc)  \u001b[39m# 判断条件是否成立，在程序中可以避免报错导致程序崩溃\u001b[39;00m\n",
      "\u001b[1;31mAssertionError\u001b[0m: "
     ]
    }
   ],
   "source": [
    "assert ('d' in dc)  # 判断条件是否成立，在程序中可以避免报错导致程序崩溃"
   ]
  },
  {
   "cell_type": "code",
   "execution_count": null,
   "id": "b345e658-72a3-45f0-83da-878ecd6d73ad",
   "metadata": {},
   "outputs": [],
   "source": []
  },
  {
   "cell_type": "code",
   "execution_count": null,
   "id": "1976bd53",
   "metadata": {},
   "outputs": [],
   "source": []
  }
 ],
 "metadata": {
  "kernelspec": {
   "display_name": "Python 3 (ipykernel)",
   "language": "python",
   "name": "python3"
  },
  "language_info": {
   "codemirror_mode": {
    "name": "ipython",
    "version": 3
   },
   "file_extension": ".py",
   "mimetype": "text/x-python",
   "name": "python",
   "nbconvert_exporter": "python",
   "pygments_lexer": "ipython3",
   "version": "3.10.4"
  },
  "toc": {
   "base_numbering": 1,
   "nav_menu": {},
   "number_sections": true,
   "sideBar": true,
   "skip_h1_title": false,
   "title_cell": "Table of Contents",
   "title_sidebar": "Contents",
   "toc_cell": false,
   "toc_position": {},
   "toc_section_display": true,
   "toc_window_display": false
  }
 },
 "nbformat": 4,
 "nbformat_minor": 5
}
