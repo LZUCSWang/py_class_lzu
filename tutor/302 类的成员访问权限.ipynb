{
 "cells": [
  {
   "cell_type": "code",
   "execution_count": 1,
   "metadata": {},
   "outputs": [],
   "source": [
    "from IPython.core.interactiveshell import InteractiveShell\n",
    "InteractiveShell.ast_node_interactivity = \"all\""
   ]
  },
  {
   "cell_type": "markdown",
   "metadata": {},
   "source": [
    "### 私有和公有"
   ]
  },
  {
   "cell_type": "code",
   "execution_count": 2,
   "metadata": {},
   "outputs": [],
   "source": [
    "class stu:\n",
    "    def __init__(self, n, s):\n",
    "        self.name = n\n",
    "        self.score = s\n",
    "        self.__score = s + 1    # __表示私有属性，外部无法访问，只能通过内部方法访问\n",
    "        self.__score__ = 99  # 特殊属性，外部可以访问，但不建议访问\n",
    "\n",
    "    def getinfo(self):\n",
    "        return (self.__who(), self.__score)\n",
    "\n",
    "    def __who(self):            # 私有方法，外部无法访问，只能通过内部方法访问\n",
    "        return self.name"
   ]
  },
  {
   "cell_type": "code",
   "execution_count": 3,
   "metadata": {},
   "outputs": [
    {
     "data": {
      "text/plain": [
       "('小明', 59)"
      ]
     },
     "execution_count": 3,
     "metadata": {},
     "output_type": "execute_result"
    },
    {
     "data": {
      "text/plain": [
       "{'name': '小明', 'score': 59, '_stu__score': 60, '__score__': 99}"
      ]
     },
     "execution_count": 3,
     "metadata": {},
     "output_type": "execute_result"
    },
    {
     "data": {
      "text/plain": [
       "99"
      ]
     },
     "execution_count": 3,
     "metadata": {},
     "output_type": "execute_result"
    },
    {
     "data": {
      "text/plain": [
       "60"
      ]
     },
     "execution_count": 3,
     "metadata": {},
     "output_type": "execute_result"
    },
    {
     "data": {
      "text/plain": [
       "'小明'"
      ]
     },
     "execution_count": 3,
     "metadata": {},
     "output_type": "execute_result"
    },
    {
     "data": {
      "text/plain": [
       "['__class__',\n",
       " '__delattr__',\n",
       " '__dict__',\n",
       " '__dir__',\n",
       " '__doc__',\n",
       " '__eq__',\n",
       " '__format__',\n",
       " '__ge__',\n",
       " '__getattribute__',\n",
       " '__gt__',\n",
       " '__hash__',\n",
       " '__init__',\n",
       " '__init_subclass__',\n",
       " '__le__',\n",
       " '__lt__',\n",
       " '__module__',\n",
       " '__ne__',\n",
       " '__new__',\n",
       " '__reduce__',\n",
       " '__reduce_ex__',\n",
       " '__repr__',\n",
       " '__score__',\n",
       " '__setattr__',\n",
       " '__sizeof__',\n",
       " '__str__',\n",
       " '__subclasshook__',\n",
       " '__weakref__',\n",
       " '_stu__score',\n",
       " '_stu__who',\n",
       " 'getinfo',\n",
       " 'name',\n",
       " 'score']"
      ]
     },
     "execution_count": 3,
     "metadata": {},
     "output_type": "execute_result"
    }
   ],
   "source": [
    "c = stu('小明', 59)\n",
    "c.name, c.score\n",
    "# c.__score 被双下划线包裹的变量，无法直接访问，只能通过特殊的方式访问（改名）\n",
    "c.__dict__\n",
    "c.__score__\n",
    "c._stu__score\n",
    "c._stu__who()\n",
    "dir(c)"
   ]
  },
  {
   "cell_type": "code",
   "execution_count": 4,
   "metadata": {},
   "outputs": [
    {
     "data": {
      "text/plain": [
       "('小明', 60)"
      ]
     },
     "execution_count": 4,
     "metadata": {},
     "output_type": "execute_result"
    },
    {
     "data": {
      "text/plain": [
       "99"
      ]
     },
     "execution_count": 4,
     "metadata": {},
     "output_type": "execute_result"
    }
   ],
   "source": [
    "c.getinfo()\n",
    "# c.__who()   # 私有方法，外部无法访问，只能通过内部方法访问\n",
    "c.__score__ # 特殊属性，外部可以访问，但不建议访问\n"
   ]
  },
  {
   "cell_type": "markdown",
   "metadata": {},
   "source": [
    "### 强制设定\n",
    "__var # 类私有方法\n",
    "\n",
    "### 编码风格\n",
    "__var__ # 系统定义名字,一般是系统级的特殊应用比如____init____\n",
    "_var # 这是一个局部变量,只能在类内部使用\n",
    "var__ # 避免和关键字冲突,一般不用,比如class__ ,filter__\n",
    "_ # 一个下划线,表示临时变量,作用范围只是相邻的两三行\n"
   ]
  },
  {
   "cell_type": "markdown",
   "metadata": {},
   "source": [
    "### 继承\n",
    "子类复用父类的属性和代码"
   ]
  },
  {
   "cell_type": "code",
   "execution_count": 5,
   "metadata": {},
   "outputs": [
    {
     "name": "stdout",
     "output_type": "stream",
     "text": [
      "2\n",
      "3\n"
     ]
    },
    {
     "data": {
      "text/plain": [
       "(None, None)"
      ]
     },
     "execution_count": 5,
     "metadata": {},
     "output_type": "execute_result"
    },
    {
     "name": "stdout",
     "output_type": "stream",
     "text": [
      "1\n",
      "1\n"
     ]
    },
    {
     "data": {
      "text/plain": [
       "(None, None)"
      ]
     },
     "execution_count": 5,
     "metadata": {},
     "output_type": "execute_result"
    },
    {
     "data": {
      "text/plain": [
       "({'b': 2, 'a': 1, '_A__a': 99}, {'c': 3, 'a': 1, '_A__a': 99})"
      ]
     },
     "execution_count": 5,
     "metadata": {},
     "output_type": "execute_result"
    },
    {
     "data": {
      "text/plain": [
       "(['_A__a',\n",
       "  '__class__',\n",
       "  '__delattr__',\n",
       "  '__dict__',\n",
       "  '__dir__',\n",
       "  '__doc__',\n",
       "  '__eq__',\n",
       "  '__format__',\n",
       "  '__ge__',\n",
       "  '__getattribute__',\n",
       "  '__gt__',\n",
       "  '__hash__',\n",
       "  '__init__',\n",
       "  '__init_subclass__',\n",
       "  '__le__',\n",
       "  '__lt__',\n",
       "  '__module__',\n",
       "  '__ne__',\n",
       "  '__new__',\n",
       "  '__reduce__',\n",
       "  '__reduce_ex__',\n",
       "  '__repr__',\n",
       "  '__setattr__',\n",
       "  '__sizeof__',\n",
       "  '__str__',\n",
       "  '__subclasshook__',\n",
       "  '__weakref__',\n",
       "  'a',\n",
       "  'b',\n",
       "  'f1',\n",
       "  'f2'],\n",
       " ['_A__a',\n",
       "  '__class__',\n",
       "  '__delattr__',\n",
       "  '__dict__',\n",
       "  '__dir__',\n",
       "  '__doc__',\n",
       "  '__eq__',\n",
       "  '__format__',\n",
       "  '__ge__',\n",
       "  '__getattribute__',\n",
       "  '__gt__',\n",
       "  '__hash__',\n",
       "  '__init__',\n",
       "  '__init_subclass__',\n",
       "  '__le__',\n",
       "  '__lt__',\n",
       "  '__module__',\n",
       "  '__ne__',\n",
       "  '__new__',\n",
       "  '__reduce__',\n",
       "  '__reduce_ex__',\n",
       "  '__repr__',\n",
       "  '__setattr__',\n",
       "  '__sizeof__',\n",
       "  '__str__',\n",
       "  '__subclasshook__',\n",
       "  '__weakref__',\n",
       "  'a',\n",
       "  'c',\n",
       "  'f1',\n",
       "  'f3'])"
      ]
     },
     "execution_count": 5,
     "metadata": {},
     "output_type": "execute_result"
    }
   ],
   "source": [
    "class A :\n",
    "    def f1(self):\n",
    "        self.a = 1\n",
    "        self.__a = 99\n",
    "        print(self.a)\n",
    "\n",
    "class B(A):\n",
    "    def f2(self):\n",
    "        self.b = 2\n",
    "        print(self.b)\n",
    "\n",
    "class C(A):\n",
    "    def f3(self):\n",
    "        self.c = 3\n",
    "        print(self.c)\n",
    "\n",
    "\n",
    "\n",
    "\n",
    "b,c = B(),C()\n",
    "b.f2(),c.f3()\n",
    "b.f1(),c.f1()\n",
    "b.__dict__,c.__dict__\n",
    "dir(b),dir(c)\n",
    "    "
   ]
  },
  {
   "cell_type": "code",
   "execution_count": 6,
   "metadata": {},
   "outputs": [
    {
     "data": {
      "text/plain": [
       "['_A__a',\n",
       " '__class__',\n",
       " '__delattr__',\n",
       " '__dict__',\n",
       " '__dir__',\n",
       " '__doc__',\n",
       " '__eq__',\n",
       " '__format__',\n",
       " '__ge__',\n",
       " '__getattribute__',\n",
       " '__gt__',\n",
       " '__hash__',\n",
       " '__init__',\n",
       " '__init_subclass__',\n",
       " '__le__',\n",
       " '__lt__',\n",
       " '__module__',\n",
       " '__ne__',\n",
       " '__new__',\n",
       " '__reduce__',\n",
       " '__reduce_ex__',\n",
       " '__repr__',\n",
       " '__setattr__',\n",
       " '__sizeof__',\n",
       " '__str__',\n",
       " '__subclasshook__',\n",
       " '__weakref__',\n",
       " 'a',\n",
       " 'b',\n",
       " 'f1',\n",
       " 'f2']"
      ]
     },
     "execution_count": 6,
     "metadata": {},
     "output_type": "execute_result"
    }
   ],
   "source": [
    "dir(b)"
   ]
  },
  {
   "cell_type": "code",
   "execution_count": 7,
   "metadata": {},
   "outputs": [
    {
     "name": "stdout",
     "output_type": "stream",
     "text": [
      "b 2\n",
      "c 3\n"
     ]
    },
    {
     "data": {
      "text/plain": [
       "(None, None)"
      ]
     },
     "execution_count": 7,
     "metadata": {},
     "output_type": "execute_result"
    },
    {
     "name": "stdout",
     "output_type": "stream",
     "text": [
      "a 1\n",
      "a 1\n"
     ]
    },
    {
     "data": {
      "text/plain": [
       "(None, None)"
      ]
     },
     "execution_count": 7,
     "metadata": {},
     "output_type": "execute_result"
    },
    {
     "data": {
      "text/plain": [
       "({'b': 2, 'a': 1}, {'c': 3, 'a': 1})"
      ]
     },
     "execution_count": 7,
     "metadata": {},
     "output_type": "execute_result"
    }
   ],
   "source": [
    "# 反复继承\n",
    "class A :\n",
    "    def f1(self):\n",
    "        self.a = 1\n",
    "        # self.__a = 99\n",
    "        print('a',self.a)\n",
    "\n",
    "class B(A):\n",
    "    def f2(self):\n",
    "        self.b = 2\n",
    "        print('b',self.b)\n",
    "\n",
    "class C(B):\n",
    "    def f3(self):\n",
    "        self.c = 3\n",
    "        print('c',self.c)\n",
    "\n",
    "\n",
    "\n",
    "\n",
    "b,c = B(),C()\n",
    "b.f2(),c.f3()\n",
    "b.f1(),c.f1()\n",
    "b.__dict__,c.__dict__\n",
    "\n",
    "    "
   ]
  },
  {
   "cell_type": "code",
   "execution_count": 8,
   "metadata": {},
   "outputs": [
    {
     "name": "stdout",
     "output_type": "stream",
     "text": [
      "hello world\n",
      "a 1\n",
      "b 2\n",
      "c 3\n"
     ]
    },
    {
     "data": {
      "text/plain": [
       "({'a': 1, 'b': 2, 'c': 3},\n",
       " ['__class__',\n",
       "  '__delattr__',\n",
       "  '__dict__',\n",
       "  '__dir__',\n",
       "  '__doc__',\n",
       "  '__eq__',\n",
       "  '__format__',\n",
       "  '__ge__',\n",
       "  '__getattribute__',\n",
       "  '__gt__',\n",
       "  '__hash__',\n",
       "  '__init__',\n",
       "  '__init_subclass__',\n",
       "  '__le__',\n",
       "  '__lt__',\n",
       "  '__module__',\n",
       "  '__ne__',\n",
       "  '__new__',\n",
       "  '__reduce__',\n",
       "  '__reduce_ex__',\n",
       "  '__repr__',\n",
       "  '__setattr__',\n",
       "  '__sizeof__',\n",
       "  '__str__',\n",
       "  '__subclasshook__',\n",
       "  '__weakref__',\n",
       "  'a',\n",
       "  'b',\n",
       "  'c',\n",
       "  'hi'])"
      ]
     },
     "execution_count": 8,
     "metadata": {},
     "output_type": "execute_result"
    }
   ],
   "source": [
    "# 继承带构造函数 __init__\n",
    "class A :\n",
    "    def __init__(self,a):\n",
    "        self.a = a\n",
    "        print('a',self.a)\n",
    "    def hi(self):\n",
    "        print('hello world')\n",
    "\n",
    "class B(A):\n",
    "    def __init__(self,a,b):\n",
    "        A.__init__(self,a) # 调用父类的构造函数，参数要加上self，否则报错\n",
    "        self.b = b\n",
    "        print('b',self.b)\n",
    "\n",
    "class C(B):\n",
    "    def __init__(self,a,b,c):\n",
    "        self.hi() # 调用父类的方法，必须指定父类self\n",
    "        B.__init__(self,a,b)\n",
    "        self.c = c\n",
    "        print('c',self.c)\n",
    "\n",
    "    \n",
    "        \n",
    "c = C(1,2,3)\n",
    "c.__dict__,dir(c)"
   ]
  },
  {
   "cell_type": "code",
   "execution_count": 15,
   "metadata": {},
   "outputs": [
    {
     "name": "stdout",
     "output_type": "stream",
     "text": [
      "hello world\n",
      "a 1\n",
      "b 2\n",
      "c 3\n"
     ]
    },
    {
     "data": {
      "text/plain": [
       "({'a': 1, 'b': 2, 'c': 3},\n",
       " ['__class__',\n",
       "  '__delattr__',\n",
       "  '__dict__',\n",
       "  '__dir__',\n",
       "  '__doc__',\n",
       "  '__eq__',\n",
       "  '__format__',\n",
       "  '__ge__',\n",
       "  '__getattribute__',\n",
       "  '__gt__',\n",
       "  '__hash__',\n",
       "  '__init__',\n",
       "  '__init_subclass__',\n",
       "  '__le__',\n",
       "  '__lt__',\n",
       "  '__module__',\n",
       "  '__ne__',\n",
       "  '__new__',\n",
       "  '__reduce__',\n",
       "  '__reduce_ex__',\n",
       "  '__repr__',\n",
       "  '__setattr__',\n",
       "  '__sizeof__',\n",
       "  '__str__',\n",
       "  '__subclasshook__',\n",
       "  '__weakref__',\n",
       "  'a',\n",
       "  'b',\n",
       "  'c',\n",
       "  'hi'])"
      ]
     },
     "execution_count": 15,
     "metadata": {},
     "output_type": "execute_result"
    }
   ],
   "source": [
    "# 继承带构造函数 __init__\n",
    "class A :\n",
    "    def __init__(self,a):\n",
    "        self.a = a\n",
    "        print('a',self.a)\n",
    "    def hi(self):\n",
    "        print('hello world')\n",
    "\n",
    "class B(A):\n",
    "    def __init__(self,a,b):\n",
    "        A.__init__(self,a) # 调用父类的构造函数，参数要加上self，否则报错\n",
    "        self.b = b\n",
    "        print('b',self.b)\n",
    "\n",
    "class C(B):\n",
    "    def __init__(self,a,b,c):\n",
    "        # self.hi() # 调用父类的方法，必须指定父类self\n",
    "        A.hi(self)\n",
    "        # self.__init__(a,b,c)\n",
    "        B.__init__(self,a,b)\n",
    "        self.c = c\n",
    "        print('c',self.c)\n",
    "\n",
    "    \n",
    "        \n",
    "c = C(1,2,3)\n",
    "c.__dict__,dir(c)"
   ]
  },
  {
   "cell_type": "code",
   "execution_count": 10,
   "metadata": {},
   "outputs": [
    {
     "name": "stdout",
     "output_type": "stream",
     "text": [
      "a 1\n",
      "b 2\n",
      "c 3\n"
     ]
    },
    {
     "data": {
      "text/plain": [
       "{'a': 1, 'b': 2, 'c': 3}"
      ]
     },
     "execution_count": 10,
     "metadata": {},
     "output_type": "execute_result"
    }
   ],
   "source": [
    "# 更优雅的写法\n",
    "class A :\n",
    "    def __init__(self,a):\n",
    "        self.a = a\n",
    "        print('a',self.a)\n",
    "    def hi(self):\n",
    "        print('hello world')\n",
    "\n",
    "class B(A):\n",
    "    def __init__(self,a,b):\n",
    "        A.__init__(self,a) # 调用父类的构造函数，参数要加上self，否则报错\n",
    "        self.b = b\n",
    "        print('b',self.b)\n",
    "\n",
    "class C(B):\n",
    "    def __init__(self,a,b,c):\n",
    "        super().__init__(a,b)   # 调用父类的构造函数，参数不用加self，比较优雅\n",
    "        self.c = c\n",
    "        print('c',self.c)\n",
    "\n",
    "C(1,2,3).__dict__"
   ]
  },
  {
   "cell_type": "code",
   "execution_count": 11,
   "metadata": {},
   "outputs": [
    {
     "name": "stdout",
     "output_type": "stream",
     "text": [
      "a 1\n",
      "b 2\n",
      "c 3\n"
     ]
    },
    {
     "data": {
      "text/plain": [
       "(None, None, None, {'a': 1, 'b': 2, 'c': 3})"
      ]
     },
     "execution_count": 11,
     "metadata": {},
     "output_type": "execute_result"
    }
   ],
   "source": [
    "# 多继承\n",
    "class A :\n",
    "    def f1(self,a):\n",
    "        self.a = a\n",
    "        # self.__a = 99\n",
    "        print('a',self.a)\n",
    "\n",
    "class B:\n",
    "    def f2(self,b):\n",
    "        self.b = b\n",
    "        print('b',self.b)\n",
    "\n",
    "class C(A,B):\n",
    "    def f3(self,c):\n",
    "        self.c = c\n",
    "        print('c',self.c)\n",
    "\n",
    "c = C()\n",
    "c.f1(1),c.f2(2),c.f3(3),c.__dict__\n"
   ]
  },
  {
   "cell_type": "code",
   "execution_count": 20,
   "metadata": {},
   "outputs": [
    {
     "name": "stdout",
     "output_type": "stream",
     "text": [
      "a 1\n",
      "b 2\n",
      "hello world\n",
      "1,hello world\n",
      "c 3\n"
     ]
    },
    {
     "data": {
      "text/plain": [
       "(None, None, None, {'a': 1, 'b': 2, 'c': 3})"
      ]
     },
     "execution_count": 20,
     "metadata": {},
     "output_type": "execute_result"
    }
   ],
   "source": [
    "# 多继承\n",
    "class A :\n",
    "    def f1(self,a):\n",
    "        self.a = a\n",
    "        # self.__a = 99\n",
    "        print('a',self.a)\n",
    "    def hi():\n",
    "        print('hello world')\n",
    "    def self_hi(self):\n",
    "        print(f'{self.a},hello world')\n",
    "class B:\n",
    "    def f2(self,b):\n",
    "        self.b = b\n",
    "        print('b',self.b)\n",
    "\n",
    "class C(A,B):\n",
    "    def f3(self,c):\n",
    "        A.hi()\n",
    "        self.self_hi()\n",
    "        self.c = c\n",
    "        print('c',self.c)\n",
    "\n",
    "c = C()\n",
    "c.f1(1),c.f2(2),c.f3(3),c.__dict__\n"
   ]
  },
  {
   "cell_type": "code",
   "execution_count": 12,
   "metadata": {},
   "outputs": [
    {
     "name": "stdout",
     "output_type": "stream",
     "text": [
      "clsa 111\n",
      "clsa 1\n",
      "clsa 1\n",
      "clsc 3\n"
     ]
    },
    {
     "data": {
      "text/plain": [
       "(None, None, {'a': 1, 'c': 3})"
      ]
     },
     "execution_count": 12,
     "metadata": {},
     "output_type": "execute_result"
    }
   ],
   "source": [
    "# 继承后不满意→重写即可,常见也可以调用父类的方法基础上做拓展\n",
    "class A:\n",
    "    def f1(self):\n",
    "        self.a = 1\n",
    "        print('clsa', self.a)\n",
    "\n",
    "\n",
    "class C(A):\n",
    "    def f3(self):\n",
    "        self.c = 3\n",
    "        print('clsc', self.c)\n",
    "\n",
    "    def f1(self):\n",
    "        self.a = 111\n",
    "        print('clsa', self.a)\n",
    "\n",
    "        A.f1(self)  # 指定父类类名的方法\n",
    "        super().f1() # 调用父类的方法，推荐这种写法，不用指定父类类名\n",
    "\n",
    "\n",
    "\n",
    "c = C()\n",
    "c.f1(), c.f3(), c.__dict__"
   ]
  },
  {
   "cell_type": "code",
   "execution_count": 13,
   "metadata": {},
   "outputs": [
    {
     "name": "stdout",
     "output_type": "stream",
     "text": [
      "clsa 2\n",
      "clsb 3\n"
     ]
    },
    {
     "data": {
      "text/plain": [
       "(3, 2, {'obja': <__main__.A at 0x238e344e7d0>, 'b': 3})"
      ]
     },
     "execution_count": 13,
     "metadata": {},
     "output_type": "execute_result"
    }
   ],
   "source": [
    "# 类包含\n",
    "class A:\n",
    "    def __init__(self,x):\n",
    "        self.a = x\n",
    "        print('clsa', self.a)\n",
    "    \n",
    "class B:\n",
    "    def __init__(self,x,y):\n",
    "        self.obja = A(x)\n",
    "        self.b = y\n",
    "        print('clsb', self.b)\n",
    "\n",
    "b = B(2,3)\n",
    "b.b, b.obja.a, b.__dict__"
   ]
  },
  {
   "cell_type": "markdown",
   "metadata": {},
   "source": [
    "### 多态\n",
    "- 一条调用语句,能调用不同类的方法\n",
    "- 基类指针指向派生类对象(C++)\n",
    "- Python中不特别强调类别,所以多态的概念不是很重要,只是一个现象\n",
    "- Python中多态的实现是通过系统级的对象接口协议来实现的"
   ]
  },
  {
   "cell_type": "code",
   "execution_count": 14,
   "metadata": {},
   "outputs": [
    {
     "name": "stdout",
     "output_type": "stream",
     "text": [
      "dog\n",
      "person\n",
      "person\n",
      "dog\n"
     ]
    }
   ],
   "source": [
    "class Ani:\n",
    "    def __init__(self,n) -> None:\n",
    "        self.name = n\n",
    "        pass\n",
    "    def hello(self):\n",
    "        pass\n",
    "\n",
    "class Dog(Ani):\n",
    "    def __init__(self,n) -> None:\n",
    "        super().__init__(n)\n",
    "        pass\n",
    "    def hello(self):\n",
    "        print('dog')\n",
    "\n",
    "class Person(Ani):\n",
    "    def __init__(self,n) -> None:\n",
    "        super().__init__(n)\n",
    "        pass\n",
    "    def hello(self):\n",
    "        print('person')\n",
    "\n",
    "for x in [Dog('dog'),Person('小王'),Person('小李'),Dog('来福')]:\n",
    "    x.hello() # 多态，不同的对象调用相同的方法，产生不同的结果，这里调用了自身的hello方法"
   ]
  },
  {
   "cell_type": "code",
   "execution_count": null,
   "metadata": {},
   "outputs": [],
   "source": []
  }
 ],
 "metadata": {
  "kernelspec": {
   "display_name": "Python 3",
   "language": "python",
   "name": "python3"
  },
  "language_info": {
   "codemirror_mode": {
    "name": "ipython",
    "version": 3
   },
   "file_extension": ".py",
   "mimetype": "text/x-python",
   "name": "python",
   "nbconvert_exporter": "python",
   "pygments_lexer": "ipython3",
   "version": "3.8.10"
  }
 },
 "nbformat": 4,
 "nbformat_minor": 2
}
