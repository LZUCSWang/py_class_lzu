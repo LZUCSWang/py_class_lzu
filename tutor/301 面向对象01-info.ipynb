{
 "cells": [
  {
   "cell_type": "code",
   "execution_count": 18,
   "metadata": {},
   "outputs": [],
   "source": [
    "from IPython.core.interactiveshell import InteractiveShell\n",
    "InteractiveShell.ast_node_interactivity = \"all\""
   ]
  },
  {
   "cell_type": "code",
   "execution_count": 19,
   "metadata": {},
   "outputs": [
    {
     "data": {
      "text/plain": [
       "<__main__.Person at 0x28afb0f3f10>"
      ]
     },
     "execution_count": 19,
     "metadata": {},
     "output_type": "execute_result"
    },
    {
     "name": "stdout",
     "output_type": "stream",
     "text": [
      "吃饭\n"
     ]
    }
   ],
   "source": [
    "# 定义一个馁的新类型\n",
    "class Person:\n",
    "    # 类属性\n",
    "    name = '小明'\n",
    "    age = 18\n",
    "    # 类方法\n",
    "\n",
    "    def eat(self):\n",
    "        print('吃饭')\n",
    "\n",
    "    def sleep(self):\n",
    "        print('睡觉')\n",
    "\n",
    "    def play(self):\n",
    "        print('玩耍')\n",
    "\n",
    "\n",
    "# 创建对象\n",
    "p = Person()\n",
    "p\n",
    "p.eat()"
   ]
  },
  {
   "cell_type": "code",
   "execution_count": 20,
   "metadata": {},
   "outputs": [
    {
     "name": "stdout",
     "output_type": "stream",
     "text": [
      "你好,小明\n"
     ]
    }
   ],
   "source": [
    "# 类方法\n",
    "class person:\n",
    "    # def hi(self):\n",
    "    #     print(f'你好,{self.name}')\n",
    "    # 也可以使用this关键字\n",
    "    def hi(this):  # this就是self,所以只是第一个参数代表的是对象本身\n",
    "        print(f'你好,{this.name}')\n",
    "\n",
    "\n",
    "a = person()\n",
    "a.name = '小明'\n",
    "a.hi()"
   ]
  },
  {
   "cell_type": "code",
   "execution_count": 21,
   "metadata": {},
   "outputs": [
    {
     "data": {
      "text/plain": [
       "(19,\n",
       " {'name': '小明', 'age': 19},\n",
       " mappingproxy({'__module__': '__main__',\n",
       "               'hi': <function __main__.person.hi(this)>,\n",
       "               '__dict__': <attribute '__dict__' of 'person' objects>,\n",
       "               '__weakref__': <attribute '__weakref__' of 'person' objects>,\n",
       "               '__doc__': None}))"
      ]
     },
     "execution_count": 21,
     "metadata": {},
     "output_type": "execute_result"
    }
   ],
   "source": [
    "# 动态添加对象数据\n",
    "a.age = 18\n",
    "a.age += 1\n",
    "a.age, a.__dict__, person.__dict__\n",
    "# person.age"
   ]
  },
  {
   "cell_type": "code",
   "execution_count": 22,
   "metadata": {},
   "outputs": [
    {
     "name": "stdout",
     "output_type": "stream",
     "text": [
      "run 10 km\n"
     ]
    },
    {
     "data": {
      "text/plain": [
       "['__class__',\n",
       " '__delattr__',\n",
       " '__dict__',\n",
       " '__dir__',\n",
       " '__doc__',\n",
       " '__eq__',\n",
       " '__format__',\n",
       " '__ge__',\n",
       " '__getattribute__',\n",
       " '__gt__',\n",
       " '__hash__',\n",
       " '__init__',\n",
       " '__init_subclass__',\n",
       " '__le__',\n",
       " '__lt__',\n",
       " '__module__',\n",
       " '__ne__',\n",
       " '__new__',\n",
       " '__reduce__',\n",
       " '__reduce_ex__',\n",
       " '__repr__',\n",
       " '__setattr__',\n",
       " '__sizeof__',\n",
       " '__str__',\n",
       " '__subclasshook__',\n",
       " '__weakref__',\n",
       " 'hi',\n",
       " 'run']"
      ]
     },
     "execution_count": 22,
     "metadata": {},
     "output_type": "execute_result"
    }
   ],
   "source": [
    "# 动态加类方法\n",
    "def ff(self, x):  # self引用类的实例\n",
    "    print(f'run {x} km')\n",
    "\n",
    "\n",
    "person.run = ff\n",
    "c = person()\n",
    "c.run(10)  # 就正常调用了\n",
    "dir(person)"
   ]
  },
  {
   "cell_type": "code",
   "execution_count": 23,
   "metadata": {},
   "outputs": [
    {
     "name": "stdout",
     "output_type": "stream",
     "text": [
      "你好,小明\n"
     ]
    },
    {
     "data": {
      "text/plain": [
       "(['__class__',\n",
       "  '__delattr__',\n",
       "  '__dict__',\n",
       "  '__dir__',\n",
       "  '__doc__',\n",
       "  '__eq__',\n",
       "  '__format__',\n",
       "  '__ge__',\n",
       "  '__getattribute__',\n",
       "  '__gt__',\n",
       "  '__hash__',\n",
       "  '__init__',\n",
       "  '__init_subclass__',\n",
       "  '__le__',\n",
       "  '__lt__',\n",
       "  '__module__',\n",
       "  '__ne__',\n",
       "  '__new__',\n",
       "  '__reduce__',\n",
       "  '__reduce_ex__',\n",
       "  '__repr__',\n",
       "  '__setattr__',\n",
       "  '__sizeof__',\n",
       "  '__str__',\n",
       "  '__subclasshook__',\n",
       "  '__weakref__',\n",
       "  'hi',\n",
       "  'name'],\n",
       " ['__class__',\n",
       "  '__delattr__',\n",
       "  '__dict__',\n",
       "  '__dir__',\n",
       "  '__doc__',\n",
       "  '__eq__',\n",
       "  '__format__',\n",
       "  '__ge__',\n",
       "  '__getattribute__',\n",
       "  '__gt__',\n",
       "  '__hash__',\n",
       "  '__init__',\n",
       "  '__init_subclass__',\n",
       "  '__le__',\n",
       "  '__lt__',\n",
       "  '__module__',\n",
       "  '__ne__',\n",
       "  '__new__',\n",
       "  '__reduce__',\n",
       "  '__reduce_ex__',\n",
       "  '__repr__',\n",
       "  '__setattr__',\n",
       "  '__sizeof__',\n",
       "  '__str__',\n",
       "  '__subclasshook__',\n",
       "  '__weakref__'])"
      ]
     },
     "execution_count": 23,
     "metadata": {},
     "output_type": "execute_result"
    }
   ],
   "source": [
    "# 动态加对象方法\n",
    "class person:\n",
    "    pass\n",
    "\n",
    "\n",
    "def hi(self):\n",
    "    print(f'你好,{self.name}')\n",
    "\n",
    "\n",
    "a = person()\n",
    "a.name = '小明'\n",
    "a.hi = hi  # 实例添加方法\n",
    "a.hi(a)  # 这里的a是传入的self，类方法才能自动传入self，对象方法需要手动传入，不建议这么做\n",
    "dir(a), dir(person)  # 在实例a中有hi方法，但是在类中没有"
   ]
  },
  {
   "cell_type": "code",
   "execution_count": 24,
   "metadata": {},
   "outputs": [
    {
     "name": "stdout",
     "output_type": "stream",
     "text": [
      "你好,小明\n"
     ]
    }
   ],
   "source": [
    "# 动态加对象方法\n",
    "class person:\n",
    "    pass\n",
    "\n",
    "\n",
    "def hi(self):\n",
    "    print(f'你好,{self.name}')\n",
    "\n",
    "\n",
    "a = person()\n",
    "a.name = '小明'\n",
    "a.method = hi  # 实例添加方法，这样不会自动传入self参数，需要手动将a作为参数传入\n",
    "a.method(a)  # 这里的a是传入的self，类方法才能自动传入self，对象方法需要手动传入，不建议这么做"
   ]
  },
  {
   "cell_type": "code",
   "execution_count": 25,
   "metadata": {},
   "outputs": [
    {
     "name": "stdout",
     "output_type": "stream",
     "text": [
      "我是小明\n",
      "你好,小明\n"
     ]
    }
   ],
   "source": [
    "# 对象初始化指定函数 != 构造函数\n",
    "# 因为构造函数功能分解到Python的几个函数里面了\n",
    "class person:\n",
    "    def __init__(self, name):    # 这个函数是对象初始化的时候自动调用的\n",
    "        self.name = name\n",
    "        print(f'我是{self.name}')\n",
    "\n",
    "    def hi(self):\n",
    "        print(f'你好,{self.name}')\n",
    "\n",
    "\n",
    "a = person('小明')\n",
    "a.hi()"
   ]
  },
  {
   "cell_type": "code",
   "execution_count": 26,
   "metadata": {},
   "outputs": [
    {
     "data": {
      "text/html": [
       "<div>\n",
       "<style scoped>\n",
       "    .dataframe tbody tr th:only-of-type {\n",
       "        vertical-align: middle;\n",
       "    }\n",
       "\n",
       "    .dataframe tbody tr th {\n",
       "        vertical-align: top;\n",
       "    }\n",
       "\n",
       "    .dataframe thead th {\n",
       "        text-align: right;\n",
       "    }\n",
       "</style>\n",
       "<table border=\"1\" class=\"dataframe\">\n",
       "  <thead>\n",
       "    <tr style=\"text-align: right;\">\n",
       "      <th></th>\n",
       "      <th>学   号</th>\n",
       "      <th>姓  名</th>\n",
       "      <th>性  别</th>\n",
       "      <th>院系</th>\n",
       "      <th>专业</th>\n",
       "      <th>年级</th>\n",
       "      <th>班级</th>\n",
       "      <th>选课属性</th>\n",
       "      <th>考核方式</th>\n",
       "      <th>考试性质</th>\n",
       "      <th>是否缓考</th>\n",
       "      <th>成绩</th>\n",
       "    </tr>\n",
       "  </thead>\n",
       "  <tbody>\n",
       "    <tr>\n",
       "      <th>0</th>\n",
       "      <td>320170914881</td>\n",
       "      <td>刘光亚</td>\n",
       "      <td>男</td>\n",
       "      <td>管理学院</td>\n",
       "      <td>信息管理与信息系统</td>\n",
       "      <td>2017级</td>\n",
       "      <td>2017信息管理与信息系统</td>\n",
       "      <td>NaN</td>\n",
       "      <td>未确定</td>\n",
       "      <td>正常考试</td>\n",
       "      <td>非缓考</td>\n",
       "      <td>NaN</td>\n",
       "    </tr>\n",
       "    <tr>\n",
       "      <th>1</th>\n",
       "      <td>320180904031</td>\n",
       "      <td>赵博华</td>\n",
       "      <td>男</td>\n",
       "      <td>信息科学与工程学院</td>\n",
       "      <td>数据科学与大数据技术</td>\n",
       "      <td>2019级</td>\n",
       "      <td>2019级数据科学与大数据技术班</td>\n",
       "      <td>必修</td>\n",
       "      <td>未确定</td>\n",
       "      <td>正常考试</td>\n",
       "      <td>非缓考</td>\n",
       "      <td>NaN</td>\n",
       "    </tr>\n",
       "  </tbody>\n",
       "</table>\n",
       "</div>"
      ],
      "text/plain": [
       "          学   号 姓  名 性  别             院系              专业     年级  \\\n",
       "0  320170914881  刘光亚    男         管理学院       信息管理与信息系统    2017级   \n",
       "1  320180904031  赵博华    男    信息科学与工程学院      数据科学与大数据技术    2019级   \n",
       "\n",
       "                 班级 选课属性 考核方式  考试性质 是否缓考  成绩  \n",
       "0     2017信息管理与信息系统  NaN  未确定  正常考试  非缓考 NaN  \n",
       "1  2019级数据科学与大数据技术班   必修  未确定  正常考试  非缓考 NaN  "
      ]
     },
     "execution_count": 26,
     "metadata": {},
     "output_type": "execute_result"
    }
   ],
   "source": [
    "import pandas as pd\n",
    "df = pd.read_excel('../data/studentselectedcoursebook1.xls', header=1)\n",
    "df.head(2)"
   ]
  },
  {
   "cell_type": "code",
   "execution_count": 27,
   "metadata": {},
   "outputs": [
    {
     "data": {
      "text/plain": [
       "Index(['学   号', '姓  名', '性  别', '院系', '专业', '年级', '班级', '选课属性', '考核方式', '考试性质',\n",
       "       '是否缓考', '成绩'],\n",
       "      dtype='object')"
      ]
     },
     "execution_count": 27,
     "metadata": {},
     "output_type": "execute_result"
    }
   ],
   "source": [
    "df.columns"
   ]
  },
  {
   "cell_type": "code",
   "execution_count": 28,
   "metadata": {},
   "outputs": [
    {
     "name": "stdout",
     "output_type": "stream",
     "text": [
      "初始化:\n",
      "我是王双艳\n",
      "我是安鸿\n",
      "我是何文怡兰\n",
      "我是娜日格勒\n",
      "我是王甜甜\n",
      "我是张若寒\n",
      "我是张雪娟\n",
      "我是张渲婧\n",
      "我是左波\n"
     ]
    }
   ],
   "source": [
    "print(\"初始化:\")\n",
    "stus = [person(x['姓  名']) for idx, x in df.iterrows() if x['性  别'] == '女']"
   ]
  },
  {
   "cell_type": "code",
   "execution_count": 29,
   "metadata": {},
   "outputs": [
    {
     "name": "stdout",
     "output_type": "stream",
     "text": [
      "你好,何文怡兰\n"
     ]
    }
   ],
   "source": [
    "\n",
    "stus[2].hi()\n",
    "\n",
    "# 何文怡兰"
   ]
  },
  {
   "cell_type": "code",
   "execution_count": 30,
   "metadata": {},
   "outputs": [
    {
     "name": "stdout",
     "output_type": "stream",
     "text": [
      "你好,何文怡兰\n",
      "你好,王甜甜\n"
     ]
    }
   ],
   "source": [
    "\n",
    "locals()[stus[2].name] = stus[2]  # 将对象赋值给一个变量,locals()返回一个字典，包含当前作用域的所有变量\n",
    "\n",
    "何文怡兰.hi()  # 通过变量名调用对象方法\n",
    "\n",
    "for x in stus:\n",
    "    locals()[x.name] = x\n",
    "王甜甜.hi()"
   ]
  },
  {
   "cell_type": "markdown",
   "metadata": {},
   "source": [
    "## 对象属性和类属性\n"
   ]
  }
 ],
 "metadata": {
  "kernelspec": {
   "display_name": "Python 3",
   "language": "python",
   "name": "python3"
  },
  "language_info": {
   "codemirror_mode": {
    "name": "ipython",
    "version": 3
   },
   "file_extension": ".py",
   "mimetype": "text/x-python",
   "name": "python",
   "nbconvert_exporter": "python",
   "pygments_lexer": "ipython3",
   "version": "3.10.4"
  }
 },
 "nbformat": 4,
 "nbformat_minor": 2
}
