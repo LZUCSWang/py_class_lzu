{
 "cells": [
  {
   "cell_type": "markdown",
   "metadata": {},
   "source": [
    "##### 读写一个文件"
   ]
  },
  {
   "cell_type": "code",
   "execution_count": 2,
   "metadata": {},
   "outputs": [
    {
     "name": "stdout",
     "output_type": "stream",
     "text": [
      " this is a test \n",
      " and another test \n"
     ]
    }
   ],
   "source": [
    "f = open('data/test_file.txt', 'r')\n",
    "s = f.read()\n",
    "print(s)\n",
    "f.close() # 关闭文件, 释放资源"
   ]
  },
  {
   "cell_type": "code",
   "execution_count": 4,
   "metadata": {},
   "outputs": [
    {
     "name": "stdout",
     "output_type": "stream",
     "text": [
      " this is a test \n",
      " and another test \n"
     ]
    }
   ],
   "source": [
    "with open('data/test_file.txt', 'r') as f:\n",
    "    s = f.read()\n",
    "    print(s)\n",
    "\n",
    "# with 可以自动关闭文件，不需要手动关闭\n"
   ]
  },
  {
   "cell_type": "code",
   "execution_count": 11,
   "metadata": {},
   "outputs": [
    {
     "name": "stdout",
     "output_type": "stream",
     "text": [
      " this is a test \n",
      "\n",
      " and another test \n"
     ]
    }
   ],
   "source": [
    "with open('data/test_file.txt', 'r') as f:\n",
    "   for line in f:\n",
    "        # print(line.strip())\n",
    "        # print(line, end='') # end='' 不换行\n",
    "        print(line) # 会有多余的换行"
   ]
  },
  {
   "cell_type": "code",
   "execution_count": 12,
   "metadata": {},
   "outputs": [],
   "source": [
    "import os\n",
    "filepath = os.path.join('data', 'test_file.txt') # 跨平台，解决编码问题\n",
    "# filepath = 'data/'+ 'test_file.txt'"
   ]
  },
  {
   "cell_type": "code",
   "execution_count": 13,
   "metadata": {},
   "outputs": [
    {
     "name": "stdout",
     "output_type": "stream",
     "text": [
      " this is a test \n",
      "\n",
      " and another test \n"
     ]
    }
   ],
   "source": [
    "with open (filepath, 'r') as f:\n",
    "    for line in f:\n",
    "        print(line)"
   ]
  },
  {
   "cell_type": "code",
   "execution_count": 18,
   "metadata": {},
   "outputs": [
    {
     "name": "stdout",
     "output_type": "stream",
     "text": [
      " this is a test \n",
      " and another test hello world\n",
      "hello world\n",
      "hello world\n",
      "hello world\n",
      "hello world\n",
      "\n"
     ]
    }
   ],
   "source": [
    "with open('data/test_file.txt', 'a') as f:  # a 追加\n",
    "    f.write('hello world\\n')\n",
    "\n",
    "with open('data/test_file.txt', 'r') as f:  # r 只读\n",
    "    print(f.read())"
   ]
  },
  {
   "cell_type": "code",
   "execution_count": 20,
   "metadata": {},
   "outputs": [],
   "source": [
    "# 变量文件,可以用来存储数据(序列化)\n",
    "import pickle\n",
    "\n",
    "# python自定义格式 vs hdfs\n",
    "# csv,xlsx,mysql,redis\n",
    "# 可以存储任意数据类型，迅速且占用空间小\n",
    "# 可以将其加入自己的私有函数包\n",
    "# 自定义格式\n",
    "def pksave(filepath, data):\n",
    "    with open(filepath, 'wb') as f:\n",
    "        pickle.dump(data, f)  # 序列化\n",
    "\n",
    "\n",
    "def pkread(filepath):\n",
    "    with open(filepath, 'rb') as f:\n",
    "        data = pickle.load(f)   # 反序列化\n",
    "    return data"
   ]
  },
  {
   "cell_type": "code",
   "execution_count": 21,
   "metadata": {},
   "outputs": [
    {
     "name": "stdout",
     "output_type": "stream",
     "text": [
      "[1, 2, 3, {'e': 'lzu'}]\n"
     ]
    }
   ],
   "source": [
    "filepath = os.path.join('data', 'test_file.pk')\n",
    "pksave(filepath, [1, 2, 3, {'e': 'lzu'}]) # 及时保存数据\n",
    "data = pkread(filepath)\n",
    "print(data)"
   ]
  },
  {
   "cell_type": "code",
   "execution_count": 24,
   "metadata": {},
   "outputs": [
    {
     "data": {
      "text/plain": [
       "[1, 2, 3, {'e': 'lzu'}, 999, 999, 999]"
      ]
     },
     "execution_count": 24,
     "metadata": {},
     "output_type": "execute_result"
    }
   ],
   "source": [
    "data.append(999)    # 修改变量\n",
    "pksave(filepath, data)  # 保存变量\n",
    "data = pkread(filepath) # 读取变量\n",
    "data"
   ]
  },
  {
   "cell_type": "code",
   "execution_count": null,
   "metadata": {},
   "outputs": [],
   "source": []
  },
  {
   "cell_type": "code",
   "execution_count": null,
   "metadata": {},
   "outputs": [],
   "source": []
  }
 ],
 "metadata": {
  "kernelspec": {
   "display_name": "Python 3",
   "language": "python",
   "name": "python3"
  },
  "language_info": {
   "codemirror_mode": {
    "name": "ipython",
    "version": 3
   },
   "file_extension": ".py",
   "mimetype": "text/x-python",
   "name": "python",
   "nbconvert_exporter": "python",
   "pygments_lexer": "ipython3",
   "version": "3.8.10"
  }
 },
 "nbformat": 4,
 "nbformat_minor": 2
}
