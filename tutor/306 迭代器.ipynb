{
 "cells": [
  {
   "cell_type": "markdown",
   "metadata": {},
   "source": [
    "### 迭代器\n",
    "如何实现拥有以下能力？\n",
    "code:\n",
    "```python\n",
    "for <var> in <iterable>:\n",
    "    do something\n",
    "for x in range(10):\n",
    "    print(x)\n",
    "```\n",
    "- 迭代器：实现了`__iter__`和`__next__`方法的对象\n",
    "- 执行机制：\n",
    "    - `iter()`函数获取可迭代对象的迭代器\n",
    "    - `next()`函数获取迭代器的下一个元素\n",
    "    - `StopIteration`异常表示迭代完成\n",
    "- 简单来说：每一轮方法就调用一次next方法，一般约定：如果没有元素了，抛出一个特定的异常`StopIteration`来表示迭代完成。\n",
    "- 迭代器可以在调用的时候才生成数据，不需要预先准备好\n",
    "  - 节省空间，比如`range(1000000)`，它不会一次性生成1000000个元素，而是在每次调用`next()`方法的时候才生成下一个元素。\n",
    "  - 避免操作系统进程缓存、换页等交换操作，设计良好的迭代器，可以在多个进程之间共享，比如`range(1000000)`，可以在多个进程之间共享，而不需要拷贝。\n",
    "  - 可以一边生成数据，一般消费数据，比如读取文件，网络数据等等。\n",
    "\n",
    "生成器\n",
    "\n",
    "\n",
    "1. 迭代器: 实现了`__iter__`和`__next__`方法的对象\n",
    "2. 生成器：使用`yield`关键字的函数，是一种特殊的迭代器\n",
    "3. 容器：可以使用`in`和`not in`操作符的对象，比如`list`、`tuple`、`dict`、`set`等等\n",
    "4. 装饰器：使用`@`语法的函数，用于增强函数的功能\n"
   ]
  },
  {
   "cell_type": "code",
   "execution_count": null,
   "metadata": {},
   "outputs": [],
   "source": [
    "len"
   ]
  }
 ],
 "metadata": {
  "kernelspec": {
   "display_name": "Python 3",
   "language": "python",
   "name": "python3"
  },
  "language_info": {
   "name": "python",
   "version": "3.8.10"
  }
 },
 "nbformat": 4,
 "nbformat_minor": 2
}
