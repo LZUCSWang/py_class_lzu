{
 "cells": [
  {
   "cell_type": "code",
   "execution_count": 1,
   "metadata": {},
   "outputs": [],
   "source": [
    "# 是Python程序员的代码风格指南，它强制统一代码的编写方式，使得每个人都写出风格一致的Python代码。\n",
    "# 重复体现了python的语言特性"
   ]
  },
  {
   "cell_type": "code",
   "execution_count": 2,
   "metadata": {},
   "outputs": [],
   "source": [
    "from IPython.core.interactiveshell import InteractiveShell\n",
    "InteractiveShell.ast_node_interactivity = \"all\""
   ]
  },
  {
   "cell_type": "code",
   "execution_count": 3,
   "metadata": {},
   "outputs": [
    {
     "data": {
      "text/plain": [
       "([], {}, ())"
      ]
     },
     "execution_count": 3,
     "metadata": {},
     "output_type": "execute_result"
    },
    {
     "data": {
      "text/plain": [
       "[1, 3, 5, 7, 9]"
      ]
     },
     "execution_count": 3,
     "metadata": {},
     "output_type": "execute_result"
    },
    {
     "data": {
      "text/plain": [
       "{1, 3, 5, 7, 9}"
      ]
     },
     "execution_count": 3,
     "metadata": {},
     "output_type": "execute_result"
    },
    {
     "data": {
      "text/plain": [
       "<generator object <genexpr> at 0x000002913B03AA40>"
      ]
     },
     "execution_count": 3,
     "metadata": {},
     "output_type": "execute_result"
    },
    {
     "data": {
      "text/plain": [
       "True"
      ]
     },
     "execution_count": 3,
     "metadata": {},
     "output_type": "execute_result"
    }
   ],
   "source": [
    "# 推导式\n",
    "[],{},()\n",
    "data = range(10)\n",
    "\n",
    "\n",
    "[x for x in data if x%2]\n",
    "{x for x in data if x%2}\n",
    "(x for x in data if x%2)\n",
    "\n",
    "# 生成器\n",
    "3 in (x for x in data if x%2)"
   ]
  },
  {
   "cell_type": "markdown",
   "metadata": {},
   "source": [
    "打包解包"
   ]
  },
  {
   "cell_type": "code",
   "execution_count": 4,
   "metadata": {},
   "outputs": [
    {
     "data": {
      "text/plain": [
       "((2, 4), 2, 4)"
      ]
     },
     "execution_count": 4,
     "metadata": {},
     "output_type": "execute_result"
    },
    {
     "data": {
      "text/plain": [
       "(1, 2, 3)"
      ]
     },
     "execution_count": 4,
     "metadata": {},
     "output_type": "execute_result"
    },
    {
     "data": {
      "text/plain": [
       "(1, 2, 3)"
      ]
     },
     "execution_count": 4,
     "metadata": {},
     "output_type": "execute_result"
    }
   ],
   "source": [
    "# 打包\n",
    "x, y = 2, 4\n",
    "pos = 2, 4\n",
    "pos, pos[0], pos[1]\n",
    "\n",
    "# 追求简洁，计算不严谨\n",
    "a, b, c = 1, 2, 3\n",
    "a, b, c\n",
    "a, b, c = [1, 2, 3]\n",
    "a, b, c"
   ]
  },
  {
   "cell_type": "code",
   "execution_count": 14,
   "metadata": {},
   "outputs": [
    {
     "data": {
      "text/plain": [
       "(1, [2, 3, 4, 5], 6)"
      ]
     },
     "execution_count": 14,
     "metadata": {},
     "output_type": "execute_result"
    },
    {
     "data": {
      "text/plain": [
       "(1, [2, 3, 4, 5], 6)"
      ]
     },
     "execution_count": 14,
     "metadata": {},
     "output_type": "execute_result"
    },
    {
     "data": {
      "text/plain": [
       "(1, [], 2)"
      ]
     },
     "execution_count": 14,
     "metadata": {},
     "output_type": "execute_result"
    },
    {
     "data": {
      "text/plain": [
       "(1, 6, [2, 3, 4, 5])"
      ]
     },
     "execution_count": 14,
     "metadata": {},
     "output_type": "execute_result"
    },
    {
     "data": {
      "text/plain": [
       "(2, 4)"
      ]
     },
     "execution_count": 14,
     "metadata": {},
     "output_type": "execute_result"
    },
    {
     "data": {
      "text/plain": [
       "(2, 4)"
      ]
     },
     "execution_count": 14,
     "metadata": {},
     "output_type": "execute_result"
    },
    {
     "data": {
      "text/plain": [
       "{1, 2, 3, 4}"
      ]
     },
     "execution_count": 14,
     "metadata": {},
     "output_type": "execute_result"
    },
    {
     "data": {
      "text/plain": [
       "{1, 2, 3, 4, 5, 6, 7, 8, 'lzu'}"
      ]
     },
     "execution_count": 14,
     "metadata": {},
     "output_type": "execute_result"
    }
   ],
   "source": [
    "a,*b , c = 1,2,3,4,5,6; a ,b ,c\n",
    "a,*b , c = [1,2,3,4,5,6]; a ,b ,c\n",
    "a,*b , c = [1,2]; a ,b ,c\n",
    "\n",
    "a,*_, c = [1,2,3,4,5,6]; a ,c,_\n",
    "# 使用下划线命名可以没有意义，*可以忽略不需要的变量\n",
    "\n",
    "# 解包\n",
    "x,y = pos[0], pos[1]; x,y\n",
    "x,y = pos; x,y # 与上面等价，pos自动展开\n",
    "\n",
    "a,b = [1,2], [3,4];     {*a, *b}\n",
    "a,b ,c,d,e= [1,2], [3,4],(5,6),(7,8),dict(lzu='999')\n",
    "{*a, *b, *c, *d, *e}   "
   ]
  },
  {
   "cell_type": "code",
   "execution_count": 6,
   "metadata": {},
   "outputs": [
    {
     "data": {
      "text/plain": [
       "[(1, 4, 7), (2, 5, 8), (3, 6, 9)]"
      ]
     },
     "execution_count": 6,
     "metadata": {},
     "output_type": "execute_result"
    },
    {
     "data": {
      "text/plain": [
       "[(1, 4, 7), (2, 5, 8), (3, 6, 9)]"
      ]
     },
     "execution_count": 6,
     "metadata": {},
     "output_type": "execute_result"
    },
    {
     "data": {
      "text/plain": [
       "[6, 15, 24]"
      ]
     },
     "execution_count": 6,
     "metadata": {},
     "output_type": "execute_result"
    },
    {
     "data": {
      "text/plain": [
       "[12, 15, 18]"
      ]
     },
     "execution_count": 6,
     "metadata": {},
     "output_type": "execute_result"
    },
    {
     "data": {
      "text/plain": [
       "range(0, 10)"
      ]
     },
     "execution_count": 6,
     "metadata": {},
     "output_type": "execute_result"
    },
    {
     "data": {
      "text/plain": [
       "<zip at 0x2913af50ec0>"
      ]
     },
     "execution_count": 6,
     "metadata": {},
     "output_type": "execute_result"
    }
   ],
   "source": [
    "# 矩阵运算\n",
    "xlist = [[1,2,3],[4,5,6],[7,8,9]]\n",
    "# 转置，行求和，列求和\n",
    "list(zip(*xlist)) \n",
    "[*zip(*xlist)]\n",
    "# zip(*xlist) 与 zip(xlist) 的区别\n",
    "# zip(*xlist)是将xlist中的每个元素打包成一个元组，返回一个可迭代对象\n",
    "# zip(xlist)是将xlist打包成一个元组，返回一个可迭代对象\n",
    "[sum(x) for x in xlist]\n",
    "[sum(x) for x in zip(*xlist)]\n",
    "range(10)\n",
    "zip(*xlist) #不能直接打印，因为是可迭代对象，需要转换成list"
   ]
  },
  {
   "cell_type": "markdown",
   "metadata": {},
   "source": [
    "is =="
   ]
  },
  {
   "cell_type": "code",
   "execution_count": 7,
   "metadata": {},
   "outputs": [
    {
     "data": {
      "text/plain": [
       "(True, True, True)"
      ]
     },
     "execution_count": 7,
     "metadata": {},
     "output_type": "execute_result"
    },
    {
     "data": {
      "text/plain": [
       "(False, False, False)"
      ]
     },
     "execution_count": 7,
     "metadata": {},
     "output_type": "execute_result"
    }
   ],
   "source": [
    "a, b = 1, 1\n",
    "a == b, id(a) == id(b), a is b\n",
    "b+=1\n",
    "a == b, id(a) == id(b), a is b"
   ]
  },
  {
   "cell_type": "code",
   "execution_count": 8,
   "metadata": {},
   "outputs": [
    {
     "data": {
      "text/plain": [
       "(True, False, False)"
      ]
     },
     "execution_count": 8,
     "metadata": {},
     "output_type": "execute_result"
    },
    {
     "data": {
      "text/plain": [
       "(False, False, False)"
      ]
     },
     "execution_count": 8,
     "metadata": {},
     "output_type": "execute_result"
    }
   ],
   "source": [
    "a, b = [1], [1]\n",
    "a == b, id(a) == id(b), a is b\n",
    "b[0] += 1\n",
    "a == b, id(a) == id(b), a is b"
   ]
  },
  {
   "cell_type": "code",
   "execution_count": 15,
   "metadata": {},
   "outputs": [
    {
     "data": {
      "text/plain": [
       "(True, False, False)"
      ]
     },
     "execution_count": 15,
     "metadata": {},
     "output_type": "execute_result"
    },
    {
     "data": {
      "text/plain": [
       "(False, False, False)"
      ]
     },
     "execution_count": 15,
     "metadata": {},
     "output_type": "execute_result"
    }
   ],
   "source": [
    "a, b = [[]], [[]]\n",
    "a == b, id(a) == id(b), a is b\n",
    "b[0].append(1)\n",
    "a == b, id(a) == id(b), a is b"
   ]
  },
  {
   "cell_type": "code",
   "execution_count": 16,
   "metadata": {},
   "outputs": [
    {
     "data": {
      "text/plain": [
       "(True, True, True, [1], [1])"
      ]
     },
     "execution_count": 16,
     "metadata": {},
     "output_type": "execute_result"
    },
    {
     "data": {
      "text/plain": [
       "(True, True, True, [2], [2])"
      ]
     },
     "execution_count": 16,
     "metadata": {},
     "output_type": "execute_result"
    }
   ],
   "source": [
    "\n",
    "a = b = [1]  # a,b指向同一个对象,相当于引用\n",
    "a == b, id(a) == id(b), a is b, a, b\n",
    "b[0] += 1\n",
    "a == b, id(a) == id(b), a is b, a, b"
   ]
  },
  {
   "cell_type": "markdown",
   "metadata": {},
   "source": [
    "and or 表达式"
   ]
  },
  {
   "cell_type": "code",
   "execution_count": 10,
   "metadata": {},
   "outputs": [
    {
     "data": {
      "text/plain": [
       "(2, 1, 1, 2)"
      ]
     },
     "execution_count": 10,
     "metadata": {},
     "output_type": "execute_result"
    }
   ],
   "source": [
    "# 有返回值\n",
    "x, y = 1, 2\n",
    "x and y, x or y,y and x, y or x"
   ]
  },
  {
   "cell_type": "code",
   "execution_count": 11,
   "metadata": {},
   "outputs": [
    {
     "data": {
      "text/plain": [
       "11"
      ]
     },
     "execution_count": 11,
     "metadata": {},
     "output_type": "execute_result"
    },
    {
     "data": {
      "text/plain": [
       "2"
      ]
     },
     "execution_count": 11,
     "metadata": {},
     "output_type": "execute_result"
    },
    {
     "data": {
      "text/plain": [
       "11"
      ]
     },
     "execution_count": 11,
     "metadata": {},
     "output_type": "execute_result"
    }
   ],
   "source": [
    "# 应用场景1\n",
    "z = 10\n",
    "def func():\n",
    "    global z\n",
    "    z += 1\n",
    "    return z\n",
    "x and y and func() # func()会执行\n",
    "x and y or func() # func()不会执行\n",
    "z"
   ]
  },
  {
   "cell_type": "code",
   "execution_count": 12,
   "metadata": {},
   "outputs": [
    {
     "data": {
      "text/plain": [
       "2"
      ]
     },
     "execution_count": 12,
     "metadata": {},
     "output_type": "execute_result"
    },
    {
     "data": {
      "text/plain": [
       "2"
      ]
     },
     "execution_count": 12,
     "metadata": {},
     "output_type": "execute_result"
    },
    {
     "data": {
      "text/plain": [
       "True"
      ]
     },
     "execution_count": 12,
     "metadata": {},
     "output_type": "execute_result"
    }
   ],
   "source": [
    "# 场景2:代替if else\n",
    "a,b = 1,2\n",
    "c =  a if a>b else b\n",
    "c\n",
    "\n",
    "d = (a>b) and a or b\n",
    "d\n",
    "c == d\n",
    "assert(c == d)"
   ]
  },
  {
   "cell_type": "markdown",
   "metadata": {},
   "source": [
    "assert"
   ]
  },
  {
   "cell_type": "code",
   "execution_count": 17,
   "metadata": {},
   "outputs": [
    {
     "data": {
      "text/plain": [
       "'A'"
      ]
     },
     "execution_count": 17,
     "metadata": {},
     "output_type": "execute_result"
    }
   ],
   "source": [
    "# 应用场景\n",
    "def ff(s):\n",
    "    \"\"\"\n",
    "    如果传进来一个非空字符串\n",
    "    返回字符串首字母并且大写\n",
    "    \"\"\"\n",
    "    assert isinstance(s, str) and s, 's必须是非空字符串'\n",
    "    # isinstance(s, str) and s or exec('raise ValueError(\"s必须是非空字符串\")')\n",
    "    return s and s[0].upper()\n",
    "ff('abc')\n",
    "# ff('')\n",
    "# assert可以用来检查参数的合法性，如果不合法就抛出异常（可以自定义），而不是编译器报错\n",
    "# ff(33)"
   ]
  },
  {
   "cell_type": "code",
   "execution_count": null,
   "metadata": {},
   "outputs": [
    {
     "data": {
      "text/plain": [
       "5050"
      ]
     },
     "execution_count": 55,
     "metadata": {},
     "output_type": "execute_result"
    }
   ],
   "source": [
    "# 应用场景2,测试驱动de开发\n",
    "def ff(n):\n",
    "    if n < 0: return None\n",
    "    # else:\n",
    "    #     return sum(range(n+1))\n",
    "    if n == 0: return 0\n",
    "    return n + ff(n-1)\n",
    "\n",
    "\n",
    "def test_ff():\n",
    "    assert (ff(100) == 5050)\n",
    "    assert (ff(0) == 0)\n",
    "    assert (ff(1) == 1)\n",
    "    assert (ff(2) == 3)\n",
    "    assert (ff(-1) == None)\n",
    "\n",
    "\n",
    "ff(100)  # 5050\n",
    "\n",
    "test_ff()"
   ]
  },
  {
   "cell_type": "code",
   "execution_count": null,
   "metadata": {},
   "outputs": [
    {
     "name": "stdout",
     "output_type": "stream",
     "text": [
      "Note: you may need to restart the kernel to use updated packages.\n"
     ]
    },
    {
     "name": "stderr",
     "output_type": "stream",
     "text": [
      "ERROR: Could not find a version that satisfies the requirement unittest (from versions: none)\n",
      "ERROR: No matching distribution found for unittest\n"
     ]
    }
   ],
   "source": [
    "# import unittest\n",
    "%pip install unittest"
   ]
  }
 ],
 "metadata": {
  "kernelspec": {
   "display_name": "Python 3",
   "language": "python",
   "name": "python3"
  },
  "language_info": {
   "codemirror_mode": {
    "name": "ipython",
    "version": 3
   },
   "file_extension": ".py",
   "mimetype": "text/x-python",
   "name": "python",
   "nbconvert_exporter": "python",
   "pygments_lexer": "ipython3",
   "version": "3.10.4"
  }
 },
 "nbformat": 4,
 "nbformat_minor": 2
}
