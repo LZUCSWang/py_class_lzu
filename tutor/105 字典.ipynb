{
 "cells": [
  {
   "cell_type": "markdown",
   "id": "a54f56d2-a080-48f9-990d-01b87d503436",
   "metadata": {},
   "source": [
    "## 生成字典\n"
   ]
  },
  {
   "cell_type": "code",
   "execution_count": 59,
   "id": "adde0569-48bd-4571-98cc-16082c7dc4ef",
   "metadata": {
    "execution": {
     "iopub.execute_input": "2023-10-23T14:06:15.033286Z",
     "iopub.status.busy": "2023-10-23T14:06:15.031853Z",
     "iopub.status.idle": "2023-10-23T14:06:15.061650Z",
     "shell.execute_reply": "2023-10-23T14:06:15.060310Z",
     "shell.execute_reply.started": "2023-10-23T14:06:15.033286Z"
    }
   },
   "outputs": [],
   "source": [
    "from IPython.core.interactiveshell import InteractiveShell\n",
    "InteractiveShell.ast_node_interactivity = \"all\""
   ]
  },
  {
   "cell_type": "code",
   "execution_count": 15,
   "id": "d9462a4a",
   "metadata": {},
   "outputs": [
    {
     "data": {
      "text/plain": [
       "{1: 1, -1: 2, -3: 3}"
      ]
     },
     "execution_count": 15,
     "metadata": {},
     "output_type": "execute_result"
    },
    {
     "data": {
      "text/plain": [
       "{'a': 1, 'b': 2, 'c': 3}"
      ]
     },
     "execution_count": 15,
     "metadata": {},
     "output_type": "execute_result"
    },
    {
     "data": {
      "text/plain": [
       "True"
      ]
     },
     "execution_count": 15,
     "metadata": {},
     "output_type": "execute_result"
    },
    {
     "data": {
      "text/plain": [
       "{'c': 3, 'b': 2, 'a': 1}"
      ]
     },
     "execution_count": 15,
     "metadata": {},
     "output_type": "execute_result"
    },
    {
     "data": {
      "text/plain": [
       "[('a', 1), ('b', 2), ('c', 3)]"
      ]
     },
     "execution_count": 15,
     "metadata": {},
     "output_type": "execute_result"
    },
    {
     "data": {
      "text/plain": [
       "{'a': 1, 'b': 2, 'c': 3}"
      ]
     },
     "execution_count": 15,
     "metadata": {},
     "output_type": "execute_result"
    },
    {
     "data": {
      "text/plain": [
       "{'a': 2, 'b': 2, 'c': 3}"
      ]
     },
     "execution_count": 15,
     "metadata": {},
     "output_type": "execute_result"
    }
   ],
   "source": [
    "a = dict(a=1, b=2, c=3)\n",
    "# b = {'a':1,'b':2,'c':3}\n",
    "# a, b\n",
    "aa, bb, cc = 'a', 'b', 'c'\n",
    "b = {1: 1, -1: 2, -3: 3}\n",
    "b\n",
    "b = {\n",
    "    aa: 1,  # 利于写注释\n",
    "    bb: 2,\n",
    "    cc: 3\n",
    "}\n",
    "b\n",
    "\n",
    "b == a\n",
    "data = [('c', 3), ('b', 2), ('a', 1)]\n",
    "c = dict(data)\n",
    "c\n",
    "aa, bb = ['a', 'b', 'c'], [1, 2, 3]\n",
    "list = []\n",
    "n = len(aa)\n",
    "for i in range(n):\n",
    "    tmp = (aa[i], bb[i])\n",
    "    list.append(tmp)\n",
    "list\n",
    "d = dict(list)\n",
    "d\n",
    "\n",
    "list.append(('a', 2))\n",
    "d = dict(list)\n",
    "d"
   ]
  },
  {
   "cell_type": "code",
   "execution_count": 5,
   "id": "c9a242c5",
   "metadata": {},
   "outputs": [
    {
     "name": "stdout",
     "output_type": "stream",
     "text": [
      "0 a\n",
      "1 b\n",
      "2 c\n"
     ]
    },
    {
     "data": {
      "text/plain": [
       "{'a': 1, 'b': 2, 'c': 3}"
      ]
     },
     "execution_count": 5,
     "metadata": {},
     "output_type": "execute_result"
    },
    {
     "data": {
      "text/plain": [
       "True"
      ]
     },
     "execution_count": 5,
     "metadata": {},
     "output_type": "execute_result"
    }
   ],
   "source": [
    "d = {}\n",
    "for ida, x in enumerate(aa):  # enumerate返回的是元组，第一个是索引，第二个是值，索引从0开始\n",
    "    print(ida, x)\n",
    "    for idb, y in enumerate(bb):\n",
    "        if ida == idb:\n",
    "            d[x] = y\n",
    "d\n",
    "a == b == c == d"
   ]
  },
  {
   "cell_type": "code",
   "execution_count": 6,
   "id": "323b0b71",
   "metadata": {},
   "outputs": [
    {
     "data": {
      "text/plain": [
       "{'a': 1, 'b': 2, 'c': 3}"
      ]
     },
     "execution_count": 6,
     "metadata": {},
     "output_type": "execute_result"
    },
    {
     "data": {
      "text/plain": [
       "{'a': 1, 'b': 2, 'c': 3}"
      ]
     },
     "execution_count": 6,
     "metadata": {},
     "output_type": "execute_result"
    }
   ],
   "source": [
    "e = {aa[x]: bb[x] for x in range(len(a))}\n",
    "e\n",
    "f = dict(zip(aa, bb))  # 最优雅的方法\n",
    "f"
   ]
  },
  {
   "cell_type": "code",
   "execution_count": 7,
   "id": "8f5764b3",
   "metadata": {},
   "outputs": [
    {
     "data": {
      "text/plain": [
       "({1: 1}, {'1': 1}, {'3.1422': 1}, {(1, (2, 4), 'lzu')})"
      ]
     },
     "execution_count": 7,
     "metadata": {},
     "output_type": "execute_result"
    }
   ],
   "source": [
    "{1: 1}, {'1': 1}, {'3.1422': 1}, {(1, (2, 4), 'lzu')}\n",
    "# 字符串不可变，一般只有不可变的元素才能做"
   ]
  },
  {
   "cell_type": "code",
   "execution_count": 17,
   "id": "0a948bed",
   "metadata": {},
   "outputs": [
    {
     "data": {
      "text/plain": [
       "['a', 'b', 'c', 'd']"
      ]
     },
     "execution_count": 17,
     "metadata": {},
     "output_type": "execute_result"
    },
    {
     "data": {
      "text/plain": [
       "{'a': [], 'b': [], 'c': [], 'd': []}"
      ]
     },
     "execution_count": 17,
     "metadata": {},
     "output_type": "execute_result"
    },
    {
     "data": {
      "text/plain": [
       "True"
      ]
     },
     "execution_count": 17,
     "metadata": {},
     "output_type": "execute_result"
    },
    {
     "data": {
      "text/plain": [
       "{'a': ['10-18-23'], 'b': ['10-18-23'], 'c': ['10-18-23'], 'd': ['10-18-23']}"
      ]
     },
     "execution_count": 17,
     "metadata": {},
     "output_type": "execute_result"
    },
    {
     "data": {
      "text/plain": [
       "{'a': 1, 'b': 0, 'c': 0, 'd': 0}"
      ]
     },
     "execution_count": 17,
     "metadata": {},
     "output_type": "execute_result"
    }
   ],
   "source": [
    "# 统一给初值\n",
    "data = 'a b c d'.split()\n",
    "data\n",
    "dl = dict.fromkeys(data, [])  # 初始化为[]\n",
    "dl\n",
    "\n",
    "dl['a'] is dl['b']  # 结果为true,说明fromkeys是引用\n",
    "\n",
    "dl['a'].append('10-18-23')  # 结果意外复制到其他项\n",
    "dl\n",
    "dl = dict.fromkeys(data, 0)  # 初始化为0\n",
    "dl['a'] += 1\n",
    "dl"
   ]
  },
  {
   "cell_type": "markdown",
   "id": "c0e39c30-4462-412f-a876-1a80c1e895fc",
   "metadata": {},
   "source": [
    "基本操作\n"
   ]
  },
  {
   "cell_type": "code",
   "execution_count": 2,
   "id": "ba721b08-962f-482e-bc93-b9f5a1f7be05",
   "metadata": {
    "execution": {
     "iopub.execute_input": "2023-10-23T06:41:41.372283Z",
     "iopub.status.busy": "2023-10-23T06:41:41.370424Z",
     "iopub.status.idle": "2023-10-23T06:41:41.383889Z",
     "shell.execute_reply": "2023-10-23T06:41:41.382449Z",
     "shell.execute_reply.started": "2023-10-23T06:41:41.372283Z"
    }
   },
   "outputs": [
    {
     "data": {
      "text/plain": [
       "([('a', 1), ('b', 2), ('c', 3)], ['a', 'b', 'c'], [1, 2, 3])"
      ]
     },
     "execution_count": 2,
     "metadata": {},
     "output_type": "execute_result"
    }
   ],
   "source": [
    "a = dict(a=1, b=2, c=3)\n",
    "a.keys(), a.values()  # 返回的是视图，不是列表\n",
    "\n",
    "a.items()  # 返回的是元组的字典视图\n",
    "\n",
    "list(a.items()), list(a.keys()), list(a.values())"
   ]
  },
  {
   "cell_type": "code",
   "execution_count": 10,
   "metadata": {},
   "outputs": [
    {
     "data": {
      "text/plain": [
       "1"
      ]
     },
     "execution_count": 10,
     "metadata": {},
     "output_type": "execute_result"
    }
   ],
   "source": [
    "{\n",
    "    1.11111111111111111: 1,\n",
    "    1.111111111111111: 2,\n",
    "    1.1111111111: 3,\n",
    "}[1.1111111111111111]\n",
    "# 浮点数受制于计算机的精度，所以不要用浮点数作为字典的键"
   ]
  },
  {
   "cell_type": "code",
   "execution_count": 4,
   "id": "1dbe7336-cddf-415d-9535-3bbebe7ffc0b",
   "metadata": {
    "execution": {
     "iopub.execute_input": "2023-10-23T06:44:12.846460Z",
     "iopub.status.busy": "2023-10-23T06:44:12.845368Z",
     "iopub.status.idle": "2023-10-23T06:44:12.865972Z",
     "shell.execute_reply": "2023-10-23T06:44:12.863824Z",
     "shell.execute_reply.started": "2023-10-23T06:44:12.846460Z"
    }
   },
   "outputs": [
    {
     "data": {
      "text/plain": [
       "object"
      ]
     },
     "execution_count": 4,
     "metadata": {},
     "output_type": "execute_result"
    }
   ],
   "source": [
    "a.keys().__class__.__base__"
   ]
  },
  {
   "cell_type": "code",
   "execution_count": 5,
   "id": "953d9cc3-b503-4336-8205-5a066304d18f",
   "metadata": {
    "execution": {
     "iopub.execute_input": "2023-10-23T06:44:53.372520Z",
     "iopub.status.busy": "2023-10-23T06:44:53.371009Z",
     "iopub.status.idle": "2023-10-23T06:44:53.389122Z",
     "shell.execute_reply": "2023-10-23T06:44:53.386331Z",
     "shell.execute_reply.started": "2023-10-23T06:44:53.372520Z"
    }
   },
   "outputs": [
    {
     "name": "stdout",
     "output_type": "stream",
     "text": [
      "a\n",
      "b\n",
      "c\n"
     ]
    }
   ],
   "source": [
    "for x in a.keys():\n",
    "    print(x)"
   ]
  },
  {
   "cell_type": "code",
   "execution_count": 6,
   "id": "326f891e-8884-449c-bad4-5027c19cf1d6",
   "metadata": {
    "execution": {
     "iopub.execute_input": "2023-10-23T06:45:09.802946Z",
     "iopub.status.busy": "2023-10-23T06:45:09.801010Z",
     "iopub.status.idle": "2023-10-23T06:45:09.858213Z",
     "shell.execute_reply": "2023-10-23T06:45:09.854196Z",
     "shell.execute_reply.started": "2023-10-23T06:45:09.802946Z"
    }
   },
   "outputs": [],
   "source": [
    "# a.keys()[3]  # 字典不支持索引"
   ]
  },
  {
   "cell_type": "code",
   "execution_count": 7,
   "id": "69580214-a590-4fda-9386-9bafd856b0a2",
   "metadata": {},
   "outputs": [
    {
     "data": {
      "text/plain": [
       "['__and__',\n",
       " '__class__',\n",
       " '__contains__',\n",
       " '__delattr__',\n",
       " '__dir__',\n",
       " '__doc__',\n",
       " '__eq__',\n",
       " '__format__',\n",
       " '__ge__',\n",
       " '__getattribute__',\n",
       " '__gt__',\n",
       " '__hash__',\n",
       " '__init__',\n",
       " '__init_subclass__',\n",
       " '__iter__',\n",
       " '__le__',\n",
       " '__len__',\n",
       " '__lt__',\n",
       " '__ne__',\n",
       " '__new__',\n",
       " '__or__',\n",
       " '__rand__',\n",
       " '__reduce__',\n",
       " '__reduce_ex__',\n",
       " '__repr__',\n",
       " '__reversed__',\n",
       " '__ror__',\n",
       " '__rsub__',\n",
       " '__rxor__',\n",
       " '__setattr__',\n",
       " '__sizeof__',\n",
       " '__str__',\n",
       " '__sub__',\n",
       " '__subclasshook__',\n",
       " '__xor__',\n",
       " 'isdisjoint',\n",
       " 'mapping']"
      ]
     },
     "execution_count": 7,
     "metadata": {},
     "output_type": "execute_result"
    }
   ],
   "source": [
    "dir(a.keys())"
   ]
  },
  {
   "cell_type": "code",
   "execution_count": 8,
   "id": "861fd538-9c7f-4b48-8dee-c996f2e43d18",
   "metadata": {
    "execution": {
     "iopub.execute_input": "2023-10-23T06:46:59.691714Z",
     "iopub.status.busy": "2023-10-23T06:46:59.690312Z",
     "iopub.status.idle": "2023-10-23T06:46:59.714980Z",
     "shell.execute_reply": "2023-10-23T06:46:59.713495Z",
     "shell.execute_reply.started": "2023-10-23T06:46:59.691714Z"
    }
   },
   "outputs": [
    {
     "data": {
      "text/plain": [
       "(1, 3)"
      ]
     },
     "execution_count": 8,
     "metadata": {},
     "output_type": "execute_result"
    }
   ],
   "source": [
    "a['a'], a.__getitem__('c')   # 运算符[]重载"
   ]
  },
  {
   "cell_type": "code",
   "execution_count": 9,
   "id": "4ea8d50c-c2b1-4f4e-a06e-46092cfe1346",
   "metadata": {
    "execution": {
     "iopub.execute_input": "2023-10-23T06:51:34.374401Z",
     "iopub.status.busy": "2023-10-23T06:51:34.374401Z",
     "iopub.status.idle": "2023-10-23T06:51:34.390928Z",
     "shell.execute_reply": "2023-10-23T06:51:34.388513Z",
     "shell.execute_reply.started": "2023-10-23T06:51:34.374401Z"
    }
   },
   "outputs": [
    {
     "name": "stdout",
     "output_type": "stream",
     "text": [
      "3\n"
     ]
    },
    {
     "data": {
      "text/plain": [
       "False"
      ]
     },
     "execution_count": 9,
     "metadata": {},
     "output_type": "execute_result"
    }
   ],
   "source": [
    "k = 'c'\n",
    "if k in a.keys():\n",
    "    print(a[k])\n",
    "# assert a.get(k) == None\n",
    "a.get('a')\n",
    "a.get(k) == None  # 用get方法，存在就返回val，如果不存在，返回None，不会报错"
   ]
  },
  {
   "cell_type": "code",
   "execution_count": 10,
   "id": "e9dd89ab-a14d-4a7b-b837-68198ed2ca3e",
   "metadata": {
    "execution": {
     "iopub.execute_input": "2023-10-23T06:59:01.154020Z",
     "iopub.status.busy": "2023-10-23T06:59:01.152511Z",
     "iopub.status.idle": "2023-10-23T06:59:01.179428Z",
     "shell.execute_reply": "2023-10-23T06:59:01.177238Z",
     "shell.execute_reply.started": "2023-10-23T06:59:01.154020Z"
    }
   },
   "outputs": [
    {
     "name": "stdout",
     "output_type": "stream",
     "text": [
      "a : 1\n",
      "z : 999\n"
     ]
    }
   ],
   "source": [
    "k = ['a', 'z']\n",
    "for kk in k:\n",
    "    s = a.get(kk, 999)  # 找不到就返回默认值999\n",
    "    print(kk, ':', s)"
   ]
  },
  {
   "cell_type": "code",
   "execution_count": 11,
   "id": "c3c66827-4362-4bb1-8b65-27eb739c09d1",
   "metadata": {
    "execution": {
     "iopub.execute_input": "2023-10-23T06:59:30.204191Z",
     "iopub.status.busy": "2023-10-23T06:59:30.203130Z",
     "iopub.status.idle": "2023-10-23T06:59:30.223893Z",
     "shell.execute_reply": "2023-10-23T06:59:30.222356Z",
     "shell.execute_reply.started": "2023-10-23T06:59:30.204191Z"
    }
   },
   "outputs": [
    {
     "name": "stdout",
     "output_type": "stream",
     "text": [
      "Help on built-in function __getitem__:\n",
      "\n",
      "__getitem__(...) method of builtins.dict instance\n",
      "    x.__getitem__(y) <==> x[y]\n",
      "\n"
     ]
    }
   ],
   "source": [
    "help(a.__getitem__)   # []"
   ]
  },
  {
   "cell_type": "code",
   "execution_count": 12,
   "id": "163330c8-e286-4933-b5ef-6b91f60fcba3",
   "metadata": {
    "execution": {
     "iopub.execute_input": "2023-10-23T07:02:36.459727Z",
     "iopub.status.busy": "2023-10-23T07:02:36.458213Z",
     "iopub.status.idle": "2023-10-23T07:02:36.487928Z",
     "shell.execute_reply": "2023-10-23T07:02:36.485501Z",
     "shell.execute_reply.started": "2023-10-23T07:02:36.459727Z"
    }
   },
   "outputs": [
    {
     "data": {
      "text/plain": [
       "({'a': 1, 'c': 3}, 2)"
      ]
     },
     "execution_count": 12,
     "metadata": {},
     "output_type": "execute_result"
    }
   ],
   "source": [
    "dc = a.copy()  # 浅复制\n",
    "s = dc.pop('b')  # 删除并返回\n",
    "dc, s"
   ]
  },
  {
   "cell_type": "code",
   "execution_count": 15,
   "id": "e79e492d-9680-4d49-8b13-207b5c53a53d",
   "metadata": {
    "execution": {
     "iopub.execute_input": "2023-10-23T07:03:20.917279Z",
     "iopub.status.busy": "2023-10-23T07:03:20.916278Z",
     "iopub.status.idle": "2023-10-23T07:03:20.963471Z",
     "shell.execute_reply": "2023-10-23T07:03:20.960583Z",
     "shell.execute_reply.started": "2023-10-23T07:03:20.917279Z"
    }
   },
   "outputs": [],
   "source": [
    "# for x in dc.keys():\n",
    "#     dc.pop(x)   # 边做边删会导致指针位置错误\n",
    "# dc"
   ]
  },
  {
   "cell_type": "code",
   "execution_count": 16,
   "id": "002f22b6-890a-4747-8066-a2bacf2e9951",
   "metadata": {
    "execution": {
     "iopub.execute_input": "2023-10-23T07:06:45.412014Z",
     "iopub.status.busy": "2023-10-23T07:06:45.410743Z",
     "iopub.status.idle": "2023-10-23T07:06:45.435772Z",
     "shell.execute_reply": "2023-10-23T07:06:45.434325Z",
     "shell.execute_reply.started": "2023-10-23T07:06:45.412014Z"
    }
   },
   "outputs": [
    {
     "data": {
      "text/plain": [
       "{}"
      ]
     },
     "execution_count": 16,
     "metadata": {},
     "output_type": "execute_result"
    }
   ],
   "source": [
    "ss = list(dc.keys())  # 可以复制一个dc.keys()\n",
    "for x in ss:\n",
    "    dc.pop(x)\n",
    "dc"
   ]
  },
  {
   "cell_type": "code",
   "execution_count": 56,
   "id": "24c687de-4053-4061-9db7-872bf2105173",
   "metadata": {
    "execution": {
     "iopub.execute_input": "2023-10-23T07:12:50.143706Z",
     "iopub.status.busy": "2023-10-23T07:12:50.143706Z",
     "iopub.status.idle": "2023-10-23T07:12:50.164205Z",
     "shell.execute_reply": "2023-10-23T07:12:50.161177Z",
     "shell.execute_reply.started": "2023-10-23T07:12:50.143706Z"
    }
   },
   "outputs": [
    {
     "data": {
      "text/plain": [
       "{}"
      ]
     },
     "execution_count": 56,
     "metadata": {},
     "output_type": "execute_result"
    }
   ],
   "source": [
    "dc = a.copy()\n",
    "dc.popitem()[1]  # 随机删除并返回，【1】表示返回值, popitem()返回的是键值对（元组）\n",
    "dc.clear()\n",
    "dc\n",
    "# del dc\n",
    "# dc"
   ]
  },
  {
   "cell_type": "code",
   "execution_count": 18,
   "id": "84593f59-dd17-46f3-845e-9f57e3b41c49",
   "metadata": {
    "execution": {
     "iopub.execute_input": "2023-10-23T07:29:10.679157Z",
     "iopub.status.busy": "2023-10-23T07:29:10.678156Z",
     "iopub.status.idle": "2023-10-23T07:29:10.706318Z",
     "shell.execute_reply": "2023-10-23T07:29:10.704318Z",
     "shell.execute_reply.started": "2023-10-23T07:29:10.679157Z"
    }
   },
   "outputs": [
    {
     "data": {
      "text/plain": [
       "0"
      ]
     },
     "execution_count": 18,
     "metadata": {},
     "output_type": "execute_result"
    }
   ],
   "source": [
    "dc = a.copy()\n",
    "a.pop('x', 0)    # == a.get('x',0) del a('x')"
   ]
  },
  {
   "cell_type": "markdown",
   "id": "cba41927-816d-4dab-9aae-f935b03a1cb9",
   "metadata": {},
   "source": [
    "## 合并\n"
   ]
  },
  {
   "cell_type": "code",
   "execution_count": 60,
   "id": "7d9e9596-aecf-484c-8e6b-4d37c4f318fe",
   "metadata": {
    "execution": {
     "iopub.execute_input": "2023-10-23T13:49:34.114255Z",
     "iopub.status.busy": "2023-10-23T13:49:34.106665Z",
     "iopub.status.idle": "2023-10-23T13:49:34.158388Z",
     "shell.execute_reply": "2023-10-23T13:49:34.158388Z",
     "shell.execute_reply.started": "2023-10-23T13:49:34.111742Z"
    }
   },
   "outputs": [
    {
     "data": {
      "text/plain": [
       "({'a': 1}, {'b': 2, 'c': 3})"
      ]
     },
     "execution_count": 60,
     "metadata": {},
     "output_type": "execute_result"
    },
    {
     "data": {
      "text/plain": [
       "({'a': 1, 'b': 2, 'c': 3}, {'b': 2, 'c': 3})"
      ]
     },
     "execution_count": 60,
     "metadata": {},
     "output_type": "execute_result"
    }
   ],
   "source": [
    "a, b = dict(a=1), dict(b=2, c=3)\n",
    "a, b\n",
    "\n",
    "a.update(b)  # 合并b到a\n",
    "\n",
    "a, b"
   ]
  },
  {
   "cell_type": "code",
   "execution_count": 102,
   "id": "2060c82c-8861-4431-92e2-a2cd0d76b43a",
   "metadata": {
    "execution": {
     "iopub.execute_input": "2023-10-23T14:06:21.898833Z",
     "iopub.status.busy": "2023-10-23T14:06:21.898833Z",
     "iopub.status.idle": "2023-10-23T14:06:21.923779Z",
     "shell.execute_reply": "2023-10-23T14:06:21.923779Z",
     "shell.execute_reply.started": "2023-10-23T14:06:21.898833Z"
    }
   },
   "outputs": [
    {
     "data": {
      "text/plain": [
       "{'a': 1, 'b': 2, 'c': 3}"
      ]
     },
     "execution_count": 102,
     "metadata": {},
     "output_type": "execute_result"
    },
    {
     "data": {
      "text/plain": [
       "{'a': 1, 'b': 2, 'c': 3}"
      ]
     },
     "execution_count": 102,
     "metadata": {},
     "output_type": "execute_result"
    },
    {
     "data": {
      "text/plain": [
       "({'a': 1}, {'b': 2, 'c': 3})"
      ]
     },
     "execution_count": 102,
     "metadata": {},
     "output_type": "execute_result"
    }
   ],
   "source": [
    "a, b = dict(a=1), dict(b=2, c=3)\n",
    "dict(**a, **b)\n",
    "# list(**a,**b)\n",
    "# list(*a, *b)\n",
    "{**a, **b}  # **表示解包，把字典解包成键值对\n",
    "\n",
    "\n",
    "a, b"
   ]
  },
  {
   "cell_type": "code",
   "execution_count": 66,
   "id": "0a6a0d29-3b64-4a8b-abae-eb6f8db86ae0",
   "metadata": {
    "execution": {
     "iopub.execute_input": "2023-10-23T13:59:21.500876Z",
     "iopub.status.busy": "2023-10-23T13:59:21.499839Z",
     "iopub.status.idle": "2023-10-23T13:59:21.532223Z",
     "shell.execute_reply": "2023-10-23T13:59:21.531138Z",
     "shell.execute_reply.started": "2023-10-23T13:59:21.500876Z"
    }
   },
   "outputs": [
    {
     "data": {
      "text/plain": [
       "('a', 'b', 'c')"
      ]
     },
     "execution_count": 66,
     "metadata": {},
     "output_type": "execute_result"
    }
   ],
   "source": [
    "(*a, *b)  # *直接把字典解包成键值"
   ]
  },
  {
   "cell_type": "code",
   "execution_count": 103,
   "id": "dc28d3c0-eacf-45b6-8c7a-7debae26db8a",
   "metadata": {
    "execution": {
     "iopub.execute_input": "2023-10-23T14:05:12.895065Z",
     "iopub.status.busy": "2023-10-23T14:05:12.895065Z",
     "iopub.status.idle": "2023-10-23T14:05:12.927209Z",
     "shell.execute_reply": "2023-10-23T14:05:12.926052Z",
     "shell.execute_reply.started": "2023-10-23T14:05:12.895065Z"
    }
   },
   "outputs": [
    {
     "data": {
      "text/plain": [
       "({1, 2, 3}, [1, 2, 3], (1, 2, 3))"
      ]
     },
     "execution_count": 103,
     "metadata": {},
     "output_type": "execute_result"
    },
    {
     "data": {
      "text/plain": [
       "({1, 2, 3}, [1, 2, 3], (1, 2, 3))"
      ]
     },
     "execution_count": 103,
     "metadata": {},
     "output_type": "execute_result"
    }
   ],
   "source": [
    "a, b = [1], [2, 3]\n",
    "{*a, *b}, [*a, *b], (*a, *b)\n",
    "a, b = {1}, {2, 3}\n",
    "{*a, *b}, [*a, *b], (*a, *b)"
   ]
  },
  {
   "cell_type": "markdown",
   "id": "0f27647a-9d50-4d96-b0db-97729bfa0144",
   "metadata": {},
   "source": [
    "## 遍历\n"
   ]
  },
  {
   "cell_type": "code",
   "execution_count": 68,
   "id": "33fb9e8d-c387-46fb-8403-e6aed3748047",
   "metadata": {
    "execution": {
     "iopub.execute_input": "2023-10-23T07:34:54.875726Z",
     "iopub.status.busy": "2023-10-23T07:34:54.874722Z",
     "iopub.status.idle": "2023-10-23T07:34:54.898219Z",
     "shell.execute_reply": "2023-10-23T07:34:54.894169Z",
     "shell.execute_reply.started": "2023-10-23T07:34:54.875726Z"
    }
   },
   "outputs": [
    {
     "name": "stdout",
     "output_type": "stream",
     "text": [
      "('c', 3)\n",
      "('b', 2)\n",
      "('a', 1)\n"
     ]
    }
   ],
   "source": [
    "a = dict(a=1, b=2, c=3)\n",
    "dc = a.copy()\n",
    "while dc:\n",
    "    print(dc.popitem())"
   ]
  },
  {
   "cell_type": "code",
   "execution_count": 69,
   "id": "49c41d1d-68d4-4603-9147-38aeea8f109c",
   "metadata": {
    "execution": {
     "iopub.execute_input": "2023-10-23T07:40:43.215071Z",
     "iopub.status.busy": "2023-10-23T07:40:43.215071Z",
     "iopub.status.idle": "2023-10-23T07:40:43.241989Z",
     "shell.execute_reply": "2023-10-23T07:40:43.239988Z",
     "shell.execute_reply.started": "2023-10-23T07:40:43.215071Z"
    }
   },
   "outputs": [
    {
     "name": "stdout",
     "output_type": "stream",
     "text": [
      "a b c \n",
      "\n",
      "a : 1 b : 2 c : 3 \n",
      "\n",
      "a : 1 b : 2 c : 3 \n",
      "\n",
      "('a', 1) ('b', 2) ('c', 3) "
     ]
    }
   ],
   "source": [
    "dc = a.copy()\n",
    "for x in dc:\n",
    "    print(x, end=' ')  # 默认遍历键\n",
    "\n",
    "print('\\n')\n",
    "for x in dc:\n",
    "    print(x, ':', dc[x], end=' ')\n",
    "print('\\n')\n",
    "for k, v in dc.items():\n",
    "    print(k, \":\", v, end=' ')\n",
    "print('\\n')\n",
    "for x in dc.items():     # 返回一个元组\n",
    "    print(x, end=' ')"
   ]
  },
  {
   "cell_type": "markdown",
   "id": "db72bf57-308c-4330-a91b-10bab312c862",
   "metadata": {},
   "source": [
    "## 排序\n"
   ]
  },
  {
   "cell_type": "code",
   "execution_count": 70,
   "id": "62e16d25-e58f-40af-8ace-6fd2f9d8cd58",
   "metadata": {
    "execution": {
     "iopub.execute_input": "2023-10-23T07:43:36.207223Z",
     "iopub.status.busy": "2023-10-23T07:43:36.207223Z",
     "iopub.status.idle": "2023-10-23T07:43:36.222894Z",
     "shell.execute_reply": "2023-10-23T07:43:36.220556Z",
     "shell.execute_reply.started": "2023-10-23T07:43:36.207223Z"
    }
   },
   "outputs": [
    {
     "data": {
      "text/plain": [
       "{'q': 2,\n",
       " 'w': 4,\n",
       " 'e': 5,\n",
       " 'r': 6,\n",
       " 't': 0,\n",
       " 'y': 7,\n",
       " 'u': 3,\n",
       " 'i': 8,\n",
       " 'o': 1,\n",
       " 'p': 9}"
      ]
     },
     "execution_count": 70,
     "metadata": {},
     "output_type": "execute_result"
    }
   ],
   "source": [
    "# 随机字典\n",
    "import random\n",
    "k = list('qwertyuiop')\n",
    "v = list(range(len(k)))\n",
    "random.shuffle(v)  # 打乱顺序\n",
    "dc = dict(zip(k, v))  # 形成字典\n",
    "dc"
   ]
  },
  {
   "cell_type": "code",
   "execution_count": 71,
   "id": "c2eabf9f-ea2b-4787-8974-67ad055608fa",
   "metadata": {
    "execution": {
     "iopub.execute_input": "2023-10-23T07:47:22.585976Z",
     "iopub.status.busy": "2023-10-23T07:47:22.584606Z",
     "iopub.status.idle": "2023-10-23T07:47:22.608090Z",
     "shell.execute_reply": "2023-10-23T07:47:22.605580Z",
     "shell.execute_reply.started": "2023-10-23T07:47:22.585976Z"
    }
   },
   "outputs": [
    {
     "data": {
      "text/plain": [
       "['e', 'i', 'o', 'p', 'q', 'r', 't', 'u', 'w', 'y']"
      ]
     },
     "execution_count": 71,
     "metadata": {},
     "output_type": "execute_result"
    }
   ],
   "source": [
    "sorted(dc)  # 按照key排序，返回一个列表"
   ]
  },
  {
   "cell_type": "code",
   "execution_count": 72,
   "id": "da9987a6-de6b-4bf2-9af9-4100d4619401",
   "metadata": {
    "execution": {
     "iopub.execute_input": "2023-10-23T07:49:12.813905Z",
     "iopub.status.busy": "2023-10-23T07:49:12.812269Z",
     "iopub.status.idle": "2023-10-23T07:49:12.830023Z",
     "shell.execute_reply": "2023-10-23T07:49:12.827484Z",
     "shell.execute_reply.started": "2023-10-23T07:49:12.813905Z"
    }
   },
   "outputs": [
    {
     "name": "stdout",
     "output_type": "stream",
     "text": [
      "e : 5;i : 8;o : 1;p : 9;q : 2;r : 6;t : 0;u : 3;w : 4;y : 7;"
     ]
    }
   ],
   "source": [
    "for x in sorted(dc):\n",
    "    print(x, ':', dc[x], end=';')"
   ]
  },
  {
   "cell_type": "code",
   "execution_count": 73,
   "id": "e0f66fa1-f43c-4826-a43a-f6d58e2d1da3",
   "metadata": {
    "execution": {
     "iopub.execute_input": "2023-10-23T07:50:54.887262Z",
     "iopub.status.busy": "2023-10-23T07:50:54.886266Z",
     "iopub.status.idle": "2023-10-23T07:50:54.913764Z",
     "shell.execute_reply": "2023-10-23T07:50:54.912254Z",
     "shell.execute_reply.started": "2023-10-23T07:50:54.887262Z"
    }
   },
   "outputs": [
    {
     "name": "stdout",
     "output_type": "stream",
     "text": [
      "y : 7;w : 4;u : 3;t : 0;r : 6;q : 2;p : 9;o : 1;i : 8;e : 5;\n",
      "\n",
      "y : 7;w : 4;u : 3;t : 0;r : 6;q : 2;p : 9;o : 1;i : 8;e : 5;"
     ]
    }
   ],
   "source": [
    "for x in sorted(dc)[::-1]:\n",
    "    print(x, ':', dc[x], end=';')\n",
    "print(\"\\n\")\n",
    "for x in sorted(dc, reverse=True):\n",
    "    print(x, ':', dc[x], end=';')"
   ]
  },
  {
   "cell_type": "code",
   "execution_count": 74,
   "id": "10f72987-e048-4b42-8902-8209c368247e",
   "metadata": {
    "execution": {
     "iopub.execute_input": "2023-10-23T07:52:57.986678Z",
     "iopub.status.busy": "2023-10-23T07:52:57.985571Z",
     "iopub.status.idle": "2023-10-23T07:52:58.010550Z",
     "shell.execute_reply": "2023-10-23T07:52:58.009213Z",
     "shell.execute_reply.started": "2023-10-23T07:52:57.986678Z"
    }
   },
   "outputs": [
    {
     "name": "stdout",
     "output_type": "stream",
     "text": [
      "t : 0;o : 1;q : 2;u : 3;w : 4;e : 5;r : 6;y : 7;i : 8;p : 9;"
     ]
    }
   ],
   "source": [
    "def ff(x):\n",
    "    return dc[x]\n",
    "\n",
    "\n",
    "for x in sorted(dc, key=ff):\n",
    "    print(x, ':', dc[x], end=';')"
   ]
  },
  {
   "cell_type": "code",
   "execution_count": 75,
   "id": "e8522810-45c0-425e-be77-b2bcef0c7bd0",
   "metadata": {
    "execution": {
     "iopub.execute_input": "2023-10-23T07:55:17.372887Z",
     "iopub.status.busy": "2023-10-23T07:55:17.371887Z",
     "iopub.status.idle": "2023-10-23T07:55:17.393122Z",
     "shell.execute_reply": "2023-10-23T07:55:17.391120Z",
     "shell.execute_reply.started": "2023-10-23T07:55:17.372887Z"
    }
   },
   "outputs": [
    {
     "name": "stdout",
     "output_type": "stream",
     "text": [
      "t : 0;o : 1;q : 2;u : 3;w : 4;e : 5;r : 6;y : 7;i : 8;p : 9;"
     ]
    }
   ],
   "source": [
    "for x in sorted(dc, key=lambda x: dc[x]):  # 使用lambda表达式，排序关键字为值\n",
    "    print(x, ':', dc[x], end=';')"
   ]
  },
  {
   "cell_type": "markdown",
   "id": "57526435-ef43-4a19-ab0b-ec30f685853c",
   "metadata": {},
   "source": [
    "## 用字典计数\n"
   ]
  },
  {
   "cell_type": "code",
   "execution_count": 104,
   "id": "d5248b24-7e87-46c8-a27d-0c0860d955f7",
   "metadata": {
    "execution": {
     "iopub.execute_input": "2023-10-23T07:58:57.100119Z",
     "iopub.status.busy": "2023-10-23T07:58:57.099088Z",
     "iopub.status.idle": "2023-10-23T07:58:57.126600Z",
     "shell.execute_reply": "2023-10-23T07:58:57.125082Z",
     "shell.execute_reply.started": "2023-10-23T07:58:57.100119Z"
    }
   },
   "outputs": [
    {
     "data": {
      "text/plain": [
       "' cat cat cat cat cat cat cat cat cat cat dog pig pig pig pig pig'"
      ]
     },
     "execution_count": 104,
     "metadata": {},
     "output_type": "execute_result"
    },
    {
     "data": {
      "text/plain": [
       "['cat',\n",
       " 'cat',\n",
       " 'cat',\n",
       " 'pig',\n",
       " 'cat',\n",
       " 'cat',\n",
       " 'cat',\n",
       " 'pig',\n",
       " 'dog',\n",
       " 'pig',\n",
       " 'cat',\n",
       " 'cat',\n",
       " 'cat',\n",
       " 'pig',\n",
       " 'cat',\n",
       " 'pig']"
      ]
     },
     "execution_count": 104,
     "metadata": {},
     "output_type": "execute_result"
    }
   ],
   "source": [
    "import random\n",
    "_ = ' cat'*random.randint(1, 10) + \\\n",
    "    ' dog'*random.randint(1, 5) + \\\n",
    "    ' pig'*random.randint(1, 5)\n",
    "_\n",
    "data = _.split()    # _只是起到一个临时变量的作用\n",
    "random.shuffle(data)\n",
    "data"
   ]
  },
  {
   "cell_type": "code",
   "execution_count": 77,
   "id": "7a02b01d-76a9-4358-b01e-0b1a5821080a",
   "metadata": {
    "execution": {
     "iopub.execute_input": "2023-10-23T08:22:05.364668Z",
     "iopub.status.busy": "2023-10-23T08:22:05.363666Z",
     "iopub.status.idle": "2023-10-23T08:22:05.395174Z",
     "shell.execute_reply": "2023-10-23T08:22:05.392086Z",
     "shell.execute_reply.started": "2023-10-23T08:22:05.364668Z"
    }
   },
   "outputs": [
    {
     "data": {
      "text/plain": [
       "{'pig': 2, 'cat': 5, 'dog': 2}"
      ]
     },
     "execution_count": 77,
     "metadata": {},
     "output_type": "execute_result"
    }
   ],
   "source": [
    "mc = {}\n",
    "for x in data:\n",
    "    if x not in mc.keys():\n",
    "        mc[x] = 0\n",
    "    mc[x] += 1\n",
    "mc"
   ]
  },
  {
   "cell_type": "code",
   "execution_count": 78,
   "id": "43bf6dcc-beec-45a9-900b-002548dce1f8",
   "metadata": {
    "execution": {
     "iopub.execute_input": "2023-10-23T08:08:13.373266Z",
     "iopub.status.busy": "2023-10-23T08:08:13.371815Z",
     "iopub.status.idle": "2023-10-23T08:08:13.395227Z",
     "shell.execute_reply": "2023-10-23T08:08:13.393244Z",
     "shell.execute_reply.started": "2023-10-23T08:08:13.371815Z"
    }
   },
   "outputs": [
    {
     "data": {
      "text/plain": [
       "{'pig': 2, 'cat': 5, 'dog': 2}"
      ]
     },
     "execution_count": 78,
     "metadata": {},
     "output_type": "execute_result"
    }
   ],
   "source": [
    "mc = {}\n",
    "for x in data:\n",
    "    mc[x] = mc.get(x, 0)+1  # get方法，如果没有就返回默认值0，有就返回值\n",
    "mc"
   ]
  },
  {
   "cell_type": "code",
   "execution_count": 79,
   "id": "d233875f-b3db-4750-9a6e-e5cbfdf5c64e",
   "metadata": {
    "execution": {
     "iopub.execute_input": "2023-10-23T08:08:10.430659Z",
     "iopub.status.busy": "2023-10-23T08:08:10.429640Z",
     "iopub.status.idle": "2023-10-23T08:08:10.446130Z",
     "shell.execute_reply": "2023-10-23T08:08:10.445116Z",
     "shell.execute_reply.started": "2023-10-23T08:08:10.430659Z"
    }
   },
   "outputs": [
    {
     "data": {
      "text/plain": [
       "{'pig': 2, 'cat': 5, 'dog': 2}"
      ]
     },
     "execution_count": 79,
     "metadata": {},
     "output_type": "execute_result"
    }
   ],
   "source": [
    "mc = {}\n",
    "for x in data:\n",
    "    mc[x] = mc.setdefault(x, 0) + 1  # setdefault方法，如果没有就设置默认值0，有就返回原值\n",
    "mc"
   ]
  }
 ],
 "metadata": {
  "kernelspec": {
   "display_name": "Python 3 (ipykernel)",
   "language": "python",
   "name": "python3"
  },
  "language_info": {
   "codemirror_mode": {
    "name": "ipython",
    "version": 3
   },
   "file_extension": ".py",
   "mimetype": "text/x-python",
   "name": "python",
   "nbconvert_exporter": "python",
   "pygments_lexer": "ipython3",
   "version": "3.10.4"
  },
  "toc": {
   "base_numbering": 1,
   "nav_menu": {},
   "number_sections": true,
   "sideBar": true,
   "skip_h1_title": false,
   "title_cell": "Table of Contents",
   "title_sidebar": "Contents",
   "toc_cell": false,
   "toc_position": {},
   "toc_section_display": true,
   "toc_window_display": false
  }
 },
 "nbformat": 4,
 "nbformat_minor": 5
}
