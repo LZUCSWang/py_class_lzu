{
 "cells": [
  {
   "cell_type": "markdown",
   "metadata": {},
   "source": [
    "### 函数式风格"
   ]
  },
  {
   "cell_type": "code",
   "execution_count": 11,
   "metadata": {},
   "outputs": [],
   "source": [
    "# 函数式风格:函数的参数/返回值是函数\n",
    "# 1.函数的参数是函数(高阶函数)\n",
    "# 2.函数的返回值是函数(闭包)\n"
   ]
  },
  {
   "cell_type": "code",
   "execution_count": 12,
   "metadata": {},
   "outputs": [],
   "source": [
    "from IPython.core.interactiveshell import InteractiveShell\n",
    "InteractiveShell.ast_node_interactivity = \"all\""
   ]
  },
  {
   "cell_type": "code",
   "execution_count": 13,
   "metadata": {},
   "outputs": [
    {
     "name": "stdout",
     "output_type": "stream",
     "text": [
      "[3, 7, 5, 9, 7]\n",
      "[8, 11, 14, 17, 20]\n",
      "[3, 14, 5, 16, 7]\n"
     ]
    }
   ],
   "source": [
    "def f1(x, y):\n",
    "    return x if x % 2 else x+y\n",
    "\n",
    "\n",
    "# def f2(x, y): return x * y - 1\n",
    "# 严谨的写法，相当于写了注释，告诉别人这个函数的参数和返回值的类型，但是python不会检查\n",
    "# 方便继续维护，方便阅读，对开发人员友好\n",
    "def f2(x: int, y: int) -> int:\n",
    "    return x * y - 1\n",
    "\n",
    "\n",
    "def myapply(ff, data, z=3): # 这里的data是一个可迭代对象,ff是一个函数参数\n",
    "    return [ff(x, z) for x in data if x > 2]\n",
    "\n",
    "\n",
    "data = range(8)\n",
    "print(myapply(f1, data))\n",
    "\n",
    "print(myapply(f2, data))\n",
    "\n",
    "print(myapply(f1, data, 10))"
   ]
  },
  {
   "cell_type": "code",
   "execution_count": 14,
   "metadata": {},
   "outputs": [],
   "source": [
    "# 常用的高阶函数\n",
    "# 1. map:用于对可迭代对象的每个元素进行函数操作\n",
    "# 2. filter:用于对可迭代对象的每个元素进行判断\n",
    "# 3. reduce:用于对可迭代对象的每个元素进行累积操作\n",
    "# 4. sorted:用于对可迭代对象的每个元素进行排序操作\n",
    "# 5. zip:用于对可迭代对象的每个元素进行组合操作\n",
    "# 6. enumerate:用于对可迭代对象的每个元素进行编号操作\n",
    "# 7. all:用于对可迭代对象的每个元素进行判断是否都为真\n",
    "# 8. any:用于对可迭代对象的每个元素进行判断是否有一个为真\n",
    "\n",
    "\n",
    "\n"
   ]
  },
  {
   "cell_type": "code",
   "execution_count": 15,
   "metadata": {},
   "outputs": [
    {
     "data": {
      "text/plain": [
       "True"
      ]
     },
     "execution_count": 15,
     "metadata": {},
     "output_type": "execute_result"
    }
   ],
   "source": [
    "# 1. map\n",
    "def ff(x):\n",
    "    return x**2\n",
    "[*map(ff, data)] == [ff(x) for x in data]"
   ]
  },
  {
   "cell_type": "code",
   "execution_count": 16,
   "metadata": {},
   "outputs": [
    {
     "data": {
      "text/plain": [
       "True"
      ]
     },
     "execution_count": 16,
     "metadata": {},
     "output_type": "execute_result"
    }
   ],
   "source": [
    "# 2. filter\n",
    "def ff(x): \n",
    "    return x % 2\n",
    "\n",
    "[*filter(ff, data)] == [x for x in data if ff(x)]"
   ]
  },
  {
   "cell_type": "markdown",
   "metadata": {},
   "source": [
    "## sorted\n",
    "- 可以指定key作为排序的依据\n",
    "- 某些特定的数据结构中有自定义的排序函数,比如dict, list, tuple"
   ]
  },
  {
   "cell_type": "code",
   "execution_count": 17,
   "metadata": {},
   "outputs": [
    {
     "data": {
      "text/plain": [
       "'a=#ttw*ddd*&df*z^'"
      ]
     },
     "execution_count": 17,
     "metadata": {},
     "output_type": "execute_result"
    }
   ],
   "source": [
    "# reduce\n",
    "s = 'a=0ttw,ddd,sdf,zbb'\n",
    "f = [(',','*'),('s','&'),('0','#'),('bb','^')]\n",
    "\n",
    "# str.translate(table) -> str\n",
    "# 给一个映射表，将字符串中的字符替换成映射表中的字符\n",
    "# 用reduce实现\n",
    "\n",
    "from functools import reduce\n",
    "reduce(lambda x,y:x.replace(*y),f,s)\n",
    "# s是第三个参数，作为初始化值\n",
    "# reduce(lambda x,y:x.replace(y[0],y[1]),[s]+f)\n",
    "# 表示先将s和f合并成一个列表y，然后再进行replace操作"
   ]
  },
  {
   "cell_type": "code",
   "execution_count": 18,
   "metadata": {},
   "outputs": [],
   "source": [
    "def ff(x,y): return x + y\n",
    "x = data[0]\n",
    "for y in data[1:]:\n",
    "    x = ff(x,y)"
   ]
  },
  {
   "cell_type": "code",
   "execution_count": 19,
   "metadata": {},
   "outputs": [
    {
     "data": {
      "text/plain": [
       "28"
      ]
     },
     "execution_count": 19,
     "metadata": {},
     "output_type": "execute_result"
    }
   ],
   "source": [
    "# 从functools中导入reduce\n",
    "from functools import reduce\n",
    "reduce(ff,data)"
   ]
  },
  {
   "cell_type": "code",
   "execution_count": 20,
   "metadata": {},
   "outputs": [],
   "source": [
    "### 并行，并发\n",
    "# 并行：多个任务同时执行\n",
    "# 并发：多个任务交替执行"
   ]
  },
  {
   "cell_type": "code",
   "execution_count": null,
   "metadata": {},
   "outputs": [],
   "source": []
  }
 ],
 "metadata": {
  "kernelspec": {
   "display_name": "Python 3",
   "language": "python",
   "name": "python3"
  },
  "language_info": {
   "codemirror_mode": {
    "name": "ipython",
    "version": 3
   },
   "file_extension": ".py",
   "mimetype": "text/x-python",
   "name": "python",
   "nbconvert_exporter": "python",
   "pygments_lexer": "ipython3",
   "version": "3.10.4"
  }
 },
 "nbformat": 4,
 "nbformat_minor": 2
}
