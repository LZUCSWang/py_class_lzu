{
 "cells": [
  {
   "cell_type": "markdown",
   "metadata": {},
   "source": [
    "对象接口协议\n",
    "\n",
    "- 只要实现了类的某些指定方法，就可以称为实现了某个接口,就获得相应的相关能力\n",
    "  - 比如:容器,求长度,迭代,切片,索引,上下文管理器\n"
   ]
  },
  {
   "cell_type": "markdown",
   "metadata": {},
   "source": [
    "### 容器\n",
    "\n",
    "- 有 in 方法的能力,判断前面的对象是否在后面的对象中\n",
    "  - 'a' in ['a','b','c'] # True\n",
    "  - 'a' not in ['a','b','c'] # False\n",
    "  - contains,return 真假值\n"
   ]
  },
  {
   "cell_type": "code",
   "execution_count": 1,
   "metadata": {},
   "outputs": [],
   "source": [
    "from IPython.core.interactiveshell import InteractiveShell\n",
    "InteractiveShell.ast_node_interactivity = \"all\""
   ]
  },
  {
   "cell_type": "code",
   "execution_count": 2,
   "metadata": {},
   "outputs": [
    {
     "data": {
      "text/plain": [
       "(True, False)"
      ]
     },
     "execution_count": 2,
     "metadata": {},
     "output_type": "execute_result"
    }
   ],
   "source": [
    "class myCls:\n",
    "    def __init__(self, data) -> None:\n",
    "        self.items = data\n",
    "\n",
    "    def __contains__(self, k):\n",
    "        for _, j in self.items:\n",
    "            if j == k:\n",
    "                return True\n",
    "        return False\n",
    "\n",
    "    # return none\n",
    "    # pass默认返回false\n",
    "\n",
    "\n",
    "data = myCls([(1, 2), (2, 3), (3, 4), (4, 5), (5, 6)])\n",
    "5 in data, 1 in data"
   ]
  },
  {
   "cell_type": "code",
   "execution_count": 7,
   "metadata": {},
   "outputs": [
    {
     "data": {
      "text/plain": [
       "('武松', ['武松', '李逵'], ['李逵'])"
      ]
     },
     "execution_count": 7,
     "metadata": {},
     "output_type": "execute_result"
    }
   ],
   "source": [
    "# 切片操作\n",
    "class Hero:\n",
    "    def __init__(self, hmc, tag) -> None:\n",
    "        self.hmc = hmc\n",
    "\n",
    "    def __getitem__(self, index):  # index是切片对象\n",
    "        hmclist = self.hmc.split()\n",
    "        return hmclist[index]\n",
    "\n",
    "\n",
    "ls = Hero('武松 李逵 宋江 鲁智深', '梁山')\n",
    "ls[0], ls[:2], ls[1:2]"
   ]
  },
  {
   "cell_type": "code",
   "execution_count": 4,
   "metadata": {},
   "outputs": [
    {
     "data": {
      "text/plain": [
       "('武松', ['武松', '李逵'], '武松，第1条好汉', '李逵，第2条好汉', '宋江，第3条好汉', '鲁智深，第4条好汉', None)"
      ]
     },
     "execution_count": 4,
     "metadata": {},
     "output_type": "execute_result"
    }
   ],
   "source": [
    "from typing import Any\n",
    "\n",
    "\n",
    "class Hero:\n",
    "    def __init__(self, hmc, tag) -> None:\n",
    "        self.hmc = hmc\n",
    "\n",
    "    def __getitem__(self, index):  # index是切片对象\n",
    "        hmclist = self.hmc.split()\n",
    "        if isinstance(index, slice):\n",
    "            return hmclist[index.start:index.stop:index.step]\n",
    "        else:\n",
    "            return hmclist[index]\n",
    "\n",
    "    def __getattr__(self, attr__name: str) -> Any:\n",
    "        hmclist = self.hmc.split()\n",
    "        if attr__name in hmclist:\n",
    "            return '{}，第{}条好汉'.format(attr__name, hmclist.index(attr__name)+1)\n",
    "        else:\n",
    "            return None\n",
    "\n",
    "\n",
    "ls = Hero('武松 李逵 宋江 鲁智深', '梁山')\n",
    "ls[0], ls[:2], ls.武松, ls.李逵, ls.宋江, ls.鲁智深, ls.林冲"
   ]
  },
  {
   "cell_type": "code",
   "execution_count": 5,
   "metadata": {},
   "outputs": [
    {
     "data": {
      "text/plain": [
       "1"
      ]
     },
     "execution_count": 5,
     "metadata": {},
     "output_type": "execute_result"
    },
    {
     "data": {
      "text/plain": [
       "(1, 2, 3, {'aa': 1, 'bb': 2, 'cc': 3})"
      ]
     },
     "execution_count": 5,
     "metadata": {},
     "output_type": "execute_result"
    },
    {
     "data": {
      "text/plain": [
       "1"
      ]
     },
     "execution_count": 5,
     "metadata": {},
     "output_type": "execute_result"
    }
   ],
   "source": [
    "# 对象化字典\n",
    "from typing import Any\n",
    "\n",
    "\n",
    "class objDict(dict):\n",
    "    def __getattr__(self, attr__name: str) -> Any:\n",
    "        c = self[attr__name]\n",
    "        if isinstance(c, dict):\n",
    "            return objDict(c)  # 递归调用，将字典转换为对象，然后返回\n",
    "        return c\n",
    "\n",
    "\n",
    "d = dict(a=1, b=2, c=3)\n",
    "d = dict(a=1, b=2, c=3, d={'aa': 1, 'bb': 2, 'cc': 3})\n",
    "d['a']\n",
    "d = objDict(d)\n",
    "d.a, d.b, d.c, d.d\n",
    "d.d.aa  # 嵌套字典"
   ]
  },
  {
   "cell_type": "markdown",
   "metadata": {},
   "source": [
    "### 上下文管理器\n",
    "\n",
    "将某个类的对象使用范围，进入或者退出该范围时候，会自动触发特殊的操作，比如关闭连接，释放内存等等\n",
    "**enter**和**exit**方法\n",
    "\n",
    "- **enter**方法\n",
    "  - with 语句块开始执行时，会调用该方法，获取该方法的返回值，赋值给 as 后面的变量\n",
    "- **exit**方法\n",
    "\n",
    "  - with 语句块执行完毕后，会调用该方法，释放资源\n",
    "\n",
    "- with 语句\n",
    "  - with open('a.txt') as f:\n",
    "    f.read()\n",
    "  - with 语句会自动调用 open 函数返回的对象的**enter**方法，获取该方法的返回值，赋值给 as 后面的变量\n",
    "  - with 语句块执行完毕后，会自动调用 open 函数返回的对象的**exit**方法，释放资源\n"
   ]
  },
  {
   "cell_type": "code",
   "execution_count": 6,
   "metadata": {},
   "outputs": [
    {
     "data": {
      "text/plain": [
       "['习近平春节前夕赴江西看望慰问广大干部群众 祝全国各族人民健康快乐吉祥 祝改革发展人民生活蒸蒸日上',\n",
       " '李克强在宁夏考察时强调 以新理念新动能推结构升级 促进经济发展和社会公正',\n",
       " '新华社述评：正风肃纪 把纪律挺在前面',\n",
       " '国家发改委：中国经济结构优化 新动力正在积聚',\n",
       " '深化改革带来更多获得感',\n",
       " '国内联播快讯',\n",
       " '外交部：希望朝方保持克制 慎重行事',\n",
       " '叙利亚问题日内瓦和谈陷入僵局',\n",
       " '传承红色基因 让人民生活蒸蒸日上',\n",
       " '李克强主持召开国务院常务会议']"
      ]
     },
     "execution_count": 6,
     "metadata": {},
     "output_type": "execute_result"
    }
   ],
   "source": [
    "import sqlite3\n",
    "\n",
    "\n",
    "class mySqlites3:\n",
    "    def __init__(self, name) -> None: # 初始化，先执行\n",
    "        self.dbname = name\n",
    "\n",
    "    def __enter__(self) -> sqlite3.Connection: # 进入with语句时执行\n",
    "        self.conn = sqlite3.connect(self.dbname)\n",
    "        return self.conn  # 返回连接对象，必须要返回\n",
    "\n",
    "    def __exit__(self, exc_type, exc_val, exc_tb) -> None:  # 这里必须要有4个参数才能正常运行\n",
    "        self.conn.close()\n",
    "        return True\n",
    "\n",
    "\n",
    "db = '../data/xwlb.db'\n",
    "with mySqlites3(db) as conn:\n",
    "    c = conn.execute(\"\"\"select *from lb00 \"\"\")  # 返回一个游标对象，作用是遍历查询结果\n",
    "    data = [x[1] for x in c]\n",
    "\n",
    "data[:10]"
   ]
  },
  {
   "cell_type": "code",
   "execution_count": null,
   "metadata": {},
   "outputs": [],
   "source": []
  }
 ],
 "metadata": {
  "kernelspec": {
   "display_name": "Python 3",
   "language": "python",
   "name": "python3"
  },
  "language_info": {
   "codemirror_mode": {
    "name": "ipython",
    "version": 3
   },
   "file_extension": ".py",
   "mimetype": "text/x-python",
   "name": "python",
   "nbconvert_exporter": "python",
   "pygments_lexer": "ipython3",
   "version": "3.10.4"
  }
 },
 "nbformat": 4,
 "nbformat_minor": 2
}
