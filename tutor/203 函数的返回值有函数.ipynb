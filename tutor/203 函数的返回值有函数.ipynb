{
 "cells": [
  {
   "cell_type": "code",
   "execution_count": 1,
   "metadata": {},
   "outputs": [],
   "source": [
    "from IPython.core.interactiveshell import InteractiveShell\n",
    "InteractiveShell.ast_node_interactivity = \"all\""
   ]
  },
  {
   "cell_type": "code",
   "execution_count": 2,
   "metadata": {},
   "outputs": [
    {
     "data": {
      "text/plain": [
       "9"
      ]
     },
     "execution_count": 2,
     "metadata": {},
     "output_type": "execute_result"
    },
    {
     "data": {
      "text/plain": [
       "(36, 16)"
      ]
     },
     "execution_count": 2,
     "metadata": {},
     "output_type": "execute_result"
    }
   ],
   "source": [
    "# def()\n",
    "def f2(x): return x*x\n",
    "def f1(): return f2\n",
    "\n",
    "f1()(3)\n",
    "ff = f1()\n",
    "ff(6), ff(4)"
   ]
  },
  {
   "cell_type": "markdown",
   "metadata": {},
   "source": [
    "## 装饰器"
   ]
  },
  {
   "cell_type": "code",
   "execution_count": 3,
   "metadata": {},
   "outputs": [
    {
     "data": {
      "text/plain": [
       "9"
      ]
     },
     "execution_count": 3,
     "metadata": {},
     "output_type": "execute_result"
    },
    {
     "data": {
      "text/plain": [
       "(12, 36)"
      ]
     },
     "execution_count": 3,
     "metadata": {},
     "output_type": "execute_result"
    }
   ],
   "source": [
    "# def()\n",
    "def f2(x): return x*x\n",
    "def f3(x): return x + x\n",
    "def f1(x): return f2 if x else f3\n",
    "\n",
    "f1(2)(3)\n",
    "ff1 = f1(0); ff2 = f1(1)\n",
    "ff1(6), ff2(6)"
   ]
  },
  {
   "cell_type": "code",
   "execution_count": 4,
   "metadata": {},
   "outputs": [
    {
     "data": {
      "text/plain": [
       "80"
      ]
     },
     "execution_count": 4,
     "metadata": {},
     "output_type": "execute_result"
    }
   ],
   "source": [
    "# 返回函数内置\n",
    "# 函数的分段执行，偏函数\n",
    "def f1(x):  \n",
    "    def f2(y): return x*y\n",
    "    return f2\n",
    "ff = f1(8)\n",
    "ff(10)"
   ]
  },
  {
   "cell_type": "code",
   "execution_count": 5,
   "metadata": {},
   "outputs": [],
   "source": [
    "# 闭包:返回值是函数，函数内部有引用外部变量\n"
   ]
  },
  {
   "cell_type": "code",
   "execution_count": 6,
   "metadata": {},
   "outputs": [],
   "source": [
    "import time\n",
    "ts = time.sleep\n",
    "get_time = time.perf_counter # 表示程序运行的时间，不包括睡眠时间\n",
    "def pp(x):\n",
    "    print('运行时间',int(1000*get_time()-x))\n",
    "def f1():print('f1 run');ts(0.2)\n",
    "def f2():print('f2 run');ts(0.8)\n",
    "def f3():print('f3 run');ts(0.5)\n",
    "\n"
   ]
  },
  {
   "cell_type": "code",
   "execution_count": 7,
   "metadata": {},
   "outputs": [
    {
     "name": "stdout",
     "output_type": "stream",
     "text": [
      "f1 run\n"
     ]
    },
    {
     "name": "stdout",
     "output_type": "stream",
     "text": [
      "运行时间 80401821\n",
      "f2 run\n",
      "运行时间 80402626\n",
      "f3 run\n",
      "运行时间 80403138\n"
     ]
    },
    {
     "data": {
      "text/plain": [
       "(None, None, None)"
      ]
     },
     "execution_count": 7,
     "metadata": {},
     "output_type": "execute_result"
    }
   ],
   "source": [
    "\n",
    "def timeff(f):\n",
    "    t = get_time()\n",
    "    f()\n",
    "    pp(t)\n",
    "timeff(f1),timeff(f2),timeff(f3)\n"
   ]
  },
  {
   "cell_type": "code",
   "execution_count": 8,
   "metadata": {},
   "outputs": [
    {
     "name": "stdout",
     "output_type": "stream",
     "text": [
      "f4 run\n",
      "运行时间 80403866\n",
      "f4 run\n",
      "运行时间 80404571\n",
      "f4 run\n",
      "运行时间 80405285\n"
     ]
    }
   ],
   "source": [
    "def f4():\n",
    "    print('f4 run')\n",
    "    ts(0.7) \n",
    "def timeit(f):\n",
    "    def wrapper():\n",
    "        t = get_time()\n",
    "        f()\n",
    "        pp(t)\n",
    "    return wrapper\n",
    "timeit(f4)()\n",
    "ff = timeit(f4) # 返回的是函数wrapper\n",
    "ff()\n",
    "f4 = timeit(f4)\n",
    "f4()\n"
   ]
  },
  {
   "cell_type": "code",
   "execution_count": 9,
   "metadata": {},
   "outputs": [
    {
     "name": "stdout",
     "output_type": "stream",
     "text": [
      "f5 run\n",
      "运行时间 80406017\n"
     ]
    }
   ],
   "source": [
    "# 装饰器:核心业务代码和通用辅助代码分离\n",
    "def timeit2(f):\n",
    "    print('do timerit2')\n",
    "    def wrapper():\n",
    "        print('do timerit2')\n",
    "        f()\n",
    "        print('do timerit2')\n",
    "    return wrapper\n",
    "# @timeit2    # 相当于 f5 = timeit2(f5)\n",
    "@timeit\n",
    "def f5():\n",
    "    print('f5 run')\n",
    "    ts(0.7)\n",
    "\n",
    "\n",
    "f5()"
   ]
  },
  {
   "cell_type": "code",
   "execution_count": 10,
   "metadata": {},
   "outputs": [],
   "source": [
    "# 装饰器\n",
    "@ timeit\n",
    "def test(xlist): \n",
    "    ts(0.5)\n",
    "    return '-'.join(xlist)\n",
    "def test2(x,y,z,w):\n",
    "    ts(0.1)\n",
    "    return x*y*z*w\n"
   ]
  }
 ],
 "metadata": {
  "kernelspec": {
   "display_name": "Python 3",
   "language": "python",
   "name": "python3"
  },
  "language_info": {
   "codemirror_mode": {
    "name": "ipython",
    "version": 3
   },
   "file_extension": ".py",
   "mimetype": "text/x-python",
   "name": "python",
   "nbconvert_exporter": "python",
   "pygments_lexer": "ipython3",
   "version": "3.10.4"
  }
 },
 "nbformat": 4,
 "nbformat_minor": 2
}
