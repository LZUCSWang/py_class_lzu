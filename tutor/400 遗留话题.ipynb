{
 "cells": [
  {
   "cell_type": "code",
   "execution_count": 2,
   "metadata": {},
   "outputs": [
    {
     "ename": "NameError",
     "evalue": "name 'abc2' is not defined",
     "output_type": "error",
     "traceback": [
      "\u001b[1;31m---------------------------------------------------------------------------\u001b[0m",
      "\u001b[1;31mNameError\u001b[0m                                 Traceback (most recent call last)",
      "Cell \u001b[1;32mIn[2], line 4\u001b[0m\n\u001b[0;32m      1\u001b[0m \u001b[38;5;66;03m# 装饰类方法\u001b[39;00m\n\u001b[0;32m      2\u001b[0m \u001b[38;5;66;03m# 装饰类\u001b[39;00m\n\u001b[0;32m      3\u001b[0m \u001b[38;5;66;03m# 类做装饰器\u001b[39;00m\n\u001b[1;32m----> 4\u001b[0m \u001b[38;5;129m@abc2\u001b[39m\n\u001b[0;32m      5\u001b[0m \u001b[38;5;28;01mclass\u001b[39;00m \u001b[38;5;21;01mMycls\u001b[39;00m:\n\u001b[0;32m      6\u001b[0m     \u001b[38;5;129m@abc1\u001b[39m\n\u001b[0;32m      7\u001b[0m     \u001b[38;5;28;01mdef\u001b[39;00m \u001b[38;5;21mff\u001b[39m(\u001b[38;5;28mself\u001b[39m):\n\u001b[0;32m      8\u001b[0m         \u001b[38;5;28mprint\u001b[39m(\u001b[38;5;124m\"\u001b[39m\u001b[38;5;124mff\u001b[39m\u001b[38;5;124m\"\u001b[39m)\n",
      "\u001b[1;31mNameError\u001b[0m: name 'abc2' is not defined"
     ]
    }
   ],
   "source": [
    "# 装饰类\n",
    "@abc2\n",
    "class Mycls:\n",
    "# 装饰类方法\n",
    "    @abc1\n",
    "    def ff(self):\n",
    "        print(\"ff\")\n",
    "\n",
    "# 类做装饰器\n",
    "@Mycls2\n",
    "def ff():\n",
    "    print(\"ff\")"
   ]
  },
  {
   "cell_type": "markdown",
   "metadata": {},
   "source": [
    "- 扩展能力\n",
    "  - 扩展语言本身，定义自己的对象接口协议\n",
    "  - 用其他语言扩展提升python的性能：速度，并发能力\n",
    "  "
   ]
  },
  {
   "cell_type": "markdown",
   "metadata": {},
   "source": [
    "- 异步\n",
    "  - 程序执行到某个点，接受某个信号，再执行下一步\n",
    "  - 一般面向过程的程序都是同步的，一行一行执行，遇到阻塞，就停下来，等待阻塞结束，再执行下一行\n",
    "  - 异步：遇到阻塞，不等待，继续执行下一行，等阻塞结束，再回来执行\n",
    "- 并行\n",
    "  - 把任务分到多个CPU\n",
    "- 分布（非语言层面）\n",
    "  - 把任务分到多台物理机器上\n",
    "- 线程、进程、协程\n",
    "  - 线程：操作系统层面的并行\n",
    "  - 进程：操作系统层面的分布\n",
    "  - 协程：语言层面的异步\n",
    "\n"
   ]
  },
  {
   "cell_type": "markdown",
   "metadata": {},
   "source": [
    "## 从代码中来，到代码中去"
   ]
  }
 ],
 "metadata": {
  "kernelspec": {
   "display_name": "Python 3",
   "language": "python",
   "name": "python3"
  },
  "language_info": {
   "codemirror_mode": {
    "name": "ipython",
    "version": 3
   },
   "file_extension": ".py",
   "mimetype": "text/x-python",
   "name": "python",
   "nbconvert_exporter": "python",
   "pygments_lexer": "ipython3",
   "version": "3.8.10"
  }
 },
 "nbformat": 4,
 "nbformat_minor": 2
}
