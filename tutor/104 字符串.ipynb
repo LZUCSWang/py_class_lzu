{
 "cells": [
  {
   "cell_type": "markdown",
   "id": "51a93671-ab20-47e7-968f-44eb13b45328",
   "metadata": {},
   "source": [
    "# 10.15"
   ]
  },
  {
   "cell_type": "code",
   "execution_count": 3,
   "id": "a73dea57",
   "metadata": {
    "execution": {
     "iopub.execute_input": "2023-10-18T03:07:27.189667Z",
     "iopub.status.busy": "2023-10-18T03:07:27.189667Z",
     "iopub.status.idle": "2023-10-18T03:07:27.200747Z",
     "shell.execute_reply": "2023-10-18T03:07:27.200747Z",
     "shell.execute_reply.started": "2023-10-18T03:07:27.189667Z"
    }
   },
   "outputs": [],
   "source": [
    "from IPython.core.interactiveshell import InteractiveShell\n",
    "InteractiveShell.ast_node_interactivity = \"all\""
   ]
  },
  {
   "cell_type": "code",
   "execution_count": 4,
   "id": "48fac4ab",
   "metadata": {},
   "outputs": [
    {
     "data": {
      "text/plain": [
       "'加州SanJose太阳谷'"
      ]
     },
     "execution_count": 4,
     "metadata": {},
     "output_type": "execute_result"
    },
    {
     "data": {
      "text/plain": [
       "'加州-SanJose-太阳谷'"
      ]
     },
     "execution_count": 4,
     "metadata": {},
     "output_type": "execute_result"
    },
    {
     "data": {
      "text/plain": [
       "'加州-SanJose-太阳谷'"
      ]
     },
     "execution_count": 4,
     "metadata": {},
     "output_type": "execute_result"
    },
    {
     "data": {
      "text/plain": [
       "'SanJose-太阳谷-加州'"
      ]
     },
     "execution_count": 4,
     "metadata": {},
     "output_type": "execute_result"
    }
   ],
   "source": [
    "a,b,c = '加州','SanJose','太阳谷'\n",
    "''.join((a,b,c))\n",
    "'-'.join((a,b,c))\n",
    "'-'.join([a,b,c])\n",
    "'-'.join({a,b,c}) # 集合不一定有序，程序内部有调整"
   ]
  },
  {
   "cell_type": "code",
   "execution_count": 5,
   "id": "c50acd90",
   "metadata": {},
   "outputs": [
    {
     "data": {
      "text/plain": [
       "['加州', 'SanJose', '太阳谷']"
      ]
     },
     "execution_count": 5,
     "metadata": {},
     "output_type": "execute_result"
    }
   ],
   "source": [
    "'-'.join((a,b,c)).split('-') # 按照某个分隔符分开"
   ]
  },
  {
   "cell_type": "code",
   "execution_count": 6,
   "id": "4d0dba39",
   "metadata": {
    "execution": {
     "iopub.execute_input": "2023-10-18T02:33:08.634225Z",
     "iopub.status.busy": "2023-10-18T02:33:08.634225Z",
     "iopub.status.idle": "2023-10-18T02:33:08.663191Z",
     "shell.execute_reply": "2023-10-18T02:33:08.659170Z",
     "shell.execute_reply.started": "2023-10-18T02:33:08.634225Z"
    }
   },
   "outputs": [
    {
     "name": "stdout",
     "output_type": "stream",
     "text": [
      "{'pku', 'cmu', 'lzu'}\n"
     ]
    }
   ],
   "source": [
    "# 查找子字符串\n",
    "data = ['mzx@lzu.edu.cn',# 中国的教育网邮箱\n",
    "       'fly@cmu.edu', # 美国的教育网邮箱\n",
    "       'peter@pku.edu.cn',\n",
    "       'bill@cmu.edu']\n",
    "res = set()\n",
    "for s in data:\n",
    "    a = s.find('@')\n",
    "    b = s.find('.')\n",
    "    res.add(s[a+1:b])# 注意Python中的字符串是左闭右开区间\n",
    "print(res)"
   ]
  },
  {
   "cell_type": "code",
   "execution_count": 7,
   "id": "b571eeac",
   "metadata": {},
   "outputs": [
    {
     "data": {
      "text/plain": [
       "{'cmu', 'lzu', 'pku'}"
      ]
     },
     "execution_count": 7,
     "metadata": {},
     "output_type": "execute_result"
    }
   ],
   "source": [
    "# 通过点分隔符拆分,然后取后三位\n",
    "res = set()\n",
    "for s in data:\n",
    "    res.add(s.split('.')[0][-3:])\n",
    "res"
   ]
  },
  {
   "cell_type": "code",
   "execution_count": 8,
   "id": "76e1d37d",
   "metadata": {},
   "outputs": [
    {
     "data": {
      "text/plain": [
       "{'cmu', 'lzu', 'pku'}"
      ]
     },
     "execution_count": 8,
     "metadata": {},
     "output_type": "execute_result"
    },
    {
     "data": {
      "text/plain": [
       "(216, 64)"
      ]
     },
     "execution_count": 8,
     "metadata": {},
     "output_type": "execute_result"
    }
   ],
   "source": [
    "# 老师的写法\n",
    "s = set()\n",
    "for x in data: \n",
    "    s.add(x.split('@')[1].split('.')[0])\n",
    "s\n",
    "# 推导式\n",
    "import os,sys\n",
    "t = set()\n",
    "t = {x.split('@')[1].split('.')[0] for x in data}\n",
    "t = tuple(t) # 迭代器，可以缩小系统的开销\n",
    "# s == t\n",
    "sys.getsizeof(s),sys.getsizeof(t)"
   ]
  },
  {
   "cell_type": "markdown",
   "id": "133ea7d3-f7ac-42a6-a2af-85cca7860cbb",
   "metadata": {},
   "source": [
    "## 正则表达式 \n",
    "类似sql—>数据库\n",
    "字符串，超越具体语言"
   ]
  },
  {
   "cell_type": "code",
   "execution_count": 9,
   "id": "c2240f29",
   "metadata": {},
   "outputs": [
    {
     "data": {
      "text/plain": [
       "{'cmu', 'lzu', 'pku'}"
      ]
     },
     "execution_count": 9,
     "metadata": {},
     "output_type": "execute_result"
    },
    {
     "data": {
      "text/plain": [
       "{'cmu', 'lzu', 'pku'}"
      ]
     },
     "execution_count": 9,
     "metadata": {},
     "output_type": "execute_result"
    },
    {
     "data": {
      "text/plain": [
       "{'cmu', 'lzu', 'pku'}"
      ]
     },
     "execution_count": 9,
     "metadata": {},
     "output_type": "execute_result"
    }
   ],
   "source": [
    "\n",
    "import re\n",
    "res = set()\n",
    "m = re.compile(r'[@](.*?)[.]')  # (.*?)配合[]可以拿到中间的部分\n",
    "for s in data:\n",
    "    n = m.findall(s)           # n的返回类型是list，所以不能直接添加到set中\n",
    "    res.add(n[0])\n",
    "res\n",
    "\n",
    "{ re.search('@(\\w)+.',x).group()[1:-1] for x in data } # 【1：-1】去掉开头结尾，外面的括号代表集合\n",
    "{ re.findall('@\\w*.',x)[0][1:-1] for x in data }"
   ]
  },
  {
   "cell_type": "code",
   "execution_count": 10,
   "id": "47bcfa1e",
   "metadata": {},
   "outputs": [
    {
     "data": {
      "text/plain": [
       "(104, 104)"
      ]
     },
     "execution_count": 10,
     "metadata": {},
     "output_type": "execute_result"
    },
    {
     "data": {
      "text/plain": [
       "(8856, 32984)"
      ]
     },
     "execution_count": 10,
     "metadata": {},
     "output_type": "execute_result"
    },
    {
     "name": "stdout",
     "output_type": "stream",
     "text": [
      "0\n",
      "1\n",
      "4\n",
      "9\n",
      "16\n",
      "25\n",
      "36\n",
      "49\n",
      "64\n",
      "81\n",
      "100\n",
      "121\n",
      "144\n",
      "169\n",
      "196\n",
      "225\n",
      "256\n",
      "289\n",
      "324\n",
      "361\n",
      "400\n",
      "441\n",
      "484\n",
      "529\n",
      "576\n",
      "625\n",
      "676\n",
      "729\n",
      "784\n",
      "841\n",
      "900\n",
      "961\n",
      "1024\n",
      "1089\n",
      "1156\n",
      "1225\n",
      "1296\n",
      "1369\n",
      "1444\n",
      "1521\n",
      "1600\n",
      "1681\n",
      "1764\n",
      "1849\n",
      "1936\n",
      "2025\n",
      "2116\n",
      "2209\n",
      "2304\n",
      "2401\n",
      "2500\n",
      "2601\n",
      "2704\n",
      "2809\n",
      "2916\n",
      "3025\n",
      "3136\n",
      "3249\n",
      "3364\n",
      "3481\n",
      "3600\n",
      "3721\n",
      "3844\n",
      "3969\n",
      "4096\n",
      "4225\n",
      "4356\n",
      "4489\n",
      "4624\n",
      "4761\n",
      "4900\n",
      "5041\n",
      "5184\n",
      "5329\n",
      "5476\n",
      "5625\n",
      "5776\n",
      "5929\n",
      "6084\n",
      "6241\n",
      "6400\n",
      "6561\n",
      "6724\n",
      "6889\n",
      "7056\n",
      "7225\n",
      "7396\n",
      "7569\n",
      "7744\n",
      "7921\n",
      "8100\n",
      "8281\n",
      "8464\n",
      "8649\n",
      "8836\n",
      "9025\n",
      "9216\n",
      "9409\n",
      "9604\n",
      "9801\n",
      "10000\n",
      "10201\n",
      "10404\n",
      "10609\n",
      "10816\n",
      "11025\n",
      "11236\n",
      "11449\n",
      "11664\n",
      "11881\n",
      "12100\n",
      "12321\n",
      "12544\n",
      "12769\n",
      "12996\n",
      "13225\n",
      "13456\n",
      "13689\n",
      "13924\n",
      "14161\n",
      "14400\n",
      "14641\n",
      "14884\n",
      "15129\n",
      "15376\n",
      "15625\n",
      "15876\n",
      "16129\n",
      "16384\n",
      "16641\n",
      "16900\n",
      "17161\n",
      "17424\n",
      "17689\n",
      "17956\n",
      "18225\n",
      "18496\n",
      "18769\n",
      "19044\n",
      "19321\n",
      "19600\n",
      "19881\n",
      "20164\n",
      "20449\n",
      "20736\n",
      "21025\n",
      "21316\n",
      "21609\n",
      "21904\n",
      "22201\n",
      "22500\n",
      "22801\n",
      "23104\n",
      "23409\n",
      "23716\n",
      "24025\n",
      "24336\n",
      "24649\n",
      "24964\n",
      "25281\n",
      "25600\n",
      "25921\n",
      "26244\n",
      "26569\n",
      "26896\n",
      "27225\n",
      "27556\n",
      "27889\n",
      "28224\n",
      "28561\n",
      "28900\n",
      "29241\n",
      "29584\n",
      "29929\n",
      "30276\n",
      "30625\n",
      "30976\n",
      "31329\n",
      "31684\n",
      "32041\n",
      "32400\n",
      "32761\n",
      "33124\n",
      "33489\n",
      "33856\n",
      "34225\n",
      "34596\n",
      "34969\n",
      "35344\n",
      "35721\n",
      "36100\n",
      "36481\n",
      "36864\n",
      "37249\n",
      "37636\n",
      "38025\n",
      "38416\n",
      "38809\n",
      "39204\n",
      "39601\n",
      "40000\n",
      "40401\n",
      "40804\n",
      "41209\n",
      "41616\n",
      "42025\n",
      "42436\n",
      "42849\n",
      "43264\n",
      "43681\n",
      "44100\n",
      "44521\n",
      "44944\n",
      "45369\n",
      "45796\n",
      "46225\n",
      "46656\n",
      "47089\n",
      "47524\n",
      "47961\n",
      "48400\n",
      "48841\n",
      "49284\n",
      "49729\n",
      "50176\n",
      "50625\n",
      "51076\n",
      "51529\n",
      "51984\n",
      "52441\n",
      "52900\n",
      "53361\n",
      "53824\n",
      "54289\n",
      "54756\n",
      "55225\n",
      "55696\n",
      "56169\n",
      "56644\n",
      "57121\n",
      "57600\n",
      "58081\n",
      "58564\n",
      "59049\n",
      "59536\n",
      "60025\n",
      "60516\n",
      "61009\n",
      "61504\n",
      "62001\n",
      "62500\n",
      "63001\n",
      "63504\n",
      "64009\n",
      "64516\n",
      "65025\n",
      "65536\n",
      "66049\n",
      "66564\n",
      "67081\n",
      "67600\n",
      "68121\n",
      "68644\n",
      "69169\n",
      "69696\n",
      "70225\n",
      "70756\n",
      "71289\n",
      "71824\n",
      "72361\n",
      "72900\n",
      "73441\n",
      "73984\n",
      "74529\n",
      "75076\n",
      "75625\n",
      "76176\n",
      "76729\n",
      "77284\n",
      "77841\n",
      "78400\n",
      "78961\n",
      "79524\n",
      "80089\n",
      "80656\n",
      "81225\n",
      "81796\n",
      "82369\n",
      "82944\n",
      "83521\n",
      "84100\n",
      "84681\n",
      "85264\n",
      "85849\n",
      "86436\n",
      "87025\n",
      "87616\n",
      "88209\n",
      "88804\n",
      "89401\n",
      "90000\n",
      "90601\n",
      "91204\n",
      "91809\n",
      "92416\n",
      "93025\n",
      "93636\n",
      "94249\n",
      "94864\n",
      "95481\n",
      "96100\n",
      "96721\n",
      "97344\n",
      "97969\n",
      "98596\n",
      "99225\n",
      "99856\n",
      "100489\n",
      "101124\n",
      "101761\n",
      "102400\n",
      "103041\n",
      "103684\n",
      "104329\n",
      "104976\n",
      "105625\n",
      "106276\n",
      "106929\n",
      "107584\n",
      "108241\n",
      "108900\n",
      "109561\n",
      "110224\n",
      "110889\n",
      "111556\n",
      "112225\n",
      "112896\n",
      "113569\n",
      "114244\n",
      "114921\n",
      "115600\n",
      "116281\n",
      "116964\n",
      "117649\n",
      "118336\n",
      "119025\n",
      "119716\n",
      "120409\n",
      "121104\n",
      "121801\n",
      "122500\n",
      "123201\n",
      "123904\n",
      "124609\n",
      "125316\n",
      "126025\n",
      "126736\n",
      "127449\n",
      "128164\n",
      "128881\n",
      "129600\n",
      "130321\n",
      "131044\n",
      "131769\n",
      "132496\n",
      "133225\n",
      "133956\n",
      "134689\n",
      "135424\n",
      "136161\n",
      "136900\n",
      "137641\n",
      "138384\n",
      "139129\n",
      "139876\n",
      "140625\n",
      "141376\n",
      "142129\n",
      "142884\n",
      "143641\n",
      "144400\n",
      "145161\n",
      "145924\n",
      "146689\n",
      "147456\n",
      "148225\n",
      "148996\n",
      "149769\n",
      "150544\n",
      "151321\n",
      "152100\n",
      "152881\n",
      "153664\n",
      "154449\n",
      "155236\n",
      "156025\n",
      "156816\n",
      "157609\n",
      "158404\n",
      "159201\n",
      "160000\n",
      "160801\n",
      "161604\n",
      "162409\n",
      "163216\n",
      "164025\n",
      "164836\n",
      "165649\n",
      "166464\n",
      "167281\n",
      "168100\n",
      "168921\n",
      "169744\n",
      "170569\n",
      "171396\n",
      "172225\n",
      "173056\n",
      "173889\n",
      "174724\n",
      "175561\n",
      "176400\n",
      "177241\n",
      "178084\n",
      "178929\n",
      "179776\n",
      "180625\n",
      "181476\n",
      "182329\n",
      "183184\n",
      "184041\n",
      "184900\n",
      "185761\n",
      "186624\n",
      "187489\n",
      "188356\n",
      "189225\n",
      "190096\n",
      "190969\n",
      "191844\n",
      "192721\n",
      "193600\n",
      "194481\n",
      "195364\n",
      "196249\n",
      "197136\n",
      "198025\n",
      "198916\n",
      "199809\n",
      "200704\n",
      "201601\n",
      "202500\n",
      "203401\n",
      "204304\n",
      "205209\n",
      "206116\n",
      "207025\n",
      "207936\n",
      "208849\n",
      "209764\n",
      "210681\n",
      "211600\n",
      "212521\n",
      "213444\n",
      "214369\n",
      "215296\n",
      "216225\n",
      "217156\n",
      "218089\n",
      "219024\n",
      "219961\n",
      "220900\n",
      "221841\n",
      "222784\n",
      "223729\n",
      "224676\n",
      "225625\n",
      "226576\n",
      "227529\n",
      "228484\n",
      "229441\n",
      "230400\n",
      "231361\n",
      "232324\n",
      "233289\n",
      "234256\n",
      "235225\n",
      "236196\n",
      "237169\n",
      "238144\n",
      "239121\n",
      "240100\n",
      "241081\n",
      "242064\n",
      "243049\n",
      "244036\n",
      "245025\n",
      "246016\n",
      "247009\n",
      "248004\n",
      "249001\n",
      "250000\n",
      "251001\n",
      "252004\n",
      "253009\n",
      "254016\n",
      "255025\n",
      "256036\n",
      "257049\n",
      "258064\n",
      "259081\n",
      "260100\n",
      "261121\n",
      "262144\n",
      "263169\n",
      "264196\n",
      "265225\n",
      "266256\n",
      "267289\n",
      "268324\n",
      "269361\n",
      "270400\n",
      "271441\n",
      "272484\n",
      "273529\n",
      "274576\n",
      "275625\n",
      "276676\n",
      "277729\n",
      "278784\n",
      "279841\n",
      "280900\n",
      "281961\n",
      "283024\n",
      "284089\n",
      "285156\n",
      "286225\n",
      "287296\n",
      "288369\n",
      "289444\n",
      "290521\n",
      "291600\n",
      "292681\n",
      "293764\n",
      "294849\n",
      "295936\n",
      "297025\n",
      "298116\n",
      "299209\n",
      "300304\n",
      "301401\n",
      "302500\n",
      "303601\n",
      "304704\n",
      "305809\n",
      "306916\n",
      "308025\n",
      "309136\n",
      "310249\n",
      "311364\n",
      "312481\n",
      "313600\n",
      "314721\n",
      "315844\n",
      "316969\n",
      "318096\n",
      "319225\n",
      "320356\n",
      "321489\n",
      "322624\n",
      "323761\n",
      "324900\n",
      "326041\n",
      "327184\n",
      "328329\n",
      "329476\n",
      "330625\n",
      "331776\n",
      "332929\n",
      "334084\n",
      "335241\n",
      "336400\n",
      "337561\n",
      "338724\n",
      "339889\n",
      "341056\n",
      "342225\n",
      "343396\n",
      "344569\n",
      "345744\n",
      "346921\n",
      "348100\n",
      "349281\n",
      "350464\n",
      "351649\n",
      "352836\n",
      "354025\n",
      "355216\n",
      "356409\n",
      "357604\n",
      "358801\n",
      "360000\n",
      "361201\n",
      "362404\n",
      "363609\n",
      "364816\n",
      "366025\n",
      "367236\n",
      "368449\n",
      "369664\n",
      "370881\n",
      "372100\n",
      "373321\n",
      "374544\n",
      "375769\n",
      "376996\n",
      "378225\n",
      "379456\n",
      "380689\n",
      "381924\n",
      "383161\n",
      "384400\n",
      "385641\n",
      "386884\n",
      "388129\n",
      "389376\n",
      "390625\n",
      "391876\n",
      "393129\n",
      "394384\n",
      "395641\n",
      "396900\n",
      "398161\n",
      "399424\n",
      "400689\n",
      "401956\n",
      "403225\n",
      "404496\n",
      "405769\n",
      "407044\n",
      "408321\n",
      "409600\n",
      "410881\n",
      "412164\n",
      "413449\n",
      "414736\n",
      "416025\n",
      "417316\n",
      "418609\n",
      "419904\n",
      "421201\n",
      "422500\n",
      "423801\n",
      "425104\n",
      "426409\n",
      "427716\n",
      "429025\n",
      "430336\n",
      "431649\n",
      "432964\n",
      "434281\n",
      "435600\n",
      "436921\n",
      "438244\n",
      "439569\n",
      "440896\n",
      "442225\n",
      "443556\n",
      "444889\n",
      "446224\n",
      "447561\n",
      "448900\n",
      "450241\n",
      "451584\n",
      "452929\n",
      "454276\n",
      "455625\n",
      "456976\n",
      "458329\n",
      "459684\n",
      "461041\n",
      "462400\n",
      "463761\n",
      "465124\n",
      "466489\n",
      "467856\n",
      "469225\n",
      "470596\n",
      "471969\n",
      "473344\n",
      "474721\n",
      "476100\n",
      "477481\n",
      "478864\n",
      "480249\n",
      "481636\n",
      "483025\n",
      "484416\n",
      "485809\n",
      "487204\n",
      "488601\n",
      "490000\n",
      "491401\n",
      "492804\n",
      "494209\n",
      "495616\n",
      "497025\n",
      "498436\n",
      "499849\n",
      "501264\n",
      "502681\n",
      "504100\n",
      "505521\n",
      "506944\n",
      "508369\n",
      "509796\n",
      "511225\n",
      "512656\n",
      "514089\n",
      "515524\n",
      "516961\n",
      "518400\n",
      "519841\n",
      "521284\n",
      "522729\n",
      "524176\n",
      "525625\n",
      "527076\n",
      "528529\n",
      "529984\n",
      "531441\n",
      "532900\n",
      "534361\n",
      "535824\n",
      "537289\n",
      "538756\n",
      "540225\n",
      "541696\n",
      "543169\n",
      "544644\n",
      "546121\n",
      "547600\n",
      "549081\n",
      "550564\n",
      "552049\n",
      "553536\n",
      "555025\n",
      "556516\n",
      "558009\n",
      "559504\n",
      "561001\n",
      "562500\n",
      "564001\n",
      "565504\n",
      "567009\n",
      "568516\n",
      "570025\n",
      "571536\n",
      "573049\n",
      "574564\n",
      "576081\n",
      "577600\n",
      "579121\n",
      "580644\n",
      "582169\n",
      "583696\n",
      "585225\n",
      "586756\n",
      "588289\n",
      "589824\n",
      "591361\n",
      "592900\n",
      "594441\n",
      "595984\n",
      "597529\n",
      "599076\n",
      "600625\n",
      "602176\n",
      "603729\n",
      "605284\n",
      "606841\n",
      "608400\n",
      "609961\n",
      "611524\n",
      "613089\n",
      "614656\n",
      "616225\n",
      "617796\n",
      "619369\n",
      "620944\n",
      "622521\n",
      "624100\n",
      "625681\n",
      "627264\n",
      "628849\n",
      "630436\n",
      "632025\n",
      "633616\n",
      "635209\n",
      "636804\n",
      "638401\n",
      "640000\n",
      "641601\n",
      "643204\n",
      "644809\n",
      "646416\n",
      "648025\n",
      "649636\n",
      "651249\n",
      "652864\n",
      "654481\n",
      "656100\n",
      "657721\n",
      "659344\n",
      "660969\n",
      "662596\n",
      "664225\n",
      "665856\n",
      "667489\n",
      "669124\n",
      "670761\n",
      "672400\n",
      "674041\n",
      "675684\n",
      "677329\n",
      "678976\n",
      "680625\n",
      "682276\n",
      "683929\n",
      "685584\n",
      "687241\n",
      "688900\n",
      "690561\n",
      "692224\n",
      "693889\n",
      "695556\n",
      "697225\n",
      "698896\n",
      "700569\n",
      "702244\n",
      "703921\n",
      "705600\n",
      "707281\n",
      "708964\n",
      "710649\n",
      "712336\n",
      "714025\n",
      "715716\n",
      "717409\n",
      "719104\n",
      "720801\n",
      "722500\n",
      "724201\n",
      "725904\n",
      "727609\n",
      "729316\n",
      "731025\n",
      "732736\n",
      "734449\n",
      "736164\n",
      "737881\n",
      "739600\n",
      "741321\n",
      "743044\n",
      "744769\n",
      "746496\n",
      "748225\n",
      "749956\n",
      "751689\n",
      "753424\n",
      "755161\n",
      "756900\n",
      "758641\n",
      "760384\n",
      "762129\n",
      "763876\n",
      "765625\n",
      "767376\n",
      "769129\n",
      "770884\n",
      "772641\n",
      "774400\n",
      "776161\n",
      "777924\n",
      "779689\n",
      "781456\n",
      "783225\n",
      "784996\n",
      "786769\n",
      "788544\n",
      "790321\n",
      "792100\n",
      "793881\n",
      "795664\n",
      "797449\n",
      "799236\n",
      "801025\n",
      "802816\n",
      "804609\n",
      "806404\n",
      "808201\n",
      "810000\n",
      "811801\n",
      "813604\n",
      "815409\n",
      "817216\n",
      "819025\n",
      "820836\n",
      "822649\n",
      "824464\n",
      "826281\n",
      "828100\n",
      "829921\n",
      "831744\n",
      "833569\n",
      "835396\n",
      "837225\n",
      "839056\n",
      "840889\n",
      "842724\n",
      "844561\n",
      "846400\n",
      "848241\n",
      "850084\n",
      "851929\n",
      "853776\n",
      "855625\n",
      "857476\n",
      "859329\n",
      "861184\n",
      "863041\n",
      "864900\n",
      "866761\n",
      "868624\n",
      "870489\n",
      "872356\n",
      "874225\n",
      "876096\n",
      "877969\n",
      "879844\n",
      "881721\n",
      "883600\n",
      "885481\n",
      "887364\n",
      "889249\n",
      "891136\n",
      "893025\n",
      "894916\n",
      "896809\n",
      "898704\n",
      "900601\n",
      "902500\n",
      "904401\n",
      "906304\n",
      "908209\n",
      "910116\n",
      "912025\n",
      "913936\n",
      "915849\n",
      "917764\n",
      "919681\n",
      "921600\n",
      "923521\n",
      "925444\n",
      "927369\n",
      "929296\n",
      "931225\n",
      "933156\n",
      "935089\n",
      "937024\n",
      "938961\n",
      "940900\n",
      "942841\n",
      "944784\n",
      "946729\n",
      "948676\n",
      "950625\n",
      "952576\n",
      "954529\n",
      "956484\n",
      "958441\n",
      "960400\n",
      "962361\n",
      "964324\n",
      "966289\n",
      "968256\n",
      "970225\n",
      "972196\n",
      "974169\n",
      "976144\n",
      "978121\n",
      "980100\n",
      "982081\n",
      "984064\n",
      "986049\n",
      "988036\n",
      "990025\n",
      "992016\n",
      "994009\n",
      "996004\n",
      "998001\n"
     ]
    }
   ],
   "source": [
    "s1 = (x * x for x in range(100))  # 相当于添加了元组的格式，可以节省空间\n",
    "s2 = (x*x for x in range(1000))\n",
    "s3 = [x*x for x in range(1000)]\n",
    "s4 = {x*x for x in range(1000)}\n",
    "sys.getsizeof(s1), sys.getsizeof(s2)\n",
    "sys.getsizeof(s3), sys.getsizeof(s4)\n",
    "for x in s2:\n",
    "    print(x)"
   ]
  },
  {
   "cell_type": "code",
   "execution_count": 11,
   "id": "931413eb-1748-47ac-a658-bc5014612ece",
   "metadata": {
    "execution": {
     "iopub.execute_input": "2023-10-17T01:45:04.115650Z",
     "iopub.status.busy": "2023-10-17T01:45:04.110852Z",
     "iopub.status.idle": "2023-10-17T01:45:04.193724Z",
     "shell.execute_reply": "2023-10-17T01:45:04.192717Z",
     "shell.execute_reply.started": "2023-10-17T01:45:04.113200Z"
    }
   },
   "outputs": [
    {
     "data": {
      "text/plain": [
       "['peter@cmu.edu', 'bill@pku.edu']"
      ]
     },
     "execution_count": 11,
     "metadata": {},
     "output_type": "execute_result"
    },
    {
     "data": {
      "text/plain": [
       "['0103-1454546', '027-54543434']"
      ]
     },
     "execution_count": 11,
     "metadata": {},
     "output_type": "execute_result"
    },
    {
     "data": {
      "text/plain": [
       "['13919879810', '18988888888']"
      ]
     },
     "execution_count": 11,
     "metadata": {},
     "output_type": "execute_result"
    }
   ],
   "source": [
    "s = '''\n",
    "<html>\n",
    "    这是晚上爬虫的数据，我们要从里面抽取手机号、邮箱，准备推广告短信和邮件。\n",
    "    0103-1454546 13919879810 027-54543434 18988888888\n",
    "    peter@cmu.edu bill@pku.edu\n",
    "    欢迎访问XXX工作室\n",
    "<html>\n",
    "\n",
    "'''\n",
    "# 爬取邮件\n",
    "# 找到@和.然后前后的部分补充完整\n",
    "import re\n",
    "m = re.compile(r'\\w+@\\w+\\.\\w+')\n",
    "m.findall(s)\n",
    "# 爬取电话\n",
    "# 通过数字和-字符结合起来，位数不限\n",
    "pattern = re.compile(r'\\d{3}-\\d{8}|\\d{4}-\\d{7}')\n",
    "pattern.findall(s)\n",
    " \n",
    "# 爬取手机\n",
    "# n  = re.compile(r'1[35789]\\d{9}')\n",
    "# p = r'^1(3\\d|4[5-9]|5[0-35-9]|6[567]|7[0-8]|8\\d|9[0-35-9])\\d{8}$'\n",
    "p = r'(?:13[0-9]|14[01456879]|15[0-35-9]|16[2567]|17[0-8]|18[0-9]|19[0-35-9])\\d{8}'\n",
    "res = re.findall(p,s)         # 这里要取消括号的优先匹配，加上？：\n",
    "res"
   ]
  },
  {
   "cell_type": "markdown",
   "id": "aeede4c1-e218-435d-832c-c72c505ae38c",
   "metadata": {},
   "source": [
    "# 10.18"
   ]
  },
  {
   "cell_type": "code",
   "execution_count": 12,
   "id": "d6a78717-3583-4f04-b731-ef099fa9ff25",
   "metadata": {
    "execution": {
     "iopub.execute_input": "2023-10-18T02:33:13.821265Z",
     "iopub.status.busy": "2023-10-18T02:33:13.819884Z",
     "iopub.status.idle": "2023-10-18T02:33:13.837405Z",
     "shell.execute_reply": "2023-10-18T02:33:13.835405Z",
     "shell.execute_reply.started": "2023-10-18T02:33:13.821265Z"
    }
   },
   "outputs": [
    {
     "data": {
      "text/plain": [
       "['mzx@lzu.edu.cn', 'fly@cmu.edu', 'peter@pku.edu.cn', 'bill@cmu.edu']"
      ]
     },
     "execution_count": 12,
     "metadata": {},
     "output_type": "execute_result"
    },
    {
     "data": {
      "text/plain": [
       "(True, False, True)"
      ]
     },
     "execution_count": 12,
     "metadata": {},
     "output_type": "execute_result"
    }
   ],
   "source": [
    "data\n",
    "s = ''.join(data)\n",
    "a,b = 'cmu','tsg'\n",
    "a in s, b in s, b not in s"
   ]
  },
  {
   "cell_type": "code",
   "execution_count": 13,
   "id": "17fd99ae-b4d4-410e-ae02-5e76668a80bb",
   "metadata": {
    "execution": {
     "iopub.execute_input": "2023-10-18T02:46:20.205199Z",
     "iopub.status.busy": "2023-10-18T02:46:20.204153Z",
     "iopub.status.idle": "2023-10-18T02:46:20.224047Z",
     "shell.execute_reply": "2023-10-18T02:46:20.222209Z",
     "shell.execute_reply.started": "2023-10-18T02:46:20.205199Z"
    }
   },
   "outputs": [
    {
     "name": "stdout",
     "output_type": "stream",
     "text": [
      "mzx@lzu.edu.cnfly@cmu.edupeter@pku.edu.cnbill@cmu.edu\n",
      "[18, 46]\n"
     ]
    }
   ],
   "source": [
    "# 用find、index找到文本中a字符串的位置\n",
    "# help(str) # find index\n",
    "print(s)\n",
    "index = 0\n",
    "list = []\n",
    "while True:\n",
    "    b = s.find(a, index)\n",
    "    if b == -1:  # 找不到返回-1\n",
    "        break\n",
    "    list.append(b)\n",
    "    index = b + len(a)\n",
    "\n",
    "\n",
    "print(list)"
   ]
  },
  {
   "cell_type": "code",
   "execution_count": 14,
   "id": "561e8410-deed-4ddc-acf1-842cb64ebced",
   "metadata": {
    "execution": {
     "iopub.execute_input": "2023-10-18T03:00:32.906238Z",
     "iopub.status.busy": "2023-10-18T03:00:32.906238Z",
     "iopub.status.idle": "2023-10-18T03:00:32.925983Z",
     "shell.execute_reply": "2023-10-18T03:00:32.924989Z",
     "shell.execute_reply.started": "2023-10-18T03:00:32.906238Z"
    }
   },
   "outputs": [
    {
     "name": "stdout",
     "output_type": "stream",
     "text": [
      "mzx@lzu.edu.cnfly@cmu.edupeter@pku.edu.cnbill@cmu.edu\n",
      "[18, 46]\n"
     ]
    }
   ],
   "source": [
    "i = 0  # 查找起始位置\n",
    "res = []\n",
    "print(s)\n",
    "while True:\n",
    "    try:\n",
    "        i = s.index(a, i)\n",
    "        res.append(i)\n",
    "        i += len(a)\n",
    "    except:   # 异常可以自己定义，判断跳过\n",
    "        break\n",
    "print(res)\n",
    "\n",
    "\n",
    "def ff():\n",
    "    raise 'bad'\n",
    "\n",
    "\n",
    "def fff():\n",
    "    ff()\n",
    "\n",
    "\n",
    "try:\n",
    "    fff()\n",
    "except:       # 异常跳过\n",
    "    pass"
   ]
  },
  {
   "cell_type": "markdown",
   "id": "7a12d05c-a072-4f5b-964e-6b22d830b686",
   "metadata": {
    "execution": {
     "iopub.execute_input": "2023-10-18T03:00:45.427284Z",
     "iopub.status.busy": "2023-10-18T03:00:45.427284Z",
     "iopub.status.idle": "2023-10-18T03:00:45.453493Z",
     "shell.execute_reply": "2023-10-18T03:00:45.452505Z",
     "shell.execute_reply.started": "2023-10-18T03:00:45.427284Z"
    }
   },
   "source": [
    "## 格式化输出"
   ]
  },
  {
   "cell_type": "code",
   "execution_count": 15,
   "id": "6d87d345-89e3-4daa-94db-8530e65390da",
   "metadata": {
    "execution": {
     "iopub.execute_input": "2023-10-18T03:14:39.498353Z",
     "iopub.status.busy": "2023-10-18T03:14:39.497343Z",
     "iopub.status.idle": "2023-10-18T03:14:39.539391Z",
     "shell.execute_reply": "2023-10-18T03:14:39.538379Z",
     "shell.execute_reply.started": "2023-10-18T03:14:39.497343Z"
    }
   },
   "outputs": [
    {
     "data": {
      "text/plain": [
       "'黄院士说：Python是世界最好的语言'"
      ]
     },
     "execution_count": 15,
     "metadata": {},
     "output_type": "execute_result"
    },
    {
     "data": {
      "text/plain": [
       "'黄院士 说：Python  是世界最好的语言'"
      ]
     },
     "execution_count": 15,
     "metadata": {},
     "output_type": "execute_result"
    },
    {
     "data": {
      "text/plain": [
       "'黄院士说：Python是世界最好的语言\\nPython!没错'"
      ]
     },
     "execution_count": 15,
     "metadata": {},
     "output_type": "execute_result"
    },
    {
     "data": {
      "text/plain": [
       "'黄院士说：Python是世界最好的语言\\nPython!没错'"
      ]
     },
     "execution_count": 15,
     "metadata": {},
     "output_type": "execute_result"
    },
    {
     "name": "stdout",
     "output_type": "stream",
     "text": [
      "黄院士说：Python是世界最好的语言\n",
      "Python!没错\n"
     ]
    },
    {
     "data": {
      "text/plain": [
       "'黄院士说：Python是世界最好的语言.黄院士!没错'"
      ]
     },
     "execution_count": 15,
     "metadata": {},
     "output_type": "execute_result"
    },
    {
     "data": {
      "text/plain": [
       "'黄院士说：Python是世界最好的语言.Python!没错'"
      ]
     },
     "execution_count": 15,
     "metadata": {},
     "output_type": "execute_result"
    },
    {
     "data": {
      "text/plain": [
       "'5--14--9--9'"
      ]
     },
     "execution_count": 15,
     "metadata": {},
     "output_type": "execute_result"
    }
   ],
   "source": [
    "a, b, c = '黄院士', 'Python', '世界'\n",
    "# 顺序法\n",
    "'{}说：{}是{}最好的语言'.format(a, b, c)\n",
    "# 黄院士说：Python是世界最好的语言\n",
    "'{:4}说：{:8}是{}最好的语言'.format(a, b, c)\n",
    "# 黄院士 说：Python  是世界最好的语言\n",
    "# 位置法\n",
    "'{0}说：{1}是{2}最好的语言\\n{1}!没错'.format(a, b, c)  # 位置法的编号是从0开始的\n",
    "# 黄院士说：Python是世界最好的语言\\nPython！没错\n",
    "# '{1}说：{2}是{3}最好的语言\\n{2}!没错'.format(a,b,c)\n",
    "\n",
    "# 关键字法\n",
    "'{who}说：{lan}是{area}最好的语言\\n{lan}!没错'.format(\n",
    "    who=a,\n",
    "    lan=b,\n",
    "    area=c)\n",
    "\n",
    "# 混合法\n",
    "s = '{0}说：{1}是{area}最好的语言\\n{1}!没错'.format(a, b, area=c)\n",
    "print(s)\n",
    "\n",
    "# 变量空间法\n",
    "'{a}说：{b}是{c}最好的语言.{a}!没错'.format_map(locals())\n",
    "\n",
    "# f字符串\n",
    "f'{a}说：{b}是{c}最好的语言.{b}!没错'\n",
    "x, y = 5, 9\n",
    "f'{x}--{x+y}--{x if x > y else y}--{max(x,y)}'"
   ]
  },
  {
   "cell_type": "code",
   "execution_count": 16,
   "id": "ca6afac2-a025-4b4f-ae58-3bbd8d6ab855",
   "metadata": {
    "execution": {
     "iopub.execute_input": "2023-10-18T03:30:36.024343Z",
     "iopub.status.busy": "2023-10-18T03:30:36.023833Z",
     "iopub.status.idle": "2023-10-18T03:30:36.046656Z",
     "shell.execute_reply": "2023-10-18T03:30:36.045652Z",
     "shell.execute_reply.started": "2023-10-18T03:30:36.024343Z"
    }
   },
   "outputs": [
    {
     "data": {
      "text/plain": [
       "'*******************居中*******************'"
      ]
     },
     "execution_count": 16,
     "metadata": {},
     "output_type": "execute_result"
    },
    {
     "data": {
      "text/plain": [
       "'居中**************************************'"
      ]
     },
     "execution_count": 16,
     "metadata": {},
     "output_type": "execute_result"
    },
    {
     "data": {
      "text/plain": [
       "'**************************************居中'"
      ]
     },
     "execution_count": 16,
     "metadata": {},
     "output_type": "execute_result"
    }
   ],
   "source": [
    "'居中'.center(40,'*')\n",
    "'居中'.ljust(40,'*')\n",
    "'居中'.rjust(40,'*')"
   ]
  },
  {
   "cell_type": "markdown",
   "id": "cb8686e3-bce2-4afe-962a-4b78a62575c4",
   "metadata": {},
   "source": [
    "## 转义符号"
   ]
  },
  {
   "cell_type": "code",
   "execution_count": 17,
   "id": "3a680714-7671-4931-bce0-7185147e652b",
   "metadata": {
    "execution": {
     "iopub.execute_input": "2023-10-18T03:32:52.857890Z",
     "iopub.status.busy": "2023-10-18T03:32:52.857890Z",
     "iopub.status.idle": "2023-10-18T03:32:52.871883Z",
     "shell.execute_reply": "2023-10-18T03:32:52.870700Z",
     "shell.execute_reply.started": "2023-10-18T03:32:52.857890Z"
    }
   },
   "outputs": [
    {
     "name": "stdout",
     "output_type": "stream",
     "text": [
      "\n",
      "\n",
      "\u0007\u0007\u0007\u0007\u0007\u0007\u0007\u0007\u0007\u0007\u0007\u0007\u0007\u0007\u0007\u0007\u0007\u0007\u0007\u0007\n",
      "\\n\n",
      "\u0007\n"
     ]
    },
    {
     "data": {
      "text/plain": [
       "123"
      ]
     },
     "execution_count": 17,
     "metadata": {},
     "output_type": "execute_result"
    },
    {
     "data": {
      "text/plain": [
       "123"
      ]
     },
     "execution_count": 17,
     "metadata": {},
     "output_type": "execute_result"
    },
    {
     "data": {
      "text/plain": [
       "83"
      ]
     },
     "execution_count": 17,
     "metadata": {},
     "output_type": "execute_result"
    },
    {
     "data": {
      "text/plain": [
       "123"
      ]
     },
     "execution_count": 17,
     "metadata": {},
     "output_type": "execute_result"
    }
   ],
   "source": [
    "print('\\n')\n",
    "print('\\a'*20)\n",
    "print(r'\\n')\n",
    "print(chr(7)) # 7是ASCII码，chr是将数字转换成字符\n",
    "# 将字符串转换成数字\n",
    "int('123')\n",
    "int('123',10)\n",
    "int('123',8)\n",
    "eval('123')\n",
    "# eval函数可以将字符串转换成数字，但是不能将字符串转换成变量"
   ]
  },
  {
   "cell_type": "markdown",
   "id": "c7f6d440-c464-43e7-9752-3210b0e54d3f",
   "metadata": {},
   "source": [
    "## 编码解码 字符串-字符串"
   ]
  },
  {
   "cell_type": "code",
   "execution_count": 18,
   "id": "9d1908f7-4be3-4448-a07f-c7bd7573eb12",
   "metadata": {
    "execution": {
     "iopub.execute_input": "2023-10-18T03:37:49.727986Z",
     "iopub.status.busy": "2023-10-18T03:37:49.727986Z",
     "iopub.status.idle": "2023-10-18T03:37:49.741723Z",
     "shell.execute_reply": "2023-10-18T03:37:49.741213Z",
     "shell.execute_reply.started": "2023-10-18T03:37:49.727986Z"
    }
   },
   "outputs": [
    {
     "data": {
      "text/plain": [
       "(b'\\xc2\\xeb', b'\\xe7\\xa0\\x81')"
      ]
     },
     "execution_count": 18,
     "metadata": {},
     "output_type": "execute_result"
    },
    {
     "data": {
      "text/plain": [
       "'码'"
      ]
     },
     "execution_count": 18,
     "metadata": {},
     "output_type": "execute_result"
    },
    {
     "data": {
      "text/plain": [
       "'码'"
      ]
     },
     "execution_count": 18,
     "metadata": {},
     "output_type": "execute_result"
    }
   ],
   "source": [
    "'码'.encode('gbk'),'码'.encode('utf-8')\n",
    "b'\\xc2\\xeb'.decode('gbk')\n",
    "'码'.encode('gbk').decode('gbk')"
   ]
  },
  {
   "cell_type": "code",
   "execution_count": 19,
   "id": "2d4e9ff3-d725-4e81-b8dc-1e297f4f77a6",
   "metadata": {
    "execution": {
     "iopub.execute_input": "2023-10-18T03:38:51.058857Z",
     "iopub.status.busy": "2023-10-18T03:38:51.058857Z",
     "iopub.status.idle": "2023-10-18T03:38:51.082049Z",
     "shell.execute_reply": "2023-10-18T03:38:51.079984Z",
     "shell.execute_reply.started": "2023-10-18T03:38:51.058857Z"
    }
   },
   "outputs": [
    {
     "data": {
      "text/plain": [
       "30721"
      ]
     },
     "execution_count": 19,
     "metadata": {},
     "output_type": "execute_result"
    }
   ],
   "source": [
    "ord('码') #unicode\n"
   ]
  }
 ],
 "metadata": {
  "kernelspec": {
   "display_name": "Python 3 (ipykernel)",
   "language": "python",
   "name": "python3"
  },
  "language_info": {
   "codemirror_mode": {
    "name": "ipython",
    "version": 3
   },
   "file_extension": ".py",
   "mimetype": "text/x-python",
   "name": "python",
   "nbconvert_exporter": "python",
   "pygments_lexer": "ipython3",
   "version": "3.10.4"
  },
  "toc": {
   "base_numbering": 1,
   "nav_menu": {},
   "number_sections": true,
   "sideBar": true,
   "skip_h1_title": false,
   "title_cell": "Table of Contents",
   "title_sidebar": "Contents",
   "toc_cell": false,
   "toc_position": {},
   "toc_section_display": true,
   "toc_window_display": false
  }
 },
 "nbformat": 4,
 "nbformat_minor": 5
}
