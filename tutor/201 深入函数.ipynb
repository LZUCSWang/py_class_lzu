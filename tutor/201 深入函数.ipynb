{
 "cells": [
  {
   "cell_type": "code",
   "execution_count": 1,
   "metadata": {},
   "outputs": [
    {
     "data": {
      "text/plain": [
       "(1, 2)"
      ]
     },
     "execution_count": 1,
     "metadata": {},
     "output_type": "execute_result"
    }
   ],
   "source": [
    "# python没有函数重载\n",
    "def ff(x):\n",
    "    return x*x\n",
    "# 后面的函数会覆盖前面的函数\n",
    "def ff(x,y):\n",
    "    return x,y\n",
    "\n",
    "ff(1,2)\n",
    "# ff(2)"
   ]
  },
  {
   "cell_type": "code",
   "execution_count": 2,
   "metadata": {},
   "outputs": [],
   "source": [
    "from IPython.core.interactiveshell import InteractiveShell\n",
    "InteractiveShell.ast_node_interactivity = \"all\""
   ]
  },
  {
   "cell_type": "markdown",
   "metadata": {},
   "source": [
    "函数参数的传递方式"
   ]
  },
  {
   "cell_type": "code",
   "execution_count": 3,
   "metadata": {},
   "outputs": [
    {
     "name": "stdout",
     "output_type": "stream",
     "text": [
      "5\n"
     ]
    }
   ],
   "source": [
    "# 值传递，不可变类型\n",
    "def ff(x): x+=1\n",
    "\n",
    "a = 5\n",
    "ff(a)\n",
    "print(a)"
   ]
  },
  {
   "cell_type": "code",
   "execution_count": 4,
   "metadata": {},
   "outputs": [
    {
     "name": "stdout",
     "output_type": "stream",
     "text": [
      "[5, 1]\n"
     ]
    }
   ],
   "source": [
    "# 引用传递 可变类型变量\n",
    "def ff(x):\n",
    "    x.append(1)\n",
    "a = [5]\n",
    "ff(a)\n",
    "print(a)"
   ]
  },
  {
   "cell_type": "code",
   "execution_count": 5,
   "metadata": {},
   "outputs": [
    {
     "name": "stdout",
     "output_type": "stream",
     "text": [
      "[5, 1]\n"
     ]
    }
   ],
   "source": [
    "# 引用传递 可变类型变量\n",
    "# def ff(x): x.append(1)\n",
    "# def ff(x): x.extend([1])\n",
    "def ff(x): x = x + [1] # x = x + [1] 会创建一个新的对象，而不是在原有对象上进行修改\n",
    "def ff(x): x += [1] # x += [1] 会在原有对象上进行修改\n",
    "a = [5]\n",
    "ff(a)\n",
    "print(a)\n",
    "def ff(x,y = []):\n",
    "    y.append(x)\n",
    "    return y"
   ]
  },
  {
   "cell_type": "code",
   "execution_count": 6,
   "metadata": {},
   "outputs": [
    {
     "data": {
      "text/plain": [
       "13255"
      ]
     },
     "execution_count": 6,
     "metadata": {},
     "output_type": "execute_result"
    }
   ],
   "source": [
    "# 拿到搜狗网页的html\n",
    "import requests\n",
    "url = 'https://www.sogou.com/'\n",
    "res = requests.get(url)\n",
    "res.encoding = 'utf-8'\n",
    "html = res.text\n",
    "# 放到本地\n",
    "with open('sogou.html','w',encoding='utf-8') as f:\n",
    "    f.write(html)"
   ]
  },
  {
   "cell_type": "markdown",
   "metadata": {},
   "source": [
    "函数的参数传递形式\n"
   ]
  },
  {
   "cell_type": "code",
   "execution_count": 7,
   "metadata": {},
   "outputs": [
    {
     "name": "stdout",
     "output_type": "stream",
     "text": [
      "bill 10\n",
      "bill 20\n"
     ]
    },
    {
     "data": {
      "text/plain": [
       "(None, None)"
      ]
     },
     "execution_count": 7,
     "metadata": {},
     "output_type": "execute_result"
    }
   ],
   "source": [
    "# 普通参数 默认值\n",
    "\n",
    "def ff(name,age = 20): print(name,age)\n",
    "ff(\"bill\",10),ff(\"bill\")"
   ]
  },
  {
   "cell_type": "code",
   "execution_count": 8,
   "metadata": {},
   "outputs": [
    {
     "name": "stdout",
     "output_type": "stream",
     "text": [
      "bill 19\n",
      "bill 10\n",
      "bill 10\n"
     ]
    }
   ],
   "source": [
    "ff(name = \"bill\",age=19)\n",
    "ff(age = 10,name = \"bill\")\n",
    "\n",
    "name = \"bill\"\n",
    "age = 10\n",
    "ff(name = name,age = age)"
   ]
  },
  {
   "cell_type": "code",
   "execution_count": 9,
   "metadata": {},
   "outputs": [
    {
     "name": "stdout",
     "output_type": "stream",
     "text": [
      "1 ()\n",
      "1 (2,)\n",
      "1 (2, 3)\n",
      "1 (2, [3, 4])\n",
      "1 (2, [3, 4, 5], {'a': 1, 'b': 2})\n"
     ]
    }
   ],
   "source": [
    "# 可变参数\n",
    "def ff(x,*y): print(x,y)\n",
    "ff(1)\n",
    "ff(1,2)\n",
    "ff(1,2,3)\n",
    "ff(1,2,[3,4])\n",
    "ff(1,2,[3,4,5],dict(a=1,b=2))"
   ]
  },
  {
   "cell_type": "code",
   "execution_count": 10,
   "metadata": {},
   "outputs": [
    {
     "name": "stdout",
     "output_type": "stream",
     "text": [
      "1 ((1, 2, 3),)\n",
      "1 (1, 2, 3)\n"
     ]
    }
   ],
   "source": [
    "# 可变参数准备\n",
    "x = 1,2,3\n",
    "ff(1,x)\n",
    "ff(1,*x)"
   ]
  },
  {
   "cell_type": "code",
   "execution_count": 11,
   "metadata": {},
   "outputs": [
    {
     "name": "stdout",
     "output_type": "stream",
     "text": [
      "1 (2,) 3\n"
     ]
    }
   ],
   "source": [
    "# 可变参数后面不能是普通参数--因为普通参数是位置参数,必须命名参数\n",
    "def ff(x,*y,z): print(x,y,z)\n",
    "ff(1,2,z=3)"
   ]
  },
  {
   "cell_type": "code",
   "execution_count": 12,
   "metadata": {},
   "outputs": [
    {
     "name": "stdout",
     "output_type": "stream",
     "text": [
      "{'a': 1, 'b': 2, 'c': 3}\n",
      "<class 'dict'>\n",
      "{'a': 1}\n",
      "<class 'dict'>\n",
      "{'a': 1, 'b': 2, 'c': 3}\n",
      "<class 'dict'>\n"
     ]
    }
   ],
   "source": [
    "# 字典参数\n",
    "def ff(**z):\n",
    "    print(z)\n",
    "    print(type(z))\n",
    "\n",
    "ff(a=1,b=2,c=3)\n",
    "ff(a = 1)\n",
    "\n",
    "# 字典参数准备\n",
    "dd = {'a':1,'b':2,'c':3}\n",
    "ff(**dd)"
   ]
  },
  {
   "cell_type": "code",
   "execution_count": 13,
   "metadata": {},
   "outputs": [
    {
     "data": {
      "text/plain": [
       "((1, 2), (1, 2))"
      ]
     },
     "execution_count": 13,
     "metadata": {},
     "output_type": "execute_result"
    }
   ],
   "source": [
    "# 不是命名参数\n",
    "def ff(a,b): return a,b\n",
    "ff(1,2),ff(b=2,a=1)"
   ]
  },
  {
   "cell_type": "code",
   "execution_count": 14,
   "metadata": {},
   "outputs": [
    {
     "data": {
      "text/plain": [
       "((1, 2), (11, 1112))"
      ]
     },
     "execution_count": 14,
     "metadata": {},
     "output_type": "execute_result"
    }
   ],
   "source": [
    "## 占位符\n",
    "def ff(a,*,b): return a,b\n",
    "ff(1,b =2),ff(11,b=1112)"
   ]
  },
  {
   "cell_type": "code",
   "execution_count": 15,
   "metadata": {},
   "outputs": [
    {
     "data": {
      "text/plain": [
       "((1, 2), (2, 1112))"
      ]
     },
     "execution_count": 15,
     "metadata": {},
     "output_type": "execute_result"
    }
   ],
   "source": [
    "# 占位符\n",
    "def ff(a = 2,*,b): return a,b\n",
    "ff(1,b =2),ff(b=1112)"
   ]
  },
  {
   "cell_type": "code",
   "execution_count": 16,
   "metadata": {},
   "outputs": [
    {
     "data": {
      "text/plain": [
       "((1, 2), (11, 1112), (2, 3))"
      ]
     },
     "execution_count": 16,
     "metadata": {},
     "output_type": "execute_result"
    }
   ],
   "source": [
    "## 占位符\n",
    "def ff(a = 2,*,b =3): return a,b\n",
    "ff(1,b =2),ff(11,b=1112),ff()"
   ]
  },
  {
   "cell_type": "code",
   "execution_count": 17,
   "metadata": {},
   "outputs": [
    {
     "data": {
      "text/plain": [
       "(2, 3)"
      ]
     },
     "execution_count": 17,
     "metadata": {},
     "output_type": "execute_result"
    }
   ],
   "source": [
    "# 无普通参数\n",
    "def ff(*,b =3): return b\n",
    "ff(b = 2),ff()\n"
   ]
  },
  {
   "cell_type": "code",
   "execution_count": 18,
   "metadata": {},
   "outputs": [
    {
     "data": {
      "text/plain": [
       "(1, (), 2, {})"
      ]
     },
     "execution_count": 18,
     "metadata": {},
     "output_type": "execute_result"
    },
    {
     "data": {
      "text/plain": [
       "(1, (), 2, {'d': 3})"
      ]
     },
     "execution_count": 18,
     "metadata": {},
     "output_type": "execute_result"
    },
    {
     "data": {
      "text/plain": [
       "(1, (99,), 2, {'d': 3, 'e': 4})"
      ]
     },
     "execution_count": 18,
     "metadata": {},
     "output_type": "execute_result"
    },
    {
     "data": {
      "text/plain": [
       "(1, (99,), 2, {'d': 3, 'e': 4})"
      ]
     },
     "execution_count": 18,
     "metadata": {},
     "output_type": "execute_result"
    },
    {
     "data": {
      "text/plain": [
       "(1, (99,), 2, {'d': 3, 'e': 4})"
      ]
     },
     "execution_count": 18,
     "metadata": {},
     "output_type": "execute_result"
    }
   ],
   "source": [
    "# 命名参数必须在字典参数后面\n",
    "def ff(a,*b,c,**d): return a,b,c,d\n",
    "# def ff(a,*b,**d,c): return a,b,c,d\n",
    "\n",
    "ff(1,c = 2)\n",
    "ff(1,c = 2,d = 3)\n",
    "ff(1,99,c = 2,d = 3,e = 4)\n",
    "ff(1,99,d = 3,e = 4,c = 2)\n",
    "ff(1,99,d = 3,c = 2,e = 4)"
   ]
  },
  {
   "cell_type": "code",
   "execution_count": 19,
   "metadata": {},
   "outputs": [
    {
     "name": "stdout",
     "output_type": "stream",
     "text": [
      "1 2 (3,) cs {'unix': 'cmu'}\n"
     ]
    }
   ],
   "source": [
    "# \n",
    "def ff(id,uni = 'lzu',*args,dept = 'cs',**kwargs):\n",
    "    print(id,uni,args,dept,kwargs)\n",
    "\n",
    "\n",
    "# ff(1,2,3,uni='cmu')\n",
    "ff(1,2,3,unix='cmu') #这里的unix是一个命名参数，但不是uni，所以不 会报错"
   ]
  },
  {
   "cell_type": "code",
   "execution_count": 20,
   "metadata": {},
   "outputs": [],
   "source": [
    "def ff(*args,**kwargs): print(args,kwargs) ##通用的表示所有参数的方法\n"
   ]
  },
  {
   "cell_type": "markdown",
   "metadata": {},
   "source": [
    "## 变量作用域"
   ]
  },
  {
   "cell_type": "code",
   "execution_count": 21,
   "metadata": {},
   "outputs": [],
   "source": [
    "def pi(n): print(\"i_n\",n,id(n))\n",
    "def po(n): print(\"o_n\",n,id(n))\n",
    "def pp(s,n):print(s.ljust(4),n,id(n))"
   ]
  },
  {
   "cell_type": "code",
   "execution_count": 22,
   "metadata": {},
   "outputs": [
    {
     "name": "stdout",
     "output_type": "stream",
     "text": [
      "i_n ['py'] 2453586070656\n",
      "o_n ['py'] 2453586070656\n"
     ]
    },
    {
     "data": {
      "text/plain": [
       "(None, None)"
      ]
     },
     "execution_count": 22,
     "metadata": {},
     "output_type": "execute_result"
    }
   ],
   "source": [
    "# 传参，外层变量\n",
    "def ff(name): pi(name)\n",
    "name = ['py']\n",
    "ff(name),po(name)"
   ]
  },
  {
   "cell_type": "code",
   "execution_count": 23,
   "metadata": {},
   "outputs": [
    {
     "name": "stdout",
     "output_type": "stream",
     "text": [
      "i_n ['c#'] 2453605317248\n",
      "o_n ['py'] 2453605509120\n"
     ]
    },
    {
     "data": {
      "text/plain": [
       "(None, None)"
      ]
     },
     "execution_count": 23,
     "metadata": {},
     "output_type": "execute_result"
    }
   ],
   "source": [
    "# 传参，内层变量\n",
    "def ff(name): name = ['c#'];pi(name)\n",
    "name = ['py']\n",
    "ff(name),po(name)"
   ]
  },
  {
   "cell_type": "code",
   "execution_count": 24,
   "metadata": {},
   "outputs": [
    {
     "name": "stdout",
     "output_type": "stream",
     "text": [
      "i_n ['c#'] 2453585992000\n",
      "o_n ['py'] 2453586000512\n"
     ]
    },
    {
     "data": {
      "text/plain": [
       "(None, None)"
      ]
     },
     "execution_count": 24,
     "metadata": {},
     "output_type": "execute_result"
    }
   ],
   "source": [
    "# 无参数，内层变量\n",
    "def ff(): name = ['c#'];pi(name)\n",
    "name = ['py']\n",
    "ff(),po(name)"
   ]
  },
  {
   "cell_type": "code",
   "execution_count": 25,
   "metadata": {},
   "outputs": [
    {
     "name": "stdout",
     "output_type": "stream",
     "text": [
      "g    ['go'] 2453605541120\n",
      "f1   ['py'] 2453605537984\n",
      "f21  ['py'] 2453605537984\n",
      "f22  ['js'] 2453605541312\n",
      "f231 ['c++'] 2453605541568\n",
      "f23  ['c++'] 2453605541568\n",
      "f1   ['py'] 2453605537984\n",
      "g    ['js'] 2453605541312\n"
     ]
    },
    {
     "data": {
      "text/plain": [
       "(None, None)"
      ]
     },
     "execution_count": 25,
     "metadata": {},
     "output_type": "execute_result"
    }
   ],
   "source": [
    "c = ['go'] #2380401152000\n",
    "pp('g',c)\n",
    "def f1():\n",
    "    c = ['py'] #2380401154624，f231中的nonlocal c不会修改这个c，它只会修改最近外层的c\n",
    "    pp('f1',c)\n",
    "    def f21():pp('f21',c)\n",
    "    def f22():global c;c = ['js'];pp('f22',c) #2380399827136 全局被修改\n",
    "    def f23():\n",
    "        c = ['c#'] #因为f231中有nonlocal c，所以会被修改\n",
    "        def f231():\n",
    "            nonlocal c # 可以修改全局变量\n",
    "            c = ['c++']\n",
    "            pp('f231',c) # 最近外层变量\n",
    "        f231()\n",
    "        pp('f23',c)\n",
    "    f21()\n",
    "    f22()\n",
    "    f23()\n",
    "    pp('f1',c)\n",
    "\n",
    "f1(),pp('g',c)"
   ]
  },
  {
   "cell_type": "code",
   "execution_count": 26,
   "metadata": {},
   "outputs": [
    {
     "name": "stdout",
     "output_type": "stream",
     "text": [
      "i_n ['py', 'i', 's', ' ', 'b', 'e', 's', 't'] 2453586000512\n",
      "o_n ['py', 'i', 's', ' ', 'b', 'e', 's', 't'] 2453586000512\n"
     ]
    }
   ],
   "source": [
    "def ff():\n",
    "    global name # 必须声明全局变量，才能修改全局变量\n",
    "    name += \"is best\"\n",
    "    pi(name)\n",
    "\n",
    "\n",
    "name = ['py'],ff(),po(name)"
   ]
  },
  {
   "cell_type": "code",
   "execution_count": 28,
   "metadata": {},
   "outputs": [],
   "source": [
    "# def ff():\n",
    "#     global name  # 必须声明全局变量，才能修改全局变量\n",
    "#     name += \"is best\"\n",
    "#     pi(name)\n",
    "\n",
    "\n",
    "# ff()\n",
    "# name = ['py']  # 在函数中声明全局变量时全局变量可以不出现，但是当调用函数时，全局变量必须存在\n",
    "# po(name)"
   ]
  },
  {
   "cell_type": "code",
   "execution_count": 29,
   "metadata": {},
   "outputs": [
    {
     "data": {
      "text/plain": [
       "((1, 2, 3, -1), 3)"
      ]
     },
     "execution_count": 29,
     "metadata": {},
     "output_type": "execute_result"
    },
    {
     "data": {
      "text/plain": [
       "(1, 2, 3, -1)"
      ]
     },
     "execution_count": 29,
     "metadata": {},
     "output_type": "execute_result"
    },
    {
     "data": {
      "text/plain": [
       "(3, -1)"
      ]
     },
     "execution_count": 29,
     "metadata": {},
     "output_type": "execute_result"
    }
   ],
   "source": [
    "# 返回多个值\n",
    "\n",
    "def ff(x,y):return x,y,x+y,x-y\n",
    "\n",
    "a = ff(1,2)\n",
    "a ,a[2]\n",
    "a,b,c,d = ff(1,2)\n",
    "a,b,c,d\n",
    "*_,a,b = ff(1,2)\n",
    "a,b"
   ]
  },
  {
   "cell_type": "code",
   "execution_count": null,
   "metadata": {},
   "outputs": [
    {
     "name": "stdout",
     "output_type": "stream",
     "text": [
      "Help on function ff in module __main__:\n",
      "\n",
      "ff(x)\n",
      "    code by bill\n",
      "    2022-02-22\n",
      "    do something\n",
      "\n"
     ]
    },
    {
     "data": {
      "text/plain": [
       "'\\n    code by bill\\n    2022-02-22\\n    do something\\n    \\n    '"
      ]
     },
     "execution_count": 57,
     "metadata": {},
     "output_type": "execute_result"
    }
   ],
   "source": [
    "# 函数的说明文档是可访问的\n",
    "def ff(x):\n",
    "    '''\n",
    "    code by bill\n",
    "    2022-02-22\n",
    "    do something\n",
    "    \n",
    "    '''\n",
    "    return x\n",
    "\n",
    "\n",
    "help(ff)\n",
    "ff.__doc__\n"
   ]
  },
  {
   "cell_type": "code",
   "execution_count": null,
   "metadata": {},
   "outputs": [
    {
     "data": {
      "text/plain": [
       "TestResults(failed=0, attempted=3)"
      ]
     },
     "execution_count": 58,
     "metadata": {},
     "output_type": "execute_result"
    }
   ],
   "source": [
    "import doctest\n",
    "def ff(x,y):\n",
    "    '''\n",
    "    code by bill\n",
    "    2022-02-22\n",
    "    do something\n",
    "    >>> ff(4,3)\n",
    "    12\n",
    "    >>> ff('a',3)\n",
    "    'aaa'\n",
    "    >>> ff([1],3)\n",
    "    [1, 1, 1]\n",
    "    \n",
    "\n",
    "    '''\n",
    "    return x*y\n",
    "\n",
    "doctest.testmod()\n"
   ]
  },
  {
   "cell_type": "code",
   "execution_count": null,
   "metadata": {},
   "outputs": [],
   "source": []
  },
  {
   "cell_type": "code",
   "execution_count": null,
   "metadata": {},
   "outputs": [],
   "source": []
  }
 ],
 "metadata": {
  "kernelspec": {
   "display_name": "Python 3",
   "language": "python",
   "name": "python3"
  },
  "language_info": {
   "codemirror_mode": {
    "name": "ipython",
    "version": 3
   },
   "file_extension": ".py",
   "mimetype": "text/x-python",
   "name": "python",
   "nbconvert_exporter": "python",
   "pygments_lexer": "ipython3",
   "version": "3.10.4"
  }
 },
 "nbformat": 4,
 "nbformat_minor": 2
}
