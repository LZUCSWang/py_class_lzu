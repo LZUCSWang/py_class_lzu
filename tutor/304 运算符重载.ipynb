{
 "cells": [
  {
   "cell_type": "markdown",
   "metadata": {},
   "source": [
    "对象的 数学,逻辑,关系,基本运算"
   ]
  },
  {
   "cell_type": "code",
   "execution_count": 8,
   "metadata": {},
   "outputs": [],
   "source": [
    "\n",
    "# 运算符重载\n",
    "class myCls:\n",
    "    def __init__(self, v,n):\n",
    "        self.value = v\n",
    "        self.name = n\n",
    "    def __eq__(self, other) -> bool:\n",
    "        return self.value == other.value\n",
    "    def __str__(self):  # 重载字符串转换运算符\n",
    "        return str(self.value) + self.name\n",
    "    def __lt__(self, other):# 重载小于运算符\n",
    "        return self.value > other.value\n",
    "    def __add__(self, other): # 重载加法运算符\n",
    "        return self.value + other.value\n"
   ]
  },
  {
   "cell_type": "code",
   "execution_count": 3,
   "metadata": {},
   "outputs": [
    {
     "data": {
      "text/plain": [
       "True"
      ]
     },
     "execution_count": 3,
     "metadata": {},
     "output_type": "execute_result"
    }
   ],
   "source": [
    "a = myCls(1,'张三')\n",
    "b = myCls(1,'李四')\n",
    "a == b"
   ]
  },
  {
   "cell_type": "code",
   "execution_count": 10,
   "metadata": {},
   "outputs": [
    {
     "data": {
      "text/plain": [
       "True"
      ]
     },
     "execution_count": 10,
     "metadata": {},
     "output_type": "execute_result"
    }
   ],
   "source": [
    "a,b = myCls(5,'张三'),myCls(1,'李四')\n",
    "a < b"
   ]
  },
  {
   "cell_type": "code",
   "execution_count": null,
   "metadata": {},
   "outputs": [],
   "source": []
  }
 ],
 "metadata": {
  "kernelspec": {
   "display_name": "Python 3",
   "language": "python",
   "name": "python3"
  },
  "language_info": {
   "codemirror_mode": {
    "name": "ipython",
    "version": 3
   },
   "file_extension": ".py",
   "mimetype": "text/x-python",
   "name": "python",
   "nbconvert_exporter": "python",
   "pygments_lexer": "ipython3",
   "version": "3.8.10"
  }
 },
 "nbformat": 4,
 "nbformat_minor": 2
}
