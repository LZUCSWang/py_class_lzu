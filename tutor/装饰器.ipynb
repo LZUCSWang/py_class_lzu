{
 "cells": [
  {
   "cell_type": "code",
   "execution_count": 20,
   "metadata": {},
   "outputs": [],
   "source": [
    "# 装饰器\n",
    "import time\n",
    "ts = time.sleep\n",
    "get_time = time.perf_counter # 表示程序运行的时间，不包括睡眠时间\n",
    "def pp(x):\n",
    "    print('运行时间',int(1000*get_time()-x))\n",
    "def timeit(func):\n",
    "    def wrapper(*args,**kwargs):    # *args,**kwargs表示任意参数\n",
    "        t = get_time()\n",
    "        res = func(*args,**kwargs)  # 传参\n",
    "        pp(t)\n",
    "        return res\n",
    "    return wrapper\n"
   ]
  },
  {
   "cell_type": "code",
   "execution_count": 21,
   "metadata": {},
   "outputs": [
    {
     "name": "stdout",
     "output_type": "stream",
     "text": [
      "运行时间 81261217\n",
      "运行时间 81261325\n",
      "运行时间 81261528\n"
     ]
    },
    {
     "data": {
      "text/plain": [
       "('1-3-5', 120, 'ok')"
      ]
     },
     "execution_count": 21,
     "metadata": {},
     "output_type": "execute_result"
    }
   ],
   "source": [
    "@ timeit\n",
    "def test1(xlist): \n",
    "    ts(0.5)\n",
    "    return '-'.join(xlist)\n",
    "@ timeit\n",
    "def test2(x,y,z,w):\n",
    "    ts(0.1)\n",
    "    return x*y*z*w\n",
    "@ timeit\n",
    "def test3():\n",
    "    ts(0.2)\n",
    "    return 'ok'\n",
    "test1(('1','3','5')),test2(2,3,4,5),test3()\n",
    "\n",
    "\n"
   ]
  },
  {
   "cell_type": "code",
   "execution_count": 22,
   "metadata": {},
   "outputs": [
    {
     "data": {
      "text/plain": [
       "'a charSet=\"utf-8\"/><title data-rh=\"true\">知乎 - 有问题，'"
      ]
     },
     "execution_count": 22,
     "metadata": {},
     "output_type": "execute_result"
    }
   ],
   "source": [
    "import requests\n",
    "ul = 'https://www.zhihu.com'\n",
    "u2 = 'www.buchunzai.com'\n",
    "requests.get(ul).text[100:150]\n",
    "# request.get(u2).text[100:150]\n",
    "# 遇到网络不佳，对方简单反爬→简单做法就是不规则中断时间重试\n"
   ]
  },
  {
   "cell_type": "code",
   "execution_count": 23,
   "metadata": {},
   "outputs": [],
   "source": [
    "def try_counter(cc):\n",
    "    def wrapper1(func):\n",
    "        def wrapper(*args,**kwargs):\n",
    "            c = 0\n",
    "            while True:\n",
    "                try:\n",
    "                    res = func(*args,**kwargs)\n",
    "                    return res\n",
    "                except:\n",
    "                    c += 1\n",
    "                    print('crawl',c)\n",
    "                    if c < cc:\n",
    "                        ts(0.2)\n",
    "                        continue\n",
    "                    print('bad task')\n",
    "                    return 0\n",
    "        return wrapper\n",
    "    return wrapper1\n"
   ]
  },
  {
   "cell_type": "code",
   "execution_count": 24,
   "metadata": {},
   "outputs": [
    {
     "name": "stdout",
     "output_type": "stream",
     "text": [
      "crawl 1\n",
      "crawl 2\n",
      "crawl 3\n",
      "crawl 4\n",
      "bad task\n"
     ]
    },
    {
     "data": {
      "text/plain": [
       "0"
      ]
     },
     "execution_count": 24,
     "metadata": {},
     "output_type": "execute_result"
    }
   ],
   "source": [
    "tt = try_counter(4)\n",
    "@tt\n",
    "def getweb(url):\n",
    "    return requests.get(url).text[100:150]\n",
    "# getweb(u1)\n",
    "getweb(u2)"
   ]
  },
  {
   "cell_type": "code",
   "execution_count": 25,
   "metadata": {},
   "outputs": [
    {
     "data": {
      "text/plain": [
       "'<b>HELLO, WORLD!</b>'"
      ]
     },
     "execution_count": 25,
     "metadata": {},
     "output_type": "execute_result"
    }
   ],
   "source": [
    "# case :生成标记文本\n",
    "def makebold(f):\n",
    "    def inner(s): \n",
    "        return '<b>'+f(s)+'</b>'\n",
    "    return inner\n",
    "def makeitalic(f):\n",
    "    def inner(s):\n",
    "        return '<i>'+f(s)+'</i>'\n",
    "    return inner\n",
    "\n",
    "@ makebold\n",
    "def makeTxt(s):\n",
    "    return s.upper()\n",
    "makeTxt('hello, world!')\n",
    "\n",
    "\n"
   ]
  },
  {
   "cell_type": "markdown",
   "metadata": {},
   "source": [
    "函数分析工具箱: 调试阶段测性能,记录日志,算资源利用等"
   ]
  },
  {
   "cell_type": "code",
   "execution_count": 26,
   "metadata": {},
   "outputs": [],
   "source": [
    "def benchmark(func):\n",
    "    # 执行时间计算\n",
    "    def wrapper(*args,**kwargs):    # *args,**kwargs表示任意参数\n",
    "        t = get_time()\n",
    "        res = func(*args,**kwargs)  # 传参\n",
    "        pp(t)\n",
    "        return res\n",
    "    return wrapper\n",
    "def counter(ff):\n",
    "    # 统计执行次数\n",
    "    def wrapper(*args,**kwargs):\n",
    "        wrapper.count += 1\n",
    "        print(f\"{ff.__name__}运行了{wrapper.count}次\")\n",
    "        return ff(*args,**kwargs)\n",
    "    wrapper.count = 0   # 万物皆对象，函数也是对象，可以添加属性\n",
    "    return wrapper\n",
    "    \n",
    "def logging(logfile):\n",
    "    # 记录运行日志\n",
    "    def wrapper1(func):\n",
    "        def wrapper(*args,**kwargs):\n",
    "            print(f\"write log to {logfile}...\")\n",
    "            return func(*args,**kwargs)\n",
    "        return wrapper\n",
    "    return wrapper1 # 两层嵌套，第一层传参，第二层传函数\n",
    "    \n",
    "\n"
   ]
  },
  {
   "cell_type": "code",
   "execution_count": 27,
   "metadata": {},
   "outputs": [
    {
     "data": {
      "text/plain": [
       "{'cc': 0, 'count': 999}"
      ]
     },
     "execution_count": 27,
     "metadata": {},
     "output_type": "execute_result"
    }
   ],
   "source": [
    "def ff():\n",
    "    pass\n",
    "ff.cc = 0\n",
    "ff.count = 999\n",
    "ff.__dict__"
   ]
  },
  {
   "cell_type": "code",
   "execution_count": 28,
   "metadata": {},
   "outputs": [
    {
     "name": "stdout",
     "output_type": "stream",
     "text": [
      "www.lzu.com\n",
      "-----------------\n",
      "wrapper运行了1次\n",
      "write log to log.txt...\n",
      "运行时间 81262992\n",
      "0\n",
      "http://httpbin.org/get\n",
      "-----------------\n",
      "wrapper运行了2次\n",
      "write log to log.txt...\n",
      "运行时间 81262992\n",
      "0\n",
      "http://www.douban.com\n",
      "-----------------\n",
      "wrapper运行了3次\n",
      "write log to log.txt...\n",
      "运行时间 81262992\n",
      "0\n"
     ]
    }
   ],
   "source": [
    "import requests\n",
    "@ benchmark\n",
    "@ counter\n",
    "@ logging('log.txt')\n",
    "def getweb(url):\n",
    "    try:\n",
    "        return len(request.get(url).text)\n",
    "    except:\n",
    "        return 0\n",
    "    \n",
    "for url in {\n",
    "    'http://httpbin.org/get',\n",
    "    'www.lzu.com',\n",
    "    'http://www.douban.com'\n",
    "}:\n",
    "    print(url)\n",
    "    print('-----------------')\n",
    "    print(getweb(url))"
   ]
  },
  {
   "cell_type": "code",
   "execution_count": null,
   "metadata": {},
   "outputs": [],
   "source": []
  }
 ],
 "metadata": {
  "kernelspec": {
   "display_name": "Python 3",
   "language": "python",
   "name": "python3"
  },
  "language_info": {
   "codemirror_mode": {
    "name": "ipython",
    "version": 3
   },
   "file_extension": ".py",
   "mimetype": "text/x-python",
   "name": "python",
   "nbconvert_exporter": "python",
   "pygments_lexer": "ipython3",
   "version": "3.10.4"
  }
 },
 "nbformat": 4,
 "nbformat_minor": 2
}
