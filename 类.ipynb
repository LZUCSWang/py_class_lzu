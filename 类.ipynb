{
 "cells": [
  {
   "cell_type": "code",
   "execution_count": 79,
   "metadata": {},
   "outputs": [
    {
     "name": "stdout",
     "output_type": "stream",
     "text": [
      "张三 hi\n"
     ]
    }
   ],
   "source": [
    "class person:\n",
    "    def hi(this):\n",
    "        print(f\"{this.name} hi\")\n",
    "\n",
    "\n",
    "# 对象\n",
    "s = person()\n",
    "s.name = \"张三\"\n",
    "s.hi()"
   ]
  },
  {
   "cell_type": "code",
   "execution_count": 80,
   "metadata": {},
   "outputs": [
    {
     "name": "stdout",
     "output_type": "stream",
     "text": [
      "20\n"
     ]
    },
    {
     "data": {
      "text/plain": [
       "({'name': '张三', 'age': 21}, 21)"
      ]
     },
     "execution_count": 80,
     "metadata": {},
     "output_type": "execute_result"
    }
   ],
   "source": [
    "s.age = 20\n",
    "print(s.age)\n",
    "s.age += 1\n",
    "s.__dict__,s.age"
   ]
  },
  {
   "cell_type": "code",
   "execution_count": 81,
   "metadata": {},
   "outputs": [],
   "source": [
    "# def ff(sefl.x):\n",
    "#     print(f\"run {x} in\")\n",
    "# person.run = ff\n",
    "# c=person()\n",
    "# c.run(10)"
   ]
  },
  {
   "cell_type": "code",
   "execution_count": 119,
   "metadata": {},
   "outputs": [
    {
     "name": "stdout",
     "output_type": "stream",
     "text": [
      "张三好\n"
     ]
    }
   ],
   "source": [
    "class person:\n",
    "    pass\n",
    "\n",
    "\n",
    "# def hi(self): print(f\"{self.name}好\")\n",
    "def hi(obj): print(f\"{obj.name}好\")\n",
    "\n",
    "\n",
    "a = person()\n",
    "a.name = \"张三\"\n",
    "a.method = hi\n",
    "a.method(a)"
   ]
  },
  {
   "cell_type": "code",
   "execution_count": 83,
   "metadata": {},
   "outputs": [
    {
     "name": "stdout",
     "output_type": "stream",
     "text": [
      "I am 张三\n"
     ]
    }
   ],
   "source": [
    "class person:\n",
    "    def __init__(self, name):\n",
    "        self.name = name\n",
    "        print(f\"I am {self.name}\")\n",
    "\n",
    "    def hi(self):\n",
    "        print(f\"{self.name} hi\")\n",
    "\n",
    "\n",
    "s = person(\"张三\")"
   ]
  },
  {
   "cell_type": "code",
   "execution_count": 84,
   "metadata": {},
   "outputs": [],
   "source": [
    "import pandas"
   ]
  },
  {
   "cell_type": "code",
   "execution_count": 85,
   "metadata": {},
   "outputs": [
    {
     "name": "stdout",
     "output_type": "stream",
     "text": [
      "Hi, my name is 赵六!\n",
      "Hi, my name is 王甜甜!\n"
     ]
    },
    {
     "data": {
      "text/plain": [
       "(None,\n",
       " {'__name__': '__main__',\n",
       "  '__doc__': 'Automatically created module for IPython interactive environment',\n",
       "  '__package__': None,\n",
       "  '__loader__': None,\n",
       "  '__spec__': None,\n",
       "  '__builtin__': <module 'builtins' (built-in)>,\n",
       "  '__builtins__': <module 'builtins' (built-in)>,\n",
       "  '_ih': ['',\n",
       "   'class person:\\n    def hi(this):\\n        print(f\"{this.name} hi\")\\n\\n\\n# 对象\\ns = person()\\ns.name = \"张三\"\\ns.hi()',\n",
       "   's.age = 20\\nprint(s.age)\\ns.age += 1\\ns.__dict__\\ns.age',\n",
       "   '# def ff(sefl.x):\\n#     print(f\"run {x} in\")\\n# person.run = ff\\n# c=person()\\n# c.run(10)',\n",
       "   'class person:\\n    pass\\n\\n\\ndef hi(self): print(f\"{self.name}好\")\\n\\n\\na = person()\\na.name = \"张三\"\\na.hi = hi\\na.hi(a)',\n",
       "   'class person:\\n    def __init__(self, name):\\n        self.name = name\\n        print(f\"I am {self.name}\")\\n\\n    def hi(self):\\n        print(f\"{self.name} hi\")\\n\\n\\ns = person(\"张三\")',\n",
       "   'import pandas',\n",
       "   'class Student:\\n    def __init__(self, name):\\n        self.name = name\\n\\n    def hi(self):\\n        print(f\"Hi, my name is {self.name}!\")\\n\\n\\n# 创建Student对象的实例\\nstudent1 = Student(\"张三\")\\nstudent2 = Student(\"李四\")\\nstudent3 = Student(\"赵六\")\\nstudent4 = Student(\"王甜甜\")\\n# 将这些实例放入列表stus中\\nstus = [student1, student2, student3, student4]\\n\\n# 现有的代码\\nstus[2].hi()\\nlocals()[stus[2].name] = stus[2]\\nfor x in stus:\\n    locals()[x.name] = x\\n王甜甜.hi()',\n",
       "   \"xx = 'lzu'\\nx = 99\\nexec(f'{xx} = {x}')\\nlzu\",\n",
       "   \"xxx = stus[3].name\\nexec(f'{xxx} = stus[3]')\\n王甜甜.hi()\",\n",
       "   \"from dataclasses import dataclass\\n\\n\\n@dataclass\\nclass person:\\n    name: str\\n    age: int\\n\\n    def hi(self):\\n        print(f'{self.name}好,{self.age}岁')\\n\\n\\ns = person('张三', 20)\\ns.hi()\",\n",
       "   \"class Mhero:\\n    def __init__(self, n):\\n        self.name = n\\n\\n    def hi(self): return f'my name is {self.name}'\\n\\n\\nf, g = Mhero('张三'), Mhero('李四')\\nf.hi(), g.hi()\\nf.__dict__, g.__dict__\",\n",
       "   \"class Mhero:\\n    tag = '梁山好汉'  # 类属性\\n\\n    def __init__(self, n):\\n        self.name = n\\n\\n    def hi(self): return f'my name is {self.name},{self.tag},{Mhero.tag}'\\n\\n\\nf, g = Mhero('张三'), Mhero('李四')\\nf.hi(), g.hi()\",\n",
       "   'f.__dict__, g.__dict__',\n",
       "   \"Mhero.tag = '梁山汉'\\nf.hi(), g.hi()\",\n",
       "   'f.tag',\n",
       "   \"g.tag = '梁山好汉'\\nf.hi(), g.hi()\",\n",
       "   \"Mhero.tag = '梁山人'\\nf.hi(), g.hi(), Mhero.tag\",\n",
       "   'class node:\\n    def __init__(self, x, y):\\n        self.x, self.y = x, y\\n\\n\\np1 = node(2, 3)\\np1.x = 4\\np1.__dict__',\n",
       "   'p1.__dict__',\n",
       "   '# @dataclass\\n# class node2:\\n#     __slots__ =',\n",
       "   'class person:\\n    pass\\n\\n\\na = person()\\nb = a\\na == b, a is b, id(a), id(b)',\n",
       "   \"class Mhero:\\n    _num = 0\\n\\n    def __init__(self, n):\\n        self.name = n\\n        Mhero._num += 1\\n\\n    def get_num2(self): return Mhero._num\\n    @classmethod\\n    def get_num(self): return self._num\\n\\n\\ndef make_hero(xstr): return [Mhero(x) for x in xstr.split(',')]\",\n",
       "   \"heros = make_hero('张三,李四,王五')\\nheros2 = make_hero('赵六,孙七')\\nMhero.get_num()\\nheros[1].get_num2()\",\n",
       "   \"class Mhero:\\n    def __init__(self, n):\\n        self.name = n\\n        @staticmethod\\n        def f1(): return 'welcome 梁山'\\n        @staticmethod\\n        def f2(x): return f'welcome 梁山 {x}'\\n        @staticmethod\\n        def f3(x): return f'welcome 梁山 {x.name}'\",\n",
       "   'f, g = make_hero(\"张三 李四 王五\")\\nf.name, g.name',\n",
       "   's.age = 20\\nprint(s.age)\\ns.age += 1\\ns.__dict__,s.age',\n",
       "   'class person:\\n    pass\\n\\n\\ndef hi(self): print(f\"{self.name}好\")\\n\\n\\na = person()\\na.name = \"张三\"\\na.hi = hi\\na.hi(a)',\n",
       "   'class person:\\n    pass\\n\\n\\n# def hi(self): print(f\"{self.name}好\")\\ndef hi(obj): print(f\"{obj.name}好\")\\n\\n\\na = person()\\na.name = \"张三\"\\na.hi = hi\\na.hi(a)',\n",
       "   'class person:\\n    pass\\n\\n\\ndef hi(self): print(f\"{self.name}好\")\\n# def hi(obj): print(f\"{obj.name}好\")\\n\\n\\na = person()\\na.name = \"张三\"\\na.hi = hi\\na.hi(a)',\n",
       "   'class Student:\\n    def __init__(self, name):\\n        self.name = name\\n\\n    def hi(self):\\n        print(f\"Hi, my name is {self.name}!\")\\n\\n\\n# 创建Student对象的实例\\nstudent1 = Student(\"张三\")\\nstudent2 = Student(\"李四\")\\nstudent3 = Student(\"赵六\")\\nstudent4 = Student(\"王甜甜\")\\n# 将这些实例放入列表stus中\\nstus = [student1, student2, student3, student4]\\n\\n# 现有的代码\\nstus[2].hi()\\nlocals()[stus[2].name] = stus[2]\\nfor x in stus:\\n    locals()[x.name] = x\\n王甜甜.hi(),locals()',\n",
       "   \"class Mhero:\\n    def __init__(self, n):\\n        self.name = n\\n\\n    def hi(self): return f'my name is {self.name}'\\n\\n\\nf, g = Mhero('张三'), Mhero('李四')\\nf.hi(), g.hi(),f.__dict__, g.__dict__\",\n",
       "   \"class Mhero:\\n    tag = '梁山好汉'  # 类属性\\n\\n    def __init__(self, n):\\n        self.name = n\\n\\n    def hi(self): return f'my name is {self.name},{self.tag},{Mhero.tag}'\\n\\n\\nf, g = Mhero('张三'), Mhero('李四'), f.hi(), g.hi()\",\n",
       "   \"class Mhero:\\n    tag = '梁山好汉'  # 类属性\\n\\n    def __init__(self, n):\\n        self.name = n\\n\\n    def hi(self): return f'my name is {self.name},{self.tag},{Mhero.tag}'\\n\\n\\nf, g = Mhero('张三'), Mhero('李四')\\nf.hi(), g.hi()\",\n",
       "   'class person:\\n    pass\\n\\n\\na = person()\\nb = a\\na == b, a is b, id(a), id(b)',\n",
       "   \"class Mhero:\\n    _num = 0\\n\\n    def __init__(self, n):\\n        self.name = n\\n        Mhero._num += 1\\n\\n    def get_num2(self): return Mhero._num\\n    @classmethod\\n    def get_num(self): return self._num\\n\\n\\ndef make_hero(xstr): return [Mhero(x) for x in xstr.split(',')]\",\n",
       "   \"heros = make_hero('张三,李四,王五')\\nheros2 = make_hero('赵六,孙七')\\nMhero.get_num(),heros[1].get_num2()\",\n",
       "   \"heros = make_hero('张三,李四,王五')\\nheros2 = make_hero('赵六,孙七')\\nMhero.get_num(),heros[1].get_num2()\",\n",
       "   \"heros = make_hero('张三,李四,王五')\\nheros2 = make_hero('赵六,孙七')\\nMhero.get_num(),heros[1].get_num2()\",\n",
       "   \"heros = make_hero('张三,李四,王五')\\nheros2 = make_hero('赵六,孙七')\\nMhero.get_num(),heros[1].get_num2()\",\n",
       "   \"heros = make_hero('张三,李四,王五')\\nheros2 = make_hero('赵六,孙七')\\nMhero.get_num(),heros[1].get_num2(),heros[1].get_num()\",\n",
       "   \"heros = make_hero('张三,李四,王五')\\nheros2 = make_hero('赵六,孙七')\\nMhero.get_num(),heros[1].get_num2(),heros[1].get_num()\",\n",
       "   \"heros = make_hero('张三,李四,王五')\\nheros2 = make_hero('赵六,孙七')\\nMhero.get_num(),heros[1].get_num2(),heros[1].get_num()\",\n",
       "   \"heros = make_hero('张三,李四,王五')\\nheros2 = make_hero('赵六,孙七')\\nMhero.get_num(),heros[1].get_num2(),heros[1].get_num()\",\n",
       "   \"heros = make_hero('张三,李四,王五')\\nheros2 = make_hero('赵六,孙七')\\nMhero.get_num(),heros[1].get_num2(),heros[1].get_num()\",\n",
       "   \"heros = make_hero('张三,李四,王五')\\nheros2 = make_hero('赵六,孙七')\\nMhero.get_num(),heros[1].get_num2(),heros[1].get_num()\",\n",
       "   \"class Mhero:\\n    _num = 0\\n\\n    def __init__(self, n):\\n        self.name = n\\n        Mhero._num += 1\\n\\n    def get_num2(self): return Mhero._num\\n    # @classmethod\\n    def get_num(self): return self._num\\n\\n\\ndef make_hero(xstr): return [Mhero(x) for x in xstr.split(',')]\",\n",
       "   \"heros = make_hero('张三,李四,王五')\\nheros2 = make_hero('赵六,孙七')\\nMhero.get_num(),heros[1].get_num2(),heros[1].get_num()\",\n",
       "   \"heros = make_hero('张三,李四,王五')\\nheros2 = make_hero('赵六,孙七')\\nMhero.get_num(),heros[1].get_num2(),heros[1].get_num()\",\n",
       "   \"class Mhero:\\n    _num = 0\\n\\n    def __init__(self, n):\\n        self.name = n\\n        Mhero._num += 1\\n\\n    def get_num2(self): return Mhero._num\\n    @classmethod\\n    def get_num(self): return self._num\\n\\n\\ndef make_hero(xstr): return [Mhero(x) for x in xstr.split(',')]\",\n",
       "   \"heros = make_hero('张三,李四,王五')\\nheros2 = make_hero('赵六,孙七')\\nMhero.get_num(),heros[1].get_num2(),heros[1].get_num()\",\n",
       "   '# f, g = make_hero(\"张三 李四 王五\")\\n# f.name, g.name\\nMhero.f1(),Mhero.f2(10),Mhero.f3(f)',\n",
       "   \"class Mhero:\\n    def __init__(self, n):\\n        self.name = n\\n        @staticmethod  # 静态方法，不需要self\\n        def f1(): return 'welcome 梁山'\\n        @staticmethod\\n        def f2(x): return f'welcome 梁山 {x}'\\n        @staticmethod\\n        def f3(x): return f'welcome 梁山 {x.name}'\",\n",
       "   '# f, g = make_hero(\"张三 李四 王五\")\\n# f.name, g.name\\nMhero.f1(),Mhero.f2(10),Mhero.f3(f)',\n",
       "   '# f, g = make_hero(\"张三 李四 王五\")\\n# f.name, g.name\\nMhero.f1(),Mhero.f2(10),Mhero.f3(\\'wang\\')',\n",
       "   \"class Mhero:\\n    def __init__(self, n):\\n        self.name = n\\n    @staticmethod  # 静态方法，不需要self\\n    def f1(): return 'welcome 梁山'\\n    @staticmethod\\n    def f2(x): return f'welcome 梁山 {x}'\\n    @staticmethod\\n    def f3(x): return f'welcome 梁山 {x.name}'\",\n",
       "   '# f, g = make_hero(\"张三 李四 王五\")\\n# f.name, g.name\\nMhero.f1(),Mhero.f2(10),Mhero.f3(\\'wang\\')',\n",
       "   'f, g = make_hero(\"张三 李四 王五\")\\n# f.name, g.name\\nMhero.f1(),Mhero.f2(10),Mhero.f3(f)',\n",
       "   'f, g = make_hero(\"张三 李四\")\\n# f.name, g.name\\nMhero.f1(),Mhero.f2(10),Mhero.f3(f)',\n",
       "   'f, g = make_hero(\"张三,李四\")\\n# f.name, g.name\\nMhero.f1(),Mhero.f2(10),Mhero.f3(f)',\n",
       "   'f, g = make_hero(\"张三,李四\")\\nf.name, g.name\\nMhero.f1(),Mhero.f2(10),Mhero.f3(f)',\n",
       "   'f, g = make_hero(\"张三,李四\")\\nf.name, g.name\\nMhero.f1(), Mhero.f2(10), Mhero.f3(f)\\nf.f1()',\n",
       "   'f, g = make_hero(\"张三,李四\")\\nf.name, g.name\\nMhero.f1(), Mhero.f2(10), Mhero.f3(f)\\nf.f1(), f.f2(10), f.f3(f)',\n",
       "   'class stu:\\n    def __init__(self, n, s):\\n        self.name = n\\n        self.__score = s  # 私有属性\\n\\n    def getinfo(self):\\n        return self.name, self.__score\\n\\n    def __who(slef): return self.name',\n",
       "   \"c = stu('好学', 90)\\nc.getinfo()\\nc.__dict__\\nc._stu__score\\nc.getinfo()\\n# c.__score__\",\n",
       "   \"c = stu('好学', 90)\\nc.getinfo(),c.__dict__,c._stu__score,c.getinfo()\\nc.__score__\",\n",
       "   \"c = stu('好学', 90)\\nc.getinfo(),c.__dict__,c._stu__score,c.getinfo()\\nc.__score\",\n",
       "   \"c = stu('好学', 90)\\nc.getinfo(),c.__dict__,c._stu__score,c.getinfo()\\nc._stu__score\",\n",
       "   \"c = stu('好学', 90)\\nc.getinfo(),c.__dict__,c._stu__score,c.getinfo(),c._stu__score\\nc.__score\",\n",
       "   \"c = stu('好学', 90)\\nc.getinfo(),c.__dict__,c._stu__score,c.getinfo(),c._stu__score\\n# c.__score\",\n",
       "   \"class A:\\n    def f1(self):\\n        # self.a = 1\\n        self.__a = 99\\n        print('a', self.a)\\n\\n\\nclass B(A):\\n    def f2(self):\\n        self.b = 2\\n        print('b', self.b)\\n\\n\\nclass C(A):\\n    def f3(self):\\n        self.c = 3\\n        print('c', self.c)\\n\\n\\nb, c = B(), C()\\nb.f2(), b.f1(), c.f3(), c.f1()\\nb.__dict__, c.__dict__\",\n",
       "   \"class A:\\n    def f1(self):\\n        # self.a = 1\\n        self.__a = 99\\n        print('a', self.a)\\n\\n\\nclass B(A):\\n    def f2(self):\\n        self.b = 2\\n        print('b', self.b)\\n\\n\\nclass C(A):\\n    def f3(self):\\n        self.c = 3\\n        print('c', self.c)\\n\\n\\nb, c = B(), C()\\nb.f2(), b.f1(), c.f3(), c.f1()\\nb.__dict__, c.__dict__\",\n",
       "   \"class A:\\n    def f1(self):\\n        self.a = 1\\n        self.__a = 99\\n        print('a', self.a)\\n\\n\\nclass B(A):\\n    def f2(self):\\n        self.b = 2\\n        print('b', self.b)\\n\\n\\nclass C(A):\\n    def f3(self):\\n        self.c = 3\\n        print('c', self.c)\\n\\n\\nb, c = B(), C()\\nb.f2(), b.f1(), c.f3(), c.f1()\\nb.__dict__, c.__dict__\",\n",
       "   \"class A:\\n    def f1(self):self.a=1;print('a',self.a)\\nclass C(A):\\n    def f3(self):self.c=3;print('c',self.c)\\n    def f1(self):self.a=11;print('a',self.a)\\nc=C()\\nc.f1(),c.f3(),c.__dict__\",\n",
       "   \"class A:\\n    def f1(self): self.a = 1; print('a', self.a)\\n\\n\\nclass C(A):\\n    def f3(self): self.c = 3; print('c', self.c)\\n    def f1(self): self.a = 11; print('a', self.a); A.f1(); super().f1()\\n\\n\\nc = C()\\nc.f1(), c.f3(), c.__dict__\",\n",
       "   \"class A:\\n    def f1(self): self.a = 1; print('a', self.a)\\n\\n\\nclass C(A):\\n    def f3(self): self.c = 3; print('c', self.c)\\n    def f1(self): self.a = 11; print('a', self.a); A.f1(self); super().f1()\\n\\n\\nc = C()\\nc.f1(), c.f3(), c.__dict__\",\n",
       "   \"class A:\\n    def f1(self): self.a = 1; print('a', self.a)\\n\\n\\nclass C(A):\\n    def f3(self): self.c = 3; print('c', self.c)\\n    def f1(self): self.a = 11; print('a', self.a); A.f1(self);print('a', self.a); super().f1()\\n\\n\\nc = C()\\nc.f1(), c.f3(), c.__dict__\",\n",
       "   \"class A:\\n    def f1(self): self.a = 1; print('a', self.a)\\n\\n\\nclass C(A):\\n    def f3(self): self.c = 3; print('c', self.c)\\n\\n    def f1(self):\\n        self.a = 11\\n        print('a', self.a)\\n        A.f1(self)\\n        print('a', self.a)\\n        super().f1()\\n\\n\\nc = C()\\nc.f1(), c.f3(), c.__dict__\",\n",
       "   '### 子类调用父类的方法，需要传入self，如果用super()，则不需要传入self',\n",
       "   'class person:\\n    def hi(this):\\n        print(f\"{this.name} hi\")\\n\\n\\n# 对象\\ns = person()\\ns.name = \"张三\"\\ns.hi()',\n",
       "   's.age = 20\\nprint(s.age)\\ns.age += 1\\ns.__dict__,s.age',\n",
       "   '# def ff(sefl.x):\\n#     print(f\"run {x} in\")\\n# person.run = ff\\n# c=person()\\n# c.run(10)',\n",
       "   'class person:\\n    pass\\n\\n\\ndef hi(self): print(f\"{self.name}好\")\\n# def hi(obj): print(f\"{obj.name}好\")\\n\\n\\na = person()\\na.name = \"张三\"\\na.hi = hi\\na.hi(a)',\n",
       "   'class person:\\n    def __init__(self, name):\\n        self.name = name\\n        print(f\"I am {self.name}\")\\n\\n    def hi(self):\\n        print(f\"{self.name} hi\")\\n\\n\\ns = person(\"张三\")',\n",
       "   'import pandas',\n",
       "   'class Student:\\n    def __init__(self, name):\\n        self.name = name\\n\\n    def hi(self):\\n        print(f\"Hi, my name is {self.name}!\")\\n\\n\\n# 创建Student对象的实例\\nstudent1 = Student(\"张三\")\\nstudent2 = Student(\"李四\")\\nstudent3 = Student(\"赵六\")\\nstudent4 = Student(\"王甜甜\")\\n# 将这些实例放入列表stus中\\nstus = [student1, student2, student3, student4]\\n\\n# 现有的代码\\nstus[2].hi()\\nlocals()[stus[2].name] = stus[2]\\nfor x in stus:\\n    locals()[x.name] = x\\n王甜甜.hi(),locals()'],\n",
       "  '_oh': {2: 21,\n",
       "   8: 99,\n",
       "   11: ({'name': '张三'}, {'name': '李四'}),\n",
       "   12: ('my name is 张三,梁山好汉,梁山好汉', 'my name is 李四,梁山好汉,梁山好汉'),\n",
       "   13: ({'name': '张三'}, {'name': '李四', 'tag': '梁山好汉'}),\n",
       "   14: ('my name is 张三,梁山汉,梁山汉', 'my name is 李四,梁山汉,梁山汉'),\n",
       "   15: '梁山汉',\n",
       "   16: ('my name is 张三,梁山汉,梁山汉', 'my name is 李四,梁山好汉,梁山汉'),\n",
       "   17: ('my name is 张三,梁山人,梁山人', 'my name is 李四,梁山好汉,梁山人', '梁山人'),\n",
       "   18: {'x': 4, 'y': 3},\n",
       "   19: {'x': 4, 'y': 3},\n",
       "   21: (True, True, 2154324569984, 2154324569984),\n",
       "   23: 5,\n",
       "   26: ({'name': '张三', 'age': 21}, 21),\n",
       "   30: (None, {...}),\n",
       "   31: ('my name is 张三', 'my name is 李四', {'name': '张三'}, {'name': '李四'}),\n",
       "   33: ('my name is 张三,梁山好汉,梁山好汉', 'my name is 李四,梁山好汉,梁山好汉'),\n",
       "   34: (True, True, 2154326480624, 2154326480624),\n",
       "   36: (5, 5),\n",
       "   37: (10, 10),\n",
       "   38: (15, 15),\n",
       "   39: (20, 20),\n",
       "   40: (25, 25, 25),\n",
       "   41: (30, 30, 30),\n",
       "   42: (35, 35, 35),\n",
       "   43: (40, 40, 40),\n",
       "   44: (45, 45, 45),\n",
       "   45: (50, 50, 50),\n",
       "   50: (5, 5, 5),\n",
       "   59: ('welcome 梁山', 'welcome 梁山 10', 'welcome 梁山 张三'),\n",
       "   60: ('welcome 梁山', 'welcome 梁山 10', 'welcome 梁山 张三'),\n",
       "   61: 'welcome 梁山',\n",
       "   62: ('welcome 梁山', 'welcome 梁山 10', 'welcome 梁山 张三'),\n",
       "   64: ('好学', 90),\n",
       "   67: 90,\n",
       "   69: (('好学', 90), {'name': '好学', '_stu__score': 90}, 90, ('好学', 90), 90),\n",
       "   72: ({'b': 2, 'a': 1, '_A__a': 99}, {'c': 3, 'a': 1, '_A__a': 99}),\n",
       "   73: (None, None, {'a': 11, 'c': 3}),\n",
       "   75: (None, None, {'a': 1, 'c': 3}),\n",
       "   76: (None, None, {'a': 1, 'c': 3}),\n",
       "   77: (None, None, {'a': 1, 'c': 3}),\n",
       "   80: ({'name': '张三', 'age': 21}, 21)},\n",
       "  '_dh': [WindowsPath('d:/code/py2023'), WindowsPath('d:/code/py2023')],\n",
       "  'In': ['',\n",
       "   'class person:\\n    def hi(this):\\n        print(f\"{this.name} hi\")\\n\\n\\n# 对象\\ns = person()\\ns.name = \"张三\"\\ns.hi()',\n",
       "   's.age = 20\\nprint(s.age)\\ns.age += 1\\ns.__dict__\\ns.age',\n",
       "   '# def ff(sefl.x):\\n#     print(f\"run {x} in\")\\n# person.run = ff\\n# c=person()\\n# c.run(10)',\n",
       "   'class person:\\n    pass\\n\\n\\ndef hi(self): print(f\"{self.name}好\")\\n\\n\\na = person()\\na.name = \"张三\"\\na.hi = hi\\na.hi(a)',\n",
       "   'class person:\\n    def __init__(self, name):\\n        self.name = name\\n        print(f\"I am {self.name}\")\\n\\n    def hi(self):\\n        print(f\"{self.name} hi\")\\n\\n\\ns = person(\"张三\")',\n",
       "   'import pandas',\n",
       "   'class Student:\\n    def __init__(self, name):\\n        self.name = name\\n\\n    def hi(self):\\n        print(f\"Hi, my name is {self.name}!\")\\n\\n\\n# 创建Student对象的实例\\nstudent1 = Student(\"张三\")\\nstudent2 = Student(\"李四\")\\nstudent3 = Student(\"赵六\")\\nstudent4 = Student(\"王甜甜\")\\n# 将这些实例放入列表stus中\\nstus = [student1, student2, student3, student4]\\n\\n# 现有的代码\\nstus[2].hi()\\nlocals()[stus[2].name] = stus[2]\\nfor x in stus:\\n    locals()[x.name] = x\\n王甜甜.hi()',\n",
       "   \"xx = 'lzu'\\nx = 99\\nexec(f'{xx} = {x}')\\nlzu\",\n",
       "   \"xxx = stus[3].name\\nexec(f'{xxx} = stus[3]')\\n王甜甜.hi()\",\n",
       "   \"from dataclasses import dataclass\\n\\n\\n@dataclass\\nclass person:\\n    name: str\\n    age: int\\n\\n    def hi(self):\\n        print(f'{self.name}好,{self.age}岁')\\n\\n\\ns = person('张三', 20)\\ns.hi()\",\n",
       "   \"class Mhero:\\n    def __init__(self, n):\\n        self.name = n\\n\\n    def hi(self): return f'my name is {self.name}'\\n\\n\\nf, g = Mhero('张三'), Mhero('李四')\\nf.hi(), g.hi()\\nf.__dict__, g.__dict__\",\n",
       "   \"class Mhero:\\n    tag = '梁山好汉'  # 类属性\\n\\n    def __init__(self, n):\\n        self.name = n\\n\\n    def hi(self): return f'my name is {self.name},{self.tag},{Mhero.tag}'\\n\\n\\nf, g = Mhero('张三'), Mhero('李四')\\nf.hi(), g.hi()\",\n",
       "   'f.__dict__, g.__dict__',\n",
       "   \"Mhero.tag = '梁山汉'\\nf.hi(), g.hi()\",\n",
       "   'f.tag',\n",
       "   \"g.tag = '梁山好汉'\\nf.hi(), g.hi()\",\n",
       "   \"Mhero.tag = '梁山人'\\nf.hi(), g.hi(), Mhero.tag\",\n",
       "   'class node:\\n    def __init__(self, x, y):\\n        self.x, self.y = x, y\\n\\n\\np1 = node(2, 3)\\np1.x = 4\\np1.__dict__',\n",
       "   'p1.__dict__',\n",
       "   '# @dataclass\\n# class node2:\\n#     __slots__ =',\n",
       "   'class person:\\n    pass\\n\\n\\na = person()\\nb = a\\na == b, a is b, id(a), id(b)',\n",
       "   \"class Mhero:\\n    _num = 0\\n\\n    def __init__(self, n):\\n        self.name = n\\n        Mhero._num += 1\\n\\n    def get_num2(self): return Mhero._num\\n    @classmethod\\n    def get_num(self): return self._num\\n\\n\\ndef make_hero(xstr): return [Mhero(x) for x in xstr.split(',')]\",\n",
       "   \"heros = make_hero('张三,李四,王五')\\nheros2 = make_hero('赵六,孙七')\\nMhero.get_num()\\nheros[1].get_num2()\",\n",
       "   \"class Mhero:\\n    def __init__(self, n):\\n        self.name = n\\n        @staticmethod\\n        def f1(): return 'welcome 梁山'\\n        @staticmethod\\n        def f2(x): return f'welcome 梁山 {x}'\\n        @staticmethod\\n        def f3(x): return f'welcome 梁山 {x.name}'\",\n",
       "   'f, g = make_hero(\"张三 李四 王五\")\\nf.name, g.name',\n",
       "   's.age = 20\\nprint(s.age)\\ns.age += 1\\ns.__dict__,s.age',\n",
       "   'class person:\\n    pass\\n\\n\\ndef hi(self): print(f\"{self.name}好\")\\n\\n\\na = person()\\na.name = \"张三\"\\na.hi = hi\\na.hi(a)',\n",
       "   'class person:\\n    pass\\n\\n\\n# def hi(self): print(f\"{self.name}好\")\\ndef hi(obj): print(f\"{obj.name}好\")\\n\\n\\na = person()\\na.name = \"张三\"\\na.hi = hi\\na.hi(a)',\n",
       "   'class person:\\n    pass\\n\\n\\ndef hi(self): print(f\"{self.name}好\")\\n# def hi(obj): print(f\"{obj.name}好\")\\n\\n\\na = person()\\na.name = \"张三\"\\na.hi = hi\\na.hi(a)',\n",
       "   'class Student:\\n    def __init__(self, name):\\n        self.name = name\\n\\n    def hi(self):\\n        print(f\"Hi, my name is {self.name}!\")\\n\\n\\n# 创建Student对象的实例\\nstudent1 = Student(\"张三\")\\nstudent2 = Student(\"李四\")\\nstudent3 = Student(\"赵六\")\\nstudent4 = Student(\"王甜甜\")\\n# 将这些实例放入列表stus中\\nstus = [student1, student2, student3, student4]\\n\\n# 现有的代码\\nstus[2].hi()\\nlocals()[stus[2].name] = stus[2]\\nfor x in stus:\\n    locals()[x.name] = x\\n王甜甜.hi(),locals()',\n",
       "   \"class Mhero:\\n    def __init__(self, n):\\n        self.name = n\\n\\n    def hi(self): return f'my name is {self.name}'\\n\\n\\nf, g = Mhero('张三'), Mhero('李四')\\nf.hi(), g.hi(),f.__dict__, g.__dict__\",\n",
       "   \"class Mhero:\\n    tag = '梁山好汉'  # 类属性\\n\\n    def __init__(self, n):\\n        self.name = n\\n\\n    def hi(self): return f'my name is {self.name},{self.tag},{Mhero.tag}'\\n\\n\\nf, g = Mhero('张三'), Mhero('李四'), f.hi(), g.hi()\",\n",
       "   \"class Mhero:\\n    tag = '梁山好汉'  # 类属性\\n\\n    def __init__(self, n):\\n        self.name = n\\n\\n    def hi(self): return f'my name is {self.name},{self.tag},{Mhero.tag}'\\n\\n\\nf, g = Mhero('张三'), Mhero('李四')\\nf.hi(), g.hi()\",\n",
       "   'class person:\\n    pass\\n\\n\\na = person()\\nb = a\\na == b, a is b, id(a), id(b)',\n",
       "   \"class Mhero:\\n    _num = 0\\n\\n    def __init__(self, n):\\n        self.name = n\\n        Mhero._num += 1\\n\\n    def get_num2(self): return Mhero._num\\n    @classmethod\\n    def get_num(self): return self._num\\n\\n\\ndef make_hero(xstr): return [Mhero(x) for x in xstr.split(',')]\",\n",
       "   \"heros = make_hero('张三,李四,王五')\\nheros2 = make_hero('赵六,孙七')\\nMhero.get_num(),heros[1].get_num2()\",\n",
       "   \"heros = make_hero('张三,李四,王五')\\nheros2 = make_hero('赵六,孙七')\\nMhero.get_num(),heros[1].get_num2()\",\n",
       "   \"heros = make_hero('张三,李四,王五')\\nheros2 = make_hero('赵六,孙七')\\nMhero.get_num(),heros[1].get_num2()\",\n",
       "   \"heros = make_hero('张三,李四,王五')\\nheros2 = make_hero('赵六,孙七')\\nMhero.get_num(),heros[1].get_num2()\",\n",
       "   \"heros = make_hero('张三,李四,王五')\\nheros2 = make_hero('赵六,孙七')\\nMhero.get_num(),heros[1].get_num2(),heros[1].get_num()\",\n",
       "   \"heros = make_hero('张三,李四,王五')\\nheros2 = make_hero('赵六,孙七')\\nMhero.get_num(),heros[1].get_num2(),heros[1].get_num()\",\n",
       "   \"heros = make_hero('张三,李四,王五')\\nheros2 = make_hero('赵六,孙七')\\nMhero.get_num(),heros[1].get_num2(),heros[1].get_num()\",\n",
       "   \"heros = make_hero('张三,李四,王五')\\nheros2 = make_hero('赵六,孙七')\\nMhero.get_num(),heros[1].get_num2(),heros[1].get_num()\",\n",
       "   \"heros = make_hero('张三,李四,王五')\\nheros2 = make_hero('赵六,孙七')\\nMhero.get_num(),heros[1].get_num2(),heros[1].get_num()\",\n",
       "   \"heros = make_hero('张三,李四,王五')\\nheros2 = make_hero('赵六,孙七')\\nMhero.get_num(),heros[1].get_num2(),heros[1].get_num()\",\n",
       "   \"class Mhero:\\n    _num = 0\\n\\n    def __init__(self, n):\\n        self.name = n\\n        Mhero._num += 1\\n\\n    def get_num2(self): return Mhero._num\\n    # @classmethod\\n    def get_num(self): return self._num\\n\\n\\ndef make_hero(xstr): return [Mhero(x) for x in xstr.split(',')]\",\n",
       "   \"heros = make_hero('张三,李四,王五')\\nheros2 = make_hero('赵六,孙七')\\nMhero.get_num(),heros[1].get_num2(),heros[1].get_num()\",\n",
       "   \"heros = make_hero('张三,李四,王五')\\nheros2 = make_hero('赵六,孙七')\\nMhero.get_num(),heros[1].get_num2(),heros[1].get_num()\",\n",
       "   \"class Mhero:\\n    _num = 0\\n\\n    def __init__(self, n):\\n        self.name = n\\n        Mhero._num += 1\\n\\n    def get_num2(self): return Mhero._num\\n    @classmethod\\n    def get_num(self): return self._num\\n\\n\\ndef make_hero(xstr): return [Mhero(x) for x in xstr.split(',')]\",\n",
       "   \"heros = make_hero('张三,李四,王五')\\nheros2 = make_hero('赵六,孙七')\\nMhero.get_num(),heros[1].get_num2(),heros[1].get_num()\",\n",
       "   '# f, g = make_hero(\"张三 李四 王五\")\\n# f.name, g.name\\nMhero.f1(),Mhero.f2(10),Mhero.f3(f)',\n",
       "   \"class Mhero:\\n    def __init__(self, n):\\n        self.name = n\\n        @staticmethod  # 静态方法，不需要self\\n        def f1(): return 'welcome 梁山'\\n        @staticmethod\\n        def f2(x): return f'welcome 梁山 {x}'\\n        @staticmethod\\n        def f3(x): return f'welcome 梁山 {x.name}'\",\n",
       "   '# f, g = make_hero(\"张三 李四 王五\")\\n# f.name, g.name\\nMhero.f1(),Mhero.f2(10),Mhero.f3(f)',\n",
       "   '# f, g = make_hero(\"张三 李四 王五\")\\n# f.name, g.name\\nMhero.f1(),Mhero.f2(10),Mhero.f3(\\'wang\\')',\n",
       "   \"class Mhero:\\n    def __init__(self, n):\\n        self.name = n\\n    @staticmethod  # 静态方法，不需要self\\n    def f1(): return 'welcome 梁山'\\n    @staticmethod\\n    def f2(x): return f'welcome 梁山 {x}'\\n    @staticmethod\\n    def f3(x): return f'welcome 梁山 {x.name}'\",\n",
       "   '# f, g = make_hero(\"张三 李四 王五\")\\n# f.name, g.name\\nMhero.f1(),Mhero.f2(10),Mhero.f3(\\'wang\\')',\n",
       "   'f, g = make_hero(\"张三 李四 王五\")\\n# f.name, g.name\\nMhero.f1(),Mhero.f2(10),Mhero.f3(f)',\n",
       "   'f, g = make_hero(\"张三 李四\")\\n# f.name, g.name\\nMhero.f1(),Mhero.f2(10),Mhero.f3(f)',\n",
       "   'f, g = make_hero(\"张三,李四\")\\n# f.name, g.name\\nMhero.f1(),Mhero.f2(10),Mhero.f3(f)',\n",
       "   'f, g = make_hero(\"张三,李四\")\\nf.name, g.name\\nMhero.f1(),Mhero.f2(10),Mhero.f3(f)',\n",
       "   'f, g = make_hero(\"张三,李四\")\\nf.name, g.name\\nMhero.f1(), Mhero.f2(10), Mhero.f3(f)\\nf.f1()',\n",
       "   'f, g = make_hero(\"张三,李四\")\\nf.name, g.name\\nMhero.f1(), Mhero.f2(10), Mhero.f3(f)\\nf.f1(), f.f2(10), f.f3(f)',\n",
       "   'class stu:\\n    def __init__(self, n, s):\\n        self.name = n\\n        self.__score = s  # 私有属性\\n\\n    def getinfo(self):\\n        return self.name, self.__score\\n\\n    def __who(slef): return self.name',\n",
       "   \"c = stu('好学', 90)\\nc.getinfo()\\nc.__dict__\\nc._stu__score\\nc.getinfo()\\n# c.__score__\",\n",
       "   \"c = stu('好学', 90)\\nc.getinfo(),c.__dict__,c._stu__score,c.getinfo()\\nc.__score__\",\n",
       "   \"c = stu('好学', 90)\\nc.getinfo(),c.__dict__,c._stu__score,c.getinfo()\\nc.__score\",\n",
       "   \"c = stu('好学', 90)\\nc.getinfo(),c.__dict__,c._stu__score,c.getinfo()\\nc._stu__score\",\n",
       "   \"c = stu('好学', 90)\\nc.getinfo(),c.__dict__,c._stu__score,c.getinfo(),c._stu__score\\nc.__score\",\n",
       "   \"c = stu('好学', 90)\\nc.getinfo(),c.__dict__,c._stu__score,c.getinfo(),c._stu__score\\n# c.__score\",\n",
       "   \"class A:\\n    def f1(self):\\n        # self.a = 1\\n        self.__a = 99\\n        print('a', self.a)\\n\\n\\nclass B(A):\\n    def f2(self):\\n        self.b = 2\\n        print('b', self.b)\\n\\n\\nclass C(A):\\n    def f3(self):\\n        self.c = 3\\n        print('c', self.c)\\n\\n\\nb, c = B(), C()\\nb.f2(), b.f1(), c.f3(), c.f1()\\nb.__dict__, c.__dict__\",\n",
       "   \"class A:\\n    def f1(self):\\n        # self.a = 1\\n        self.__a = 99\\n        print('a', self.a)\\n\\n\\nclass B(A):\\n    def f2(self):\\n        self.b = 2\\n        print('b', self.b)\\n\\n\\nclass C(A):\\n    def f3(self):\\n        self.c = 3\\n        print('c', self.c)\\n\\n\\nb, c = B(), C()\\nb.f2(), b.f1(), c.f3(), c.f1()\\nb.__dict__, c.__dict__\",\n",
       "   \"class A:\\n    def f1(self):\\n        self.a = 1\\n        self.__a = 99\\n        print('a', self.a)\\n\\n\\nclass B(A):\\n    def f2(self):\\n        self.b = 2\\n        print('b', self.b)\\n\\n\\nclass C(A):\\n    def f3(self):\\n        self.c = 3\\n        print('c', self.c)\\n\\n\\nb, c = B(), C()\\nb.f2(), b.f1(), c.f3(), c.f1()\\nb.__dict__, c.__dict__\",\n",
       "   \"class A:\\n    def f1(self):self.a=1;print('a',self.a)\\nclass C(A):\\n    def f3(self):self.c=3;print('c',self.c)\\n    def f1(self):self.a=11;print('a',self.a)\\nc=C()\\nc.f1(),c.f3(),c.__dict__\",\n",
       "   \"class A:\\n    def f1(self): self.a = 1; print('a', self.a)\\n\\n\\nclass C(A):\\n    def f3(self): self.c = 3; print('c', self.c)\\n    def f1(self): self.a = 11; print('a', self.a); A.f1(); super().f1()\\n\\n\\nc = C()\\nc.f1(), c.f3(), c.__dict__\",\n",
       "   \"class A:\\n    def f1(self): self.a = 1; print('a', self.a)\\n\\n\\nclass C(A):\\n    def f3(self): self.c = 3; print('c', self.c)\\n    def f1(self): self.a = 11; print('a', self.a); A.f1(self); super().f1()\\n\\n\\nc = C()\\nc.f1(), c.f3(), c.__dict__\",\n",
       "   \"class A:\\n    def f1(self): self.a = 1; print('a', self.a)\\n\\n\\nclass C(A):\\n    def f3(self): self.c = 3; print('c', self.c)\\n    def f1(self): self.a = 11; print('a', self.a); A.f1(self);print('a', self.a); super().f1()\\n\\n\\nc = C()\\nc.f1(), c.f3(), c.__dict__\",\n",
       "   \"class A:\\n    def f1(self): self.a = 1; print('a', self.a)\\n\\n\\nclass C(A):\\n    def f3(self): self.c = 3; print('c', self.c)\\n\\n    def f1(self):\\n        self.a = 11\\n        print('a', self.a)\\n        A.f1(self)\\n        print('a', self.a)\\n        super().f1()\\n\\n\\nc = C()\\nc.f1(), c.f3(), c.__dict__\",\n",
       "   '### 子类调用父类的方法，需要传入self，如果用super()，则不需要传入self',\n",
       "   'class person:\\n    def hi(this):\\n        print(f\"{this.name} hi\")\\n\\n\\n# 对象\\ns = person()\\ns.name = \"张三\"\\ns.hi()',\n",
       "   's.age = 20\\nprint(s.age)\\ns.age += 1\\ns.__dict__,s.age',\n",
       "   '# def ff(sefl.x):\\n#     print(f\"run {x} in\")\\n# person.run = ff\\n# c=person()\\n# c.run(10)',\n",
       "   'class person:\\n    pass\\n\\n\\ndef hi(self): print(f\"{self.name}好\")\\n# def hi(obj): print(f\"{obj.name}好\")\\n\\n\\na = person()\\na.name = \"张三\"\\na.hi = hi\\na.hi(a)',\n",
       "   'class person:\\n    def __init__(self, name):\\n        self.name = name\\n        print(f\"I am {self.name}\")\\n\\n    def hi(self):\\n        print(f\"{self.name} hi\")\\n\\n\\ns = person(\"张三\")',\n",
       "   'import pandas',\n",
       "   'class Student:\\n    def __init__(self, name):\\n        self.name = name\\n\\n    def hi(self):\\n        print(f\"Hi, my name is {self.name}!\")\\n\\n\\n# 创建Student对象的实例\\nstudent1 = Student(\"张三\")\\nstudent2 = Student(\"李四\")\\nstudent3 = Student(\"赵六\")\\nstudent4 = Student(\"王甜甜\")\\n# 将这些实例放入列表stus中\\nstus = [student1, student2, student3, student4]\\n\\n# 现有的代码\\nstus[2].hi()\\nlocals()[stus[2].name] = stus[2]\\nfor x in stus:\\n    locals()[x.name] = x\\n王甜甜.hi(),locals()'],\n",
       "  'Out': {2: 21,\n",
       "   8: 99,\n",
       "   11: ({'name': '张三'}, {'name': '李四'}),\n",
       "   12: ('my name is 张三,梁山好汉,梁山好汉', 'my name is 李四,梁山好汉,梁山好汉'),\n",
       "   13: ({'name': '张三'}, {'name': '李四', 'tag': '梁山好汉'}),\n",
       "   14: ('my name is 张三,梁山汉,梁山汉', 'my name is 李四,梁山汉,梁山汉'),\n",
       "   15: '梁山汉',\n",
       "   16: ('my name is 张三,梁山汉,梁山汉', 'my name is 李四,梁山好汉,梁山汉'),\n",
       "   17: ('my name is 张三,梁山人,梁山人', 'my name is 李四,梁山好汉,梁山人', '梁山人'),\n",
       "   18: {'x': 4, 'y': 3},\n",
       "   19: {'x': 4, 'y': 3},\n",
       "   21: (True, True, 2154324569984, 2154324569984),\n",
       "   23: 5,\n",
       "   26: ({'name': '张三', 'age': 21}, 21),\n",
       "   30: (None, {...}),\n",
       "   31: ('my name is 张三', 'my name is 李四', {'name': '张三'}, {'name': '李四'}),\n",
       "   33: ('my name is 张三,梁山好汉,梁山好汉', 'my name is 李四,梁山好汉,梁山好汉'),\n",
       "   34: (True, True, 2154326480624, 2154326480624),\n",
       "   36: (5, 5),\n",
       "   37: (10, 10),\n",
       "   38: (15, 15),\n",
       "   39: (20, 20),\n",
       "   40: (25, 25, 25),\n",
       "   41: (30, 30, 30),\n",
       "   42: (35, 35, 35),\n",
       "   43: (40, 40, 40),\n",
       "   44: (45, 45, 45),\n",
       "   45: (50, 50, 50),\n",
       "   50: (5, 5, 5),\n",
       "   59: ('welcome 梁山', 'welcome 梁山 10', 'welcome 梁山 张三'),\n",
       "   60: ('welcome 梁山', 'welcome 梁山 10', 'welcome 梁山 张三'),\n",
       "   61: 'welcome 梁山',\n",
       "   62: ('welcome 梁山', 'welcome 梁山 10', 'welcome 梁山 张三'),\n",
       "   64: ('好学', 90),\n",
       "   67: 90,\n",
       "   69: (('好学', 90), {'name': '好学', '_stu__score': 90}, 90, ('好学', 90), 90),\n",
       "   72: ({'b': 2, 'a': 1, '_A__a': 99}, {'c': 3, 'a': 1, '_A__a': 99}),\n",
       "   73: (None, None, {'a': 11, 'c': 3}),\n",
       "   75: (None, None, {'a': 1, 'c': 3}),\n",
       "   76: (None, None, {'a': 1, 'c': 3}),\n",
       "   77: (None, None, {'a': 1, 'c': 3}),\n",
       "   80: ({'name': '张三', 'age': 21}, 21)},\n",
       "  'get_ipython': <bound method InteractiveShell.get_ipython of <ipykernel.zmqshell.ZMQInteractiveShell object at 0x000001F5FF793700>>,\n",
       "  'exit': <IPython.core.autocall.ZMQExitAutocall at 0x1f5ff7f8250>,\n",
       "  'quit': <IPython.core.autocall.ZMQExitAutocall at 0x1f5ff7f8250>,\n",
       "  'open': <function io.open(file, mode='r', buffering=-1, encoding=None, errors=None, newline=None, closefd=True, opener=None)>,\n",
       "  '_': ({'name': '张三', 'age': 21}, 21),\n",
       "  '__': (None, None, {'a': 1, 'c': 3}),\n",
       "  '___': (None, None, {'a': 1, 'c': 3}),\n",
       "  '__vsc_ipynb_file__': 'd:\\\\code\\\\py2023\\\\类.ipynb',\n",
       "  '_i': 'import pandas',\n",
       "  '_ii': 'class person:\\n    def __init__(self, name):\\n        self.name = name\\n        print(f\"I am {self.name}\")\\n\\n    def hi(self):\\n        print(f\"{self.name} hi\")\\n\\n\\ns = person(\"张三\")',\n",
       "  '_iii': 'class person:\\n    pass\\n\\n\\ndef hi(self): print(f\"{self.name}好\")\\n# def hi(obj): print(f\"{obj.name}好\")\\n\\n\\na = person()\\na.name = \"张三\"\\na.hi = hi\\na.hi(a)',\n",
       "  '_i1': 'class person:\\n    def hi(this):\\n        print(f\"{this.name} hi\")\\n\\n\\n# 对象\\ns = person()\\ns.name = \"张三\"\\ns.hi()',\n",
       "  'person': __main__.person,\n",
       "  's': <__main__.person at 0x1f597e0ae90>,\n",
       "  '_i2': 's.age = 20\\nprint(s.age)\\ns.age += 1\\ns.__dict__\\ns.age',\n",
       "  '_2': 21,\n",
       "  '_i3': '# def ff(sefl.x):\\n#     print(f\"run {x} in\")\\n# person.run = ff\\n# c=person()\\n# c.run(10)',\n",
       "  '_i4': 'class person:\\n    pass\\n\\n\\ndef hi(self): print(f\"{self.name}好\")\\n\\n\\na = person()\\na.name = \"张三\"\\na.hi = hi\\na.hi(a)',\n",
       "  'hi': <function __main__.hi(self)>,\n",
       "  'a': <__main__.person at 0x1f597e0b250>,\n",
       "  '_i5': 'class person:\\n    def __init__(self, name):\\n        self.name = name\\n        print(f\"I am {self.name}\")\\n\\n    def hi(self):\\n        print(f\"{self.name} hi\")\\n\\n\\ns = person(\"张三\")',\n",
       "  '_i6': 'import pandas',\n",
       "  'pandas': <module 'pandas' from 'c:\\\\Users\\\\wxy43\\\\AppData\\\\Local\\\\Programs\\\\Python\\\\Python310\\\\lib\\\\site-packages\\\\pandas\\\\__init__.py'>,\n",
       "  '_i7': 'class Student:\\n    def __init__(self, name):\\n        self.name = name\\n\\n    def hi(self):\\n        print(f\"Hi, my name is {self.name}!\")\\n\\n\\n# 创建Student对象的实例\\nstudent1 = Student(\"张三\")\\nstudent2 = Student(\"李四\")\\nstudent3 = Student(\"赵六\")\\nstudent4 = Student(\"王甜甜\")\\n# 将这些实例放入列表stus中\\nstus = [student1, student2, student3, student4]\\n\\n# 现有的代码\\nstus[2].hi()\\nlocals()[stus[2].name] = stus[2]\\nfor x in stus:\\n    locals()[x.name] = x\\n王甜甜.hi()',\n",
       "  'Student': __main__.Student,\n",
       "  'student1': <__main__.Student at 0x1f597dd0400>,\n",
       "  'student2': <__main__.Student at 0x1f597dd07c0>,\n",
       "  'student3': <__main__.Student at 0x1f597dd0160>,\n",
       "  'student4': <__main__.Student at 0x1f597dd3ee0>,\n",
       "  'stus': [<__main__.Student at 0x1f597dd0400>,\n",
       "   <__main__.Student at 0x1f597dd07c0>,\n",
       "   <__main__.Student at 0x1f597dd0160>,\n",
       "   <__main__.Student at 0x1f597dd3ee0>],\n",
       "  '赵六': <__main__.Student at 0x1f597dd0160>,\n",
       "  'x': <__main__.Student at 0x1f597dd3ee0>,\n",
       "  '张三': <__main__.Student at 0x1f597dd0400>,\n",
       "  '李四': <__main__.Student at 0x1f597dd07c0>,\n",
       "  '王甜甜': <__main__.Student at 0x1f597dd3ee0>,\n",
       "  '_i8': \"xx = 'lzu'\\nx = 99\\nexec(f'{xx} = {x}')\\nlzu\",\n",
       "  'xx': 'lzu',\n",
       "  'lzu': 99,\n",
       "  '_8': 99,\n",
       "  '_i9': \"xxx = stus[3].name\\nexec(f'{xxx} = stus[3]')\\n王甜甜.hi()\",\n",
       "  'xxx': '王甜甜',\n",
       "  '_i10': \"from dataclasses import dataclass\\n\\n\\n@dataclass\\nclass person:\\n    name: str\\n    age: int\\n\\n    def hi(self):\\n        print(f'{self.name}好,{self.age}岁')\\n\\n\\ns = person('张三', 20)\\ns.hi()\",\n",
       "  'dataclass': <function dataclasses.dataclass(cls=None, /, *, init=True, repr=True, eq=True, order=False, unsafe_hash=False, frozen=False, match_args=True, kw_only=False, slots=False)>,\n",
       "  '_i11': \"class Mhero:\\n    def __init__(self, n):\\n        self.name = n\\n\\n    def hi(self): return f'my name is {self.name}'\\n\\n\\nf, g = Mhero('张三'), Mhero('李四')\\nf.hi(), g.hi()\\nf.__dict__, g.__dict__\",\n",
       "  'Mhero': __main__.Mhero,\n",
       "  'f': <__main__.Mhero at 0x1f597dce2c0>,\n",
       "  'g': <__main__.Mhero at 0x1f597dcc520>,\n",
       "  '_11': ({'name': '张三'}, {'name': '李四'}),\n",
       "  '_i12': \"class Mhero:\\n    tag = '梁山好汉'  # 类属性\\n\\n    def __init__(self, n):\\n        self.name = n\\n\\n    def hi(self): return f'my name is {self.name},{self.tag},{Mhero.tag}'\\n\\n\\nf, g = Mhero('张三'), Mhero('李四')\\nf.hi(), g.hi()\",\n",
       "  '_12': ('my name is 张三,梁山好汉,梁山好汉', 'my name is 李四,梁山好汉,梁山好汉'),\n",
       "  '_i13': 'f.__dict__, g.__dict__',\n",
       "  '_13': ({'name': '张三'}, {'name': '李四', 'tag': '梁山好汉'}),\n",
       "  '_i14': \"Mhero.tag = '梁山汉'\\nf.hi(), g.hi()\",\n",
       "  '_14': ('my name is 张三,梁山汉,梁山汉', 'my name is 李四,梁山汉,梁山汉'),\n",
       "  '_i15': 'f.tag',\n",
       "  '_15': '梁山汉',\n",
       "  '_i16': \"g.tag = '梁山好汉'\\nf.hi(), g.hi()\",\n",
       "  '_16': ('my name is 张三,梁山汉,梁山汉', 'my name is 李四,梁山好汉,梁山汉'),\n",
       "  '_i17': \"Mhero.tag = '梁山人'\\nf.hi(), g.hi(), Mhero.tag\",\n",
       "  '_17': ('my name is 张三,梁山人,梁山人', 'my name is 李四,梁山好汉,梁山人', '梁山人'),\n",
       "  '_i18': 'class node:\\n    def __init__(self, x, y):\\n        self.x, self.y = x, y\\n\\n\\np1 = node(2, 3)\\np1.x = 4\\np1.__dict__',\n",
       "  'node': __main__.node,\n",
       "  'p1': <__main__.node at 0x1f5ff94fcd0>,\n",
       "  '_18': {'x': 4, 'y': 3},\n",
       "  '_i19': 'p1.__dict__',\n",
       "  '_19': {'x': 4, 'y': 3},\n",
       "  '_i20': '# @dataclass\\n# class node2:\\n#     __slots__ =',\n",
       "  '_i21': 'class person:\\n    pass\\n\\n\\na = person()\\nb = a\\na == b, a is b, id(a), id(b)',\n",
       "  'b': <__main__.B at 0x1f597decc40>,\n",
       "  '_21': (True, True, 2154324569984, 2154324569984),\n",
       "  '_i22': \"class Mhero:\\n    _num = 0\\n\\n    def __init__(self, n):\\n        self.name = n\\n        Mhero._num += 1\\n\\n    def get_num2(self): return Mhero._num\\n    @classmethod\\n    def get_num(self): return self._num\\n\\n\\ndef make_hero(xstr): return [Mhero(x) for x in xstr.split(',')]\",\n",
       "  'make_hero': <function __main__.make_hero(xstr)>,\n",
       "  '_i23': \"heros = make_hero('张三,李四,王五')\\nheros2 = make_hero('赵六,孙七')\\nMhero.get_num()\\nheros[1].get_num2()\",\n",
       "  'heros': [<__main__.Mhero at 0x1f5ff94f2b0>,\n",
       "   <__main__.Mhero at 0x1f5ff94f820>,\n",
       "   <__main__.Mhero at 0x1f597f2ece0>],\n",
       "  'heros2': [<__main__.Mhero at 0x1f597fc9600>,\n",
       "   <__main__.Mhero at 0x1f597dd9de0>],\n",
       "  '_23': 5,\n",
       "  '_i24': \"class Mhero:\\n    def __init__(self, n):\\n        self.name = n\\n        @staticmethod\\n        def f1(): return 'welcome 梁山'\\n        @staticmethod\\n        def f2(x): return f'welcome 梁山 {x}'\\n        @staticmethod\\n        def f3(x): return f'welcome 梁山 {x.name}'\",\n",
       "  '_i25': 'f, g = make_hero(\"张三 李四 王五\")\\nf.name, g.name',\n",
       "  '_i26': 's.age = 20\\nprint(s.age)\\ns.age += 1\\ns.__dict__,s.age',\n",
       "  '_26': ({'name': '张三', 'age': 21}, 21),\n",
       "  '_i27': 'class person:\\n    pass\\n\\n\\ndef hi(self): print(f\"{self.name}好\")\\n\\n\\na = person()\\na.name = \"张三\"\\na.hi = hi\\na.hi(a)',\n",
       "  '_i28': 'class person:\\n    pass\\n\\n\\n# def hi(self): print(f\"{self.name}好\")\\ndef hi(obj): print(f\"{obj.name}好\")\\n\\n\\na = person()\\na.name = \"张三\"\\na.hi = hi\\na.hi(a)',\n",
       "  '_i29': 'class person:\\n    pass\\n\\n\\ndef hi(self): print(f\"{self.name}好\")\\n# def hi(obj): print(f\"{obj.name}好\")\\n\\n\\na = person()\\na.name = \"张三\"\\na.hi = hi\\na.hi(a)',\n",
       "  '_i30': 'class Student:\\n    def __init__(self, name):\\n        self.name = name\\n\\n    def hi(self):\\n        print(f\"Hi, my name is {self.name}!\")\\n\\n\\n# 创建Student对象的实例\\nstudent1 = Student(\"张三\")\\nstudent2 = Student(\"李四\")\\nstudent3 = Student(\"赵六\")\\nstudent4 = Student(\"王甜甜\")\\n# 将这些实例放入列表stus中\\nstus = [student1, student2, student3, student4]\\n\\n# 现有的代码\\nstus[2].hi()\\nlocals()[stus[2].name] = stus[2]\\nfor x in stus:\\n    locals()[x.name] = x\\n王甜甜.hi(),locals()',\n",
       "  '_30': (None, {...}),\n",
       "  '_i31': \"class Mhero:\\n    def __init__(self, n):\\n        self.name = n\\n\\n    def hi(self): return f'my name is {self.name}'\\n\\n\\nf, g = Mhero('张三'), Mhero('李四')\\nf.hi(), g.hi(),f.__dict__, g.__dict__\",\n",
       "  '_31': ('my name is 张三', 'my name is 李四', {'name': '张三'}, {'name': '李四'}),\n",
       "  '_i32': \"class Mhero:\\n    tag = '梁山好汉'  # 类属性\\n\\n    def __init__(self, n):\\n        self.name = n\\n\\n    def hi(self): return f'my name is {self.name},{self.tag},{Mhero.tag}'\\n\\n\\nf, g = Mhero('张三'), Mhero('李四'), f.hi(), g.hi()\",\n",
       "  '_i33': \"class Mhero:\\n    tag = '梁山好汉'  # 类属性\\n\\n    def __init__(self, n):\\n        self.name = n\\n\\n    def hi(self): return f'my name is {self.name},{self.tag},{Mhero.tag}'\\n\\n\\nf, g = Mhero('张三'), Mhero('李四')\\nf.hi(), g.hi()\",\n",
       "  '_33': ('my name is 张三,梁山好汉,梁山好汉', 'my name is 李四,梁山好汉,梁山好汉'),\n",
       "  '_i34': 'class person:\\n    pass\\n\\n\\na = person()\\nb = a\\na == b, a is b, id(a), id(b)',\n",
       "  '_34': (True, True, 2154326480624, 2154326480624),\n",
       "  '_i35': \"class Mhero:\\n    _num = 0\\n\\n    def __init__(self, n):\\n        self.name = n\\n        Mhero._num += 1\\n\\n    def get_num2(self): return Mhero._num\\n    @classmethod\\n    def get_num(self): return self._num\\n\\n\\ndef make_hero(xstr): return [Mhero(x) for x in xstr.split(',')]\",\n",
       "  '_i36': \"heros = make_hero('张三,李四,王五')\\nheros2 = make_hero('赵六,孙七')\\nMhero.get_num(),heros[1].get_num2()\",\n",
       "  '_36': (5, 5),\n",
       "  '_i37': \"heros = make_hero('张三,李四,王五')\\nheros2 = make_hero('赵六,孙七')\\nMhero.get_num(),heros[1].get_num2()\",\n",
       "  '_37': (10, 10),\n",
       "  '_i38': \"heros = make_hero('张三,李四,王五')\\nheros2 = make_hero('赵六,孙七')\\nMhero.get_num(),heros[1].get_num2()\",\n",
       "  '_38': (15, 15),\n",
       "  '_i39': \"heros = make_hero('张三,李四,王五')\\nheros2 = make_hero('赵六,孙七')\\nMhero.get_num(),heros[1].get_num2()\",\n",
       "  '_39': (20, 20),\n",
       "  '_i40': \"heros = make_hero('张三,李四,王五')\\nheros2 = make_hero('赵六,孙七')\\nMhero.get_num(),heros[1].get_num2(),heros[1].get_num()\",\n",
       "  '_40': (25, 25, 25),\n",
       "  '_i41': \"heros = make_hero('张三,李四,王五')\\nheros2 = make_hero('赵六,孙七')\\nMhero.get_num(),heros[1].get_num2(),heros[1].get_num()\",\n",
       "  '_41': (30, 30, 30),\n",
       "  '_i42': \"heros = make_hero('张三,李四,王五')\\nheros2 = make_hero('赵六,孙七')\\nMhero.get_num(),heros[1].get_num2(),heros[1].get_num()\",\n",
       "  '_42': (35, 35, 35),\n",
       "  '_i43': \"heros = make_hero('张三,李四,王五')\\nheros2 = make_hero('赵六,孙七')\\nMhero.get_num(),heros[1].get_num2(),heros[1].get_num()\",\n",
       "  '_43': (40, 40, 40),\n",
       "  '_i44': \"heros = make_hero('张三,李四,王五')\\nheros2 = make_hero('赵六,孙七')\\nMhero.get_num(),heros[1].get_num2(),heros[1].get_num()\",\n",
       "  '_44': (45, 45, 45),\n",
       "  '_i45': \"heros = make_hero('张三,李四,王五')\\nheros2 = make_hero('赵六,孙七')\\nMhero.get_num(),heros[1].get_num2(),heros[1].get_num()\",\n",
       "  '_45': (50, 50, 50),\n",
       "  '_i46': \"class Mhero:\\n    _num = 0\\n\\n    def __init__(self, n):\\n        self.name = n\\n        Mhero._num += 1\\n\\n    def get_num2(self): return Mhero._num\\n    # @classmethod\\n    def get_num(self): return self._num\\n\\n\\ndef make_hero(xstr): return [Mhero(x) for x in xstr.split(',')]\",\n",
       "  '_i47': \"heros = make_hero('张三,李四,王五')\\nheros2 = make_hero('赵六,孙七')\\nMhero.get_num(),heros[1].get_num2(),heros[1].get_num()\",\n",
       "  '_i48': \"heros = make_hero('张三,李四,王五')\\nheros2 = make_hero('赵六,孙七')\\nMhero.get_num(),heros[1].get_num2(),heros[1].get_num()\",\n",
       "  '_i49': \"class Mhero:\\n    _num = 0\\n\\n    def __init__(self, n):\\n        self.name = n\\n        Mhero._num += 1\\n\\n    def get_num2(self): return Mhero._num\\n    @classmethod\\n    def get_num(self): return self._num\\n\\n\\ndef make_hero(xstr): return [Mhero(x) for x in xstr.split(',')]\",\n",
       "  '_i50': \"heros = make_hero('张三,李四,王五')\\nheros2 = make_hero('赵六,孙七')\\nMhero.get_num(),heros[1].get_num2(),heros[1].get_num()\",\n",
       "  '_50': (5, 5, 5),\n",
       "  '_i51': '# f, g = make_hero(\"张三 李四 王五\")\\n# f.name, g.name\\nMhero.f1(),Mhero.f2(10),Mhero.f3(f)',\n",
       "  '_i52': \"class Mhero:\\n    def __init__(self, n):\\n        self.name = n\\n        @staticmethod  # 静态方法，不需要self\\n        def f1(): return 'welcome 梁山'\\n        @staticmethod\\n        def f2(x): return f'welcome 梁山 {x}'\\n        @staticmethod\\n        def f3(x): return f'welcome 梁山 {x.name}'\",\n",
       "  '_i53': '# f, g = make_hero(\"张三 李四 王五\")\\n# f.name, g.name\\nMhero.f1(),Mhero.f2(10),Mhero.f3(f)',\n",
       "  '_i54': '# f, g = make_hero(\"张三 李四 王五\")\\n# f.name, g.name\\nMhero.f1(),Mhero.f2(10),Mhero.f3(\\'wang\\')',\n",
       "  '_i55': \"class Mhero:\\n    def __init__(self, n):\\n        self.name = n\\n    @staticmethod  # 静态方法，不需要self\\n    def f1(): return 'welcome 梁山'\\n    @staticmethod\\n    def f2(x): return f'welcome 梁山 {x}'\\n    @staticmethod\\n    def f3(x): return f'welcome 梁山 {x.name}'\",\n",
       "  '_i56': '# f, g = make_hero(\"张三 李四 王五\")\\n# f.name, g.name\\nMhero.f1(),Mhero.f2(10),Mhero.f3(\\'wang\\')',\n",
       "  '_i57': 'f, g = make_hero(\"张三 李四 王五\")\\n# f.name, g.name\\nMhero.f1(),Mhero.f2(10),Mhero.f3(f)',\n",
       "  '_i58': 'f, g = make_hero(\"张三 李四\")\\n# f.name, g.name\\nMhero.f1(),Mhero.f2(10),Mhero.f3(f)',\n",
       "  '_i59': 'f, g = make_hero(\"张三,李四\")\\n# f.name, g.name\\nMhero.f1(),Mhero.f2(10),Mhero.f3(f)',\n",
       "  '_59': ('welcome 梁山', 'welcome 梁山 10', 'welcome 梁山 张三'),\n",
       "  '_i60': 'f, g = make_hero(\"张三,李四\")\\nf.name, g.name\\nMhero.f1(),Mhero.f2(10),Mhero.f3(f)',\n",
       "  '_60': ('welcome 梁山', 'welcome 梁山 10', 'welcome 梁山 张三'),\n",
       "  '_i61': 'f, g = make_hero(\"张三,李四\")\\nf.name, g.name\\nMhero.f1(), Mhero.f2(10), Mhero.f3(f)\\nf.f1()',\n",
       "  '_61': 'welcome 梁山',\n",
       "  '_i62': 'f, g = make_hero(\"张三,李四\")\\nf.name, g.name\\nMhero.f1(), Mhero.f2(10), Mhero.f3(f)\\nf.f1(), f.f2(10), f.f3(f)',\n",
       "  '_62': ('welcome 梁山', 'welcome 梁山 10', 'welcome 梁山 张三'),\n",
       "  '_i63': 'class stu:\\n    def __init__(self, n, s):\\n        self.name = n\\n        self.__score = s  # 私有属性\\n\\n    def getinfo(self):\\n        return self.name, self.__score\\n\\n    def __who(slef): return self.name',\n",
       "  'stu': __main__.stu,\n",
       "  '_i64': \"c = stu('好学', 90)\\nc.getinfo()\\nc.__dict__\\nc._stu__score\\nc.getinfo()\\n# c.__score__\",\n",
       "  'c': <__main__.C at 0x1f597e0b1c0>,\n",
       "  '_64': ('好学', 90),\n",
       "  '_i65': \"c = stu('好学', 90)\\nc.getinfo(),c.__dict__,c._stu__score,c.getinfo()\\nc.__score__\",\n",
       "  '_i66': \"c = stu('好学', 90)\\nc.getinfo(),c.__dict__,c._stu__score,c.getinfo()\\nc.__score\",\n",
       "  '_i67': \"c = stu('好学', 90)\\nc.getinfo(),c.__dict__,c._stu__score,c.getinfo()\\nc._stu__score\",\n",
       "  '_67': 90,\n",
       "  '_i68': \"c = stu('好学', 90)\\nc.getinfo(),c.__dict__,c._stu__score,c.getinfo(),c._stu__score\\nc.__score\",\n",
       "  '_i69': \"c = stu('好学', 90)\\nc.getinfo(),c.__dict__,c._stu__score,c.getinfo(),c._stu__score\\n# c.__score\",\n",
       "  '_69': (('好学', 90), {'name': '好学', '_stu__score': 90}, 90, ('好学', 90), 90),\n",
       "  '_i70': \"class A:\\n    def f1(self):\\n        # self.a = 1\\n        self.__a = 99\\n        print('a', self.a)\\n\\n\\nclass B(A):\\n    def f2(self):\\n        self.b = 2\\n        print('b', self.b)\\n\\n\\nclass C(A):\\n    def f3(self):\\n        self.c = 3\\n        print('c', self.c)\\n\\n\\nb, c = B(), C()\\nb.f2(), b.f1(), c.f3(), c.f1()\\nb.__dict__, c.__dict__\",\n",
       "  'A': __main__.A,\n",
       "  'B': __main__.B,\n",
       "  'C': __main__.C,\n",
       "  '_i71': \"class A:\\n    def f1(self):\\n        # self.a = 1\\n        self.__a = 99\\n        print('a', self.a)\\n\\n\\nclass B(A):\\n    def f2(self):\\n        self.b = 2\\n        print('b', self.b)\\n\\n\\nclass C(A):\\n    def f3(self):\\n        self.c = 3\\n        print('c', self.c)\\n\\n\\nb, c = B(), C()\\nb.f2(), b.f1(), c.f3(), c.f1()\\nb.__dict__, c.__dict__\",\n",
       "  '_i72': \"class A:\\n    def f1(self):\\n        self.a = 1\\n        self.__a = 99\\n        print('a', self.a)\\n\\n\\nclass B(A):\\n    def f2(self):\\n        self.b = 2\\n        print('b', self.b)\\n\\n\\nclass C(A):\\n    def f3(self):\\n        self.c = 3\\n        print('c', self.c)\\n\\n\\nb, c = B(), C()\\nb.f2(), b.f1(), c.f3(), c.f1()\\nb.__dict__, c.__dict__\",\n",
       "  '_72': ({'b': 2, 'a': 1, '_A__a': 99}, {'c': 3, 'a': 1, '_A__a': 99}),\n",
       "  '_i73': \"class A:\\n    def f1(self):self.a=1;print('a',self.a)\\nclass C(A):\\n    def f3(self):self.c=3;print('c',self.c)\\n    def f1(self):self.a=11;print('a',self.a)\\nc=C()\\nc.f1(),c.f3(),c.__dict__\",\n",
       "  '_73': (None, None, {'a': 11, 'c': 3}),\n",
       "  '_i74': \"class A:\\n    def f1(self): self.a = 1; print('a', self.a)\\n\\n\\nclass C(A):\\n    def f3(self): self.c = 3; print('c', self.c)\\n    def f1(self): self.a = 11; print('a', self.a); A.f1(); super().f1()\\n\\n\\nc = C()\\nc.f1(), c.f3(), c.__dict__\",\n",
       "  '_i75': \"class A:\\n    def f1(self): self.a = 1; print('a', self.a)\\n\\n\\nclass C(A):\\n    def f3(self): self.c = 3; print('c', self.c)\\n    def f1(self): self.a = 11; print('a', self.a); A.f1(self); super().f1()\\n\\n\\nc = C()\\nc.f1(), c.f3(), c.__dict__\",\n",
       "  '_75': (None, None, {'a': 1, 'c': 3}),\n",
       "  '_i76': \"class A:\\n    def f1(self): self.a = 1; print('a', self.a)\\n\\n\\nclass C(A):\\n    def f3(self): self.c = 3; print('c', self.c)\\n    def f1(self): self.a = 11; print('a', self.a); A.f1(self);print('a', self.a); super().f1()\\n\\n\\nc = C()\\nc.f1(), c.f3(), c.__dict__\",\n",
       "  '_76': (None, None, {'a': 1, 'c': 3}),\n",
       "  '_i77': \"class A:\\n    def f1(self): self.a = 1; print('a', self.a)\\n\\n\\nclass C(A):\\n    def f3(self): self.c = 3; print('c', self.c)\\n\\n    def f1(self):\\n        self.a = 11\\n        print('a', self.a)\\n        A.f1(self)\\n        print('a', self.a)\\n        super().f1()\\n\\n\\nc = C()\\nc.f1(), c.f3(), c.__dict__\",\n",
       "  '_77': (None, None, {'a': 1, 'c': 3}),\n",
       "  '_i78': '### 子类调用父类的方法，需要传入self，如果用super()，则不需要传入self',\n",
       "  '_i79': 'class person:\\n    def hi(this):\\n        print(f\"{this.name} hi\")\\n\\n\\n# 对象\\ns = person()\\ns.name = \"张三\"\\ns.hi()',\n",
       "  '_i80': 's.age = 20\\nprint(s.age)\\ns.age += 1\\ns.__dict__,s.age',\n",
       "  '_80': ({'name': '张三', 'age': 21}, 21),\n",
       "  '_i81': '# def ff(sefl.x):\\n#     print(f\"run {x} in\")\\n# person.run = ff\\n# c=person()\\n# c.run(10)',\n",
       "  '_i82': 'class person:\\n    pass\\n\\n\\ndef hi(self): print(f\"{self.name}好\")\\n# def hi(obj): print(f\"{obj.name}好\")\\n\\n\\na = person()\\na.name = \"张三\"\\na.hi = hi\\na.hi(a)',\n",
       "  '_i83': 'class person:\\n    def __init__(self, name):\\n        self.name = name\\n        print(f\"I am {self.name}\")\\n\\n    def hi(self):\\n        print(f\"{self.name} hi\")\\n\\n\\ns = person(\"张三\")',\n",
       "  '_i84': 'import pandas',\n",
       "  '_i85': 'class Student:\\n    def __init__(self, name):\\n        self.name = name\\n\\n    def hi(self):\\n        print(f\"Hi, my name is {self.name}!\")\\n\\n\\n# 创建Student对象的实例\\nstudent1 = Student(\"张三\")\\nstudent2 = Student(\"李四\")\\nstudent3 = Student(\"赵六\")\\nstudent4 = Student(\"王甜甜\")\\n# 将这些实例放入列表stus中\\nstus = [student1, student2, student3, student4]\\n\\n# 现有的代码\\nstus[2].hi()\\nlocals()[stus[2].name] = stus[2]\\nfor x in stus:\\n    locals()[x.name] = x\\n王甜甜.hi(),locals()'})"
      ]
     },
     "execution_count": 85,
     "metadata": {},
     "output_type": "execute_result"
    }
   ],
   "source": [
    "class Student:\n",
    "    def __init__(self, name):\n",
    "        self.name = name\n",
    "\n",
    "    def hi(self):\n",
    "        print(f\"Hi, my name is {self.name}!\")\n",
    "\n",
    "\n",
    "# 创建Student对象的实例\n",
    "student1 = Student(\"张三\")\n",
    "student2 = Student(\"李四\")\n",
    "student3 = Student(\"赵六\")\n",
    "student4 = Student(\"王甜甜\")\n",
    "# 将这些实例放入列表stus中\n",
    "stus = [student1, student2, student3, student4]\n",
    "\n",
    "# 现有的代码\n",
    "stus[2].hi()\n",
    "locals()[stus[2].name] = stus[2]\n",
    "for x in stus:\n",
    "    locals()[x.name] = x\n",
    "王甜甜.hi(),locals()"
   ]
  },
  {
   "cell_type": "code",
   "execution_count": 86,
   "metadata": {},
   "outputs": [
    {
     "data": {
      "text/plain": [
       "99"
      ]
     },
     "execution_count": 86,
     "metadata": {},
     "output_type": "execute_result"
    }
   ],
   "source": [
    "xx = 'lzu'\n",
    "x = 99\n",
    "exec(f'{xx} = {x}')\n",
    "lzu"
   ]
  },
  {
   "cell_type": "code",
   "execution_count": 87,
   "metadata": {},
   "outputs": [
    {
     "name": "stdout",
     "output_type": "stream",
     "text": [
      "Hi, my name is 王甜甜!\n"
     ]
    }
   ],
   "source": [
    "xxx = stus[3].name\n",
    "exec(f'{xxx} = stus[3]')\n",
    "王甜甜.hi()"
   ]
  },
  {
   "cell_type": "code",
   "execution_count": 88,
   "metadata": {},
   "outputs": [
    {
     "name": "stdout",
     "output_type": "stream",
     "text": [
      "张三好,20岁\n"
     ]
    }
   ],
   "source": [
    "from dataclasses import dataclass\n",
    "\n",
    "\n",
    "@dataclass\n",
    "class person:\n",
    "    name: str\n",
    "    age: int\n",
    "\n",
    "    def hi(self):\n",
    "        print(f'{self.name}好,{self.age}岁')\n",
    "\n",
    "\n",
    "s = person('张三', 20)\n",
    "s.hi()"
   ]
  },
  {
   "cell_type": "code",
   "execution_count": 89,
   "metadata": {},
   "outputs": [
    {
     "data": {
      "text/plain": [
       "('my name is 张三', 'my name is 李四', {'name': '张三'}, {'name': '李四'})"
      ]
     },
     "execution_count": 89,
     "metadata": {},
     "output_type": "execute_result"
    }
   ],
   "source": [
    "class Mhero:\n",
    "    def __init__(self, n):\n",
    "        self.name = n\n",
    "\n",
    "    def hi(self): return f'my name is {self.name}'\n",
    "\n",
    "\n",
    "f, g = Mhero('张三'), Mhero('李四')\n",
    "f.hi(), g.hi(),f.__dict__, g.__dict__"
   ]
  },
  {
   "cell_type": "code",
   "execution_count": 90,
   "metadata": {},
   "outputs": [
    {
     "data": {
      "text/plain": [
       "('my name is 张三,梁山好汉,梁山好汉', 'my name is 李四,梁山好汉,梁山好汉')"
      ]
     },
     "execution_count": 90,
     "metadata": {},
     "output_type": "execute_result"
    }
   ],
   "source": [
    "class Mhero:\n",
    "    tag = '梁山好汉'  # 类属性\n",
    "\n",
    "    def __init__(self, n):\n",
    "        self.name = n\n",
    "\n",
    "    def hi(self): return f'my name is {self.name},{self.tag},{Mhero.tag}'\n",
    "\n",
    "\n",
    "f, g = Mhero('张三'), Mhero('李四')\n",
    "f.hi(), g.hi()"
   ]
  },
  {
   "cell_type": "code",
   "execution_count": 91,
   "metadata": {},
   "outputs": [
    {
     "data": {
      "text/plain": [
       "({'name': '张三'}, {'name': '李四'})"
      ]
     },
     "execution_count": 91,
     "metadata": {},
     "output_type": "execute_result"
    }
   ],
   "source": [
    "f.__dict__, g.__dict__"
   ]
  },
  {
   "cell_type": "code",
   "execution_count": 92,
   "metadata": {},
   "outputs": [
    {
     "data": {
      "text/plain": [
       "('my name is 张三,梁山汉,梁山汉', 'my name is 李四,梁山汉,梁山汉')"
      ]
     },
     "execution_count": 92,
     "metadata": {},
     "output_type": "execute_result"
    }
   ],
   "source": [
    "Mhero.tag = '梁山汉'\n",
    "f.hi(), g.hi()"
   ]
  },
  {
   "cell_type": "code",
   "execution_count": 93,
   "metadata": {},
   "outputs": [
    {
     "data": {
      "text/plain": [
       "'梁山汉'"
      ]
     },
     "execution_count": 93,
     "metadata": {},
     "output_type": "execute_result"
    }
   ],
   "source": [
    "f.tag"
   ]
  },
  {
   "cell_type": "code",
   "execution_count": 94,
   "metadata": {},
   "outputs": [
    {
     "data": {
      "text/plain": [
       "('my name is 张三,梁山汉,梁山汉', 'my name is 李四,梁山好汉,梁山汉')"
      ]
     },
     "execution_count": 94,
     "metadata": {},
     "output_type": "execute_result"
    }
   ],
   "source": [
    "g.tag = '梁山好汉'\n",
    "f.hi(), g.hi()"
   ]
  },
  {
   "cell_type": "code",
   "execution_count": 95,
   "metadata": {},
   "outputs": [
    {
     "data": {
      "text/plain": [
       "('my name is 张三,梁山人,梁山人', 'my name is 李四,梁山好汉,梁山人', '梁山人')"
      ]
     },
     "execution_count": 95,
     "metadata": {},
     "output_type": "execute_result"
    }
   ],
   "source": [
    "Mhero.tag = '梁山人'\n",
    "f.hi(), g.hi(), Mhero.tag"
   ]
  },
  {
   "cell_type": "markdown",
   "metadata": {},
   "source": [
    "## 结论：当访问对象属性的时候，如果对象属性存在，就返回对象属性，否则， 查看是否存在同名类属性\n",
    "\n",
    "第一章结束后，无论是深入函数，还是面向对象，都出现了许多超越 c++,的语法现象，比较自由，方便快捷出一些具有弹性的功能，但是，太自由正在做非脚本形式的工作的时候不方便反复迭代长期维护代码，所以，又有一些语法对自由做了约束\n"
   ]
  },
  {
   "cell_type": "code",
   "execution_count": 96,
   "metadata": {},
   "outputs": [
    {
     "data": {
      "text/plain": [
       "{'x': 4, 'y': 3}"
      ]
     },
     "execution_count": 96,
     "metadata": {},
     "output_type": "execute_result"
    }
   ],
   "source": [
    "class node:\n",
    "    def __init__(self, x, y):\n",
    "        self.x, self.y = x, y\n",
    "\n",
    "\n",
    "p1 = node(2, 3)\n",
    "p1.x = 4\n",
    "p1.__dict__"
   ]
  },
  {
   "cell_type": "code",
   "execution_count": 97,
   "metadata": {},
   "outputs": [
    {
     "data": {
      "text/plain": [
       "{'x': 4, 'y': 3}"
      ]
     },
     "execution_count": 97,
     "metadata": {},
     "output_type": "execute_result"
    }
   ],
   "source": [
    "p1.__dict__"
   ]
  },
  {
   "cell_type": "code",
   "execution_count": 98,
   "metadata": {},
   "outputs": [],
   "source": [
    "# @dataclass\n",
    "# class node2:\n",
    "#     __slots__ ="
   ]
  },
  {
   "cell_type": "markdown",
   "metadata": {},
   "source": [
    "# 复制对象\n"
   ]
  },
  {
   "cell_type": "code",
   "execution_count": 99,
   "metadata": {},
   "outputs": [
    {
     "data": {
      "text/plain": [
       "(True, True, 2154328927072, 2154328927072)"
      ]
     },
     "execution_count": 99,
     "metadata": {},
     "output_type": "execute_result"
    }
   ],
   "source": [
    "class person:\n",
    "    pass\n",
    "\n",
    "\n",
    "a = person()\n",
    "b = a\n",
    "a == b, a is b, id(a), id(b)"
   ]
  },
  {
   "cell_type": "markdown",
   "metadata": {},
   "source": [
    "# 带类参数的类方法\n"
   ]
  },
  {
   "cell_type": "code",
   "execution_count": 100,
   "metadata": {},
   "outputs": [],
   "source": [
    "class Mhero:\n",
    "    _num = 0\n",
    "\n",
    "    def __init__(self, n):\n",
    "        self.name = n\n",
    "        Mhero._num += 1\n",
    "\n",
    "    def get_num2(self): return Mhero._num\n",
    "    @classmethod  # 如果不加这个装饰器，就是实例方法，Mhero.get_num()会报错\n",
    "    def get_num(self): return self._num\n",
    "\n",
    "\n",
    "def make_hero(xstr): return [Mhero(x) for x in xstr.split(',')]"
   ]
  },
  {
   "cell_type": "code",
   "execution_count": 101,
   "metadata": {},
   "outputs": [
    {
     "data": {
      "text/plain": [
       "(5, 5, 5)"
      ]
     },
     "execution_count": 101,
     "metadata": {},
     "output_type": "execute_result"
    }
   ],
   "source": [
    "heros = make_hero('张三,李四,王五')\n",
    "heros2 = make_hero('赵六,孙七')\n",
    "Mhero.get_num(),heros[1].get_num2(),heros[1].get_num()"
   ]
  },
  {
   "cell_type": "markdown",
   "metadata": {},
   "source": [
    "## 静态方法\n"
   ]
  },
  {
   "cell_type": "code",
   "execution_count": 102,
   "metadata": {},
   "outputs": [],
   "source": [
    "class Mhero:\n",
    "    def __init__(self, n):\n",
    "        self.name = n\n",
    "    @staticmethod  # 静态方法，不需要self\n",
    "    def f1(): return 'welcome 梁山'\n",
    "    @staticmethod\n",
    "    def f2(x): return f'welcome 梁山 {x}'\n",
    "    @staticmethod\n",
    "    def f3(x): return f'welcome 梁山 {x.name}'"
   ]
  },
  {
   "cell_type": "code",
   "execution_count": 103,
   "metadata": {},
   "outputs": [
    {
     "data": {
      "text/plain": [
       "('welcome 梁山', 'welcome 梁山 10', 'welcome 梁山 张三')"
      ]
     },
     "execution_count": 103,
     "metadata": {},
     "output_type": "execute_result"
    }
   ],
   "source": [
    "f, g = make_hero(\"张三,李四\")\n",
    "f.name, g.name\n",
    "Mhero.f1(), Mhero.f2(10), Mhero.f3(f)\n",
    "f.f1(), f.f2(10), f.f3(f)"
   ]
  },
  {
   "cell_type": "code",
   "execution_count": 104,
   "metadata": {},
   "outputs": [],
   "source": [
    "class stu:\n",
    "    def __init__(self, n, s):\n",
    "        self.name = n\n",
    "        self.__score = s  # 私有属性\n",
    "\n",
    "    def getinfo(self):\n",
    "        return self.name, self.__score\n",
    "\n",
    "    def __who(slef): return self.name"
   ]
  },
  {
   "cell_type": "code",
   "execution_count": 105,
   "metadata": {},
   "outputs": [
    {
     "data": {
      "text/plain": [
       "(('好学', 90), {'name': '好学', '_stu__score': 90}, 90, ('好学', 90), 90)"
      ]
     },
     "execution_count": 105,
     "metadata": {},
     "output_type": "execute_result"
    }
   ],
   "source": [
    "c = stu('好学', 90)\n",
    "c.getinfo(),c.__dict__,c._stu__score,c.getinfo(),c._stu__score\n",
    "# c.__score"
   ]
  },
  {
   "cell_type": "markdown",
   "metadata": {},
   "source": [
    "- __var  # 类成员私有化\n",
    "- \\_\\_var__  # 一般是系统级特殊功能，比如__init__，__new__，__call__等\n",
    "- var_  # 避免和关键词冲突，比如filter_\n",
    "- _  # 临时变量"
   ]
  },
  {
   "cell_type": "code",
   "execution_count": 106,
   "metadata": {},
   "outputs": [
    {
     "name": "stdout",
     "output_type": "stream",
     "text": [
      "b 2\n",
      "c 3\n"
     ]
    },
    {
     "data": {
      "text/plain": [
       "({'b': 2}, {'c': 3})"
      ]
     },
     "execution_count": 106,
     "metadata": {},
     "output_type": "execute_result"
    }
   ],
   "source": [
    "class A:\n",
    "    def f1(self):\n",
    "        self.a = 1\n",
    "        print('a', self.a)\n",
    "\n",
    "\n",
    "class B:\n",
    "    def f2(self):\n",
    "        self.b = 2\n",
    "        print('b', self.b)\n",
    "\n",
    "\n",
    "class C:\n",
    "    def f3(self):\n",
    "        self.c = 3\n",
    "        print('c', self.c)\n",
    "\n",
    "\n",
    "b, c = B(), C()\n",
    "b.f2(), c.f3()\n",
    "b.__dict__, c.__dict__"
   ]
  },
  {
   "cell_type": "code",
   "execution_count": 107,
   "metadata": {},
   "outputs": [
    {
     "name": "stdout",
     "output_type": "stream",
     "text": [
      "b 2\n",
      "a 1\n",
      "c 3\n",
      "a 1\n"
     ]
    },
    {
     "data": {
      "text/plain": [
       "({'b': 2, 'a': 1, '_A__a': 99}, {'c': 3, 'a': 1, '_A__a': 99})"
      ]
     },
     "execution_count": 107,
     "metadata": {},
     "output_type": "execute_result"
    }
   ],
   "source": [
    "class A:\n",
    "    def f1(self):\n",
    "        self.a = 1\n",
    "        self.__a = 99\n",
    "        print('a', self.a)\n",
    "\n",
    "\n",
    "class B(A):\n",
    "    def f2(self):\n",
    "        self.b = 2\n",
    "        print('b', self.b)\n",
    "\n",
    "\n",
    "class C(A):\n",
    "    def f3(self):\n",
    "        self.c = 3\n",
    "        print('c', self.c)\n",
    "\n",
    "\n",
    "b, c = B(), C()\n",
    "b.f2(), b.f1(), c.f3(), c.f1()\n",
    "b.__dict__, c.__dict__"
   ]
  },
  {
   "cell_type": "code",
   "execution_count": 108,
   "metadata": {},
   "outputs": [
    {
     "name": "stdout",
     "output_type": "stream",
     "text": [
      "a 1\n",
      "b 2\n",
      "c 3\n"
     ]
    },
    {
     "data": {
      "text/plain": [
       "{'a': 1, 'b': 2, 'c': 3}"
      ]
     },
     "execution_count": 108,
     "metadata": {},
     "output_type": "execute_result"
    }
   ],
   "source": [
    "# 反复继承\n",
    "class A:\n",
    "    def f1(self):\n",
    "        self.a = 1\n",
    "        print('a', self.a)\n",
    "\n",
    "\n",
    "class B(A):\n",
    "    def f2(self):\n",
    "        self.b = 2\n",
    "        print('b', self.b)\n",
    "\n",
    "\n",
    "class C(B):\n",
    "    def f3(self):\n",
    "        self.c = 3\n",
    "        print('c', self.c)\n",
    "\n",
    "\n",
    "c = C()\n",
    "c.f1(), c.f2(), c.f3()\n",
    "c.__dict__"
   ]
  },
  {
   "cell_type": "code",
   "execution_count": 109,
   "metadata": {},
   "outputs": [
    {
     "name": "stdout",
     "output_type": "stream",
     "text": [
      "a 1\n",
      "b 2\n",
      "c 3\n"
     ]
    },
    {
     "data": {
      "text/plain": [
       "{'a': 1, 'b': 2, 'c': 3}"
      ]
     },
     "execution_count": 109,
     "metadata": {},
     "output_type": "execute_result"
    }
   ],
   "source": [
    "# 反复继承\n",
    "class A:\n",
    "    def __init__(self, a):\n",
    "        self.a = a\n",
    "        print('a', self.a)\n",
    "\n",
    "\n",
    "class B(A):\n",
    "    def __init__(self, a, b):\n",
    "        A.__init__(self, a)\n",
    "        self.b = b\n",
    "        print('b', self.b)\n",
    "\n",
    "\n",
    "class C(B):\n",
    "    def __init__(self, a, b, c):\n",
    "        B.__init__(self, a, b)\n",
    "        self.c = c\n",
    "        print('c', self.c)\n",
    "\n",
    "\n",
    "c = C(1, 2, 3)\n",
    "c.__dict__"
   ]
  },
  {
   "cell_type": "markdown",
   "metadata": {},
   "source": [
    "### 子类调用父类的方法，需要传入self，如果用super()，则不需要传入self"
   ]
  },
  {
   "cell_type": "code",
   "execution_count": 110,
   "metadata": {},
   "outputs": [
    {
     "name": "stdout",
     "output_type": "stream",
     "text": [
      "hello lzu\n",
      "a 1\n",
      "b 2\n",
      "c 3\n"
     ]
    },
    {
     "data": {
      "text/plain": [
       "{'a': 1, 'b': 2, 'c': 3}"
      ]
     },
     "execution_count": 110,
     "metadata": {},
     "output_type": "execute_result"
    }
   ],
   "source": [
    "# 反复继承\n",
    "class A:\n",
    "    def __init__(self, a):\n",
    "        self.a = a\n",
    "        print('a', self.a)\n",
    "\n",
    "    def hi(self): print('hello lzu')\n",
    "\n",
    "\n",
    "class B(A):\n",
    "    def __init__(self, a, b):\n",
    "        A.__init__(self, a)  # 调用父类的构造函数，需要传入self\n",
    "        self.b = b\n",
    "        print('b', self.b)\n",
    "\n",
    "\n",
    "class C(B):\n",
    "    def __init__(self, a, b, c):\n",
    "        self.hi()\n",
    "        B.__init__(self, a, b)\n",
    "        self.c = c\n",
    "        print('c', self.c)\n",
    "\n",
    "\n",
    "c = C(1, 2, 3)\n",
    "c.__dict__"
   ]
  },
  {
   "cell_type": "code",
   "execution_count": 111,
   "metadata": {},
   "outputs": [
    {
     "name": "stdout",
     "output_type": "stream",
     "text": [
      "a 1\n",
      "b 2\n",
      "c 3\n"
     ]
    },
    {
     "data": {
      "text/plain": [
       "{'a': 1, 'b': 2, 'c': 3}"
      ]
     },
     "execution_count": 111,
     "metadata": {},
     "output_type": "execute_result"
    }
   ],
   "source": [
    "# 反复继承\n",
    "class A:\n",
    "    def __init__(self, a):\n",
    "        self.a = a\n",
    "        print('a', self.a)\n",
    "\n",
    "\n",
    "class B(A):\n",
    "    def __init__(self, a, b):\n",
    "        super().__init__(a)\n",
    "        self.b = b\n",
    "        print('b', self.b)\n",
    "\n",
    "\n",
    "class C(B):\n",
    "    def __init__(self, a, b, c):\n",
    "        super().__init__(a, b)\n",
    "        self.c = c\n",
    "        print('c', self.c)\n",
    "\n",
    "\n",
    "c = C(1, 2, 3)\n",
    "c.__dict__"
   ]
  },
  {
   "cell_type": "markdown",
   "metadata": {},
   "source": [
    "# 多继承"
   ]
  },
  {
   "cell_type": "code",
   "execution_count": 112,
   "metadata": {},
   "outputs": [
    {
     "name": "stdout",
     "output_type": "stream",
     "text": [
      "a 1\n",
      "b 2\n",
      "c 3\n"
     ]
    },
    {
     "data": {
      "text/plain": [
       "(None, None, None, {'a': 1, 'b': 2, 'c': 3})"
      ]
     },
     "execution_count": 112,
     "metadata": {},
     "output_type": "execute_result"
    }
   ],
   "source": [
    "class A:\n",
    "    def f1(self, a): self.a = a; print('a', self.a)\n",
    "\n",
    "\n",
    "class B:\n",
    "    def f2(self, b): self.b = b; print('b', self.b)\n",
    "\n",
    "\n",
    "class C(A, B):\n",
    "    def f3(self, c): self.c = c; print('c', self.c)\n",
    "\n",
    "\n",
    "c = C()\n",
    "c.f1(1), c.f2(2), c.f3(3), c.__dict__"
   ]
  },
  {
   "cell_type": "code",
   "execution_count": 113,
   "metadata": {},
   "outputs": [
    {
     "name": "stdout",
     "output_type": "stream",
     "text": [
      "a 11\n",
      "c 3\n"
     ]
    },
    {
     "data": {
      "text/plain": [
       "(None, None, {'a': 11, 'c': 3})"
      ]
     },
     "execution_count": 113,
     "metadata": {},
     "output_type": "execute_result"
    }
   ],
   "source": [
    "class A:\n",
    "    def f1(self):self.a=1;print('a',self.a)\n",
    "class C(A):\n",
    "    def f3(self):self.c=3;print('c',self.c)\n",
    "    def f1(self):self.a=11;print('a',self.a)\n",
    "c=C()\n",
    "c.f1(),c.f3(),c.__dict__"
   ]
  },
  {
   "cell_type": "code",
   "execution_count": 114,
   "metadata": {},
   "outputs": [
    {
     "name": "stdout",
     "output_type": "stream",
     "text": [
      "a 11\n",
      "a 1\n",
      "a 1\n",
      "a 1\n",
      "c 3\n"
     ]
    },
    {
     "data": {
      "text/plain": [
       "(None, None, {'a': 1, 'c': 3})"
      ]
     },
     "execution_count": 114,
     "metadata": {},
     "output_type": "execute_result"
    }
   ],
   "source": [
    "class A:\n",
    "    def f1(self): self.a = 1; print('a', self.a)\n",
    "\n",
    "\n",
    "class C(A):\n",
    "    def f3(self): self.c = 3; print('c', self.c)\n",
    "\n",
    "    def f1(self):\n",
    "        self.a = 11\n",
    "        print('a', self.a)\n",
    "        A.f1(self)\n",
    "        print('a', self.a)\n",
    "        super().f1()\n",
    "\n",
    "\n",
    "c = C()\n",
    "c.f1(), c.f3(), c.__dict__"
   ]
  },
  {
   "cell_type": "markdown",
   "metadata": {},
   "source": [
    "## 类包含\n",
    "- 类里面还实例化了其他类，这种方式叫做类包含"
   ]
  },
  {
   "cell_type": "code",
   "execution_count": 115,
   "metadata": {},
   "outputs": [
    {
     "name": "stdout",
     "output_type": "stream",
     "text": [
      "clas 2\n",
      "clsb 3\n"
     ]
    },
    {
     "data": {
      "text/plain": [
       "(3, 2, {'obja': <__main__.A at 0x1f597e0a770>, 'b': 3})"
      ]
     },
     "execution_count": 115,
     "metadata": {},
     "output_type": "execute_result"
    }
   ],
   "source": [
    "class A:\n",
    "    def __init__(self, x):\n",
    "        self.a = x\n",
    "        print('clas', self.a)\n",
    "\n",
    "\n",
    "class B:\n",
    "    def __init__(self, x, y):\n",
    "        self.obja = A(x)\n",
    "        self.b = y\n",
    "        print('clsb', self.b)\n",
    "\n",
    "\n",
    "b = B(2, 3)\n",
    "b.b, b.obja.a,b.__dict__"
   ]
  },
  {
   "cell_type": "markdown",
   "metadata": {},
   "source": [
    "## 多态\n",
    "- 一个调用语句，能调用不同类的方法，就是多态\n",
    "  - 基类指针指向派生类对象\n",
    "- python不需要特别的方法，python多态是一种自然现象\n",
    "  - 背后系统级实现机制：对象接口协议"
   ]
  },
  {
   "cell_type": "code",
   "execution_count": 116,
   "metadata": {},
   "outputs": [
    {
     "name": "stdout",
     "output_type": "stream",
     "text": [
      "dog\n",
      "person\n",
      "person\n"
     ]
    }
   ],
   "source": [
    "# 不是pythonic做法\n",
    "class Ani:\n",
    "    def __init__(self,n):self.name=n\n",
    "    def hello(self):pass\n",
    "class Dog(Ani):\n",
    "    def hello(self):print('dog')\n",
    "\n",
    "class Person(Ani):\n",
    "    def hello(self):print('person')\n",
    "for x in [Dog('旺财'),Person('小王'),Person('小李')]:\n",
    "    x.hello()"
   ]
  },
  {
   "cell_type": "code",
   "execution_count": 117,
   "metadata": {},
   "outputs": [
    {
     "name": "stdout",
     "output_type": "stream",
     "text": [
      "dog\n",
      "person\n",
      "person\n"
     ]
    }
   ],
   "source": [
    "class Ani:\n",
    "    def __init__(self, name) -> None:\n",
    "        self.name = name\n",
    "\n",
    "\n",
    "class Dog(Ani):\n",
    "    def hello(self): print('dog')\n",
    "\n",
    "\n",
    "class Person(Ani):\n",
    "    def hello(self): print('person')\n",
    "\n",
    "\n",
    "for x in [Dog('旺财'), Person('小王'), Person('小李')]:\n",
    "    x.hello()"
   ]
  },
  {
   "cell_type": "code",
   "execution_count": null,
   "metadata": {},
   "outputs": [],
   "source": []
  }
 ],
 "metadata": {
  "kernelspec": {
   "display_name": "Python 3",
   "language": "python",
   "name": "python3"
  },
  "language_info": {
   "codemirror_mode": {
    "name": "ipython",
    "version": 3
   },
   "file_extension": ".py",
   "mimetype": "text/x-python",
   "name": "python",
   "nbconvert_exporter": "python",
   "pygments_lexer": "ipython3",
   "version": "3.10.4"
  }
 },
 "nbformat": 4,
 "nbformat_minor": 2
}
