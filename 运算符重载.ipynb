{
 "cells": [
  {
   "cell_type": "code",
   "execution_count": 1,
   "metadata": {},
   "outputs": [],
   "source": [
    "class myCls:\n",
    "    def __init__(self, v, n):\n",
    "        self.value = v\n",
    "        self.name = n\n",
    "\n",
    "    def __eq__(self, __value: object) -> bool:  # 重写__eq__方法\n",
    "        return self.value == __value.value\n",
    "\n",
    "    def __lt__(self, __value: object) -> bool:\n",
    "        return self.value < __value.value\n",
    "\n",
    "    def __add__(self, __value: object) -> object:\n",
    "        return self.value + __value.value"
   ]
  },
  {
   "cell_type": "code",
   "execution_count": 6,
   "metadata": {},
   "outputs": [
    {
     "data": {
      "text/plain": [
       "(False, {'value': 2, 'name': 'a'})"
      ]
     },
     "execution_count": 6,
     "metadata": {},
     "output_type": "execute_result"
    }
   ],
   "source": [
    "a, b = myCls(1, 'a'), myCls(1, 'b')\n",
    "b = myCls(1, 'b')\n",
    "a.value = a+b\n",
    "a == b,a.__dict__"
   ]
  },
  {
   "cell_type": "code",
   "execution_count": 7,
   "metadata": {},
   "outputs": [
    {
     "data": {
      "text/plain": [
       "True"
      ]
     },
     "execution_count": 7,
     "metadata": {},
     "output_type": "execute_result"
    }
   ],
   "source": [
    "a, b = myCls(1, 'a'), myCls(1, 'b')\n",
    "b = myCls(1, 'b')\n",
    "a==b\n",
    "# a.value = a+b\n",
    "# a == b,a.__dict__"
   ]
  }
 ],
 "metadata": {
  "kernelspec": {
   "display_name": "Python 3",
   "language": "python",
   "name": "python3"
  },
  "language_info": {
   "codemirror_mode": {
    "name": "ipython",
    "version": 3
   },
   "file_extension": ".py",
   "mimetype": "text/x-python",
   "name": "python",
   "nbconvert_exporter": "python",
   "pygments_lexer": "ipython3",
   "version": "3.10.4"
  }
 },
 "nbformat": 4,
 "nbformat_minor": 2
}
