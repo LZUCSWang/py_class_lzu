{
 "cells": [
  {
   "cell_type": "code",
   "execution_count": 29,
   "metadata": {},
   "outputs": [
    {
     "name": "stdout",
     "output_type": "stream",
     "text": [
      "Hello, Alice\n"
     ]
    }
   ],
   "source": [
    "# 不支持函数重载\n",
    "def ff(x): return x\n",
    "def ff(x, y): return x, y\n",
    "\n",
    "\n",
    "# 后面的定义会覆盖前面的定义\n",
    "ff(2, 3)\n",
    "# ff(2)\n",
    "\n",
    "\n",
    "def greet():\n",
    "    return \"Hello\"\n",
    "\n",
    "\n",
    "def greet(name):\n",
    "    return \"Hello, \" + name\n",
    "\n",
    "\n",
    "# print(greet())  # 这将引发 TypeError，因为 greet 函数现在需要一个参数\n",
    "print(greet(\"Alice\"))  # 输出：Hello, Alice\n",
    "# 使用默认参数和可变参数实现函数重载\n",
    "# 使用默认参数\n",
    "\n",
    "\n",
    "def greet(name=\"\"):\n",
    "    if name:\n",
    "        return \"Hello, \" + name\n",
    "    else:\n",
    "        return \"Hello\"\n",
    "\n",
    "\n",
    "print(greet())  # 输出：Hello\n",
    "print(greet(\"Alice\"))  # 输出：Hello, Alice\n",
    "\n",
    "# 使用可变参数\n",
    "\n",
    "\n",
    "def greet(*names):\n",
    "    if names:\n",
    "        return \"Hello, \" + \", \".join(names)\n",
    "    else:\n",
    "        return \"Hello\"\n",
    "\n",
    "\n",
    "print(greet())  # 输出：Hello\n",
    "print(greet(\"Alice\"))  # 输出：Hello, Alice\n",
    "print(greet(\"Alice\", \"Bob\"))  # 输出：Hello, Alice, Bob"
   ]
  },
  {
   "cell_type": "code",
   "execution_count": 1,
   "metadata": {},
   "outputs": [
    {
     "data": {
      "text/plain": [
       "4"
      ]
     },
     "execution_count": 1,
     "metadata": {},
     "output_type": "execute_result"
    }
   ],
   "source": [
    "def ff(x): x += 1\n",
    "a = 4\n",
    "ff(5)\n",
    "a"
   ]
  },
  {
   "cell_type": "code",
   "execution_count": 4,
   "metadata": {},
   "outputs": [
    {
     "name": "stdout",
     "output_type": "stream",
     "text": [
      "[5, 1]\n",
      "[5, 1, 1]\n",
      "[5, 1, 1, 1]\n"
     ]
    },
    {
     "data": {
      "text/plain": [
       "[5, 1, 1, 1]"
      ]
     },
     "execution_count": 4,
     "metadata": {},
     "output_type": "execute_result"
    }
   ],
   "source": [
    "def ff(x): x.append(1)\n",
    "\n",
    "\n",
    "def ff1(x): x.extend([1])\n",
    "\n",
    "\n",
    "def ff2(x): x += [1]\n",
    "\n",
    "\n",
    "def ff3(x): x = x + [1]\n",
    "\n",
    "\n",
    "a = [5]\n",
    "\n",
    "ff(a)\n",
    "\n",
    "print(a)  # 改变原来的\n",
    "\n",
    "ff1(a)\n",
    "\n",
    "print(a)  # 改变原来的\n",
    "\n",
    "ff2(a)  # 会改变原来的\n",
    "\n",
    "print(a)\n",
    "\n",
    "ff3(a)  # 不会改变原来的\n",
    "\n",
    "a"
   ]
  },
  {
   "cell_type": "code",
   "execution_count": 30,
   "metadata": {},
   "outputs": [
    {
     "name": "stdout",
     "output_type": "stream",
     "text": [
      "bill 19\n",
      "bill 20\n"
     ]
    },
    {
     "data": {
      "text/plain": [
       "(None, None)"
      ]
     },
     "execution_count": 30,
     "metadata": {},
     "output_type": "execute_result"
    }
   ],
   "source": [
    "def ff(name, age=20): print(name, age)\n",
    "\n",
    "ff(\"bill\", 19), ff(\"bill\")"
   ]
  },
  {
   "cell_type": "code",
   "execution_count": 6,
   "metadata": {},
   "outputs": [
    {
     "name": "stdout",
     "output_type": "stream",
     "text": [
      "bill 19\n",
      "bill 19\n",
      "bill 19\n",
      "19 bill\n"
     ]
    }
   ],
   "source": [
    "ff(name='bill', age=19)\n",
    "ff(age=19, name='bill')  # 关键字参数\n",
    "\n",
    "name = 'bill'\n",
    "age = 19\n",
    "ff(name, age)\n",
    "ff(age, name)"
   ]
  },
  {
   "cell_type": "code",
   "execution_count": 32,
   "metadata": {},
   "outputs": [
    {
     "name": "stdout",
     "output_type": "stream",
     "text": [
      "1 (2, 3)\n",
      "1 (2, [3, 4])\n",
      "1 (2, 3)\n"
     ]
    }
   ],
   "source": [
    "# 可变参数\n",
    "def ff(x, *y):\n",
    "    y1, y2 = y\n",
    "    print(x, y)\n",
    "\n",
    "\n",
    "ff(1, 2, 3)\n",
    "ff(1, 2, [3, 4])\n",
    "# ff(1,2,[3,4,5],dict(a=1))\n",
    "ff(1, 2, 3)\n",
    "# ff(1, 2, 3, 4) error too many arguments"
   ]
  },
  {
   "cell_type": "code",
   "execution_count": 5,
   "metadata": {},
   "outputs": [],
   "source": [
    "# 可变参数准备\n",
    "x = 1, 2, 3\n",
    "# ff(1, x)\n",
    "# ff(1, *x)"
   ]
  },
  {
   "cell_type": "code",
   "execution_count": 3,
   "metadata": {},
   "outputs": [
    {
     "name": "stdout",
     "output_type": "stream",
     "text": [
      "1 (2,) 3\n"
     ]
    }
   ],
   "source": [
    "def ff(x, *y, z): print(x, y, z)\n",
    "\n",
    "ff(1, 2, z=3)"
   ]
  },
  {
   "cell_type": "code",
   "execution_count": 10,
   "metadata": {},
   "outputs": [
    {
     "name": "stdout",
     "output_type": "stream",
     "text": [
      "{'a': 1, 'b': 2}\n",
      "{'a': 1}\n"
     ]
    }
   ],
   "source": [
    "def ff(**z): print(z)\n",
    "\n",
    "ff(a=1, b=2)\n",
    "ff(a=1)"
   ]
  },
  {
   "cell_type": "code",
   "execution_count": 11,
   "metadata": {},
   "outputs": [
    {
     "name": "stdout",
     "output_type": "stream",
     "text": [
      "(1, 2)\n"
     ]
    },
    {
     "data": {
      "text/plain": [
       "(2, 1112)"
      ]
     },
     "execution_count": 11,
     "metadata": {},
     "output_type": "execute_result"
    }
   ],
   "source": [
    "def ff(a=2, *, b): return a, b\n",
    "\n",
    "\n",
    "print(ff(1, b=2))\n",
    "ff(b=1112)"
   ]
  },
  {
   "cell_type": "code",
   "execution_count": 12,
   "metadata": {},
   "outputs": [
    {
     "data": {
      "text/plain": [
       "((1, 2), (2, 1112), (2, 3))"
      ]
     },
     "execution_count": 12,
     "metadata": {},
     "output_type": "execute_result"
    }
   ],
   "source": [
    "def ff(a=2, *, b=3): return a, b\n",
    "\n",
    "ff(1, b=2), ff(b=1112), ff()"
   ]
  },
  {
   "cell_type": "code",
   "execution_count": 13,
   "metadata": {},
   "outputs": [
    {
     "data": {
      "text/plain": [
       "(2, 3)"
      ]
     },
     "execution_count": 13,
     "metadata": {},
     "output_type": "execute_result"
    }
   ],
   "source": [
    "def ff(*, b=3): return b\n",
    "\n",
    "\n",
    "ff(b=2), ff()"
   ]
  },
  {
   "cell_type": "code",
   "execution_count": 7,
   "metadata": {},
   "outputs": [
    {
     "name": "stdout",
     "output_type": "stream",
     "text": [
      "1 () 2 {}\n",
      "1 () 2 {'d': 3}\n",
      "1 (99,) 2 {'d': 3, 'e': 4}\n",
      "1 (99,) 2 {'d': 3, 'e': 4}\n",
      "1 (99,) 2 {'d': 3, 'e': 4}\n"
     ]
    }
   ],
   "source": [
    "def ff(a, *b, c, **d): print(a, b, c, d)\n",
    "\n",
    "\n",
    "ff(1, c=2), ff(1, c=2, d=3)\n",
    "ff(1, 99, c=2, d=3, e=4)\n",
    "ff(1, 99, d=3, e=4, c=2)\n",
    "ff(1, 99, d=3, c=2, e=4)"
   ]
  },
  {
   "cell_type": "code",
   "execution_count": 33,
   "metadata": {},
   "outputs": [
    {
     "name": "stdout",
     "output_type": "stream",
     "text": [
      "1 2 (3,) cs {'unix': 'cmu'}\n"
     ]
    }
   ],
   "source": [
    "def ff(id, uni='lzu', *args, dep='cs', **kwargs):\n",
    "    # pass\n",
    "    print(id, uni, args, dep, kwargs)\n",
    "\n",
    "\n",
    "ff(1, 2, 3, unix='cmu')"
   ]
  },
  {
   "cell_type": "code",
   "execution_count": 34,
   "metadata": {},
   "outputs": [
    {
     "name": "stdout",
     "output_type": "stream",
     "text": [
      "(1, 2, 3) {'unix': 'cmu'}\n"
     ]
    }
   ],
   "source": [
    "def ff(*args, **kwargs): print(args, kwargs)\n",
    "\n",
    "ff(1, 2, 3, unix='cmu')"
   ]
  },
  {
   "cell_type": "markdown",
   "metadata": {},
   "source": [
    "# 变量作用域\n",
    "- 局部变量：在函数内部定义的变量，只能在函数内部使用\n",
    "- 封闭：函数内部可以使用函数外部定义的变量\n",
    "- 全局：在函数外部定义的变量，可以在整个文件中使用\n",
    "- 内建：python内部定义的变量，比如：input、print、list、tuple、dict、set、str、int、float、bool等\n"
   ]
  },
  {
   "cell_type": "code",
   "execution_count": 17,
   "metadata": {},
   "outputs": [],
   "source": [
    "def pi(n): print('i_n', n, id(n))\n",
    "def po(n): print('o_n', n, id(n))\n",
    "def pp(s, n): print(s.ljust(4), n, id(n))  # ljust 左对齐"
   ]
  },
  {
   "cell_type": "code",
   "execution_count": 39,
   "metadata": {},
   "outputs": [
    {
     "name": "stdout",
     "output_type": "stream",
     "text": [
      "i_n ['py'] 2332971779456\n",
      "o_n ['py'] 2332971779456\n"
     ]
    },
    {
     "data": {
      "text/plain": [
       "(2332971779456, None, None)"
      ]
     },
     "execution_count": 39,
     "metadata": {},
     "output_type": "execute_result"
    }
   ],
   "source": [
    "def ff(name): pi(name)\n",
    "\n",
    "name = ['py']\n",
    "id(name),ff(name),po(name)\n"
   ]
  },
  {
   "cell_type": "code",
   "execution_count": 46,
   "metadata": {},
   "outputs": [
    {
     "name": "stdout",
     "output_type": "stream",
     "text": [
      "i_n ['py'] 2332971538624\n",
      "o_n ['py'] 2332946885952\n",
      "['py']\n"
     ]
    }
   ],
   "source": [
    "def ff(): name = ['c#']\n",
    "\n",
    "\n",
    "pi(name)\n",
    "name = ['py']\n",
    "ff(),po(name)\n",
    "print(name)"
   ]
  },
  {
   "cell_type": "code",
   "execution_count": 20,
   "metadata": {},
   "outputs": [
    {
     "name": "stdout",
     "output_type": "stream",
     "text": [
      "g    ['go'] 2332948377024\n",
      "f1   ['py'] 2332948370368\n",
      "f21  ['py'] 2332948370368\n",
      "f1   ['py'] 2332948370368\n",
      "g    ['go'] 2332948377024\n"
     ]
    }
   ],
   "source": [
    "c = ['go']\n",
    "pp('g', c)\n",
    "\n",
    "\n",
    "def f1():\n",
    "    c = ['py']\n",
    "    pp('f1', c)\n",
    "    def f21(): pp('f21', c)\n",
    "    f21()\n",
    "    # f22()\n",
    "    # f23()\n",
    "    pp('f1', c)\n",
    "\n",
    "\n",
    "f1()\n",
    "pp('g', c)"
   ]
  },
  {
   "cell_type": "code",
   "execution_count": 51,
   "metadata": {},
   "outputs": [
    {
     "name": "stdout",
     "output_type": "stream",
     "text": [
      "i_n go是最好的 2332971726000\n",
      "o_n go是最好的 2332971726000\n"
     ]
    },
    {
     "data": {
      "text/plain": [
       "(None, None)"
      ]
     },
     "execution_count": 51,
     "metadata": {},
     "output_type": "execute_result"
    }
   ],
   "source": [
    "name = 'py'\n",
    "\n",
    "\n",
    "def ff():\n",
    "    global name\n",
    "    name = 'go'\n",
    "    name += '是最好的'\n",
    "    # pass\n",
    "    pi(name)\n",
    "\n",
    "\n",
    "ff(),po(name)"
   ]
  },
  {
   "cell_type": "markdown",
   "metadata": {},
   "source": [
    "# 返回多个值\n"
   ]
  },
  {
   "cell_type": "code",
   "execution_count": 23,
   "metadata": {},
   "outputs": [
    {
     "data": {
      "text/plain": [
       "-1"
      ]
     },
     "execution_count": 23,
     "metadata": {},
     "output_type": "execute_result"
    }
   ],
   "source": [
    "def ff(x, y):\n",
    "    return x, y, x+y, x-y\n",
    "\n",
    "\n",
    "a = ff(2, 3)\n",
    "a, a[2]\n",
    "a, b, c, d = ff(2, 3)\n",
    "a, b, c, d\n",
    "*_,d=ff(2,3)\n",
    "d"
   ]
  },
  {
   "cell_type": "code",
   "execution_count": 53,
   "metadata": {},
   "outputs": [
    {
     "name": "stdout",
     "output_type": "stream",
     "text": [
      "(2, 3, 5, -1) 5\n",
      "2 3 5 -1\n",
      "[2, 3, 5] -1\n"
     ]
    }
   ],
   "source": [
    "def ff(x, y):\n",
    "    return x, y, x+y, x-y\n",
    "\n",
    "a = ff(2, 3)\n",
    "print(a, a[2])\n",
    "a, b, c, d = ff(2, 3)\n",
    "print(a, b, c, d)\n",
    "*_,d=ff(2,3)\n",
    "print(_,d)"
   ]
  },
  {
   "cell_type": "markdown",
   "metadata": {},
   "source": [
    "# 函数说明文档的两种用法"
   ]
  },
  {
   "cell_type": "code",
   "execution_count": 54,
   "metadata": {},
   "outputs": [
    {
     "name": "stdout",
     "output_type": "stream",
     "text": [
      "Help on function ff in module __main__:\n",
      "\n",
      "ff(x)\n",
      "    code by wang\n",
      "    \n",
      "    Args:\n",
      "        x (_type_): _description_\n",
      "\n"
     ]
    },
    {
     "data": {
      "text/plain": [
       "'code by wang\\n\\n    Args:\\n        x (_type_): _description_\\n    '"
      ]
     },
     "execution_count": 54,
     "metadata": {},
     "output_type": "execute_result"
    }
   ],
   "source": [
    "def ff(x):\n",
    "    \"\"\"code by wang\n",
    "\n",
    "    Args:\n",
    "        x (_type_): _description_\n",
    "    \"\"\"\n",
    "help(ff)\n",
    "ff.__doc__"
   ]
  },
  {
   "cell_type": "code",
   "execution_count": 9,
   "metadata": {},
   "outputs": [
    {
     "name": "stdout",
     "output_type": "stream",
     "text": [
      "Help on function ff in module __main__:\n",
      "\n",
      "ff(a, b)\n",
      "    code by zhanj\n",
      "    2022.10.3\n",
      "    do ...\n",
      "    \n",
      "    >>> ff(4,3)\n",
      "    12\n",
      "    >>> ff('a',3)\n",
      "    'aaa' \n",
      "    >>> ff([1],3)\n",
      "    [1, 1, 1]\n",
      "\n",
      "**********************************************************************\n",
      "File \"__main__\", line 8, in __main__.ff\n",
      "Failed example:\n",
      "    ff(4,3)\n",
      "Expected:\n",
      "    12\n",
      "Got nothing\n",
      "**********************************************************************\n",
      "File \"__main__\", line 10, in __main__.ff\n",
      "Failed example:\n",
      "    ff('a',3)\n",
      "Expected:\n",
      "    'aaa' \n",
      "Got nothing\n",
      "**********************************************************************\n",
      "File \"__main__\", line 12, in __main__.ff\n",
      "Failed example:\n",
      "    ff([1],3)\n",
      "Expected:\n",
      "    [1, 1, 1]\n",
      "Got nothing\n",
      "**********************************************************************\n",
      "1 items had failures:\n",
      "   3 of   3 in __main__.ff\n",
      "***Test Failed*** 3 failures.\n"
     ]
    },
    {
     "data": {
      "text/plain": [
       "\"\\n    code by zhanj\\n    2022.10.3\\n    do ...\\n\\n    >>> ff(4,3)\\n    12\\n    >>> ff('a',3)\\n    'aaa' \\n    >>> ff([1],3)\\n    [1, 1, 1]\\n    \""
      ]
     },
     "execution_count": 9,
     "metadata": {},
     "output_type": "execute_result"
    }
   ],
   "source": [
    "import doctest\n",
    "def ff(a,b):\n",
    "    \"\"\"\n",
    "    code by zhanj\n",
    "    2022.10.3\n",
    "    do ...\n",
    "\n",
    "    >>> ff(4,3)\n",
    "    12\n",
    "    >>> ff('a',3)\n",
    "    'aaa' \n",
    "    >>> ff([1],3)\n",
    "    [1, 1, 1]\n",
    "    \"\"\"\n",
    "    pass\n",
    "help(ff)\n",
    "doctest.testmod()\n",
    "ff.__doc__"
   ]
  }
 ],
 "metadata": {
  "kernelspec": {
   "display_name": "Python 3",
   "language": "python",
   "name": "python3"
  },
  "language_info": {
   "codemirror_mode": {
    "name": "ipython",
    "version": 3
   },
   "file_extension": ".py",
   "mimetype": "text/x-python",
   "name": "python",
   "nbconvert_exporter": "python",
   "pygments_lexer": "ipython3",
   "version": "3.10.4"
  }
 },
 "nbformat": 4,
 "nbformat_minor": 2
}
