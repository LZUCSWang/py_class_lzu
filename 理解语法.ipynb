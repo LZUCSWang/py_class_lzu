{
 "cells": [
  {
   "cell_type": "markdown",
   "metadata": {},
   "source": [
    "# 语法设计动机\n",
    "- 方便人：为什么需要这个语法\n",
    "- 方便机器：执行快一些\n",
    "\n",
    "# 语法深处细节\n",
    "- 复制vs引用\n",
    "- 直接修改变量 vs 产生一个副本\n",
    "- 可变的值 vs 不可变的值\n",
    "- 万物皆对象"
   ]
  },
  {
   "cell_type": "code",
   "execution_count": 3,
   "metadata": {},
   "outputs": [
    {
     "ename": "KeyError",
     "evalue": "1.1111",
     "output_type": "error",
     "traceback": [
      "\u001b[1;31m---------------------------------------------------------------------------\u001b[0m",
      "\u001b[1;31mKeyError\u001b[0m                                  Traceback (most recent call last)",
      "\u001b[1;32md:\\code\\py2023\\理解语法.ipynb 单元格 2\u001b[0m line \u001b[0;36m2\n\u001b[0;32m      <a href='vscode-notebook-cell:/d%3A/code/py2023/%E7%90%86%E8%A7%A3%E8%AF%AD%E6%B3%95.ipynb#W2sZmlsZQ%3D%3D?line=0'>1</a>\u001b[0m \u001b[39m# key值必须是不可变的\u001b[39;00m\n\u001b[1;32m----> <a href='vscode-notebook-cell:/d%3A/code/py2023/%E7%90%86%E8%A7%A3%E8%AF%AD%E6%B3%95.ipynb#W2sZmlsZQ%3D%3D?line=1'>2</a>\u001b[0m {\u001b[39m1.11111111111111111111\u001b[39;49m:\u001b[39m1\u001b[39;49m,\u001b[39m1.11111111111111\u001b[39;49m:\u001b[39m2\u001b[39;49m,\u001b[39m1.111111\u001b[39;49m:\u001b[39m3\u001b[39;49m}[\u001b[39m1.1111\u001b[39;49m]\n",
      "\u001b[1;31mKeyError\u001b[0m: 1.1111"
     ]
    }
   ],
   "source": [
    "# key值必须是不可变的\n",
    "# {1.11111111111111111111:1,1.11111111111111:2,1.111111:3}[1.1111]"
   ]
  }
 ],
 "metadata": {
  "kernelspec": {
   "display_name": "Python 3",
   "language": "python",
   "name": "python3"
  },
  "language_info": {
   "codemirror_mode": {
    "name": "ipython",
    "version": 3
   },
   "file_extension": ".py",
   "mimetype": "text/x-python",
   "name": "python",
   "nbconvert_exporter": "python",
   "pygments_lexer": "ipython3",
   "version": "3.10.4"
  }
 },
 "nbformat": 4,
 "nbformat_minor": 2
}
