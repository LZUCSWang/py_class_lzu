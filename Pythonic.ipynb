{
 "cells": [
  {
   "cell_type": "markdown",
   "metadata": {},
   "source": [
    "# 推导式\n"
   ]
  },
  {
   "cell_type": "code",
   "execution_count": 1,
   "metadata": {},
   "outputs": [
    {
     "name": "stdout",
     "output_type": "stream",
     "text": [
      "{0: 0, 1: 1, 2: 4, 3: 9, 4: 16, 5: 25, 6: 36, 7: 49, 8: 64, 9: 81}\n",
      "{0: 'even', 1: 'odd', 2: 'even', 3: 'odd', 4: 'even', 5: 'odd', 6: 'even', 7: 'odd', 8: 'even', 9: 'odd'}\n"
     ]
    }
   ],
   "source": [
    "[], {}, ()\n",
    "data = range(10)\n",
    "[x for x in data if x % 2]\n",
    "[x for x in data if x % 2]\n",
    "3 in (x for x in data if x % 2)\n",
    "# 举出更多的推导式例子# 创建一个包含 0 到 9 的平方的列表\n",
    "squares = [x**2 for x in range(10)]\n",
    "\n",
    "# 创建一个只包含偶数的列表\n",
    "evens = [x for x in range(10) if x % 2 == 0]  # 创建一个字典，其键是 0 到 9，值是对应的平方\n",
    "squares_dict = {x: x**2 for x in range(10)}\n",
    "print(squares_dict)\n",
    "# 创建一个字典，其键是 0 到 9，值是对应的奇偶性\n",
    "parity_dict = {x: 'even' if x % 2 == 0 else 'odd' for x in range(10)}\n",
    "print(parity_dict)\n",
    "# 生成器表达式"
   ]
  },
  {
   "cell_type": "code",
   "execution_count": 2,
   "metadata": {},
   "outputs": [],
   "source": [
    "# 创建一个包含 0 到 9 的平方的集合\n",
    "squares_set = {x**2 for x in range(10)}\n",
    "\n",
    "# 创建一个只包含偶数的集合\n",
    "evens_set = {x for x in range(10) if x % 2 == 0}# 创建一个生成器，生成 0 到 9 的平方\n",
    "squares_gen = (x**2 for x in range(10))\n",
    "\n",
    "# 创建一个生成器，只生成偶数\n",
    "evens_gen = (x for x in range(10) if x % 2 == 0)"
   ]
  },
  {
   "cell_type": "markdown",
   "metadata": {},
   "source": [
    "# 打包解包\n"
   ]
  },
  {
   "cell_type": "code",
   "execution_count": 12,
   "metadata": {},
   "outputs": [
    {
     "name": "stdout",
     "output_type": "stream",
     "text": [
      "(2,) 2 <class 'tuple'>\n",
      "2 4 (2, 4)\n",
      "a,b,c=1,2,3, a= 1 b= 2 c= 3\n",
      "a,b,c=[1,2,3] 1 2 3\n",
      "1 2 3\n",
      "1 2 3\n",
      "1 2 3\n",
      "1 [2, 3, 4, 5, 6] 7\n",
      "1 [2, 3, 4, 5, 6] 7 <class 'list'>\n",
      "1 [2, 3, 4, 5, 6] 7\n",
      "2 4\n",
      "2 4\n",
      "a,b=[1,2],[3,4] print(*a,*b) 1 2 3 4\n",
      "a,b=[1,2],[3,4] print([*a,*b]) [1, 2, 3, 4]\n",
      "a,b,c,d,e=[1,2],dict(lzu='999'),(5,6),{7,8},range(9,10)\n",
      "print(*a,*b,*c,*d,*e)\n",
      " 1 2 lzu 5 6 8 7 9\n",
      "a,b,c,d,e=[1,2],dict(lzu='999'),(5,6),{7,8},range(9,10)\n",
      "print([*a,*b,*c,*d,*e])\n",
      " [1, 2, 'lzu', 5, 6, 8, 7, 9]\n",
      "(1, 2, 3)\n",
      "1 2 3\n",
      "[1, 2, 3]\n",
      "*b, = [1, 2, 3] [1, 2, 3]\n",
      "1 2 3\n",
      "{'a': 1, 'b': 2, 'c': 3}\n",
      "a b c\n",
      "{'a': 1, 'b': 2, 'c': 3}\n",
      "a,b,c=d.values()\n",
      "print(a,b,c)\n",
      " 1 2 3\n"
     ]
    }
   ],
   "source": [
    "pos=2,\n",
    "print(pos,pos[0],type(pos))  # (2,)\n",
    "x, y = 2, 4\n",
    "pos = 2, 4\n",
    "print(x, y, pos)  # 2 4 (2,4)\n",
    "pos, pos[1]\n",
    "a, b, c = 1, 2, 3\n",
    "print(\"a,b,c=1,2,3, a=\", a, \"b=\", b, \"c=\", c)\n",
    "a, b, c = [1, 2, 3]\n",
    "print(\"a,b,c=[1,2,3]\", a, b, c)\n",
    "a, b, c = (1, 2, 3)\n",
    "print(a, b, c)\n",
    "a, b, c = {1, 2, 3}\n",
    "print(a, b, c)\n",
    "# a,b,c={a=1,b=2,c=3}\n",
    "a, b, c = range(1, 4)\n",
    "print(a, b, c)\n",
    "a, *b, c = [1, 2, 3, 4, 5, 6, 7]\n",
    "print(a, b, c) # 1 [2, 3, 4, 5, 6] 7\n",
    "a, *b, c = (1, 2, 3, 4, 5, 6, 7)\n",
    "print(a, b, c, type(b))\n",
    "a, *_, c = [1, 2, 3, 4, 5, 6, 7]\n",
    "print(a, _, c)\n",
    "# 解包\n",
    "x, y = pos[0], pos[1]\n",
    "print(x, y)\n",
    "x, y = pos\n",
    "print(x, y)\n",
    "a, b, = [1, 2], [3, 4]\n",
    "print(\"a,b=[1,2],[3,4] print(*a,*b)\", *a, *b)\n",
    "print(\"a,b=[1,2],[3,4] print([*a,*b])\", [*a, *b])\n",
    "a, b, c, d, e = [1, 2], dict(lzu='999'), (5, 6), {7, 8}, range(9, 10)\n",
    "print(\n",
    "    \"a,b,c,d,e=[1,2],dict(lzu='999'),(5,6),{7,8},range(9,10)\\nprint(*a,*b,*c,*d,*e)\\n\", *a, *b, *c, *d, *e)\n",
    "[*a, *b, *c, *d, *e]\n",
    "print(\n",
    "    \"a,b,c,d,e=[1,2],dict(lzu='999'),(5,6),{7,8},range(9,10)\\nprint([*a,*b,*c,*d,*e])\\n\", [*a, *b, *c, *d, *e])\n",
    "# [*a,*b,*c,*d,*e]# 打包\n",
    "\n",
    "t = 1, 2, 3\n",
    "print(t)  # 输出：(1, 2, 3)\n",
    "\n",
    "# 解包\n",
    "a, b, c = t\n",
    "print(a, b, c)  # 输出：1 2 3# 打包\n",
    "l = [1, 2, 3]\n",
    "print(l)  # 输出：[1, 2, 3]\n",
    "# *b = [1,2,3] error starred assignment target must be in a list or tuple\n",
    "*b, = [1, 2, 3]\n",
    "print(\"*b, = [1, 2, 3]\",b)\n",
    "# 解包\n",
    "a, b, c = l\n",
    "print(a, b, c)  # 输出：1 2 3\n",
    "# 打包\n",
    "d = {'a': 1, 'b': 2, 'c': 3}\n",
    "print(d)  # 输出：{'a': 1, 'b': 2, 'c': 3}\n",
    "\n",
    "# 解包\n",
    "a, b, c = d\n",
    "print(a, b, c)  # 输出：a b c\n",
    "\n",
    "# 解包字典的值\n",
    "a, b, c = d.values()\n",
    "print(d)\n",
    "print(\"a,b,c=d.values()\\nprint(a,b,c)\\n\", a, b, c)  # 输出：1 2 3"
   ]
  },
  {
   "cell_type": "code",
   "execution_count": 4,
   "metadata": {},
   "outputs": [
    {
     "name": "stdout",
     "output_type": "stream",
     "text": [
      "[1, 2, 3] [4, 5, 6] [7, 8, 9]\n",
      "<zip object at 0x000001F914DC4C40>\n",
      "[(1, 4, 7), (2, 5, 8), (3, 6, 9)]\n",
      "[[1, 4, 7], [2, 5, 8], [3, 6, 9]]\n",
      "[6, 15, 24]\n",
      "[12, 15, 18]\n"
     ]
    }
   ],
   "source": [
    "# 矩阵运算\n",
    "xlist = [[1, 2, 3],\n",
    "         [4, 5, 6],\n",
    "         [7, 8, 9]]\n",
    "print(*xlist)\n",
    "print(zip(*xlist))\n",
    "# 转置\n",
    "print(list(zip(*xlist)))\n",
    "print([list(row) for row in zip(*xlist)])\n",
    "# 行求和\n",
    "print([sum(x) for x in xlist])\n",
    "# 列求和\n",
    "print([sum(x) for x in zip(*xlist)])"
   ]
  },
  {
   "cell_type": "code",
   "execution_count": 5,
   "metadata": {},
   "outputs": [
    {
     "name": "stdout",
     "output_type": "stream",
     "text": [
      "[0, 1, 2, 3, 4, 5, 6, 7, 8, 9]\n",
      "True True True\n",
      "True True True\n",
      "True False False\n",
      "True True True\n",
      "True True True\n",
      "False False False\n",
      "False False False\n"
     ]
    }
   ],
   "source": [
    "print([*range(10)])\n",
    "\n",
    "a, b = 1, 1\n",
    "print(a == b, id(a) == id(b), a is b)\n",
    "\n",
    "a, b = '1', '1'\n",
    "print(a == b, id(a) == id(b), a is b)\n",
    "\n",
    "a, b = [1], [1]\n",
    "print(a == b, id(a) == id(b), a is b)\n",
    "\n",
    "a = b = [1]\n",
    "print(a == b, id(a) == id(b), a is b)\n",
    "\n",
    "a, b = 1, 1\n",
    "print(a == b, id(a) == id(b), a is b)\n",
    "\n",
    "b += 1\n",
    "print(a == b, id(a) == id(b), a is b)\n",
    "\n",
    "a, b = [1], [1]\n",
    "b[0] += 1\n",
    "print(a == b, id(a) == id(b), a is b)"
   ]
  },
  {
   "cell_type": "markdown",
   "metadata": {},
   "source": [
    "# and or 表达式\n"
   ]
  },
  {
   "cell_type": "code",
   "execution_count": 6,
   "metadata": {},
   "outputs": [
    {
     "data": {
      "text/plain": [
       "(2, 1)"
      ]
     },
     "execution_count": 6,
     "metadata": {},
     "output_type": "execute_result"
    }
   ],
   "source": [
    "# 有返回值\n",
    "x, y = 1, 2\n",
    "x and y, x or y"
   ]
  },
  {
   "cell_type": "code",
   "execution_count": 7,
   "metadata": {},
   "outputs": [
    {
     "data": {
      "text/plain": [
       "2"
      ]
     },
     "execution_count": 7,
     "metadata": {},
     "output_type": "execute_result"
    }
   ],
   "source": [
    "# 应用场景\n",
    "x = 10\n",
    "\n",
    "def ff():\n",
    "    global x\n",
    "    x = x + 1\n",
    "    return a\n",
    "\n",
    "\n",
    "# x and y or ff()\n",
    "x and y or ff()"
   ]
  },
  {
   "cell_type": "code",
   "execution_count": 8,
   "metadata": {},
   "outputs": [
    {
     "name": "stdout",
     "output_type": "stream",
     "text": [
      "1\n"
     ]
    }
   ],
   "source": [
    "# if 语句\n",
    "a, b = 1, 2\n",
    "c = a if a < b else b\n",
    "d = (a < b) and a or b\n",
    "print(d)\n",
    "c == d\n",
    "assert c == d  # 断言,如果不成立,则抛出异常\n",
    "# assert c > d"
   ]
  },
  {
   "cell_type": "code",
   "execution_count": 9,
   "metadata": {},
   "outputs": [],
   "source": [
    "def add(a, b):\n",
    "    assert isinstance(a, (int, float)), 'a must be an integer or a float'\n",
    "    assert isinstance(b, (int, float)), 'b must be an integer or a float'\n",
    "    return a + b"
   ]
  },
  {
   "cell_type": "code",
   "execution_count": 10,
   "metadata": {},
   "outputs": [],
   "source": [
    "def divide(a, b):\n",
    "    result = a / b\n",
    "    assert result * b == a, 'division operation failed'\n",
    "    return result"
   ]
  },
  {
   "cell_type": "code",
   "execution_count": 11,
   "metadata": {},
   "outputs": [],
   "source": [
    "def process_data(data):\n",
    "    assert len(data) > 0, 'data must not be empty'\n",
    "    # process data here"
   ]
  },
  {
   "cell_type": "code",
   "execution_count": 12,
   "metadata": {},
   "outputs": [],
   "source": [
    "class MyClass:\n",
    "    def __init__(self):\n",
    "        self.value = None\n",
    "\n",
    "def process_object(obj):\n",
    "    assert hasattr(obj, 'value'), 'obj must have a value attribute'\n",
    "    # process obj here"
   ]
  },
  {
   "cell_type": "markdown",
   "metadata": {},
   "source": [
    "# assert\n"
   ]
  },
  {
   "cell_type": "code",
   "execution_count": 13,
   "metadata": {},
   "outputs": [
    {
     "data": {
      "text/plain": [
       "'H'"
      ]
     },
     "execution_count": 13,
     "metadata": {},
     "output_type": "execute_result"
    }
   ],
   "source": [
    "def ff(s):\n",
    "    # 如果传进来一个非空字符串，返回字符串首字母并且大写\n",
    "    # assert isinstance(s,str) and s,'看变量要求'\n",
    "    isinstance(s, str) and s or exec()(\"raise ValueError('看变量要求')\")\n",
    "    return s[0].upper()\n",
    "\n",
    "\n",
    "ff('hello')\n",
    "# ff(12)\n",
    "# ff()"
   ]
  },
  {
   "cell_type": "code",
   "execution_count": 14,
   "metadata": {},
   "outputs": [
    {
     "data": {
      "text/plain": [
       "5050"
      ]
     },
     "execution_count": 14,
     "metadata": {},
     "output_type": "execute_result"
    }
   ],
   "source": [
    "def ff(n):\n",
    "    # pass\n",
    "    if n < 1:\n",
    "        return None\n",
    "    if n == 1:\n",
    "        return 1\n",
    "    return n+ff(n-1)\n",
    "\n",
    "\n",
    "def test_ff():\n",
    "    assert (ff(100) == 5050)\n",
    "    assert (ff(1) == 1)\n",
    "    assert (ff(2) == 3)\n",
    "    assert (ff(-1) == None)\n",
    "test_ff()\n",
    "ff(100)"
   ]
  }
 ],
 "metadata": {
  "kernelspec": {
   "display_name": "Python 3",
   "language": "python",
   "name": "python3"
  },
  "language_info": {
   "codemirror_mode": {
    "name": "ipython",
    "version": 3
   },
   "file_extension": ".py",
   "mimetype": "text/x-python",
   "name": "python",
   "nbconvert_exporter": "python",
   "pygments_lexer": "ipython3",
   "version": "3.10.4"
  }
 },
 "nbformat": 4,
 "nbformat_minor": 2
}
