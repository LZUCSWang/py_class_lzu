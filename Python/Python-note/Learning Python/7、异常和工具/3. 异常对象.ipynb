{
 "cells": [
  {
   "cell_type": "markdown",
   "metadata": {},
   "source": [
    "基于类的异常有如下特点：\n",
    "- **提供类型分类，对今后的修改有更好的支持。**\n",
    "- **它们附加了状态信息。**\n",
    "- **它们支持继承。**\n",
    "\n",
    "# 1. 异常：回到未来  \n",
    "## 1.1 编写异常类  "
   ]
  },
  {
   "cell_type": "code",
   "execution_count": 2,
   "metadata": {},
   "outputs": [
    {
     "name": "stdout",
     "output_type": "stream",
     "text": [
      "caught: <class '__main__.General'>\n",
      "caught: <class '__main__.Specific1'>\n",
      "caught: <class '__main__.Specific2'>\n"
     ]
    }
   ],
   "source": [
    "class General(Exception): pass\n",
    "class Specific1(General): pass\n",
    "class Specific2(General): pass\n",
    "\n",
    "def raiser0():\n",
    "    X = General()\n",
    "    raise X\n",
    "    \n",
    "def raiser1():\n",
    "    X = Specific1()\n",
    "    raise X\n",
    "    \n",
    "def raiser2():\n",
    "    X = Specific2()\n",
    "    raise X\n",
    "    \n",
    "for func in (raiser0, raiser1, raiser2):\n",
    "    try:\n",
    "        func()\n",
    "    except General:\n",
    "        import sys\n",
    "        print('caught:', sys.exc_info()[0])"
   ]
  },
  {
   "cell_type": "markdown",
   "metadata": {},
   "source": [
    "# 2. 为什么使用类异常  \n",
    "把库的异常安排到类树中，有个共同的超类来包装整个类型。这样，用户只需列出共同的超类，来捕捉库的所有异常。"
   ]
  },
  {
   "cell_type": "markdown",
   "metadata": {},
   "source": [
    "# 3. 内置 Exception 类  \n",
    "Python 把内置异常组织成层次，来支持各种捕捉模式。  \n",
    "**BaseException。**异常的顶级根类。这个类不能当作是由用户定义的类直接继承的（使用 Exception）。它提供了子类所继承的默认的打印和状态保持行为。  \n",
    "**Exception。**与应用相关的异常的顶层根超类。是所有其他内置异常的超类，除了系统推出事件类之外。  \n",
    "**ArithmeticError。**所有数值错误的超类。  \n",
    "**OverflowError。**识别特定的数值错误的子类。  \n",
    "\n",
    "## 3.1 默认打印和状态  \n",
    "内置异常还提供了默认打印显示和状态保持。传递给这些类的任何构造函数参数都会保存在实例的 args 元组属性中，并且当打印该实例的时候自动显示，对于用户定义的异常也是如此："
   ]
  },
  {
   "cell_type": "code",
   "execution_count": 3,
   "metadata": {},
   "outputs": [
    {
     "ename": "IndexError",
     "evalue": "",
     "output_type": "error",
     "traceback": [
      "\u001b[1;31m---------------------------------------------------------------------------\u001b[0m",
      "\u001b[1;31mIndexError\u001b[0m                                Traceback (most recent call last)",
      "\u001b[1;32m<ipython-input-3-55a00e7db5b5>\u001b[0m in \u001b[0;36m<module>\u001b[1;34m()\u001b[0m\n\u001b[1;32m----> 1\u001b[1;33m \u001b[1;32mraise\u001b[0m \u001b[0mIndexError\u001b[0m\u001b[1;33m\u001b[0m\u001b[0m\n\u001b[0m",
      "\u001b[1;31mIndexError\u001b[0m: "
     ]
    }
   ],
   "source": [
    "raise IndexError"
   ]
  },
  {
   "cell_type": "code",
   "execution_count": 4,
   "metadata": {},
   "outputs": [
    {
     "ename": "IndexError",
     "evalue": "spam",
     "output_type": "error",
     "traceback": [
      "\u001b[1;31m---------------------------------------------------------------------------\u001b[0m",
      "\u001b[1;31mIndexError\u001b[0m                                Traceback (most recent call last)",
      "\u001b[1;32m<ipython-input-4-53b7e456dbfa>\u001b[0m in \u001b[0;36m<module>\u001b[1;34m()\u001b[0m\n\u001b[1;32m----> 1\u001b[1;33m \u001b[1;32mraise\u001b[0m \u001b[0mIndexError\u001b[0m\u001b[1;33m(\u001b[0m\u001b[1;34m'spam'\u001b[0m\u001b[1;33m)\u001b[0m\u001b[1;33m\u001b[0m\u001b[0m\n\u001b[0m",
      "\u001b[1;31mIndexError\u001b[0m: spam"
     ]
    }
   ],
   "source": [
    "raise IndexError('spam')"
   ]
  },
  {
   "cell_type": "code",
   "execution_count": 5,
   "metadata": {},
   "outputs": [
    {
     "data": {
      "text/plain": [
       "('spam',)"
      ]
     },
     "execution_count": 5,
     "metadata": {},
     "output_type": "execute_result"
    }
   ],
   "source": [
    "I = IndexError('spam')\n",
    "I.args"
   ]
  },
  {
   "cell_type": "markdown",
   "metadata": {},
   "source": [
    "# 4. 定制打印显示  \n",
    "可以在类中定义两个字符串表示重载方法中的一个（`__repr__` 或 `__str__`），来返回想要为异常显示的字符串："
   ]
  },
  {
   "cell_type": "code",
   "execution_count": 6,
   "metadata": {},
   "outputs": [
    {
     "name": "stdout",
     "output_type": "stream",
     "text": [
      "Always look on the bright side of life...\n"
     ]
    }
   ],
   "source": [
    "class MyBad(Exception):\n",
    "    def __str__(self):\n",
    "        return 'Always look on the bright side of life...'\n",
    "    \n",
    "try:\n",
    "    raise MyBad()\n",
    "except MyBad as X:\n",
    "    print(X)"
   ]
  },
  {
   "cell_type": "code",
   "execution_count": 7,
   "metadata": {},
   "outputs": [
    {
     "ename": "MyBad",
     "evalue": "Always look on the bright side of life...",
     "output_type": "error",
     "traceback": [
      "\u001b[1;31m---------------------------------------------------------------------------\u001b[0m",
      "\u001b[1;31mMyBad\u001b[0m                                     Traceback (most recent call last)",
      "\u001b[1;32m<ipython-input-7-ff3b7d17d944>\u001b[0m in \u001b[0;36m<module>\u001b[1;34m()\u001b[0m\n\u001b[1;32m----> 1\u001b[1;33m \u001b[1;32mraise\u001b[0m \u001b[0mMyBad\u001b[0m\u001b[1;33m(\u001b[0m\u001b[1;33m)\u001b[0m\u001b[1;33m\u001b[0m\u001b[0m\n\u001b[0m",
      "\u001b[1;31mMyBad\u001b[0m: Always look on the bright side of life..."
     ]
    }
   ],
   "source": [
    "raise MyBad()"
   ]
  },
  {
   "cell_type": "markdown",
   "metadata": {},
   "source": [
    "# 5. 定制数据和行为  \n",
    "## 5.1 提供异常细节  \n",
    "当引发一个异常的时候，可能会跨越任意的文件界限——触发异常的 raise 语句和捕获异常的 try 语句可能位于完全不同的模块文件中。在异常自身中传递额外的状态信息，这允许 try 语句更可靠地访问它。 "
   ]
  },
  {
   "cell_type": "code",
   "execution_count": 8,
   "metadata": {},
   "outputs": [
    {
     "name": "stdout",
     "output_type": "stream",
     "text": [
      "Error at spam.txt 42\n"
     ]
    }
   ],
   "source": [
    "class FormatError(Exception):\n",
    "    def __init__(self, line, file):\n",
    "        self.line = line\n",
    "        self.file = file\n",
    "    \n",
    "def parser():\n",
    "    raise FormatError(42, file='spam.txt')\n",
    "    \n",
    "try:\n",
    "    parser()\n",
    "except FormatError as X:\n",
    "    print('Error at', X.file, X.line)"
   ]
  },
  {
   "cell_type": "markdown",
   "metadata": {},
   "source": [
    "## 5.2 提供异常方法  \n",
    "异常类也可以定义在处理器中调用的方法："
   ]
  },
  {
   "cell_type": "code",
   "execution_count": 9,
   "metadata": {},
   "outputs": [],
   "source": [
    "# 使用异常状态信息把错误记录到一个文件中\n",
    "class FormatError(Exception):\n",
    "    logfile = 'formaterror.txt'\n",
    "    def __init__(self, line, file):\n",
    "        self.line = line\n",
    "        self.file = file\n",
    "        \n",
    "    def logerror(self):\n",
    "        log = open(self.logfile, 'a')\n",
    "        print('Error at:', self.file, self.line, file=log)\n",
    "        \n",
    "def parser():\n",
    "    raise FormatError(40, 'spam.txt')\n",
    "    \n",
    "if __name__ == '__main__':\n",
    "    try:\n",
    "        parser()\n",
    "    except FormatError as exc:\n",
    "        exc.logerror()"
   ]
  }
 ],
 "metadata": {
  "kernelspec": {
   "display_name": "Python 3",
   "language": "python",
   "name": "python3"
  },
  "language_info": {
   "codemirror_mode": {
    "name": "ipython",
    "version": 3
   },
   "file_extension": ".py",
   "mimetype": "text/x-python",
   "name": "python",
   "nbconvert_exporter": "python",
   "pygments_lexer": "ipython3",
   "version": "3.6.8"
  }
 },
 "nbformat": 4,
 "nbformat_minor": 2
}
