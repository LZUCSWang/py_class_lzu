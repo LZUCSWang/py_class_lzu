{
 "cells": [
  {
   "cell_type": "markdown",
   "metadata": {},
   "source": [
    "# 1. 迭代器  \n",
    "## 1.1 迭代协议：文件迭代器  \n",
    "已打开的文件对象有个方法名为 readline，可以一次从一个文件中读取一行文本，每次调用 readline 方法时，就会前进到下一列。到达文件末尾时，就会返回空字符串，我们可以通过它来检测，从而跳出循环。"
   ]
  },
  {
   "cell_type": "code",
   "execution_count": 305,
   "metadata": {
    "collapsed": true
   },
   "outputs": [],
   "source": [
    "f = open('log.txt')"
   ]
  },
  {
   "cell_type": "code",
   "execution_count": 306,
   "metadata": {},
   "outputs": [
    {
     "data": {
      "text/plain": [
       "\"spam 99 ['eggs']\\n\""
      ]
     },
     "execution_count": 306,
     "metadata": {},
     "output_type": "execute_result"
    }
   ],
   "source": [
    "f.readline()               # readline 每次调用载入一行"
   ]
  },
  {
   "cell_type": "code",
   "execution_count": 307,
   "metadata": {},
   "outputs": [
    {
     "data": {
      "text/plain": [
       "\"spam 99 ['eggs']\\n\""
      ]
     },
     "execution_count": 307,
     "metadata": {},
     "output_type": "execute_result"
    }
   ],
   "source": [
    "f.readline()"
   ]
  },
  {
   "cell_type": "code",
   "execution_count": 308,
   "metadata": {},
   "outputs": [
    {
     "data": {
      "text/plain": [
       "\"spam 99 ['eggs']\\n\""
      ]
     },
     "execution_count": 308,
     "metadata": {},
     "output_type": "execute_result"
    }
   ],
   "source": [
    "f.readline()"
   ]
  },
  {
   "cell_type": "code",
   "execution_count": 309,
   "metadata": {},
   "outputs": [
    {
     "data": {
      "text/plain": [
       "\"spam 99 ['eggs']\\n\""
      ]
     },
     "execution_count": 309,
     "metadata": {},
     "output_type": "execute_result"
    }
   ],
   "source": [
    "f.readline()               # 文件末尾返回空字符串"
   ]
  },
  {
   "cell_type": "markdown",
   "metadata": {},
   "source": [
    "文件也有一个方法，名为 `__next__`，差不多有相同的效果：每次调用时，就会返回文件中的下一行。唯一的区别在于，到达文件末尾时，`__next__` 会引发内置的 StopIteration 异常，而不是返回空字符串。"
   ]
  },
  {
   "cell_type": "code",
   "execution_count": 310,
   "metadata": {
    "collapsed": true
   },
   "outputs": [],
   "source": [
    "f = open('log.txt')"
   ]
  },
  {
   "cell_type": "code",
   "execution_count": 311,
   "metadata": {},
   "outputs": [
    {
     "data": {
      "text/plain": [
       "\"spam 99 ['eggs']\\n\""
      ]
     },
     "execution_count": 311,
     "metadata": {},
     "output_type": "execute_result"
    }
   ],
   "source": [
    "f.__next__()"
   ]
  },
  {
   "cell_type": "code",
   "execution_count": 312,
   "metadata": {},
   "outputs": [
    {
     "data": {
      "text/plain": [
       "\"spam 99 ['eggs']\\n\""
      ]
     },
     "execution_count": 312,
     "metadata": {},
     "output_type": "execute_result"
    }
   ],
   "source": [
    "f.__next__()"
   ]
  },
  {
   "cell_type": "code",
   "execution_count": 313,
   "metadata": {},
   "outputs": [
    {
     "data": {
      "text/plain": [
       "\"spam 99 ['eggs']\\n\""
      ]
     },
     "execution_count": 313,
     "metadata": {},
     "output_type": "execute_result"
    }
   ],
   "source": [
    "f.__next__()"
   ]
  },
  {
   "cell_type": "code",
   "execution_count": 314,
   "metadata": {},
   "outputs": [
    {
     "data": {
      "text/plain": [
       "\"spam 99 ['eggs']\\n\""
      ]
     },
     "execution_count": 314,
     "metadata": {},
     "output_type": "execute_result"
    }
   ],
   "source": [
    "f.__next__()"
   ]
  },
  {
   "cell_type": "markdown",
   "metadata": {},
   "source": [
    "这个接口就是 Python 中的迭代协议：有 `__next__` 方法的对象会前进到下一个结果，而在一系列结果的末尾时，则会引发 StopIteration。  \n",
    "\n",
    "所有迭代工具内部工作起来都是在每次迭代中调用 `__next__`，并且捕捉 StopIteration 异常来确定何时离开。  \n",
    "\n",
    "对于某些对象，完整的协议包含调用 iter 的额外第一步，但这不是文件所需要的。  \n",
    "\n",
    "读取文本文件的最佳方式就是根本不要去读取，其替代方法就是，让 for 循环在每轮自动调用 `__next__` 从而前进到下一行。"
   ]
  },
  {
   "cell_type": "code",
   "execution_count": 315,
   "metadata": {},
   "outputs": [
    {
     "name": "stdout",
     "output_type": "stream",
     "text": [
      "spam 99 ['eggs']\n",
      "spam 99 ['eggs']\n",
      "spam 99 ['eggs']\n",
      "spam 99 ['eggs']\n",
      "spam 99 ['eggs']\n",
      "1 2 3 [4]\n",
      "1 2 3 4 []\n",
      "1 2 3 4 []\n",
      "1 2 3 [4]\n",
      "1 2 3 4 []\n",
      "1 2 3 4 []\n",
      "1 2 3 3 4\n",
      "None\n",
      "\n",
      "spam 99 ['eggs']\n",
      "spam99['eggs']\n",
      "spam,99,['eggs']\n",
      "spam 99 ['eggs']spam 99 ['eggs']spam 99 ['eggs']\n",
      "spam 99 ['eggs']...\n",
      "spam...99...['eggs']!\n",
      "spam...99...['eggs']!\n",
      "spam...99...['eggs']\n",
      "\n",
      "Result: 3.1416, 00042\n",
      "Result: 3.1416, 00042\n",
      "spam 99 ['eggs']\n",
      "spam 99 ['eggs']\n",
      "spam 99 ['eggs']\n",
      "range(3, 6)\n",
      "range(3, 6)\n",
      "1 2 3 [4]\n",
      "1 2 3 4 []\n",
      "1 2 3 4 []\n",
      "1 2 3 3 4\n",
      "range(3, 6)\n",
      "None\n",
      "\n",
      "spam 99 ['eggs']\n",
      "spam99['eggs']\n",
      "spam,99,['eggs']\n",
      "spam 99 ['eggs']spam 99 ['eggs']spam 99 ['eggs']\n",
      "spam 99 ['eggs']...\n",
      "spam...99...['eggs']!\n",
      "spam...99...['eggs']!\n",
      "spam...99...['eggs']\n",
      "\n",
      "Result: 3.1416, 00042\n",
      "Result: 3.1416, 00042\n",
      "spam 99 ['eggs']\n",
      "spam 99 ['eggs']\n",
      "spam 99 ['eggs']\n",
      "range(3, 6)\n",
      "[1, 2, 3, 3, 4, 5]\n",
      "1 2 3 [4]\n",
      "1 2 3 4 []\n",
      "1 2 3 4 []\n",
      "1 2 3 3 4\n",
      "None\n",
      "\n",
      "spam 99 ['eggs']\n",
      "spam99['eggs']\n",
      "spam,99,['eggs']\n",
      "spam 99 ['eggs']spam 99 ['eggs']spam 99 ['eggs']\n",
      "spam 99 ['eggs']...\n",
      "spam...99...['eggs']!\n",
      "spam...99...['eggs']!\n",
      "spam...99...['eggs']\n",
      "\n",
      "Result: 3.1416, 00042\n",
      "Result: 3.1416, 00042\n",
      "spam 99 ['eggs']\n",
      "spam 99 ['eggs']\n",
      "spam 99 ['eggs']\n",
      "range(3, 6)\n",
      "1 2 3 [4]\n",
      "1 2 3 4 []\n",
      "1 2 3 4 []\n",
      "1 2 3 3 4\n",
      "None\n",
      "\n",
      "spam 99 ['eggs']\n",
      "spam99['eggs']\n",
      "spam,99,['eggs']\n",
      "spam 99 ['eggs']spam 99 ['eggs']spam 99 ['eggs']\n",
      "spam 99 ['eggs']...\n",
      "spam...99...['eggs']!\n",
      "spam...99...['eggs']!\n",
      "spam...99...['eggs']\n",
      "\n",
      "Result: 3.1416, 00042\n",
      "Result: 3.1416, 00042\n",
      "spam 99 ['eggs']\n",
      "spam 99 ['eggs']\n",
      "spam 99 ['eggs']\n",
      "spam 99 ['eggs']\n",
      "spam 99 ['eggs']\n",
      "spam 99 ['eggs']\n",
      "spam 99 ['eggs']\n"
     ]
    }
   ],
   "source": [
    "for line in open('log.txt'):\n",
    "    print(line, end='')"
   ]
  },
  {
   "cell_type": "markdown",
   "metadata": {},
   "source": [
    "这里的 print 使用 end='' 来抑制添加一个 \\n，因为行字符串已经有了一个。上例是读取文本文件的最佳方式，原因有三点：\n",
    "- 这是最简单的写法\n",
    "- 运行最快\n",
    "- 从内存使用情况来说也是最好的"
   ]
  },
  {
   "cell_type": "markdown",
   "metadata": {},
   "source": [
    "## 1.2 手动迭代：iter 和 next  \n",
    "为了支持手动迭代代码，Python 3.X 还提供了一个内置函数 next，它会自动调用一个对象的 `__next__` 方法。给定一个可迭代对象X，调用 `next(X)` 等同于 `X.__next__()`。"
   ]
  },
  {
   "cell_type": "code",
   "execution_count": 316,
   "metadata": {},
   "outputs": [
    {
     "data": {
      "text/plain": [
       "\"spam 99 ['eggs']\\n\""
      ]
     },
     "execution_count": 316,
     "metadata": {},
     "output_type": "execute_result"
    }
   ],
   "source": [
    "f = open('log.txt')\n",
    "next(f)"
   ]
  },
  {
   "cell_type": "code",
   "execution_count": 317,
   "metadata": {},
   "outputs": [
    {
     "data": {
      "text/plain": [
       "\"spam 99 ['eggs']\\n\""
      ]
     },
     "execution_count": 317,
     "metadata": {},
     "output_type": "execute_result"
    }
   ],
   "source": [
    "next(f)"
   ]
  },
  {
   "cell_type": "markdown",
   "metadata": {},
   "source": [
    "从技术角度来讲，当 for 循环开始时，会通过迭代协议传给 iter 内置函数，以便从可迭代对象中获得一个迭代器，返回的对象含有需要的 next 方法。iter 函数内部运行 `__iter__` 的方法，和 next 与 `__next_` 很相似。"
   ]
  },
  {
   "cell_type": "markdown",
   "metadata": {},
   "source": [
    "**完整迭代协议**  \n",
    "迭代协议实际上基于两个对象，在迭代工具的两个不同步骤中使用：\n",
    "- 请求迭代的可迭代对象，其 `__iter__` 由 iter 运行。\n",
    "- 在迭代过程中实际生成值的可迭代的返回的迭代器对象，其 `__next__` 由 next 运行，并在结束生成结果时引发 StopIteration。\n",
    "\n",
    "在大多数情况下，迭代工具会自动地安排这些步骤，但是这有助于理解这两个对象的角色。例如，在某些情况下，当只支持一次扫描(例如文件)时，这两个对象是相同的，迭代器对象通常是临时的，由迭代工具在内部使用。  \n",
    "\n",
    "此外，有些对象既是迭代环境工具(它们可以迭代)，也是可迭代对象(它们的结果是可迭代的)——包括生成器表达式，以及 Python 3.X 中的 map 和 zip。  \n",
    "\n",
    "在实际代码中，如果我们查看for循环内部如何处理内置的序列类型(如列表)，协议的第一步就变得很明显:"
   ]
  },
  {
   "cell_type": "code",
   "execution_count": 318,
   "metadata": {},
   "outputs": [
    {
     "data": {
      "text/plain": [
       "1"
      ]
     },
     "execution_count": 318,
     "metadata": {},
     "output_type": "execute_result"
    }
   ],
   "source": [
    "L = [1, 2, 3]\n",
    "I = iter(L)                   # 从一个可迭代的对象中获得迭代器对象\n",
    "I.__next__()                  # 调用迭代器的 next 来获得下一个元素"
   ]
  },
  {
   "cell_type": "code",
   "execution_count": 319,
   "metadata": {},
   "outputs": [
    {
     "data": {
      "text/plain": [
       "2"
      ]
     },
     "execution_count": 319,
     "metadata": {},
     "output_type": "execute_result"
    }
   ],
   "source": [
    "I.__next__()"
   ]
  },
  {
   "cell_type": "code",
   "execution_count": 320,
   "metadata": {},
   "outputs": [
    {
     "data": {
      "text/plain": [
       "3"
      ]
     },
     "execution_count": 320,
     "metadata": {},
     "output_type": "execute_result"
    }
   ],
   "source": [
    "I.__next__()"
   ]
  },
  {
   "cell_type": "code",
   "execution_count": 321,
   "metadata": {},
   "outputs": [],
   "source": [
    "# I.__next__()"
   ]
  },
  {
   "cell_type": "markdown",
   "metadata": {},
   "source": [
    "最初的一步对于文件来说不是必需的，因为文件对象就是自己的迭代器。因为它们只支持一种迭代（它们不能向后查找以支持多个活动扫描），文件有自己的 `__next__` 方法，因此不需要像这样返回一个不同的对象："
   ]
  },
  {
   "cell_type": "code",
   "execution_count": 322,
   "metadata": {},
   "outputs": [
    {
     "data": {
      "text/plain": [
       "True"
      ]
     },
     "execution_count": 322,
     "metadata": {},
     "output_type": "execute_result"
    }
   ],
   "source": [
    "f = open('log.txt')\n",
    "iter(f) is f"
   ]
  },
  {
   "cell_type": "code",
   "execution_count": 323,
   "metadata": {},
   "outputs": [
    {
     "data": {
      "text/plain": [
       "True"
      ]
     },
     "execution_count": 323,
     "metadata": {},
     "output_type": "execute_result"
    }
   ],
   "source": [
    "iter(f) is f.__iter__()"
   ]
  },
  {
   "cell_type": "code",
   "execution_count": 324,
   "metadata": {},
   "outputs": [
    {
     "data": {
      "text/plain": [
       "\"spam 99 ['eggs']\\n\""
      ]
     },
     "execution_count": 324,
     "metadata": {},
     "output_type": "execute_result"
    }
   ],
   "source": [
    "f.__next__()"
   ]
  },
  {
   "cell_type": "markdown",
   "metadata": {},
   "source": [
    "列表以及许多其他的内置对象，不是自身的迭代器，因为它们支持多次打开迭代器——例如，在嵌套的循环的不同的位置可以有多个迭代。对这样的对象，我们必须调用 iter 来启动迭代："
   ]
  },
  {
   "cell_type": "code",
   "execution_count": 325,
   "metadata": {},
   "outputs": [
    {
     "data": {
      "text/plain": [
       "False"
      ]
     },
     "execution_count": 325,
     "metadata": {},
     "output_type": "execute_result"
    }
   ],
   "source": [
    "L = [1, 2, 3]\n",
    "iter(L) is L"
   ]
  },
  {
   "cell_type": "code",
   "execution_count": 326,
   "metadata": {},
   "outputs": [
    {
     "name": "stdout",
     "output_type": "stream",
     "text": [
      "'list' object has no attribute '__next__'\n"
     ]
    }
   ],
   "source": [
    "try:\n",
    "    L.__next__()\n",
    "except AttributeError as e:\n",
    "    print(e)"
   ]
  },
  {
   "cell_type": "code",
   "execution_count": 327,
   "metadata": {},
   "outputs": [
    {
     "data": {
      "text/plain": [
       "1"
      ]
     },
     "execution_count": 327,
     "metadata": {},
     "output_type": "execute_result"
    }
   ],
   "source": [
    "I = iter(L)\n",
    "I.__next__()"
   ]
  },
  {
   "cell_type": "markdown",
   "metadata": {},
   "source": [
    "**手动迭代**  \n",
    "尽管 Python 迭代工具自动调用这些函数，我们也可以使用它们来手动地应用迭代协议。"
   ]
  },
  {
   "cell_type": "code",
   "execution_count": 328,
   "metadata": {},
   "outputs": [
    {
     "name": "stdout",
     "output_type": "stream",
     "text": [
      "1 4 9 "
     ]
    }
   ],
   "source": [
    "L = [1, 2, 3]\n",
    "for x in L:                      # 自动迭代\n",
    "    print(x ** 2, end=' ')       # 获得 iter，调用 __next__，捕捉异常"
   ]
  },
  {
   "cell_type": "code",
   "execution_count": 329,
   "metadata": {},
   "outputs": [
    {
     "name": "stdout",
     "output_type": "stream",
     "text": [
      "1 4 9 "
     ]
    }
   ],
   "source": [
    "I = iter(L)                       # 手动迭代：for 循环经常做的\n",
    "while True:           \n",
    "    try:                          # try 表达式捕捉异常\n",
    "        X = next(I)\n",
    "    except StopIteration:\n",
    "        break\n",
    "    print(X ** 2, end=' ')"
   ]
  },
  {
   "cell_type": "markdown",
   "metadata": {},
   "source": [
    "## 1.3 其他内置类型迭代器  \n",
    "遍历字典键的经典方法是明确地获取其键的列表。"
   ]
  },
  {
   "cell_type": "code",
   "execution_count": 330,
   "metadata": {},
   "outputs": [
    {
     "name": "stdout",
     "output_type": "stream",
     "text": [
      "a 1\n",
      "b 2\n",
      "c 3\n"
     ]
    }
   ],
   "source": [
    "D = {'a': 1, 'b': 2, 'c': 3}\n",
    "for key in D.keys():\n",
    "    print(key, D[key])"
   ]
  },
  {
   "cell_type": "markdown",
   "metadata": {},
   "source": [
    "在最近的 Python 版本中，字典有一个迭代器，在迭代环境中，会自动一次返回一个键。"
   ]
  },
  {
   "cell_type": "code",
   "execution_count": 331,
   "metadata": {},
   "outputs": [
    {
     "data": {
      "text/plain": [
       "'a'"
      ]
     },
     "execution_count": 331,
     "metadata": {},
     "output_type": "execute_result"
    }
   ],
   "source": [
    "I = iter(D)\n",
    "next(I)"
   ]
  },
  {
   "cell_type": "code",
   "execution_count": 332,
   "metadata": {},
   "outputs": [
    {
     "data": {
      "text/plain": [
       "'b'"
      ]
     },
     "execution_count": 332,
     "metadata": {},
     "output_type": "execute_result"
    }
   ],
   "source": [
    "next(I)"
   ]
  },
  {
   "cell_type": "code",
   "execution_count": 333,
   "metadata": {},
   "outputs": [
    {
     "data": {
      "text/plain": [
       "'c'"
      ]
     },
     "execution_count": 333,
     "metadata": {},
     "output_type": "execute_result"
    }
   ],
   "source": [
    "next(I)"
   ]
  },
  {
   "cell_type": "code",
   "execution_count": 334,
   "metadata": {},
   "outputs": [
    {
     "name": "stdout",
     "output_type": "stream",
     "text": [
      "\n"
     ]
    }
   ],
   "source": [
    "try:\n",
    "    next(I)\n",
    "except StopIteration as e:\n",
    "    print(e)"
   ]
  },
  {
   "cell_type": "markdown",
   "metadata": {},
   "source": [
    "直接的效果是，不许需要调用 keys 方法来遍历字典键——for 循环将使用迭代协议在每次迭代的时候获取一个键："
   ]
  },
  {
   "cell_type": "code",
   "execution_count": 335,
   "metadata": {},
   "outputs": [
    {
     "name": "stdout",
     "output_type": "stream",
     "text": [
      "a 1\n",
      "b 2\n",
      "c 3\n"
     ]
    }
   ],
   "source": [
    "for key in D:\n",
    "    print(key, D[key])"
   ]
  },
  {
   "cell_type": "markdown",
   "metadata": {},
   "source": [
    "shelves（用于 Python 对象的一个根据键访问的文件系统）和 os.popen（读取 shell 命令的输出的一个工具）的结果也是可迭代的："
   ]
  },
  {
   "cell_type": "code",
   "execution_count": 336,
   "metadata": {},
   "outputs": [
    {
     "data": {
      "text/plain": [
       "' 驱动器 D 中的卷是 Work\\n'"
      ]
     },
     "execution_count": 336,
     "metadata": {},
     "output_type": "execute_result"
    }
   ],
   "source": [
    "import os\n",
    "P = os.popen('dir')\n",
    "P.__next__()"
   ]
  },
  {
   "cell_type": "code",
   "execution_count": 337,
   "metadata": {},
   "outputs": [],
   "source": [
    "# next(P)"
   ]
  },
  {
   "cell_type": "markdown",
   "metadata": {},
   "source": [
    "在 Python 3.X 中，popen 支持 `P.__next__()` 方法，但不支持 next(P) 内置函数。由于后者定义来调用前者，这似乎不正常，但是如果用 for 循环或者其他的迭代环境来自动迭代这些对象，都能正确工作。使用顶级 iter 调用也可以。"
   ]
  },
  {
   "cell_type": "code",
   "execution_count": 338,
   "metadata": {},
   "outputs": [
    {
     "data": {
      "text/plain": [
       "' 卷的序列号是 60D8-B2C9\\n'"
      ]
     },
     "execution_count": 338,
     "metadata": {},
     "output_type": "execute_result"
    }
   ],
   "source": [
    "I = iter(P)\n",
    "next(I)"
   ]
  },
  {
   "cell_type": "code",
   "execution_count": 339,
   "metadata": {},
   "outputs": [
    {
     "data": {
      "text/plain": [
       "'\\n'"
      ]
     },
     "execution_count": 339,
     "metadata": {},
     "output_type": "execute_result"
    }
   ],
   "source": [
    "I.__next__()"
   ]
  },
  {
   "cell_type": "markdown",
   "metadata": {},
   "source": [
    "迭代协议也是我们必须把某些结果包装到一个 list 调用中以一次性看到它们的值的原因。可迭代对象一次返回一个结果，而不是一个实际的列表："
   ]
  },
  {
   "cell_type": "code",
   "execution_count": 340,
   "metadata": {},
   "outputs": [
    {
     "data": {
      "text/plain": [
       "range(0, 5)"
      ]
     },
     "execution_count": 340,
     "metadata": {},
     "output_type": "execute_result"
    }
   ],
   "source": [
    "R = range(5)\n",
    "R"
   ]
  },
  {
   "cell_type": "code",
   "execution_count": 341,
   "metadata": {},
   "outputs": [
    {
     "data": {
      "text/plain": [
       "0"
      ]
     },
     "execution_count": 341,
     "metadata": {},
     "output_type": "execute_result"
    }
   ],
   "source": [
    "I = iter(R)\n",
    "next(I)"
   ]
  },
  {
   "cell_type": "code",
   "execution_count": 342,
   "metadata": {},
   "outputs": [
    {
     "data": {
      "text/plain": [
       "1"
      ]
     },
     "execution_count": 342,
     "metadata": {},
     "output_type": "execute_result"
    }
   ],
   "source": [
    "next(I)"
   ]
  },
  {
   "cell_type": "code",
   "execution_count": 343,
   "metadata": {},
   "outputs": [
    {
     "data": {
      "text/plain": [
       "[0, 1, 2, 3, 4]"
      ]
     },
     "execution_count": 343,
     "metadata": {},
     "output_type": "execute_result"
    }
   ],
   "source": [
    "list(range(5))"
   ]
  },
  {
   "cell_type": "markdown",
   "metadata": {
    "collapsed": true
   },
   "source": [
    "# 2. 列表解析  \n",
    "列表解析是最常应用迭代协议的环境之一。在遍历一个列表的时候，可以使用 range 来修改它："
   ]
  },
  {
   "cell_type": "code",
   "execution_count": 344,
   "metadata": {},
   "outputs": [
    {
     "data": {
      "text/plain": [
       "[11, 12, 13, 14, 15]"
      ]
     },
     "execution_count": 344,
     "metadata": {},
     "output_type": "execute_result"
    }
   ],
   "source": [
    "L = [1, 2, 3, 4, 5]\n",
    "for i in range(len(L)):\n",
    "    L[i] += 10\n",
    "L"
   ]
  },
  {
   "cell_type": "markdown",
   "metadata": {},
   "source": [
    "这可能不是 Python 中的最佳实践。我们可以使用列表解析表达式来替代该循环："
   ]
  },
  {
   "cell_type": "code",
   "execution_count": 345,
   "metadata": {},
   "outputs": [
    {
     "data": {
      "text/plain": [
       "[21, 22, 23, 24, 25]"
      ]
     },
     "execution_count": 345,
     "metadata": {},
     "output_type": "execute_result"
    }
   ],
   "source": [
    "L = [x + 10 for x in L]\n",
    "L"
   ]
  },
  {
   "cell_type": "markdown",
   "metadata": {},
   "source": [
    "列表解析并不完全和 for 循环语句版本相同，因为它产生一个**新的列表对象**（如果有对最初的列表的**多个引用**，可能会有关系）。  "
   ]
  },
  {
   "cell_type": "markdown",
   "metadata": {},
   "source": [
    "## 2.1 列表解析基础知识  \n",
    "从语法上讲，列表解析的语法源自于集合理论表示法中的一个结构，该结构对集合中的每个元素应用一个操作。列表解析看上去就像是一个反向的 for 循环。  \n",
    "\n",
    "列表解析写在一个方括号中，因为它们最终是构建一个新的列表的方式。它们以一个任意的表达式开始，该表达式使用我们所组成的一个循环变量（x + 10）。后面跟着看做是一个 for 循环头部的部分，它声明了循环变量，以及一个可迭代对象（for x in L）。  \n",
    "\n",
    "列表解析并非真的是必需的，我们总是可以用一个 for 循环手动地构建一个表达式结果的列表。但是列表解析编写起来更加精简，并且由于构建结果列表的这种代码样式在 Python 代码中十分常见，因此可以将它们用于多种环境。  \n",
    "\n",
    "此外，列表解析比手动的 for 循环语句运行的更快，因为它们的迭代在解释器内部是以 C 语言的速度执行的。  \n",
    "\n",
    "## 2.2 在文件上使用列表解析  \n",
    "当我们开始考虑在一个序列中的每项上执行一个操作时，都可以考虑使用列表解析。"
   ]
  },
  {
   "cell_type": "code",
   "execution_count": 346,
   "metadata": {},
   "outputs": [
    {
     "data": {
      "text/plain": [
       "[\"spam 99 ['eggs']\",\n",
       " \"spam 99 ['eggs']\",\n",
       " \"spam 99 ['eggs']\",\n",
       " \"spam 99 ['eggs']\",\n",
       " \"spam 99 ['eggs']\",\n",
       " '1 2 3 [4]',\n",
       " '1 2 3 4 []',\n",
       " '1 2 3 4 []',\n",
       " '1 2 3 [4]',\n",
       " '1 2 3 4 []',\n",
       " '1 2 3 4 []',\n",
       " '1 2 3 3 4',\n",
       " 'None',\n",
       " '',\n",
       " \"spam 99 ['eggs']\",\n",
       " \"spam99['eggs']\",\n",
       " \"spam,99,['eggs']\",\n",
       " \"spam 99 ['eggs']spam 99 ['eggs']spam 99 ['eggs']\",\n",
       " \"spam 99 ['eggs']...\",\n",
       " \"spam...99...['eggs']!\",\n",
       " \"spam...99...['eggs']!\",\n",
       " \"spam...99...['eggs']\",\n",
       " '',\n",
       " 'Result: 3.1416, 00042',\n",
       " 'Result: 3.1416, 00042',\n",
       " \"spam 99 ['eggs']\",\n",
       " \"spam 99 ['eggs']\",\n",
       " \"spam 99 ['eggs']\",\n",
       " 'range(3, 6)',\n",
       " 'range(3, 6)',\n",
       " '1 2 3 [4]',\n",
       " '1 2 3 4 []',\n",
       " '1 2 3 4 []',\n",
       " '1 2 3 3 4',\n",
       " 'range(3, 6)',\n",
       " 'None',\n",
       " '',\n",
       " \"spam 99 ['eggs']\",\n",
       " \"spam99['eggs']\",\n",
       " \"spam,99,['eggs']\",\n",
       " \"spam 99 ['eggs']spam 99 ['eggs']spam 99 ['eggs']\",\n",
       " \"spam 99 ['eggs']...\",\n",
       " \"spam...99...['eggs']!\",\n",
       " \"spam...99...['eggs']!\",\n",
       " \"spam...99...['eggs']\",\n",
       " '',\n",
       " 'Result: 3.1416, 00042',\n",
       " 'Result: 3.1416, 00042',\n",
       " \"spam 99 ['eggs']\",\n",
       " \"spam 99 ['eggs']\",\n",
       " \"spam 99 ['eggs']\",\n",
       " 'range(3, 6)',\n",
       " '[1, 2, 3, 3, 4, 5]',\n",
       " '1 2 3 [4]',\n",
       " '1 2 3 4 []',\n",
       " '1 2 3 4 []',\n",
       " '1 2 3 3 4',\n",
       " 'None',\n",
       " '',\n",
       " \"spam 99 ['eggs']\",\n",
       " \"spam99['eggs']\",\n",
       " \"spam,99,['eggs']\",\n",
       " \"spam 99 ['eggs']spam 99 ['eggs']spam 99 ['eggs']\",\n",
       " \"spam 99 ['eggs']...\",\n",
       " \"spam...99...['eggs']!\",\n",
       " \"spam...99...['eggs']!\",\n",
       " \"spam...99...['eggs']\",\n",
       " '',\n",
       " 'Result: 3.1416, 00042',\n",
       " 'Result: 3.1416, 00042',\n",
       " \"spam 99 ['eggs']\",\n",
       " \"spam 99 ['eggs']\",\n",
       " \"spam 99 ['eggs']\",\n",
       " 'range(3, 6)',\n",
       " '1 2 3 [4]',\n",
       " '1 2 3 4 []',\n",
       " '1 2 3 4 []',\n",
       " '1 2 3 3 4',\n",
       " 'None',\n",
       " '',\n",
       " \"spam 99 ['eggs']\",\n",
       " \"spam99['eggs']\",\n",
       " \"spam,99,['eggs']\",\n",
       " \"spam 99 ['eggs']spam 99 ['eggs']spam 99 ['eggs']\",\n",
       " \"spam 99 ['eggs']...\",\n",
       " \"spam...99...['eggs']!\",\n",
       " \"spam...99...['eggs']!\",\n",
       " \"spam...99...['eggs']\",\n",
       " '',\n",
       " 'Result: 3.1416, 00042',\n",
       " 'Result: 3.1416, 00042',\n",
       " \"spam 99 ['eggs']\",\n",
       " \"spam 99 ['eggs']\",\n",
       " \"spam 99 ['eggs']\",\n",
       " \"spam 99 ['eggs']\",\n",
       " \"spam 99 ['eggs']\",\n",
       " \"spam 99 ['eggs']\",\n",
       " \"spam 99 ['eggs']\"]"
      ]
     },
     "execution_count": 346,
     "metadata": {},
     "output_type": "execute_result"
    }
   ],
   "source": [
    "lines = [line.rstrip() for line in open('log.txt')]\n",
    "lines"
   ]
  },
  {
   "cell_type": "markdown",
   "metadata": {},
   "source": [
    "Python 扫描文件并自动构建了操作结果的一个列表。这是编写这一操作的一种高效的方式。  \n",
    "\n",
    "除了其高效性，列表解析的表现力也很强："
   ]
  },
  {
   "cell_type": "code",
   "execution_count": 347,
   "metadata": {},
   "outputs": [
    {
     "data": {
      "text/plain": [
       "[\"SPAM 99 ['EGGS']\\n\",\n",
       " \"SPAM 99 ['EGGS']\\n\",\n",
       " \"SPAM 99 ['EGGS']\\n\",\n",
       " \"SPAM 99 ['EGGS']\\n\",\n",
       " \"SPAM 99 ['EGGS']\\n\",\n",
       " '1 2 3 [4]\\n',\n",
       " '1 2 3 4 []\\n',\n",
       " '1 2 3 4 []\\n',\n",
       " '1 2 3 [4]\\n',\n",
       " '1 2 3 4 []\\n',\n",
       " '1 2 3 4 []\\n',\n",
       " '1 2 3 3 4\\n',\n",
       " 'NONE\\n',\n",
       " '\\n',\n",
       " \"SPAM 99 ['EGGS']\\n\",\n",
       " \"SPAM99['EGGS']\\n\",\n",
       " \"SPAM,99,['EGGS']\\n\",\n",
       " \"SPAM 99 ['EGGS']SPAM 99 ['EGGS']SPAM 99 ['EGGS']\\n\",\n",
       " \"SPAM 99 ['EGGS']...\\n\",\n",
       " \"SPAM...99...['EGGS']!\\n\",\n",
       " \"SPAM...99...['EGGS']!\\n\",\n",
       " \"SPAM...99...['EGGS']\\n\",\n",
       " '\\n',\n",
       " 'RESULT: 3.1416, 00042\\n',\n",
       " 'RESULT: 3.1416, 00042\\n',\n",
       " \"SPAM 99 ['EGGS']\\n\",\n",
       " \"SPAM 99 ['EGGS']\\n\",\n",
       " \"SPAM 99 ['EGGS']\\n\",\n",
       " 'RANGE(3, 6)\\n',\n",
       " 'RANGE(3, 6)\\n',\n",
       " '1 2 3 [4]\\n',\n",
       " '1 2 3 4 []\\n',\n",
       " '1 2 3 4 []\\n',\n",
       " '1 2 3 3 4\\n',\n",
       " 'RANGE(3, 6)\\n',\n",
       " 'NONE\\n',\n",
       " '\\n',\n",
       " \"SPAM 99 ['EGGS']\\n\",\n",
       " \"SPAM99['EGGS']\\n\",\n",
       " \"SPAM,99,['EGGS']\\n\",\n",
       " \"SPAM 99 ['EGGS']SPAM 99 ['EGGS']SPAM 99 ['EGGS']\\n\",\n",
       " \"SPAM 99 ['EGGS']...\\n\",\n",
       " \"SPAM...99...['EGGS']!\\n\",\n",
       " \"SPAM...99...['EGGS']!\\n\",\n",
       " \"SPAM...99...['EGGS']\\n\",\n",
       " '\\n',\n",
       " 'RESULT: 3.1416, 00042\\n',\n",
       " 'RESULT: 3.1416, 00042\\n',\n",
       " \"SPAM 99 ['EGGS']\\n\",\n",
       " \"SPAM 99 ['EGGS']\\n\",\n",
       " \"SPAM 99 ['EGGS']\\n\",\n",
       " 'RANGE(3, 6)\\n',\n",
       " '[1, 2, 3, 3, 4, 5]\\n',\n",
       " '1 2 3 [4]\\n',\n",
       " '1 2 3 4 []\\n',\n",
       " '1 2 3 4 []\\n',\n",
       " '1 2 3 3 4\\n',\n",
       " 'NONE\\n',\n",
       " '\\n',\n",
       " \"SPAM 99 ['EGGS']\\n\",\n",
       " \"SPAM99['EGGS']\\n\",\n",
       " \"SPAM,99,['EGGS']\\n\",\n",
       " \"SPAM 99 ['EGGS']SPAM 99 ['EGGS']SPAM 99 ['EGGS']\\n\",\n",
       " \"SPAM 99 ['EGGS']...\\n\",\n",
       " \"SPAM...99...['EGGS']!\\n\",\n",
       " \"SPAM...99...['EGGS']!\\n\",\n",
       " \"SPAM...99...['EGGS']\\n\",\n",
       " '\\n',\n",
       " 'RESULT: 3.1416, 00042\\n',\n",
       " 'RESULT: 3.1416, 00042\\n',\n",
       " \"SPAM 99 ['EGGS']\\n\",\n",
       " \"SPAM 99 ['EGGS']\\n\",\n",
       " \"SPAM 99 ['EGGS']\\n\",\n",
       " 'RANGE(3, 6)\\n',\n",
       " '1 2 3 [4]\\n',\n",
       " '1 2 3 4 []\\n',\n",
       " '1 2 3 4 []\\n',\n",
       " '1 2 3 3 4\\n',\n",
       " 'NONE\\n',\n",
       " '\\n',\n",
       " \"SPAM 99 ['EGGS']\\n\",\n",
       " \"SPAM99['EGGS']\\n\",\n",
       " \"SPAM,99,['EGGS']\\n\",\n",
       " \"SPAM 99 ['EGGS']SPAM 99 ['EGGS']SPAM 99 ['EGGS']\\n\",\n",
       " \"SPAM 99 ['EGGS']...\\n\",\n",
       " \"SPAM...99...['EGGS']!\\n\",\n",
       " \"SPAM...99...['EGGS']!\\n\",\n",
       " \"SPAM...99...['EGGS']\\n\",\n",
       " '\\n',\n",
       " 'RESULT: 3.1416, 00042\\n',\n",
       " 'RESULT: 3.1416, 00042\\n',\n",
       " \"SPAM 99 ['EGGS']\\n\",\n",
       " \"SPAM 99 ['EGGS']\\n\",\n",
       " \"SPAM 99 ['EGGS']\\n\",\n",
       " \"SPAM 99 ['EGGS']\\n\",\n",
       " \"SPAM 99 ['EGGS']\\n\",\n",
       " \"SPAM 99 ['EGGS']\\n\",\n",
       " \"SPAM 99 ['EGGS']\\n\"]"
      ]
     },
     "execution_count": 347,
     "metadata": {},
     "output_type": "execute_result"
    }
   ],
   "source": [
    "[line.upper() for line in open('log.txt')]"
   ]
  },
  {
   "cell_type": "code",
   "execution_count": 348,
   "metadata": {},
   "outputs": [
    {
     "data": {
      "text/plain": [
       "[\"SPAM 99 ['EGGS']\",\n",
       " \"SPAM 99 ['EGGS']\",\n",
       " \"SPAM 99 ['EGGS']\",\n",
       " \"SPAM 99 ['EGGS']\",\n",
       " \"SPAM 99 ['EGGS']\",\n",
       " '1 2 3 [4]',\n",
       " '1 2 3 4 []',\n",
       " '1 2 3 4 []',\n",
       " '1 2 3 [4]',\n",
       " '1 2 3 4 []',\n",
       " '1 2 3 4 []',\n",
       " '1 2 3 3 4',\n",
       " 'NONE',\n",
       " '',\n",
       " \"SPAM 99 ['EGGS']\",\n",
       " \"SPAM99['EGGS']\",\n",
       " \"SPAM,99,['EGGS']\",\n",
       " \"SPAM 99 ['EGGS']SPAM 99 ['EGGS']SPAM 99 ['EGGS']\",\n",
       " \"SPAM 99 ['EGGS']...\",\n",
       " \"SPAM...99...['EGGS']!\",\n",
       " \"SPAM...99...['EGGS']!\",\n",
       " \"SPAM...99...['EGGS']\",\n",
       " '',\n",
       " 'RESULT: 3.1416, 00042',\n",
       " 'RESULT: 3.1416, 00042',\n",
       " \"SPAM 99 ['EGGS']\",\n",
       " \"SPAM 99 ['EGGS']\",\n",
       " \"SPAM 99 ['EGGS']\",\n",
       " 'RANGE(3, 6)',\n",
       " 'RANGE(3, 6)',\n",
       " '1 2 3 [4]',\n",
       " '1 2 3 4 []',\n",
       " '1 2 3 4 []',\n",
       " '1 2 3 3 4',\n",
       " 'RANGE(3, 6)',\n",
       " 'NONE',\n",
       " '',\n",
       " \"SPAM 99 ['EGGS']\",\n",
       " \"SPAM99['EGGS']\",\n",
       " \"SPAM,99,['EGGS']\",\n",
       " \"SPAM 99 ['EGGS']SPAM 99 ['EGGS']SPAM 99 ['EGGS']\",\n",
       " \"SPAM 99 ['EGGS']...\",\n",
       " \"SPAM...99...['EGGS']!\",\n",
       " \"SPAM...99...['EGGS']!\",\n",
       " \"SPAM...99...['EGGS']\",\n",
       " '',\n",
       " 'RESULT: 3.1416, 00042',\n",
       " 'RESULT: 3.1416, 00042',\n",
       " \"SPAM 99 ['EGGS']\",\n",
       " \"SPAM 99 ['EGGS']\",\n",
       " \"SPAM 99 ['EGGS']\",\n",
       " 'RANGE(3, 6)',\n",
       " '[1, 2, 3, 3, 4, 5]',\n",
       " '1 2 3 [4]',\n",
       " '1 2 3 4 []',\n",
       " '1 2 3 4 []',\n",
       " '1 2 3 3 4',\n",
       " 'NONE',\n",
       " '',\n",
       " \"SPAM 99 ['EGGS']\",\n",
       " \"SPAM99['EGGS']\",\n",
       " \"SPAM,99,['EGGS']\",\n",
       " \"SPAM 99 ['EGGS']SPAM 99 ['EGGS']SPAM 99 ['EGGS']\",\n",
       " \"SPAM 99 ['EGGS']...\",\n",
       " \"SPAM...99...['EGGS']!\",\n",
       " \"SPAM...99...['EGGS']!\",\n",
       " \"SPAM...99...['EGGS']\",\n",
       " '',\n",
       " 'RESULT: 3.1416, 00042',\n",
       " 'RESULT: 3.1416, 00042',\n",
       " \"SPAM 99 ['EGGS']\",\n",
       " \"SPAM 99 ['EGGS']\",\n",
       " \"SPAM 99 ['EGGS']\",\n",
       " 'RANGE(3, 6)',\n",
       " '1 2 3 [4]',\n",
       " '1 2 3 4 []',\n",
       " '1 2 3 4 []',\n",
       " '1 2 3 3 4',\n",
       " 'NONE',\n",
       " '',\n",
       " \"SPAM 99 ['EGGS']\",\n",
       " \"SPAM99['EGGS']\",\n",
       " \"SPAM,99,['EGGS']\",\n",
       " \"SPAM 99 ['EGGS']SPAM 99 ['EGGS']SPAM 99 ['EGGS']\",\n",
       " \"SPAM 99 ['EGGS']...\",\n",
       " \"SPAM...99...['EGGS']!\",\n",
       " \"SPAM...99...['EGGS']!\",\n",
       " \"SPAM...99...['EGGS']\",\n",
       " '',\n",
       " 'RESULT: 3.1416, 00042',\n",
       " 'RESULT: 3.1416, 00042',\n",
       " \"SPAM 99 ['EGGS']\",\n",
       " \"SPAM 99 ['EGGS']\",\n",
       " \"SPAM 99 ['EGGS']\",\n",
       " \"SPAM 99 ['EGGS']\",\n",
       " \"SPAM 99 ['EGGS']\",\n",
       " \"SPAM 99 ['EGGS']\",\n",
       " \"SPAM 99 ['EGGS']\"]"
      ]
     },
     "execution_count": 348,
     "metadata": {},
     "output_type": "execute_result"
    }
   ],
   "source": [
    "[line.rstrip().upper() for line in open('log.txt')]"
   ]
  },
  {
   "cell_type": "code",
   "execution_count": 349,
   "metadata": {},
   "outputs": [
    {
     "data": {
      "text/plain": [
       "[['spam', '99', \"['eggs']\"],\n",
       " ['spam', '99', \"['eggs']\"],\n",
       " ['spam', '99', \"['eggs']\"],\n",
       " ['spam', '99', \"['eggs']\"],\n",
       " ['spam', '99', \"['eggs']\"],\n",
       " ['1', '2', '3', '[4]'],\n",
       " ['1', '2', '3', '4', '[]'],\n",
       " ['1', '2', '3', '4', '[]'],\n",
       " ['1', '2', '3', '[4]'],\n",
       " ['1', '2', '3', '4', '[]'],\n",
       " ['1', '2', '3', '4', '[]'],\n",
       " ['1', '2', '3', '3', '4'],\n",
       " ['None'],\n",
       " [],\n",
       " ['spam', '99', \"['eggs']\"],\n",
       " [\"spam99['eggs']\"],\n",
       " [\"spam,99,['eggs']\"],\n",
       " ['spam', '99', \"['eggs']spam\", '99', \"['eggs']spam\", '99', \"['eggs']\"],\n",
       " ['spam', '99', \"['eggs']...\"],\n",
       " [\"spam...99...['eggs']!\"],\n",
       " [\"spam...99...['eggs']!\"],\n",
       " [\"spam...99...['eggs']\"],\n",
       " [],\n",
       " ['Result:', '3.1416,', '00042'],\n",
       " ['Result:', '3.1416,', '00042'],\n",
       " ['spam', '99', \"['eggs']\"],\n",
       " ['spam', '99', \"['eggs']\"],\n",
       " ['spam', '99', \"['eggs']\"],\n",
       " ['range(3,', '6)'],\n",
       " ['range(3,', '6)'],\n",
       " ['1', '2', '3', '[4]'],\n",
       " ['1', '2', '3', '4', '[]'],\n",
       " ['1', '2', '3', '4', '[]'],\n",
       " ['1', '2', '3', '3', '4'],\n",
       " ['range(3,', '6)'],\n",
       " ['None'],\n",
       " [],\n",
       " ['spam', '99', \"['eggs']\"],\n",
       " [\"spam99['eggs']\"],\n",
       " [\"spam,99,['eggs']\"],\n",
       " ['spam', '99', \"['eggs']spam\", '99', \"['eggs']spam\", '99', \"['eggs']\"],\n",
       " ['spam', '99', \"['eggs']...\"],\n",
       " [\"spam...99...['eggs']!\"],\n",
       " [\"spam...99...['eggs']!\"],\n",
       " [\"spam...99...['eggs']\"],\n",
       " [],\n",
       " ['Result:', '3.1416,', '00042'],\n",
       " ['Result:', '3.1416,', '00042'],\n",
       " ['spam', '99', \"['eggs']\"],\n",
       " ['spam', '99', \"['eggs']\"],\n",
       " ['spam', '99', \"['eggs']\"],\n",
       " ['range(3,', '6)'],\n",
       " ['[1,', '2,', '3,', '3,', '4,', '5]'],\n",
       " ['1', '2', '3', '[4]'],\n",
       " ['1', '2', '3', '4', '[]'],\n",
       " ['1', '2', '3', '4', '[]'],\n",
       " ['1', '2', '3', '3', '4'],\n",
       " ['None'],\n",
       " [],\n",
       " ['spam', '99', \"['eggs']\"],\n",
       " [\"spam99['eggs']\"],\n",
       " [\"spam,99,['eggs']\"],\n",
       " ['spam', '99', \"['eggs']spam\", '99', \"['eggs']spam\", '99', \"['eggs']\"],\n",
       " ['spam', '99', \"['eggs']...\"],\n",
       " [\"spam...99...['eggs']!\"],\n",
       " [\"spam...99...['eggs']!\"],\n",
       " [\"spam...99...['eggs']\"],\n",
       " [],\n",
       " ['Result:', '3.1416,', '00042'],\n",
       " ['Result:', '3.1416,', '00042'],\n",
       " ['spam', '99', \"['eggs']\"],\n",
       " ['spam', '99', \"['eggs']\"],\n",
       " ['spam', '99', \"['eggs']\"],\n",
       " ['range(3,', '6)'],\n",
       " ['1', '2', '3', '[4]'],\n",
       " ['1', '2', '3', '4', '[]'],\n",
       " ['1', '2', '3', '4', '[]'],\n",
       " ['1', '2', '3', '3', '4'],\n",
       " ['None'],\n",
       " [],\n",
       " ['spam', '99', \"['eggs']\"],\n",
       " [\"spam99['eggs']\"],\n",
       " [\"spam,99,['eggs']\"],\n",
       " ['spam', '99', \"['eggs']spam\", '99', \"['eggs']spam\", '99', \"['eggs']\"],\n",
       " ['spam', '99', \"['eggs']...\"],\n",
       " [\"spam...99...['eggs']!\"],\n",
       " [\"spam...99...['eggs']!\"],\n",
       " [\"spam...99...['eggs']\"],\n",
       " [],\n",
       " ['Result:', '3.1416,', '00042'],\n",
       " ['Result:', '3.1416,', '00042'],\n",
       " ['spam', '99', \"['eggs']\"],\n",
       " ['spam', '99', \"['eggs']\"],\n",
       " ['spam', '99', \"['eggs']\"],\n",
       " ['spam', '99', \"['eggs']\"],\n",
       " ['spam', '99', \"['eggs']\"],\n",
       " ['spam', '99', \"['eggs']\"],\n",
       " ['spam', '99', \"['eggs']\"]]"
      ]
     },
     "execution_count": 349,
     "metadata": {},
     "output_type": "execute_result"
    }
   ],
   "source": [
    "[line.split() for line in open('log.txt')]"
   ]
  },
  {
   "cell_type": "code",
   "execution_count": 350,
   "metadata": {},
   "outputs": [
    {
     "data": {
      "text/plain": [
       "[\"spam!99!['eggs']\\n\",\n",
       " \"spam!99!['eggs']\\n\",\n",
       " \"spam!99!['eggs']\\n\",\n",
       " \"spam!99!['eggs']\\n\",\n",
       " \"spam!99!['eggs']\\n\",\n",
       " '1!2!3![4]\\n',\n",
       " '1!2!3!4![]\\n',\n",
       " '1!2!3!4![]\\n',\n",
       " '1!2!3![4]\\n',\n",
       " '1!2!3!4![]\\n',\n",
       " '1!2!3!4![]\\n',\n",
       " '1!2!3!3!4\\n',\n",
       " 'None\\n',\n",
       " '\\n',\n",
       " \"spam!99!['eggs']\\n\",\n",
       " \"spam99['eggs']\\n\",\n",
       " \"spam,99,['eggs']\\n\",\n",
       " \"spam!99!['eggs']spam!99!['eggs']spam!99!['eggs']\\n\",\n",
       " \"spam!99!['eggs']...\\n\",\n",
       " \"spam...99...['eggs']!\\n\",\n",
       " \"spam...99...['eggs']!\\n\",\n",
       " \"spam...99...['eggs']\\n\",\n",
       " '\\n',\n",
       " 'Result:!3.1416,!00042\\n',\n",
       " 'Result:!3.1416,!00042\\n',\n",
       " \"spam!99!['eggs']\\n\",\n",
       " \"spam!99!['eggs']\\n\",\n",
       " \"spam!99!['eggs']\\n\",\n",
       " 'range(3,!6)\\n',\n",
       " 'range(3,!6)\\n',\n",
       " '1!2!3![4]\\n',\n",
       " '1!2!3!4![]\\n',\n",
       " '1!2!3!4![]\\n',\n",
       " '1!2!3!3!4\\n',\n",
       " 'range(3,!6)\\n',\n",
       " 'None\\n',\n",
       " '\\n',\n",
       " \"spam!99!['eggs']\\n\",\n",
       " \"spam99['eggs']\\n\",\n",
       " \"spam,99,['eggs']\\n\",\n",
       " \"spam!99!['eggs']spam!99!['eggs']spam!99!['eggs']\\n\",\n",
       " \"spam!99!['eggs']...\\n\",\n",
       " \"spam...99...['eggs']!\\n\",\n",
       " \"spam...99...['eggs']!\\n\",\n",
       " \"spam...99...['eggs']\\n\",\n",
       " '\\n',\n",
       " 'Result:!3.1416,!00042\\n',\n",
       " 'Result:!3.1416,!00042\\n',\n",
       " \"spam!99!['eggs']\\n\",\n",
       " \"spam!99!['eggs']\\n\",\n",
       " \"spam!99!['eggs']\\n\",\n",
       " 'range(3,!6)\\n',\n",
       " '[1,!2,!3,!3,!4,!5]\\n',\n",
       " '1!2!3![4]\\n',\n",
       " '1!2!3!4![]\\n',\n",
       " '1!2!3!4![]\\n',\n",
       " '1!2!3!3!4\\n',\n",
       " 'None\\n',\n",
       " '\\n',\n",
       " \"spam!99!['eggs']\\n\",\n",
       " \"spam99['eggs']\\n\",\n",
       " \"spam,99,['eggs']\\n\",\n",
       " \"spam!99!['eggs']spam!99!['eggs']spam!99!['eggs']\\n\",\n",
       " \"spam!99!['eggs']...\\n\",\n",
       " \"spam...99...['eggs']!\\n\",\n",
       " \"spam...99...['eggs']!\\n\",\n",
       " \"spam...99...['eggs']\\n\",\n",
       " '\\n',\n",
       " 'Result:!3.1416,!00042\\n',\n",
       " 'Result:!3.1416,!00042\\n',\n",
       " \"spam!99!['eggs']\\n\",\n",
       " \"spam!99!['eggs']\\n\",\n",
       " \"spam!99!['eggs']\\n\",\n",
       " 'range(3,!6)\\n',\n",
       " '1!2!3![4]\\n',\n",
       " '1!2!3!4![]\\n',\n",
       " '1!2!3!4![]\\n',\n",
       " '1!2!3!3!4\\n',\n",
       " 'None\\n',\n",
       " '\\n',\n",
       " \"spam!99!['eggs']\\n\",\n",
       " \"spam99['eggs']\\n\",\n",
       " \"spam,99,['eggs']\\n\",\n",
       " \"spam!99!['eggs']spam!99!['eggs']spam!99!['eggs']\\n\",\n",
       " \"spam!99!['eggs']...\\n\",\n",
       " \"spam...99...['eggs']!\\n\",\n",
       " \"spam...99...['eggs']!\\n\",\n",
       " \"spam...99...['eggs']\\n\",\n",
       " '\\n',\n",
       " 'Result:!3.1416,!00042\\n',\n",
       " 'Result:!3.1416,!00042\\n',\n",
       " \"spam!99!['eggs']\\n\",\n",
       " \"spam!99!['eggs']\\n\",\n",
       " \"spam!99!['eggs']\\n\",\n",
       " \"spam!99!['eggs']\\n\",\n",
       " \"spam!99!['eggs']\\n\",\n",
       " \"spam!99!['eggs']\\n\",\n",
       " \"spam!99!['eggs']\\n\"]"
      ]
     },
     "execution_count": 350,
     "metadata": {},
     "output_type": "execute_result"
    }
   ],
   "source": [
    "[line.replace(' ', '!') for line in open('log.txt')]"
   ]
  },
  {
   "cell_type": "markdown",
   "metadata": {},
   "source": [
    "## 2.3 扩展的列表解析语法  \n",
    "**过滤语句：if**  \n",
    "表达式中嵌套的 for 循环可以有一个相关的 if 子句，来过滤那些测试不为真的结果项："
   ]
  },
  {
   "cell_type": "code",
   "execution_count": 351,
   "metadata": {},
   "outputs": [
    {
     "data": {
      "text/plain": [
       "[12, 14, 16]"
      ]
     },
     "execution_count": 351,
     "metadata": {},
     "output_type": "execute_result"
    }
   ],
   "source": [
    "L = [1, 2, 3, 4, 5, 6]\n",
    "ls = [x + 10 for x in L if x % 2 == 0]\n",
    "ls"
   ]
  },
  {
   "cell_type": "markdown",
   "metadata": {},
   "source": [
    "**嵌套循环：for**  \n",
    "列表解析的完整语法允许任意数目的 for 子句，每个子句有一个可选的相关的 if 子句："
   ]
  },
  {
   "cell_type": "code",
   "execution_count": 352,
   "metadata": {},
   "outputs": [
    {
     "data": {
      "text/plain": [
       "['al', 'am', 'an', 'bl', 'bm', 'bn', 'cl', 'cm', 'cn']"
      ]
     },
     "execution_count": 352,
     "metadata": {},
     "output_type": "execute_result"
    }
   ],
   "source": [
    "[x + y for x in 'abc' for y in 'lmn']"
   ]
  },
  {
   "cell_type": "markdown",
   "metadata": {},
   "source": [
    "下面是其等价形式，但可能会更慢一些："
   ]
  },
  {
   "cell_type": "code",
   "execution_count": 353,
   "metadata": {},
   "outputs": [
    {
     "data": {
      "text/plain": [
       "['al', 'am', 'an', 'bl', 'bm', 'bn', 'cl', 'cm', 'cn']"
      ]
     },
     "execution_count": 353,
     "metadata": {},
     "output_type": "execute_result"
    }
   ],
   "source": [
    "res = []\n",
    "for x in 'abc':\n",
    "    for y in 'lmn':\n",
    "        res.append(x + y)\n",
    "res"
   ]
  },
  {
   "cell_type": "markdown",
   "metadata": {},
   "source": [
    "# 3. 其他迭代环境  \n",
    "实现了迭代协议的任何工具，都能够在提供了该工具的任何内置类型或用户定义的类上自动地工作。  \n",
    "在对象中从左到右扫描的每种工具都使用了迭代协议，这包括我们介绍过的 for 循环。  \n",
    "\n",
    "列表解析和 map 内置函数都使用了和 for 循环相同的协议。当应用于文件对象时，所有这些使用文件对象的迭代器都自动地按行扫描。  \n",
    "\n",
    "Python 还包含了各种处理迭代的其他内置函数：sorted 排序可迭代对象中的各项，zip 组合可迭代对象中的各项，enumerate 根据相对位置来配对可迭代对象中的项，filter 选择一个函数为真的项，reduce 针对可迭代对象中的成对的项运行一个函数。所有这些都接受一个可迭代的对象，在 Python 3.X 中，zip、enumerate 和 filter 也像 map 一样返回一个可迭代对象。它们实际运行文件的迭代器会自动地按行扫描。  \n",
    "\n",
    "本质上，Python 的内置工具集中从左到右扫描一个对象的每项工具，都定义为在主体对象上使用了迭代协议。甚至包括 list 和 tuple 内置函数，和字符串 join 方法。  \n",
    "\n",
    "甚至一些你可能没有想到的工具也属于这一类。例如，序列赋值、in 成员关系测试、分片赋值和列表的 extend 方法也利用迭代协议进行扫描，从而自动逐行读取文件:"
   ]
  },
  {
   "cell_type": "code",
   "execution_count": 354,
   "metadata": {},
   "outputs": [
    {
     "name": "stdout",
     "output_type": "stream",
     "text": [
      "too many values to unpack (expected 3)\n"
     ]
    }
   ],
   "source": [
    "try :\n",
    "    a, b, c = open('log.txt')\n",
    "    a, b\n",
    "except ValueError as e:\n",
    "    print(e)"
   ]
  },
  {
   "cell_type": "code",
   "execution_count": 355,
   "metadata": {},
   "outputs": [
    {
     "data": {
      "text/plain": [
       "False"
      ]
     },
     "execution_count": 355,
     "metadata": {},
     "output_type": "execute_result"
    }
   ],
   "source": [
    "'spam' in open('log.txt')"
   ]
  },
  {
   "cell_type": "code",
   "execution_count": 356,
   "metadata": {},
   "outputs": [
    {
     "data": {
      "text/plain": [
       "[1,\n",
       " \"spam 99 ['eggs']\\n\",\n",
       " \"spam 99 ['eggs']\\n\",\n",
       " \"spam 99 ['eggs']\\n\",\n",
       " \"spam 99 ['eggs']\\n\",\n",
       " \"spam 99 ['eggs']\\n\",\n",
       " '1 2 3 [4]\\n',\n",
       " '1 2 3 4 []\\n',\n",
       " '1 2 3 4 []\\n',\n",
       " '1 2 3 [4]\\n',\n",
       " '1 2 3 4 []\\n',\n",
       " '1 2 3 4 []\\n',\n",
       " '1 2 3 3 4\\n',\n",
       " 'None\\n',\n",
       " '\\n',\n",
       " \"spam 99 ['eggs']\\n\",\n",
       " \"spam99['eggs']\\n\",\n",
       " \"spam,99,['eggs']\\n\",\n",
       " \"spam 99 ['eggs']spam 99 ['eggs']spam 99 ['eggs']\\n\",\n",
       " \"spam 99 ['eggs']...\\n\",\n",
       " \"spam...99...['eggs']!\\n\",\n",
       " \"spam...99...['eggs']!\\n\",\n",
       " \"spam...99...['eggs']\\n\",\n",
       " '\\n',\n",
       " 'Result: 3.1416, 00042\\n',\n",
       " 'Result: 3.1416, 00042\\n',\n",
       " \"spam 99 ['eggs']\\n\",\n",
       " \"spam 99 ['eggs']\\n\",\n",
       " \"spam 99 ['eggs']\\n\",\n",
       " 'range(3, 6)\\n',\n",
       " 'range(3, 6)\\n',\n",
       " '1 2 3 [4]\\n',\n",
       " '1 2 3 4 []\\n',\n",
       " '1 2 3 4 []\\n',\n",
       " '1 2 3 3 4\\n',\n",
       " 'range(3, 6)\\n',\n",
       " 'None\\n',\n",
       " '\\n',\n",
       " \"spam 99 ['eggs']\\n\",\n",
       " \"spam99['eggs']\\n\",\n",
       " \"spam,99,['eggs']\\n\",\n",
       " \"spam 99 ['eggs']spam 99 ['eggs']spam 99 ['eggs']\\n\",\n",
       " \"spam 99 ['eggs']...\\n\",\n",
       " \"spam...99...['eggs']!\\n\",\n",
       " \"spam...99...['eggs']!\\n\",\n",
       " \"spam...99...['eggs']\\n\",\n",
       " '\\n',\n",
       " 'Result: 3.1416, 00042\\n',\n",
       " 'Result: 3.1416, 00042\\n',\n",
       " \"spam 99 ['eggs']\\n\",\n",
       " \"spam 99 ['eggs']\\n\",\n",
       " \"spam 99 ['eggs']\\n\",\n",
       " 'range(3, 6)\\n',\n",
       " '[1, 2, 3, 3, 4, 5]\\n',\n",
       " '1 2 3 [4]\\n',\n",
       " '1 2 3 4 []\\n',\n",
       " '1 2 3 4 []\\n',\n",
       " '1 2 3 3 4\\n',\n",
       " 'None\\n',\n",
       " '\\n',\n",
       " \"spam 99 ['eggs']\\n\",\n",
       " \"spam99['eggs']\\n\",\n",
       " \"spam,99,['eggs']\\n\",\n",
       " \"spam 99 ['eggs']spam 99 ['eggs']spam 99 ['eggs']\\n\",\n",
       " \"spam 99 ['eggs']...\\n\",\n",
       " \"spam...99...['eggs']!\\n\",\n",
       " \"spam...99...['eggs']!\\n\",\n",
       " \"spam...99...['eggs']\\n\",\n",
       " '\\n',\n",
       " 'Result: 3.1416, 00042\\n',\n",
       " 'Result: 3.1416, 00042\\n',\n",
       " \"spam 99 ['eggs']\\n\",\n",
       " \"spam 99 ['eggs']\\n\",\n",
       " \"spam 99 ['eggs']\\n\",\n",
       " 'range(3, 6)\\n',\n",
       " '1 2 3 [4]\\n',\n",
       " '1 2 3 4 []\\n',\n",
       " '1 2 3 4 []\\n',\n",
       " '1 2 3 3 4\\n',\n",
       " 'None\\n',\n",
       " '\\n',\n",
       " \"spam 99 ['eggs']\\n\",\n",
       " \"spam99['eggs']\\n\",\n",
       " \"spam,99,['eggs']\\n\",\n",
       " \"spam 99 ['eggs']spam 99 ['eggs']spam 99 ['eggs']\\n\",\n",
       " \"spam 99 ['eggs']...\\n\",\n",
       " \"spam...99...['eggs']!\\n\",\n",
       " \"spam...99...['eggs']!\\n\",\n",
       " \"spam...99...['eggs']\\n\",\n",
       " '\\n',\n",
       " 'Result: 3.1416, 00042\\n',\n",
       " 'Result: 3.1416, 00042\\n',\n",
       " \"spam 99 ['eggs']\\n\",\n",
       " \"spam 99 ['eggs']\\n\",\n",
       " \"spam 99 ['eggs']\\n\",\n",
       " \"spam 99 ['eggs']\\n\",\n",
       " \"spam 99 ['eggs']\\n\",\n",
       " \"spam 99 ['eggs']\\n\",\n",
       " \"spam 99 ['eggs']\\n\",\n",
       " 4]"
      ]
     },
     "execution_count": 356,
     "metadata": {},
     "output_type": "execute_result"
    }
   ],
   "source": [
    "L = [1, 2, 3, 4]\n",
    "L[1:3] = open('log.txt')\n",
    "L"
   ]
  },
  {
   "cell_type": "code",
   "execution_count": 357,
   "metadata": {},
   "outputs": [
    {
     "data": {
      "text/plain": [
       "[1,\n",
       " \"spam 99 ['eggs']\\n\",\n",
       " \"spam 99 ['eggs']\\n\",\n",
       " \"spam 99 ['eggs']\\n\",\n",
       " \"spam 99 ['eggs']\\n\",\n",
       " \"spam 99 ['eggs']\\n\",\n",
       " '1 2 3 [4]\\n',\n",
       " '1 2 3 4 []\\n',\n",
       " '1 2 3 4 []\\n',\n",
       " '1 2 3 [4]\\n',\n",
       " '1 2 3 4 []\\n',\n",
       " '1 2 3 4 []\\n',\n",
       " '1 2 3 3 4\\n',\n",
       " 'None\\n',\n",
       " '\\n',\n",
       " \"spam 99 ['eggs']\\n\",\n",
       " \"spam99['eggs']\\n\",\n",
       " \"spam,99,['eggs']\\n\",\n",
       " \"spam 99 ['eggs']spam 99 ['eggs']spam 99 ['eggs']\\n\",\n",
       " \"spam 99 ['eggs']...\\n\",\n",
       " \"spam...99...['eggs']!\\n\",\n",
       " \"spam...99...['eggs']!\\n\",\n",
       " \"spam...99...['eggs']\\n\",\n",
       " '\\n',\n",
       " 'Result: 3.1416, 00042\\n',\n",
       " 'Result: 3.1416, 00042\\n',\n",
       " \"spam 99 ['eggs']\\n\",\n",
       " \"spam 99 ['eggs']\\n\",\n",
       " \"spam 99 ['eggs']\\n\",\n",
       " 'range(3, 6)\\n',\n",
       " 'range(3, 6)\\n',\n",
       " '1 2 3 [4]\\n',\n",
       " '1 2 3 4 []\\n',\n",
       " '1 2 3 4 []\\n',\n",
       " '1 2 3 3 4\\n',\n",
       " 'range(3, 6)\\n',\n",
       " 'None\\n',\n",
       " '\\n',\n",
       " \"spam 99 ['eggs']\\n\",\n",
       " \"spam99['eggs']\\n\",\n",
       " \"spam,99,['eggs']\\n\",\n",
       " \"spam 99 ['eggs']spam 99 ['eggs']spam 99 ['eggs']\\n\",\n",
       " \"spam 99 ['eggs']...\\n\",\n",
       " \"spam...99...['eggs']!\\n\",\n",
       " \"spam...99...['eggs']!\\n\",\n",
       " \"spam...99...['eggs']\\n\",\n",
       " '\\n',\n",
       " 'Result: 3.1416, 00042\\n',\n",
       " 'Result: 3.1416, 00042\\n',\n",
       " \"spam 99 ['eggs']\\n\",\n",
       " \"spam 99 ['eggs']\\n\",\n",
       " \"spam 99 ['eggs']\\n\",\n",
       " 'range(3, 6)\\n',\n",
       " '[1, 2, 3, 3, 4, 5]\\n',\n",
       " '1 2 3 [4]\\n',\n",
       " '1 2 3 4 []\\n',\n",
       " '1 2 3 4 []\\n',\n",
       " '1 2 3 3 4\\n',\n",
       " 'None\\n',\n",
       " '\\n',\n",
       " \"spam 99 ['eggs']\\n\",\n",
       " \"spam99['eggs']\\n\",\n",
       " \"spam,99,['eggs']\\n\",\n",
       " \"spam 99 ['eggs']spam 99 ['eggs']spam 99 ['eggs']\\n\",\n",
       " \"spam 99 ['eggs']...\\n\",\n",
       " \"spam...99...['eggs']!\\n\",\n",
       " \"spam...99...['eggs']!\\n\",\n",
       " \"spam...99...['eggs']\\n\",\n",
       " '\\n',\n",
       " 'Result: 3.1416, 00042\\n',\n",
       " 'Result: 3.1416, 00042\\n',\n",
       " \"spam 99 ['eggs']\\n\",\n",
       " \"spam 99 ['eggs']\\n\",\n",
       " \"spam 99 ['eggs']\\n\",\n",
       " 'range(3, 6)\\n',\n",
       " '1 2 3 [4]\\n',\n",
       " '1 2 3 4 []\\n',\n",
       " '1 2 3 4 []\\n',\n",
       " '1 2 3 3 4\\n',\n",
       " 'None\\n',\n",
       " '\\n',\n",
       " \"spam 99 ['eggs']\\n\",\n",
       " \"spam99['eggs']\\n\",\n",
       " \"spam,99,['eggs']\\n\",\n",
       " \"spam 99 ['eggs']spam 99 ['eggs']spam 99 ['eggs']\\n\",\n",
       " \"spam 99 ['eggs']...\\n\",\n",
       " \"spam...99...['eggs']!\\n\",\n",
       " \"spam...99...['eggs']!\\n\",\n",
       " \"spam...99...['eggs']\\n\",\n",
       " '\\n',\n",
       " 'Result: 3.1416, 00042\\n',\n",
       " 'Result: 3.1416, 00042\\n',\n",
       " \"spam 99 ['eggs']\\n\",\n",
       " \"spam 99 ['eggs']\\n\",\n",
       " \"spam 99 ['eggs']\\n\",\n",
       " \"spam 99 ['eggs']\\n\",\n",
       " \"spam 99 ['eggs']\\n\",\n",
       " \"spam 99 ['eggs']\\n\",\n",
       " \"spam 99 ['eggs']\\n\"]"
      ]
     },
     "execution_count": 357,
     "metadata": {},
     "output_type": "execute_result"
    }
   ],
   "source": [
    "L = [1]\n",
    "L.extend(open('log.txt'))\n",
    "L"
   ]
  },
  {
   "cell_type": "markdown",
   "metadata": {},
   "source": [
    "append 不使用后者(或类似的)在不迭代的情况下向列表中添加可迭代的对象，并可能在以后进行迭代:"
   ]
  },
  {
   "cell_type": "code",
   "execution_count": 358,
   "metadata": {},
   "outputs": [
    {
     "data": {
      "text/plain": [
       "[1, <_io.TextIOWrapper name='log.txt' mode='r' encoding='cp936'>]"
      ]
     },
     "execution_count": 358,
     "metadata": {},
     "output_type": "execute_result"
    }
   ],
   "source": [
    "L = [1]\n",
    "L.append(open('log.txt'))\n",
    "L"
   ]
  },
  {
   "cell_type": "code",
   "execution_count": 359,
   "metadata": {},
   "outputs": [
    {
     "data": {
      "text/plain": [
       "[\"spam 99 ['eggs']\\n\",\n",
       " \"spam 99 ['eggs']\\n\",\n",
       " \"spam 99 ['eggs']\\n\",\n",
       " \"spam 99 ['eggs']\\n\",\n",
       " \"spam 99 ['eggs']\\n\",\n",
       " '1 2 3 [4]\\n',\n",
       " '1 2 3 4 []\\n',\n",
       " '1 2 3 4 []\\n',\n",
       " '1 2 3 [4]\\n',\n",
       " '1 2 3 4 []\\n',\n",
       " '1 2 3 4 []\\n',\n",
       " '1 2 3 3 4\\n',\n",
       " 'None\\n',\n",
       " '\\n',\n",
       " \"spam 99 ['eggs']\\n\",\n",
       " \"spam99['eggs']\\n\",\n",
       " \"spam,99,['eggs']\\n\",\n",
       " \"spam 99 ['eggs']spam 99 ['eggs']spam 99 ['eggs']\\n\",\n",
       " \"spam 99 ['eggs']...\\n\",\n",
       " \"spam...99...['eggs']!\\n\",\n",
       " \"spam...99...['eggs']!\\n\",\n",
       " \"spam...99...['eggs']\\n\",\n",
       " '\\n',\n",
       " 'Result: 3.1416, 00042\\n',\n",
       " 'Result: 3.1416, 00042\\n',\n",
       " \"spam 99 ['eggs']\\n\",\n",
       " \"spam 99 ['eggs']\\n\",\n",
       " \"spam 99 ['eggs']\\n\",\n",
       " 'range(3, 6)\\n',\n",
       " 'range(3, 6)\\n',\n",
       " '1 2 3 [4]\\n',\n",
       " '1 2 3 4 []\\n',\n",
       " '1 2 3 4 []\\n',\n",
       " '1 2 3 3 4\\n',\n",
       " 'range(3, 6)\\n',\n",
       " 'None\\n',\n",
       " '\\n',\n",
       " \"spam 99 ['eggs']\\n\",\n",
       " \"spam99['eggs']\\n\",\n",
       " \"spam,99,['eggs']\\n\",\n",
       " \"spam 99 ['eggs']spam 99 ['eggs']spam 99 ['eggs']\\n\",\n",
       " \"spam 99 ['eggs']...\\n\",\n",
       " \"spam...99...['eggs']!\\n\",\n",
       " \"spam...99...['eggs']!\\n\",\n",
       " \"spam...99...['eggs']\\n\",\n",
       " '\\n',\n",
       " 'Result: 3.1416, 00042\\n',\n",
       " 'Result: 3.1416, 00042\\n',\n",
       " \"spam 99 ['eggs']\\n\",\n",
       " \"spam 99 ['eggs']\\n\",\n",
       " \"spam 99 ['eggs']\\n\",\n",
       " 'range(3, 6)\\n',\n",
       " '[1, 2, 3, 3, 4, 5]\\n',\n",
       " '1 2 3 [4]\\n',\n",
       " '1 2 3 4 []\\n',\n",
       " '1 2 3 4 []\\n',\n",
       " '1 2 3 3 4\\n',\n",
       " 'None\\n',\n",
       " '\\n',\n",
       " \"spam 99 ['eggs']\\n\",\n",
       " \"spam99['eggs']\\n\",\n",
       " \"spam,99,['eggs']\\n\",\n",
       " \"spam 99 ['eggs']spam 99 ['eggs']spam 99 ['eggs']\\n\",\n",
       " \"spam 99 ['eggs']...\\n\",\n",
       " \"spam...99...['eggs']!\\n\",\n",
       " \"spam...99...['eggs']!\\n\",\n",
       " \"spam...99...['eggs']\\n\",\n",
       " '\\n',\n",
       " 'Result: 3.1416, 00042\\n',\n",
       " 'Result: 3.1416, 00042\\n',\n",
       " \"spam 99 ['eggs']\\n\",\n",
       " \"spam 99 ['eggs']\\n\",\n",
       " \"spam 99 ['eggs']\\n\",\n",
       " 'range(3, 6)\\n',\n",
       " '1 2 3 [4]\\n',\n",
       " '1 2 3 4 []\\n',\n",
       " '1 2 3 4 []\\n',\n",
       " '1 2 3 3 4\\n',\n",
       " 'None\\n',\n",
       " '\\n',\n",
       " \"spam 99 ['eggs']\\n\",\n",
       " \"spam99['eggs']\\n\",\n",
       " \"spam,99,['eggs']\\n\",\n",
       " \"spam 99 ['eggs']spam 99 ['eggs']spam 99 ['eggs']\\n\",\n",
       " \"spam 99 ['eggs']...\\n\",\n",
       " \"spam...99...['eggs']!\\n\",\n",
       " \"spam...99...['eggs']!\\n\",\n",
       " \"spam...99...['eggs']\\n\",\n",
       " '\\n',\n",
       " 'Result: 3.1416, 00042\\n',\n",
       " 'Result: 3.1416, 00042\\n',\n",
       " \"spam 99 ['eggs']\\n\",\n",
       " \"spam 99 ['eggs']\\n\",\n",
       " \"spam 99 ['eggs']\\n\",\n",
       " \"spam 99 ['eggs']\\n\",\n",
       " \"spam 99 ['eggs']\\n\",\n",
       " \"spam 99 ['eggs']\\n\",\n",
       " \"spam 99 ['eggs']\\n\"]"
      ]
     },
     "execution_count": 359,
     "metadata": {},
     "output_type": "execute_result"
    }
   ],
   "source": [
    "list(L[1])"
   ]
  },
  {
   "cell_type": "markdown",
   "metadata": {},
   "source": [
    "set 调用和集合、字典解析表达式也支持迭代协议。"
   ]
  },
  {
   "cell_type": "code",
   "execution_count": 360,
   "metadata": {},
   "outputs": [
    {
     "data": {
      "text/plain": [
       "{'\\n',\n",
       " '1 2 3 3 4\\n',\n",
       " '1 2 3 4 []\\n',\n",
       " '1 2 3 [4]\\n',\n",
       " 'None\\n',\n",
       " 'Result: 3.1416, 00042\\n',\n",
       " '[1, 2, 3, 3, 4, 5]\\n',\n",
       " 'range(3, 6)\\n',\n",
       " \"spam 99 ['eggs']\\n\",\n",
       " \"spam 99 ['eggs']...\\n\",\n",
       " \"spam 99 ['eggs']spam 99 ['eggs']spam 99 ['eggs']\\n\",\n",
       " \"spam,99,['eggs']\\n\",\n",
       " \"spam...99...['eggs']\\n\",\n",
       " \"spam...99...['eggs']!\\n\",\n",
       " \"spam99['eggs']\\n\"}"
      ]
     },
     "execution_count": 360,
     "metadata": {},
     "output_type": "execute_result"
    }
   ],
   "source": [
    "set(open('log.txt'))"
   ]
  },
  {
   "cell_type": "code",
   "execution_count": 361,
   "metadata": {},
   "outputs": [
    {
     "data": {
      "text/plain": [
       "{'\\n',\n",
       " '1 2 3 3 4\\n',\n",
       " '1 2 3 4 []\\n',\n",
       " '1 2 3 [4]\\n',\n",
       " 'None\\n',\n",
       " 'Result: 3.1416, 00042\\n',\n",
       " '[1, 2, 3, 3, 4, 5]\\n',\n",
       " 'range(3, 6)\\n',\n",
       " \"spam 99 ['eggs']\\n\",\n",
       " \"spam 99 ['eggs']...\\n\",\n",
       " \"spam 99 ['eggs']spam 99 ['eggs']spam 99 ['eggs']\\n\",\n",
       " \"spam,99,['eggs']\\n\",\n",
       " \"spam...99...['eggs']\\n\",\n",
       " \"spam...99...['eggs']!\\n\",\n",
       " \"spam99['eggs']\\n\"}"
      ]
     },
     "execution_count": 361,
     "metadata": {},
     "output_type": "execute_result"
    }
   ],
   "source": [
    "{line for line in open('log.txt')}"
   ]
  },
  {
   "cell_type": "markdown",
   "metadata": {},
   "source": [
    "集合和字典解析也支持扩展的列表解析语法，包括 if 测试。  \n",
    "\n",
    "其他的内置函数也支持可迭代协议。sum 调用计算任何可迭代对象中的总数，如果一个可迭代对象中任何的或所有的项为真的时候，any 和 all 内置函数分别返回 True；max 和 min 分别返回一个可迭代对象中最大和最小的项："
   ]
  },
  {
   "cell_type": "code",
   "execution_count": 362,
   "metadata": {},
   "outputs": [
    {
     "data": {
      "text/plain": [
       "15"
      ]
     },
     "execution_count": 362,
     "metadata": {},
     "output_type": "execute_result"
    }
   ],
   "source": [
    "sum([1, 2, 3, 4, 5])"
   ]
  },
  {
   "cell_type": "code",
   "execution_count": 363,
   "metadata": {},
   "outputs": [
    {
     "data": {
      "text/plain": [
       "True"
      ]
     },
     "execution_count": 363,
     "metadata": {},
     "output_type": "execute_result"
    }
   ],
   "source": [
    "any(['spam', '', 'ni'])"
   ]
  },
  {
   "cell_type": "code",
   "execution_count": 364,
   "metadata": {},
   "outputs": [
    {
     "data": {
      "text/plain": [
       "False"
      ]
     },
     "execution_count": 364,
     "metadata": {},
     "output_type": "execute_result"
    }
   ],
   "source": [
    "all(['spam', '', 'ni'])"
   ]
  },
  {
   "cell_type": "code",
   "execution_count": 365,
   "metadata": {},
   "outputs": [
    {
     "data": {
      "text/plain": [
       "9"
      ]
     },
     "execution_count": 365,
     "metadata": {},
     "output_type": "execute_result"
    }
   ],
   "source": [
    "max([1, 5, 3, 9])"
   ]
  },
  {
   "cell_type": "code",
   "execution_count": 366,
   "metadata": {},
   "outputs": [
    {
     "data": {
      "text/plain": [
       "1"
      ]
     },
     "execution_count": 366,
     "metadata": {},
     "output_type": "execute_result"
    }
   ],
   "source": [
    "min([1, 5, 3, 9])"
   ]
  },
  {
   "cell_type": "markdown",
   "metadata": {},
   "source": [
    "严格地讲，max 和 min 函数也可以应用于文件——它们自动使用迭代协议来扫描文件，并且分别选择具有最高的和最低的字符串值的行。"
   ]
  },
  {
   "cell_type": "markdown",
   "metadata": {
    "collapsed": true
   },
   "source": [
    "# 4. Python 3.X 中的新的可迭代对象  \n",
    "## 4.1 range 迭代器  \n",
    "在 Python 3.X 中，它返回一个迭代器，该迭代器根据需要产生范围中的数字，而不是在内存中构建一个结果列表。"
   ]
  },
  {
   "cell_type": "code",
   "execution_count": 367,
   "metadata": {},
   "outputs": [
    {
     "data": {
      "text/plain": [
       "range(0, 10)"
      ]
     },
     "execution_count": 367,
     "metadata": {},
     "output_type": "execute_result"
    }
   ],
   "source": [
    "R = range(10)                    # range 返回一个迭代器，而不是一个列表\n",
    "R"
   ]
  },
  {
   "cell_type": "code",
   "execution_count": 368,
   "metadata": {},
   "outputs": [
    {
     "data": {
      "text/plain": [
       "0"
      ]
     },
     "execution_count": 368,
     "metadata": {},
     "output_type": "execute_result"
    }
   ],
   "source": [
    "I = iter(R)                      # 从 range 创造一个迭代器\n",
    "next(I)"
   ]
  },
  {
   "cell_type": "code",
   "execution_count": 369,
   "metadata": {},
   "outputs": [
    {
     "data": {
      "text/plain": [
       "1"
      ]
     },
     "execution_count": 369,
     "metadata": {},
     "output_type": "execute_result"
    }
   ],
   "source": [
    "next(I)"
   ]
  },
  {
   "cell_type": "code",
   "execution_count": 370,
   "metadata": {},
   "outputs": [
    {
     "data": {
      "text/plain": [
       "[0, 1, 2, 3, 4, 5, 6, 7, 8, 9]"
      ]
     },
     "execution_count": 370,
     "metadata": {},
     "output_type": "execute_result"
    }
   ],
   "source": [
    "list(range(10))                   # 强制一个真正的 range 列表"
   ]
  },
  {
   "cell_type": "markdown",
   "metadata": {},
   "source": [
    "range 对象只支持迭代、索引以及 len 函数，不支持任何其他的序列操作。"
   ]
  },
  {
   "cell_type": "code",
   "execution_count": 371,
   "metadata": {},
   "outputs": [
    {
     "data": {
      "text/plain": [
       "10"
      ]
     },
     "execution_count": 371,
     "metadata": {},
     "output_type": "execute_result"
    }
   ],
   "source": [
    "len(R)"
   ]
  },
  {
   "cell_type": "code",
   "execution_count": 372,
   "metadata": {},
   "outputs": [
    {
     "data": {
      "text/plain": [
       "0"
      ]
     },
     "execution_count": 372,
     "metadata": {},
     "output_type": "execute_result"
    }
   ],
   "source": [
    "R[0]"
   ]
  },
  {
   "cell_type": "code",
   "execution_count": 373,
   "metadata": {},
   "outputs": [
    {
     "data": {
      "text/plain": [
       "9"
      ]
     },
     "execution_count": 373,
     "metadata": {},
     "output_type": "execute_result"
    }
   ],
   "source": [
    "R[-1]"
   ]
  },
  {
   "cell_type": "markdown",
   "metadata": {},
   "source": [
    "## 4.2 map、zip 和 filter 迭代器  \n",
    "map、zip 和 filter 内置函数在 Python 3.X 中也转变成迭代器以节约内存空间。  \n",
    "\n",
    "和 range 不同，它们都是自己的迭代器——在遍历其结果一次之后，它们就用尽了。换句话说，就是不能在它们的结果上拥有保持不同位置的多个迭代器。"
   ]
  },
  {
   "cell_type": "code",
   "execution_count": 374,
   "metadata": {},
   "outputs": [
    {
     "data": {
      "text/plain": [
       "<map at 0x19e7e0f74c0>"
      ]
     },
     "execution_count": 374,
     "metadata": {},
     "output_type": "execute_result"
    }
   ],
   "source": [
    "M = map(abs, (-1, 0, 1))             # map 返回一个迭代器\n",
    "M"
   ]
  },
  {
   "cell_type": "code",
   "execution_count": 375,
   "metadata": {},
   "outputs": [
    {
     "data": {
      "text/plain": [
       "1"
      ]
     },
     "execution_count": 375,
     "metadata": {},
     "output_type": "execute_result"
    }
   ],
   "source": [
    "next(M)                               # 手动使用迭代器：用尽结果，不支持 len 或索引"
   ]
  },
  {
   "cell_type": "code",
   "execution_count": 376,
   "metadata": {},
   "outputs": [
    {
     "data": {
      "text/plain": [
       "0"
      ]
     },
     "execution_count": 376,
     "metadata": {},
     "output_type": "execute_result"
    }
   ],
   "source": [
    "next(M)"
   ]
  },
  {
   "cell_type": "code",
   "execution_count": 377,
   "metadata": {},
   "outputs": [
    {
     "data": {
      "text/plain": [
       "1"
      ]
     },
     "execution_count": 377,
     "metadata": {},
     "output_type": "execute_result"
    }
   ],
   "source": [
    "next(M)"
   ]
  },
  {
   "cell_type": "code",
   "execution_count": 378,
   "metadata": {},
   "outputs": [
    {
     "name": "stdout",
     "output_type": "stream",
     "text": [
      "\n"
     ]
    }
   ],
   "source": [
    "try:\n",
    "    next(M)\n",
    "except StopIteration as e:\n",
    "    print(e)"
   ]
  },
  {
   "cell_type": "code",
   "execution_count": 379,
   "metadata": {},
   "outputs": [],
   "source": [
    "for x in M: print(\"None\",x)                     # map 迭代器现在为空：只能遍历一次"
   ]
  },
  {
   "cell_type": "code",
   "execution_count": 380,
   "metadata": {},
   "outputs": [
    {
     "name": "stdout",
     "output_type": "stream",
     "text": [
      "1\n",
      "0\n",
      "1\n"
     ]
    }
   ],
   "source": [
    "M = map(abs, (-1, 0, 1))                 # 创建一个新的迭代器用于再次扫描\n",
    "for x in M: print(x)                     # 迭代环境自动调用 next()"
   ]
  },
  {
   "cell_type": "markdown",
   "metadata": {},
   "source": [
    "zip 内置函数返回以同样方式工作的迭代器："
   ]
  },
  {
   "cell_type": "code",
   "execution_count": 381,
   "metadata": {},
   "outputs": [
    {
     "data": {
      "text/plain": [
       "<zip at 0x19e7dfcb280>"
      ]
     },
     "execution_count": 381,
     "metadata": {},
     "output_type": "execute_result"
    }
   ],
   "source": [
    "Z = zip((1, 2, 3), (10, 20, 30))\n",
    "Z"
   ]
  },
  {
   "cell_type": "code",
   "execution_count": 382,
   "metadata": {},
   "outputs": [
    {
     "data": {
      "text/plain": [
       "[(1, 10), (2, 20), (3, 30)]"
      ]
     },
     "execution_count": 382,
     "metadata": {},
     "output_type": "execute_result"
    }
   ],
   "source": [
    "list(Z)"
   ]
  },
  {
   "cell_type": "code",
   "execution_count": 383,
   "metadata": {},
   "outputs": [],
   "source": [
    "for pair in Z: print(Z)                    # 一次遍历后用尽结果"
   ]
  },
  {
   "cell_type": "markdown",
   "metadata": {},
   "source": [
    "filter 内置函数也是类似的，对于传入的函数返回 True 的可迭代对象中的每一项，它都会返回该项："
   ]
  },
  {
   "cell_type": "code",
   "execution_count": 4,
   "metadata": {},
   "outputs": [],
   "source": [
    "f=filter(bool, ['spam', '', 'ni'])"
   ]
  },
  {
   "cell_type": "code",
   "execution_count": 2,
   "metadata": {},
   "outputs": [],
   "source": [
    "list(filter(bool, ['spam', '', 'ni']))"
   ]
  },
  {
   "cell_type": "code",
   "execution_count": 6,
   "metadata": {},
   "outputs": [
    {
     "data": {
      "text/plain": [
       "'ni'"
      ]
     },
     "execution_count": 6,
     "metadata": {},
     "output_type": "execute_result"
    }
   ],
   "source": [
    "next(f)"
   ]
  },
  {
   "cell_type": "code",
   "execution_count": 386,
   "metadata": {},
   "outputs": [
    {
     "data": {
      "text/plain": [
       "False"
      ]
     },
     "execution_count": 386,
     "metadata": {},
     "output_type": "execute_result"
    }
   ],
   "source": [
    "bool('')"
   ]
  },
  {
   "cell_type": "markdown",
   "metadata": {},
   "source": [
    "它通常也可以通过扩展列表解析语法来模拟，自动测试真值："
   ]
  },
  {
   "cell_type": "code",
   "execution_count": 387,
   "metadata": {},
   "outputs": [
    {
     "data": {
      "text/plain": [
       "['spam', 'ni']"
      ]
     },
     "execution_count": 387,
     "metadata": {},
     "output_type": "execute_result"
    }
   ],
   "source": [
    "[x for x in ['spam', '', 'ni'] if bool(x)]"
   ]
  },
  {
   "cell_type": "markdown",
   "metadata": {},
   "source": [
    "## 4.3 多个迭代器 vs 单个迭代器  \n",
    "range 对象支持 len 和索引，它不是自己的迭代器（手动迭代时，使用 iter 产生一个迭代器），并且，它支持在其结果上的多个迭代器，这些迭代器会记住它们各自的位置："
   ]
  },
  {
   "cell_type": "code",
   "execution_count": 388,
   "metadata": {},
   "outputs": [
    {
     "name": "stdout",
     "output_type": "stream",
     "text": [
      "'range' object is not an iterator\n"
     ]
    }
   ],
   "source": [
    "R = range(3)                                # range 支持多个迭代器\n",
    "try:\n",
    "    next(R)\n",
    "except TypeError as e:\n",
    "    print(e)"
   ]
  },
  {
   "cell_type": "code",
   "execution_count": 389,
   "metadata": {},
   "outputs": [],
   "source": [
    "I1 = iter(R)"
   ]
  },
  {
   "cell_type": "code",
   "execution_count": 390,
   "metadata": {},
   "outputs": [
    {
     "data": {
      "text/plain": [
       "0"
      ]
     },
     "execution_count": 390,
     "metadata": {},
     "output_type": "execute_result"
    }
   ],
   "source": [
    "next(I1)"
   ]
  },
  {
   "cell_type": "code",
   "execution_count": 391,
   "metadata": {},
   "outputs": [
    {
     "data": {
      "text/plain": [
       "1"
      ]
     },
     "execution_count": 391,
     "metadata": {},
     "output_type": "execute_result"
    }
   ],
   "source": [
    "next(I1)"
   ]
  },
  {
   "cell_type": "code",
   "execution_count": 392,
   "metadata": {},
   "outputs": [],
   "source": [
    "I2 = iter(R)                               # 一个 range 上有两个迭代器"
   ]
  },
  {
   "cell_type": "code",
   "execution_count": 393,
   "metadata": {},
   "outputs": [
    {
     "data": {
      "text/plain": [
       "0"
      ]
     },
     "execution_count": 393,
     "metadata": {},
     "output_type": "execute_result"
    }
   ],
   "source": [
    "next(I2)"
   ]
  },
  {
   "cell_type": "code",
   "execution_count": 394,
   "metadata": {},
   "outputs": [
    {
     "data": {
      "text/plain": [
       "2"
      ]
     },
     "execution_count": 394,
     "metadata": {},
     "output_type": "execute_result"
    }
   ],
   "source": [
    "next(I1)                                   # I1 和 I2 的位置不同"
   ]
  },
  {
   "cell_type": "markdown",
   "metadata": {},
   "source": [
    "zip、map 和 filter 不支持相同结果上的多个活跃迭代器："
   ]
  },
  {
   "cell_type": "code",
   "execution_count": 395,
   "metadata": {},
   "outputs": [
    {
     "data": {
      "text/plain": [
       "(1, 10)"
      ]
     },
     "execution_count": 395,
     "metadata": {},
     "output_type": "execute_result"
    }
   ],
   "source": [
    "Z = zip((1, 2, 3), (10, 11, 12))\n",
    "I1 = iter(Z)\n",
    "I2 = iter(Z)                                # 一个 zip 上的两个迭代器\n",
    "next(I1)"
   ]
  },
  {
   "cell_type": "code",
   "execution_count": 396,
   "metadata": {},
   "outputs": [
    {
     "data": {
      "text/plain": [
       "(2, 11)"
      ]
     },
     "execution_count": 396,
     "metadata": {},
     "output_type": "execute_result"
    }
   ],
   "source": [
    "next(I1)"
   ]
  },
  {
   "cell_type": "code",
   "execution_count": 397,
   "metadata": {},
   "outputs": [
    {
     "data": {
      "text/plain": [
       "(3, 12)"
      ]
     },
     "execution_count": 397,
     "metadata": {},
     "output_type": "execute_result"
    }
   ],
   "source": [
    "next(I2)                                     # I2 和 I1 在同一位置"
   ]
  },
  {
   "cell_type": "markdown",
   "metadata": {},
   "source": [
    "使用类来编写自己的可迭代对象的时候，将会看到通常通过针对 iter 调用返回一个新的对象，来支持多个迭代器；单个迭代器一般意味着一个对象返回其自身。生成器函数和表达式的行为就像 map 一样支持单个的活跃迭代器。"
   ]
  },
  {
   "cell_type": "markdown",
   "metadata": {},
   "source": [
    "## 4.4 字典视图迭代器  \n",
    "在 Python 3.X 中，字典的 keys、values 和 items 方法返回可迭代的视图对象，它们一次产生一个结果项，而不是在内存中一次产生全部结果列表。"
   ]
  },
  {
   "cell_type": "code",
   "execution_count": 398,
   "metadata": {},
   "outputs": [
    {
     "data": {
      "text/plain": [
       "{'a': 1, 'b': 2, 'c': 3}"
      ]
     },
     "execution_count": 398,
     "metadata": {},
     "output_type": "execute_result"
    }
   ],
   "source": [
    "# a, b, c = 1, 2, 3\n",
    "D = dict(a=1, b=2, c=3)\n",
    "\n",
    "D"
   ]
  },
  {
   "cell_type": "code",
   "execution_count": 408,
   "metadata": {},
   "outputs": [
    {
     "data": {
      "text/plain": [
       "(dict_keys(['a', 'b', 'c']), dict_keys)"
      ]
     },
     "execution_count": 408,
     "metadata": {},
     "output_type": "execute_result"
    }
   ],
   "source": [
    "K = D.keys()\n",
    "K, type(K)"
   ]
  },
  {
   "cell_type": "code",
   "execution_count": 402,
   "metadata": {},
   "outputs": [
    {
     "name": "stdout",
     "output_type": "stream",
     "text": [
      "'dict_keys' object is not an iterator\n"
     ]
    }
   ],
   "source": [
    "try:\n",
    "    next(K)                                      # 视图自己不是迭代器\n",
    "except TypeError as e:\n",
    "    print(e)"
   ]
  },
  {
   "cell_type": "code",
   "execution_count": 403,
   "metadata": {},
   "outputs": [
    {
     "data": {
      "text/plain": [
       "'a'"
      ]
     },
     "execution_count": 403,
     "metadata": {},
     "output_type": "execute_result"
    }
   ],
   "source": [
    "I = iter(K)                                   # 可迭代的视图有一个迭代器\n",
    "next(I)                                       # 可以手动使用，但不支持 len 和索引"
   ]
  },
  {
   "cell_type": "code",
   "execution_count": 404,
   "metadata": {},
   "outputs": [
    {
     "data": {
      "text/plain": [
       "'b'"
      ]
     },
     "execution_count": 404,
     "metadata": {},
     "output_type": "execute_result"
    }
   ],
   "source": [
    "next(I)"
   ]
  },
  {
   "cell_type": "code",
   "execution_count": 405,
   "metadata": {},
   "outputs": [
    {
     "name": "stdout",
     "output_type": "stream",
     "text": [
      "a b c "
     ]
    }
   ],
   "source": [
    "for k in D.keys(): print(k, end=' ')"
   ]
  },
  {
   "cell_type": "markdown",
   "metadata": {},
   "source": [
    "和所有的迭代器一样，我们总可以通过把一个 Python 3.X 字典视图传递到 list 内置函数中，从而强制构建一个真正的列表："
   ]
  },
  {
   "cell_type": "code",
   "execution_count": 406,
   "metadata": {},
   "outputs": [
    {
     "data": {
      "text/plain": [
       "['a', 'b', 'c']"
      ]
     },
     "execution_count": 406,
     "metadata": {},
     "output_type": "execute_result"
    }
   ],
   "source": [
    "K = D.keys()\n",
    "list(K)"
   ]
  },
  {
   "cell_type": "code",
   "execution_count": 410,
   "metadata": {},
   "outputs": [
    {
     "name": "stdout",
     "output_type": "stream",
     "text": [
      "'dict_keys' object is not subscriptable\n"
     ]
    }
   ],
   "source": [
    "try:\n",
    "    K[0]\n",
    "except TypeError as e:\n",
    "    print(e)"
   ]
  },
  {
   "cell_type": "code",
   "execution_count": null,
   "metadata": {},
   "outputs": [
    {
     "data": {
      "text/plain": [
       "[('a', 1), ('b', 2), ('c', 3)]"
      ]
     },
     "execution_count": 49,
     "metadata": {},
     "output_type": "execute_result"
    }
   ],
   "source": [
    "list(D.items())"
   ]
  },
  {
   "cell_type": "markdown",
   "metadata": {},
   "source": [
    "Python 3.X 字典仍然有自己的迭代器，它返回连续的键，因此，无需直接在此环境中调用 keys："
   ]
  },
  {
   "cell_type": "code",
   "execution_count": null,
   "metadata": {},
   "outputs": [
    {
     "data": {
      "text/plain": [
       "'a'"
      ]
     },
     "execution_count": 50,
     "metadata": {},
     "output_type": "execute_result"
    }
   ],
   "source": [
    "I = iter(D)\n",
    "next(I)"
   ]
  },
  {
   "cell_type": "code",
   "execution_count": null,
   "metadata": {},
   "outputs": [
    {
     "data": {
      "text/plain": [
       "'b'"
      ]
     },
     "execution_count": 51,
     "metadata": {},
     "output_type": "execute_result"
    }
   ],
   "source": [
    "next(I)"
   ]
  },
  {
   "cell_type": "code",
   "execution_count": null,
   "metadata": {},
   "outputs": [
    {
     "name": "stdout",
     "output_type": "stream",
     "text": [
      "a b c "
     ]
    }
   ],
   "source": [
    "for key in D: print(key, end=' ')             # 不必调用 keys 来进行迭代，但 keys 在 3.X 中也是一个迭代器"
   ]
  },
  {
   "cell_type": "markdown",
   "metadata": {},
   "source": [
    "由于 keys 不再返回一个列表，对键进行排序来扫描一个字典可以使用 list 来转换 keys 视图，或者在一个键视图或字典自身上使用 sorted 调用："
   ]
  },
  {
   "cell_type": "code",
   "execution_count": null,
   "metadata": {},
   "outputs": [
    {
     "name": "stdout",
     "output_type": "stream",
     "text": [
      "a 1 b 2 c 3 "
     ]
    }
   ],
   "source": [
    "for k in sorted(D.keys()): print(k, D[k], end=' ')"
   ]
  },
  {
   "cell_type": "code",
   "execution_count": null,
   "metadata": {},
   "outputs": [
    {
     "name": "stdout",
     "output_type": "stream",
     "text": [
      "a 1 b 2 c 3 "
     ]
    }
   ],
   "source": [
    "for k in sorted(D): print(k, D[k], end=' ')"
   ]
  }
 ],
 "metadata": {
  "kernelspec": {
   "display_name": "Python 3",
   "language": "python",
   "name": "python3"
  },
  "language_info": {
   "codemirror_mode": {
    "name": "ipython",
    "version": 3
   },
   "file_extension": ".py",
   "mimetype": "text/x-python",
   "name": "python",
   "nbconvert_exporter": "python",
   "pygments_lexer": "ipython3",
   "version": "3.10.4"
  }
 },
 "nbformat": 4,
 "nbformat_minor": 2
}
