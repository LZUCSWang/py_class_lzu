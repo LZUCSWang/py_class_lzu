{
 "cells": [
  {
   "cell_type": "markdown",
   "metadata": {},
   "source": [
    "# 1. while 循环  \n",
    "while 语句是 Python 语言中最通用的迭代结构。只要顶端测试一直计算到真值，就会重复执行一个语句块。  \n",
    "\n",
    "## 1.1 一般格式  \n",
    "while 语句最完整的书写格式是：首行以及测试表达式、有一列或多列缩进语句的主体以及一个可选的 else 部分（控制权离开循环而又没有碰到 break 语句时会执行）。Python 会一直计算开头的 test，然后执行循环主体内的语句，直到测试返回假值为止。"
   ]
  },
  {
   "cell_type": "code",
   "execution_count": 103,
   "metadata": {
    "collapsed": true
   },
   "outputs": [],
   "source": [
    "# while <test>:\n",
    "#     <statements1>\n",
    "# else:\n",
    "#     <statements2>"
   ]
  },
  {
   "cell_type": "code",
   "execution_count": 104,
   "metadata": {},
   "outputs": [
    {
     "name": "stdout",
     "output_type": "stream",
     "text": [
      "spam pam am m "
     ]
    }
   ],
   "source": [
    "x = 'spam'\n",
    "while x:                       # 当 x 非空\n",
    "    print(x, end=' ')\n",
    "    x = x[1:]                   # 切掉字符串第一个字符"
   ]
  },
  {
   "cell_type": "code",
   "execution_count": 105,
   "metadata": {},
   "outputs": [
    {
     "name": "stdout",
     "output_type": "stream",
     "text": [
      "0 1 2 3 4 5 6 7 8 9 "
     ]
    }
   ],
   "source": [
    "a = 0; b = 10\n",
    "while a < b:\n",
    "    print(a, end=' ')\n",
    "    a += 1"
   ]
  },
  {
   "cell_type": "markdown",
   "metadata": {},
   "source": [
    "Python 没有其他语言中所谓的“do until”循环语句，不过可以在循环主体底部以一个测试和 break 来实现类似的功能。"
   ]
  },
  {
   "cell_type": "code",
   "execution_count": 106,
   "metadata": {
    "collapsed": true
   },
   "outputs": [],
   "source": [
    "# while True:\n",
    "#     ...loop body...\n",
    "#     if exitTest(): break"
   ]
  },
  {
   "cell_type": "markdown",
   "metadata": {},
   "source": [
    "# 2. break、continue、pass 和循环 else  \n",
    "- **break：**跳出最近所在的循环（跳过整个循环语句）。\n",
    "- **continue：**跳到最近所在循环的开头处（来到循环的首行）。\n",
    "- **pass：**什么事也不做，只是空站位语句。\n",
    "- **循环 else 块：**只有当循环正常离开时才会执行（也就是没有碰到 break 语句）。  \n",
    "\n",
    "## 2.1 一般循环格式  \n",
    "加入 break 和 continue 语句后，while 循环的一般格式如下所示。"
   ]
  },
  {
   "cell_type": "code",
   "execution_count": 107,
   "metadata": {
    "collapsed": true
   },
   "outputs": [],
   "source": [
    "# while <test1>:\n",
    "#     <statements1>\n",
    "#     if <test2>: break\n",
    "#     if <test3>: continue\n",
    "# else:\n",
    "#     <statements2>"
   ]
  },
  {
   "cell_type": "markdown",
   "metadata": {},
   "source": [
    "break 和 continue 可以出现在 while（或 for）循环主体的任何地方，但通常会进一步嵌套在 if 语句中，根据某些条件来采取对应的操作。"
   ]
  },
  {
   "cell_type": "markdown",
   "metadata": {},
   "source": [
    "## 2.2 pass  \n",
    "pass 语句是无运算的占位语句，当语法需要语句并且还没有任何实用的语句可写时，就可以使用它。它通常用于为复合语句编写一个空的主体。  \n",
    "\n",
    "pass 有时指的是“以后会填上”，只是暂时用于填充函数主体而已："
   ]
  },
  {
   "cell_type": "code",
   "execution_count": 108,
   "metadata": {
    "collapsed": true
   },
   "outputs": [],
   "source": [
    "def func1():\n",
    "    pass"
   ]
  },
  {
   "cell_type": "markdown",
   "metadata": {},
   "source": [
    "Python 3.X 允许在可以使用表达式的任何地方使用 ...（三个连续的点号）来省略代码。由于省略号自身什么也不做，这可以当做是 pass 语句的一种替代方案，尤其是对于随后填充的代码——这是 Python 的“TBD”（未确定内容）的一种："
   ]
  },
  {
   "cell_type": "code",
   "execution_count": 109,
   "metadata": {
    "collapsed": true
   },
   "outputs": [],
   "source": [
    "def func1():\n",
    "    ..."
   ]
  },
  {
   "cell_type": "markdown",
   "metadata": {},
   "source": [
    "省略号可以和语句头出现在同一行，并且，如果不需要具体类型的话，可以用来初始化变量名："
   ]
  },
  {
   "cell_type": "code",
   "execution_count": 110,
   "metadata": {
    "collapsed": true
   },
   "outputs": [],
   "source": [
    "def func1(): ..."
   ]
  },
  {
   "cell_type": "code",
   "execution_count": 111,
   "metadata": {},
   "outputs": [
    {
     "data": {
      "text/plain": [
       "Ellipsis"
      ]
     },
     "execution_count": 111,
     "metadata": {},
     "output_type": "execute_result"
    }
   ],
   "source": [
    "X = ...\n",
    "X"
   ]
  },
  {
   "cell_type": "markdown",
   "metadata": {},
   "source": [
    "## 2.3 continue  \n",
    "continue 语句会立即跳到循环的顶端。偶尔也避免语句的嵌套。"
   ]
  },
  {
   "cell_type": "code",
   "execution_count": 112,
   "metadata": {},
   "outputs": [
    {
     "name": "stdout",
     "output_type": "stream",
     "text": [
      "8 6 4 2 0 "
     ]
    }
   ],
   "source": [
    "x = 10\n",
    "while x:\n",
    "    x = x-1\n",
    "    if x % 2 != 0: continue\n",
    "    print(x, end=' ')"
   ]
  },
  {
   "cell_type": "markdown",
   "metadata": {},
   "source": [
    "## 2.4 break  \n",
    "break 语句会立刻离开循环。有时可以引入 break 来避免嵌套化。"
   ]
  },
  {
   "cell_type": "code",
   "execution_count": 113,
   "metadata": {},
   "outputs": [],
   "source": [
    "while True:\n",
    "    name = input('Enter name: ')\n",
    "    if name == 'stop': break\n",
    "    age = input('Enter age: ')\n",
    "    print('Hello', name, '=>', int(age) ** 2)"
   ]
  },
  {
   "cell_type": "markdown",
   "metadata": {},
   "source": [
    "## 2.5 循环 else  \n",
    "和循环 else 子句结合时，break 语句通常可以忽略其他语言中所需的搜索状态标志位。  \n",
    "\n",
    "例如，下列程序搜索大于 1 的因子，来决定正整数 y 是否为质数。"
   ]
  },
  {
   "cell_type": "code",
   "execution_count": 3,
   "metadata": {
    "collapsed": true
   },
   "outputs": [
    {
     "name": "stdout",
     "output_type": "stream",
     "text": [
      "6 has factor 3\n"
     ]
    }
   ],
   "source": [
    "y = 6                                # Define the variable y\n",
    "x = y // 2                             # 对于 y > 1\n",
    "while x > 1:\n",
    "    if y % x == 0:                     # 余数\n",
    "        print(y, 'has factor', x)\n",
    "        break                          # 跳出循环，否则会执行 else 语句\n",
    "    x -= 1\n",
    "else:                                  # 正常退出，没有 break\n",
    "    print(y, 'is prime')"
   ]
  },
  {
   "cell_type": "markdown",
   "metadata": {},
   "source": [
    "除了设置标志位在循环结束时进行测试外，也可以在找到因子时插入 break。这样一来，循环 else 分句可以视为只有当没有找到因子时才会执行。如果没碰到 break，该数就是质数。  \n",
    "\n",
    "如果循环主体从没有执行过，循环 else 分句可会执行，因为你没在其中执行 break 语句。  \n",
    "\n",
    "**关于循环 else 分句的更多内容**  \n",
    "循环 else 分句提供了常见的编写代码的明确语法：这是编写代码的结构，让你捕捉循环的“另一条”出路，而不通过设定和检查标志位或条件。  \n",
    "\n",
    "假设要写个循环搜索列表的值，而且需要知道在离开循环后该值是否已经找到，使用标志位的方法为："
   ]
  },
  {
   "cell_type": "code",
   "execution_count": 115,
   "metadata": {
    "collapsed": true
   },
   "outputs": [],
   "source": [
    "# def match(value):\n",
    "#     # define the match function here\n",
    "#     pass\n",
    "\n",
    "# found = False\n",
    "# while x and not found:\n",
    "#     if match(x[0]):\n",
    "#         print('Ni')\n",
    "#         found = True\n",
    "#     else:\n",
    "#         x = x[1:]\n",
    "# if not found:\n",
    "#     print('not found')"
   ]
  },
  {
   "cell_type": "markdown",
   "metadata": {},
   "source": [
    "else 的等效版本："
   ]
  },
  {
   "cell_type": "code",
   "execution_count": 116,
   "metadata": {
    "collapsed": true
   },
   "outputs": [],
   "source": [
    "# while x:\n",
    "#     if match(x[0]):\n",
    "#         print('Ni')\n",
    "#         break\n",
    "#     x = x[1:]\n",
    "# else:\n",
    "#     print('Not found')"
   ]
  },
  {
   "cell_type": "markdown",
   "metadata": {},
   "source": [
    "while 主体内的 break 会离开循环并跳过 else，因此可作为捕捉搜索失败的情况更为结构化的方式。"
   ]
  },
  {
   "cell_type": "markdown",
   "metadata": {
    "collapsed": true
   },
   "source": [
    "# 3. for 循环  \n",
    "for 循环是一个通用的序列迭代器：可以遍历任何有序的序列对象内的元素。  \n",
    "\n",
    "for 语句可用于字符串、列表、元组、其他内置可迭代对象以及通过类所创建的新对象。  \n",
    "\n",
    "## 3.1 一般格式  "
   ]
  },
  {
   "cell_type": "code",
   "execution_count": 117,
   "metadata": {
    "collapsed": true
   },
   "outputs": [],
   "source": [
    "# for <target> in <object>:      # 将 object 中的项赋值给 target\n",
    "#     <statements1>              # 重复主体：使用 target\n",
    "# else:\n",
    "#     <statements2>              # 如果没遇到 'break'"
   ]
  },
  {
   "cell_type": "markdown",
   "metadata": {},
   "source": [
    "当 Pytorch 运行 for 循环时，会逐个将序列对象中的元素赋值给目标，然后为每个元素执行循环主体。  \n",
    "\n",
    "for 语句也支持一个选用的 else 块，就像在 while 循环中一样。  \n",
    "\n",
    "**基本应用**"
   ]
  },
  {
   "cell_type": "code",
   "execution_count": 118,
   "metadata": {},
   "outputs": [
    {
     "name": "stdout",
     "output_type": "stream",
     "text": [
      "spam eggs ham "
     ]
    }
   ],
   "source": [
    "for x in ['spam', 'eggs', 'ham']:\n",
    "    print(x, end=' ')"
   ]
  },
  {
   "cell_type": "code",
   "execution_count": 119,
   "metadata": {},
   "outputs": [
    {
     "data": {
      "text/plain": [
       "10"
      ]
     },
     "execution_count": 119,
     "metadata": {},
     "output_type": "execute_result"
    }
   ],
   "source": [
    "sum = 0\n",
    "for x in [1, 2, 3, 4]:\n",
    "    sum = sum + x\n",
    "sum"
   ]
  },
  {
   "cell_type": "markdown",
   "metadata": {},
   "source": [
    "**其他数据类型**"
   ]
  },
  {
   "cell_type": "code",
   "execution_count": 120,
   "metadata": {},
   "outputs": [
    {
     "name": "stdout",
     "output_type": "stream",
     "text": [
      "l u m b e r j a c k "
     ]
    }
   ],
   "source": [
    "S = 'lumberjack'\n",
    "T = ('and', \"I'm\", 'okay')\n",
    "for x in S: print(x, end=' ')         # 迭代字符串"
   ]
  },
  {
   "cell_type": "code",
   "execution_count": 121,
   "metadata": {},
   "outputs": [
    {
     "name": "stdout",
     "output_type": "stream",
     "text": [
      "and I'm okay "
     ]
    }
   ],
   "source": [
    "for x in T: print(x, end=' ')         # 迭代元组"
   ]
  },
  {
   "cell_type": "markdown",
   "metadata": {},
   "source": [
    "**在 for 循环中的元组赋值**  \n",
    "如果迭代元组序列，循环目标本身实际上可以是目标元组。"
   ]
  },
  {
   "cell_type": "code",
   "execution_count": 122,
   "metadata": {},
   "outputs": [
    {
     "name": "stdout",
     "output_type": "stream",
     "text": [
      "1 2\n",
      "3 4\n",
      "5 6\n"
     ]
    }
   ],
   "source": [
    "T = [(1, 2), (3, 4), (5, 6)]\n",
    "for (a, b) in T:\n",
    "    print(a, b)"
   ]
  },
  {
   "cell_type": "markdown",
   "metadata": {},
   "source": [
    "在 Python 中，它通常还和 SQL 数据库一起使用——外围的列表就是数据库表，嵌套的元组是表中的行，元组赋值和列对应。  \n",
    "\n",
    "for 循环中的元组使得用 items 方法来遍历字典中的键和值变得很方便，而不必再遍历键并手动地索引以获取值："
   ]
  },
  {
   "cell_type": "code",
   "execution_count": 123,
   "metadata": {},
   "outputs": [
    {
     "name": "stdout",
     "output_type": "stream",
     "text": [
      "a => 1\n",
      "b => 2\n",
      "c => 3\n"
     ]
    }
   ],
   "source": [
    "D = {'a': 1, 'b': 2, 'c': 3}\n",
    "for key in D: \n",
    "    print(key, '=>', D[key])           # 使用字典键迭代和索引"
   ]
  },
  {
   "cell_type": "code",
   "execution_count": 124,
   "metadata": {},
   "outputs": [
    {
     "data": {
      "text/plain": [
       "[('a', 1), ('b', 2), ('c', 3)]"
      ]
     },
     "execution_count": 124,
     "metadata": {},
     "output_type": "execute_result"
    }
   ],
   "source": [
    "list(D.items())"
   ]
  },
  {
   "cell_type": "code",
   "execution_count": 125,
   "metadata": {},
   "outputs": [
    {
     "name": "stdout",
     "output_type": "stream",
     "text": [
      "a => 1\n",
      "b => 2\n",
      "c => 3\n"
     ]
    }
   ],
   "source": [
    "for (key, value) in D.items():\n",
    "    print(key, '=>', value)            # 迭代键和值"
   ]
  },
  {
   "cell_type": "markdown",
   "metadata": {},
   "source": [
    "for 循环中的元组赋值并非一种特殊情况；单词 for 之后的任何赋值目标在语法上都是有效地，尽管我们总是在 for 循环中手动地赋值以解包："
   ]
  },
  {
   "cell_type": "code",
   "execution_count": 126,
   "metadata": {},
   "outputs": [
    {
     "name": "stdout",
     "output_type": "stream",
     "text": [
      "1 2\n",
      "3 4\n",
      "5 6\n"
     ]
    }
   ],
   "source": [
    "T = [(1, 2), (3, 4), (5, 6)]\n",
    "for both in T:\n",
    "    a, b = both             # 手动赋值\n",
    "    print(a, b)"
   ]
  },
  {
   "cell_type": "markdown",
   "metadata": {},
   "source": [
    "嵌套结构也能够自动解包："
   ]
  },
  {
   "cell_type": "code",
   "execution_count": 127,
   "metadata": {},
   "outputs": [
    {
     "name": "stdout",
     "output_type": "stream",
     "text": [
      "1 2 3\n",
      "X Y 6\n"
     ]
    }
   ],
   "source": [
    "for ((a, b), c) in [([1, 2], 3), ['XY', 6]]:\n",
    "    print(a, b, c)"
   ]
  },
  {
   "cell_type": "markdown",
   "metadata": {},
   "source": [
    "**Python 3.X 在 for 循环中扩展的序列赋值**  \n",
    "由于一个序列可以赋值给一组更为通用的名称（其中有一个带有星号的名称收集多个元素），我们可以在 for 循环中使用同样的语法来提取嵌套的序列的部分：  "
   ]
  },
  {
   "cell_type": "code",
   "execution_count": 128,
   "metadata": {},
   "outputs": [
    {
     "data": {
      "text/plain": [
       "(1, [2, 3], 4)"
      ]
     },
     "execution_count": 128,
     "metadata": {},
     "output_type": "execute_result"
    }
   ],
   "source": [
    "a, *b, c = (1, 2, 3, 4)       # 扩展序列赋值\n",
    "a, b, c"
   ]
  },
  {
   "cell_type": "code",
   "execution_count": 129,
   "metadata": {},
   "outputs": [
    {
     "name": "stdout",
     "output_type": "stream",
     "text": [
      "1 [2, 3] 4\n",
      "5 [6, 7] 8\n"
     ]
    }
   ],
   "source": [
    "for (a, *b, c) in [(1, 2, 3, 4), (5, 6, 7, 8)]:\n",
    "    print(a, b, c)"
   ]
  },
  {
   "cell_type": "markdown",
   "metadata": {},
   "source": [
    "**嵌套 for 循环**  "
   ]
  },
  {
   "cell_type": "code",
   "execution_count": 130,
   "metadata": {},
   "outputs": [
    {
     "name": "stdout",
     "output_type": "stream",
     "text": [
      "(4, 5) was found\n",
      "3.14 not found!\n"
     ]
    }
   ],
   "source": [
    "items = ['aaa', 111, (4, 5), 2.01]            # 对象集合\n",
    "tests = [(4, 5), 3.14]                        # 需要搜索的键\n",
    "\n",
    "for key in tests:\n",
    "    for item in items:\n",
    "        if item == key:\n",
    "            print(key, 'was found')\n",
    "            break\n",
    "    else:\n",
    "        print(key, 'not found!')"
   ]
  },
  {
   "cell_type": "markdown",
   "metadata": {},
   "source": [
    "外层循环扫描键列表，内层循环为每个键扫描元素列表。"
   ]
  },
  {
   "cell_type": "code",
   "execution_count": 131,
   "metadata": {},
   "outputs": [
    {
     "name": "stdout",
     "output_type": "stream",
     "text": [
      "(4, 5) was found\n",
      "3.14 not found!\n"
     ]
    }
   ],
   "source": [
    "for key in tests:\n",
    "    if key in items:\n",
    "        print(key, 'was found')\n",
    "    else:\n",
    "        print(key, 'not found!')"
   ]
  },
  {
   "cell_type": "markdown",
   "metadata": {},
   "source": [
    "for 执行典型的数据结构任务：收集两个序列（字符串）中相同的元素。在循环执行后，res 引用的列表中包含 seq1 和 seq2 中找到的所有元素。"
   ]
  },
  {
   "cell_type": "code",
   "execution_count": 132,
   "metadata": {},
   "outputs": [
    {
     "data": {
      "text/plain": [
       "['s', 'a', 'm']"
      ]
     },
     "execution_count": 132,
     "metadata": {},
     "output_type": "execute_result"
    }
   ],
   "source": [
    "seq1 = 'spam'\n",
    "seq2 = 'scam'\n",
    "\n",
    "res = []                     # 从空列表开始\n",
    "for x in seq1:               # 扫描第一个序列\n",
    "    if x in seq2:            # 是否是共同项\n",
    "        res.append(x)        # 添加结果到列表\n",
    "res"
   ]
  },
  {
   "cell_type": "markdown",
   "metadata": {},
   "source": [
    "# 4. 编写循环的技巧  \n",
    "一般而言，for 比 while 容易写，执行时也比较快。  \n",
    "\n",
    "有时需要以更为特定的方式来进行迭代。  \n",
    "\n",
    "Python 提供了两个内置函数，在 for 循环内定制迭代：\n",
    "- 内置 range 函数返回一系列连续增加的整数，可作为 for 中的索引。\n",
    "- 内置 zip 函数返回并行元素的元组的列表，可用于在 for 中遍历数个序列。\n",
    "- 内置 enumerate 函数在迭代器中生成元素的值和索引，因此不必手动计数。\n",
    "\n",
    "## 4.1 循环计数器：range  \n",
    "range 常用在 for 循环中来产生索引，但也可以用在任何需要整数列表的地方。  \n",
    "\n",
    "在 Python 3.X 中，range 是一个迭代器，会根据需要产生元素，因此，我们需要将其包含到一个 list 调用中以一次性显示其结果："
   ]
  },
  {
   "cell_type": "code",
   "execution_count": 133,
   "metadata": {},
   "outputs": [
    {
     "data": {
      "text/plain": [
       "[0, 1, 2, 3, 4]"
      ]
     },
     "execution_count": 133,
     "metadata": {},
     "output_type": "execute_result"
    }
   ],
   "source": [
    "list(range(5))"
   ]
  },
  {
   "cell_type": "code",
   "execution_count": 134,
   "metadata": {},
   "outputs": [
    {
     "data": {
      "text/plain": [
       "[2, 3, 4]"
      ]
     },
     "execution_count": 134,
     "metadata": {},
     "output_type": "execute_result"
    }
   ],
   "source": [
    "list(range(2, 5))"
   ]
  },
  {
   "cell_type": "code",
   "execution_count": 135,
   "metadata": {},
   "outputs": [
    {
     "data": {
      "text/plain": [
       "[0, 2, 4]"
      ]
     },
     "execution_count": 135,
     "metadata": {},
     "output_type": "execute_result"
    }
   ],
   "source": [
    "list(range(0, 6, 2))"
   ]
  },
  {
   "cell_type": "markdown",
   "metadata": {},
   "source": [
    "传入一个参数时，Python 会产生从零算起的整数列表，但其中不包括该参数的值。  \n",
    "\n",
    "传入两个参数时，第一个将视为下界。  \n",
    "\n",
    "第三个选用参数可以提供步进值，默认是1。  \n",
    "\n",
    "range 也可以是非整数或非递增的："
   ]
  },
  {
   "cell_type": "code",
   "execution_count": 136,
   "metadata": {},
   "outputs": [
    {
     "data": {
      "text/plain": [
       "[-5, -4, -3, -2, -1, 0, 1, 2, 3, 4]"
      ]
     },
     "execution_count": 136,
     "metadata": {},
     "output_type": "execute_result"
    }
   ],
   "source": [
    "list(range(-5, 5))"
   ]
  },
  {
   "cell_type": "code",
   "execution_count": 137,
   "metadata": {},
   "outputs": [
    {
     "data": {
      "text/plain": [
       "[5, 4, 3, 2, 1, 0, -1, -2, -3, -4]"
      ]
     },
     "execution_count": 137,
     "metadata": {},
     "output_type": "execute_result"
    }
   ],
   "source": [
    "list(range(5, -5, -1))"
   ]
  },
  {
   "cell_type": "markdown",
   "metadata": {},
   "source": [
    "Python 3.X 中，for 循环迫使 range 结果自动化，因此不需要使用 list。"
   ]
  },
  {
   "cell_type": "code",
   "execution_count": 138,
   "metadata": {},
   "outputs": [
    {
     "name": "stdout",
     "output_type": "stream",
     "text": [
      "0 Pythons\n",
      "1 Pythons\n",
      "2 Pythons\n"
     ]
    }
   ],
   "source": [
    "for i in range(3):\n",
    "    print(i, 'Pythons')"
   ]
  },
  {
   "cell_type": "markdown",
   "metadata": {},
   "source": [
    "在可能的情况下，最好使用 Python 中的简单的 for 循环，不要用 while， 并且不要在 for 循环中使用 range 调用，只将其视为最后的手段。  \n",
    "\n",
    "## 4.2 序列排列：range 和 len  \n",
    "一些算法可以使用序列重排序——在搜索中生成替代选择，来测试不同的值排序的效果。这种情况可能需要偏移量，以便将序列分开并将它们重新放在一起。range 在第一个例子中提供重复计数，在第二个例子提供切片的位置："
   ]
  },
  {
   "cell_type": "code",
   "execution_count": 139,
   "metadata": {},
   "outputs": [
    {
     "name": "stdout",
     "output_type": "stream",
     "text": [
      "pams amsp mspa spam "
     ]
    }
   ],
   "source": [
    "S = 'spam'\n",
    "for i in range(len(S)):       # 重复 0-3\n",
    "    S = S[1:] + S[:1]         # 将头部项移到尾部\n",
    "    print(S, end=' ')"
   ]
  },
  {
   "cell_type": "code",
   "execution_count": 140,
   "metadata": {},
   "outputs": [
    {
     "name": "stdout",
     "output_type": "stream",
     "text": [
      "spam pams amsp mspa "
     ]
    }
   ],
   "source": [
    "for i in range(len(S)):\n",
    "    X = S[i:] + S[:i]          # 后面部分 + 前面部分\n",
    "    print(X, end=' ')"
   ]
  },
  {
   "cell_type": "markdown",
   "metadata": {},
   "source": [
    "第二种方法产生的结果与第一种方法相同，尽管顺序不同，但是不会改变原始变量。因为两个分片都可以得到要连接的部分，所以它们也可以处理任何类型的序列，并返回与正在排序的序列相同的类型的序列——如果你排序一个列表，你就创建了重新排序的列表:"
   ]
  },
  {
   "cell_type": "code",
   "execution_count": 141,
   "metadata": {},
   "outputs": [
    {
     "name": "stdout",
     "output_type": "stream",
     "text": [
      "[1, 2, 3] [2, 3, 1] [3, 1, 2] "
     ]
    }
   ],
   "source": [
    "L = [1, 2, 3]\n",
    "for i in range(len(L)):\n",
    "    X = L[i:] + L[:i]\n",
    "    print(X, end=' ')"
   ]
  },
  {
   "cell_type": "markdown",
   "metadata": {},
   "source": [
    "## 4.3 非完备遍历：range和分片  \n",
    "前面部分中 range/len 组合的情况是很有用的应用。我们也可以使用这个技术来跳过一些元素："
   ]
  },
  {
   "cell_type": "code",
   "execution_count": 142,
   "metadata": {},
   "outputs": [
    {
     "data": {
      "text/plain": [
       "[0, 2, 4, 6, 8, 10]"
      ]
     },
     "execution_count": 142,
     "metadata": {},
     "output_type": "execute_result"
    }
   ],
   "source": [
    "S = 'abcdefghijk'\n",
    "list(range(0, len(S), 2))"
   ]
  },
  {
   "cell_type": "code",
   "execution_count": 143,
   "metadata": {},
   "outputs": [
    {
     "name": "stdout",
     "output_type": "stream",
     "text": [
      "a c e g i k "
     ]
    }
   ],
   "source": [
    "for i in range(0, len(S), 2):\n",
    "    print(S[i], end=' ')"
   ]
  },
  {
   "cell_type": "markdown",
   "metadata": {},
   "source": [
    "通过这种方式使用 range 来跳过循环内的元素，依然保持了 for 循环的简单性。  \n",
    "\n",
    "但这可能不是如今 Python 中理想情况下最现实的技术。分片表达式提供了实现相同目标的更简单的办法："
   ]
  },
  {
   "cell_type": "code",
   "execution_count": 144,
   "metadata": {},
   "outputs": [
    {
     "name": "stdout",
     "output_type": "stream",
     "text": [
      "a c e g i k "
     ]
    }
   ],
   "source": [
    "S = 'abcdefghijk'\n",
    "for c in S[::2]:\n",
    "    print(c, end=' ')"
   ]
  },
  {
   "cell_type": "markdown",
   "metadata": {},
   "source": [
    "这里使用 range 的唯一优点是——它没有复制字符串，并且不会在 Python 3.X 中创建一个列表，对于很大的字符串来说，这会节省内存。"
   ]
  },
  {
   "cell_type": "markdown",
   "metadata": {},
   "source": [
    "## 4.4 修改列表：range 和表达式  \n",
    "可以使用 range/len 和 for 组合的常见场合就是在循环中遍历列表时对齐进行修改。例如，假设你因某种理由要为列表中每个元素都加1。可以通过简单的 for 循环来做，但可能给并不是你想要的。"
   ]
  },
  {
   "cell_type": "code",
   "execution_count": 145,
   "metadata": {},
   "outputs": [
    {
     "data": {
      "text/plain": [
       "[1, 2, 3, 4, 5]"
      ]
     },
     "execution_count": 145,
     "metadata": {},
     "output_type": "execute_result"
    }
   ],
   "source": [
    "L = [1, 2, 3, 4, 5]\n",
    "for x in L:\n",
    "    x += 1             # 改变 x，而不是 L\n",
    "L"
   ]
  },
  {
   "cell_type": "code",
   "execution_count": 146,
   "metadata": {},
   "outputs": [
    {
     "data": {
      "text/plain": [
       "6"
      ]
     },
     "execution_count": 146,
     "metadata": {},
     "output_type": "execute_result"
    }
   ],
   "source": [
    "x"
   ]
  },
  {
   "cell_type": "markdown",
   "metadata": {},
   "source": [
    "这样修改的是循环变量 x，而不是列表 L。要真的在遍历列表时对其进行修改，我们需要使用索引。"
   ]
  },
  {
   "cell_type": "code",
   "execution_count": 147,
   "metadata": {},
   "outputs": [
    {
     "data": {
      "text/plain": [
       "[2, 3, 4, 5, 6]"
      ]
     },
     "execution_count": 147,
     "metadata": {},
     "output_type": "execute_result"
    }
   ],
   "source": [
    "L = [1, 2, 3, 4, 5]\n",
    "for i in range(len(L)):      # 对 L 中的每一项加 1\n",
    "    L[i] += 1\n",
    "L"
   ]
  },
  {
   "cell_type": "markdown",
   "metadata": {},
   "source": [
    "range 的解决方案依然不理想。"
   ]
  },
  {
   "cell_type": "code",
   "execution_count": 148,
   "metadata": {},
   "outputs": [
    {
     "data": {
      "text/plain": [
       "[3, 4, 5, 6, 7]"
      ]
     },
     "execution_count": 148,
     "metadata": {},
     "output_type": "execute_result"
    }
   ],
   "source": [
    "[x + 1 for x in L]"
   ]
  },
  {
   "cell_type": "code",
   "execution_count": 149,
   "metadata": {},
   "outputs": [
    {
     "data": {
      "text/plain": [
       "[2, 3, 4, 5, 6]"
      ]
     },
     "execution_count": 149,
     "metadata": {},
     "output_type": "execute_result"
    }
   ],
   "source": [
    "L"
   ]
  },
  {
   "cell_type": "markdown",
   "metadata": {},
   "source": [
    "列表解析表达式也能做类似的工作，并且运行更快，没有对最初的列表进行在原处的修改（我们可以把表达式的新列表对象赋值给L，但是这样不会更新原始列表的其他任何引用值）。"
   ]
  },
  {
   "cell_type": "markdown",
   "metadata": {},
   "source": [
    "## 4.5 并行遍历：zip 和 map  \n",
    "在基本运算中，zip 会取得一个或多个序列为参数，然后返回元组的列表，将这些序列中的并排的元素配成对。  \n",
    "\n",
    "和 range 一样，zip 在 Python 3.X 中也是一个可迭代对象，因此，我们必须将其包含在一个 list 调用中以便一次性显示所有结果。"
   ]
  },
  {
   "cell_type": "code",
   "execution_count": 150,
   "metadata": {},
   "outputs": [
    {
     "data": {
      "text/plain": [
       "<zip at 0x1b6f432fbc0>"
      ]
     },
     "execution_count": 150,
     "metadata": {},
     "output_type": "execute_result"
    }
   ],
   "source": [
    "L1 = [1, 2, 3, 4]\n",
    "L2 = [5, 6, 7, 8]\n",
    "zip(L1, L2)"
   ]
  },
  {
   "cell_type": "code",
   "execution_count": 151,
   "metadata": {},
   "outputs": [
    {
     "data": {
      "text/plain": [
       "[(1, 5), (2, 6), (3, 7), (4, 8)]"
      ]
     },
     "execution_count": 151,
     "metadata": {},
     "output_type": "execute_result"
    }
   ],
   "source": [
    "list(zip(L1, L2))"
   ]
  },
  {
   "cell_type": "markdown",
   "metadata": {},
   "source": [
    "这样的结果在其他环境下也有用，然而搭配 for 循环时，它就会支持并行迭代。"
   ]
  },
  {
   "cell_type": "code",
   "execution_count": 152,
   "metadata": {},
   "outputs": [
    {
     "name": "stdout",
     "output_type": "stream",
     "text": [
      "1 5 -- 6\n",
      "2 6 -- 8\n",
      "3 7 -- 10\n",
      "4 8 -- 12\n"
     ]
    }
   ],
   "source": [
    "for (x, y) in zip(L1, L2):\n",
    "    print(x, y, '--', x + y)"
   ]
  },
  {
   "cell_type": "markdown",
   "metadata": {},
   "source": [
    "zip 可以接受任何类型的序列（包括文件），并且可以由两个以上的参数。  \n",
    "\n",
    "对于三个参数，它构建了 3 元素元组的一个列表，其中带有来自每个序列的元素，基本上按照列对应。"
   ]
  },
  {
   "cell_type": "code",
   "execution_count": 153,
   "metadata": {},
   "outputs": [
    {
     "data": {
      "text/plain": [
       "[(1, 4, 7), (2, 5, 8), (3, 6, 9)]"
      ]
     },
     "execution_count": 153,
     "metadata": {},
     "output_type": "execute_result"
    }
   ],
   "source": [
    "T1, T2, T3 = (1, 2, 3), (4, 5, 6), (7, 8, 9)\n",
    "list(zip(T1, T2, T3)) "
   ]
  },
  {
   "cell_type": "markdown",
   "metadata": {},
   "source": [
    "当参数长度不同时，zip 会以**最短**序列的长度为准来截断所得到的元组。"
   ]
  },
  {
   "cell_type": "code",
   "execution_count": 154,
   "metadata": {},
   "outputs": [
    {
     "data": {
      "text/plain": [
       "[('a', 'x'), ('b', 'y'), ('c', 'z')]"
      ]
     },
     "execution_count": 154,
     "metadata": {},
     "output_type": "execute_result"
    }
   ],
   "source": [
    "S1 = 'abc'\n",
    "S2 = 'xyz123'\n",
    "list(zip(S1, S2))"
   ]
  },
  {
   "cell_type": "markdown",
   "metadata": {},
   "source": [
    "**使用 zip 构造字典**  \n",
    "将列表变成字典的一种做法就是将这些字符串 zip 起来，直接把 zip 过的键/值列表传给内置的 dict 构造函数。"
   ]
  },
  {
   "cell_type": "code",
   "execution_count": 155,
   "metadata": {},
   "outputs": [
    {
     "data": {
      "text/plain": [
       "{'spam': 1, 'eggs': 3, 'toast': 5}"
      ]
     },
     "execution_count": 155,
     "metadata": {},
     "output_type": "execute_result"
    }
   ],
   "source": [
    "keys = ['spam', 'eggs', 'toast']\n",
    "vals = [1, 3, 5]\n",
    "D3 = dict(zip(keys, vals))\n",
    "D3"
   ]
  },
  {
   "cell_type": "code",
   "execution_count": 156,
   "metadata": {},
   "outputs": [
    {
     "data": {
      "text/plain": [
       "{'spam': 1, 'eggs': 3, 'toast': 5}"
      ]
     },
     "execution_count": 156,
     "metadata": {},
     "output_type": "execute_result"
    }
   ],
   "source": [
    "keys = ['spam', 'eggs', 'toast']\n",
    "vals = [1, 3, 5]\n",
    "{k: v for (k, v) in zip(keys, vals)}"
   ]
  },
  {
   "cell_type": "markdown",
   "metadata": {},
   "source": [
    "## 4.5 产生偏移和元素：enumerate  \n",
    "在有些程序中，我们需要用到元素以及这个元素的偏移值。enumerate 函数可以为我们做这件事。"
   ]
  },
  {
   "cell_type": "code",
   "execution_count": 157,
   "metadata": {},
   "outputs": [
    {
     "name": "stdout",
     "output_type": "stream",
     "text": [
      "s appears at offset 0\n",
      "p appears at offset 1\n",
      "a appears at offset 2\n",
      "m appears at offset 3\n"
     ]
    }
   ],
   "source": [
    "S = 'spam'\n",
    "for (offset, item) in enumerate(S):\n",
    "    print(item, 'appears at offset', offset)"
   ]
  },
  {
   "cell_type": "code",
   "execution_count": 4,
   "metadata": {},
   "outputs": [
    {
     "name": "stdout",
     "output_type": "stream",
     "text": [
      "s appears at offset 0\n",
      "p appears at offset 1\n",
      "a appears at offset 2\n",
      "m appears at offset 3\n"
     ]
    }
   ],
   "source": [
    "S = 'spam'\n",
    "for offset, item in enumerate(S):\n",
    "    print(item, 'appears at offset', offset)"
   ]
  },
  {
   "cell_type": "markdown",
   "metadata": {},
   "source": [
    "enumerate 函数返回一个生成器对象：这种对象支持迭代协议。我们可以在 for 循环中通过元组赋值运算将元组解包："
   ]
  },
  {
   "cell_type": "code",
   "execution_count": 158,
   "metadata": {},
   "outputs": [
    {
     "data": {
      "text/plain": [
       "<enumerate at 0x1b6f428eac0>"
      ]
     },
     "execution_count": 158,
     "metadata": {},
     "output_type": "execute_result"
    }
   ],
   "source": [
    "E = enumerate(S)\n",
    "E"
   ]
  },
  {
   "cell_type": "code",
   "execution_count": 159,
   "metadata": {},
   "outputs": [
    {
     "data": {
      "text/plain": [
       "(0, 's')"
      ]
     },
     "execution_count": 159,
     "metadata": {},
     "output_type": "execute_result"
    }
   ],
   "source": [
    "next(E)"
   ]
  },
  {
   "cell_type": "code",
   "execution_count": 160,
   "metadata": {},
   "outputs": [
    {
     "data": {
      "text/plain": [
       "(1, 'p')"
      ]
     },
     "execution_count": 160,
     "metadata": {},
     "output_type": "execute_result"
    }
   ],
   "source": [
    "next(E)"
   ]
  },
  {
   "cell_type": "code",
   "execution_count": 161,
   "metadata": {},
   "outputs": [
    {
     "data": {
      "text/plain": [
       "(2, 'a')"
      ]
     },
     "execution_count": 161,
     "metadata": {},
     "output_type": "execute_result"
    }
   ],
   "source": [
    "next(E)"
   ]
  },
  {
   "cell_type": "code",
   "execution_count": 162,
   "metadata": {},
   "outputs": [
    {
     "data": {
      "text/plain": [
       "['', 'p', 'aa', 'mmm']"
      ]
     },
     "execution_count": 162,
     "metadata": {},
     "output_type": "execute_result"
    }
   ],
   "source": [
    "[c * i for (i, c) in enumerate(S)]"
   ]
  }
 ],
 "metadata": {
  "kernelspec": {
   "display_name": "Python 3",
   "language": "python",
   "name": "python3"
  },
  "language_info": {
   "codemirror_mode": {
    "name": "ipython",
    "version": 3
   },
   "file_extension": ".py",
   "mimetype": "text/x-python",
   "name": "python",
   "nbconvert_exporter": "python",
   "pygments_lexer": "ipython3",
   "version": "3.10.4"
  }
 },
 "nbformat": 4,
 "nbformat_minor": 2
}
