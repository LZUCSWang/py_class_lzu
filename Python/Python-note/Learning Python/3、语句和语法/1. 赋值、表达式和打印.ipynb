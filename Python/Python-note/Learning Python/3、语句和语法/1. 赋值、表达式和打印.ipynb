{
 "cells": [
  {
   "cell_type": "markdown",
   "metadata": {
    "collapsed": true
   },
   "source": [
    "# 1. 赋值语句\n",
    "\n",
    "基本形式是等号左边写赋值语句的目标，要赋值的对象位于右侧。\n",
    "\n",
    "- **赋值语句建立对象引用值。** 赋值语句总是建立对象的引用值，而不是复制对象。因此，Python 变量更像是指针，而不是数据存储区域。\n",
    "- **变量名在首次赋值时会被创建。** 一旦赋值了，每当这个变量名出现在表达式时，就会被其所引用的值取代。\n",
    "- **变量名在引用前必须先赋值。**\n",
    "- **执行隐式赋值的一些操作。** 模块导入、函数和类的定义、for 循环变量以及函数参数全部都是隐式赋值运算。\n"
   ]
  },
  {
   "cell_type": "markdown",
   "metadata": {},
   "source": [
    "## 1.1 赋值语句的形式\n",
    "\n",
    "| **运算**                       | **解释**                                  |\n",
    "| :----------------------------- | :---------------------------------------- |\n",
    "| `spam = 'Spam'`                | 基本形式                                  |\n",
    "| `spam, ham = 'yum', 'YUM'`     | 元组赋值运算（位置性）                    |\n",
    "| `[spam, ham] = ['yum', 'YUM']` | 列表赋值运算（位置性）                    |\n",
    "| `a, b, c, d = 'spam'`          | 序列赋值运算，通用性                      |\n",
    "| `a, *b = 'spam'`               | 扩展的序列解包                            |\n",
    "| `spam = ham = 'lunch'`         | 多目标赋值运算                            |\n",
    "| `spams += 42`                  | 增强赋值运算（相当于 spams = spams + 42） |\n",
    "\n",
    "**元组及列表分解赋值：**当在“=”左边编写元组或列表时，Python 会按照位置把右边的对象和左边的目标从左至右相配对。\n",
    "\n",
    "**序列赋值语句：**在最新的 Python 版本中，元组和列表赋值语句已统一为序列赋值语句的实例——任何变量名的序列都可赋值给任何值的序列，而 Python 会按位置一次赋值一个元素。上表第四行中：a 赋值为's'，b 赋值为'p'。\n",
    "\n",
    "**扩展的序列解包：**上表第五行中，用右边的字符串的第一个字母来匹配 a，用剩下的部分来匹配 b：a 赋值为's'，b 赋值为'pam'。\n",
    "\n",
    "**多目标赋值：**Python 赋值相同对象的引用值（最右边的对象）给左边的所有目标。上表第六行中变量名 spam 和 ham 两者都赋值成对相同的字符串对象'lunch'的引用。\n",
    "\n",
    "**增强赋值语句：**一种以简洁的方式结合表达式和赋值语句的简写形式。Python 中每个二元表达式运算符都有增强赋值语句。\n"
   ]
  },
  {
   "cell_type": "markdown",
   "metadata": {},
   "source": [
    "**Python 3.6 中增加了变量注释的语法，用于注释变量类型，包括类变量和实例变量：**\n"
   ]
  },
  {
   "cell_type": "code",
   "execution_count": 2,
   "metadata": {},
   "outputs": [],
   "source": [
    "from typing import Dict, List\n",
    "\n",
    "primes: List[int] = []\n",
    "\n",
    "captain: str  # 无初值!\n",
    "\n",
    "\n",
    "class Starship:\n",
    "    stats: Dict[str, int] = {}"
   ]
  },
  {
   "cell_type": "markdown",
   "metadata": {},
   "source": [
    "## 1.2 序列赋值\n"
   ]
  },
  {
   "cell_type": "code",
   "execution_count": 3,
   "metadata": {},
   "outputs": [
    {
     "data": {
      "text/plain": [
       "(1, 2)"
      ]
     },
     "execution_count": 3,
     "metadata": {},
     "output_type": "execute_result"
    }
   ],
   "source": [
    "nudge = 1\n",
    "wink = 2\n",
    "A, B = nudge, wink       # 元组赋值\n",
    "A, B"
   ]
  },
  {
   "cell_type": "code",
   "execution_count": 4,
   "metadata": {},
   "outputs": [
    {
     "data": {
      "text/plain": [
       "(1, 2)"
      ]
     },
     "execution_count": 4,
     "metadata": {},
     "output_type": "execute_result"
    }
   ],
   "source": [
    "[C, D] = [nudge, wink]    # 列表赋值\n",
    "C, D"
   ]
  },
  {
   "cell_type": "code",
   "execution_count": 5,
   "metadata": {},
   "outputs": [
    {
     "data": {
      "text/plain": [
       "(2, 1)"
      ]
     },
     "execution_count": 5,
     "metadata": {},
     "output_type": "execute_result"
    }
   ],
   "source": [
    "nudge, wink = wink, nudge  # 元组：交换变量值\n",
    "nudge, wink"
   ]
  },
  {
   "cell_type": "markdown",
   "metadata": {},
   "source": [
    "元组和列表赋值语句可以接受右侧是任何类型的序列，只要长度相等即可。\n"
   ]
  },
  {
   "cell_type": "code",
   "execution_count": 6,
   "metadata": {},
   "outputs": [
    {
     "data": {
      "text/plain": [
       "(1, 3)"
      ]
     },
     "execution_count": 6,
     "metadata": {},
     "output_type": "execute_result"
    }
   ],
   "source": [
    "[a, b, c] = (1, 2, 3)       # 将元组值赋值给列表\n",
    "a, c"
   ]
  },
  {
   "cell_type": "code",
   "execution_count": 7,
   "metadata": {},
   "outputs": [
    {
     "data": {
      "text/plain": [
       "('A', 'C')"
      ]
     },
     "execution_count": 7,
     "metadata": {},
     "output_type": "execute_result"
    }
   ],
   "source": [
    "(a, b, c) = \"ABC\"            # 将字符串字符赋值给元组\n",
    "a, c"
   ]
  },
  {
   "cell_type": "markdown",
   "metadata": {},
   "source": [
    "## 1.3 扩展序列解包\n",
    "\n",
    "一个带有单个星号的名称 `*X`，可以在赋值目标中使用，以指定对于序列的一个更为通用的匹配——一个列表赋给了带星号的名称，该列表收集了序列中没有赋值给其他名称的所有项。\n",
    "\n",
    "**扩展解包的实际应用**\n"
   ]
  },
  {
   "cell_type": "code",
   "execution_count": 8,
   "metadata": {},
   "outputs": [
    {
     "data": {
      "text/plain": [
       "1"
      ]
     },
     "execution_count": 8,
     "metadata": {},
     "output_type": "execute_result"
    }
   ],
   "source": [
    "seq = [1, 2, 3, 4]\n",
    "a, *b = seq                    # a 匹配第一项，b 匹配剩下的内容\n",
    "a"
   ]
  },
  {
   "cell_type": "code",
   "execution_count": 9,
   "metadata": {},
   "outputs": [
    {
     "data": {
      "text/plain": [
       "[2, 3, 4]"
      ]
     },
     "execution_count": 9,
     "metadata": {},
     "output_type": "execute_result"
    }
   ],
   "source": [
    "b"
   ]
  },
  {
   "cell_type": "markdown",
   "metadata": {},
   "source": [
    "带星号的名称可以出现在目标中的任何地方。\n"
   ]
  },
  {
   "cell_type": "code",
   "execution_count": 10,
   "metadata": {},
   "outputs": [
    {
     "data": {
      "text/plain": [
       "[1, 2, 3]"
      ]
     },
     "execution_count": 10,
     "metadata": {},
     "output_type": "execute_result"
    }
   ],
   "source": [
    "*a, b = seq\n",
    "a"
   ]
  },
  {
   "cell_type": "code",
   "execution_count": 11,
   "metadata": {},
   "outputs": [
    {
     "data": {
      "text/plain": [
       "4"
      ]
     },
     "execution_count": 11,
     "metadata": {},
     "output_type": "execute_result"
    }
   ],
   "source": [
    "b"
   ]
  },
  {
   "cell_type": "markdown",
   "metadata": {},
   "source": [
    "当带星号的名称出现在中间，它收集其他列出的名称之间的所有内容。\n"
   ]
  },
  {
   "cell_type": "code",
   "execution_count": 12,
   "metadata": {},
   "outputs": [
    {
     "data": {
      "text/plain": [
       "1"
      ]
     },
     "execution_count": 12,
     "metadata": {},
     "output_type": "execute_result"
    }
   ],
   "source": [
    "a, *b, c = seq\n",
    "a"
   ]
  },
  {
   "cell_type": "code",
   "execution_count": 13,
   "metadata": {},
   "outputs": [
    {
     "data": {
      "text/plain": [
       "[2, 3]"
      ]
     },
     "execution_count": 13,
     "metadata": {},
     "output_type": "execute_result"
    }
   ],
   "source": [
    "b"
   ]
  },
  {
   "cell_type": "code",
   "execution_count": 14,
   "metadata": {},
   "outputs": [
    {
     "data": {
      "text/plain": [
       "4"
      ]
     },
     "execution_count": 14,
     "metadata": {},
     "output_type": "execute_result"
    }
   ],
   "source": [
    "c"
   ]
  },
  {
   "cell_type": "markdown",
   "metadata": {},
   "source": [
    "和常规的序列赋值一样，扩展的序列解包语法对于任何序列类型都有效，不只是列表。\n"
   ]
  },
  {
   "cell_type": "code",
   "execution_count": 15,
   "metadata": {},
   "outputs": [
    {
     "data": {
      "text/plain": [
       "('s', ['p', 'a', 'm'])"
      ]
     },
     "execution_count": 15,
     "metadata": {},
     "output_type": "execute_result"
    }
   ],
   "source": [
    "a, *b = 'spam'\n",
    "a, b"
   ]
  },
  {
   "cell_type": "code",
   "execution_count": 16,
   "metadata": {},
   "outputs": [
    {
     "data": {
      "text/plain": [
       "('s', ['p', 'a'], 'm')"
      ]
     },
     "execution_count": 16,
     "metadata": {},
     "output_type": "execute_result"
    }
   ],
   "source": [
    "a, *b, c = 'spam'\n",
    "a, b, c"
   ]
  },
  {
   "cell_type": "code",
   "execution_count": 17,
   "metadata": {},
   "outputs": [
    {
     "data": {
      "text/plain": [
       "(0, [1, 2], 3)"
      ]
     },
     "execution_count": 17,
     "metadata": {},
     "output_type": "execute_result"
    }
   ],
   "source": [
    "a, *b, c = range(4)\n",
    "a, b, c"
   ]
  },
  {
   "cell_type": "markdown",
   "metadata": {},
   "source": [
    "这和分片的内在相似，但是不完全相同——一个序列解包赋值总是返回多个匹配项的一个列表，而分片把相同类型的一个序列作为分片的对象返回。\n"
   ]
  },
  {
   "cell_type": "code",
   "execution_count": 18,
   "metadata": {},
   "outputs": [
    {
     "data": {
      "text/plain": [
       "('s', 'pam')"
      ]
     },
     "execution_count": 18,
     "metadata": {},
     "output_type": "execute_result"
    }
   ],
   "source": [
    "S = 'spam'\n",
    "S[0], S[1:]"
   ]
  },
  {
   "cell_type": "markdown",
   "metadata": {},
   "source": [
    "**边界情况**  \n",
    "带星号的名称可能只匹配单个的项，但是，总是会向其赋值一个列表：\n"
   ]
  },
  {
   "cell_type": "code",
   "execution_count": 19,
   "metadata": {},
   "outputs": [
    {
     "name": "stdout",
     "output_type": "stream",
     "text": [
      "1 2 3 [4]\n"
     ]
    }
   ],
   "source": [
    "seq = [1, 2, 3, 4]\n",
    "a, b, c, *d = seq\n",
    "print(a, b, c, d)"
   ]
  },
  {
   "cell_type": "markdown",
   "metadata": {},
   "source": [
    "如果没有剩下的内容可以匹配带星号的名称，它会赋值一个空的列表，不管该名称出现在哪里。\n"
   ]
  },
  {
   "cell_type": "code",
   "execution_count": 20,
   "metadata": {},
   "outputs": [
    {
     "name": "stdout",
     "output_type": "stream",
     "text": [
      "1 2 3 4 []\n"
     ]
    }
   ],
   "source": [
    "a, b, c, d, *e = seq\n",
    "print(a, b, c, d, e)"
   ]
  },
  {
   "cell_type": "code",
   "execution_count": 21,
   "metadata": {},
   "outputs": [
    {
     "name": "stdout",
     "output_type": "stream",
     "text": [
      "1 2 3 4 []\n"
     ]
    }
   ],
   "source": [
    "a, b, *e, c, d = seq\n",
    "print(a, b, c, d, e)"
   ]
  },
  {
   "cell_type": "markdown",
   "metadata": {},
   "source": [
    "如果有多个带星号的名称，或者如果值少了而没有带星号的名称，以及如果带星号的名称自身没有编写到一个列表中，都将引发错误：\n"
   ]
  },
  {
   "cell_type": "code",
   "execution_count": 22,
   "metadata": {},
   "outputs": [],
   "source": [
    "\n",
    "# a, *b, c, *d = seq"
   ]
  },
  {
   "cell_type": "code",
   "execution_count": 23,
   "metadata": {},
   "outputs": [],
   "source": [
    "# a, b = seq"
   ]
  },
  {
   "cell_type": "markdown",
   "metadata": {},
   "source": [
    "## 不能直接一个*,可以*加逗号"
   ]
  },
  {
   "cell_type": "code",
   "execution_count": 24,
   "metadata": {},
   "outputs": [],
   "source": [
    "# *a = seq"
   ]
  },
  {
   "cell_type": "code",
   "execution_count": 25,
   "metadata": {},
   "outputs": [
    {
     "data": {
      "text/plain": [
       "[1, 2, 3, 4]"
      ]
     },
     "execution_count": 25,
     "metadata": {},
     "output_type": "execute_result"
    }
   ],
   "source": [
    "*a, = seq  # 一个元素的列表\n",
    "a"
   ]
  },
  {
   "cell_type": "markdown",
   "metadata": {},
   "source": [
    "Python 3.5 中可以在函数调用时，允许任意多个解包操作：\n"
   ]
  },
  {
   "cell_type": "code",
   "execution_count": 26,
   "metadata": {
    "scrolled": true
   },
   "outputs": [
    {
     "name": "stdout",
     "output_type": "stream",
     "text": [
      "1 2 3 3 4\n"
     ]
    }
   ],
   "source": [
    "print(*[1, 2, 3], *[3, 4])"
   ]
  },
  {
   "cell_type": "markdown",
   "metadata": {},
   "source": [
    "还可用在表达式中：\n"
   ]
  },
  {
   "cell_type": "code",
   "execution_count": 27,
   "metadata": {
    "scrolled": true
   },
   "outputs": [
    {
     "data": {
      "text/plain": [
       "[0, 1, 2, 3, 4]"
      ]
     },
     "execution_count": 27,
     "metadata": {},
     "output_type": "execute_result"
    }
   ],
   "source": [
    "[*range(4), 4]"
   ]
  },
  {
   "cell_type": "code",
   "execution_count": 28,
   "metadata": {
    "scrolled": true
   },
   "outputs": [
    {
     "data": {
      "text/plain": [
       "([1, 2, 3], range(3, 6), [1, 2, 3, 3, 4, 5])"
      ]
     },
     "execution_count": 28,
     "metadata": {},
     "output_type": "execute_result"
    }
   ],
   "source": [
    "# 拼接列表\n",
    "list1 = [1, 2, 3]\n",
    "list2 = range(3, 6)\n",
    "list1, list2, [*list1, *list2]"
   ]
  },
  {
   "cell_type": "code",
   "execution_count": 29,
   "metadata": {},
   "outputs": [
    {
     "data": {
      "text/plain": [
       "({'a': 1, 'b': 2, 'c': 3, 'd': 4},\n",
       " ['a', 'b', 'c', 'd'],\n",
       " {'a', 'b', 'c', 'd'},\n",
       " ['a', 'b', 'c', 'd'])"
      ]
     },
     "execution_count": 29,
     "metadata": {},
     "output_type": "execute_result"
    }
   ],
   "source": [
    "# 合并字典\n",
    "# print(range(3, 6))\n",
    "a = {'a': 1, 'b': 2}\n",
    "b = {'c': 3, 'd': 4}\n",
    "{**a, **b,**a,**b},[*a,*b],{*a,*b},[*a,*b]\n",
    "# {*a,**b}"
   ]
  },
  {
   "cell_type": "markdown",
   "metadata": {},
   "source": [
    "## 1.4 多目标赋值语句\n",
    "\n",
    "直接把所有提供的变量名都赋值给右侧的对象。\n"
   ]
  },
  {
   "cell_type": "code",
   "execution_count": 30,
   "metadata": {},
   "outputs": [
    {
     "data": {
      "text/plain": [
       "('spam', 'spam', 'spam')"
      ]
     },
     "execution_count": 30,
     "metadata": {},
     "output_type": "execute_result"
    }
   ],
   "source": [
    "a = b = c = 'spam'\n",
    "a, b, c"
   ]
  },
  {
   "cell_type": "markdown",
   "metadata": {},
   "source": [
    "**多目标赋值以及共享引用**  \n",
    "这里只有一个对象，由三个变量共享（全部指向内存内同一对象）。这种行为对于不可变类型而言并没问题。\n"
   ]
  },
  {
   "cell_type": "code",
   "execution_count": 31,
   "metadata": {},
   "outputs": [
    {
     "data": {
      "text/plain": [
       "(0, 1)"
      ]
     },
     "execution_count": 31,
     "metadata": {},
     "output_type": "execute_result"
    }
   ],
   "source": [
    "a = b = 0\n",
    "b = b + 1\n",
    "a, b"
   ]
  },
  {
   "cell_type": "markdown",
   "metadata": {},
   "source": [
    "在这里，修改 b 只会对 b 发生修改，因为数字不支持在原处的修改。只要赋值对象是不可变的，即使有一个以上的变量名使用该对象也无所谓。\n",
    "\n",
    "当变量初始值设为空的可变对象时（诸如列表或字典），我们就得小心一点：\n"
   ]
  },
  {
   "cell_type": "code",
   "execution_count": 32,
   "metadata": {},
   "outputs": [
    {
     "data": {
      "text/plain": [
       "([42], [42])"
      ]
     },
     "execution_count": 32,
     "metadata": {},
     "output_type": "execute_result"
    }
   ],
   "source": [
    "a = b = []\n",
    "b.append(42)\n",
    "a, b"
   ]
  },
  {
   "cell_type": "markdown",
   "metadata": {},
   "source": [
    "因为 a 和 b 引用相同的对象，通过 b 在原处附加值上去，通过 a 也会看见所有的效果。\n",
    "\n",
    "为避免这个问题，要在单独的语句中初始化可变对象，以便分别执行独立地常量表达式来创建独立地空对象：\n"
   ]
  },
  {
   "cell_type": "code",
   "execution_count": 33,
   "metadata": {},
   "outputs": [
    {
     "data": {
      "text/plain": [
       "([], [42])"
      ]
     },
     "execution_count": 33,
     "metadata": {},
     "output_type": "execute_result"
    }
   ],
   "source": [
    "a = []               # a, b = [], [] 具有相同效果\n",
    "b = []\n",
    "b.append(42)\n",
    "a, b"
   ]
  },
  {
   "cell_type": "code",
   "execution_count": 34,
   "metadata": {},
   "outputs": [],
   "source": [
    "# zz+=1"
   ]
  },
  {
   "cell_type": "markdown",
   "metadata": {},
   "source": [
    "## 1.5 增强赋值语句\n",
    "\n",
    "`X += Y`&nbsp;&nbsp;&nbsp;&nbsp;&nbsp;&nbsp;`X &= Y`&nbsp;&nbsp;&nbsp;&nbsp;&nbsp;&nbsp;&nbsp;`X -= Y`&nbsp;&nbsp;&nbsp;&nbsp;&nbsp;&nbsp;&nbsp;&nbsp;`X |= Y`  \n",
    "`X *= Y`&nbsp;&nbsp;&nbsp;&nbsp;&nbsp;&nbsp;`X ^= Y`&nbsp;&nbsp;&nbsp;&nbsp;&nbsp;&nbsp;&nbsp;`X /=Y`&nbsp;&nbsp;&nbsp;&nbsp;&nbsp;&nbsp;&nbsp;&nbsp;&nbsp;&nbsp;`X >>= Y`  \n",
    "`X %= Y`&nbsp;&nbsp;&nbsp;&nbsp;&nbsp;&nbsp;`X <<= Y`&nbsp;&nbsp;&nbsp;&nbsp;&nbsp;&nbsp;`X **= Y`&nbsp;&nbsp;&nbsp;&nbsp;&nbsp;&nbsp;`X //= Y`\n"
   ]
  },
  {
   "cell_type": "markdown",
   "metadata": {},
   "source": [
    "增强赋值语句使用于任何支持隐式二元表达式的类型。\n",
    "\n",
    "用于字符串时，增强形式会改为执行合并运算。\n"
   ]
  },
  {
   "cell_type": "code",
   "execution_count": 35,
   "metadata": {},
   "outputs": [
    {
     "data": {
      "text/plain": [
       "'spamSPAM'"
      ]
     },
     "execution_count": 35,
     "metadata": {},
     "output_type": "execute_result"
    }
   ],
   "source": [
    "S = 'spam'\n",
    "S += 'SPAM'           # 隐式合并\n",
    "S"
   ]
  },
  {
   "cell_type": "markdown",
   "metadata": {},
   "source": [
    "增强赋值语句有三个优点：\n",
    "\n",
    "- 程序员输入减少。\n",
    "- 左侧只需计算一次。在完整形式 X = X + Y 中，X 出现两次，必须执行两次，因此，增强赋值语句通常执行得更快。\n",
    "- 优化技术会自动选择。对于支持原处修改的对象而言，增强形式会自动执行原处的修改运算，而不是相比来说速度更慢的复制。\n"
   ]
  },
  {
   "cell_type": "markdown",
   "metadata": {},
   "source": [
    "**增强赋值以及共享引用**  \n",
    "“+=”对列表是做原处修改，不像“+”合并，总是生成新的对象。\n",
    "\n",
    "就所有共享引用情况而言，只有其他变量名引用的对象被修改，其差别才可能体现出来：\n"
   ]
  },
  {
   "cell_type": "code",
   "execution_count": 36,
   "metadata": {},
   "outputs": [
    {
     "data": {
      "text/plain": [
       "([1, 2, 3, 4], [1, 2])"
      ]
     },
     "execution_count": 36,
     "metadata": {},
     "output_type": "execute_result"
    }
   ],
   "source": [
    "L = [1, 2]\n",
    "M = L                     # L 和 M 引用相同对象\n",
    "L = L + [3, 4]            # 合并创建一个新的对象\n",
    "L, M                      # 改变 L，但没有改变 M"
   ]
  },
  {
   "cell_type": "code",
   "execution_count": 37,
   "metadata": {},
   "outputs": [
    {
     "data": {
      "text/plain": [
       "([1, 2, 3, 4], [1, 2, 3, 4])"
      ]
     },
     "execution_count": 37,
     "metadata": {},
     "output_type": "execute_result"
    }
   ],
   "source": [
    "L = [1, 2]\n",
    "M = L\n",
    "L += [3, 4]                # += 会自动调用 extend 方法\n",
    "L, M                       # M 也在原处修改"
   ]
  },
  {
   "cell_type": "markdown",
   "metadata": {},
   "source": [
    "## 1.6 变量命名规则\n",
    "\n",
    "**语法：**（下划线或字母）+（任意数目的字母、数字或下划线）  \n",
    "**区分大小写**  \n",
    "**禁止使用保留字**\n"
   ]
  },
  {
   "cell_type": "markdown",
   "metadata": {},
   "source": [
    "**命名惯例**\n",
    "\n",
    "- 以单一下划线开头的变量名（`_X`）不会被`from module import *`语句导入。\n",
    "- 前后各有两个下划线的变量名（`__X__`）是系统定义的变量名，对解释器有特殊意义。\n",
    "- 以两下划线开头、但结尾没有两个下划线的变量名（`__X`）是类的本地（“压缩”）变量。\n",
    "- 通过交互模式运行时，只有单个下划线的变量名（`_`）会保存最后表达式的结果。\n",
    "\n",
    "Python 程序员通常会遵循各种其他惯例，例如类变量名通常以一个大写字母开头，而模块变量名以小写字母开头。\n"
   ]
  },
  {
   "cell_type": "markdown",
   "metadata": {},
   "source": [
    "# 2. 表达式语句\n",
    "\n",
    "在 Python 中，可以使用表达式作为语句（本身只占一行）。  \n",
    "表达式结果不会存储，只有当表达式工作并作为附加的效果，这样才有意义。\n",
    "\n",
    "通常在两种情况下表达式用作语句：\n",
    "\n",
    "- 调用函数和方法\n",
    "- 在交互模式提示符下打印值\n"
   ]
  },
  {
   "cell_type": "markdown",
   "metadata": {},
   "source": [
    "**常见 Python 表达式语句**\n",
    "\n",
    "| **运算**                 | **解释**                   |\n",
    "| :----------------------- | :------------------------- |\n",
    "| `spam(eggs, ham)`        | 函数调用                   |\n",
    "| `spam.ham(eggs)`         | 方法调用                   |\n",
    "| `spam`                   | 在交互模式解释器内打印变量 |\n",
    "| `print(a, b, c, sep='')` | Python 3.X \"中的打印操作   |\n",
    "| `yield x ** 2`           | 产生表达式的语句           |\n"
   ]
  },
  {
   "cell_type": "markdown",
   "metadata": {},
   "source": [
    "## 2.1 表达式语句和在原处的修改\n",
    "\n",
    "表达式语句通常用于执行可于原处修改列表的列表方法：\n"
   ]
  },
  {
   "cell_type": "code",
   "execution_count": 38,
   "metadata": {},
   "outputs": [
    {
     "data": {
      "text/plain": [
       "[1, 2, 3]"
      ]
     },
     "execution_count": 38,
     "metadata": {},
     "output_type": "execute_result"
    }
   ],
   "source": [
    "L = [1, 2]\n",
    "L.append(3)           # append 在原处修改\n",
    "L"
   ]
  },
  {
   "cell_type": "code",
   "execution_count": 39,
   "metadata": {},
   "outputs": [
    {
     "name": "stdout",
     "output_type": "stream",
     "text": [
      "None\n"
     ]
    }
   ],
   "source": [
    "L = L.append(4)       # append 返回 None，而不是 L\n",
    "print(L)"
   ]
  },
  {
   "cell_type": "markdown",
   "metadata": {},
   "source": [
    "对列表调用 append、sort 或 reverse 这类在原处修改的运算，一定是对列表做原处的修改，但这些方法在列表修改后并不会把列表返回。它们返回的是 None 对象。\n"
   ]
  },
  {
   "cell_type": "markdown",
   "metadata": {},
   "source": [
    "# 3. 打印操作\n",
    "\n",
    "打印是把一个或多个对象转换为其文本表达形式，然后发送给标准输出或另一个类似文件的流。\n"
   ]
  },
  {
   "cell_type": "markdown",
   "metadata": {},
   "source": [
    "## 3.1 print 函数\n",
    "\n",
    "print 内置函数通常在其自身的一行中调用，但是它不会返回我们所关心的任何值（返回 None）。\n",
    "\n",
    "**调用格式**  \n",
    "`print([object, ...][, sep=' '][, end='\\n'][, file=sys.stdout][, flush=False])`  \n",
    "方括号中的项是可选的，函数把字符串 sep 所分隔开的一个或多个对象的文本表示，后面跟着的字符串 end，都打印到流 file 中，在每个 flush 中是否清楚缓存输出。\n",
    "\n",
    "- sep 是在每个对象的文本之间插入的一个字符串，如果没有传递的话，它默认是一个单个的空格；传递一个空字符串将会抑制分隔符。\n",
    "- end 是添加在打印文本末尾的一个字符串，如果没有传递的话，它默认是一个 \\n 换行符。传递一个空字符串将会避免在打印文本的末尾移动到下一个输入行——下一个 print 将会保持添加到当前输出行的末尾。\n",
    "- file 指定了文本将要发送到的文件、标准流或者其他类似文件的对象；如果没有传递的话，它默认是 sys.stdout。带有一个类似文件的 write(string) 方法的任何对象都可以传递，但真正的文件应该已经为了输出而打开。\n",
    "- flush 默认是 False。它允许打印命令将其文本立即通过输出流写入任意等待的接收器。通常，打印的输出是否缓存在内存中取决于 file，传递一个真值给 flush 将强制刷新流。\n",
    "\n",
    "**print 函数的应用**\n"
   ]
  },
  {
   "cell_type": "code",
   "execution_count": 40,
   "metadata": {},
   "outputs": [
    {
     "name": "stdout",
     "output_type": "stream",
     "text": [
      "\n"
     ]
    }
   ],
   "source": [
    "print()               # 显示空行"
   ]
  },
  {
   "cell_type": "code",
   "execution_count": 41,
   "metadata": {},
   "outputs": [
    {
     "name": "stdout",
     "output_type": "stream",
     "text": [
      "spam 99 ['eggs']\n"
     ]
    }
   ],
   "source": [
    "x = 'spam'\n",
    "y = 99\n",
    "z = ['eggs']\n",
    "print(x, y, z)         # 默认打印三个对象"
   ]
  },
  {
   "cell_type": "markdown",
   "metadata": {},
   "source": [
    "print 中不需要把对象转换为字符串，而在文件写入方法中则需要这么做。\n",
    "\n",
    "默认情况下，print 在打印的对象之间添加一个空格。给 sep 关键字参数发送一个空字符串，或者自己所选择的替代分隔符，以取消空格。\n"
   ]
  },
  {
   "cell_type": "code",
   "execution_count": 42,
   "metadata": {},
   "outputs": [
    {
     "name": "stdout",
     "output_type": "stream",
     "text": [
      "spam99['eggs']\n"
     ]
    }
   ],
   "source": [
    "print(x, y, z, sep='')      # 抑制分隔符"
   ]
  },
  {
   "cell_type": "code",
   "execution_count": 43,
   "metadata": {},
   "outputs": [
    {
     "name": "stdout",
     "output_type": "stream",
     "text": [
      "spam,99,['eggs']\n"
     ]
    }
   ],
   "source": [
    "print(x, y, z, sep=',')     # 自定义分隔符"
   ]
  },
  {
   "cell_type": "markdown",
   "metadata": {},
   "source": [
    "默认情况下，print 添加一个末行字符来结束输出行，可以通过向 end 关键字参数传递一个空字符串来避免换行，或者传递一个自己的终止符。\n"
   ]
  },
  {
   "cell_type": "code",
   "execution_count": 44,
   "metadata": {},
   "outputs": [
    {
     "name": "stdout",
     "output_type": "stream",
     "text": [
      "spam 99 ['eggs']"
     ]
    }
   ],
   "source": [
    "print(x, y, z, end='')      # 抑制行终止符"
   ]
  },
  {
   "cell_type": "code",
   "execution_count": 45,
   "metadata": {},
   "outputs": [
    {
     "name": "stdout",
     "output_type": "stream",
     "text": [
      "spam 99 ['eggs']spam 99 ['eggs']\n"
     ]
    }
   ],
   "source": [
    "print(x, y, z, end='')\n",
    "print(x, y, z)"
   ]
  },
  {
   "cell_type": "code",
   "execution_count": 46,
   "metadata": {},
   "outputs": [
    {
     "name": "stdout",
     "output_type": "stream",
     "text": [
      "spam 99 ['eggs']...\n"
     ]
    }
   ],
   "source": [
    "print(x, y, z, end='...\\n')    # 自定义行终止符"
   ]
  },
  {
   "cell_type": "markdown",
   "metadata": {},
   "source": [
    "也可以组合关键字参数来指定分隔符和行末字符串。\n"
   ]
  },
  {
   "cell_type": "code",
   "execution_count": 47,
   "metadata": {},
   "outputs": [
    {
     "name": "stdout",
     "output_type": "stream",
     "text": [
      "spam...99...['eggs']!\n"
     ]
    }
   ],
   "source": [
    "print(x, y, z, sep='...', end='!\\n')    # 多个关键字"
   ]
  },
  {
   "cell_type": "code",
   "execution_count": 106,
   "metadata": {},
   "outputs": [],
   "source": [
    "print(x, y, z, end='!\\n', sep='...')"
   ]
  },
  {
   "cell_type": "markdown",
   "metadata": {},
   "source": [
    "使用 file 关键字，在单个打印的过程中，直接把文本打印到一个输出文件或者其他的可兼容对象。\n"
   ]
  },
  {
   "cell_type": "code",
   "execution_count": 107,
   "metadata": {
    "collapsed": true
   },
   "outputs": [],
   "source": [
    "print(x, y, z, sep='...', file=open('data.txt', 'w'))    # 打印到文件"
   ]
  },
  {
   "cell_type": "code",
   "execution_count": 108,
   "metadata": {},
   "outputs": [],
   "source": [
    "print(open('data.txt').read())      # 显示文件文本"
   ]
  },
  {
   "cell_type": "markdown",
   "metadata": {},
   "source": [
    "print 操作提供的分隔符和行末选项只是为了方便起见。如果需要显示更具体的格式，提前构建一个更复杂的字符串或者在 print 自身之中使用字符串工具，并一次性打印该字符串。\n"
   ]
  },
  {
   "cell_type": "code",
   "execution_count": 109,
   "metadata": {},
   "outputs": [],
   "source": [
    "text = '%s: %-.4f, %05d' % ('Result', 3.14159, 42)\n",
    "print(text)"
   ]
  },
  {
   "cell_type": "code",
   "execution_count": 110,
   "metadata": {},
   "outputs": [],
   "source": [
    "print('%s: %-.4f, %05d' % ('Result', 3.14159, 42))"
   ]
  },
  {
   "cell_type": "markdown",
   "metadata": {},
   "source": [
    "## 3.2 打印流重定向\n",
    "\n",
    "**重定向输出流**  \n",
    "`print(X, Y)`  \n",
    "等价于:\n",
    "\n",
    "```import sys\n",
    "sys.stdout.write(str(X) + ' ' + str(Y) + '\\n')\n",
    "```\n",
    "\n",
    "可以把 sys.stdout 重新赋值给标准输出流以外的东西。  \n",
    "这种等效的方式提供了一种方法，可以让 print 语句将文字传送到其他地方。\n"
   ]
  },
  {
   "cell_type": "code",
   "execution_count": 111,
   "metadata": {
    "collapsed": true
   },
   "outputs": [],
   "source": [
    "import sys\n",
    "sys.stdout = open('log.txt', 'a')      # 重定向打印至一个文件"
   ]
  },
  {
   "cell_type": "code",
   "execution_count": 112,
   "metadata": {
    "collapsed": true
   },
   "outputs": [],
   "source": [
    "print(x, y, z)"
   ]
  },
  {
   "cell_type": "markdown",
   "metadata": {},
   "source": [
    "重设 sys.stdout 后，程序中任何地方的 print 语句都会讲文字写至文件 log.txt 的末尾，而不是原始的输出流。\n",
    "\n",
    "进程中只有一个 sys 模块，通过这种方式赋值 sys.stdout 会把程序中任何地方的每个 print 都进行重定向。\n",
    "\n",
    "甚至可以将 sys.stdout 重设为非文件的对象，只要该对象有 write 方法。当该对象是类时，打印的文字可以定位并通过任意方式进行处理。\n"
   ]
  },
  {
   "cell_type": "markdown",
   "metadata": {},
   "source": [
    "**自动化流重定向**  \n",
    "通过赋值 sys.stdout 而将打印文字重定向的技巧实际上非常常用。但是有一个潜在的问题，就是没有直接的方式可以保存原始的输出流，在打印至文件后，可以切换回来。\n",
    "\n",
    "在 Python 3.X 中，file 关键字允许一个单个的 print 调用将其文本发送给一个文件的 write 方法，而不用真正地重设 sys.stdout。因为这种重定向是暂时的，普通的 print 语句还是会继续打印到原始的输出流。\n"
   ]
  },
  {
   "cell_type": "code",
   "execution_count": 113,
   "metadata": {},
   "outputs": [],
   "source": [
    "log = open('log.txt', 'a')\n",
    "print(x, y, z, file=log)        # 打印到文件对象\n",
    "print(x, y, z)                  # 打印到原始输出流"
   ]
  },
  {
   "cell_type": "markdown",
   "metadata": {},
   "source": [
    "这种 print 的扩展形式通常也用于把错误消息打印到标准错误流 sys.stderr。可以使用其文件 write 方法以及自行设置输出的格式，或者使用重定向语法打印。\n"
   ]
  },
  {
   "cell_type": "code",
   "execution_count": 114,
   "metadata": {},
   "outputs": [
    {
     "name": "stderr",
     "output_type": "stream",
     "text": [
      "Bad!Bad!Bad!Bad!Bad!Bad!Bad!Bad!\n"
     ]
    },
    {
     "data": {
      "text/plain": [
       "33"
      ]
     },
     "execution_count": 114,
     "metadata": {},
     "output_type": "execute_result"
    }
   ],
   "source": [
    "import sys\n",
    "sys.stderr.write(('Bad!' * 8) + '\\n')"
   ]
  },
  {
   "cell_type": "code",
   "execution_count": 115,
   "metadata": {},
   "outputs": [
    {
     "name": "stderr",
     "output_type": "stream",
     "text": [
      "Bad!Bad!Bad!Bad!Bad!Bad!Bad!Bad!\n"
     ]
    }
   ],
   "source": [
    "print('Bad!' * 8, file=sys.stderr)"
   ]
  }
 ],
 "metadata": {
  "kernelspec": {
   "display_name": "Python 3",
   "language": "python",
   "name": "python3"
  },
  "language_info": {
   "codemirror_mode": {
    "name": "ipython",
    "version": 3
   },
   "file_extension": ".py",
   "mimetype": "text/x-python",
   "name": "python",
   "nbconvert_exporter": "python",
   "pygments_lexer": "ipython3",
   "version": "3.11.4"
  }
 },
 "nbformat": 4,
 "nbformat_minor": 2
}
