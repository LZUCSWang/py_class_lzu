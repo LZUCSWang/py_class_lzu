{
 "cells": [
  {
   "cell_type": "markdown",
   "metadata": {},
   "source": [
    "# 1. 为何使用函数  \n",
    "- **最大化的代码重用和最小化代码冗余。** 函数允许整合以及通用化代码，以便这些代码能够在之后多次使用。\n",
    "- **流程的分解。** 函数提供了一种将一个系统分割为定义完好的不同部分的工具。  \n",
    "\n",
    "# 2. 编写函数  \n",
    "关于 Python 函数背后的一些主要概念的介绍：\n",
    "- **def 是可执行的代码。** Python 的函数由 def 语句进行编写。在典型的操作中，def 语句在模块文件中编写，并自然而然地在模块文件第一次被导入的时候生成定义的函数。\n",
    "- **def 创建了一个对象并将其赋值给某一变量名。** 函数名称为某一个函数的引用。\n",
    "- **lambda 创建一个对象但将其作为结果返回。**\n",
    "- **return 将一个结果对象发送给调用者。** 函数通过 return 语句将计算得到的值传递给调用者，返回值称为函数调用的结果。\n",
    "- **yield 向调用者发回一个结果对象，但是记住它离开的地方。** 像生成器这样的函数也可以通过 yield 语句来返回值，并挂起它们的状态以便稍后能够恢复状态。\n",
    "- **global 声明了一个模块级的变量并被赋值。** 默认情况下，所有在一个函数中被赋值的对象，是这个函数的本地变量，并且仅在这个函数运行的过程中存在。为了分配一个可以在整个模块中都可以使用的变量名，函数需要在 global 语句中将它列举出来。\n",
    "- **nonlocal 声明了将要赋值的一个封闭的函数变量。** nonlocal 语句允许一个函数来赋值一条语法封闭的 def 语句的作用域中已有的名称。这就允许封闭的函数作为保留状态的一个地方——当一个函数调用的时候，信息被记住了——而不必使用共享的全局名称。\n",
    "- **参数是通过赋值（对象引用）传递的。**\n",
    "- **参数是通过位置传递的，除非另外指定。**\n",
    "- **参数、返回值以及变量并不是声明。**\n",
    "\n",
    "## 2.1 def 语句  \n",
    "def 语句创建一个函数对象并将其赋值给一个变量名："
   ]
  },
  {
   "cell_type": "code",
   "execution_count": null,
   "metadata": {},
   "outputs": [],
   "source": [
    "# def <name>(arg1, arg2,..., argN):\n",
    "#     <statements>\n",
    "#     return <value>"
   ]
  },
  {
   "cell_type": "markdown",
   "metadata": {},
   "source": [
    "Python 的 return 语句可以在函数主体中的任何地方出现，它表示函数调用的结束，并将结果返回至函数调用处。  \n",
    "\n",
    "return 语句是可选的，如果没有出现，那么函数将会在控制流执行完函数主体时结束。**一个没有返回值的函数会自动返回 None 对象。**"
   ]
  },
  {
   "cell_type": "markdown",
   "metadata": {},
   "source": [
    "## 2.2 def 语句是实时执行的  \n",
    "Python 的 def 语句是一个可执行的语句：当它运行的时候，它创建一个新的函数对象并将其赋值给一个变量名。  \n",
    "\n",
    "def 很像 = 语句，它在运行时简单地给一个变量名进行赋值。Python 函数在程序运行之前并不需要全部定义。def 在运行时才进行评估。"
   ]
  },
  {
   "cell_type": "markdown",
   "metadata": {},
   "source": [
    "# 3. 定义和调用  \n",
    "## 3.1 定义  "
   ]
  },
  {
   "cell_type": "code",
   "execution_count": 1,
   "metadata": {},
   "outputs": [],
   "source": [
    "def times(x, y):\n",
    "    return x * y"
   ]
  },
  {
   "cell_type": "markdown",
   "metadata": {},
   "source": [
    "Python 会创建一个新的函数对象，封装这个函数的代码并将这个对象赋值给变量名 times。"
   ]
  },
  {
   "cell_type": "markdown",
   "metadata": {},
   "source": [
    "## 3.2 调用  \n",
    "在 def 运行之后，可以在程序中通过在函数名后增加括号调用（运行）这个函数。"
   ]
  },
  {
   "cell_type": "code",
   "execution_count": 2,
   "metadata": {},
   "outputs": [
    {
     "data": {
      "text/plain": [
       "8"
      ]
     },
     "execution_count": 2,
     "metadata": {},
     "output_type": "execute_result"
    }
   ],
   "source": [
    "times(2, 4)"
   ]
  },
  {
   "cell_type": "code",
   "execution_count": 3,
   "metadata": {},
   "outputs": [
    {
     "data": {
      "text/plain": [
       "'NiNiNiNi'"
      ]
     },
     "execution_count": 3,
     "metadata": {},
     "output_type": "execute_result"
    }
   ],
   "source": [
    "times('Ni', 4)"
   ]
  },
  {
   "cell_type": "markdown",
   "metadata": {},
   "source": [
    "## 3.3 Python 中的多态  \n",
    "times 函数中表达式 `x*y` 的意义完全取决于 x 和 y 的对象类型。Python 对某一对象在某种语法的合理性交由对象自身来判断，这种依赖类型的行为称为多态。"
   ]
  },
  {
   "cell_type": "code",
   "execution_count": null,
   "metadata": {},
   "outputs": [],
   "source": []
  }
 ],
 "metadata": {
  "kernelspec": {
   "display_name": "Python 3",
   "language": "python",
   "name": "python3"
  },
  "language_info": {
   "codemirror_mode": {
    "name": "ipython",
    "version": 3
   },
   "file_extension": ".py",
   "mimetype": "text/x-python",
   "name": "python",
   "nbconvert_exporter": "python",
   "pygments_lexer": "ipython3",
   "version": "3.6.5"
  }
 },
 "nbformat": 4,
 "nbformat_minor": 2
}
