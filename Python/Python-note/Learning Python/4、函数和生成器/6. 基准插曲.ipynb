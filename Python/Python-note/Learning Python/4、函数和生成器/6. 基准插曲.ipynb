{
 "cells": [
  {
   "cell_type": "markdown",
   "metadata": {},
   "source": [
    "# 1. 对迭代的各种方法进行计时  \n",
    "列表解析要比 for 循环语句有速度方面的性能优势，而且 map 会依据调用方法的不同表现出更好或更差的性能。生成器函数和表达式比列表解析速度慢一些，但是它们把内存需求降到了最小，并且不会延迟结果的生成。  \n",
    "\n",
    "## 1.1 对模块计时  \n",
    "获取多次调用函数的总时间的简单函数："
   ]
  },
  {
   "cell_type": "code",
   "execution_count": 1,
   "metadata": {},
   "outputs": [],
   "source": [
    "# timer0.py 文件\n",
    "import time\n",
    "def timer(func, *args):\n",
    "    start = time.clock()\n",
    "    for i in range(1000):               # 调用 1000 次\n",
    "        func(*args)\n",
    "    return time.clock() - start"
   ]
  },
  {
   "cell_type": "code",
   "execution_count": 2,
   "metadata": {},
   "outputs": [
    {
     "data": {
      "text/plain": [
       "0.0007808002220942854"
      ]
     },
     "execution_count": 2,
     "metadata": {},
     "output_type": "execute_result"
    }
   ],
   "source": [
    "from timer0 import timer\n",
    "timer(pow, 2, 1000)"
   ]
  },
  {
   "cell_type": "code",
   "execution_count": 3,
   "metadata": {},
   "outputs": [
    {
     "data": {
      "text/plain": [
       "8.50489130801435e-05"
      ]
     },
     "execution_count": 3,
     "metadata": {},
     "output_type": "execute_result"
    }
   ],
   "source": [
    "timer(str.upper, 'spam')"
   ]
  },
  {
   "cell_type": "markdown",
   "metadata": {},
   "source": [
    "一个依旧简单，但是更有用的计时器函数："
   ]
  },
  {
   "cell_type": "code",
   "execution_count": 5,
   "metadata": {},
   "outputs": [],
   "source": [
    "# timer.py 文件\n",
    "import time, sys\n",
    "timer = time.clock if sys.platform[:3] == 'win' else time.time\n",
    "\n",
    "def total(reps, func, *pargs, **kargs):\n",
    "    \"\"\"\n",
    "    Total time to run func() reps times.  \n",
    "    Return (total time, last result)  \n",
    "    \"\"\"\n",
    "    repslist = list(range(reps))\n",
    "    start = timer()\n",
    "    for i in repslist:\n",
    "        ret = func(*pargs, **kargs)\n",
    "    elapsed = timer() - start\n",
    "    return (elapsed, ret)\n",
    "\n",
    "def bestof(reps, func, *pargs, **kargs):\n",
    "    \"\"\"\n",
    "    Quickest func() among reps runs.\n",
    "    Returns (best time, last result)\n",
    "    \"\"\"\n",
    "    best = 2 ** 32 \n",
    "    for i in range(reps):                     # range 在这里不被计时\n",
    "        start = timer()\n",
    "        ret = func(*pargs, **kargs)\n",
    "        elapsed = timer() - start \n",
    "        if elapsed < best: best = elapsed\n",
    "    return (best, ret)\n",
    "\n",
    "def bestoftotal(reps1, reps2, func, *pargs, **kargs):\n",
    "    \"\"\"\n",
    "    Best of totals:  \n",
    "    (best of reps1 runs of (total of reps2 runs of func))  \n",
    "    \"\"\"\n",
    "    return bestof(reps1, total, reps2, func, *pargs, **kargs)"
   ]
  },
  {
   "cell_type": "markdown",
   "metadata": {},
   "source": [
    "这个版本解决最初版本缺点的一些要点：\n",
    "- Python 的 time 模块获取当前的时间，精度随着每个平台而有所不同。在 Windows 上的 clock 函数调用能够达到微秒的精度。因为 time 函数在 Unix 上可能更好，这个脚本通过平台自动选择函数。\n",
    "- range 调用在 total 函数中被放到了计时循环之外，因此，它的构建成本不会计算到 Python 2.X 的计时函数中，在 Python 3.X 的 range 是一个迭代器，因此这个步骤是不需要也无害的。\n",
    "- reps 计数作为一个参数传入，在测试函数和参数之前，允许每次调用中重复不同次数。\n",
    "- 任意数量的位置和关键字参数都会被带星号的参数收集，因此它们必须独立地传入，而不是以序列或字典的形式。如果需要，调用者可以将参数集合解包为独立参数。\n",
    "- 第一个函数返回元组中所有调用的经过时间，和函数最终的返回值。\n",
    "- 第二个函数类似，但是返回最优（最小）时间而不是总时间。\n",
    "- 最后一个函数在最优测试中嵌套完全测试，得到完全最优时间。"
   ]
  },
  {
   "cell_type": "code",
   "execution_count": 6,
   "metadata": {},
   "outputs": [
    {
     "data": {
      "text/plain": [
       "0.0007961602264572321"
      ]
     },
     "execution_count": 6,
     "metadata": {},
     "output_type": "execute_result"
    }
   ],
   "source": [
    "import timer\n",
    "timer.total(1000, pow, 2, 1000)[0]"
   ]
  },
  {
   "cell_type": "code",
   "execution_count": 7,
   "metadata": {},
   "outputs": [
    {
     "data": {
      "text/plain": [
       "(7.651557731946923e-05, 'SPAM')"
      ]
     },
     "execution_count": 7,
     "metadata": {},
     "output_type": "execute_result"
    }
   ],
   "source": [
    "timer.total(1000, str.upper, 'spam')"
   ]
  },
  {
   "cell_type": "code",
   "execution_count": 10,
   "metadata": {},
   "outputs": [
    {
     "data": {
      "text/plain": [
       "(0.0, 'SPAM')"
      ]
     },
     "execution_count": 10,
     "metadata": {},
     "output_type": "execute_result"
    }
   ],
   "source": [
    "timer.bestof(1000, str.upper, 'spam')"
   ]
  },
  {
   "cell_type": "code",
   "execution_count": 11,
   "metadata": {},
   "outputs": [
    {
     "data": {
      "text/plain": [
       "0.0029186852746647673"
      ]
     },
     "execution_count": 11,
     "metadata": {},
     "output_type": "execute_result"
    }
   ],
   "source": [
    "timer.bestof(1000, pow, 2, 1000000)[0]"
   ]
  },
  {
   "cell_type": "code",
   "execution_count": 12,
   "metadata": {},
   "outputs": [
    {
     "data": {
      "text/plain": [
       "(8.760891378756241e-05, (7.623113279464633e-05, 'SPAM'))"
      ]
     },
     "execution_count": 12,
     "metadata": {},
     "output_type": "execute_result"
    }
   ],
   "source": [
    "timer.bestof(50, timer.total, 1000, str.upper, 'spam')"
   ]
  },
  {
   "cell_type": "code",
   "execution_count": 13,
   "metadata": {},
   "outputs": [
    {
     "data": {
      "text/plain": [
       "(8.789335831238532e-05, (7.594668826982343e-05, 'SPAM'))"
      ]
     },
     "execution_count": 13,
     "metadata": {},
     "output_type": "execute_result"
    }
   ],
   "source": [
    "timer.bestoftotal(50, 1000, str.upper, 'spam')"
   ]
  },
  {
   "cell_type": "markdown",
   "metadata": {},
   "source": [
    "最后两个计算完全最优时间——在 50 次运行中的最优时间，每次计算调用 str.upper 1000 次的总时间。  \n",
    "\n",
    "使用基于生成器的 min 可以产生类似的效果："
   ]
  },
  {
   "cell_type": "code",
   "execution_count": 14,
   "metadata": {},
   "outputs": [
    {
     "data": {
      "text/plain": [
       "(7.566224371657881e-05, 'SPAM')"
      ]
     },
     "execution_count": 14,
     "metadata": {},
     "output_type": "execute_result"
    }
   ],
   "source": [
    "min(timer.total(1000, str.upper, 'spam') for i in range(50))"
   ]
  },
  {
   "cell_type": "markdown",
   "metadata": {},
   "source": [
    "## 1.2 计时脚本  \n",
    "测试五种构建结果列表的替代方法："
   ]
  },
  {
   "cell_type": "code",
   "execution_count": 18,
   "metadata": {},
   "outputs": [
    {
     "name": "stdout",
     "output_type": "stream",
     "text": [
      "3.6.5 |Anaconda, Inc.| (default, Mar 29 2018, 13:32:41) [MSC v.1900 64 bit (AMD64)]\n",
      "forloop  : 1.02399 => [0...9999]\n",
      "listComp : 0.57107 => [0...9999]\n",
      "mapCall  : 0.25094 => [0...9999]\n",
      "genExpr  : 0.91124 => [0...9999]\n",
      "genFunc  : 0.97723 => [0...9999]\n"
     ]
    }
   ],
   "source": [
    "# timeseqs.py 文件\n",
    "import sys, timer\n",
    "reps = 10000\n",
    "repslist = list(range(reps))\n",
    "\n",
    "def forloop():\n",
    "    res = []\n",
    "    for x in repslist:\n",
    "        res.append(abs(x))\n",
    "    return res\n",
    "\n",
    "def listComp():\n",
    "    return [abs(x) for x in repslist]\n",
    "\n",
    "def mapCall():\n",
    "    return list(map(abs, repslist))\n",
    "\n",
    "def genExpr():\n",
    "    return list(abs(x) for x in repslist)\n",
    "\n",
    "def genFunc():\n",
    "    def gen():\n",
    "        for x in repslist:\n",
    "            yield abs(x)\n",
    "    return list(gen())\n",
    "\n",
    "print(sys.version)\n",
    "for test in (forloop, listComp, mapCall, genExpr, genFunc):\n",
    "    (bestof, (total, result)) = timer.bestoftotal(5, 1000, test)\n",
    "    print('%-9s: %.5f => [%s...%s]'%\n",
    "          (test.__name__, bestof, result[0], result[-1]))"
   ]
  },
  {
   "cell_type": "markdown",
   "metadata": {},
   "source": [
    "## 1.3 计时结果  \n",
    "map 比列表解析略微快一点，但二者都比 for 循环要快很多，生成器表达式和函数速度居中。  \n",
    "\n",
    "**函数调用的影响：map**  \n",
    "当在每次迭代上执行一个真正的操作，而不是调用内置函数时："
   ]
  },
  {
   "cell_type": "code",
   "execution_count": 19,
   "metadata": {},
   "outputs": [
    {
     "name": "stdout",
     "output_type": "stream",
     "text": [
      "3.6.5 |Anaconda, Inc.| (default, Mar 29 2018, 13:32:41) [MSC v.1900 64 bit (AMD64)]\n",
      "forloop  : 0.86569 => [10...10009]\n",
      "listComp : 0.37758 => [10...10009]\n",
      "mapCall  : 0.94133 => [10...10009]\n",
      "genExpr  : 0.71446 => [10...10009]\n",
      "genFunc  : 0.74132 => [10...10009]\n"
     ]
    }
   ],
   "source": [
    "# timeseqs.py 文件\n",
    "import sys, timer\n",
    "reps = 10000\n",
    "repslist = list(range(reps))\n",
    "\n",
    "def forloop():\n",
    "    res = []\n",
    "    for x in repslist:\n",
    "        res.append(x + 10)\n",
    "    return res\n",
    "\n",
    "def listComp():\n",
    "    return [x + 10 for x in repslist]\n",
    "\n",
    "def mapCall():\n",
    "    return list(map((lambda x: x + 10), repslist))\n",
    "\n",
    "def genExpr():\n",
    "    return list(x + 10 for x in repslist)\n",
    "\n",
    "def genFunc():\n",
    "    def gen():\n",
    "        for x in repslist:\n",
    "            yield x + 10\n",
    "    return list(gen())\n",
    "\n",
    "print(sys.version)\n",
    "for test in (forloop, listComp, mapCall, genExpr, genFunc):\n",
    "    (bestof, (total, result)) = timer.bestoftotal(5, 1000, test)\n",
    "    print('%-9s: %.5f => [%s...%s]'%\n",
    "          (test.__name__, bestof, result[0], result[-1]))"
   ]
  },
  {
   "cell_type": "markdown",
   "metadata": {},
   "source": [
    "如果需要针对 map 调用来调用一个用户定义的函数，会使它比 for 循环语句慢。  "
   ]
  },
  {
   "cell_type": "markdown",
   "metadata": {},
   "source": [
    "## 1.4 计时模块替代方案  \n",
    "前面的计时模块可以更加用户友好，最明显的，它的函数需要传递一个重复计数作为第一个参数，没有提供默认参数，也可以利用 min 技术来简化返回值。  \n",
    "\n",
    "如下的替代实现解决了这些问题，允许重复计数作为一个名为 `_reps` 的关键字参数传入："
   ]
  },
  {
   "cell_type": "code",
   "execution_count": 20,
   "metadata": {},
   "outputs": [],
   "source": [
    "# timer2.py 文件\n",
    "\"\"\"\n",
    "total(spam, 1, 2, a=3, b=4, _reps=1000) calls and times spam(1, 2, a=3, b=4)\n",
    "_reps times, and return total time for all runs, with final result.\n",
    "\n",
    "bestof(spam, 1, 2, a=3, b=4, _reps=5) runs best-of-N timer to attempt to\n",
    "filter out system load variation, and returns best time among _reps tests.\n",
    "\n",
    "bestoftotal(spam, 1, 2, a=3, b=4, _reps1=5, reps=1000) runs best-of-totals\n",
    "test, which takes the best among _reps1 runs of (the total of _reps runs);\n",
    "\"\"\"\n",
    "\n",
    "import time, sys\n",
    "timer = time.clock if sys.platform[:3] == 'win' else time.time\n",
    "\n",
    "def total(func, *pargs, **kargs):\n",
    "    _reps = kargs.pop('_reps', 1000)           # 传入或者默认 reps\n",
    "    repslist = list(range(_reps))\n",
    "    start = timer()\n",
    "    for i in repslist:\n",
    "        ret = func(*pargs, **kargs)\n",
    "    elapsed = timer() - start\n",
    "    return (elapsed, ret)\n",
    "\n",
    "def bestof(func, *pargs, **kargs):\n",
    "    _reps = kargs.pop('_reps', 5)\n",
    "    best = 2 ** 32\n",
    "    for i in range(_reps):\n",
    "        start = timer()\n",
    "        ret = func(*pargs, **kargs)\n",
    "        elapsed = timer() - start\n",
    "        if elapsed < best: best = elapsed\n",
    "    return (best, ret)\n",
    "\n",
    "def bestoftotal(func, *pargs, **kargs):\n",
    "    _reps1 = kargs.pop('_reps1', 5)\n",
    "    return min(total(func, *pargs, **kargs) for i in range(_reps1))"
   ]
  },
  {
   "cell_type": "markdown",
   "metadata": {},
   "source": [
    "使用字典的 pop 操作移除 `_reps` 参数，用于测试函数和提供默认值。 "
   ]
  },
  {
   "cell_type": "code",
   "execution_count": 21,
   "metadata": {},
   "outputs": [
    {
     "data": {
      "text/plain": [
       "0.0007907557774160523"
      ]
     },
     "execution_count": 21,
     "metadata": {},
     "output_type": "execute_result"
    }
   ],
   "source": [
    "from timer2 import total, bestof, bestoftotal\n",
    "total(pow, 2, 1000)[0]                             # 使用默认重复次数"
   ]
  },
  {
   "cell_type": "code",
   "execution_count": 22,
   "metadata": {},
   "outputs": [
    {
     "data": {
      "text/plain": [
       "0.08083116966008674"
      ]
     },
     "execution_count": 22,
     "metadata": {},
     "output_type": "execute_result"
    }
   ],
   "source": [
    "total(pow, 2, 1000, _reps=100000)[0]               # 1M 次重复"
   ]
  },
  {
   "cell_type": "code",
   "execution_count": 24,
   "metadata": {},
   "outputs": [
    {
     "data": {
      "text/plain": [
       "0.00022954673113417812"
      ]
     },
     "execution_count": 24,
     "metadata": {},
     "output_type": "execute_result"
    }
   ],
   "source": [
    "bestof(pow, 2, 100000, _reps=30)[0]"
   ]
  },
  {
   "cell_type": "code",
   "execution_count": 25,
   "metadata": {},
   "outputs": [
    {
     "data": {
      "text/plain": [
       "(7.566224303445779e-05, 'SPAM')"
      ]
     },
     "execution_count": 25,
     "metadata": {},
     "output_type": "execute_result"
    }
   ],
   "source": [
    "bestoftotal(str.upper, 'spam', _reps1=30, _reps=1000)"
   ]
  },
  {
   "cell_type": "markdown",
   "metadata": {},
   "source": [
    "**在 Python 3.X 中使用 keyword-only 参数**  \n",
    "可以使用 Python 3.X 的 keyword-only 参数来简化计时器模块代码："
   ]
  },
  {
   "cell_type": "code",
   "execution_count": 26,
   "metadata": {},
   "outputs": [],
   "source": [
    "# timer3.py 文件\n",
    "\"\"\"\n",
    "Same usage as timer2.py, but uses 3.X keyword-only default arguments\n",
    "instead of dict pops for simpler code. No need to hoist range() out\n",
    "of tests in 3.X: always a generator in 3.X, and this can't run on 2.X.\"\"\"\n",
    "import time, sys\n",
    "timer = time.clock if sys.platform[:3] == 'win' else time.time\n",
    "\n",
    "def total(func, *pargs, _reps=1000, **kargs):\n",
    "    start = timer()\n",
    "    for i in range(_reps):\n",
    "        ret = func(*pargs, **kargs)\n",
    "    elapsed = timer() - start\n",
    "    return (elapsed, ret)\n",
    "\n",
    "def bestof(func, *pargs, _reps=5, **kargs):\n",
    "    best = 2 ** 32\n",
    "    for i in range(_reps):\n",
    "        start = timer()\n",
    "        ret = func(*pargs, **kargs)\n",
    "        elapsed = timer() - start\n",
    "        if elapsed < best: best = elapsed\n",
    "    return (best, ret)\n",
    "\n",
    "def bestoftotal(func, *pargs, _reps1=5, **kargs):\n",
    "    return min(total(func, *pargs, **kargs) for i in range(_reps1))"
   ]
  },
  {
   "cell_type": "markdown",
   "metadata": {},
   "source": [
    "# 2. 使用 timeit 对迭代和 Python 进行计时  \n",
    "标准函数提供了一个 timeit 模块对函数进行计时。  \n",
    "\n",
    "## 2.1 基本 timeit 用法  \n",
    "使用 timeit，测试方法由可调用对象或者语句字符串指定；对于后者，可以使用 `;` 分隔符或者 `\\n` 换行符来执行多个语句，使用空格或制表符在嵌套块中缩进语句。测试可以通过命令行和 API 调用执行。  \n",
    "\n",
    "**交互式用法和 API 调用**  "
   ]
  },
  {
   "cell_type": "code",
   "execution_count": 27,
   "metadata": {},
   "outputs": [
    {
     "data": {
      "text/plain": [
       "0.2696741744839528"
      ]
     },
     "execution_count": 27,
     "metadata": {},
     "output_type": "execute_result"
    }
   ],
   "source": [
    "import timeit  \n",
    "min(timeit.repeat(stmt='[x ** 2 for x in range(1000)]', number=1000, repeat=5))"
   ]
  },
  {
   "cell_type": "markdown",
   "metadata": {},
   "source": [
    "**命令行用法**  \n",
    "在这个模式中，timeit 报告 n 次循环的平均用时，单位为微秒(usec)、毫秒(msec)或秒(sec)。"
   ]
  },
  {
   "cell_type": "code",
   "execution_count": 31,
   "metadata": {},
   "outputs": [],
   "source": [
    "!E:\\Anaconda\\Lib\\timeit.py -n 1000 \"[x ** 2 for x in range(1000)]\""
   ]
  },
  {
   "cell_type": "code",
   "execution_count": 30,
   "metadata": {},
   "outputs": [
    {
     "name": "stdout",
     "output_type": "stream",
     "text": [
      "1000 loops, best of 3: 262 usec per loop\n"
     ]
    }
   ],
   "source": [
    "!Python -m timeit -n 1000 \"[x ** 2 for x in range(1000)]\""
   ]
  },
  {
   "cell_type": "code",
   "execution_count": 34,
   "metadata": {},
   "outputs": [
    {
     "name": "stdout",
     "output_type": "stream",
     "text": [
      "1000 loops, best of 5: 274 usec per loop\n"
     ]
    }
   ],
   "source": [
    "!Python -m timeit -n 1000 -r 5 \"[x ** 2 for x in range(1000)]\""
   ]
  },
  {
   "cell_type": "markdown",
   "metadata": {},
   "source": [
    "**对多行语句计时**  \n",
    "使用换行符、制表符或者空格来满足 Python 的语法。"
   ]
  },
  {
   "cell_type": "code",
   "execution_count": 1,
   "metadata": {},
   "outputs": [
    {
     "data": {
      "text/plain": [
       "0.006462304362332779"
      ]
     },
     "execution_count": 1,
     "metadata": {},
     "output_type": "execute_result"
    }
   ],
   "source": [
    "import timeit\n",
    "min(timeit.repeat(number=10000, repeat=3,\n",
    "    stmt='L = [1, 2, 3, 4, 5]\\nfor i in range(len(L)): L[i] += 1'))"
   ]
  },
  {
   "cell_type": "code",
   "execution_count": 2,
   "metadata": {},
   "outputs": [
    {
     "data": {
      "text/plain": [
       "0.008284458583247556"
      ]
     },
     "execution_count": 2,
     "metadata": {},
     "output_type": "execute_result"
    }
   ],
   "source": [
    "min(timeit.repeat(number=10000, repeat=3,\n",
    "    stmt='L = [1, 2, 3, 4, 5]\\ni=0\\nwhile i < len(L):\\n\\tL[i] += 1\\n\\ti += 1'))"
   ]
  },
  {
   "cell_type": "code",
   "execution_count": 3,
   "metadata": {
    "scrolled": true
   },
   "outputs": [
    {
     "data": {
      "text/plain": [
       "0.004370780792811502"
      ]
     },
     "execution_count": 3,
     "metadata": {},
     "output_type": "execute_result"
    }
   ],
   "source": [
    "min(timeit.repeat(number=10000, repeat=3,\n",
    "    stmt='L = [1, 2, 3, 4, 5]\\nM = [x + 1 for x in L]'))"
   ]
  },
  {
   "cell_type": "markdown",
   "metadata": {},
   "source": [
    "在命令行模式中，每一个语句作为一个单独的参数，使用空格作为缩进。"
   ]
  },
  {
   "cell_type": "code",
   "execution_count": 4,
   "metadata": {},
   "outputs": [
    {
     "name": "stdout",
     "output_type": "stream",
     "text": [
      "1000 loops, best of 3: 0.759 usec per loop\n"
     ]
    }
   ],
   "source": [
    "!python -m timeit -n 1000 -r 3 \"L = [1, 2, 3, 4, 5]\" \"i=0\" \"while i < len(L):\" \"    L[i] += 1\" \"    i += 1\""
   ]
  },
  {
   "cell_type": "markdown",
   "metadata": {},
   "source": [
    "## 2.2 基准模块和脚本：timeit  "
   ]
  },
  {
   "cell_type": "code",
   "execution_count": 15,
   "metadata": {},
   "outputs": [],
   "source": [
    "\"\"\"\n",
    "pybench.py: Test speed of one or more Pythons on a set of simple\n",
    "code-string benchmarks. A function, to allow stmts to vary.\n",
    "This system itself runs on both 2.X and 3.X, and may spawn both.\n",
    "Uses timeit to test either the Python running this script by API\n",
    "calls, or a set of Pythons by reading spawned command-line outputs\n",
    "(os.popen) with Python's -m flag to find timeit on module search path.\n",
    "Replaces $listif3 with a list() around generators for 3.X and an\n",
    "empty string for 2.X, so 3.X does same work as 2.X. In command-line\n",
    "mode only, must split multiline statements into one separate quoted\n",
    "argument per line so all will be run (else might run/time first line\n",
    "only), and replace all \\t in indentation with 4 spaces for uniformity.\n",
    "Caveats: command-line mode (only) may fail if test stmt embeds double\n",
    "quotes, quoted stmt string is incompatible with shell in general, or\n",
    "command-line exceeds a length limit on platform's shell--use API call\n",
    "mode or homegrown timer; does not yet support a setup statement: as is,\n",
    "time of all statements in the test stmt are charged to the total time.\n",
    "\"\"\"\n",
    "\n",
    "import sys, os, timeit\n",
    "defnum, defrep = 1000, 5\n",
    "\n",
    "def runner(stmts, pythons=None, tracecmd=False):\n",
    "    \"\"\"\n",
    "    Main logic: run tests per input lists, caller handles usage modes.\n",
    "    stmts: [(number?, repeat?, stmt-string)], replaces $listif3 in stmt\n",
    "    pythons: None=this python only, or [(ispy3?, python-executable-path)]\n",
    "    \"\"\"\n",
    "    print(sys.version)\n",
    "    for (number, repeat, stmt) in stmts:\n",
    "        number = number or defnum\n",
    "        repeat = repeat or defrep\n",
    "        \n",
    "        if not pythons:\n",
    "            # Run stmt on this python: API call\n",
    "            # No need to split lines or quote here\n",
    "            ispy3 = sys.version[0] == '3'\n",
    "            stmt = stmt.replace('$listif3', 'list' if ispy3 else '')\n",
    "            best = min(timeit.repeat(stmt=stmt, number=number, repeat=repeat))\n",
    "            print('%.4f [%r]' % (best, stmt[:70]))\n",
    "        \n",
    "        else:\n",
    "            # Run stmt on all pythons: command line\n",
    "            # Split lines into quoted arguments\n",
    "            print('-' * 80)\n",
    "            print('[%r]' % stmt)\n",
    "            for (ispy3, python) in pythons:\n",
    "                stmt1 = stmt.replace('$listif3', 'list' if ispy3 else '')\n",
    "                stmt1 = stmt1.replace('\\t', ' ' * 4)\n",
    "                lines = stmt1.split('\\n')\n",
    "                args = ' '.join('\"%s\"' % line for line in lines)\n",
    "                cmd = '%s -m timeit -n %s -r %s %s' % (python, number, repeat, args)\n",
    "                print(python)\n",
    "                if tracecmd: print(cmd)\n",
    "                print('\\t' + os.popen(cmd).read().rstrip())"
   ]
  },
  {
   "cell_type": "code",
   "execution_count": 16,
   "metadata": {},
   "outputs": [
    {
     "name": "stdout",
     "output_type": "stream",
     "text": [
      "3.6.5 |Anaconda, Inc.| (default, Mar 29 2018, 13:32:41) [MSC v.1900 64 bit (AMD64)]\n",
      "0.2585 ['[x ** 2 for x in range(1000)]']\n",
      "0.2967 ['res=[]\\nfor x in range(1000): res.append(x ** 2)']\n",
      "0.3181 ['list(map(lambda x: x ** 2, range(1000)))']\n",
      "0.2980 ['list(x ** 2 for x in range(1000))']\n",
      "0.4162 [\"s = 'spam' * 2500\\nx = [s[i] for i in range(10000)]\"]\n",
      "2.5342 [\"s = '?'\\nfor i in range(10000): s += '?'\"]\n"
     ]
    }
   ],
   "source": [
    "\"\"\"\n",
    "pybench_cases.py: Run pybench on a set of pythons and statements.\n",
    "Select modes by editing this script or using command-line arguments (in\n",
    "sys.argv): e.g., run a \"C:\\python27\\python pybench_cases.py\" to test just\n",
    "one specific version on stmts, \"pybench_cases.py -a\" to test all pythons\n",
    "listed, or a \"py −3 pybench_cases.py -a -t\" to trace command lines too.\n",
    "\"\"\"\n",
    "import pybench, sys\n",
    "pythons = [(1, \"E:\\Anaconda\")]            # (ispy3?, path)\n",
    "stmts = [                                        # (num,rpt,stmt)\n",
    "    (0, 0, \"[x ** 2 for x in range(1000)]\"),         # Iterations\n",
    "    (0, 0, \"res=[]\\nfor x in range(1000): res.append(x ** 2)\"),    # \\n=multistmt\n",
    "    (0, 0, \"$listif3(map(lambda x: x ** 2, range(1000)))\"),        # \\n\\t=indent\n",
    "    (0, 0, \"list(x ** 2 for x in range(1000))\"),                   # $=list or ''\n",
    "    (0, 0, \"s = 'spam' * 2500\\nx = [s[i] for i in range(10000)]\"), # String ops\n",
    "    (0, 0, \"s = '?'\\nfor i in range(10000): s += '?'\"),\n",
    "]\n",
    "tracecmd = '-t' in sys.argv                           # -t: trace command lines?\n",
    "pythons = pythons if '-a' in sys.argv else None       # -a: all in list, else one?\n",
    "pybench.runner(stmts, pythons, tracecmd)"
   ]
  },
  {
   "cell_type": "code",
   "execution_count": null,
   "metadata": {},
   "outputs": [],
   "source": [
    "!python pybench_cases.py -a"
   ]
  },
  {
   "cell_type": "markdown",
   "metadata": {},
   "source": [
    "# 3. 函数陷阱  \n",
    "## 3.1 本地变量是静态检测的  \n",
    "## 3.2 默认可变对象  \n",
    "默认参数是在 def 语句运行时评估并保存的，而不是在这个函数调用时。  \n",
    "\n",
    "从内部来讲，Python 会将每一个默认参数保存成一个对象，附加在这个函数本身。  \n",
    "\n",
    "## 3.3 没有 return 语句的函数  \n",
    "如果没有提供 return 语句，函数将自动返回 None 对象。  "
   ]
  },
  {
   "cell_type": "code",
   "execution_count": null,
   "metadata": {},
   "outputs": [],
   "source": []
  }
 ],
 "metadata": {
  "kernelspec": {
   "display_name": "Python 3",
   "language": "python",
   "name": "python3"
  },
  "language_info": {
   "codemirror_mode": {
    "name": "ipython",
    "version": 3
   },
   "file_extension": ".py",
   "mimetype": "text/x-python",
   "name": "python",
   "nbconvert_exporter": "python",
   "pygments_lexer": "ipython3",
   "version": "3.6.8"
  }
 },
 "nbformat": 4,
 "nbformat_minor": 2
}
