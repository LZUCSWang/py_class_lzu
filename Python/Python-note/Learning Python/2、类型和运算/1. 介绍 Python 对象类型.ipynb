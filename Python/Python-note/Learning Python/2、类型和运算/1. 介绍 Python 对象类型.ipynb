{
 "cells": [
  {
   "cell_type": "markdown",
   "metadata": {},
   "source": [
    "# 1. Python 核心数据类型  \n",
    "\n",
    "**内置对象**  \n",
    "\n",
    "对象类型|例子 常量/创建\n",
    "---|---\n",
    "数字|1234, 3.1415, 3+4j, 0b111, Decimal(), Fraction()\n",
    "字符串|'spam', \"guido's\", b'a\\xolc', u'sp\\xc4m'\n",
    "列表|[1, [2, 'three'], 4], list(range(10))\n",
    "字典|{'food': 'spam', 'taste': 'yum'}, dict(hours=10)\n",
    "元组|(1, 'spam', 4, 'U'), tuple('spam'), namedtuple\n",
    "文件|open('eggs.txt'), open(r'C:\\ham.bin', 'wb')\n",
    "集合|set('abc'), {'a', 'b', 'c'}\n",
    "其他类型|类型、None、布尔型\n",
    "编程单元类型|函数、模块、类\n",
    "与实现相关的类型|编译的代码，堆栈跟踪"
   ]
  },
  {
   "cell_type": "markdown",
   "metadata": {},
   "source": [
    "# 2. 变量"
   ]
  },
  {
   "cell_type": "code",
   "execution_count": 1,
   "metadata": {},
   "outputs": [
    {
     "name": "stdout",
     "output_type": "stream",
     "text": [
      "Hello World\n"
     ]
    }
   ],
   "source": [
    "message = \"Hello World\"\n",
    "print(message)"
   ]
  },
  {
   "cell_type": "markdown",
   "metadata": {},
   "source": [
    "这里message为一个变量，与字符串“Hello World”关联在一起。\n",
    "- 变量名只能包含字母、数字和下划线，变量名可以字母或下划线开头，但不能以数字开头。\n",
    "- 变量名不能包含空格，但可以使用下划线分隔其中单词。\n",
    "- 不能将Python关键字和函数名用作函数名。\n",
    "- 变量名应既简短又具有描述性。\n",
    "- 慎用小写字母l和大写字母O。  \n",
    "\n",
    "\n",
    "\n",
    "Python中有三个主要类型（以及操作）的分类：  \n",
    "- 数字（整数、浮点数、二进制、分数等）  \n",
    "    支持加法和乘法等。  \n",
    "- 序列（字符串、列表、元组）  \n",
    "    支持索引、分片和合并等。  \n",
    "- 映射（字典）  \n",
    "    支持通过键的索引等。  \n",
    "\n",
    "Python中主要核心类型划分为如下两类：  \n",
    "- **不可变类型**：数字、字符串、元组、不可变集合  \n",
    "- **可变类型**：列表、字典、可变集合"
   ]
  },
  {
   "cell_type": "code",
   "execution_count": null,
   "metadata": {
    "collapsed": true
   },
   "outputs": [],
   "source": []
  }
 ],
 "metadata": {
  "kernelspec": {
   "display_name": "Python 3",
   "language": "python",
   "name": "python3"
  },
  "language_info": {
   "codemirror_mode": {
    "name": "ipython",
    "version": 3
   },
   "file_extension": ".py",
   "mimetype": "text/x-python",
   "name": "python",
   "nbconvert_exporter": "python",
   "pygments_lexer": "ipython3",
   "version": "3.6.5"
  }
 },
 "nbformat": 4,
 "nbformat_minor": 2
}
