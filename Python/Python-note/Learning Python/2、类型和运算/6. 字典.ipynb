{
 "cells": [
  {
   "cell_type": "markdown",
   "metadata": {
    "collapsed": true
   },
   "source": [
    "# 1. 字典  \n",
    "主要属性：\n",
    "- 通过键读取：字典又叫关联数组（associative array）或散列表（hash）。\n",
    "- 任意对象的无序集合\n",
    "- 可变长、异构、任意嵌套\n",
    "- 属于可变映射类型\n",
    "- 对象引用表（散列表）\n",
    "\n",
    "**常见字典常量和操作:**"
   ]
  },
  {
   "cell_type": "markdown",
   "metadata": {},
   "source": [
    "**操作**|**解释**\n",
    ":-------|:------\n",
    "`D = {}`|空字典\n",
    "`D = {'name': 'Bob', 'age':40}`|两项目字典\n",
    "`D = {'cto':{'name': 'Bob', 'age':40}}`|嵌套\n",
    "`D = dict(name = 'Bob', age = 40)`|关键字\n",
    "`D = dict([('name', 'Bob), ('age', '40')])`|键值对\n",
    "`D = dict(zip(keyslist, valueslist))`|zipped键值对\n",
    "`D = dict.fromkeys(['a', 'b'])`|键列表\n",
    "`D['name']`|以键进行索引运算\n",
    "`D['cto']['age']`|\n",
    "`'age' in D`|成员关系：键存在测试\n",
    "`D.keys()`|方法：键\n",
    "`D.values()`|值\n",
    "`D.items()`|键+值\n",
    "`D.copy()`|副本\n",
    "`D.clear()`|删除所有项\n",
    "`D.update(D2)`|合并\n",
    "`D.get(key, default?)`|通过键获取，如果不存在则返回None或者用户定义的默认值\n",
    "`D.pop(key, default?)`|通过键删除，...\n",
    "`D.setdefault(key, default?)`|通过键获取，if absent set default(or None)\n",
    "`D.popitem()`|删除/返回任意键值对\n",
    "`len(D)`|长度（存储的元素的数目）\n",
    "`D[key] = 42`|新增/修改键\n",
    "`del D[key]`|根据键删除条目\n",
    "`list(D.keys())`|字典视图（python 3.X）\n",
    "`D1.keys() & D2.keys()`|\n",
    "`D.viewkeys(), D.viewvalues()`|字典视图（python 2.7）\n",
    "`D = {x: x*2 for x in range(10)}`|字典解析式"
   ]
  },
  {
   "cell_type": "markdown",
   "metadata": {},
   "source": [
    "# 2. 实际应用中的字典  \n",
    "## 2.1 字典基本操作\n",
    "创建字典并通过键来存储、访问其中的某项："
   ]
  },
  {
   "cell_type": "code",
   "execution_count": 2,
   "metadata": {},
   "outputs": [
    {
     "data": {
      "text/plain": [
       "2"
      ]
     },
     "execution_count": 2,
     "metadata": {},
     "output_type": "execute_result"
    }
   ],
   "source": [
    "D = {'spam': 2, 'ham': 1, 'eggs': 3}    # 创建字典\n",
    "D['spam']                               # 通过键取值"
   ]
  },
  {
   "cell_type": "code",
   "execution_count": 3,
   "metadata": {
    "scrolled": true
   },
   "outputs": [
    {
     "data": {
      "text/plain": [
       "3"
      ]
     },
     "execution_count": 3,
     "metadata": {},
     "output_type": "execute_result"
    }
   ],
   "source": [
    "len(D)                          # 字典中项的数量"
   ]
  },
  {
   "cell_type": "code",
   "execution_count": 4,
   "metadata": {
    "scrolled": true
   },
   "outputs": [
    {
     "data": {
      "text/plain": [
       "True"
      ]
     },
     "execution_count": 4,
     "metadata": {},
     "output_type": "execute_result"
    }
   ],
   "source": [
    "'ham' in D                      # 键成员关系"
   ]
  },
  {
   "cell_type": "markdown",
   "metadata": {},
   "source": [
    "## 2.2 原处修改字典"
   ]
  },
  {
   "cell_type": "code",
   "execution_count": 5,
   "metadata": {},
   "outputs": [],
   "source": [
    "D = {'eggs': 3, 'ham': 1, 'spam': 2}"
   ]
  },
  {
   "cell_type": "code",
   "execution_count": 6,
   "metadata": {},
   "outputs": [
    {
     "data": {
      "text/plain": [
       "{'eggs': 3, 'ham': ['grill', 'bake', 'fry'], 'spam': 2}"
      ]
     },
     "execution_count": 6,
     "metadata": {},
     "output_type": "execute_result"
    }
   ],
   "source": [
    "D['ham'] = ['grill', 'bake', 'fry']        # 改变项\n",
    "D"
   ]
  },
  {
   "cell_type": "code",
   "execution_count": 7,
   "metadata": {},
   "outputs": [
    {
     "data": {
      "text/plain": [
       "{'ham': ['grill', 'bake', 'fry'], 'spam': 2}"
      ]
     },
     "execution_count": 7,
     "metadata": {},
     "output_type": "execute_result"
    }
   ],
   "source": [
    "del D['eggs']                              # 删除项\n",
    "D"
   ]
  },
  {
   "cell_type": "code",
   "execution_count": 8,
   "metadata": {},
   "outputs": [
    {
     "data": {
      "text/plain": [
       "{'ham': ['grill', 'bake', 'fry'], 'spam': 2, 'brunch': 'Bacon'}"
      ]
     },
     "execution_count": 8,
     "metadata": {},
     "output_type": "execute_result"
    }
   ],
   "source": [
    "D['brunch'] = 'Bacon'                      # 添加新项\n",
    "D"
   ]
  },
  {
   "cell_type": "markdown",
   "metadata": {},
   "source": [
    "## 2.3 其他字典方法\n",
    "字典 values 和 items 方法分别返回字典的值列表和（key, value）对元组。  "
   ]
  },
  {
   "cell_type": "code",
   "execution_count": 9,
   "metadata": {},
   "outputs": [
    {
     "data": {
      "text/plain": [
       "[2, 1, 3]"
      ]
     },
     "execution_count": 9,
     "metadata": {},
     "output_type": "execute_result"
    }
   ],
   "source": [
    "D = {'spam':2, 'ham':1, 'eggs':3}\n",
    "list(D.values())"
   ]
  },
  {
   "cell_type": "code",
   "execution_count": 10,
   "metadata": {},
   "outputs": [
    {
     "data": {
      "text/plain": [
       "[('spam', 2), ('ham', 1), ('eggs', 3)]"
      ]
     },
     "execution_count": 10,
     "metadata": {},
     "output_type": "execute_result"
    }
   ],
   "source": [
    "list(D.items())"
   ]
  },
  {
   "cell_type": "markdown",
   "metadata": {},
   "source": [
    "键不存在时通过 get 方法能够返回默认值（None 或者用户定义的默认值）。"
   ]
  },
  {
   "cell_type": "code",
   "execution_count": 11,
   "metadata": {},
   "outputs": [
    {
     "data": {
      "text/plain": [
       "2"
      ]
     },
     "execution_count": 11,
     "metadata": {},
     "output_type": "execute_result"
    }
   ],
   "source": [
    "D.get('spam')                # 键存在"
   ]
  },
  {
   "cell_type": "code",
   "execution_count": 12,
   "metadata": {},
   "outputs": [
    {
     "name": "stdout",
     "output_type": "stream",
     "text": [
      "None\n"
     ]
    }
   ],
   "source": [
    "print(D.get('toast'))        # 键不存在"
   ]
  },
  {
   "cell_type": "code",
   "execution_count": 13,
   "metadata": {},
   "outputs": [
    {
     "data": {
      "text/plain": [
       "88"
      ]
     },
     "execution_count": 13,
     "metadata": {},
     "output_type": "execute_result"
    }
   ],
   "source": [
    "D.get('toast', 88)"
   ]
  },
  {
   "cell_type": "code",
   "execution_count": 15,
   "metadata": {},
   "outputs": [],
   "source": [
    "# a = set()\n",
    "# a.add(D)"
   ]
  },
  {
   "cell_type": "markdown",
   "metadata": {},
   "source": [
    "字典的 update 方法类似于合并，但是和从左到右的顺序无关。它把一个字典的键和值合并到另一个字典中，盲目地覆盖相同键的值。  "
   ]
  },
  {
   "cell_type": "code",
   "execution_count": null,
   "metadata": {},
   "outputs": [
    {
     "data": {
      "text/plain": [
       "{'eggs': 3, 'ham': 1, 'spam': 2, 'toast': 4, 'muffin': 5}"
      ]
     },
     "execution_count": 51,
     "metadata": {},
     "output_type": "execute_result"
    }
   ],
   "source": [
    "D = {'eggs': 3, 'ham': 1, 'spam': 2, 'toast': 3}\n",
    "D2 = {'toast': 4, 'muffin': 5}\n",
    "D.update(D2)\n",
    "D"
   ]
  },
  {
   "cell_type": "markdown",
   "metadata": {},
   "source": [
    "字典 pop 方法能够从字典中删除一个键并返回它的值，类似于列表的 pop 方法。"
   ]
  },
  {
   "cell_type": "code",
   "execution_count": null,
   "metadata": {},
   "outputs": [
    {
     "data": {
      "text/plain": [
       "5"
      ]
     },
     "execution_count": 52,
     "metadata": {},
     "output_type": "execute_result"
    }
   ],
   "source": [
    "D.pop('muffin')"
   ]
  },
  {
   "cell_type": "markdown",
   "metadata": {},
   "source": [
    "## 2.4 字典用法注意事项  \n",
    "- 序列运算无效：字典是映射机制，不是序列\n",
    "- 对新索引赋值会添加项\n",
    "- 键不一定总是字符串：任何不可变对象都可以作为键，元组偶尔允许合并键值时也可以用作字典键，类实例对象也可以用作键"
   ]
  },
  {
   "cell_type": "markdown",
   "metadata": {},
   "source": [
    "**字典用于稀疏数据结构**  \n",
    "例如多维数组中只有少数位置上有存储的值，数组中只有两个位置有值，其他位置都为空。"
   ]
  },
  {
   "cell_type": "code",
   "execution_count": null,
   "metadata": {},
   "outputs": [
    {
     "data": {
      "text/plain": [
       "{(2, 3, 4): 88, (7, 8, 9): 99}"
      ]
     },
     "execution_count": 53,
     "metadata": {},
     "output_type": "execute_result"
    }
   ],
   "source": [
    "Matrix = {}\n",
    "Matrix[(2, 3, 4)] = 88\n",
    "Matrix[(7, 8, 9)] = 99\n",
    "Matrix"
   ]
  },
  {
   "cell_type": "markdown",
   "metadata": {},
   "source": [
    "**避免 missing-key 错误**  \n",
    "1. 在 if 语句中预先对键进行测试\n",
    "2. 使用 try 语句明确地捕获并修复这一异常\n",
    "3. 使用 get 方法为不存在的键提供一个默认值"
   ]
  },
  {
   "cell_type": "code",
   "execution_count": null,
   "metadata": {
    "scrolled": true
   },
   "outputs": [
    {
     "name": "stdout",
     "output_type": "stream",
     "text": [
      "0\n"
     ]
    }
   ],
   "source": [
    "if (2, 3, 6) in Matrix:\n",
    "    print(Matrix[(2, 3, 6)])\n",
    "else:\n",
    "    print(0)"
   ]
  },
  {
   "cell_type": "code",
   "execution_count": null,
   "metadata": {},
   "outputs": [
    {
     "name": "stdout",
     "output_type": "stream",
     "text": [
      "0\n"
     ]
    }
   ],
   "source": [
    "try:\n",
    "    print(Matrix[(2, 3, 6)])\n",
    "except KeyError:\n",
    "    print(0)"
   ]
  },
  {
   "cell_type": "code",
   "execution_count": null,
   "metadata": {
    "scrolled": true
   },
   "outputs": [
    {
     "data": {
      "text/plain": [
       "88"
      ]
     },
     "execution_count": 56,
     "metadata": {},
     "output_type": "execute_result"
    }
   ],
   "source": [
    "Matrix.get((2, 3, 4), 0)"
   ]
  },
  {
   "cell_type": "code",
   "execution_count": null,
   "metadata": {},
   "outputs": [
    {
     "data": {
      "text/plain": [
       "88"
      ]
     },
     "execution_count": 57,
     "metadata": {},
     "output_type": "execute_result"
    }
   ],
   "source": [
    "Matrix.get((0),88)"
   ]
  },
  {
   "cell_type": "markdown",
   "metadata": {
    "collapsed": true
   },
   "source": [
    "## 2.5 创建字典的其他方法  \n",
    "1. 事先写出所有字典：`{'name': 'mel', 'age': 45}`\n",
    "2. 一次动态建立字典的一个字段：  \n",
    "    ```\n",
    "    D = {}\n",
    "    D['name'] = 'mel'\n",
    "    D['age'] = 45\n",
    "    ```\n",
    "3. 关键字形式：`dict(name = 'mel', age = 45)`\n",
    "4. 键值元组形式：`dict([('name', 'mel'), ('age', 45)])`\n",
    "\n",
    "如果所有键的值都相同，可以简单地传入一个键列表，以及所有键的初始值（默认为空）：  \n",
    "`dict.fromkeys(['a', 'b'], 0)`"
   ]
  },
  {
   "cell_type": "code",
   "execution_count": null,
   "metadata": {},
   "outputs": [
    {
     "name": "stdout",
     "output_type": "stream",
     "text": [
      "{'name': 'mel', 'age': 45}\n"
     ]
    }
   ],
   "source": [
    "D1 = {'name': 'mel', 'age': 45}\n",
    "print(D1)  # 输出：{'name': 'mel', 'age': 45}"
   ]
  },
  {
   "cell_type": "code",
   "execution_count": null,
   "metadata": {},
   "outputs": [
    {
     "name": "stdout",
     "output_type": "stream",
     "text": [
      "{'name': 'mel', 'age': 45}\n"
     ]
    }
   ],
   "source": [
    "D2 = {}\n",
    "D2['name'] = 'mel'\n",
    "D2['age'] = 45\n",
    "print(D2)  # 输出：{'name': 'mel', 'age': 45}"
   ]
  },
  {
   "cell_type": "code",
   "execution_count": null,
   "metadata": {},
   "outputs": [
    {
     "name": "stdout",
     "output_type": "stream",
     "text": [
      "{'name': 'mel', 'age': 45}\n"
     ]
    }
   ],
   "source": [
    "D3 = dict(name = 'mel', age = 45)\n",
    "print(D3)  # 输出：{'name': 'mel', 'age': 45}"
   ]
  },
  {
   "cell_type": "code",
   "execution_count": null,
   "metadata": {},
   "outputs": [
    {
     "name": "stdout",
     "output_type": "stream",
     "text": [
      "{'name': 'mel', 'age': 45}\n"
     ]
    }
   ],
   "source": [
    "D4 = dict([('name', 'mel'), ('age', 45)])\n",
    "print(D4)  # 输出：{'name': 'mel', 'age': 45}"
   ]
  },
  {
   "cell_type": "code",
   "execution_count": null,
   "metadata": {},
   "outputs": [
    {
     "name": "stdout",
     "output_type": "stream",
     "text": [
      "{'a': 0, 'b': 0}\n"
     ]
    }
   ],
   "source": [
    "D5 = dict.fromkeys(['a', 'b'], 0)\n",
    "print(D5)  # 输出：{'a': 0, 'b': 0}"
   ]
  },
  {
   "cell_type": "code",
   "execution_count": null,
   "metadata": {},
   "outputs": [
    {
     "data": {
      "text/plain": [
       "{'a': 0, 'b': 0}"
      ]
     },
     "execution_count": 62,
     "metadata": {},
     "output_type": "execute_result"
    }
   ],
   "source": [
    "dict.fromkeys(['a', 'b'], 0)"
   ]
  },
  {
   "cell_type": "markdown",
   "metadata": {},
   "source": [
    "# 3. 其他字典用法\n",
    "## 3.1 字典解析  \n",
    "字典解析隐式地运行一个循环，根据每次迭代收集表达式的键值结果，并使用它们来填充一个新的字典，一个循环变量允许解析在过程中使用的循环迭代值。  "
   ]
  },
  {
   "cell_type": "code",
   "execution_count": null,
   "metadata": {},
   "outputs": [
    {
     "data": {
      "text/plain": [
       "{'a': 1, 'b': 2, 'c': 3}"
      ]
     },
     "execution_count": 63,
     "metadata": {},
     "output_type": "execute_result"
    }
   ],
   "source": [
    "{k: v for (k, v) in zip(['a', 'b', 'c'], [1, 2, 3])}"
   ]
  },
  {
   "cell_type": "code",
   "execution_count": null,
   "metadata": {},
   "outputs": [
    {
     "data": {
      "text/plain": [
       "{1: 1, 2: 4, 3: 9, 4: 16}"
      ]
     },
     "execution_count": 64,
     "metadata": {},
     "output_type": "execute_result"
    }
   ],
   "source": [
    "{x: x ** 2 for x in [1, 2, 3, 4]}"
   ]
  },
  {
   "cell_type": "code",
   "execution_count": null,
   "metadata": {},
   "outputs": [
    {
     "data": {
      "text/plain": [
       "{'S': 'SSSS', 'P': 'PPPP', 'A': 'AAAA', 'M': 'MMMM'}"
      ]
     },
     "execution_count": 65,
     "metadata": {},
     "output_type": "execute_result"
    }
   ],
   "source": [
    "{c: c * 4 for c in 'SPAM'}"
   ]
  },
  {
   "cell_type": "markdown",
   "metadata": {},
   "source": [
    "## 3.2 字典视图  \n",
    "字典的 keys、values 和 items 都返回视图对象，视图对象是可迭代的，这意味着对象每次产生一个结果项，而不是在内存中立即产生结果列表。  "
   ]
  },
  {
   "cell_type": "code",
   "execution_count": null,
   "metadata": {},
   "outputs": [
    {
     "data": {
      "text/plain": [
       "{'a': 1, 'b': 2, 'c': 3}"
      ]
     },
     "execution_count": 66,
     "metadata": {},
     "output_type": "execute_result"
    }
   ],
   "source": [
    "D = dict(a=1, b=2, c=3)\n",
    "D"
   ]
  },
  {
   "cell_type": "code",
   "execution_count": null,
   "metadata": {
    "scrolled": true
   },
   "outputs": [
    {
     "data": {
      "text/plain": [
       "dict_keys(['a', 'b', 'c'])"
      ]
     },
     "execution_count": 67,
     "metadata": {},
     "output_type": "execute_result"
    }
   ],
   "source": [
    "D.keys()                # 创建一个视图对象，而不是一个列表"
   ]
  },
  {
   "cell_type": "code",
   "execution_count": null,
   "metadata": {},
   "outputs": [
    {
     "data": {
      "text/plain": [
       "['a', 'b', 'c']"
      ]
     },
     "execution_count": 68,
     "metadata": {},
     "output_type": "execute_result"
    }
   ],
   "source": [
    "list(D.keys())          # 如果需要，强制建立一个列表"
   ]
  },
  {
   "cell_type": "code",
   "execution_count": null,
   "metadata": {},
   "outputs": [
    {
     "data": {
      "text/plain": [
       "dict_values([1, 2, 3])"
      ]
     },
     "execution_count": 69,
     "metadata": {},
     "output_type": "execute_result"
    }
   ],
   "source": [
    "D.values()"
   ]
  },
  {
   "cell_type": "code",
   "execution_count": null,
   "metadata": {},
   "outputs": [
    {
     "data": {
      "text/plain": [
       "[1, 2, 3]"
      ]
     },
     "execution_count": 80,
     "metadata": {},
     "output_type": "execute_result"
    }
   ],
   "source": [
    "list(D.values())"
   ]
  },
  {
   "cell_type": "code",
   "execution_count": null,
   "metadata": {
    "scrolled": true
   },
   "outputs": [
    {
     "data": {
      "text/plain": [
       "dict_items([('a', 1), ('b', 2), ('c', 3)])"
      ]
     },
     "execution_count": 70,
     "metadata": {},
     "output_type": "execute_result"
    }
   ],
   "source": [
    "D.items()"
   ]
  },
  {
   "cell_type": "code",
   "execution_count": null,
   "metadata": {},
   "outputs": [
    {
     "data": {
      "text/plain": [
       "[('a', 1), ('b', 2), ('c', 3)]"
      ]
     },
     "execution_count": 81,
     "metadata": {},
     "output_type": "execute_result"
    }
   ],
   "source": [
    "list(D.items())"
   ]
  },
  {
   "cell_type": "markdown",
   "metadata": {},
   "source": [
    "Python 3 的字典自己仍然拥有迭代器，返回连续键。"
   ]
  },
  {
   "cell_type": "code",
   "execution_count": null,
   "metadata": {},
   "outputs": [
    {
     "name": "stdout",
     "output_type": "stream",
     "text": [
      "a\n",
      "b\n",
      "c\n"
     ]
    }
   ],
   "source": [
    "for key in D:           # 迭代中不需调用 keys()\n",
    "    print(key)"
   ]
  },
  {
   "cell_type": "markdown",
   "metadata": {},
   "source": [
    "## 3.3 字典视图与集合  \n",
    "keys 方法所返回的视图对象类似于集合，并且支持交集和并集等常见的集合操作；values 视图不是这样的，因为它们不是唯一的；但 items 结果是的。"
   ]
  },
  {
   "cell_type": "code",
   "execution_count": null,
   "metadata": {},
   "outputs": [
    {
     "name": "stdout",
     "output_type": "stream",
     "text": [
      "dict_keys(['a', 'b', 'c'])\n"
     ]
    },
    {
     "data": {
      "text/plain": [
       "{'a', 'b', 'c', 'x'}"
      ]
     },
     "execution_count": 82,
     "metadata": {},
     "output_type": "execute_result"
    }
   ],
   "source": [
    "K = {'a': 1, 'b': 2, 'c': 3}.keys()\n",
    "print(K)\n",
    "K | {'x':4}"
   ]
  },
  {
   "cell_type": "code",
   "execution_count": null,
   "metadata": {},
   "outputs": [
    {
     "data": {
      "text/plain": [
       "{'b'}"
      ]
     },
     "execution_count": 73,
     "metadata": {},
     "output_type": "execute_result"
    }
   ],
   "source": [
    "K & {'b'}             # 键和集合交"
   ]
  },
  {
   "cell_type": "code",
   "execution_count": null,
   "metadata": {
    "scrolled": true
   },
   "outputs": [
    {
     "data": {
      "text/plain": [
       "{'b'}"
      ]
     },
     "execution_count": 74,
     "metadata": {},
     "output_type": "execute_result"
    }
   ],
   "source": [
    "K & {'b': 1}          # 键和字典交"
   ]
  },
  {
   "cell_type": "markdown",
   "metadata": {},
   "source": [
    "如果字典项视图是可散列（只包含不可变对象）的话，它们是类似于集合的。"
   ]
  },
  {
   "cell_type": "code",
   "execution_count": null,
   "metadata": {},
   "outputs": [
    {
     "data": {
      "text/plain": [
       "{('a', 2), 'a', 'b', 'c'}"
      ]
     },
     "execution_count": 75,
     "metadata": {},
     "output_type": "execute_result"
    }
   ],
   "source": [
    "D = {'a': 2}\n",
    "D.items() | K         # 视图和视图并"
   ]
  },
  {
   "cell_type": "markdown",
   "metadata": {},
   "source": [
    "## 3.4 排序字典键  \n",
    "由于 keys 不会返回一个列表，要在 Python 中通过排序建来浏览一个字典的编码模式，需要手动转换为一个列表，或者在一个键视图或字典自身上使用 sorted 方法。"
   ]
  },
  {
   "cell_type": "code",
   "execution_count": null,
   "metadata": {},
   "outputs": [
    {
     "name": "stdout",
     "output_type": "stream",
     "text": [
      "a 1\n",
      "b 2\n",
      "c 3\n"
     ]
    }
   ],
   "source": [
    "D = {'a':1, 'b':2, 'c':3}\n",
    "Ks = list(D.keys())               # 转换为列表之后排序\n",
    "for k in Ks:\n",
    "    print(k, D[k])"
   ]
  },
  {
   "cell_type": "code",
   "execution_count": null,
   "metadata": {},
   "outputs": [
    {
     "name": "stdout",
     "output_type": "stream",
     "text": [
      "a 1\n",
      "b 2\n",
      "c 3\n"
     ]
    }
   ],
   "source": [
    "Ks = D.keys()               # 或者在键上使用 sorted\n",
    "for k in sorted(Ks):        # sorted 接受任意可迭代对象\n",
    "    print(k, D[k])"
   ]
  },
  {
   "cell_type": "markdown",
   "metadata": {},
   "source": [
    "可以直接排序字典，字典迭代器返回的是 keys"
   ]
  },
  {
   "cell_type": "code",
   "execution_count": null,
   "metadata": {},
   "outputs": [
    {
     "name": "stdout",
     "output_type": "stream",
     "text": [
      "a 1\n",
      "b 2\n",
      "c 3\n"
     ]
    }
   ],
   "source": [
    "for k in sorted(D):\n",
    "    print(k, D[k])"
   ]
  },
  {
   "cell_type": "code",
   "execution_count": null,
   "metadata": {
    "collapsed": true
   },
   "outputs": [
    {
     "data": {
      "text/plain": [
       "{-1: 12, -2: 34}"
      ]
     },
     "execution_count": 1,
     "metadata": {},
     "output_type": "execute_result"
    }
   ],
   "source": [
    "d = {-1:12,-2:34}\n",
    "d"
   ]
  }
 ],
 "metadata": {
  "gist": {
   "data": {
    "description": "Desktop/Python/Python-note/第一章 基础/一、数据类型.ipynb",
    "public": false
   },
   "id": ""
  },
  "kernelspec": {
   "display_name": "Python 3",
   "language": "python",
   "name": "python3"
  },
  "language_info": {
   "codemirror_mode": {
    "name": "ipython",
    "version": 3
   },
   "file_extension": ".py",
   "mimetype": "text/x-python",
   "name": "python",
   "nbconvert_exporter": "python",
   "pygments_lexer": "ipython3",
   "version": "3.10.4"
  },
  "toc": {
   "nav_menu": {},
   "number_sections": false,
   "sideBar": true,
   "skip_h1_title": false,
   "toc_cell": true,
   "toc_position": {},
   "toc_section_display": "block",
   "toc_window_display": false
  },
  "varInspector": {
   "cols": {
    "lenName": 16,
    "lenType": 16,
    "lenVar": 40
   },
   "kernels_config": {
    "python": {
     "delete_cmd_postfix": "",
     "delete_cmd_prefix": "del ",
     "library": "var_list.py",
     "varRefreshCmd": "print(var_dic_list())"
    },
    "r": {
     "delete_cmd_postfix": ") ",
     "delete_cmd_prefix": "rm(",
     "library": "var_list.r",
     "varRefreshCmd": "cat(var_dic_list()) "
    }
   },
   "types_to_exclude": [
    "module",
    "function",
    "builtin_function_or_method",
    "instance",
    "_Feature"
   ],
   "window_display": false
  }
 },
 "nbformat": 4,
 "nbformat_minor": 2
}
