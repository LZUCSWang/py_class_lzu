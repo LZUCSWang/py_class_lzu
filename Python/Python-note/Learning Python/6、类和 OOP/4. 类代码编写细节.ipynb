{
 "cells": [
  {
   "cell_type": "markdown",
   "metadata": {},
   "source": [
    "# 1. class 语句  \n",
    "Python 的 class 并不是声明式的，class 语句是对象的创建者并且是一个隐含的赋值运算。  \n",
    "\n",
    "## 1.1 一般形式  \n",
    "class 是复合语句。在头一行中，超类列在类名称之后的括号内，由逗号相隔。列出一个以上的超类会引起多重继承：  \n",
    "```\n",
    "class name(superclass, ...):          # 赋值给变量名\n",
    "    data = value\n",
    "    def method(self, ...):\n",
    "        self.member = value\n",
    "```\n",
    "## 1.2 例子  \n",
    "当 Python 执行 class 语句时（不是调用类），会从头至尾执行其主体内的所有语句。在这个过程中，进行的赋值运算会在这个类作用域中创建变量名，从而成为对应的类对象内的属性。类就像模块和函数：\n",
    "- 就像函数一样，class 语句是本地作用域，由内嵌的赋值语句建立的变量名，就存在于这个本地作用域内。\n",
    "- 就像模块内的变量名，在 class 语句内赋值的变量名会变成类对象中的属性。\n",
    "\n",
    "在 class 语句内赋值的变量名，会创建类属性，而内嵌的 def 则会创建类方法，但是，其他赋值语句也可制作属性。  \n",
    "\n",
    "例如，把简单的非函数的对象赋值给类属性，就会产生**数据属性**，由所有实例共享："
   ]
  },
  {
   "cell_type": "code",
   "execution_count": 5,
   "metadata": {},
   "outputs": [
    {
     "data": {
      "text/plain": [
       "(42, 42)"
      ]
     },
     "execution_count": 5,
     "metadata": {},
     "output_type": "execute_result"
    }
   ],
   "source": [
    "class SharedData:\n",
    "    spam = 42\n",
    "\n",
    "x = SharedData()\n",
    "y = SharedData()\n",
    "x.spam, y.spam"
   ]
  },
  {
   "cell_type": "code",
   "execution_count": 6,
   "metadata": {},
   "outputs": [
    {
     "data": {
      "text/plain": [
       "(99, 99, 99)"
      ]
     },
     "execution_count": 6,
     "metadata": {},
     "output_type": "execute_result"
    }
   ],
   "source": [
    "SharedData.spam = 99\n",
    "x.spam, y.spam, SharedData.spam"
   ]
  },
  {
   "cell_type": "code",
   "execution_count": 7,
   "metadata": {},
   "outputs": [
    {
     "data": {
      "text/plain": [
       "(88, 99, 99)"
      ]
     },
     "execution_count": 7,
     "metadata": {},
     "output_type": "execute_result"
    }
   ],
   "source": [
    "x.spam = 88\n",
    "x.spam, y.spam, SharedData.spam"
   ]
  },
  {
   "cell_type": "markdown",
   "metadata": {},
   "source": [
    "对实例的属性进行赋值运算会在该实例内**创建或修改**变量名，而不是在共享的类中。"
   ]
  },
  {
   "cell_type": "code",
   "execution_count": 8,
   "metadata": {},
   "outputs": [
    {
     "name": "stdout",
     "output_type": "stream",
     "text": [
      "1 spam\n",
      "2 spam\n"
     ]
    }
   ],
   "source": [
    "class MixedNames:\n",
    "    data = 'spam'                          # 赋值类属性\n",
    "    def __init__(self, value):\n",
    "        self.data = value                  # 赋值实例属性\n",
    "    def display(self):\n",
    "        print(self.data, MixedNames.data)\n",
    "\n",
    "x = MixedNames(1)\n",
    "y = MixedNames(2)\n",
    "x.display(); y.display()                    # self.data 不同，MixedNames.data 相同"
   ]
  },
  {
   "cell_type": "markdown",
   "metadata": {},
   "source": [
    "# 2. 方法  \n",
    "方法位于 class 语句的主体内，是由 def 语句建立的函数对象。方法的第一个参数总是接收方法调用的隐形主体，也就是实例对象。  \n",
    "\n",
    "在类方法中，按惯例第一个参数通常都称为 self。这个参数给方法提供了一个 hook，从而返回调用的主体，也就是实例对象。  \n",
    "\n",
    "## 2.1 例子  "
   ]
  },
  {
   "cell_type": "code",
   "execution_count": 10,
   "metadata": {},
   "outputs": [],
   "source": [
    "class NextClass:\n",
    "    def printer(self, text):\n",
    "        self.message = text\n",
    "        print(self.message)"
   ]
  },
  {
   "cell_type": "code",
   "execution_count": 11,
   "metadata": {},
   "outputs": [
    {
     "name": "stdout",
     "output_type": "stream",
     "text": [
      "instance call\n"
     ]
    },
    {
     "data": {
      "text/plain": [
       "'instance call'"
      ]
     },
     "execution_count": 11,
     "metadata": {},
     "output_type": "execute_result"
    }
   ],
   "source": [
    "x = NextClass()\n",
    "x.printer('instance call')\n",
    "x.message"
   ]
  },
  {
   "cell_type": "markdown",
   "metadata": {},
   "source": [
    "## 2.2 调用超类构造函数  \n",
    "在构造时，Python 会找出并且只调用一个 `__init__`。如果要保证子类的构造函数也会执行超类构造时的逻辑，一般都必须通过类明确地调用超类的 `__init__` 方法："
   ]
  },
  {
   "cell_type": "code",
   "execution_count": 12,
   "metadata": {},
   "outputs": [],
   "source": [
    "class Super:\n",
    "    def __init__(self, x):\n",
    "        pass                              \n",
    "\n",
    "class Sub(Super):\n",
    "    def __init__(self, x, y):\n",
    "        Super.__init__(self, x)           # 运行超类的 __init__\n",
    "        pass                              # 运行自己的 __init__\n",
    "\n",
    "I = Sub(1, 2)"
   ]
  },
  {
   "cell_type": "markdown",
   "metadata": {},
   "source": [
    "# 3. 继承  \n",
    "当对对象进行点号运算时，就会发生继承，而且涉及了搜索属性定义树（一个或多个命名空间）。  \n",
    "\n",
    "## 3.1 属性树的构造  \n",
    "- 实例属性是由对方法内 self 属性进行赋值运算而生成的。\n",
    "- 类属性是通过 class 语句内的语句（赋值语句）而生成的。\n",
    "- 超类的连接是通过 class 语句首行的括号内列出类而生成的。\n",
    "\n",
    "## 3.2 继承方法的专有化  \n",
    "继承会现在子类寻找变量名，然后才查找超类，子类就可以对超类的属性重新定义来取代默认的行为。"
   ]
  },
  {
   "cell_type": "code",
   "execution_count": 13,
   "metadata": {},
   "outputs": [
    {
     "name": "stdout",
     "output_type": "stream",
     "text": [
      "in Super.method\n"
     ]
    }
   ],
   "source": [
    "class Super:\n",
    "    def method(self):\n",
    "        print('in Super.method')\n",
    "    \n",
    "class Sub(Super):\n",
    "    def method(self):                         # 重载方法\n",
    "        print('starting Sub.method')          # 添加行为\n",
    "        Super.method(self)                    # 运行默认行为\n",
    "        print('ending Sub.method')\n",
    "        \n",
    "x = Super()\n",
    "x.method()"
   ]
  },
  {
   "cell_type": "code",
   "execution_count": 14,
   "metadata": {},
   "outputs": [
    {
     "name": "stdout",
     "output_type": "stream",
     "text": [
      "starting Sub.method\n",
      "in Super.method\n",
      "ending Sub.method\n"
     ]
    }
   ],
   "source": [
    "x = Sub()\n",
    "x. method()"
   ]
  },
  {
   "cell_type": "markdown",
   "metadata": {},
   "source": [
    "## 3.3 抽象超类  \n",
    "类的部分行为默认是由其子类所提供的。如果预期的方法没有在子类中定义，当继承搜索失败时，Python 会引发未定义变量名的异常。  "
   ]
  },
  {
   "cell_type": "markdown",
   "metadata": {},
   "source": [
    "# 4. 命名空间：完整的内容  \n",
    "- 无点号运算的变量名与作用域相对应。\n",
    "- 点号的属性名使用的是对象的命名空间。\n",
    "- 有些作用域会对对象的命名空间进行初始化（模块和类）。\n",
    "\n",
    "## 4.1 简单变量名：如果赋值就不是全局变量  \n",
    "无点号的简单变量名遵循 LEGB 作用域法则：\n",
    "- **赋值语句（X = value）。** 使变量名成为本地变量：在当前作用域内，创建或改变变量名 X，除非声明它是全局变量。\n",
    "- **引用（X）。** 在当前作用域内搜索变量名 X，之后是在任何以及所有的嵌套的函数中，然后是在当前的全局作用域中搜索，最后在内置作用域中搜索。\n",
    "\n",
    "## 4.2 属性名称：对象命名空间  \n",
    "- **赋值语句（object.X = value）。** 在进行点号运算的对象的命名空间内创建或修改属性名 X。继承树的搜索只发生在属性引用时，而不是属性的赋值运算时。\n",
    "- **引用（object.X）。** 就基于类的对象而言，会在对象内搜索属性名 X，然后是其上所有可读取的类。对于不是基于类的对象而言，则是从对象中直接读取 X。\n",
    "\n",
    "## 4.3 嵌套类  \n",
    "类有时在函数中进行嵌套，并生成，这是闭包的一种变体。"
   ]
  },
  {
   "cell_type": "code",
   "execution_count": 16,
   "metadata": {},
   "outputs": [
    {
     "name": "stdout",
     "output_type": "stream",
     "text": [
      "1\n",
      "1\n",
      "1\n",
      "1\n",
      "3\n",
      "----------------------------------------\n"
     ]
    }
   ],
   "source": [
    "X = 1\n",
    "\n",
    "def nester():\n",
    "    print(X)                                # 全局：1\n",
    "    class C:\n",
    "        print(X)                            # 全局：1\n",
    "        def method1(self):\n",
    "            print(X)                        # 全局：1\n",
    "        def method2(self):\n",
    "            X = 3        \n",
    "            print(X)                        # 本地：3\n",
    "    I = C()\n",
    "    I.method1()\n",
    "    I.method2()\n",
    "\n",
    "print(X)                                     # 全局：1\n",
    "nester()\n",
    "print('-' * 40)"
   ]
  },
  {
   "cell_type": "code",
   "execution_count": 17,
   "metadata": {},
   "outputs": [
    {
     "name": "stdout",
     "output_type": "stream",
     "text": [
      "1\n",
      "2\n",
      "2\n",
      "2\n",
      "3\n",
      "----------------------------------------\n"
     ]
    }
   ],
   "source": [
    "X = 1\n",
    "\n",
    "def nester():\n",
    "    X = 2                                    # 隐藏全局变量\n",
    "    print(X)                                 # 本地：2\n",
    "    class C:\n",
    "        print(X)                             # 嵌套 def 中：2\n",
    "        def method1(self):\n",
    "            print(X)                         # 嵌套 def 中：2\n",
    "        def method2(self):\n",
    "            X = 3                            # 隐藏嵌套变量\n",
    "            print(X)                         # 本地：3\n",
    "    I = C()\n",
    "    I.method1()\n",
    "    I.method2()\n",
    "\n",
    "print(X)                                      # 全局：1\n",
    "nester()\n",
    "print('-' * 40)"
   ]
  },
  {
   "cell_type": "code",
   "execution_count": 18,
   "metadata": {},
   "outputs": [
    {
     "name": "stdout",
     "output_type": "stream",
     "text": [
      "1\n",
      "2\n",
      "3\n",
      "2\n",
      "3\n",
      "4\n",
      "5\n",
      "----------------------------------------\n"
     ]
    }
   ],
   "source": [
    "X = 1\n",
    "\n",
    "def nester():\n",
    "    X = 2                                 # 隐藏全局变量\n",
    "    print(X)                              # 本地：2\n",
    "    class C:\n",
    "        X = 3                             # class 本地变量隐藏 nester 的 C.X 或 I.X\n",
    "        print(X)                          # 本地：3\n",
    "        def method1(self):\n",
    "            print(X)                      # 嵌套 def 中：2\n",
    "            print(self.X)                 # 继承的类本地变量：3\n",
    "        def method2(self):\n",
    "            X = 4                         # 隐藏嵌套中的变量（nester，不是 class）\n",
    "            print(X)                      # 本地：4\n",
    "            self.X = 5                    # 隐藏类中的变量\n",
    "            print(self.X)                 # 位于实例中：5\n",
    "    I = C()\n",
    "    I.method1()\n",
    "    I.method2()\n",
    "\n",
    "print(X)\n",
    "nester()\n",
    "print('-' * 40)"
   ]
  },
  {
   "cell_type": "markdown",
   "metadata": {},
   "source": [
    "## 4.4 命名空间字典  \n",
    "属性点号运算其实内部就是字典的索引运算，而属性继承其实就是搜索链接的字典。"
   ]
  },
  {
   "cell_type": "code",
   "execution_count": 19,
   "metadata": {},
   "outputs": [],
   "source": [
    "class Super:\n",
    "    def hello(self):\n",
    "        self.data1 = 'spam'\n",
    "        \n",
    "class Sub(Super):\n",
    "    def hola(self):\n",
    "        self.data2 = 'eggs'"
   ]
  },
  {
   "cell_type": "code",
   "execution_count": 20,
   "metadata": {},
   "outputs": [
    {
     "data": {
      "text/plain": [
       "{}"
      ]
     },
     "execution_count": 20,
     "metadata": {},
     "output_type": "execute_result"
    }
   ],
   "source": [
    "X = Sub()\n",
    "X.__dict__                            # 实例的命名空间字典"
   ]
  },
  {
   "cell_type": "code",
   "execution_count": 21,
   "metadata": {},
   "outputs": [
    {
     "data": {
      "text/plain": [
       "__main__.Sub"
      ]
     },
     "execution_count": 21,
     "metadata": {},
     "output_type": "execute_result"
    }
   ],
   "source": [
    "X.__class__                           # 实例的类 "
   ]
  },
  {
   "cell_type": "code",
   "execution_count": 22,
   "metadata": {},
   "outputs": [
    {
     "data": {
      "text/plain": [
       "(__main__.Super,)"
      ]
     },
     "execution_count": 22,
     "metadata": {},
     "output_type": "execute_result"
    }
   ],
   "source": [
    "Sub.__bases__                         # 类的超类"
   ]
  },
  {
   "cell_type": "code",
   "execution_count": 23,
   "metadata": {},
   "outputs": [
    {
     "data": {
      "text/plain": [
       "(object,)"
      ]
     },
     "execution_count": 23,
     "metadata": {},
     "output_type": "execute_result"
    }
   ],
   "source": [
    "Super.__bases__"
   ]
  },
  {
   "cell_type": "markdown",
   "metadata": {},
   "source": [
    "属性最后会位于实例的属性命名空间字典内，而不是类。"
   ]
  },
  {
   "cell_type": "code",
   "execution_count": 24,
   "metadata": {},
   "outputs": [
    {
     "data": {
      "text/plain": [
       "{'data1': 'spam'}"
      ]
     },
     "execution_count": 24,
     "metadata": {},
     "output_type": "execute_result"
    }
   ],
   "source": [
    "Y = Sub()\n",
    "X.hello()\n",
    "X.__dict__"
   ]
  },
  {
   "cell_type": "code",
   "execution_count": 25,
   "metadata": {},
   "outputs": [
    {
     "data": {
      "text/plain": [
       "{'data1': 'spam', 'data2': 'eggs'}"
      ]
     },
     "execution_count": 25,
     "metadata": {},
     "output_type": "execute_result"
    }
   ],
   "source": [
    "X.hola()\n",
    "X.__dict__"
   ]
  },
  {
   "cell_type": "code",
   "execution_count": 26,
   "metadata": {},
   "outputs": [
    {
     "data": {
      "text/plain": [
       "dict_keys(['__module__', 'hola', '__doc__'])"
      ]
     },
     "execution_count": 26,
     "metadata": {},
     "output_type": "execute_result"
    }
   ],
   "source": [
    "Sub.__dict__.keys()"
   ]
  },
  {
   "cell_type": "code",
   "execution_count": 27,
   "metadata": {},
   "outputs": [
    {
     "data": {
      "text/plain": [
       "dict_keys(['__module__', 'hello', '__dict__', '__weakref__', '__doc__'])"
      ]
     },
     "execution_count": 27,
     "metadata": {},
     "output_type": "execute_result"
    }
   ],
   "source": [
    "Super.__dict__.keys()"
   ]
  },
  {
   "cell_type": "code",
   "execution_count": 28,
   "metadata": {},
   "outputs": [
    {
     "data": {
      "text/plain": [
       "{}"
      ]
     },
     "execution_count": 28,
     "metadata": {},
     "output_type": "execute_result"
    }
   ],
   "source": [
    "Y.__dict__                        # Y 还是空的命名空间字典"
   ]
  },
  {
   "cell_type": "code",
   "execution_count": 29,
   "metadata": {},
   "outputs": [
    {
     "data": {
      "text/plain": [
       "['__class__',\n",
       " '__delattr__',\n",
       " '__dict__',\n",
       " '__dir__',\n",
       " '__doc__',\n",
       " '__eq__',\n",
       " '__format__',\n",
       " '__ge__',\n",
       " '__getattribute__',\n",
       " '__gt__',\n",
       " '__hash__',\n",
       " '__init__',\n",
       " '__init_subclass__',\n",
       " '__le__',\n",
       " '__lt__',\n",
       " '__module__',\n",
       " '__ne__',\n",
       " '__new__',\n",
       " '__reduce__',\n",
       " '__reduce_ex__',\n",
       " '__repr__',\n",
       " '__setattr__',\n",
       " '__sizeof__',\n",
       " '__str__',\n",
       " '__subclasshook__',\n",
       " '__weakref__',\n",
       " 'data1',\n",
       " 'data2',\n",
       " 'hello',\n",
       " 'hola']"
      ]
     },
     "execution_count": 29,
     "metadata": {},
     "output_type": "execute_result"
    }
   ],
   "source": [
    "dir(X)                            # dir(object) 类似于 object.__dict__.keys() 调用，不过会引入一些系统属性"
   ]
  },
  {
   "cell_type": "markdown",
   "metadata": {},
   "source": [
    "## 4.5 命名空间链接：树爬升  \n",
    "可以用实例和类的特殊属性 `__class__` 和 `__bases__` 来显示类树："
   ]
  },
  {
   "cell_type": "code",
   "execution_count": 30,
   "metadata": {},
   "outputs": [
    {
     "name": "stdout",
     "output_type": "stream",
     "text": [
      "Tree of <__main__.selftest.<locals>.B object at 0x0000022E079E8BA8>\n",
      "...B\n",
      "......A\n",
      ".........object\n",
      "Tree of <__main__.selftest.<locals>.F object at 0x0000022E079E8BA8>\n",
      "...F\n",
      "......D\n",
      ".........B\n",
      "............A\n",
      "...............object\n",
      ".........C\n",
      "............A\n",
      "...............object\n",
      "......E\n",
      ".........object\n"
     ]
    }
   ],
   "source": [
    "# classtree.py 文件\n",
    "\"\"\"\n",
    "Climb inheritance trees using namespace links,\n",
    "displaying higher superclasses with indentation for height\n",
    "\"\"\"\n",
    "\n",
    "def classtree(cls, indent):\n",
    "    print('.' * indent + cls.__name__)     # 打印类名\n",
    "    for supercls in cls.__bases__:         # 递归所有超类\n",
    "        classtree(supercls, indent + 3)\n",
    "        \n",
    "def instancetree(inst):\n",
    "    print('Tree of %s' % inst)\n",
    "    classtree(inst.__class__, 3)\n",
    "    \n",
    "def selftest():\n",
    "    class A: pass\n",
    "    class B(A): pass\n",
    "    class C(A): pass\n",
    "    class D(B, C): pass\n",
    "    class E: pass\n",
    "    class F(D, E): pass\n",
    "    instancetree(B())\n",
    "    instancetree(F())\n",
    "    \n",
    "if __name__ == '__main__': selftest()"
   ]
  },
  {
   "cell_type": "markdown",
   "metadata": {},
   "source": [
    "# 5. 类与模块的关系  \n",
    "- **模块**\n",
    " - 是数据/逻辑包。\n",
    " - 通过编写 Python 文件或 C 扩展来创建。\n",
    " - 通过导入来使用。\n",
    "- **类**\n",
    " - 实现新的对象。\n",
    " - 由 class 语句创建。\n",
    " - 通过调用来使用。\n",
    " - 总是位于一个模块中。"
   ]
  },
  {
   "cell_type": "code",
   "execution_count": null,
   "metadata": {},
   "outputs": [],
   "source": []
  }
 ],
 "metadata": {
  "kernelspec": {
   "display_name": "Python 3",
   "language": "python",
   "name": "python3"
  },
  "language_info": {
   "codemirror_mode": {
    "name": "ipython",
    "version": 3
   },
   "file_extension": ".py",
   "mimetype": "text/x-python",
   "name": "python",
   "nbconvert_exporter": "python",
   "pygments_lexer": "ipython3",
   "version": "3.6.8"
  }
 },
 "nbformat": 4,
 "nbformat_minor": 2
}
