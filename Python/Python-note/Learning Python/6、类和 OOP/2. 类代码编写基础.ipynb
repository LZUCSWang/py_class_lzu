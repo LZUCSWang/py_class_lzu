{
 "cells": [
  {
   "cell_type": "markdown",
   "metadata": {},
   "source": [
    "# 1. 类产生多个实例对象  \n",
    "## 1.1 类对象提供默认行为  \n",
    "Python 类主要特性的要点：\n",
    "- **class 语句创建类对象并将其赋值给变量名。**\n",
    "- **class 语句内的赋值语句会创建类的属性。**\n",
    "- **类属性提供对象的状态和行为。**\n",
    "\n",
    "## 1.2 实例对象是具体的元素  \n",
    "类的实例内含的重点概要：\n",
    "- **像函数那样调用类对象会创建新的实例对象。**\n",
    "- **每个实例对象继承类的属性并获得了自己的命名空间。**\n",
    "- **在方法内对 self 属性做赋值运算会产生每个实例自己的属性。** 在类方法函数内，第一个参数（self）会引用正处理的实例对象。\n",
    "\n",
    "##  1.3 第一个例子  "
   ]
  },
  {
   "cell_type": "code",
   "execution_count": 14,
   "metadata": {},
   "outputs": [],
   "source": [
    "class FirstClass:                      \n",
    "    def setdata(self, value):            # 定义类方法\n",
    "        self.data = value                # self 是实例\n",
    "    def display(self):\n",
    "        print(self.data)"
   ]
  },
  {
   "cell_type": "markdown",
   "metadata": {},
   "source": [
    "位于类中的函数通常称为方法。方法是普通 def。在方法函数中，调用时，第一个参数自动接收隐含的实例对象：调用的主体。"
   ]
  },
  {
   "cell_type": "code",
   "execution_count": 15,
   "metadata": {},
   "outputs": [],
   "source": [
    "x = FirstClass()                         # 创建两个实例\n",
    "y = FirstClass()                         # 每个实例都有新的命名空间"
   ]
  },
  {
   "cell_type": "markdown",
   "metadata": {},
   "source": [
    "如果对实例以及类对象内的属性名称进行点号运算，Python 会通过继承搜索从类取得变量名："
   ]
  },
  {
   "cell_type": "code",
   "execution_count": 16,
   "metadata": {},
   "outputs": [],
   "source": [
    "x.setdata('King Arthur')                 # 调用方法：self 是 x\n",
    "y.setdata(3.14159)                       # 运行：FirstClass.setdata(y, 3.14159)"
   ]
  },
  {
   "cell_type": "markdown",
   "metadata": {},
   "source": [
    "x 或 y 本身都没有 setdata 属性，Python 会顺着实例到类的连接搜索。继承是在属性点号运算时发生的，而且只与查找连接对象内的变量名有关。"
   ]
  },
  {
   "cell_type": "code",
   "execution_count": 17,
   "metadata": {},
   "outputs": [
    {
     "name": "stdout",
     "output_type": "stream",
     "text": [
      "King Arthur\n",
      "3.14159\n"
     ]
    }
   ],
   "source": [
    "x.display()                               # 每个实例中的 self.data 都不同\n",
    "y.display()"
   ]
  },
  {
   "cell_type": "markdown",
   "metadata": {},
   "source": [
    "在类内时，通过方法内对 self 进行赋值运算；而在类外时，则可以通过对实例对象进行赋值运算："
   ]
  },
  {
   "cell_type": "code",
   "execution_count": 18,
   "metadata": {},
   "outputs": [
    {
     "name": "stdout",
     "output_type": "stream",
     "text": [
      "New value\n"
     ]
    }
   ],
   "source": [
    "x.data = 'New value'\n",
    "x.display()"
   ]
  },
  {
   "cell_type": "markdown",
   "metadata": {},
   "source": [
    "可以在实例命名空间内产生全新的属性："
   ]
  },
  {
   "cell_type": "code",
   "execution_count": 19,
   "metadata": {},
   "outputs": [
    {
     "data": {
      "text/plain": [
       "{'data': 'New value', 'anothername': 'spam'}"
      ]
     },
     "execution_count": 19,
     "metadata": {},
     "output_type": "execute_result"
    }
   ],
   "source": [
    "x.anothername = 'spam'\n",
    "x.anothername\n",
    "x.__dict__"
   ]
  },
  {
   "cell_type": "markdown",
   "metadata": {},
   "source": [
    "# 2. 类通过继承进行定制  \n",
    "类可以引入新组件（子类）来进行修改，而不对现有组件进行原地的修改。由类产生的实例对象会继承该类的属性。  \n",
    "\n",
    "属性继承机制的核心观点：\n",
    "- **超类列在了类开头的括号中。** 含有继承的类称为子类，而子类所继承的类就是其超类。\n",
    "- **类从超类中继承属性。**\n",
    "- **实例会继承所有可读取类的属性。**\n",
    "- **每个 object.attribute 都会开启新的独立搜索。**\n",
    "- **逻辑的修改是通过创建子类，而不是修改超类。** 在树中层次较低的子类中重新定义超类的变量名，子类就可取代并制定所继承的行为。\n",
    "\n",
    "## 2.1 第二个例子  \n",
    "定义一个新的类 SecondClass，继承 FirstClass 所有变量名，并提供其自己的一个变量名："
   ]
  },
  {
   "cell_type": "code",
   "execution_count": 20,
   "metadata": {},
   "outputs": [],
   "source": [
    "class SecondClass(FirstClass):                      \n",
    "    def display(self):                              # 更改 display\n",
    "        print('Current value = \"%s\"' % self.data)"
   ]
  },
  {
   "cell_type": "code",
   "execution_count": 21,
   "metadata": {},
   "outputs": [
    {
     "name": "stdout",
     "output_type": "stream",
     "text": [
      "Current value = \"42\"\n"
     ]
    },
    {
     "data": {
      "text/plain": [
       "{'data': 42}"
      ]
     },
     "execution_count": 21,
     "metadata": {},
     "output_type": "execute_result"
    }
   ],
   "source": [
    "z = SecondClass()\n",
    "z.setdata(42)                             # 在 FirstClass 中寻找 setdata\n",
    "z.display()                               # 在 SecondClass 中寻找重载的方法\n",
    "z.__dict__"
   ]
  },
  {
   "cell_type": "markdown",
   "metadata": {},
   "source": [
    "SecondClass 引入的专有化完全是在 FirstClass 外部完成的，不会影响当前存在的或未来存在的 FirstClass 对象："
   ]
  },
  {
   "cell_type": "code",
   "execution_count": 22,
   "metadata": {},
   "outputs": [
    {
     "name": "stdout",
     "output_type": "stream",
     "text": [
      "New value\n"
     ]
    },
    {
     "data": {
      "text/plain": [
       "{'data': 'New value', 'anothername': 'spam'}"
      ]
     },
     "execution_count": 22,
     "metadata": {},
     "output_type": "execute_result"
    }
   ],
   "source": [
    "x.display()                                # x 仍然是 FirstClass 的一个实例\n",
    "x.__dict__"
   ]
  },
  {
   "cell_type": "markdown",
   "metadata": {},
   "source": [
    "## 2.2 类是模块内的属性  \n",
    "类名称总是存在于模块中，class 语句会在导入时执行已定义的变量名，而这些变量名会变成独立的模块属性。"
   ]
  },
  {
   "cell_type": "markdown",
   "metadata": {},
   "source": [
    "# 3. 类可以截获 Python 运算符  \n",
    "运算符重载就是让用类写成的对象，可截获并响应用在内置类型上的运算：加法、切片、打印和点号运算等。  \n",
    "\n",
    "重载运算符主要概念的概要：\n",
    "- **以双下划线命名的方法（`__x__`）是特殊的 hook。** Python 语言替每种运算和特殊命名的方法之间，定义了固定不变的映射关系。\n",
    "- **当实例出现在内置运算时，这类方法会自动调用。** 例如，如果实例对象继承了 `__add__` 方法，当对象出现在 + 表达式内时，该方法就会调用。\n",
    "- **类可覆盖多数内置类型运算。**\n",
    "- **运算符覆盖方法没有默认值，而且也不需要。**\n",
    "- **运算符可让类与 Python 的对象模型相集成。**\n",
    "\n",
    "运算符重载是可选的功能，除非类需要模仿内置类型接口，不然应该使用更简单的命名方法。  \n",
    "\n",
    "## 3.1 第三个例子  \n",
    "定义 SecondClass 的子类，实现三个特殊名称的属性，让 Python 自动进行调用：\n",
    "- 当新的实例构造时，会调用 `__init__`（self 是新的 ThirdClass 对象）。\n",
    "- 当 ThirdClass 实例出现在 + 表达式中时，则会调用 `__add__`。\n",
    "- 当打印一个对象的时候，运行 `__str__`。"
   ]
  },
  {
   "cell_type": "code",
   "execution_count": 23,
   "metadata": {},
   "outputs": [],
   "source": [
    "class ThirdClass(SecondClass):\n",
    "    def __init__(self, value):\n",
    "        self.data = value\n",
    "    def __add__(self, other):\n",
    "        return ThirdClass(self.data + other)\n",
    "    def __str__(self):\n",
    "        return '[ThirdClass：%s]' % self.data\n",
    "    def mul(self, other):\n",
    "        self.data *= other"
   ]
  },
  {
   "cell_type": "code",
   "execution_count": 24,
   "metadata": {},
   "outputs": [
    {
     "name": "stdout",
     "output_type": "stream",
     "text": [
      "Current value = \"abc\"\n"
     ]
    }
   ],
   "source": [
    "a = ThirdClass('abc')\n",
    "a.display()"
   ]
  },
  {
   "cell_type": "code",
   "execution_count": 25,
   "metadata": {},
   "outputs": [
    {
     "name": "stdout",
     "output_type": "stream",
     "text": [
      "[ThirdClass：abc]\n"
     ]
    }
   ],
   "source": [
    "print(a)"
   ]
  },
  {
   "cell_type": "code",
   "execution_count": 26,
   "metadata": {},
   "outputs": [
    {
     "name": "stdout",
     "output_type": "stream",
     "text": [
      "Current value = \"abcxyz\"\n"
     ]
    }
   ],
   "source": [
    "b = a + 'xyz'                     # __add__：创建一个新实例\n",
    "b.display()                       # b 有所有 ThirdClass 的方法"
   ]
  },
  {
   "cell_type": "code",
   "execution_count": 27,
   "metadata": {},
   "outputs": [
    {
     "name": "stdout",
     "output_type": "stream",
     "text": [
      "Current value = \"abcxyzabc\"\n"
     ]
    }
   ],
   "source": [
    "b += 'abc'                      # __add__：修改 b，不是 a\n",
    "b.display()"
   ]
  },
  {
   "cell_type": "code",
   "execution_count": 28,
   "metadata": {},
   "outputs": [],
   "source": [
    "# c = 'xyz' + a                     # __add__：创建一个新实例\n",
    "# c.display()"
   ]
  },
  {
   "cell_type": "code",
   "execution_count": 29,
   "metadata": {},
   "outputs": [
    {
     "name": "stdout",
     "output_type": "stream",
     "text": [
      "[ThirdClass：abcxyzabc]\n"
     ]
    }
   ],
   "source": [
    "print(b)"
   ]
  },
  {
   "cell_type": "code",
   "execution_count": 30,
   "metadata": {},
   "outputs": [
    {
     "name": "stdout",
     "output_type": "stream",
     "text": [
      "[ThirdClass：abcabcabc]\n"
     ]
    }
   ],
   "source": [
    "a.mul(3)\n",
    "print(a)"
   ]
  },
  {
   "cell_type": "markdown",
   "metadata": {},
   "source": [
    "# 4. 世界上最简单的 Python 类  "
   ]
  },
  {
   "cell_type": "code",
   "execution_count": 31,
   "metadata": {},
   "outputs": [
    {
     "name": "stdout",
     "output_type": "stream",
     "text": [
      "Bob\n"
     ]
    }
   ],
   "source": [
    "class rec: pass             # 空命名空间对象\n",
    "\n",
    "rec.name = 'Bob'            # 在 class 语句外，通过赋值变量名给类增加属性\n",
    "rec.age = 40\n",
    "\n",
    "print(rec.name)"
   ]
  },
  {
   "cell_type": "markdown",
   "metadata": {},
   "source": [
    "类只是独立完备的命名空间，只要有类的引用值，就可以在任何时刻设定或修改其属性。"
   ]
  },
  {
   "cell_type": "code",
   "execution_count": 32,
   "metadata": {},
   "outputs": [
    {
     "data": {
      "text/plain": [
       "('Bob', 'Bob')"
      ]
     },
     "execution_count": 32,
     "metadata": {},
     "output_type": "execute_result"
    }
   ],
   "source": [
    "x = rec()                   # name 仅在类上存储，x 和 y 继承并获取附加在类上的属性\n",
    "y = rec()\n",
    "x.name, y.name"
   ]
  },
  {
   "cell_type": "code",
   "execution_count": 33,
   "metadata": {},
   "outputs": [
    {
     "data": {
      "text/plain": [
       "('Bob', 'Sue', 'Bob')"
      ]
     },
     "execution_count": 33,
     "metadata": {},
     "output_type": "execute_result"
    }
   ],
   "source": [
    "x.name = 'Sue'              # 把一个属性赋值给一个实例，就会在该对象内创建（或修改）该属性 \n",
    "rec.name, x.name, y.name"
   ]
  },
  {
   "cell_type": "markdown",
   "metadata": {},
   "source": [
    "命名空间对象的属性通常是以字典的形式实现的。`__dict__` 属性是针对大多数基于类的对象的命名空间字典："
   ]
  },
  {
   "cell_type": "code",
   "execution_count": 34,
   "metadata": {},
   "outputs": [
    {
     "data": {
      "text/plain": [
       "['__module__', '__dict__', '__weakref__', '__doc__', 'name', 'age']"
      ]
     },
     "execution_count": 34,
     "metadata": {},
     "output_type": "execute_result"
    }
   ],
   "source": [
    "list(rec.__dict__.keys())"
   ]
  },
  {
   "cell_type": "code",
   "execution_count": 35,
   "metadata": {},
   "outputs": [
    {
     "data": {
      "text/plain": [
       "['name']"
      ]
     },
     "execution_count": 35,
     "metadata": {},
     "output_type": "execute_result"
    }
   ],
   "source": [
    "list(x.__dict__.keys())"
   ]
  },
  {
   "cell_type": "code",
   "execution_count": 36,
   "metadata": {},
   "outputs": [
    {
     "data": {
      "text/plain": [
       "[]"
      ]
     },
     "execution_count": 36,
     "metadata": {},
     "output_type": "execute_result"
    }
   ],
   "source": [
    "list(y.__dict__.keys())"
   ]
  },
  {
   "cell_type": "markdown",
   "metadata": {},
   "source": [
    "x 有自己的 name，y 依然是空的。  \n",
    "\n",
    "方法也可以完全独立地在任意类对象的外部创建："
   ]
  },
  {
   "cell_type": "code",
   "execution_count": 37,
   "metadata": {},
   "outputs": [
    {
     "data": {
      "text/plain": [
       "('SUE', 'BOB', 'Sue', 'Bob')"
      ]
     },
     "execution_count": 37,
     "metadata": {},
     "output_type": "execute_result"
    }
   ],
   "source": [
    "def uppername(obj):\n",
    "    return obj.name.upper()           # 只要传入一个带有 name 属性的对象\n",
    "\n",
    "uppername(x),uppername(y),x.name,y.name"
   ]
  },
  {
   "cell_type": "markdown",
   "metadata": {},
   "source": [
    "当把这个简单函数赋值成类的属性，就会变成方法，可以由任何实例调用："
   ]
  },
  {
   "cell_type": "code",
   "execution_count": 38,
   "metadata": {},
   "outputs": [
    {
     "data": {
      "text/plain": [
       "'SUE'"
      ]
     },
     "execution_count": 38,
     "metadata": {},
     "output_type": "execute_result"
    }
   ],
   "source": [
    "rec.method = uppername\n",
    "x.method()"
   ]
  },
  {
   "cell_type": "code",
   "execution_count": 39,
   "metadata": {},
   "outputs": [
    {
     "data": {
      "text/plain": [
       "'BOB'"
      ]
     },
     "execution_count": 39,
     "metadata": {},
     "output_type": "execute_result"
    }
   ],
   "source": [
    "y.method()"
   ]
  },
  {
   "cell_type": "markdown",
   "metadata": {},
   "source": [
    "## 4.1 类与字典的关系  \n",
    "利用类来记录属性，可以用不同的实例记录不同的数据，模拟字典的方法："
   ]
  },
  {
   "cell_type": "code",
   "execution_count": 40,
   "metadata": {},
   "outputs": [],
   "source": [
    "class rec: pass\n",
    "rec.name = 'mel'\n",
    "rec.age = 45\n",
    "rec.job = 'trainer/writer'"
   ]
  }
 ],
 "metadata": {
  "kernelspec": {
   "display_name": "Python 3",
   "language": "python",
   "name": "python3"
  },
  "language_info": {
   "codemirror_mode": {
    "name": "ipython",
    "version": 3
   },
   "file_extension": ".py",
   "mimetype": "text/x-python",
   "name": "python",
   "nbconvert_exporter": "python",
   "pygments_lexer": "ipython3",
   "version": "3.10.4"
  }
 },
 "nbformat": 4,
 "nbformat_minor": 2
}
