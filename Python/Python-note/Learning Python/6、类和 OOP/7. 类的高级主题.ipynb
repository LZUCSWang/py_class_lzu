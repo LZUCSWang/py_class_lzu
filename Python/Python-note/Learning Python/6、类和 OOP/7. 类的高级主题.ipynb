{
 "cells": [
  {
   "cell_type": "markdown",
   "metadata": {},
   "source": [
    "# 1. 扩展内置类型  \n",
    "## 1.1 通过嵌入扩展类型  \n",
    "这个类允许我们创建多个自包含的集合对象，带有预先设置的数据和行为，而不是手动把列表传入函数中："
   ]
  },
  {
   "cell_type": "code",
   "execution_count": 1,
   "metadata": {},
   "outputs": [
    {
     "name": "stdout",
     "output_type": "stream",
     "text": [
      "Set:[1, 3, 5, 7, 4]\n",
      "Set:[1, 3, 5, 7, 4, 6]\n"
     ]
    }
   ],
   "source": [
    "# setwrapper.py\n",
    "class Set:\n",
    "    def __init__(self, value=[]):\n",
    "        self.data = []\n",
    "        self.concat(value)\n",
    "        \n",
    "    def intersect(self, other):\n",
    "        res = []\n",
    "        for x in self.data:\n",
    "            if x in other:                 # 获取共有项\n",
    "                res.append(x)\n",
    "        return Set(res)                    # 返回一个新 Set\n",
    "    \n",
    "    def union(self, other):\n",
    "        res = self.data[:]\n",
    "        for x in other:\n",
    "            if not x in res:\n",
    "                res.append(x)\n",
    "        return Set(res)\n",
    "    \n",
    "    def concat(self, value):\n",
    "        for x in value:\n",
    "            if not x in self.data:\n",
    "                self.data.append(x)\n",
    "        \n",
    "    def __len__(self):\n",
    "        return len(self.data)\n",
    "    def __getitem__(self, key):\n",
    "        return self.data[key]\n",
    "    def __and__(self, other):\n",
    "        return self.intersect(other)\n",
    "    def __or__(self, other):\n",
    "        return self.union(other)\n",
    "    def __repr__(self):\n",
    "        return 'Set:' + repr(self.data)\n",
    "    def __iter__(self):\n",
    "        return iter(self.data)\n",
    "    \n",
    "x = Set([1, 3, 5, 7])\n",
    "print(x.union(Set([1, 4, 7])))\n",
    "print(x | Set([1, 4, 6]))"
   ]
  },
  {
   "cell_type": "markdown",
   "metadata": {},
   "source": [
    "重载索引运算让 Set 类的实例可以充当真正的列表。"
   ]
  },
  {
   "cell_type": "markdown",
   "metadata": {},
   "source": [
    "## 1.2 通过子类扩展类型  \n",
    "所有内置类型都能直接创建子类，像 list、str、dict 以及 tuple 等类型转换函数都变成内置类型的名称。  \n",
    "\n",
    "可以编写自己的子类，定制列表偏移值以 1 开始计算："
   ]
  },
  {
   "cell_type": "code",
   "execution_count": 2,
   "metadata": {},
   "outputs": [
    {
     "name": "stdout",
     "output_type": "stream",
     "text": [
      "['a', 'b', 'c']\n",
      "['a', 'b', 'c']\n",
      "(indexing) ['a', 'b', 'c'] at 1\n",
      "a\n",
      "(indexing) ['a', 'b', 'c'] at 3\n",
      "c\n",
      "['a', 'b', 'c', 'spam']\n",
      "['spam', 'c', 'b', 'a']\n"
     ]
    }
   ],
   "source": [
    "# typesubclass.py\n",
    "# Map 1..N to 0..N-1\n",
    "\n",
    "class MyList(list):\n",
    "    def __getitem__(self, offset):\n",
    "        print('(indexing) %s at %s' % (self, offset))\n",
    "        return list.__getitem__(self, offset - 1)\n",
    "    \n",
    "if __name__ == '__main__':\n",
    "    print(list('abc'))\n",
    "    x = MyList('abc')\n",
    "    print(x)\n",
    "    \n",
    "    print(x[1])\n",
    "    print(x[3])\n",
    "    \n",
    "    x.append('spam')\n",
    "    print(x)\n",
    "    x.reverse()\n",
    "    print(x)"
   ]
  },
  {
   "cell_type": "markdown",
   "metadata": {},
   "source": [
    "# 2. 新式类的扩展  \n",
    "## 2.1 slots 实例  \n",
    "将字符串属性名称顺序赋值给特殊的 `__slots__` 类属性，新式类就有可能既限制类的实例将有的合法属性集，又能够优化内存和速度性能。  \n",
    "\n",
    "只有 `__slots__` 列表内的变量名可赋值为实例属性，实例属性名必须在引用前赋值："
   ]
  },
  {
   "cell_type": "code",
   "execution_count": 3,
   "metadata": {},
   "outputs": [
    {
     "ename": "AttributeError",
     "evalue": "age",
     "output_type": "error",
     "traceback": [
      "\u001b[1;31m---------------------------------------------------------------------------\u001b[0m",
      "\u001b[1;31mAttributeError\u001b[0m                            Traceback (most recent call last)",
      "\u001b[1;32m<ipython-input-3-b903551b2c8f>\u001b[0m in \u001b[0;36m<module>\u001b[1;34m()\u001b[0m\n\u001b[0;32m      3\u001b[0m \u001b[1;33m\u001b[0m\u001b[0m\n\u001b[0;32m      4\u001b[0m \u001b[0mx\u001b[0m \u001b[1;33m=\u001b[0m \u001b[0mlimiter\u001b[0m\u001b[1;33m(\u001b[0m\u001b[1;33m)\u001b[0m\u001b[1;33m\u001b[0m\u001b[0m\n\u001b[1;32m----> 5\u001b[1;33m \u001b[0mx\u001b[0m\u001b[1;33m.\u001b[0m\u001b[0mage\u001b[0m\u001b[1;33m\u001b[0m\u001b[0m\n\u001b[0m",
      "\u001b[1;31mAttributeError\u001b[0m: age"
     ]
    }
   ],
   "source": [
    "class limiter:\n",
    "    __slots__ = ['age', 'name', 'job']\n",
    "    \n",
    "x = limiter()\n",
    "x.age"
   ]
  },
  {
   "cell_type": "code",
   "execution_count": 4,
   "metadata": {},
   "outputs": [
    {
     "data": {
      "text/plain": [
       "40"
      ]
     },
     "execution_count": 4,
     "metadata": {},
     "output_type": "execute_result"
    }
   ],
   "source": [
    "x.age = 40\n",
    "x.age"
   ]
  },
  {
   "cell_type": "code",
   "execution_count": 6,
   "metadata": {},
   "outputs": [
    {
     "ename": "AttributeError",
     "evalue": "'limiter' object has no attribute 'ape'",
     "output_type": "error",
     "traceback": [
      "\u001b[1;31m---------------------------------------------------------------------------\u001b[0m",
      "\u001b[1;31mAttributeError\u001b[0m                            Traceback (most recent call last)",
      "\u001b[1;32m<ipython-input-6-9b5b7f47724b>\u001b[0m in \u001b[0;36m<module>\u001b[1;34m()\u001b[0m\n\u001b[1;32m----> 1\u001b[1;33m \u001b[0mx\u001b[0m\u001b[1;33m.\u001b[0m\u001b[0mape\u001b[0m \u001b[1;33m=\u001b[0m \u001b[1;36m1000\u001b[0m              \u001b[1;31m# 不在 __slots__ 中\u001b[0m\u001b[1;33m\u001b[0m\u001b[0m\n\u001b[0m",
      "\u001b[1;31mAttributeError\u001b[0m: 'limiter' object has no attribute 'ape'"
     ]
    }
   ],
   "source": [
    "x.ape = 1000              # 不在 __slots__ 中"
   ]
  },
  {
   "cell_type": "markdown",
   "metadata": {},
   "source": [
    "要节省空间和执行速度，slot 属性可以顺序存储以供快速查找，而不是为每个实例分配一个字典。 \n",
    "\n",
    "\n",
    "**Slots 和命名空间字典**  \n",
    "有些带有 slots 的实例也许根本没有 `__dict__` 属性命名空间字典，Python 使用**类描述符**功能来为实例中的 slot 属性分配空间。只有 slot 列表中的名称可以分配给实例，基于 slot 的属性仍然可以使用通用工具通过名称来访问或设置："
   ]
  },
  {
   "cell_type": "code",
   "execution_count": 7,
   "metadata": {},
   "outputs": [
    {
     "data": {
      "text/plain": [
       "1"
      ]
     },
     "execution_count": 7,
     "metadata": {},
     "output_type": "execute_result"
    }
   ],
   "source": [
    "class C:\n",
    "    __slots__ = ['a', 'b']\n",
    "    \n",
    "X = C()\n",
    "X.a = 1\n",
    "X.a"
   ]
  },
  {
   "cell_type": "code",
   "execution_count": 8,
   "metadata": {},
   "outputs": [
    {
     "ename": "AttributeError",
     "evalue": "'C' object has no attribute '__dict__'",
     "output_type": "error",
     "traceback": [
      "\u001b[1;31m---------------------------------------------------------------------------\u001b[0m",
      "\u001b[1;31mAttributeError\u001b[0m                            Traceback (most recent call last)",
      "\u001b[1;32m<ipython-input-8-b2412a113e8c>\u001b[0m in \u001b[0;36m<module>\u001b[1;34m()\u001b[0m\n\u001b[1;32m----> 1\u001b[1;33m \u001b[0mX\u001b[0m\u001b[1;33m.\u001b[0m\u001b[0m__dict__\u001b[0m\u001b[1;33m\u001b[0m\u001b[0m\n\u001b[0m",
      "\u001b[1;31mAttributeError\u001b[0m: 'C' object has no attribute '__dict__'"
     ]
    }
   ],
   "source": [
    "X.__dict__"
   ]
  },
  {
   "cell_type": "code",
   "execution_count": 9,
   "metadata": {},
   "outputs": [
    {
     "data": {
      "text/plain": [
       "1"
      ]
     },
     "execution_count": 9,
     "metadata": {},
     "output_type": "execute_result"
    }
   ],
   "source": [
    "getattr(X, 'a')                        # getattr 和 setattr 仍然可用"
   ]
  },
  {
   "cell_type": "code",
   "execution_count": 10,
   "metadata": {},
   "outputs": [],
   "source": [
    "setattr(X, 'b', 2)"
   ]
  },
  {
   "cell_type": "code",
   "execution_count": 11,
   "metadata": {},
   "outputs": [
    {
     "data": {
      "text/plain": [
       "2"
      ]
     },
     "execution_count": 11,
     "metadata": {},
     "output_type": "execute_result"
    }
   ],
   "source": [
    "X.b"
   ]
  },
  {
   "cell_type": "code",
   "execution_count": 12,
   "metadata": {},
   "outputs": [
    {
     "data": {
      "text/plain": [
       "True"
      ]
     },
     "execution_count": 12,
     "metadata": {},
     "output_type": "execute_result"
    }
   ],
   "source": [
    "'a' in dir(X)"
   ]
  },
  {
   "cell_type": "code",
   "execution_count": 13,
   "metadata": {},
   "outputs": [
    {
     "ename": "AttributeError",
     "evalue": "'D' object has no attribute 'd'",
     "output_type": "error",
     "traceback": [
      "\u001b[1;31m---------------------------------------------------------------------------\u001b[0m",
      "\u001b[1;31mAttributeError\u001b[0m                            Traceback (most recent call last)",
      "\u001b[1;32m<ipython-input-13-ffbc3ded455c>\u001b[0m in \u001b[0;36m<module>\u001b[1;34m()\u001b[0m\n\u001b[0;32m      4\u001b[0m         \u001b[0mself\u001b[0m\u001b[1;33m.\u001b[0m\u001b[0md\u001b[0m \u001b[1;33m=\u001b[0m \u001b[1;36m4\u001b[0m\u001b[1;33m\u001b[0m\u001b[0m\n\u001b[0;32m      5\u001b[0m \u001b[1;33m\u001b[0m\u001b[0m\n\u001b[1;32m----> 6\u001b[1;33m \u001b[0mX\u001b[0m \u001b[1;33m=\u001b[0m \u001b[0mD\u001b[0m\u001b[1;33m(\u001b[0m\u001b[1;33m)\u001b[0m\u001b[1;33m\u001b[0m\u001b[0m\n\u001b[0m",
      "\u001b[1;32m<ipython-input-13-ffbc3ded455c>\u001b[0m in \u001b[0;36m__init__\u001b[1;34m(self)\u001b[0m\n\u001b[0;32m      2\u001b[0m     \u001b[0m__slots__\u001b[0m \u001b[1;33m=\u001b[0m \u001b[1;33m[\u001b[0m\u001b[1;34m'a'\u001b[0m\u001b[1;33m,\u001b[0m \u001b[1;34m'b'\u001b[0m\u001b[1;33m]\u001b[0m\u001b[1;33m\u001b[0m\u001b[0m\n\u001b[0;32m      3\u001b[0m     \u001b[1;32mdef\u001b[0m \u001b[0m__init__\u001b[0m\u001b[1;33m(\u001b[0m\u001b[0mself\u001b[0m\u001b[1;33m)\u001b[0m\u001b[1;33m:\u001b[0m\u001b[1;33m\u001b[0m\u001b[0m\n\u001b[1;32m----> 4\u001b[1;33m         \u001b[0mself\u001b[0m\u001b[1;33m.\u001b[0m\u001b[0md\u001b[0m \u001b[1;33m=\u001b[0m \u001b[1;36m4\u001b[0m\u001b[1;33m\u001b[0m\u001b[0m\n\u001b[0m\u001b[0;32m      5\u001b[0m \u001b[1;33m\u001b[0m\u001b[0m\n\u001b[0;32m      6\u001b[0m \u001b[0mX\u001b[0m \u001b[1;33m=\u001b[0m \u001b[0mD\u001b[0m\u001b[1;33m(\u001b[0m\u001b[1;33m)\u001b[0m\u001b[1;33m\u001b[0m\u001b[0m\n",
      "\u001b[1;31mAttributeError\u001b[0m: 'D' object has no attribute 'd'"
     ]
    }
   ],
   "source": [
    "class D:\n",
    "    __slots__ = ['a', 'b']               # 不能给不是 slots 列表中名称的实例来分配新的名称\n",
    "    def __init__(self):\n",
    "        self.d = 4\n",
    "        \n",
    "X = D()"
   ]
  },
  {
   "cell_type": "code",
   "execution_count": 15,
   "metadata": {},
   "outputs": [
    {
     "data": {
      "text/plain": [
       "4"
      ]
     },
     "execution_count": 15,
     "metadata": {},
     "output_type": "execute_result"
    }
   ],
   "source": [
    "class D:                                  # 通过在 __slots__ 中包含 __dict__ 仍然可以容纳额外属性\n",
    "    __slots__ = ['a', 'b', '__dict__']\n",
    "    c = 3\n",
    "    def __init__(self): self.d = 4        # d 在 __dict__ 中，a 在 __slots__ 中\n",
    "        \n",
    "X = D()\n",
    "X.d"
   ]
  },
  {
   "cell_type": "code",
   "execution_count": 16,
   "metadata": {},
   "outputs": [
    {
     "data": {
      "text/plain": [
       "{'d': 4}"
      ]
     },
     "execution_count": 16,
     "metadata": {},
     "output_type": "execute_result"
    }
   ],
   "source": [
    "X.__dict__"
   ]
  },
  {
   "cell_type": "code",
   "execution_count": 17,
   "metadata": {},
   "outputs": [
    {
     "data": {
      "text/plain": [
       "['a', 'b', '__dict__']"
      ]
     },
     "execution_count": 17,
     "metadata": {},
     "output_type": "execute_result"
    }
   ],
   "source": [
    "X.__slots__"
   ]
  },
  {
   "cell_type": "code",
   "execution_count": 22,
   "metadata": {},
   "outputs": [
    {
     "data": {
      "text/plain": [
       "3"
      ]
     },
     "execution_count": 22,
     "metadata": {},
     "output_type": "execute_result"
    }
   ],
   "source": [
    "X.c"
   ]
  },
  {
   "cell_type": "code",
   "execution_count": 23,
   "metadata": {},
   "outputs": [],
   "source": [
    "X.a = 1\n",
    "X.b = 2"
   ]
  },
  {
   "cell_type": "code",
   "execution_count": 24,
   "metadata": {},
   "outputs": [
    {
     "name": "stdout",
     "output_type": "stream",
     "text": [
      "d => 4\n",
      "a => 1\n",
      "b => 2\n",
      "__dict__ => {'d': 4}\n"
     ]
    }
   ],
   "source": [
    "# 通用地列出所有实例属性的代码\n",
    "\n",
    "for attr in list(getattr(X, '__dict__', [])) + getattr(X, '__slots__', []):\n",
    "    print(attr, '=>', getattr(X, attr))"
   ]
  },
  {
   "cell_type": "markdown",
   "metadata": {},
   "source": [
    "**超类中的多个 `__slots__` 列表**  \n",
    "slot 声明可能出现在一个类树中的多个类中，但是，它们受到一些限制：\n",
    "- 如果一个子类继承自一个没有 `__slots__` 的超类，那么超类的 `__dict__` 属性总是可以访问的，使得子类中的一个 `__slots__` 无意义。\n",
    "- 如果一个类定义了一个与超类相同的 slot 名称，超类 slot 定义的名称版本只有通过直接从超类获取其描述符才能访问。\n",
    "- 由于一个 `__slots__` 声明的含义受到它出现其中的类的限制，所以子类将有一个 `__dict__`，除非它们也定义了一个 `__slots__`。\n",
    "- 通常从列出实例属性这方面来讲，多类中的 slots 可能需要手动类树爬升、dir用法，或者把 slot 名称当做不同的名称领域的政策。"
   ]
  },
  {
   "cell_type": "code",
   "execution_count": 25,
   "metadata": {},
   "outputs": [
    {
     "data": {
      "text/plain": [
       "(1, 3)"
      ]
     },
     "execution_count": 25,
     "metadata": {},
     "output_type": "execute_result"
    }
   ],
   "source": [
    "class E:\n",
    "    __slots__ = ['c', 'd']\n",
    "class D(E):\n",
    "    __slots__ = ['a', '__dict__']\n",
    "    \n",
    "X = D()\n",
    "X.a = 1;X.b = 2;X.c = 3\n",
    "X.a, X.c"
   ]
  },
  {
   "cell_type": "code",
   "execution_count": 26,
   "metadata": {},
   "outputs": [
    {
     "data": {
      "text/plain": [
       "['c', 'd']"
      ]
     },
     "execution_count": 26,
     "metadata": {},
     "output_type": "execute_result"
    }
   ],
   "source": [
    "E.__slots__"
   ]
  },
  {
   "cell_type": "code",
   "execution_count": 27,
   "metadata": {},
   "outputs": [
    {
     "data": {
      "text/plain": [
       "['a', '__dict__']"
      ]
     },
     "execution_count": 27,
     "metadata": {},
     "output_type": "execute_result"
    }
   ],
   "source": [
    "D.__slots__"
   ]
  },
  {
   "cell_type": "code",
   "execution_count": 28,
   "metadata": {},
   "outputs": [
    {
     "data": {
      "text/plain": [
       "['a', '__dict__']"
      ]
     },
     "execution_count": 28,
     "metadata": {},
     "output_type": "execute_result"
    }
   ],
   "source": [
    "X.__slots__                       # 实例继承最底层的 __slots__"
   ]
  },
  {
   "cell_type": "code",
   "execution_count": 29,
   "metadata": {},
   "outputs": [
    {
     "data": {
      "text/plain": [
       "{'b': 2}"
      ]
     },
     "execution_count": 29,
     "metadata": {},
     "output_type": "execute_result"
    }
   ],
   "source": [
    "X.__dict__"
   ]
  },
  {
   "cell_type": "code",
   "execution_count": 30,
   "metadata": {},
   "outputs": [
    {
     "name": "stdout",
     "output_type": "stream",
     "text": [
      "b => 2\n",
      "a => 1\n",
      "__dict__ => {'b': 2}\n"
     ]
    }
   ],
   "source": [
    "# 其他超类 slots 未访问\n",
    "\n",
    "for attr in list(getattr(X, '__dict__', [])) + getattr(X, '__slots__', []):\n",
    "    print(attr, '=>', getattr(X, attr))"
   ]
  },
  {
   "cell_type": "markdown",
   "metadata": {},
   "source": [
    "## 2.2 特性：属性访问  \n",
    "特性（property）提供另一种方式让新式类定义自动调用的方法，来读取或赋值实例属性。  \n",
    "\n",
    "尽管特性不支持通用属性路由路由目标，至少在特定属性上是 `__getattr__` 和 `__setattr__` 重载方法的替代做法。特性和这两个方法有类似效果，但是只在读取所需要的动态计算的变量名时，才会发生额外的方法调用。  \n",
    "\n",
    "特性和 slots 相关，但是有不同目标，两者都执行未在实例命名空间字典中物理存储的实例属性，都基于描述符概念。但是，slot 管理实例存储，特性拦截访问和任意计算值。  \n",
    "\n",
    "**特性基础**  \n",
    "特性是一种对象，赋值给类属性名称。特性的产生是通过调用内置函数 property，传入三种方法（get, set 和 delete 操作）以及可选的文档字符串。如果任何参数以 None 传递或省略，则该操作无法支持。  \n",
    "\n",
    "特性一般是在 class 语句顶层赋值（例如，name = property()），特殊的 @ 语法可以自动处理这个步骤。这样赋值时，对类属性本身的读取（例如，obj.name）就会自动传给 property 的一个读取方法。"
   ]
  },
  {
   "cell_type": "code",
   "execution_count": 1,
   "metadata": {},
   "outputs": [
    {
     "data": {
      "text/plain": [
       "40"
      ]
     },
     "execution_count": 1,
     "metadata": {},
     "output_type": "execute_result"
    }
   ],
   "source": [
    "class properties:\n",
    "    def getage(self):\n",
    "        return 40\n",
    "    age = property(getage, None, None, None)   # (get, set, del, docs) 或者使用 @\n",
    "    \n",
    "x = properties()\n",
    "x.age"
   ]
  },
  {
   "cell_type": "code",
   "execution_count": 2,
   "metadata": {},
   "outputs": [
    {
     "ename": "AttributeError",
     "evalue": "'properties' object has no attribute 'name'",
     "output_type": "error",
     "traceback": [
      "\u001b[1;31m---------------------------------------------------------------------------\u001b[0m",
      "\u001b[1;31mAttributeError\u001b[0m                            Traceback (most recent call last)",
      "\u001b[1;32m<ipython-input-2-7a8bb287c399>\u001b[0m in \u001b[0;36m<module>\u001b[1;34m()\u001b[0m\n\u001b[1;32m----> 1\u001b[1;33m \u001b[0mx\u001b[0m\u001b[1;33m.\u001b[0m\u001b[0mname\u001b[0m\u001b[1;33m\u001b[0m\u001b[0m\n\u001b[0m",
      "\u001b[1;31mAttributeError\u001b[0m: 'properties' object has no attribute 'name'"
     ]
    }
   ],
   "source": [
    "x.name"
   ]
  },
  {
   "cell_type": "markdown",
   "metadata": {},
   "source": [
    "当我们新增属性**赋值**运算支持时，特性就变得更有吸引力：输入的代码更少，对我们不希望动态计算的属性进行赋值运算时，不会发生额外的方法调用："
   ]
  },
  {
   "cell_type": "code",
   "execution_count": 3,
   "metadata": {},
   "outputs": [
    {
     "data": {
      "text/plain": [
       "40"
      ]
     },
     "execution_count": 3,
     "metadata": {},
     "output_type": "execute_result"
    }
   ],
   "source": [
    "class properties:\n",
    "    def getage(self):\n",
    "        return 40\n",
    "    def setage(self, value):\n",
    "        print('set age: %s' % value)\n",
    "        self._age = value\n",
    "    age = property(getage, setage, None, None)\n",
    "    \n",
    "x = properties()\n",
    "x.age                          # 运行 getage"
   ]
  },
  {
   "cell_type": "code",
   "execution_count": 4,
   "metadata": {},
   "outputs": [
    {
     "name": "stdout",
     "output_type": "stream",
     "text": [
      "set age: 42\n"
     ]
    }
   ],
   "source": [
    "x.age = 42                     # 运行 setage"
   ]
  },
  {
   "cell_type": "code",
   "execution_count": 5,
   "metadata": {},
   "outputs": [
    {
     "data": {
      "text/plain": [
       "42"
      ]
     },
     "execution_count": 5,
     "metadata": {},
     "output_type": "execute_result"
    }
   ],
   "source": [
    "x._age                         # 常规获取：不调用 getage"
   ]
  },
  {
   "cell_type": "code",
   "execution_count": 6,
   "metadata": {},
   "outputs": [
    {
     "data": {
      "text/plain": [
       "40"
      ]
     },
     "execution_count": 6,
     "metadata": {},
     "output_type": "execute_result"
    }
   ],
   "source": [
    "x.age                          # 运行 getage"
   ]
  },
  {
   "cell_type": "code",
   "execution_count": 7,
   "metadata": {},
   "outputs": [
    {
     "data": {
      "text/plain": [
       "'trainer'"
      ]
     },
     "execution_count": 7,
     "metadata": {},
     "output_type": "execute_result"
    }
   ],
   "source": [
    "x.job = 'trainer'              # 常规赋值\n",
    "x.job                          # 常规获取"
   ]
  },
  {
   "cell_type": "markdown",
   "metadata": {},
   "source": [
    "等效的经典类可能会引发额外的方法调用，而且需要通过属性字典传递属性赋值语句，以避免死循环。  \n",
    "\n",
    "`__getattr__` 和 `__setattr__` 的某些应用依然需要更为动态或通用的接口，超出特性所能直接提供的范围。"
   ]
  },
  {
   "cell_type": "markdown",
   "metadata": {},
   "source": [
    "## 2.3 `__getattribute__` 和描述符：属性工具  \n",
    "`__getattribute__` 方法只适用于新式类，可以让类拦截**所有**属性的引用，而不局限于未定义的引用。  \n",
    "\n",
    "Python 支持属性**描述符**的概念——带有 `__get__` 和 `__set__` 方法的类，分配给类属性并且由实例继承，这拦截了对特定属性的读取和写入访问。描述符在某种意义上是特性的一种更加通用的形式。实际上，特性是定义特定类型描述符的一种简化方式，该描述符运行关于访问的函数。"
   ]
  },
  {
   "cell_type": "markdown",
   "metadata": {},
   "source": [
    "# 3. 静态方法和类方法  \n",
    "有两种可以在类中定义不需要实例就可以调用的方法：**静态**方法大致类似于类中简单的无实例函数，**类**方法传递一个类而不是一个实例。  \n",
    "\n",
    "要启用这些方法模式，必须在类中调用特殊的内置函数 staticmethod 和 classmethod，或者使用特殊的 @name 装饰语法来调用它们。在 Python 3.X 中，对于仅通过类名调用的非实例方法，不需要 staticmethod 声明，但是如果通过实例调用此类方法，则仍然需要静态方法声明。  \n",
    "\n",
    "## 3.1 为什么使用特殊的方法？  \n",
    "类的方法通常在第一个参数中传递一个实例对象，作为方法调用的隐含主体——这是“面向对象编程”中的“对象”。如今有两种方法可以改变这种模式。  \n",
    "\n",
    "有时，程序需要处理与类相关的数据，而不是实例。信息通常存储在类本身中，并在任何实例之外进行处理。  \n",
    "\n",
    "对于这样的任务，在类之外编写的简单函数通常就足够了——因为它们可以通过类名访问类属性，它们可以访问类数据，而不需要访问实例。但是，为了更好地将此类代码与类关联起来，并且允许这样的处理像往常一样使用继承自定义，最好在类本身内编写这些类型的函数。要实现这一点，我们需要一个类中的方法，这个类没有传递，也不需要一个 self 实例参数。  \n",
    "\n",
    "Python 使用**静态方法**的概念来支持这些目标——简单的函数，没有嵌套在类中的 self 参数，设计用于处理类属性而不是实例属性。无论通过类还是实例调用，静态方法都不会收到自动的 self 参数。它们通常跟踪跨所有实例的信息，而不是为实例提供行为。  \n",
    "\n",
    "虽然不太常用，但 Python 也支持**类方法**的概念——这是类的一种方法，传递给它们的第一个参数是一个类对象而不是一个实例，不管它们是通过实例还是类调用。即使是通过实例调用，这样的方法可以通过 self 类参数访问类数据。常规方法（现在正规的叫法是**实例方法**）在调用时仍然接收一个主题实例，静态方法和类方法则不会。  \n",
    "\n",
    "## 3.2 Python 3.X 中的静态方法  \n",
    "- 当通过实例获取方法时，生成一个绑定方法。\n",
    "- 从一个类获取一个方法会产生一个**简单函数**，没有给出实例也可以常规地调用。\n",
    "- 如果方法只通过一个类调用的话，我们不需要将这样的方法声明为静态的，但是，要通过一个实例调用它，我们必须这么做。"
   ]
  },
  {
   "cell_type": "code",
   "execution_count": 8,
   "metadata": {},
   "outputs": [
    {
     "name": "stdout",
     "output_type": "stream",
     "text": [
      "Number of instances created:  3\n"
     ]
    }
   ],
   "source": [
    "class Spam:\n",
    "    numInstances = 0\n",
    "    def __init__(self):\n",
    "        Spam.numInstances = Spam.numInstances + 1\n",
    "    def printNumInstances():                         # 处理类数据而不是实例数据\n",
    "        print(\"Number of instances created: \", Spam.numInstances)\n",
    "\n",
    "a = Spam()\n",
    "b = Spam()\n",
    "c = Spam()\n",
    "Spam.printNumInstances()"
   ]
  },
  {
   "cell_type": "code",
   "execution_count": 9,
   "metadata": {},
   "outputs": [
    {
     "ename": "TypeError",
     "evalue": "printNumInstances() takes 0 positional arguments but 1 was given",
     "output_type": "error",
     "traceback": [
      "\u001b[1;31m---------------------------------------------------------------------------\u001b[0m",
      "\u001b[1;31mTypeError\u001b[0m                                 Traceback (most recent call last)",
      "\u001b[1;32m<ipython-input-9-05e2611a4d82>\u001b[0m in \u001b[0;36m<module>\u001b[1;34m()\u001b[0m\n\u001b[1;32m----> 1\u001b[1;33m \u001b[0ma\u001b[0m\u001b[1;33m.\u001b[0m\u001b[0mprintNumInstances\u001b[0m\u001b[1;33m(\u001b[0m\u001b[1;33m)\u001b[0m\u001b[1;33m\u001b[0m\u001b[0m\n\u001b[0m",
      "\u001b[1;31mTypeError\u001b[0m: printNumInstances() takes 0 positional arguments but 1 was given"
     ]
    }
   ],
   "source": [
    "a.printNumInstances()                            # 无 self 方法的调用从实例调用失效"
   ]
  },
  {
   "cell_type": "markdown",
   "metadata": {},
   "source": [
    "## 3.3 使用静态和类方法  "
   ]
  },
  {
   "cell_type": "code",
   "execution_count": 21,
   "metadata": {},
   "outputs": [],
   "source": [
    "class Methods:\n",
    "    def imeth(self, x):                  # 常规实例方法：传入一个 self\n",
    "        print(self, x)\n",
    "        \n",
    "    def smeth(x):                        # 静态方法：没有实例传入\n",
    "        print(x)\n",
    "        \n",
    "    def cmeth(cls, x):                   # 类方法：传入类，而不是实例\n",
    "        print(cls, x)\n",
    "        \n",
    "    smeth = staticmethod(smeth)\n",
    "    cmeth = classmethod(cmeth)"
   ]
  },
  {
   "cell_type": "code",
   "execution_count": 22,
   "metadata": {},
   "outputs": [
    {
     "name": "stdout",
     "output_type": "stream",
     "text": [
      "<__main__.Methods object at 0x000001AA60911E48> 1\n"
     ]
    }
   ],
   "source": [
    "obj = Methods()\n",
    "obj.imeth(1)                # 通过实例调用，Python 会把实例自动传给第一个参数"
   ]
  },
  {
   "cell_type": "code",
   "execution_count": 23,
   "metadata": {},
   "outputs": [
    {
     "name": "stdout",
     "output_type": "stream",
     "text": [
      "<__main__.Methods object at 0x000001AA60911E48> 2\n"
     ]
    }
   ],
   "source": [
    "Methods.imeth(obj, 2)       # 类调用时，需要手动传入实例"
   ]
  },
  {
   "cell_type": "markdown",
   "metadata": {},
   "source": [
    "**静态方法**调用时不需要实例参数。"
   ]
  },
  {
   "cell_type": "code",
   "execution_count": 24,
   "metadata": {},
   "outputs": [
    {
     "name": "stdout",
     "output_type": "stream",
     "text": [
      "3\n"
     ]
    }
   ],
   "source": [
    "Methods.smeth(3)            # 静态方法，通过类调用，没有实例传入"
   ]
  },
  {
   "cell_type": "code",
   "execution_count": 25,
   "metadata": {},
   "outputs": [
    {
     "name": "stdout",
     "output_type": "stream",
     "text": [
      "4\n"
     ]
    }
   ],
   "source": [
    "obj.smeth(4)                # 静态方法，通过实例调用，实例没有传入"
   ]
  },
  {
   "cell_type": "markdown",
   "metadata": {},
   "source": [
    "**类方法**类似，但 Python 自动把类（而不是实例）传入类方法第一个参数中，不管它是通过一个类或一个实例调用："
   ]
  },
  {
   "cell_type": "code",
   "execution_count": 26,
   "metadata": {},
   "outputs": [
    {
     "name": "stdout",
     "output_type": "stream",
     "text": [
      "<class '__main__.Methods'> 5\n"
     ]
    }
   ],
   "source": [
    "Methods.cmeth(5)"
   ]
  },
  {
   "cell_type": "code",
   "execution_count": 27,
   "metadata": {},
   "outputs": [
    {
     "name": "stdout",
     "output_type": "stream",
     "text": [
      "<class '__main__.Methods'> 6\n"
     ]
    }
   ],
   "source": [
    "obj.cmeth(6)"
   ]
  },
  {
   "cell_type": "markdown",
   "metadata": {},
   "source": [
    "## 3.4 使用静态方法统计实例  "
   ]
  },
  {
   "cell_type": "code",
   "execution_count": 28,
   "metadata": {},
   "outputs": [],
   "source": [
    "class Spam:\n",
    "    numInstances = 0\n",
    "    def __init__(self):\n",
    "        Spam.numInstances += 1\n",
    "    def printNumInstances():\n",
    "        print(\"Number of instances: \", Spam.numInstances)\n",
    "    printNumInstances = staticmethod(printNumInstances)"
   ]
  },
  {
   "cell_type": "markdown",
   "metadata": {},
   "source": [
    "允许子类用继承定制静态方法："
   ]
  },
  {
   "cell_type": "code",
   "execution_count": 29,
   "metadata": {},
   "outputs": [],
   "source": [
    "class Sub(Spam):\n",
    "    def printNumInstances():\n",
    "        print(\"Extra stuff...\")\n",
    "        Spam.printNumInstances()\n",
    "    printNumInstances = staticmethod(printNumInstances)"
   ]
  },
  {
   "cell_type": "markdown",
   "metadata": {},
   "source": [
    "类也可以继承静态方法而不用重新定义它，它可以没有一个实例而运行，不管定义于类树的何处："
   ]
  },
  {
   "cell_type": "code",
   "execution_count": 30,
   "metadata": {},
   "outputs": [
    {
     "name": "stdout",
     "output_type": "stream",
     "text": [
      "Number of instances:  1\n"
     ]
    }
   ],
   "source": [
    "class Other(Spam):pass\n",
    "\n",
    "c = Other()\n",
    "c.printNumInstances()"
   ]
  },
  {
   "cell_type": "markdown",
   "metadata": {},
   "source": [
    "## 3.5 用类方法统计实例  "
   ]
  },
  {
   "cell_type": "code",
   "execution_count": 33,
   "metadata": {},
   "outputs": [],
   "source": [
    "class Spam:\n",
    "    numInstances = 0\n",
    "    def __init__(self):\n",
    "        Spam.numInstances += 1\n",
    "    def printNumInstances(cls):\n",
    "        print(\"Number of instances: \", cls.numInstances)\n",
    "    printNumInstances = classmethod(printNumInstances)"
   ]
  },
  {
   "cell_type": "markdown",
   "metadata": {},
   "source": [
    "通过类和实例调用 printNumInstances 方法时，它接受类而不是实例："
   ]
  },
  {
   "cell_type": "code",
   "execution_count": 34,
   "metadata": {},
   "outputs": [
    {
     "name": "stdout",
     "output_type": "stream",
     "text": [
      "Number of instances:  2\n"
     ]
    }
   ],
   "source": [
    "a, b = Spam(), Spam()\n",
    "a.printNumInstances()"
   ]
  },
  {
   "cell_type": "code",
   "execution_count": 35,
   "metadata": {},
   "outputs": [
    {
     "name": "stdout",
     "output_type": "stream",
     "text": [
      "Number of instances:  2\n"
     ]
    }
   ],
   "source": [
    "Spam.printNumInstances()"
   ]
  },
  {
   "cell_type": "markdown",
   "metadata": {},
   "source": [
    "当使用类方法的时候，它们接收调用的主体的最具体（底层）的类："
   ]
  },
  {
   "cell_type": "code",
   "execution_count": 36,
   "metadata": {},
   "outputs": [
    {
     "name": "stdout",
     "output_type": "stream",
     "text": [
      "Extra stuff... <class '__main__.Sub'>\n",
      "Number of instances:  3\n"
     ]
    }
   ],
   "source": [
    "class Sub(Spam):\n",
    "    def printNumInstances(cls):\n",
    "        print(\"Extra stuff...\", cls)\n",
    "        Spam.printNumInstances()\n",
    "    printNumInstances = classmethod(printNumInstances)\n",
    "\n",
    "x = Sub()\n",
    "x.printNumInstances()"
   ]
  },
  {
   "cell_type": "markdown",
   "metadata": {},
   "source": [
    "# 4. 装饰器和元类：第一部分  \n",
    "Python **装饰器**提供了一个通用工具，用于添加管理函数和类的逻辑，或者稍后对它们的调用。  \n",
    "更具体地说，这实际上只是在函数和类定义时使用显式语法运行额外处理步骤的一种方式。它有两种方式:\n",
    "- 函数装饰器——它们为简单函数和类的方法指定了特殊的运算模式，将函数和类封装在一个额外的逻辑层中作为另一个函数实现，通常称为 metafunction。\n",
    "- 类装饰器——直接绑定到类模式，它们添加了对整个对象及其接口的管理的支持。它们的用途经常与**元类**有所重叠。\n",
    "\n",
    "用户定义的函数装饰器通常写成类，把原始函数和其他数据当成状态信息。  \n",
    "\n",
    "## 4.1 函数装饰器基础  \n",
    "函数装饰器是它后边的函数的运行时的声明。函数装饰器是写成一行，就在定义函数或方法的 def 语句之前，而且由 @ 符号、后面跟着**元函数（metafunction，管理另一函数（或其他可调用对象）的函数）**组成。静态方法可以用下面的装饰器语法编写："
   ]
  },
  {
   "cell_type": "code",
   "execution_count": 1,
   "metadata": {},
   "outputs": [],
   "source": [
    "class C:\n",
    "    @staticmethod\n",
    "    def meth():\n",
    "        pass"
   ]
  },
  {
   "cell_type": "markdown",
   "metadata": {},
   "source": [
    "从内部来看，这个语法和下面的写法有相同的效果（把函数传递给装饰器，再赋值给最初的变量名）："
   ]
  },
  {
   "cell_type": "code",
   "execution_count": 2,
   "metadata": {},
   "outputs": [],
   "source": [
    "class C:\n",
    "    def meth():\n",
    "        pass\n",
    "    meth = staticmethod(meth)"
   ]
  },
  {
   "cell_type": "markdown",
   "metadata": {},
   "source": [
    "装饰器函数可返回原函数，或者新对象（保存传给装饰器的原始函数，这个函数将会在额外逻辑层执行后间接地运行）。  \n",
    "\n",
    "通过装饰器，可以编写前一节中的静态方法的一种更好的方法（classmethod、property 装饰器以同样的方法使用）："
   ]
  },
  {
   "cell_type": "code",
   "execution_count": 3,
   "metadata": {},
   "outputs": [
    {
     "name": "stdout",
     "output_type": "stream",
     "text": [
      "Number of instances created:  3\n",
      "Number of instances created:  3\n"
     ]
    }
   ],
   "source": [
    "class Spam:\n",
    "    numInstances = 0\n",
    "    def __init__(self):\n",
    "        Spam.numInstances += 1\n",
    "    \n",
    "    @staticmethod\n",
    "    def printNumInstances():\n",
    "        print(\"Number of instances created: \", Spam.numInstances)\n",
    "        \n",
    "a = Spam()\n",
    "b = Spam()\n",
    "c = Spam()\n",
    "Spam.printNumInstances()\n",
    "a.printNumInstances()"
   ]
  },
  {
   "cell_type": "markdown",
   "metadata": {},
   "source": [
    "## 4.2 用户定义函数装饰器  "
   ]
  },
  {
   "cell_type": "code",
   "execution_count": 7,
   "metadata": {},
   "outputs": [
    {
     "name": "stdout",
     "output_type": "stream",
     "text": [
      "call 1 to spam\n",
      "call 2 to spam\n",
      "call 3 to spam\n"
     ]
    },
    {
     "data": {
      "text/plain": [
       "15"
      ]
     },
     "execution_count": 7,
     "metadata": {},
     "output_type": "execute_result"
    }
   ],
   "source": [
    "class tracer:\n",
    "    def __init__(self, func):\n",
    "        self.calls = 0\n",
    "        self.func = func\n",
    "    def __call__(self, *args):\n",
    "        self.calls += 1\n",
    "        print('call %s to %s' % (self.calls, self.func.__name__))\n",
    "        return self.func(*args)\n",
    "    \n",
    "@tracer                           # 等同于 spam = tracer(spam)\n",
    "def spam(a, b, c):                # 将 spam 包装在一个装饰器对象中\n",
    "    return a + b + c\n",
    "        \n",
    "spam(1, 2, 3)                      # 调用 tracer 包装对象\n",
    "spam('a', 'b', 'c')\n",
    "spam(4, 5, 6)"
   ]
  },
  {
   "cell_type": "markdown",
   "metadata": {},
   "source": [
    "spam 函数是通过 tracer 装饰器执行的，所以当最初的变量名 spam 调用时，实际上触发的是类中的 `__call__` 方法。这个方法会计算和记录该次调用，然后委托给原始的包裹的函数。  \n",
    "\n",
    "结果就是新增一层逻辑至原始的 spam 函数。"
   ]
  },
  {
   "cell_type": "markdown",
   "metadata": {},
   "source": [
    "## 4.3 类装饰器和元类  \n",
    "**类装饰器**类似于函数装饰器，但是，它们在一条 class 语句的末尾运行，并且把一个类名重新绑定到一个可调用对象。它们可以用来管理类，或者当随后创建实例的时候插入一个包装逻辑层来管理实例："
   ]
  },
  {
   "cell_type": "code",
   "execution_count": 8,
   "metadata": {},
   "outputs": [],
   "source": [
    "def decorator(aClass):\n",
    "    pass\n",
    "\n",
    "@decorator\n",
    "class C:\n",
    "    pass"
   ]
  },
  {
   "cell_type": "markdown",
   "metadata": {},
   "source": [
    "被映射为下列代码："
   ]
  },
  {
   "cell_type": "code",
   "execution_count": 9,
   "metadata": {},
   "outputs": [],
   "source": [
    "def decorator(aClass):\n",
    "    pass\n",
    "\n",
    "class C:\n",
    "    pass\n",
    "C = decorator(C)"
   ]
  },
  {
   "cell_type": "markdown",
   "metadata": {},
   "source": [
    "类装饰器也可以扩展自身，或者返回一个拦截了随后的实例构建调用的对象。  \n",
    "\n",
    "**元类**提供了一种可选模式，会把一个类对象的创建导向到顶级 type 类的一个子类，在一条 class 语句的最后："
   ]
  },
  {
   "cell_type": "code",
   "execution_count": 10,
   "metadata": {},
   "outputs": [],
   "source": [
    "class Meta(type):\n",
    "    def __new__(meta, classname, supers, classdict):\n",
    "        pass\n",
    "\n",
    "class C(metaclass=Meta): pass"
   ]
  },
  {
   "cell_type": "markdown",
   "metadata": {},
   "source": [
    "元类通常重新定义 type 类的 `__new__` 或 `__init__` 方法，以实现对一个新的类对象的创建和初始化的控制。直接效果就像类装饰器一样，是定义在类创建时自动运行的代码。元类可以不需要是类，这种可能性模糊了该工具和装饰器之间的一些区别，甚至可能使这两者在许多角色中具有功能上的同等性。  \n",
    "\n",
    "类装饰器和元类，都可以自由地扩充类或返回任意对象来替换它——这是一种几乎无限的基于类的定制可能性的协议。元类还可以定义处理它们的实例类的方法，而不是它们的常规实例。"
   ]
  },
  {
   "cell_type": "markdown",
   "metadata": {},
   "source": [
    "# 5. super 内置函数  \n",
    "## 5.1 传统超类调用形式：便携、通用  \n",
    "在需要时通过显式地命名超类来调用超类方法，这种技术在 Python 中是传统的："
   ]
  },
  {
   "cell_type": "code",
   "execution_count": 1,
   "metadata": {},
   "outputs": [
    {
     "name": "stdout",
     "output_type": "stream",
     "text": [
      "spam\n",
      "eggs\n"
     ]
    }
   ],
   "source": [
    "class C:\n",
    "    def act(self):\n",
    "        print('spam')\n",
    "    \n",
    "class D(C):\n",
    "    def act(self):\n",
    "        C.act(self)               # 显式调用超类\n",
    "        print('eggs')\n",
    "        \n",
    "X = D()\n",
    "X.act()"
   ]
  },
  {
   "cell_type": "markdown",
   "metadata": {},
   "source": [
    "## 5.2 基本 super 用法 "
   ]
  },
  {
   "cell_type": "code",
   "execution_count": 4,
   "metadata": {},
   "outputs": [
    {
     "name": "stdout",
     "output_type": "stream",
     "text": [
      "spam\n",
      "eggs\n"
     ]
    }
   ],
   "source": [
    "class C:\n",
    "    def act(self):\n",
    "        print('spam')\n",
    "        \n",
    "class D(C):\n",
    "    def act(self):\n",
    "        super().act()               # 引用超类，省略 self \n",
    "        print('eggs')\n",
    "        \n",
    "X = D()\n",
    "X.act()"
   ]
  },
  {
   "cell_type": "markdown",
   "metadata": {},
   "source": [
    "如果使用多于一个父类，super 会变得容易出错，甚至无法使用，它不引发异常的多重继承树，但会只选择最左边的超类的方法运行，这可能是也可能不是一个你想要的。   \n",
    "\n",
    "除非你能够确保在软件的整个生命周期中不会在树中向类中添加第二个超类，否则你不能在单继承模式中使用 super。  "
   ]
  },
  {
   "cell_type": "markdown",
   "metadata": {},
   "source": [
    "## 5.3 super 的优点  \n",
    "- 在运行时更改类树\n",
    "- 协同多重继承方法调度\n",
    "\n",
    "**运行时更改类树**"
   ]
  },
  {
   "cell_type": "code",
   "execution_count": 5,
   "metadata": {},
   "outputs": [
    {
     "name": "stdout",
     "output_type": "stream",
     "text": [
      "X.m\n"
     ]
    }
   ],
   "source": [
    "class X:\n",
    "    def m(self): print('X.m')\n",
    "        \n",
    "class Y:\n",
    "    def m(self): print('Y.m')\n",
    "        \n",
    "class C(X):\n",
    "    def m(self): super().m()\n",
    "        \n",
    "i = C()\n",
    "i.m()"
   ]
  },
  {
   "cell_type": "code",
   "execution_count": 6,
   "metadata": {},
   "outputs": [
    {
     "name": "stdout",
     "output_type": "stream",
     "text": [
      "Y.m\n"
     ]
    }
   ],
   "source": [
    "C.__bases__ = (Y,)                      # 运行时改变超类\n",
    "i.m()"
   ]
  },
  {
   "cell_type": "markdown",
   "metadata": {},
   "source": [
    "**协作 super 调用**"
   ]
  },
  {
   "cell_type": "code",
   "execution_count": 8,
   "metadata": {},
   "outputs": [
    {
     "name": "stdout",
     "output_type": "stream",
     "text": [
      "B.__init__\n",
      "A.__init__\n"
     ]
    }
   ],
   "source": [
    "class A:\n",
    "    def __init__(self):\n",
    "        print('A.__init__')\n",
    "        \n",
    "class B(A):\n",
    "    def __init__(self):\n",
    "        print('B.__init__')\n",
    "        super().__init__()\n",
    "        \n",
    "class C(A):\n",
    "    def __init__(self):\n",
    "        print('C.__init__')\n",
    "        super().__init__()\n",
    "        \n",
    "class D(B, C): pass\n",
    "\n",
    "x = B()"
   ]
  },
  {
   "cell_type": "code",
   "execution_count": 9,
   "metadata": {},
   "outputs": [
    {
     "name": "stdout",
     "output_type": "stream",
     "text": [
      "B.__init__\n",
      "C.__init__\n",
      "A.__init__\n"
     ]
    }
   ],
   "source": [
    "x = D()"
   ]
  },
  {
   "cell_type": "markdown",
   "metadata": {},
   "source": [
    "super 并不完全适用于操作符重载或传统编码的多继承树。  \n",
    "\n",
    "使用 super 使程序的行为依赖于 MRO 算法，它对定制、耦合和灵活性的影响也是非常微妙的。如果你不完全理解这个算法(或者有它的应用程序没有实现的目标)，那么最好不要依赖它来隐式地触发代码中的操作。"
   ]
  },
  {
   "cell_type": "markdown",
   "metadata": {},
   "source": [
    "# 6. 类陷阱  \n",
    "## 6.1 修改类属性的副作用  \n",
    "在类主体中，对变量名的赋值语句会产生属性，在运行时存在于类的对象内，而且会由所有实例继承。在 class 语句外动态修改类属性时，也会修改每个对象从该类继承而来的这个属性。  \n",
    "\n",
    "## 6.2 修改可变的类属性也可能产生副作用  \n",
    "如果一个类属性引用一个可变对象，那么从任何实例在原处修改该对象都会立刻影响到所有实例。  \n",
    "\n",
    "## 6.3 多重继承：顺序很重要  \n",
    "Python 总是会根据超类在首行的顺序，从左至右搜索超类。  \n",
    "\n",
    "## 6.4 过度包装  \n",
    "如果类层次太深，程序就变得晦涩难懂。"
   ]
  },
  {
   "cell_type": "code",
   "execution_count": null,
   "metadata": {},
   "outputs": [],
   "source": []
  }
 ],
 "metadata": {
  "kernelspec": {
   "display_name": "Python 3",
   "language": "python",
   "name": "python3"
  },
  "language_info": {
   "codemirror_mode": {
    "name": "ipython",
    "version": 3
   },
   "file_extension": ".py",
   "mimetype": "text/x-python",
   "name": "python",
   "nbconvert_exporter": "python",
   "pygments_lexer": "ipython3",
   "version": "3.6.8"
  }
 },
 "nbformat": 4,
 "nbformat_minor": 2
}
