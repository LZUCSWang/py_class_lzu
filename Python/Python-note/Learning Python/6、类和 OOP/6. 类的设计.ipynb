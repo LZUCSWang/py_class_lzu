{
 "cells": [
  {
   "cell_type": "markdown",
   "metadata": {},
   "source": [
    "# 1. Python 和 OOP  \n",
    "Python 和 OOP 实现可以概括为三个概念：\n",
    "- **继承。**基于 Python 中的属性查找（在 X.name 表达式中）。\n",
    "- **多态。**在 X.method 方法中，method 的意义取决于 X 的类型（类）。\n",
    "- **封装。**方法和运算符实现行为，数据隐藏默认是一种惯例。\n",
    "\n",
    "# 2. OOP 和 继承：“Is-a” 关系  \n",
    "以制作比萨的机器人为例。“是一个”（is-a）关系：机器人是一个主厨，主厨是一个员工："
   ]
  },
  {
   "cell_type": "code",
   "execution_count": 1,
   "metadata": {},
   "outputs": [
    {
     "name": "stdout",
     "output_type": "stream",
     "text": [
      "<Employee: name=bob, salary=50000>\n",
      "bob makes pizza\n",
      "<Employee: name=bob, salary=60000.0>\n",
      "\n",
      "Employee: \n",
      "Employee does stuff\n",
      "Chef: \n",
      "Chef makes food\n",
      "Server: \n",
      "Server interfaces with customer\n",
      "PizzaRobot: \n",
      "PizzaRobot makes pizza\n"
     ]
    }
   ],
   "source": [
    "class Employee:\n",
    "    def __init__(self, name, salary=0):\n",
    "        self.name = name\n",
    "        self.salary = salary\n",
    "    def giveRaise(self, percent):\n",
    "        self.salary = self.salary + (self.salary * percent)\n",
    "    def work(self):\n",
    "        print(self.name, \"does stuff\")\n",
    "    def __repr__(self):\n",
    "        return \"<Employee: name=%s, salary=%s>\" % (self.name, self.salary)\n",
    "    \n",
    "class Chef(Employee):\n",
    "    def __init__(self, name):\n",
    "        Employee.__init__(self, name, 50000)\n",
    "    def work(self):\n",
    "        print(self.name, \"makes food\")\n",
    "        \n",
    "class Server(Employee):\n",
    "    def __init__(self, name):\n",
    "        Employee.__init__(self, name, 40000)\n",
    "    def work(self):\n",
    "        print(self.name, \"interfaces with customer\")\n",
    "        \n",
    "class PizzaRobot(Chef):\n",
    "    def __init__(self, name):\n",
    "        Chef.__init__(self, name)\n",
    "    def work(self):\n",
    "        print(self.name, \"makes pizza\")\n",
    "        \n",
    "if __name__ == \"__main__\":\n",
    "    bob = PizzaRobot('bob')\n",
    "    print(bob)\n",
    "    bob.work()\n",
    "    bob.giveRaise(0.2)\n",
    "    print(bob);print()\n",
    "    \n",
    "    for klass in Employee, Chef, Server, PizzaRobot:\n",
    "        print(klass.__name__ + \": \")\n",
    "        obj = klass(klass.__name__)\n",
    "        obj.work()"
   ]
  },
  {
   "cell_type": "markdown",
   "metadata": {},
   "source": [
    "# 3. OOP 和 组合：“Has-a” 关系  \n",
    "组合类一般都提供自己的接口，并通过内嵌的对象来实现接口。比萨店是一个组合对象，有烤炉，也有服务生和主厨。当顾客来店下单时，店里的组件就会开始行动："
   ]
  },
  {
   "cell_type": "code",
   "execution_count": 3,
   "metadata": {},
   "outputs": [
    {
     "name": "stdout",
     "output_type": "stream",
     "text": [
      "Homer orders from <Employee: name=Pat, salary=40000>\n",
      "Bob makes pizza\n",
      "oven bakes\n",
      "Homer pays for item to <Employee: name=Pat, salary=40000>\n",
      "...\n",
      "Shaggy orders from <Employee: name=Pat, salary=40000>\n",
      "Bob makes pizza\n",
      "oven bakes\n",
      "Shaggy pays for item to <Employee: name=Pat, salary=40000>\n"
     ]
    }
   ],
   "source": [
    "class Customer:\n",
    "    def __init__(self, name):\n",
    "        self.name = name\n",
    "    def order(self, server):\n",
    "        print(self.name, \"orders from\", server)\n",
    "    def pay(self, server):\n",
    "        print(self.name, \"pays for item to\", server)\n",
    "        \n",
    "class Oven:\n",
    "    def bake(self):\n",
    "        print(\"oven bakes\")\n",
    "        \n",
    "class PizzaShop:\n",
    "    def __init__(self):\n",
    "        self.server = Server('Pat')                   # 嵌入其他对象\n",
    "        self.chef = PizzaRobot('Bob')\n",
    "        self.oven = Oven()\n",
    "        \n",
    "    def order(self, name):\n",
    "        customer = Customer(name)                     # 激活其他对象\n",
    "        customer.order(self.server)\n",
    "        self.chef.work()\n",
    "        self.oven.bake()\n",
    "        customer.pay(self.server)\n",
    "        \n",
    "if __name__ == \"__main__\":\n",
    "    scene = PizzaShop()                               # 进行组合\n",
    "    scene.order('Homer')\n",
    "    print('...')\n",
    "    scene.order('Shaggy')\n",
    "    \n",
    "\"\"\"\n",
    "Homer orders from <Employee:\n",
    "\"\"\""
   ]
  },
  {
   "cell_type": "markdown",
   "metadata": {},
   "source": [
    "PizzaShop 类是容器和控制器，其构造函数会创建上一节所编写的员工类实例并将其嵌入。"
   ]
  },
  {
   "cell_type": "markdown",
   "metadata": {},
   "source": [
    "# 4. OOP 和委托：“包装”代理对象  \n",
    "委托通常就是指控制器对象内嵌其他对象，而把运算请求传给那些对象。控制器负责管理工作。在 Python 中，委托通常是以 `__getattr__` hook 方法实现的，因为这个方法会拦截对不存在属性的读取，“包装”类可以使用 `__getattr__` 把任意读取转发给被包装的对象。包装类包有被包装对象的接口，而且自己也可以增加其他运算。"
   ]
  },
  {
   "cell_type": "code",
   "execution_count": 4,
   "metadata": {},
   "outputs": [],
   "source": [
    "class Wrapper:\n",
    "    def __init__(self, object):\n",
    "        self.wrapped = object                        # 保存对象\n",
    "    def __getattr__(self, attrname):\n",
    "        print('Trace: ' + attrname)                  # 追踪获取\n",
    "        return getattr(self.wrapped, attrname)       # 代理获取"
   ]
  },
  {
   "cell_type": "markdown",
   "metadata": {},
   "source": [
    "`__getattr__` 会获得属性名称字符串，利用 getattr 内置函数，以变量名字符串从包裹对象取出属性：getattr(X, N) 就像是 X.N，只不过 N 是表达式，可在运行时计算出字符串，而不是变量。"
   ]
  },
  {
   "cell_type": "code",
   "execution_count": 5,
   "metadata": {},
   "outputs": [
    {
     "name": "stdout",
     "output_type": "stream",
     "text": [
      "Trace: append\n"
     ]
    }
   ],
   "source": [
    "x = Wrapper([1, 2, 3])             # 包装一个列表\n",
    "x.append(4)                        # 委托一个列表方法"
   ]
  },
  {
   "cell_type": "code",
   "execution_count": 6,
   "metadata": {},
   "outputs": [
    {
     "data": {
      "text/plain": [
       "[1, 2, 3, 4]"
      ]
     },
     "execution_count": 6,
     "metadata": {},
     "output_type": "execute_result"
    }
   ],
   "source": [
    "x.wrapped"
   ]
  },
  {
   "cell_type": "code",
   "execution_count": 7,
   "metadata": {},
   "outputs": [
    {
     "name": "stdout",
     "output_type": "stream",
     "text": [
      "Trace: keys\n"
     ]
    },
    {
     "data": {
      "text/plain": [
       "['a', 'b']"
      ]
     },
     "execution_count": 7,
     "metadata": {},
     "output_type": "execute_result"
    }
   ],
   "source": [
    "x = Wrapper({'a': 1, 'b': 2})\n",
    "list(x.keys())"
   ]
  },
  {
   "cell_type": "markdown",
   "metadata": {},
   "source": [
    "在这里 wrapper 类只是在每个属性读取时打印跟踪消息，并把属性请求委托给嵌入的 wrapped 对象。"
   ]
  },
  {
   "cell_type": "markdown",
   "metadata": {},
   "source": [
    "# 5. 类的伪私有属性  \n",
    "Python 支持变量名压缩（mangling）的概念，让类内某些变量局部化。压缩后的变量名有时会被误认为是“私有属性”，但这只是一种把类所创建的变量名**局部化**的方式而已。这种功能主要是为了避免实例内的命名空间的冲突，而不是限制变量名的读取。  \n",
    "\n",
    "Python 程序员用一个单个的下划线来编写内部名称，这只是一个非正式的惯例。  \n",
    "\n",
    "## 5.1 变量名压缩概览  \n",
    "class 语句内开头有两个下划线，但结尾没有两个下划线的变量名，会自动扩张，从而包含了所在类的名称。例如，Spam 类内 `__X` 这样的变量名会自动变成 `_Spam__X`：原始的变量名会在头部加入一个下划线，然后是所在类名称。因为修改后的变量名包含了所在类的名称，不会和同一层次中其他类所创建的类似变量名相冲突。  \n",
    "\n",
    "变量名压缩只发生在 class 语句内，而且只针对开头有两个下划线的变量名。  \n",
    "\n",
    "## 5.2 为什么使用伪私有属性  \n",
    "伪私有属性功能是为了缓和与实例属性储存方式有关的问题。在 Python 的类方法内，每当方法赋值 self 的属性时（例如，self.attr = value），就会在该实例内修改或创建该属性（继承搜索只发生在引用时，而不是赋值时）。如果在这个层次中有多个类赋值相同的属性，有可能发生冲突。"
   ]
  },
  {
   "cell_type": "code",
   "execution_count": 8,
   "metadata": {},
   "outputs": [],
   "source": [
    "class C1:\n",
    "    def meth1(self): self.X = 88\n",
    "    def meth2(self): print(self.X)\n",
    "        \n",
    "class C2:\n",
    "    def metha(self): self.X = 99\n",
    "    def methb(self): print(self.X)"
   ]
  },
  {
   "cell_type": "markdown",
   "metadata": {},
   "source": [
    "如果这两个类混合在相同类树中，问题就产生了。"
   ]
  },
  {
   "cell_type": "code",
   "execution_count": 9,
   "metadata": {},
   "outputs": [],
   "source": [
    "class C3(C1, C2):\n",
    "    pass\n",
    "\n",
    "I = C3()"
   ]
  },
  {
   "cell_type": "code",
   "execution_count": 19,
   "metadata": {},
   "outputs": [
    {
     "name": "stdout",
     "output_type": "stream",
     "text": [
      "88\n"
     ]
    }
   ],
   "source": [
    "I.meth1()\n",
    "I.meth2()"
   ]
  },
  {
   "cell_type": "code",
   "execution_count": 20,
   "metadata": {},
   "outputs": [
    {
     "name": "stdout",
     "output_type": "stream",
     "text": [
      "99\n"
     ]
    }
   ],
   "source": [
    "I.metha()\n",
    "I.methb()"
   ]
  },
  {
   "cell_type": "markdown",
   "metadata": {},
   "source": [
    "self.X 所得到的值取决于**最后一个赋值**是哪个类。所有对 self.X 的赋值语句都是引用一个相同实例，而 X 属性只有一个（I.X），无论有多少类使用了这个属性名。  \n",
    "\n",
    "为了保证属性会属于使用它的类，可在类中任何地方使用，将变量名前加上两个下划线："
   ]
  },
  {
   "cell_type": "code",
   "execution_count": 1,
   "metadata": {},
   "outputs": [
    {
     "name": "stdout",
     "output_type": "stream",
     "text": [
      "{'_C1__X': 88, '_C2__X': 99}\n",
      "88\n",
      "99\n"
     ]
    }
   ],
   "source": [
    "class C1:\n",
    "    def meth1(self): self.__X = 88\n",
    "    def meth2(self): print(self.__X)          # 变成 _C1__X\n",
    "class C2:\n",
    "    def metha(self): self.__X = 99\n",
    "    def methb(self): print(self.__X)          # 变成 _C2__X\n",
    "    \n",
    "class C3(C1, C2): pass\n",
    "I = C3()\n",
    "\n",
    "I.meth1(); I.metha()\n",
    "print(I.__dict__)\n",
    "I.meth2(); I.methb()"
   ]
  },
  {
   "cell_type": "code",
   "execution_count": 3,
   "metadata": {},
   "outputs": [
    {
     "data": {
      "text/plain": [
       "(None, None)"
      ]
     },
     "execution_count": 3,
     "metadata": {},
     "output_type": "execute_result"
    }
   ],
   "source": [
    "I.meth1(),I.metha()\n"
   ]
  },
  {
   "cell_type": "markdown",
   "metadata": {},
   "source": [
    "在属性赋值后查看命名空间字典，就会看见扩张后的变量名不是 X。  \n",
    "\n",
    "这个技巧可避免实例中潜在的变量名冲突，但并不是真正的私有。如果知道所在类的名称，依然可以使用扩张后的变量名（`I._C__X = 77`），在能够引用实例的地方，读取这些属性。  \n",
    "\n",
    "伪私有属性在较大的框架或工具中，既可以避免引入可能在类树中某处偶然隐藏定义的新的方法，也可以减少内部方法被在树的较低处定义的名称替代的机会。  "
   ]
  },
  {
   "cell_type": "markdown",
   "metadata": {},
   "source": [
    "# 6. 方法是对象：绑定或无绑定  \n",
    "类方法可以从一个实例或一个类访问，它们实际上在 Python 中有两种形式：\n",
    "- **无绑定类方法对象：无 self。** 通过对类进行点号运算从而获取类的函数属性，会传回无绑定方法对象。调用该方法时，必须明确提供实例对象作为第一个参数。一个无绑定方法和一个简单的函数是相同的，可以通过类名来调用。\n",
    "- **绑定实例方法对象：self + 函数对。** 通过对实例进行全运算从而获取类的函数属性，会传回绑定方法对象。Python 在绑定方法对象中自动把实例和函数打包，所以不用传递实例去调用该方法。"
   ]
  },
  {
   "cell_type": "code",
   "execution_count": 1,
   "metadata": {},
   "outputs": [
    {
     "name": "stdout",
     "output_type": "stream",
     "text": [
      "hello world\n"
     ]
    }
   ],
   "source": [
    "class Spam:\n",
    "    def doit(self, message):\n",
    "        print(message)\n",
    "        \n",
    "object1 = Spam()\n",
    "object1.doit('hello world')"
   ]
  },
  {
   "cell_type": "markdown",
   "metadata": {},
   "source": [
    "绑定方法对象是在过程中产生的，就在方法调用的括号前。我们可以获取绑定方法，而不用实际进行调用。object.name 点号结合运算是一个对象表达式。"
   ]
  },
  {
   "cell_type": "code",
   "execution_count": 2,
   "metadata": {},
   "outputs": [
    {
     "name": "stdout",
     "output_type": "stream",
     "text": [
      "hello world\n"
     ]
    }
   ],
   "source": [
    "# 传回绑定方法对象，把实例 object1 和方法函数 Spam.doit 打包起来\n",
    "# 可以把这个绑定方法赋值给另一个变量名，然后像简单函数那样进行调用\n",
    "\n",
    "object1 = Spam()\n",
    "x = object1.doit          # 绑定方法对象：实例 + 函数\n",
    "x('hello world')"
   ]
  },
  {
   "cell_type": "markdown",
   "metadata": {},
   "source": [
    "如果对类进行点号运算来获得 doit，就会得到**无绑定**方法对象，也就是函数对象的引用值。要调用这类方法时，必须传入实例作为最左侧参数："
   ]
  },
  {
   "cell_type": "code",
   "execution_count": 4,
   "metadata": {},
   "outputs": [
    {
     "name": "stdout",
     "output_type": "stream",
     "text": [
      "howby\n"
     ]
    }
   ],
   "source": [
    "object1 = Spam()\n",
    "t = Spam.doit             # 非绑定方法对象\n",
    "t(object1, 'howby')"
   ]
  },
  {
   "cell_type": "markdown",
   "metadata": {},
   "source": [
    "## 6.1 在 Python 3.X 中，无绑定方法是函数  \n",
    "在 Python 3.X 中，已经删除了**无绑定方法**的概念。  \n",
    "\n",
    "在 Python 3.X 中，不使用一个实例而调用一个方法没有问题，只要这个方法不期待一个实例，并且通过类调用它而不是通过一个实例调用它。只有对通过实例调用，Python 3.X 才会向方法传递一个实例。当通过一个类调用时，只有在方法期待一个实例的时候，才必须手动传递一个实例："
   ]
  },
  {
   "cell_type": "code",
   "execution_count": 5,
   "metadata": {},
   "outputs": [
    {
     "data": {
      "text/plain": [
       "9"
      ]
     },
     "execution_count": 5,
     "metadata": {},
     "output_type": "execute_result"
    }
   ],
   "source": [
    "class Selfless:\n",
    "    def __init__(self, data):\n",
    "        self.data = data\n",
    "    def selfless(arg1, arg2):                # 一个简单函数\n",
    "        return arg1 + arg2\n",
    "    def normal(self, arg1, arg2):            # 调用时期待一个实例\n",
    "        return self.data + arg1 +arg2\n",
    "    \n",
    "X = Selfless(2)\n",
    "X.normal(3, 4)                               # 自动传递实例给 self"
   ]
  },
  {
   "cell_type": "code",
   "execution_count": 6,
   "metadata": {},
   "outputs": [
    {
     "data": {
      "text/plain": [
       "9"
      ]
     },
     "execution_count": 6,
     "metadata": {},
     "output_type": "execute_result"
    }
   ],
   "source": [
    "Selfless.normal(X, 3, 4)                     # 方法期待一个 self：手动传递"
   ]
  },
  {
   "cell_type": "code",
   "execution_count": 7,
   "metadata": {},
   "outputs": [
    {
     "data": {
      "text/plain": [
       "7"
      ]
     },
     "execution_count": 7,
     "metadata": {},
     "output_type": "execute_result"
    }
   ],
   "source": [
    "Selfless.selfless(3, 4)                      # 无实例"
   ]
  },
  {
   "cell_type": "code",
   "execution_count": 8,
   "metadata": {},
   "outputs": [
    {
     "ename": "TypeError",
     "evalue": "selfless() takes 2 positional arguments but 3 were given",
     "output_type": "error",
     "traceback": [
      "\u001b[1;31m---------------------------------------------------------------------------\u001b[0m",
      "\u001b[1;31mTypeError\u001b[0m                                 Traceback (most recent call last)",
      "\u001b[1;32m<ipython-input-8-abf884cf093e>\u001b[0m in \u001b[0;36m<module>\u001b[1;34m()\u001b[0m\n\u001b[1;32m----> 1\u001b[1;33m \u001b[0mX\u001b[0m\u001b[1;33m.\u001b[0m\u001b[0mselfless\u001b[0m\u001b[1;33m(\u001b[0m\u001b[1;36m3\u001b[0m\u001b[1;33m,\u001b[0m \u001b[1;36m4\u001b[0m\u001b[1;33m)\u001b[0m\u001b[1;33m\u001b[0m\u001b[0m\n\u001b[0m",
      "\u001b[1;31mTypeError\u001b[0m: selfless() takes 2 positional arguments but 3 were given"
     ]
    }
   ],
   "source": [
    "X.selfless(3, 4)                             # 通过实例调用，自动把一个实例传递给一个并不期待实例的方法"
   ]
  },
  {
   "cell_type": "code",
   "execution_count": 9,
   "metadata": {},
   "outputs": [
    {
     "ename": "TypeError",
     "evalue": "normal() missing 1 required positional argument: 'arg2'",
     "output_type": "error",
     "traceback": [
      "\u001b[1;31m---------------------------------------------------------------------------\u001b[0m",
      "\u001b[1;31mTypeError\u001b[0m                                 Traceback (most recent call last)",
      "\u001b[1;32m<ipython-input-9-7f4067e03b4b>\u001b[0m in \u001b[0;36m<module>\u001b[1;34m()\u001b[0m\n\u001b[1;32m----> 1\u001b[1;33m \u001b[0mSelfless\u001b[0m\u001b[1;33m.\u001b[0m\u001b[0mnormal\u001b[0m\u001b[1;33m(\u001b[0m\u001b[1;36m3\u001b[0m\u001b[1;33m,\u001b[0m \u001b[1;36m4\u001b[0m\u001b[1;33m)\u001b[0m\u001b[1;33m\u001b[0m\u001b[0m\n\u001b[0m",
      "\u001b[1;31mTypeError\u001b[0m: normal() missing 1 required positional argument: 'arg2'"
     ]
    }
   ],
   "source": [
    "Selfless.normal(3, 4)                        # 通过类调用，不会把一个实例传递给期待一个实例的方法"
   ]
  },
  {
   "cell_type": "markdown",
   "metadata": {},
   "source": [
    "## 6.2 绑定方法和其他可调用对象  \n",
    "绑定方法可以作为一个通用对象处理，可以任意地在一个程序中传递："
   ]
  },
  {
   "cell_type": "code",
   "execution_count": 10,
   "metadata": {},
   "outputs": [
    {
     "data": {
      "text/plain": [
       "4"
      ]
     },
     "execution_count": 10,
     "metadata": {},
     "output_type": "execute_result"
    }
   ],
   "source": [
    "class Number:\n",
    "    def __init__(self, base):\n",
    "        self.base = base\n",
    "    def double(self):\n",
    "        return self.base * 2\n",
    "    def triple(self):\n",
    "        return self.base * 3\n",
    "    \n",
    "x = Number(2)\n",
    "y = Number(3)\n",
    "z = Number(4)\n",
    "x.double()"
   ]
  },
  {
   "cell_type": "code",
   "execution_count": 11,
   "metadata": {},
   "outputs": [
    {
     "name": "stdout",
     "output_type": "stream",
     "text": [
      "4\n",
      "6\n",
      "9\n",
      "8\n"
     ]
    }
   ],
   "source": [
    "acts = [x.double, y.double, y.triple, z.double]\n",
    "for act in acts:\n",
    "    print(act())"
   ]
  },
  {
   "cell_type": "markdown",
   "metadata": {},
   "source": [
    "绑定方法对象拥有自己的内省信息，包括让它们配对的实例对象和方法函数访问的属性："
   ]
  },
  {
   "cell_type": "code",
   "execution_count": 12,
   "metadata": {},
   "outputs": [
    {
     "data": {
      "text/plain": [
       "(<__main__.Number at 0x1939dffab00>, <function __main__.Number.double(self)>)"
      ]
     },
     "execution_count": 12,
     "metadata": {},
     "output_type": "execute_result"
    }
   ],
   "source": [
    "bound = x.double\n",
    "bound.__self__, bound.__func__"
   ]
  },
  {
   "cell_type": "code",
   "execution_count": 13,
   "metadata": {},
   "outputs": [
    {
     "data": {
      "text/plain": [
       "2"
      ]
     },
     "execution_count": 13,
     "metadata": {},
     "output_type": "execute_result"
    }
   ],
   "source": [
    "bound.__self__.base"
   ]
  },
  {
   "cell_type": "code",
   "execution_count": 14,
   "metadata": {},
   "outputs": [
    {
     "data": {
      "text/plain": [
       "4"
      ]
     },
     "execution_count": 14,
     "metadata": {},
     "output_type": "execute_result"
    }
   ],
   "source": [
    "bound()"
   ]
  },
  {
   "cell_type": "markdown",
   "metadata": {},
   "source": [
    "# 7. 类是对象：通用对象工厂  \n",
    "有时候，基于类的设计要求要创建的对象来响应条件，而这些条件是在编写程序的时候无法预料的。工厂设计模式允许这样的一种延迟方法。\n",
    "\n",
    "可以将类传递给函数，这种函数在 OOP 设计中有时称为工厂。"
   ]
  },
  {
   "cell_type": "code",
   "execution_count": 4,
   "metadata": {},
   "outputs": [],
   "source": [
    "def factory(aClass, *pargs, **kargs):\n",
    "    return aClass(*pargs, **kargs)\n",
    "\n",
    "class Spam:\n",
    "    def doit(self, message):\n",
    "        print(message)\n",
    "        \n",
    "class Person:\n",
    "    def __init__(self, name, job=None):\n",
    "        self.name = name\n",
    "        self.job = job\n",
    "        \n",
    "object1 = factory(Spam)\n",
    "object2 = factory(Person, 'Arthur', 'King')\n",
    "object3 = factory(Person, name='Brain')"
   ]
  },
  {
   "cell_type": "markdown",
   "metadata": {},
   "source": [
    "定义了一个对象生成函数 factory，期待传入一个类对象和多个参数。函数使用特殊的“varargs”调用语法调用函数并返回一个实例。  \n",
    "\n",
    "这是唯一一个需要在 Python 中编写的工厂函数，它对任意类和任意构建参数都有效。"
   ]
  },
  {
   "cell_type": "code",
   "execution_count": 16,
   "metadata": {},
   "outputs": [
    {
     "name": "stdout",
     "output_type": "stream",
     "text": [
      "99\n"
     ]
    }
   ],
   "source": [
    "object1.doit(99)"
   ]
  },
  {
   "cell_type": "code",
   "execution_count": 17,
   "metadata": {},
   "outputs": [
    {
     "data": {
      "text/plain": [
       "('Arthur', 'King')"
      ]
     },
     "execution_count": 17,
     "metadata": {},
     "output_type": "execute_result"
    }
   ],
   "source": [
    "object2.name, object2.job"
   ]
  },
  {
   "cell_type": "code",
   "execution_count": 18,
   "metadata": {},
   "outputs": [
    {
     "data": {
      "text/plain": [
       "('Brain', None)"
      ]
     },
     "execution_count": 18,
     "metadata": {},
     "output_type": "execute_result"
    }
   ],
   "source": [
    "object3.name, object3.job"
   ]
  },
  {
   "cell_type": "markdown",
   "metadata": {},
   "source": [
    "## 7.1 为什么使用工厂函数？  \n",
    "通常来说，工厂函数可以使代码和动态配置对象构建的细节隔离开来。  \n",
    "\n",
    "在动态世界，我们可能不能硬编码流接口对象，而是根据配置文件的内容在运行时创建。  "
   ]
  },
  {
   "cell_type": "markdown",
   "metadata": {},
   "source": [
    "# 8. 多重继承：“混合”类  \n",
    "在 class 语句中，首行括号内可以列出一个以上的超类。当这么做时，就是在使用所谓的**多重继承**。  \n",
    "\n",
    "搜索属性时，Python 会由左至右搜索类首行中的超类，直到找到相符者。  \n",
    "\n",
    "当多个超类中有相同方法名时，会产生冲突，默认的继承通过 self.method() 会选择第一个出现的属性；也可以显式选择一个属性，通过引用类名 superclass.method(self)。  \n",
    "\n",
    "## 8.1 编写混合显示类  \n",
    "运算符重载中可以提供一个 `__str__` 或 `__repr__` 方法，以实现制定后的字符串表达形式。如果不在每个想打印的类中编写 `__repr__`，可以在一个通用工具类中编写一次，然后在所有的类中继承。  \n",
    "\n",
    "**用 `__dict__` 列出实例属性**"
   ]
  },
  {
   "cell_type": "code",
   "execution_count": 5,
   "metadata": {},
   "outputs": [],
   "source": [
    "# lister.py\n",
    "class ListInstance:\n",
    "    \"\"\"\n",
    "    Mix-in class that provides a formatted print() or str() of instances via\n",
    "    inheritance of __str__ coded here; displays instance attrs only; self is\n",
    "    instance of lowest class; __X names avoid clashing with client's attrs\n",
    "    \"\"\"\n",
    "    def __attrnames(self):\n",
    "        result = ''\n",
    "        for attr in sorted(self.__dict__):\n",
    "            result += '\\t%s=%s\\n' %(attr, self.__dict__[attr])\n",
    "        return result\n",
    "    \n",
    "    def __str__(self):\n",
    "        return '<Instance of %s, address %s:\\n%s>' % (\n",
    "                    self.__class__.__name__,\n",
    "                    id(self),                        # id 内置函数显示实例的内存地址\n",
    "                    self.__attrnames())"
   ]
  },
  {
   "cell_type": "markdown",
   "metadata": {},
   "source": [
    "可以在仍然继承已有超类的同时自由地获得 `__str__`。"
   ]
  },
  {
   "cell_type": "code",
   "execution_count": 6,
   "metadata": {},
   "outputs": [
    {
     "ename": "ModuleNotFoundError",
     "evalue": "No module named 'listinstance'",
     "output_type": "error",
     "traceback": [
      "\u001b[1;31m---------------------------------------------------------------------------\u001b[0m",
      "\u001b[1;31mModuleNotFoundError\u001b[0m                       Traceback (most recent call last)",
      "\u001b[1;32md:\\BOOKS\\Python\\Python-note\\Learning Python\\6、类和 OOP\\6. 类的设计.ipynb 单元格 52\u001b[0m line \u001b[0;36m3\n\u001b[0;32m     <a href='vscode-notebook-cell:/d%3A/BOOKS/Python/Python-note/Learning%20Python/6%E3%80%81%E7%B1%BB%E5%92%8C%20OOP/6.%20%E7%B1%BB%E7%9A%84%E8%AE%BE%E8%AE%A1.ipynb#Y101sZmlsZQ%3D%3D?line=28'>29</a>\u001b[0m     tester(listerclass, sept)\n\u001b[0;32m     <a href='vscode-notebook-cell:/d%3A/BOOKS/Python/Python-note/Learning%20Python/6%E3%80%81%E7%B1%BB%E5%92%8C%20OOP/6.%20%E7%B1%BB%E7%9A%84%E8%AE%BE%E8%AE%A1.ipynb#Y101sZmlsZQ%3D%3D?line=30'>31</a>\u001b[0m \u001b[39mif\u001b[39;00m \u001b[39m__name__\u001b[39m \u001b[39m==\u001b[39m \u001b[39m'\u001b[39m\u001b[39m__main__\u001b[39m\u001b[39m'\u001b[39m:\n\u001b[1;32m---> <a href='vscode-notebook-cell:/d%3A/BOOKS/Python/Python-note/Learning%20Python/6%E3%80%81%E7%B1%BB%E5%92%8C%20OOP/6.%20%E7%B1%BB%E7%9A%84%E8%AE%BE%E8%AE%A1.ipynb#Y101sZmlsZQ%3D%3D?line=31'>32</a>\u001b[0m     testByNames(\u001b[39m'\u001b[39;49m\u001b[39mlistinstance\u001b[39;49m\u001b[39m'\u001b[39;49m, \u001b[39m'\u001b[39;49m\u001b[39mListInstance\u001b[39;49m\u001b[39m'\u001b[39;49m, \u001b[39mTrue\u001b[39;49;00m)\n\u001b[0;32m     <a href='vscode-notebook-cell:/d%3A/BOOKS/Python/Python-note/Learning%20Python/6%E3%80%81%E7%B1%BB%E5%92%8C%20OOP/6.%20%E7%B1%BB%E7%9A%84%E8%AE%BE%E8%AE%A1.ipynb#Y101sZmlsZQ%3D%3D?line=32'>33</a>\u001b[0m     testByNames(\u001b[39m'\u001b[39m\u001b[39mlistinherited\u001b[39m\u001b[39m'\u001b[39m, \u001b[39m'\u001b[39m\u001b[39mListInherited\u001b[39m\u001b[39m'\u001b[39m, \u001b[39mTrue\u001b[39;00m)\n\u001b[0;32m     <a href='vscode-notebook-cell:/d%3A/BOOKS/Python/Python-note/Learning%20Python/6%E3%80%81%E7%B1%BB%E5%92%8C%20OOP/6.%20%E7%B1%BB%E7%9A%84%E8%AE%BE%E8%AE%A1.ipynb#Y101sZmlsZQ%3D%3D?line=33'>34</a>\u001b[0m     testByNames(\u001b[39m'\u001b[39m\u001b[39mlisttree\u001b[39m\u001b[39m'\u001b[39m, \u001b[39m'\u001b[39m\u001b[39mListTree\u001b[39m\u001b[39m'\u001b[39m, \u001b[39mFalse\u001b[39;00m)\n",
      "\u001b[1;32md:\\BOOKS\\Python\\Python-note\\Learning Python\\6、类和 OOP\\6. 类的设计.ipynb 单元格 52\u001b[0m line \u001b[0;36m2\n\u001b[0;32m     <a href='vscode-notebook-cell:/d%3A/BOOKS/Python/Python-note/Learning%20Python/6%E3%80%81%E7%B1%BB%E5%92%8C%20OOP/6.%20%E7%B1%BB%E7%9A%84%E8%AE%BE%E8%AE%A1.ipynb#Y101sZmlsZQ%3D%3D?line=25'>26</a>\u001b[0m \u001b[39mdef\u001b[39;00m \u001b[39mtestByNames\u001b[39m(modname, classname, sept\u001b[39m=\u001b[39m\u001b[39mFalse\u001b[39;00m):\n\u001b[1;32m---> <a href='vscode-notebook-cell:/d%3A/BOOKS/Python/Python-note/Learning%20Python/6%E3%80%81%E7%B1%BB%E5%92%8C%20OOP/6.%20%E7%B1%BB%E7%9A%84%E8%AE%BE%E8%AE%A1.ipynb#Y101sZmlsZQ%3D%3D?line=26'>27</a>\u001b[0m     modobject \u001b[39m=\u001b[39m importlib\u001b[39m.\u001b[39;49mimport_module(modname)\n\u001b[0;32m     <a href='vscode-notebook-cell:/d%3A/BOOKS/Python/Python-note/Learning%20Python/6%E3%80%81%E7%B1%BB%E5%92%8C%20OOP/6.%20%E7%B1%BB%E7%9A%84%E8%AE%BE%E8%AE%A1.ipynb#Y101sZmlsZQ%3D%3D?line=27'>28</a>\u001b[0m     listerclass \u001b[39m=\u001b[39m \u001b[39mgetattr\u001b[39m(modobject, classname)\n\u001b[0;32m     <a href='vscode-notebook-cell:/d%3A/BOOKS/Python/Python-note/Learning%20Python/6%E3%80%81%E7%B1%BB%E5%92%8C%20OOP/6.%20%E7%B1%BB%E7%9A%84%E8%AE%BE%E8%AE%A1.ipynb#Y101sZmlsZQ%3D%3D?line=28'>29</a>\u001b[0m     tester(listerclass, sept)\n",
      "File \u001b[1;32mc:\\Users\\wxy43\\AppData\\Local\\Programs\\Python\\Python310\\lib\\importlib\\__init__.py:126\u001b[0m, in \u001b[0;36mimport_module\u001b[1;34m(name, package)\u001b[0m\n\u001b[0;32m    124\u001b[0m             \u001b[39mbreak\u001b[39;00m\n\u001b[0;32m    125\u001b[0m         level \u001b[39m+\u001b[39m\u001b[39m=\u001b[39m \u001b[39m1\u001b[39m\n\u001b[1;32m--> 126\u001b[0m \u001b[39mreturn\u001b[39;00m _bootstrap\u001b[39m.\u001b[39;49m_gcd_import(name[level:], package, level)\n",
      "File \u001b[1;32m<frozen importlib._bootstrap>:1050\u001b[0m, in \u001b[0;36m_gcd_import\u001b[1;34m(name, package, level)\u001b[0m\n",
      "File \u001b[1;32m<frozen importlib._bootstrap>:1027\u001b[0m, in \u001b[0;36m_find_and_load\u001b[1;34m(name, import_)\u001b[0m\n",
      "File \u001b[1;32m<frozen importlib._bootstrap>:1004\u001b[0m, in \u001b[0;36m_find_and_load_unlocked\u001b[1;34m(name, import_)\u001b[0m\n",
      "\u001b[1;31mModuleNotFoundError\u001b[0m: No module named 'listinstance'"
     ]
    }
   ],
   "source": [
    "# testmixin.py\n",
    "# 通用自测试代码\n",
    "\n",
    "import importlib\n",
    "\n",
    "def tester(listerclass, sept=False):\n",
    "    \n",
    "    class Super:\n",
    "        def __init__(self):\n",
    "            self.data1 = 'Spam'\n",
    "            def ham(self):\n",
    "                pass\n",
    "        \n",
    "    class Sub(Super, ListInstance):\n",
    "        def __init__(self):\n",
    "            Super.__init__(self)\n",
    "            self.data2 = 'eggs'\n",
    "            self.data3 = 42\n",
    "        def spam(self):\n",
    "            pass\n",
    "    \n",
    "    instance = Sub()\n",
    "    print(instance)\n",
    "    if sept: print('-' * 80)\n",
    "\n",
    "def testByNames(modname, classname, sept=False):\n",
    "    modobject = importlib.import_module(modname)\n",
    "    listerclass = getattr(modobject, classname)\n",
    "    tester(listerclass, sept)\n",
    "\n",
    "if __name__ == '__main__':\n",
    "    testByNames('listinstance', 'ListInstance', True)\n",
    "    testByNames('listinherited', 'ListInherited', True)\n",
    "    testByNames('listtree', 'ListTree', False)"
   ]
  },
  {
   "cell_type": "markdown",
   "metadata": {},
   "source": [
    "**使用 dir 列出继承的属性**  "
   ]
  },
  {
   "cell_type": "code",
   "execution_count": 9,
   "metadata": {},
   "outputs": [],
   "source": [
    "# lister.py\n",
    "\n",
    "class ListInherited:\n",
    "    \"\"\"\n",
    "    Use dir() to collect both instance attrs and names inherited from \n",
    "    its classes; Python 3.X shows more names than 2.X because of the \n",
    "    implied object superclass in the new-style class model; getattr()\n",
    "    fetches inherited names not in self.__dict__; use __str__, not \n",
    "    __repr__, or else this loops when printing bound methods!\n",
    "    \"\"\"\n",
    "    def __attrnames(self):\n",
    "        result = ''\n",
    "        for attr in dir(self):\n",
    "            if attr[:2] == '__' and attr[-2:] == '__':          # 跳过内部名称\n",
    "                result += '\\t%s\\n' % attr\n",
    "            else:\n",
    "                result += '\\t%s=%s\\n' % (attr, getattr(self, attr))\n",
    "        return result\n",
    "    \n",
    "    def __str__(self):\n",
    "        return '<Instance of %s, address %s:\\n%s>' % (\n",
    "            self.__class__.__name__,\n",
    "            id(self),\n",
    "            self.__attrnames())"
   ]
  },
  {
   "cell_type": "markdown",
   "metadata": {},
   "source": [
    "**列出类树中每个对象的属性**  "
   ]
  },
  {
   "cell_type": "code",
   "execution_count": 10,
   "metadata": {},
   "outputs": [],
   "source": [
    "# listtree.py \n",
    "\n",
    "class ListTree:\n",
    "    \"\"\"\n",
    "    Mix-in that returns an __str__ trace of the entire class tree and all\n",
    "    its objects' attrs at and above self; run by print(), str() returns\n",
    "    constructed string; uses __X attr names to avoid impacting clients;\n",
    "    recurses to superclasses explicitly, uses str.format() for clarity;\n",
    "    \"\"\"\n",
    "    def __attrnames(self, obj, indent):\n",
    "        spaces = ' ' * (indent + 1)\n",
    "        result = ''\n",
    "        for attr in sorted(obj.__dict__):\n",
    "            if attr.startswith('__') and attr.endswith('__'):\n",
    "                result += spaces + '{0}\\n'.format(attr)\n",
    "            else:\n",
    "                result += spaces + '{0}={1}\\n'.format(attr, getattr(obj, attr))\n",
    "        return result\n",
    "    \n",
    "    def __listclass(self, aClass, indent):\n",
    "        dots = '.' * indent\n",
    "        if aClass in self.__visited:\n",
    "            return '\\n{0}<Class {1}:, address {2}: (see above)>\\n'.format(\n",
    "                dots,\n",
    "                aClass.__name__,\n",
    "                id(aClass))\n",
    "        else:\n",
    "            self.__visited[aClass] = True\n",
    "            here = self.__attrnames(aClass, indent)\n",
    "            above = ''\n",
    "            for super in aClass.__bases__:\n",
    "                above += self.__listclass(super, indent+4)\n",
    "            return '\\n{0}<Class {1}, address {2}:\\n{3}{4}{5}>\\n'.format(\n",
    "                dots,\n",
    "                aClass.__name__,\n",
    "                id(aClass),\n",
    "                here, above,\n",
    "                dots)\n",
    "    \n",
    "    def __str__(self):\n",
    "        self.__visited = {}\n",
    "        here = self.__attrnames(self, 0)\n",
    "        above = self.__listclass(self.__class__, 4)\n",
    "        return '<Instance of {0}, address {1}:\\n{2}{3}>'.format(\n",
    "            self.__class__.__name__,\n",
    "            id(self),\n",
    "            here, above)"
   ]
  }
 ],
 "metadata": {
  "kernelspec": {
   "display_name": "Python 3",
   "language": "python",
   "name": "python3"
  },
  "language_info": {
   "codemirror_mode": {
    "name": "ipython",
    "version": 3
   },
   "file_extension": ".py",
   "mimetype": "text/x-python",
   "name": "python",
   "nbconvert_exporter": "python",
   "pygments_lexer": "ipython3",
   "version": "3.10.4"
  }
 },
 "nbformat": 4,
 "nbformat_minor": 2
}
