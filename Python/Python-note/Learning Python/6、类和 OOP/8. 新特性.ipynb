{
 "cells": [
  {
   "cell_type": "markdown",
   "metadata": {},
   "source": [
    "# 1. Dataclass  \n",
    "传统面向对象编程如下所示："
   ]
  },
  {
   "cell_type": "code",
   "execution_count": 1,
   "metadata": {},
   "outputs": [
    {
     "name": "stdout",
     "output_type": "stream",
     "text": [
      "<__main__.User object at 0x000002B80BF125F8>\n"
     ]
    }
   ],
   "source": [
    "class User:\n",
    "    def __init__(self, name: str, age: int, favourite_ic: str) -> None:\n",
    "        self.name = name\n",
    "        self.age = age\n",
    "        self.favourite_ic = favourite_ic\n",
    " \n",
    "    def is_adult(self) -> bool:\n",
    "        \"\"\"Return True if user is an adult, else False.\"\"\"\n",
    "        return self.age >= 18\n",
    " \n",
    " \n",
    "if __name__ == '__main__':\n",
    "    john = User('John', 29, '555')\n",
    "    print(john)\n",
    "    # prints \"<__main__.User object at 0x0076E610>\""
   ]
  },
  {
   "cell_type": "markdown",
   "metadata": {},
   "source": [
    "编写这种类时具有通用的模式，Python 3.7 中引入了 dataclass，使得这种类更容易声明，更加可读。  \n",
    "\n",
    "只需要使用 @dataclass 装饰类，对 self 的赋值就会自动发生，类型注解是强制的。"
   ]
  },
  {
   "cell_type": "code",
   "execution_count": null,
   "metadata": {},
   "outputs": [],
   "source": [
    "from dataclasses import dataclass\n",
    " \n",
    "@dataclass\n",
    "class User:\n",
    "    name: str\n",
    "    age: int\n",
    "    favourite_ic: str\n",
    " \n",
    "    def is_adult(self) -> bool:\n",
    "        \"\"\"Return True if user is an adult, else False.\"\"\"\n",
    "        return self.age >= 18\n",
    " \n",
    "if __name__ == '__main__': \n",
    "    john = User('John', 29, '555') \n",
    "    print(john) \n",
    "    # prints \"User(name='John', age=29, favourite_ic='555')\""
   ]
  },
  {
   "cell_type": "code",
   "execution_count": null,
   "metadata": {},
   "outputs": [],
   "source": []
  }
 ],
 "metadata": {
  "kernelspec": {
   "display_name": "Python 3",
   "language": "python",
   "name": "python3"
  },
  "language_info": {
   "codemirror_mode": {
    "name": "ipython",
    "version": 3
   },
   "file_extension": ".py",
   "mimetype": "text/x-python",
   "name": "python",
   "nbconvert_exporter": "python",
   "pygments_lexer": "ipython3",
   "version": "3.6.8"
  }
 },
 "nbformat": 4,
 "nbformat_minor": 2
}
