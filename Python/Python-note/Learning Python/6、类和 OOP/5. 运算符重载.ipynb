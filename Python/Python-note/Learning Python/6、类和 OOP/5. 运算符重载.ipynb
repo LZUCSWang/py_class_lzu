{
 "cells": [
  {
   "cell_type": "markdown",
   "metadata": {},
   "source": [
    "# 1. 基础知识  \n",
    "运算符重载意味着在类方法中拦截内置的操作——当类的实例出现在内置操作中，Python 会自动调用你的方法，并且你的方法的返回值变成了相应操作的结果：\n",
    "- 运算符重载让类拦截常规的 Python 运算。\n",
    "- 类可重载所有 Python 表达式运算符。\n",
    "- 类也可重载打印、函数调用、属性调号运算等内置运算。\n",
    "- 重载使类实例的行为像内置类型。\n",
    "- 重载是通过提供特殊名称的类方法来实现的。\n",
    "\n",
    "## 1.1 构造函数和表达式：`___init___` 和 `___sub___`  "
   ]
  },
  {
   "cell_type": "code",
   "execution_count": 1,
   "metadata": {},
   "outputs": [],
   "source": [
    "class Number:\n",
    "    def __init__(self, start):\n",
    "        self.data = start\n",
    "    def __sub__(self, other):\n",
    "        return Number(self.data - other)"
   ]
  },
  {
   "cell_type": "code",
   "execution_count": 2,
   "metadata": {},
   "outputs": [
    {
     "data": {
      "text/plain": [
       "3"
      ]
     },
     "execution_count": 2,
     "metadata": {},
     "output_type": "execute_result"
    }
   ],
   "source": [
    "X = Number(5)                              # Number.__init__(X, 5)\n",
    "Y = X - 2                                  # Number.__sub__(X, 2)\n",
    "Y.data"
   ]
  },
  {
   "cell_type": "markdown",
   "metadata": {},
   "source": [
    "## 1.2 常见的运算符重载方法  \n",
    "\n",
    "方法|重载|调用\n",
    "---|---|---\n",
    "`__init__`|构造函数|对象建立：X = Class(args)\n",
    "`__del__`|析构函数|X 对象收回\n",
    "`__add__`|运算符 +|如果没有 `__iadd__`,则 X + Y, X += Y\n",
    "`__or__`|运算符 &#124; (位OR）|如果没有 `__ior__`，则 X &#124; Y, X &#124;= Y\n",
    "`__repr__`，`__str__`|打印、转换|print(X)、repr(X)、str(X)\n",
    "`__call__`|函数调用|`X(*args, **kargs)`\n",
    "`__getattr__`|点号运算|X.undefined\n",
    "`__setattr__`|属性赋值语句|X.any = value\n",
    "`__delattr__`|属性删除|del X.any\n",
    "`__getattribute__`|属性获取|X.any\n",
    "`__getitem__`|索引、分片、迭代|`X[key]`, `X[i:j]`，没 `__iter__` 时的 for 循环和其他迭代器\n",
    "`__setitem__`|索引和分片赋值语句|`X[key] = value`, `X[i:j] = sequence`\n",
    "`__delitem__`|索引和分片删除|`del X[key]`, `del X[i:j]`\n",
    "`__len__`|长度|len(X),如果没有 `__bool__`，则真值测试\n",
    "`__bool__`|布尔测试|bool(X)，真值测试\n",
    "`__lt__`, `__gt__`,|特定的比较|X < Y, X > Y\n",
    "`__le__`, `__ge__`,||X <= Y, X >= Y\n",
    "`__eq__`, `__ne__`||X == Y, X != Y\n",
    "`__radd__`|右侧加法|other + X\n",
    "`__iadd__`|原地增强加法|X += Y\n",
    "`__iter__`, `__next__`|迭代环境|I=iter(X), next(I); for loops, 没有 `__contains__` 的 in, 所有解析式, map(F,X), 其他\n",
    "`__contains__`|成员关系测试|item in X\n",
    "`__index__`|整数值|hex(X), bin(X), oct(X), `O[X]`, `O[X:]`\n",
    "`__enter__`, `__exit__`|环境管理器|with obj as var:\n",
    "`__get__`, `__set__`,|描述符属性|X.attr, X.attr = value\n",
    "`__delete__`||del X.attr\n",
    "`__new__`|创建|在 `__init__` 之前创建对象"
   ]
  },
  {
   "cell_type": "markdown",
   "metadata": {},
   "source": [
    "# 2. 索引和分片：`__getitem__` 和 `__setitem__`  \n",
    "如果在类中定义了（或继承了）的话，则对于实例的索引运算，会自动调用 `__getitem__`。"
   ]
  },
  {
   "cell_type": "code",
   "execution_count": 3,
   "metadata": {},
   "outputs": [
    {
     "data": {
      "text/plain": [
       "4"
      ]
     },
     "execution_count": 3,
     "metadata": {},
     "output_type": "execute_result"
    }
   ],
   "source": [
    "class Indexer:\n",
    "    def __getitem__(self, index):\n",
    "        return index ** 2\n",
    "\n",
    "X = Indexer()\n",
    "X[2]"
   ]
  },
  {
   "cell_type": "code",
   "execution_count": 4,
   "metadata": {},
   "outputs": [
    {
     "name": "stdout",
     "output_type": "stream",
     "text": [
      "0 1 4 9 16 "
     ]
    }
   ],
   "source": [
    "for i in range(5):\n",
    "    print(X[i], end=' ')"
   ]
  },
  {
   "cell_type": "markdown",
   "metadata": {},
   "source": [
    "## 2.1 拦截分片  \n",
    "对于**分片表达式**也调用 `__getitem__`。"
   ]
  },
  {
   "cell_type": "code",
   "execution_count": 5,
   "metadata": {},
   "outputs": [
    {
     "name": "stdout",
     "output_type": "stream",
     "text": [
      "getitem: 0\n"
     ]
    },
    {
     "data": {
      "text/plain": [
       "5"
      ]
     },
     "execution_count": 5,
     "metadata": {},
     "output_type": "execute_result"
    }
   ],
   "source": [
    "class Indexer:\n",
    "    data = [5, 6, 7, 8, 9]\n",
    "    def __getitem__(self, index):\n",
    "        print('getitem:', index)\n",
    "        return self.data[index]\n",
    "    \n",
    "X = Indexer()\n",
    "X[0]"
   ]
  },
  {
   "cell_type": "code",
   "execution_count": 6,
   "metadata": {},
   "outputs": [
    {
     "name": "stdout",
     "output_type": "stream",
     "text": [
      "getitem: 1\n"
     ]
    },
    {
     "data": {
      "text/plain": [
       "6"
      ]
     },
     "execution_count": 6,
     "metadata": {},
     "output_type": "execute_result"
    }
   ],
   "source": [
    "X[1]"
   ]
  },
  {
   "cell_type": "code",
   "execution_count": 7,
   "metadata": {},
   "outputs": [
    {
     "name": "stdout",
     "output_type": "stream",
     "text": [
      "getitem: slice(2, 4, None)\n"
     ]
    },
    {
     "data": {
      "text/plain": [
       "[7, 8]"
      ]
     },
     "execution_count": 7,
     "metadata": {},
     "output_type": "execute_result"
    }
   ],
   "source": [
    "X[2:4]"
   ]
  },
  {
   "cell_type": "markdown",
   "metadata": {},
   "source": [
    "`__setitem__` 索引赋值方法类似地拦截索引和分片赋值——它为后者接收了一个分片对象。"
   ]
  },
  {
   "cell_type": "markdown",
   "metadata": {},
   "source": [
    "# 3. 索引迭代：`__getitem__`  \n",
    "`__getitem__` 可以使 Python 中一种重载迭代的方式。如果定义了这个方法，for 循环每次循环时都会调用类的 `__getitem__`，并持续搭配有更高的偏移值。"
   ]
  },
  {
   "cell_type": "code",
   "execution_count": 8,
   "metadata": {},
   "outputs": [
    {
     "data": {
      "text/plain": [
       "'p'"
      ]
     },
     "execution_count": 8,
     "metadata": {},
     "output_type": "execute_result"
    }
   ],
   "source": [
    "class stepper:\n",
    "    def __getitem__(self, i):\n",
    "        return self.data[i]\n",
    "\n",
    "X = stepper()\n",
    "X.data = 'Spam'\n",
    "X[1]"
   ]
  },
  {
   "cell_type": "code",
   "execution_count": 9,
   "metadata": {},
   "outputs": [
    {
     "name": "stdout",
     "output_type": "stream",
     "text": [
      "S p a m "
     ]
    }
   ],
   "source": [
    "for item in X:\n",
    "    print(item, end=' ')"
   ]
  },
  {
   "cell_type": "code",
   "execution_count": 10,
   "metadata": {},
   "outputs": [
    {
     "data": {
      "text/plain": [
       "True"
      ]
     },
     "execution_count": 10,
     "metadata": {},
     "output_type": "execute_result"
    }
   ],
   "source": [
    "'p' in X"
   ]
  },
  {
   "cell_type": "code",
   "execution_count": 11,
   "metadata": {},
   "outputs": [
    {
     "data": {
      "text/plain": [
       "['S', 'P', 'A', 'M']"
      ]
     },
     "execution_count": 11,
     "metadata": {},
     "output_type": "execute_result"
    }
   ],
   "source": [
    "list(map(str.upper, X))"
   ]
  },
  {
   "cell_type": "markdown",
   "metadata": {},
   "source": [
    "# 4. 迭代器对象：`__iter__` 和 `__next__`  \n",
    "Python 中所有的迭代环境都会先尝试 `__iter__` 方法，再尝试 `__getitem__`。只有在对象不支持迭代协议的时候，才会尝试索引运算。  \n",
    "\n",
    "## 4.1 用户定义的迭代器  "
   ]
  },
  {
   "cell_type": "code",
   "execution_count": 12,
   "metadata": {},
   "outputs": [
    {
     "name": "stdout",
     "output_type": "stream",
     "text": [
      "1 4 9 16 25 "
     ]
    }
   ],
   "source": [
    "class Squares:\n",
    "    def __init__(self, start, stop):\n",
    "        self.value = start - 1\n",
    "        self.stop = stop\n",
    "    def __iter__(self):\n",
    "        return self\n",
    "    def __next__(self):                     # 每次迭代返回一个平方值\n",
    "        if self.value == self.stop:\n",
    "            raise StopIteration\n",
    "        self.value += 1\n",
    "        return self.value ** 2\n",
    "\n",
    "for i in Squares(1, 5):                     # for 调用 __iter__\n",
    "    print(i, end=' ')                       # 每次迭代调用 __next__"
   ]
  },
  {
   "cell_type": "markdown",
   "metadata": {},
   "source": [
    "和 `__getitem__` 不同，`__iter__` 只循环一次。每次新的循环，都得创建一个新的迭代器对象。"
   ]
  },
  {
   "cell_type": "code",
   "execution_count": 13,
   "metadata": {},
   "outputs": [
    {
     "data": {
      "text/plain": [
       "[1, 4, 9, 16, 25]"
      ]
     },
     "execution_count": 13,
     "metadata": {},
     "output_type": "execute_result"
    }
   ],
   "source": [
    "X = Squares(1, 5)\n",
    "[n for n in X]"
   ]
  },
  {
   "cell_type": "code",
   "execution_count": 14,
   "metadata": {},
   "outputs": [
    {
     "data": {
      "text/plain": [
       "[]"
      ]
     },
     "execution_count": 14,
     "metadata": {},
     "output_type": "execute_result"
    }
   ],
   "source": [
    "[n for n in X]"
   ]
  },
  {
   "cell_type": "markdown",
   "metadata": {},
   "source": [
    "## 4.2 有多个迭代器的对象  \n",
    "要达到多个迭代器的效果，`__iter__` 只需替迭代器定义新的状态对象，而不是返回 self。  \n",
    "\n",
    "在某些应用中，还可以将 `__iter__` 方法和 yield 生成器函数表达式结合在一起。因为生成器函数自动保存本地变量状态并且创建需要的迭代器方法。调用生成器函数时，自动创建 `__iter__` 方法，简单地返回自身。"
   ]
  },
  {
   "cell_type": "code",
   "execution_count": 15,
   "metadata": {},
   "outputs": [],
   "source": [
    "class Squares:\n",
    "    def __init__(self, start, stop):\n",
    "        self.start = start\n",
    "        self.stop = stop\n",
    "    def __iter__(self):\n",
    "        for value in range(self.start, self.stop + 1):\n",
    "            yield value ** 2"
   ]
  },
  {
   "cell_type": "code",
   "execution_count": 16,
   "metadata": {},
   "outputs": [
    {
     "name": "stdout",
     "output_type": "stream",
     "text": [
      "1 4 9 16 25 "
     ]
    }
   ],
   "source": [
    "for i in Squares(1, 5):\n",
    "    print(i, end=' ')"
   ]
  },
  {
   "cell_type": "markdown",
   "metadata": {},
   "source": [
    "使用 `__iter__`/yield 组合还支持多个活跃的迭代器："
   ]
  },
  {
   "cell_type": "code",
   "execution_count": 17,
   "metadata": {},
   "outputs": [
    {
     "data": {
      "text/plain": [
       "(1, 4)"
      ]
     },
     "execution_count": 17,
     "metadata": {},
     "output_type": "execute_result"
    }
   ],
   "source": [
    "S = Squares(1, 5)\n",
    "I = iter(S)\n",
    "next(I), next(I)"
   ]
  },
  {
   "cell_type": "code",
   "execution_count": 18,
   "metadata": {},
   "outputs": [],
   "source": [
    "J = iter(S)"
   ]
  },
  {
   "cell_type": "code",
   "execution_count": 19,
   "metadata": {},
   "outputs": [
    {
     "data": {
      "text/plain": [
       "1"
      ]
     },
     "execution_count": 19,
     "metadata": {},
     "output_type": "execute_result"
    }
   ],
   "source": [
    "next(J)"
   ]
  },
  {
   "cell_type": "markdown",
   "metadata": {},
   "source": [
    "基于生成器的方法移除了编写额外迭代器类的需要。"
   ]
  },
  {
   "cell_type": "markdown",
   "metadata": {},
   "source": [
    "## 4.3 成员关系：`__contains__`、`__iter__` 和 `__getitem__`  \n",
    "运算符重载往往是**多个层级的**：类可以提供特定的方法，或者用作退而求其次选项的更通用的替代方案。  \n",
    "\n",
    "在迭代领域，类通常把 in 成员关系运算符实现为一个迭代，使用 `__iter__` 方法或 `__getitem__` 方法。要支持更加特定的成员关系，类可能编写一个 `__contains__` 方法——该方法优先于 `__iter__` 方法，`__iter__` 方法优先于 `__getitem__` 方法。`__contains__` 方法应该把成员关系定义为对一个**映射**应用键，以及用于**序列**的搜索。"
   ]
  },
  {
   "cell_type": "code",
   "execution_count": 20,
   "metadata": {},
   "outputs": [
    {
     "name": "stdout",
     "output_type": "stream",
     "text": [
      "contains: True\n",
      "iter=> next:1 | next:2 | next:3 | next:4 | next:5 | next:\n",
      "iter=> next:next:next:next:next:next:[1, 4, 9, 16, 25]\n",
      "iter=> next:next:next:next:next:next:['0b1', '0b10', '0b11', '0b100', '0b101']\n",
      "iter=> next:1 @ next:2 @ next:3 @ next:4 @ next:5 @ next:"
     ]
    }
   ],
   "source": [
    "class Iters:\n",
    "    def __init__(self, value):\n",
    "        self.data = value\n",
    "    def __getitem__(self, i):                  # 迭代的替代方案\n",
    "        print('get[%s]:' % i, end='')          # 也可用于索引和分片\n",
    "        return self.data[i]\n",
    "    def __iter__(self):                        # 优先用于迭代\n",
    "        print('iter=> ', end='')\n",
    "        self.ix = 0\n",
    "        return self\n",
    "    def __next__(self):\n",
    "        print('next:', end='')\n",
    "        if self.ix == len(self.data): raise StopIteration\n",
    "        item = self.data[self.ix]\n",
    "        self.ix += 1\n",
    "        return item\n",
    "    def __contains__(self, x):                  # 优先用于 in\n",
    "        print('contains: ', end='')\n",
    "        return x in self.data\n",
    "    next = __next__\n",
    "\n",
    "if __name__ == '__main__':\n",
    "    X = Iters([1, 2, 3, 4, 5])\n",
    "    print(3 in X)                               # 成员关系\n",
    "    for i in X:                                 \n",
    "        print(i, end=' | ')\n",
    "        \n",
    "    print()\n",
    "    print([i ** 2 for i in X])                  # 其他迭代环境\n",
    "    print(list(map(bin, X)))\n",
    "    \n",
    "    I = iter(X)                                  # 手动迭代\n",
    "    while True:\n",
    "        try:\n",
    "            print(next(I), end=' @ ')\n",
    "        except StopIteration:\n",
    "            break"
   ]
  },
  {
   "cell_type": "markdown",
   "metadata": {},
   "source": [
    "特定的 `__contains__` 拦截成员关系，通用的 `__iter__` 捕获其他的迭代环境以至 `__next__` 重复地被调用，而 `__getitem__` 不会被调用。"
   ]
  },
  {
   "cell_type": "code",
   "execution_count": 21,
   "metadata": {},
   "outputs": [
    {
     "name": "stdout",
     "output_type": "stream",
     "text": [
      "iter=> next:next:next:True\n",
      "iter=> next:1 | next:2 | next:3 | next:4 | next:5 | next:\n",
      "iter=> next:next:next:next:next:next:[1, 4, 9, 16, 25]\n",
      "iter=> next:next:next:next:next:next:['0b1', '0b10', '0b11', '0b100', '0b101']\n",
      "iter=> next:1 @ next:2 @ next:3 @ next:4 @ next:5 @ next:"
     ]
    }
   ],
   "source": [
    "class Iters:\n",
    "    def __init__(self, value):\n",
    "        self.data = value\n",
    "    def __getitem__(self, i):                  # 迭代的替代方案\n",
    "        print('get[%s]:' % i, end='')          # 也可用于索引和分片\n",
    "        return self.data[i]\n",
    "    def __iter__(self):                        # 优先用于迭代\n",
    "        print('iter=> ', end='')\n",
    "        self.ix = 0\n",
    "        return self\n",
    "    def __next__(self):\n",
    "        print('next:', end='')\n",
    "        if self.ix == len(self.data): raise StopIteration\n",
    "        item = self.data[self.ix]\n",
    "        self.ix += 1\n",
    "        return item\n",
    "\n",
    "    next = __next__\n",
    "\n",
    "if __name__ == '__main__':\n",
    "    X = Iters([1, 2, 3, 4, 5])\n",
    "    print(3 in X)                               # 成员关系\n",
    "    for i in X:                                 \n",
    "        print(i, end=' | ')\n",
    "        \n",
    "    print()\n",
    "    print([i ** 2 for i in X])                  # 其他迭代环境\n",
    "    print(list(map(bin, X)))\n",
    "    \n",
    "    I = iter(X)                                  # 手动迭代\n",
    "    while True:\n",
    "        try:\n",
    "            print(next(I), end=' @ ')\n",
    "        except StopIteration:\n",
    "            break"
   ]
  },
  {
   "cell_type": "markdown",
   "metadata": {},
   "source": [
    "注释掉 `__contains__` 方法后，成员关系路由到了通用的 `__iter__`。"
   ]
  },
  {
   "cell_type": "code",
   "execution_count": 22,
   "metadata": {},
   "outputs": [
    {
     "name": "stdout",
     "output_type": "stream",
     "text": [
      "get[0]:get[1]:get[2]:True\n",
      "get[0]:1 | get[1]:2 | get[2]:3 | get[3]:4 | get[4]:5 | get[5]:\n",
      "get[0]:get[1]:get[2]:get[3]:get[4]:get[5]:[1, 4, 9, 16, 25]\n",
      "get[0]:get[1]:get[2]:get[3]:get[4]:get[5]:['0b1', '0b10', '0b11', '0b100', '0b101']\n",
      "get[0]:1 @ get[1]:2 @ get[2]:3 @ get[3]:4 @ get[4]:5 @ get[5]:"
     ]
    }
   ],
   "source": [
    "class Iters:\n",
    "    def __init__(self, value):\n",
    "        self.data = value\n",
    "    def __getitem__(self, i):                  # 迭代的替代方案\n",
    "        print('get[%s]:' % i, end='')          # 也可用于索引和分片\n",
    "        return self.data[i]\n",
    "    def __next__(self):\n",
    "        print('next:', end='')\n",
    "        if self.ix == len(self.data): raise StopIteration\n",
    "        item = self.data[self.ix]\n",
    "        self.ix += 1\n",
    "        return item\n",
    "\n",
    "    next = __next__\n",
    "\n",
    "if __name__ == '__main__':\n",
    "    X = Iters([1, 2, 3, 4, 5])\n",
    "    print(3 in X)                               # 成员关系\n",
    "    for i in X:                                 \n",
    "        print(i, end=' | ')\n",
    "        \n",
    "    print()\n",
    "    print([i ** 2 for i in X])                  # 其他迭代环境\n",
    "    print(list(map(bin, X)))\n",
    "    \n",
    "    I = iter(X)                                  # 手动迭代\n",
    "    while True:\n",
    "        try:\n",
    "            print(next(I), end=' @ ')\n",
    "        except StopIteration:\n",
    "            break"
   ]
  },
  {
   "cell_type": "markdown",
   "metadata": {},
   "source": [
    "如果 `__contains__` 和 `__iter__` 都注释掉，索引 `__getitem__` 替代方法会被调用，针对成员关系和其他迭代环境使用连续较高的索引。"
   ]
  },
  {
   "cell_type": "markdown",
   "metadata": {},
   "source": [
    "# 5. 属性访问：`__getattr__` 和 `__setattr__`  \n",
    "## 5.1 属性引用  \n",
    "`__getattr__` 方法是拦截属性点号运算。当通过对**未定义**属性名称和实例进行点号运算时，就会用属性名称作为字符串调用这个方法。如果 Python 可通过其继承树搜索流程找到这个属性，该方法就不会被调用。`__getattr__` 可以作为 hook 来通过通用的方式响应属性请求："
   ]
  },
  {
   "cell_type": "code",
   "execution_count": 23,
   "metadata": {},
   "outputs": [
    {
     "data": {
      "text/plain": [
       "40"
      ]
     },
     "execution_count": 23,
     "metadata": {},
     "output_type": "execute_result"
    }
   ],
   "source": [
    "class empty:\n",
    "    def __getattr__(self, attrname):\n",
    "        if attrname == 'age':\n",
    "            return 40\n",
    "        else:\n",
    "            raise AttributeError(attrname)\n",
    "        \n",
    "X = empty()\n",
    "X.age"
   ]
  },
  {
   "cell_type": "code",
   "execution_count": 24,
   "metadata": {},
   "outputs": [
    {
     "ename": "AttributeError",
     "evalue": "name",
     "output_type": "error",
     "traceback": [
      "\u001b[1;31m---------------------------------------------------------------------------\u001b[0m",
      "\u001b[1;31mAttributeError\u001b[0m                            Traceback (most recent call last)",
      "\u001b[1;32md:\\BOOKS\\Python\\Python-note\\Learning Python\\6、类和 OOP\\5. 运算符重载.ipynb 单元格 40\u001b[0m line \u001b[0;36m1\n\u001b[1;32m----> <a href='vscode-notebook-cell:/d%3A/BOOKS/Python/Python-note/Learning%20Python/6%E3%80%81%E7%B1%BB%E5%92%8C%20OOP/5.%20%E8%BF%90%E7%AE%97%E7%AC%A6%E9%87%8D%E8%BD%BD.ipynb#X54sZmlsZQ%3D%3D?line=0'>1</a>\u001b[0m X\u001b[39m.\u001b[39;49mname\n",
      "\u001b[1;32md:\\BOOKS\\Python\\Python-note\\Learning Python\\6、类和 OOP\\5. 运算符重载.ipynb 单元格 40\u001b[0m line \u001b[0;36m6\n\u001b[0;32m      <a href='vscode-notebook-cell:/d%3A/BOOKS/Python/Python-note/Learning%20Python/6%E3%80%81%E7%B1%BB%E5%92%8C%20OOP/5.%20%E8%BF%90%E7%AE%97%E7%AC%A6%E9%87%8D%E8%BD%BD.ipynb#X54sZmlsZQ%3D%3D?line=3'>4</a>\u001b[0m     \u001b[39mreturn\u001b[39;00m \u001b[39m40\u001b[39m\n\u001b[0;32m      <a href='vscode-notebook-cell:/d%3A/BOOKS/Python/Python-note/Learning%20Python/6%E3%80%81%E7%B1%BB%E5%92%8C%20OOP/5.%20%E8%BF%90%E7%AE%97%E7%AC%A6%E9%87%8D%E8%BD%BD.ipynb#X54sZmlsZQ%3D%3D?line=4'>5</a>\u001b[0m \u001b[39melse\u001b[39;00m:\n\u001b[1;32m----> <a href='vscode-notebook-cell:/d%3A/BOOKS/Python/Python-note/Learning%20Python/6%E3%80%81%E7%B1%BB%E5%92%8C%20OOP/5.%20%E8%BF%90%E7%AE%97%E7%AC%A6%E9%87%8D%E8%BD%BD.ipynb#X54sZmlsZQ%3D%3D?line=5'>6</a>\u001b[0m     \u001b[39mraise\u001b[39;00m \u001b[39mAttributeError\u001b[39;00m(attrname)\n",
      "\u001b[1;31mAttributeError\u001b[0m: name"
     ]
    }
   ],
   "source": [
    "X.name"
   ]
  },
  {
   "cell_type": "markdown",
   "metadata": {},
   "source": [
    "empty 类和其实例 X 本身并没有属性，所以对 X.age 的存取会转至 `__getattr__` 方法，self 则赋值为实例（X），而 attrname 则赋值为未定义的属性名称字符串（\"age\"）。"
   ]
  },
  {
   "cell_type": "markdown",
   "metadata": {},
   "source": [
    "## 5.2 属性赋值和删除  \n",
    "`__setattr__` 会拦截所有属性的赋值语句。如果定义或继承了这个方法，`self.attr = value` 会变成 `self.__setattr__('attr', value)`。  \n",
    "\n",
    "在 `__setattr__` 中对任何 self 属性做赋值，都会再调用 `__setattr__`，导致了无穷递归循环。如果想使用这个方法，要确定是通过对属性字典做索引运算来赋值任何实例属性。也就是说，使用 `self.__dict__['name'] = x`，而不是 `self.name = x`："
   ]
  },
  {
   "cell_type": "code",
   "execution_count": null,
   "metadata": {},
   "outputs": [
    {
     "data": {
      "text/plain": [
       "50"
      ]
     },
     "execution_count": 30,
     "metadata": {},
     "output_type": "execute_result"
    }
   ],
   "source": [
    "class Accesscontrol:\n",
    "    def __setattr__(self, attr, value):\n",
    "        if attr == 'age':\n",
    "            self.__dict__[attr] = value + 10\n",
    "        else:\n",
    "            raise AttributeError(attr + ' not allowed')\n",
    "        \n",
    "X = Accesscontrol()\n",
    "X.age = 40\n",
    "X.age"
   ]
  },
  {
   "cell_type": "code",
   "execution_count": null,
   "metadata": {},
   "outputs": [
    {
     "ename": "AttributeError",
     "evalue": "name not allowed",
     "output_type": "error",
     "traceback": [
      "\u001b[1;31m---------------------------------------------------------------------------\u001b[0m",
      "\u001b[1;31mAttributeError\u001b[0m                            Traceback (most recent call last)",
      "\u001b[1;32m<ipython-input-31-05b099f59059>\u001b[0m in \u001b[0;36m<module>\u001b[1;34m()\u001b[0m\n\u001b[1;32m----> 1\u001b[1;33m \u001b[0mX\u001b[0m\u001b[1;33m.\u001b[0m\u001b[0mname\u001b[0m \u001b[1;33m=\u001b[0m \u001b[1;34m'Bob'\u001b[0m\u001b[1;33m\u001b[0m\u001b[0m\n\u001b[0m",
      "\u001b[1;32m<ipython-input-30-756addf50487>\u001b[0m in \u001b[0;36m__setattr__\u001b[1;34m(self, attr, value)\u001b[0m\n\u001b[0;32m      4\u001b[0m             \u001b[0mself\u001b[0m\u001b[1;33m.\u001b[0m\u001b[0m__dict__\u001b[0m\u001b[1;33m[\u001b[0m\u001b[0mattr\u001b[0m\u001b[1;33m]\u001b[0m \u001b[1;33m=\u001b[0m \u001b[0mvalue\u001b[0m \u001b[1;33m+\u001b[0m \u001b[1;36m10\u001b[0m\u001b[1;33m\u001b[0m\u001b[0m\n\u001b[0;32m      5\u001b[0m         \u001b[1;32melse\u001b[0m\u001b[1;33m:\u001b[0m\u001b[1;33m\u001b[0m\u001b[0m\n\u001b[1;32m----> 6\u001b[1;33m             \u001b[1;32mraise\u001b[0m \u001b[0mAttributeError\u001b[0m\u001b[1;33m(\u001b[0m\u001b[0mattr\u001b[0m \u001b[1;33m+\u001b[0m \u001b[1;34m' not allowed'\u001b[0m\u001b[1;33m)\u001b[0m\u001b[1;33m\u001b[0m\u001b[0m\n\u001b[0m\u001b[0;32m      7\u001b[0m \u001b[1;33m\u001b[0m\u001b[0m\n\u001b[0;32m      8\u001b[0m \u001b[0mX\u001b[0m \u001b[1;33m=\u001b[0m \u001b[0mAccesscontrol\u001b[0m\u001b[1;33m(\u001b[0m\u001b[1;33m)\u001b[0m\u001b[1;33m\u001b[0m\u001b[0m\n",
      "\u001b[1;31mAttributeError\u001b[0m: name not allowed"
     ]
    }
   ],
   "source": [
    "X.name = 'Bob'"
   ]
  },
  {
   "cell_type": "markdown",
   "metadata": {},
   "source": [
    "另一个属性管理方法，`__delattr__`，传递属性名字符串，所有属性删除（例如，del object.attr）时都会调用。像 `__setattr__` 一样，必须避免递归循环，通过使用 `__dict__` 或超类。"
   ]
  },
  {
   "cell_type": "markdown",
   "metadata": {},
   "source": [
    "# 6. 模拟实例属性的私有化：第一部分  \n",
    "每个子类都有自己的私有变量名列表，这些变量名无法通过其实例进行赋值："
   ]
  },
  {
   "cell_type": "code",
   "execution_count": null,
   "metadata": {},
   "outputs": [],
   "source": [
    "class PrivateExc(Exception): pass\n",
    "\n",
    "class Privacy:\n",
    "    def __setattr__(self, attrname, value):\n",
    "        if attrname in self.privates:\n",
    "            raise PrivateExc(attrname, self)\n",
    "        else:\n",
    "            self.__dict__[attrname] = value\n",
    "        \n",
    "class Test1(Privacy):\n",
    "    privates = ['age']\n",
    "    \n",
    "class Test2(Privacy):\n",
    "    privates = ['name', 'pay']\n",
    "    def __init__(self):\n",
    "        self.__dict__['name'] = 'Tom'\n",
    "        \n",
    "if __name__ == '__main__':\n",
    "    x = Test1()\n",
    "    y = Test2()"
   ]
  },
  {
   "cell_type": "code",
   "execution_count": null,
   "metadata": {},
   "outputs": [],
   "source": [
    "x.name = 'Bob'"
   ]
  },
  {
   "cell_type": "code",
   "execution_count": null,
   "metadata": {},
   "outputs": [
    {
     "ename": "PrivateExc",
     "evalue": "('name', <__main__.Test2 object at 0x000002739844FDD8>)",
     "output_type": "error",
     "traceback": [
      "\u001b[1;31m---------------------------------------------------------------------------\u001b[0m",
      "\u001b[1;31mPrivateExc\u001b[0m                                Traceback (most recent call last)",
      "\u001b[1;32m<ipython-input-35-5241bd7fed48>\u001b[0m in \u001b[0;36m<module>\u001b[1;34m()\u001b[0m\n\u001b[1;32m----> 1\u001b[1;33m \u001b[0my\u001b[0m\u001b[1;33m.\u001b[0m\u001b[0mname\u001b[0m \u001b[1;33m=\u001b[0m \u001b[1;34m'Sue'\u001b[0m\u001b[1;33m\u001b[0m\u001b[0m\n\u001b[0m",
      "\u001b[1;32m<ipython-input-33-933031f557ee>\u001b[0m in \u001b[0;36m__setattr__\u001b[1;34m(self, attrname, value)\u001b[0m\n\u001b[0;32m      4\u001b[0m     \u001b[1;32mdef\u001b[0m \u001b[0m__setattr__\u001b[0m\u001b[1;33m(\u001b[0m\u001b[0mself\u001b[0m\u001b[1;33m,\u001b[0m \u001b[0mattrname\u001b[0m\u001b[1;33m,\u001b[0m \u001b[0mvalue\u001b[0m\u001b[1;33m)\u001b[0m\u001b[1;33m:\u001b[0m\u001b[1;33m\u001b[0m\u001b[0m\n\u001b[0;32m      5\u001b[0m         \u001b[1;32mif\u001b[0m \u001b[0mattrname\u001b[0m \u001b[1;32min\u001b[0m \u001b[0mself\u001b[0m\u001b[1;33m.\u001b[0m\u001b[0mprivates\u001b[0m\u001b[1;33m:\u001b[0m\u001b[1;33m\u001b[0m\u001b[0m\n\u001b[1;32m----> 6\u001b[1;33m             \u001b[1;32mraise\u001b[0m \u001b[0mPrivateExc\u001b[0m\u001b[1;33m(\u001b[0m\u001b[0mattrname\u001b[0m\u001b[1;33m,\u001b[0m \u001b[0mself\u001b[0m\u001b[1;33m)\u001b[0m\u001b[1;33m\u001b[0m\u001b[0m\n\u001b[0m\u001b[0;32m      7\u001b[0m         \u001b[1;32melse\u001b[0m\u001b[1;33m:\u001b[0m\u001b[1;33m\u001b[0m\u001b[0m\n\u001b[0;32m      8\u001b[0m             \u001b[0mself\u001b[0m\u001b[1;33m.\u001b[0m\u001b[0m__dict__\u001b[0m\u001b[1;33m[\u001b[0m\u001b[0mattrname\u001b[0m\u001b[1;33m]\u001b[0m \u001b[1;33m=\u001b[0m \u001b[0mvalue\u001b[0m\u001b[1;33m\u001b[0m\u001b[0m\n",
      "\u001b[1;31mPrivateExc\u001b[0m: ('name', <__main__.Test2 object at 0x000002739844FDD8>)"
     ]
    }
   ],
   "source": [
    "y.name = 'Sue'"
   ]
  },
  {
   "cell_type": "code",
   "execution_count": null,
   "metadata": {},
   "outputs": [
    {
     "name": "stdout",
     "output_type": "stream",
     "text": [
      "Bob\n"
     ]
    }
   ],
   "source": [
    "print(x.name)"
   ]
  },
  {
   "cell_type": "code",
   "execution_count": null,
   "metadata": {},
   "outputs": [],
   "source": [
    "y.age = 30"
   ]
  },
  {
   "cell_type": "code",
   "execution_count": null,
   "metadata": {},
   "outputs": [
    {
     "ename": "PrivateExc",
     "evalue": "('age', <__main__.Test1 object at 0x0000027398470D68>)",
     "output_type": "error",
     "traceback": [
      "\u001b[1;31m---------------------------------------------------------------------------\u001b[0m",
      "\u001b[1;31mPrivateExc\u001b[0m                                Traceback (most recent call last)",
      "\u001b[1;32m<ipython-input-38-f7dd3a84c319>\u001b[0m in \u001b[0;36m<module>\u001b[1;34m()\u001b[0m\n\u001b[1;32m----> 1\u001b[1;33m \u001b[0mx\u001b[0m\u001b[1;33m.\u001b[0m\u001b[0mage\u001b[0m \u001b[1;33m=\u001b[0m \u001b[1;36m40\u001b[0m\u001b[1;33m\u001b[0m\u001b[0m\n\u001b[0m",
      "\u001b[1;32m<ipython-input-33-933031f557ee>\u001b[0m in \u001b[0;36m__setattr__\u001b[1;34m(self, attrname, value)\u001b[0m\n\u001b[0;32m      4\u001b[0m     \u001b[1;32mdef\u001b[0m \u001b[0m__setattr__\u001b[0m\u001b[1;33m(\u001b[0m\u001b[0mself\u001b[0m\u001b[1;33m,\u001b[0m \u001b[0mattrname\u001b[0m\u001b[1;33m,\u001b[0m \u001b[0mvalue\u001b[0m\u001b[1;33m)\u001b[0m\u001b[1;33m:\u001b[0m\u001b[1;33m\u001b[0m\u001b[0m\n\u001b[0;32m      5\u001b[0m         \u001b[1;32mif\u001b[0m \u001b[0mattrname\u001b[0m \u001b[1;32min\u001b[0m \u001b[0mself\u001b[0m\u001b[1;33m.\u001b[0m\u001b[0mprivates\u001b[0m\u001b[1;33m:\u001b[0m\u001b[1;33m\u001b[0m\u001b[0m\n\u001b[1;32m----> 6\u001b[1;33m             \u001b[1;32mraise\u001b[0m \u001b[0mPrivateExc\u001b[0m\u001b[1;33m(\u001b[0m\u001b[0mattrname\u001b[0m\u001b[1;33m,\u001b[0m \u001b[0mself\u001b[0m\u001b[1;33m)\u001b[0m\u001b[1;33m\u001b[0m\u001b[0m\n\u001b[0m\u001b[0;32m      7\u001b[0m         \u001b[1;32melse\u001b[0m\u001b[1;33m:\u001b[0m\u001b[1;33m\u001b[0m\u001b[0m\n\u001b[0;32m      8\u001b[0m             \u001b[0mself\u001b[0m\u001b[1;33m.\u001b[0m\u001b[0m__dict__\u001b[0m\u001b[1;33m[\u001b[0m\u001b[0mattrname\u001b[0m\u001b[1;33m]\u001b[0m \u001b[1;33m=\u001b[0m \u001b[0mvalue\u001b[0m\u001b[1;33m\u001b[0m\u001b[0m\n",
      "\u001b[1;31mPrivateExc\u001b[0m: ('age', <__main__.Test1 object at 0x0000027398470D68>)"
     ]
    }
   ],
   "source": [
    "x.age = 40"
   ]
  },
  {
   "cell_type": "code",
   "execution_count": null,
   "metadata": {},
   "outputs": [
    {
     "name": "stdout",
     "output_type": "stream",
     "text": [
      "30\n"
     ]
    }
   ],
   "source": [
    "print(y.age)"
   ]
  },
  {
   "cell_type": "markdown",
   "metadata": {},
   "source": [
    "这是 Python 中实现**属性私有性**的首选方法。这只是一部分的解决方案。更完整的方案是让子类也能够设置私有属性，并且使用 `__getattr__` 和包装（有时也称为代理）来检测对私有属性的读取。"
   ]
  },
  {
   "cell_type": "markdown",
   "metadata": {},
   "source": [
    "# 7. 字符串表示：`__repr__` 和 `__str__`  \n",
    "当定义时，类的实例打印或转换成字符串时 `__repr__` 或 `__str__` 就会自动调用。这些方法可替对象定义更好的显式格式。"
   ]
  },
  {
   "cell_type": "code",
   "execution_count": null,
   "metadata": {},
   "outputs": [
    {
     "name": "stdout",
     "output_type": "stream",
     "text": [
      "<__main__.adder object at 0x000002739847A9B0>\n"
     ]
    }
   ],
   "source": [
    "# 默认显示\n",
    "class adder:\n",
    "    def __init__(self, value=0):\n",
    "        self.data = value\n",
    "    def __add__(self, other):\n",
    "        self.data += other\n",
    "        \n",
    "x = adder()\n",
    "print(x)"
   ]
  },
  {
   "cell_type": "code",
   "execution_count": null,
   "metadata": {},
   "outputs": [
    {
     "name": "stdout",
     "output_type": "stream",
     "text": [
      "addrepr(2)\n"
     ]
    }
   ],
   "source": [
    "# 定制显示\n",
    "class addrepr(adder):\n",
    "    def __repr__(self):\n",
    "        return 'addrepr(%s)' % self.data\n",
    "\n",
    "x = addrepr(2)\n",
    "print(x)                      # 运行 __repr__"
   ]
  },
  {
   "cell_type": "code",
   "execution_count": null,
   "metadata": {},
   "outputs": [
    {
     "data": {
      "text/plain": [
       "addrepr(2)"
      ]
     },
     "execution_count": 43,
     "metadata": {},
     "output_type": "execute_result"
    }
   ],
   "source": [
    "x                             # 运行 __repr__"
   ]
  },
  {
   "cell_type": "markdown",
   "metadata": {},
   "source": [
    "- 打印操作会首先尝试 `__str__` 和 str 内置函数（print 运行的内部等价形式）。它通常应该返回一个用户友好的显示。\n",
    "- `__repr__` 用于所有其他的环境中：用于交互模式下提示回应以及 repr 函数，如果没有使用 `__str__`，会使用 print 和 str。它通常应该返回一个编码字符串，可以用来创建对象，或者给开发者一个详细的显示。\n",
    "\n",
    "`__repr__` 可以定义在任何地方使用单一显示格式，并且可以将 `__str__` 编辑为只支持 print 和str，或者为它们提供一个替代的显示。  \n",
    "\n",
    "只要 print 和 str 显示对该工具足够，一般的工具也可能更倾向于使用 `__str__`，让其他类可以选择添加一个替代的 `__repr__` 用于其他上下文中。相反，对 `__repr__` 进行编辑的通用工具仍然允许客户端为 print 和 str 添加带有 `__str__` 的替代显示。  \n",
    "\n",
    "如果没有定义 `__str__`，打印还是使用 `__repr__`，反过来并不成立——其他环境，只是使用 `__repr__`，根本不要尝试 `__str__`："
   ]
  },
  {
   "cell_type": "code",
   "execution_count": null,
   "metadata": {},
   "outputs": [
    {
     "data": {
      "text/plain": [
       "<__main__.addstr at 0x2739847ac50>"
      ]
     },
     "execution_count": 44,
     "metadata": {},
     "output_type": "execute_result"
    }
   ],
   "source": [
    "class addstr(adder):\n",
    "    def __str__(self):\n",
    "        return '[Value: %s]' % self.data\n",
    "    \n",
    "x = addstr(3)\n",
    "x + 1\n",
    "x                                         # 运行 __repr__"
   ]
  },
  {
   "cell_type": "code",
   "execution_count": null,
   "metadata": {},
   "outputs": [
    {
     "name": "stdout",
     "output_type": "stream",
     "text": [
      "[Value: 4]\n"
     ]
    }
   ],
   "source": [
    "print(x)                                  # 运行 __str__"
   ]
  },
  {
   "cell_type": "code",
   "execution_count": null,
   "metadata": {},
   "outputs": [
    {
     "data": {
      "text/plain": [
       "('[Value: 4]', '<__main__.addstr object at 0x000002739847AC50>')"
      ]
     },
     "execution_count": 46,
     "metadata": {},
     "output_type": "execute_result"
    }
   ],
   "source": [
    "str(x), repr(x)"
   ]
  },
  {
   "cell_type": "markdown",
   "metadata": {},
   "source": [
    "如果想让所有环境都有统一的显示，`__repr__` 是最佳选择。通过分别定义这两个方法，就可在不同环境内支持不同显示。例如，终端用户显示使用 `__str__`，程序员在开发期间则使用底层的 `__repr__` 来显示："
   ]
  },
  {
   "cell_type": "code",
   "execution_count": null,
   "metadata": {},
   "outputs": [
    {
     "data": {
      "text/plain": [
       "addboth(4)"
      ]
     },
     "execution_count": 47,
     "metadata": {},
     "output_type": "execute_result"
    }
   ],
   "source": [
    "class addboth(adder):\n",
    "    def __str__(self):\n",
    "        return '[Value: %s]' % self.data\n",
    "    def __repr__(self):\n",
    "        return 'addboth(%s)' % self.data\n",
    "    \n",
    "x = addboth(4)\n",
    "x"
   ]
  },
  {
   "cell_type": "code",
   "execution_count": null,
   "metadata": {},
   "outputs": [
    {
     "name": "stdout",
     "output_type": "stream",
     "text": [
      "[Value: 4]\n"
     ]
    }
   ],
   "source": [
    "print(x)"
   ]
  },
  {
   "cell_type": "markdown",
   "metadata": {},
   "source": [
    "**显示用法注意事项**  \n",
    "\n",
    "`__str__` 和 `__repr__` 都必须返回字符串。  \n",
    "\n",
    "根据一个容器的字符串转换逻辑，`__str__` 的用户友好的显示可能只有当对象出现在一个打印操作顶层的时候才应用，嵌套到较大对象中的对象可能用其 `__repr__` 或默认方法打印："
   ]
  },
  {
   "cell_type": "code",
   "execution_count": null,
   "metadata": {},
   "outputs": [
    {
     "name": "stdout",
     "output_type": "stream",
     "text": [
      "2\n",
      "3\n"
     ]
    }
   ],
   "source": [
    "class Printer:\n",
    "    def __init__(self, val):\n",
    "        self.val = val\n",
    "    def __str__(self):\n",
    "        return str(self.val)\n",
    "    \n",
    "objs = [Printer(2), Printer(3)]             \n",
    "for x in objs: print(x)                     # 打印实例时使用 __str__"
   ]
  },
  {
   "cell_type": "code",
   "execution_count": null,
   "metadata": {},
   "outputs": [
    {
     "name": "stdout",
     "output_type": "stream",
     "text": [
      "[<__main__.Printer object at 0x0000027398483668>, <__main__.Printer object at 0x00000273984835F8>]\n"
     ]
    }
   ],
   "source": [
    "print(objs)                                  # 当实例在列表中时没有使用"
   ]
  },
  {
   "cell_type": "code",
   "execution_count": null,
   "metadata": {},
   "outputs": [
    {
     "data": {
      "text/plain": [
       "[<__main__.Printer at 0x27398483668>, <__main__.Printer at 0x273984835f8>]"
      ]
     },
     "execution_count": 52,
     "metadata": {},
     "output_type": "execute_result"
    }
   ],
   "source": [
    "objs"
   ]
  },
  {
   "cell_type": "markdown",
   "metadata": {},
   "source": [
    "# 8. 右侧加法和原处加法：`__radd__` 和 `__iadd__`  \n",
    "## 8.1 右侧加法  \n",
    "`__add__` 方法并不支持 + 运算符右侧使用实例对象："
   ]
  },
  {
   "cell_type": "code",
   "execution_count": null,
   "metadata": {},
   "outputs": [
    {
     "data": {
      "text/plain": [
       "7"
      ]
     },
     "execution_count": 1,
     "metadata": {},
     "output_type": "execute_result"
    }
   ],
   "source": [
    "class Adder:\n",
    "    def __init__(self, value=0):\n",
    "        self.data = value\n",
    "    def __add__(self, other):\n",
    "        return self.data + other\n",
    "\n",
    "x = Adder(5)\n",
    "x + 2"
   ]
  },
  {
   "cell_type": "code",
   "execution_count": null,
   "metadata": {},
   "outputs": [
    {
     "ename": "TypeError",
     "evalue": "unsupported operand type(s) for +: 'int' and 'Adder'",
     "output_type": "error",
     "traceback": [
      "\u001b[1;31m---------------------------------------------------------------------------\u001b[0m",
      "\u001b[1;31mTypeError\u001b[0m                                 Traceback (most recent call last)",
      "\u001b[1;32m<ipython-input-2-4f4e32a7ea51>\u001b[0m in \u001b[0;36m<module>\u001b[1;34m()\u001b[0m\n\u001b[1;32m----> 1\u001b[1;33m \u001b[1;36m2\u001b[0m \u001b[1;33m+\u001b[0m \u001b[0mx\u001b[0m\u001b[1;33m\u001b[0m\u001b[0m\n\u001b[0m",
      "\u001b[1;31mTypeError\u001b[0m: unsupported operand type(s) for +: 'int' and 'Adder'"
     ]
    }
   ],
   "source": [
    "2 + x"
   ]
  },
  {
   "cell_type": "markdown",
   "metadata": {},
   "source": [
    "要支持**可互换的**运算符，可以一并编写 `__radd__` 方法。只有当 + 右侧的对象是类实例，而左边对象不是类实例时，Python 才会调用 `__radd__`："
   ]
  },
  {
   "cell_type": "code",
   "execution_count": null,
   "metadata": {},
   "outputs": [
    {
     "name": "stdout",
     "output_type": "stream",
     "text": [
      "add 88 1\n"
     ]
    },
    {
     "data": {
      "text/plain": [
       "89"
      ]
     },
     "execution_count": 4,
     "metadata": {},
     "output_type": "execute_result"
    }
   ],
   "source": [
    "class Commuter:\n",
    "    def __init__(self, value):\n",
    "        self.val = value\n",
    "    def __add__(self, other):\n",
    "        print('add', self.val, other)\n",
    "        return self.val + other\n",
    "    def __radd__(self, other):\n",
    "        print('radd', self.val, other)\n",
    "        return other + self.val\n",
    "\n",
    "x = Commuter(88)\n",
    "y = Commuter(99)\n",
    "x + 1"
   ]
  },
  {
   "cell_type": "code",
   "execution_count": null,
   "metadata": {},
   "outputs": [
    {
     "name": "stdout",
     "output_type": "stream",
     "text": [
      "radd 99 1\n"
     ]
    },
    {
     "data": {
      "text/plain": [
       "100"
      ]
     },
     "execution_count": 5,
     "metadata": {},
     "output_type": "execute_result"
    }
   ],
   "source": [
    "1 + y"
   ]
  },
  {
   "cell_type": "code",
   "execution_count": null,
   "metadata": {},
   "outputs": [
    {
     "name": "stdout",
     "output_type": "stream",
     "text": [
      "add 88 <__main__.Commuter object at 0x000002A49EB504E0>\n",
      "radd 99 88\n"
     ]
    },
    {
     "data": {
      "text/plain": [
       "187"
      ]
     },
     "execution_count": 6,
     "metadata": {},
     "output_type": "execute_result"
    }
   ],
   "source": [
    "x + y"
   ]
  },
  {
   "cell_type": "markdown",
   "metadata": {},
   "source": [
    "类型测试可能需要辨别它是否能够安全地转换并由此避免嵌套，例如可以使用 isinstance 测试。"
   ]
  },
  {
   "cell_type": "markdown",
   "metadata": {},
   "source": [
    "## 8.2 原处加法  "
   ]
  },
  {
   "cell_type": "code",
   "execution_count": null,
   "metadata": {},
   "outputs": [
    {
     "data": {
      "text/plain": [
       "7"
      ]
     },
     "execution_count": 7,
     "metadata": {},
     "output_type": "execute_result"
    }
   ],
   "source": [
    "class Number:\n",
    "    def __init__(self, val):\n",
    "        self.val = val\n",
    "    def __iadd__(self, other):             # 显式定义 __iadd__: x += y\n",
    "        self.val += other                  # 通常返回 self\n",
    "        return self\n",
    "\n",
    "x = Number(5)\n",
    "x += 1\n",
    "x += 1\n",
    "x.val"
   ]
  },
  {
   "cell_type": "markdown",
   "metadata": {},
   "source": [
    "# 9. Call 表达式：`__call__`  \n",
    "当调用实例时，使用 `__call__` 方法："
   ]
  },
  {
   "cell_type": "code",
   "execution_count": null,
   "metadata": {},
   "outputs": [
    {
     "name": "stdout",
     "output_type": "stream",
     "text": [
      "Called: (1, 2, 3) {}\n"
     ]
    }
   ],
   "source": [
    "class Callee:\n",
    "    def __call__(self, *pargs, **kargs):\n",
    "        print('Called:', pargs, kargs)\n",
    "        \n",
    "C = Callee()\n",
    "C(1, 2, 3)"
   ]
  },
  {
   "cell_type": "code",
   "execution_count": null,
   "metadata": {},
   "outputs": [
    {
     "name": "stdout",
     "output_type": "stream",
     "text": [
      "Called: (1, 2, 3) {'x': 4, 'y': 5}\n"
     ]
    }
   ],
   "source": [
    "C(1, 2, 3, x=4, y=5)"
   ]
  },
  {
   "cell_type": "markdown",
   "metadata": {},
   "source": [
    "传递给实例的任何内容都会传递给该方法，包括通常隐式的实例参数。  \n",
    "\n",
    "拦截调用表达式允许类实例模拟类似函数的外观，但是，也在调用中保持了状态信息以供使用："
   ]
  },
  {
   "cell_type": "code",
   "execution_count": null,
   "metadata": {},
   "outputs": [
    {
     "data": {
      "text/plain": [
       "6"
      ]
     },
     "execution_count": 11,
     "metadata": {},
     "output_type": "execute_result"
    }
   ],
   "source": [
    "class Prod:\n",
    "    def __init__(self, value):\n",
    "        self.value = value\n",
    "    def __call__(self, other):\n",
    "        return self.value * other\n",
    "    \n",
    "x = Prod(2)\n",
    "x(3)"
   ]
  },
  {
   "cell_type": "code",
   "execution_count": null,
   "metadata": {},
   "outputs": [
    {
     "data": {
      "text/plain": [
       "8"
      ]
     },
     "execution_count": 12,
     "metadata": {},
     "output_type": "execute_result"
    }
   ],
   "source": [
    "x(4)"
   ]
  },
  {
   "cell_type": "markdown",
   "metadata": {},
   "source": [
    "# 10. 比较：`__lt__`、`__gt__` 和其他方法  \n",
    "- 与`__add__`/`__radd__` 对不同，比较方法没有右端形式。\n",
    "- 比较运算符没有隐式关系。例如，== 并不意味着 != 是假的。"
   ]
  },
  {
   "cell_type": "code",
   "execution_count": null,
   "metadata": {},
   "outputs": [
    {
     "name": "stdout",
     "output_type": "stream",
     "text": [
      "True\n",
      "False\n"
     ]
    }
   ],
   "source": [
    "class C:\n",
    "    data = 'spam'\n",
    "    def __gt__(self, other):\n",
    "        return self.data > other\n",
    "    def __lt__(self, other):\n",
    "        return self.data < other\n",
    "    \n",
    "X = C()\n",
    "print(X > 'ham')\n",
    "print(X < 'ham')"
   ]
  },
  {
   "cell_type": "markdown",
   "metadata": {},
   "source": [
    "# 11. 布尔测试：`__bool__` 和 `__len__`  \n",
    "在布尔环境中，Python 首先尝试 `__bool__` 来获取一个直接的布尔值，如果没有该方法，就尝试 `__len__` 类根据对象的长度确定一个真值。通常，首先使用对象状态或其他信息来生成一个布尔结果："
   ]
  },
  {
   "cell_type": "code",
   "execution_count": null,
   "metadata": {},
   "outputs": [
    {
     "name": "stdout",
     "output_type": "stream",
     "text": [
      "yes!\n"
     ]
    }
   ],
   "source": [
    "class Truth:\n",
    "    def __bool__(self): return True\n",
    "    \n",
    "X = Truth()\n",
    "if X: print('yes!')"
   ]
  },
  {
   "cell_type": "code",
   "execution_count": null,
   "metadata": {},
   "outputs": [
    {
     "data": {
      "text/plain": [
       "False"
      ]
     },
     "execution_count": 15,
     "metadata": {},
     "output_type": "execute_result"
    }
   ],
   "source": [
    "class Truth:\n",
    "    def __bool__(self): return False\n",
    "    \n",
    "X = Truth()\n",
    "bool()"
   ]
  },
  {
   "cell_type": "markdown",
   "metadata": {},
   "source": [
    "如果没有 `__bool__` 方法，Python 退而求其次地求长度，如果两个方法都有，Python 喜欢 `__bool__` 胜过 `__len__`："
   ]
  },
  {
   "cell_type": "code",
   "execution_count": null,
   "metadata": {},
   "outputs": [
    {
     "name": "stdout",
     "output_type": "stream",
     "text": [
      "yes!\n"
     ]
    }
   ],
   "source": [
    "class Truth:\n",
    "    def __bool__(self): return True\n",
    "    def __len__(self): return 0\n",
    "    \n",
    "X = Truth()\n",
    "if X: print('yes!')"
   ]
  },
  {
   "cell_type": "markdown",
   "metadata": {},
   "source": [
    "如果没有定义真的方法，对象毫无疑义地看作为真："
   ]
  },
  {
   "cell_type": "code",
   "execution_count": null,
   "metadata": {},
   "outputs": [
    {
     "data": {
      "text/plain": [
       "True"
      ]
     },
     "execution_count": 18,
     "metadata": {},
     "output_type": "execute_result"
    }
   ],
   "source": [
    "class Truth:\n",
    "    pass\n",
    "\n",
    "X = Truth()\n",
    "bool(X)"
   ]
  },
  {
   "cell_type": "markdown",
   "metadata": {},
   "source": [
    "# 12. 对象析构函数：`__del__`  \n",
    "每当实例产生时，就会调用 `__init__` 构造函数。每当实例空间被收回时，就会自动执行 `__del__` 析构函数："
   ]
  },
  {
   "cell_type": "code",
   "execution_count": null,
   "metadata": {},
   "outputs": [],
   "source": [
    "class Life:\n",
    "    def __init__(self, name='unknown'):\n",
    "        print('Hello ' + name)\n",
    "        self.name = name\n",
    "    def live(self):\n",
    "        print(self.name)\n",
    "    def __del__(self):\n",
    "        print('Goodbye ' + self.name)"
   ]
  },
  {
   "cell_type": "code",
   "execution_count": null,
   "metadata": {},
   "outputs": [
    {
     "name": "stdout",
     "output_type": "stream",
     "text": [
      "Hello Brian\n"
     ]
    }
   ],
   "source": [
    "brian = Life('Brian')"
   ]
  },
  {
   "cell_type": "code",
   "execution_count": null,
   "metadata": {},
   "outputs": [
    {
     "name": "stdout",
     "output_type": "stream",
     "text": [
      "Brian\n"
     ]
    }
   ],
   "source": [
    "brian.live()"
   ]
  },
  {
   "cell_type": "code",
   "execution_count": null,
   "metadata": {},
   "outputs": [
    {
     "name": "stdout",
     "output_type": "stream",
     "text": [
      "Goodbye Brian\n"
     ]
    }
   ],
   "source": [
    "brian = 'loretta'"
   ]
  },
  {
   "cell_type": "markdown",
   "metadata": {},
   "source": [
    "失去实例的最后一个引用时，会触发其析构函数。在 Python 中，析构函数不像其他 OOP 语言那么常用。其一因为 Python 在实例收回时，会自动收回该实例所拥有的所有空间，对于空间管理来说，是不需要析构函数的；其二是无法轻易地预测实例何时收回，通常最好是在有意调用的方法中编写代码去终止活动。在某种情况下，系统表中可能还在引用该对象，使析构函数无法执行。"
   ]
  }
 ],
 "metadata": {
  "kernelspec": {
   "display_name": "Python 3",
   "language": "python",
   "name": "python3"
  },
  "language_info": {
   "codemirror_mode": {
    "name": "ipython",
    "version": 3
   },
   "file_extension": ".py",
   "mimetype": "text/x-python",
   "name": "python",
   "nbconvert_exporter": "python",
   "pygments_lexer": "ipython3",
   "version": "3.10.4"
  }
 },
 "nbformat": 4,
 "nbformat_minor": 2
}
