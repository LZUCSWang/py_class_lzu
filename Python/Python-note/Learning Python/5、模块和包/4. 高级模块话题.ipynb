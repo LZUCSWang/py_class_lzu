{
 "cells": [
  {
   "cell_type": "markdown",
   "metadata": {},
   "source": [
    "# 1. 模块设计理念  \n",
    "- **总是在 Python 的模块内编写代码。**  \n",
    "- **最小化模块耦合性：全局变量。**\n",
    "- **最大化模块粘合性：统一目标。**  \n",
    "- **模块尽量不改变其他模块的变量。**"
   ]
  },
  {
   "cell_type": "markdown",
   "metadata": {},
   "source": [
    "# 2. 在模块中隐藏数据  \n",
    "Python 模块会导出其文件顶层所赋值的所有变量名，没有对某一个变量名进行声明，使其在模块内可见或不可见这种概念。  \n",
    "\n",
    "## 2.1 最小化 from * 的破坏：`_X` 和 `__all__`  \n",
    "把下划线放在变量名前面（例如，_X），可以防止客户端使用 from * 语句导入模块名时，把其中的那些变量名复制出去。但还是可以使用其他导入形式看见并修改这些变量名，例如 import 语句。"
   ]
  },
  {
   "cell_type": "code",
   "execution_count": null,
   "metadata": {},
   "outputs": [],
   "source": [
    "# unders.py\n",
    "a, _b, c, _d = 1, 2, 3, 4"
   ]
  },
  {
   "cell_type": "code",
   "execution_count": 1,
   "metadata": {},
   "outputs": [
    {
     "data": {
      "text/plain": [
       "(1, 3)"
      ]
     },
     "execution_count": 1,
     "metadata": {},
     "output_type": "execute_result"
    }
   ],
   "source": [
    "from unders import *                # 仅载入非 _X 变量名\n",
    "a, c"
   ]
  },
  {
   "cell_type": "code",
   "execution_count": 2,
   "metadata": {},
   "outputs": [
    {
     "ename": "NameError",
     "evalue": "name '_b' is not defined",
     "output_type": "error",
     "traceback": [
      "\u001b[1;31m---------------------------------------------------------------------------\u001b[0m",
      "\u001b[1;31mNameError\u001b[0m                                 Traceback (most recent call last)",
      "\u001b[1;32m<ipython-input-2-8352e74fe22a>\u001b[0m in \u001b[0;36m<module>\u001b[1;34m()\u001b[0m\n\u001b[1;32m----> 1\u001b[1;33m \u001b[0m_b\u001b[0m\u001b[1;33m\u001b[0m\u001b[0m\n\u001b[0m",
      "\u001b[1;31mNameError\u001b[0m: name '_b' is not defined"
     ]
    }
   ],
   "source": [
    "_b"
   ]
  },
  {
   "cell_type": "code",
   "execution_count": 3,
   "metadata": {},
   "outputs": [
    {
     "data": {
      "text/plain": [
       "2"
      ]
     },
     "execution_count": 3,
     "metadata": {},
     "output_type": "execute_result"
    }
   ],
   "source": [
    "import unders\n",
    "unders._b"
   ]
  },
  {
   "cell_type": "markdown",
   "metadata": {},
   "source": [
    "此外，也可以在模块顶层把变量名的字符串列表赋值给变量 `__all__`，以达到类似于 `_X` 命名惯例的隐藏效果。使用此功能时，from * 语句只会把列在 `__all__` 列表中的这些变量名复制出来。"
   ]
  },
  {
   "cell_type": "code",
   "execution_count": null,
   "metadata": {},
   "outputs": [],
   "source": [
    "# alls.py\n",
    "__all__ = ['a', '_c']\n",
    "a, b, _c, _d = 1, 2, 3, 4"
   ]
  },
  {
   "cell_type": "code",
   "execution_count": 4,
   "metadata": {},
   "outputs": [
    {
     "data": {
      "text/plain": [
       "(1, 3)"
      ]
     },
     "execution_count": 4,
     "metadata": {},
     "output_type": "execute_result"
    }
   ],
   "source": [
    "from alls import *                    # 仅载入 __all__ 中的变量名\n",
    "a, _c"
   ]
  },
  {
   "cell_type": "code",
   "execution_count": 5,
   "metadata": {},
   "outputs": [
    {
     "ename": "NameError",
     "evalue": "name 'b' is not defined",
     "output_type": "error",
     "traceback": [
      "\u001b[1;31m---------------------------------------------------------------------------\u001b[0m",
      "\u001b[1;31mNameError\u001b[0m                                 Traceback (most recent call last)",
      "\u001b[1;32m<ipython-input-5-89e6c98d9288>\u001b[0m in \u001b[0;36m<module>\u001b[1;34m()\u001b[0m\n\u001b[1;32m----> 1\u001b[1;33m \u001b[0mb\u001b[0m\u001b[1;33m\u001b[0m\u001b[0m\n\u001b[0m",
      "\u001b[1;31mNameError\u001b[0m: name 'b' is not defined"
     ]
    }
   ],
   "source": [
    "b"
   ]
  },
  {
   "cell_type": "code",
   "execution_count": 6,
   "metadata": {},
   "outputs": [
    {
     "data": {
      "text/plain": [
       "(1, 2, 3, 4)"
      ]
     },
     "execution_count": 6,
     "metadata": {},
     "output_type": "execute_result"
    }
   ],
   "source": [
    "from alls import a, b, _c, _d           # 其他导入可以获得所有变量名\n",
    "a, b, _c, _d"
   ]
  },
  {
   "cell_type": "code",
   "execution_count": 7,
   "metadata": {},
   "outputs": [
    {
     "data": {
      "text/plain": [
       "(1, 2, 3, 4)"
      ]
     },
     "execution_count": 7,
     "metadata": {},
     "output_type": "execute_result"
    }
   ],
   "source": [
    "import alls\n",
    "alls.a, alls.b, alls._c, alls._d"
   ]
  },
  {
   "cell_type": "markdown",
   "metadata": {},
   "source": [
    "# 3. 启用未来的语言特性：__future__  \n",
    "代码语言方面的变动可能破坏现有代码，使用以下形式的特定的 import 语句开启扩展功能：\n",
    "```\n",
    "from __future__ import featurename\n",
    "```\n",
    "这个语句一般应该出现在模块文件的顶端（也许在 docstring 或注释之后）。能够实验今后的语言变化。"
   ]
  },
  {
   "cell_type": "markdown",
   "metadata": {},
   "source": [
    "# 4. 混合用法模式：`__name__` 和 `__main__`  \n",
    "这个技巧可以把文件作为模块导入，并以独立式程序的形式运行。每个模块都有个名为 `__name__` 的内置属性，Python 会自动设置该属性：\n",
    "- 如果文件是以顶层程序文件执行，在启动时，`__name__` 就会设置为字符串 `\"__main__\"`。\n",
    "- 如果文件被导入，`__name__` 就会改设成客户端所了解的模块名。\n",
    "\n",
    "结果就是模块可以检测自己的 `__name__`，来确定它是在执行还是在导入。  \n",
    "\n",
    "例如，建立名为 runme.py 的模块文件，它只导出了一个名为 tester 的函数："
   ]
  },
  {
   "cell_type": "code",
   "execution_count": null,
   "metadata": {},
   "outputs": [],
   "source": [
    "def tester():\n",
    "    print(\"It's Christmas in Heaven...\")\n",
    "    \n",
    "if __name__ == '__main__':                # 执行时运行，导入时不运行\n",
    "    tester()"
   ]
  },
  {
   "cell_type": "markdown",
   "metadata": {},
   "source": [
    "模块定义了一个函数，让用户可以正常地导入并使用："
   ]
  },
  {
   "cell_type": "code",
   "execution_count": 8,
   "metadata": {
    "scrolled": true
   },
   "outputs": [
    {
     "name": "stdout",
     "output_type": "stream",
     "text": [
      "It's Christmas in Heaven...\n"
     ]
    }
   ],
   "source": [
    "import runme\n",
    "runme.tester()"
   ]
  },
  {
   "cell_type": "markdown",
   "metadata": {},
   "source": [
    "模块也在末尾包含了当此文件以程序执行时，就会调用该函数的代码："
   ]
  },
  {
   "cell_type": "code",
   "execution_count": 10,
   "metadata": {},
   "outputs": [
    {
     "name": "stdout",
     "output_type": "stream",
     "text": [
      "It's Christmas in Heaven...\n"
     ]
    }
   ],
   "source": [
    "! python runme.py"
   ]
  },
  {
   "cell_type": "markdown",
   "metadata": {},
   "source": [
    "也许使用 `__name__` 测试最常见的就是自我测试代码。简而言之，可以在文件末尾加个 `__name__` 测试，把测试模块导出的程序代码放在模块中。这样可以继续导入，在客户端使用该文件，而且可以通过检测其逻辑在系统 shell 中运行它。  "
   ]
  },
  {
   "cell_type": "markdown",
   "metadata": {},
   "source": [
    "# 5. 示例：双模代码  \n",
    "如下的模块 formats.py，为导入者定了字符串格式化工具，还检查其名称看它是否作为一个顶层脚本在运行；如果是这样的话，它测试并使用系统命令行上列出的参数来运行一个定制的或传入的测试。在 Python 中，sys.argv 列表包含了命令行参数，它是反映在命令行上录入的单词的一个字符串列表，其中，第一项总是将要运行的脚本的名称：  "
   ]
  },
  {
   "cell_type": "code",
   "execution_count": null,
   "metadata": {},
   "outputs": [],
   "source": [
    "\"\"\"\n",
    "Various specialized string display formatting utilities.\n",
    "Test me with canned self-test or command-line arguments.\n",
    "\"\"\"\n",
    "\n",
    "def commas(N):\n",
    "    \"\"\"\n",
    "    format positive integer-like N for display with\n",
    "    commas between digit groupings: xxx, yyy, zzz\n",
    "    \"\"\"\n",
    "    digits = str(N)\n",
    "    assert(digits.isdigit())\n",
    "    result = ''\n",
    "    while digits:\n",
    "        digits, last3 = digits[:-3], digits[-3:]\n",
    "        result = (last3 + ',' + result) if result else last3\n",
    "    return result\n",
    "\n",
    "def money(N, numwidth=0, currency='$'):\n",
    "    \"\"\"\n",
    "    format number N for display with commas, 2 decimal digits,\n",
    "    leading $ and sign, and optional padding: '$ -xxx, yyy.zz'.\n",
    "    numwidth=0 for no space padding, currency='' to omit symbol,\n",
    "    and non-ASCII for others(e.g., pound=u'\\xA3' or u'\\u00A3').\n",
    "    \"\"\"\n",
    "    sign = '-' if N < 0 else ''\n",
    "    N = abs(N)\n",
    "    whole = commas(int(N))\n",
    "    fract = ('%.2f' % N)[-2:]\n",
    "    number = '%s%s.%s' % (sign, whole, fract)\n",
    "    return '%s%*s' % (currency, numwidth, number)\n",
    "\n",
    "if __name__ == '__main__':\n",
    "    def selftest():\n",
    "        tests = 0, 1\n",
    "        tests += 12, 123, 1234, 12345, 123456, 1234567\n",
    "        tests += 2 ** 32, 2 ** 100\n",
    "        for test in tests:\n",
    "            print(commas(test))\n",
    "        \n",
    "        print('')\n",
    "        tests = 0, 1, -1, 1.23, 1., 1.2, 3.14159\n",
    "        tests += 12.34, 12.344, 12.345, 12.346\n",
    "        tests += 2 ** 32, (2 ** 32 + .2345)\n",
    "        tests += 1.2345, 1.2, 0.2345\n",
    "        tests += -1.2345, -1.2, -0.2345\n",
    "        tests += -(2 ** 32), -(2 ** 32 + .2345)\n",
    "        tests += (2 ** 100), -(2 ** 100)\n",
    "        for test in tests:\n",
    "            print('%s [%s]' % (money(test, 17), test))\n",
    "    \n",
    "    import sys\n",
    "    if len(sys.argv) == 1:\n",
    "        selftest()\n",
    "    else:\n",
    "        print(money(float(sys.argv[1]), int(sys.argv[2])))"
   ]
  },
  {
   "cell_type": "code",
   "execution_count": 12,
   "metadata": {},
   "outputs": [
    {
     "name": "stdout",
     "output_type": "stream",
     "text": [
      "$99,999.00\n"
     ]
    }
   ],
   "source": [
    "! python formats.py 99999 0"
   ]
  },
  {
   "cell_type": "code",
   "execution_count": 13,
   "metadata": {},
   "outputs": [
    {
     "name": "stdout",
     "output_type": "stream",
     "text": [
      "$               -12,345.00\n"
     ]
    }
   ],
   "source": [
    "! python formats.py -12345 25"
   ]
  },
  {
   "cell_type": "code",
   "execution_count": 14,
   "metadata": {},
   "outputs": [
    {
     "name": "stdout",
     "output_type": "stream",
     "text": [
      "0\n",
      "1\n",
      "12\n",
      "123\n",
      "1,234\n",
      "12,345\n",
      "123,456\n",
      "1,234,567\n",
      "4,294,967,296\n",
      "1,267,650,600,228,229,401,496,703,205,376\n",
      "\n",
      "$             0.00 [0]\n",
      "$             1.00 [1]\n",
      "$            -1.00 [-1]\n",
      "$             1.23 [1.23]\n",
      "$             1.00 [1.0]\n",
      "$             1.20 [1.2]\n",
      "$             3.14 [3.14159]\n",
      "$            12.34 [12.34]\n",
      "$            12.34 [12.344]\n",
      "$            12.35 [12.345]\n",
      "$            12.35 [12.346]\n",
      "$ 4,294,967,296.00 [4294967296]\n",
      "$ 4,294,967,296.23 [4294967296.2345]\n",
      "$             1.23 [1.2345]\n",
      "$             1.20 [1.2]\n",
      "$             0.23 [0.2345]\n",
      "$            -1.23 [-1.2345]\n",
      "$            -1.20 [-1.2]\n",
      "$            -0.23 [-0.2345]\n",
      "$-4,294,967,296.00 [-4294967296]\n",
      "$-4,294,967,296.23 [-4294967296.2345]\n",
      "$1,267,650,600,228,229,401,496,703,205,376.00 [1267650600228229401496703205376]\n",
      "$-1,267,650,600,228,229,401,496,703,205,376.00 [-1267650600228229401496703205376]\n"
     ]
    }
   ],
   "source": [
    "! python formats.py"
   ]
  },
  {
   "cell_type": "markdown",
   "metadata": {},
   "source": [
    "由于这段代码针对双模式用法编写，我们一般也可以把这些工具作为库的部分导入到其他的环境中："
   ]
  },
  {
   "cell_type": "code",
   "execution_count": 15,
   "metadata": {},
   "outputs": [
    {
     "data": {
      "text/plain": [
       "'$123.46'"
      ]
     },
     "execution_count": 15,
     "metadata": {},
     "output_type": "execute_result"
    }
   ],
   "source": [
    "from formats import money, commas\n",
    "money(123.456)"
   ]
  },
  {
   "cell_type": "markdown",
   "metadata": {},
   "source": [
    "# 6. 修改模块搜索路径  \n",
    "模块搜索路径是一个目录列表，可以通过环境变量 PYTHONPATH 以及可能的 .pth 路径文件进行定制。Python 程序本身通过修改名为 sys.path 的内置列表来修改搜索路径。sys.path 在程序启动时就会进行初始化，在那之后，可以随意对其元素进行删除、附加和重设："
   ]
  },
  {
   "cell_type": "code",
   "execution_count": 1,
   "metadata": {},
   "outputs": [
    {
     "data": {
      "text/plain": [
       "['',\n",
       " 'E:\\\\Anaconda\\\\python36.zip',\n",
       " 'E:\\\\Anaconda\\\\DLLs',\n",
       " 'E:\\\\Anaconda\\\\lib',\n",
       " 'E:\\\\Anaconda',\n",
       " 'E:\\\\Anaconda\\\\lib\\\\site-packages',\n",
       " 'E:\\\\Anaconda\\\\lib\\\\site-packages\\\\win32',\n",
       " 'E:\\\\Anaconda\\\\lib\\\\site-packages\\\\win32\\\\lib',\n",
       " 'E:\\\\Anaconda\\\\lib\\\\site-packages\\\\Pythonwin',\n",
       " 'E:\\\\Anaconda\\\\lib\\\\site-packages\\\\IPython\\\\extensions',\n",
       " 'C:\\\\Users\\\\lan\\\\.ipython']"
      ]
     },
     "execution_count": 1,
     "metadata": {},
     "output_type": "execute_result"
    }
   ],
   "source": [
    "import sys\n",
    "sys.path"
   ]
  },
  {
   "cell_type": "code",
   "execution_count": 2,
   "metadata": {},
   "outputs": [
    {
     "data": {
      "text/plain": [
       "['',\n",
       " 'E:\\\\Anaconda\\\\python36.zip',\n",
       " 'E:\\\\Anaconda\\\\DLLs',\n",
       " 'E:\\\\Anaconda\\\\lib',\n",
       " 'E:\\\\Anaconda',\n",
       " 'E:\\\\Anaconda\\\\lib\\\\site-packages',\n",
       " 'E:\\\\Anaconda\\\\lib\\\\site-packages\\\\win32',\n",
       " 'E:\\\\Anaconda\\\\lib\\\\site-packages\\\\win32\\\\lib',\n",
       " 'E:\\\\Anaconda\\\\lib\\\\site-packages\\\\Pythonwin',\n",
       " 'E:\\\\Anaconda\\\\lib\\\\site-packages\\\\IPython\\\\extensions',\n",
       " 'C:\\\\Users\\\\lan\\\\.ipython',\n",
       " 'C:\\\\sourcedir']"
      ]
     },
     "execution_count": 2,
     "metadata": {},
     "output_type": "execute_result"
    }
   ],
   "source": [
    "sys.path.append('C:\\\\sourcedir')\n",
    "sys.path"
   ]
  },
  {
   "cell_type": "code",
   "execution_count": 3,
   "metadata": {},
   "outputs": [
    {
     "data": {
      "text/plain": [
       "['..', 'd:\\\\temp', 'c:\\\\lp4d\\\\examples']"
      ]
     },
     "execution_count": 3,
     "metadata": {},
     "output_type": "execute_result"
    }
   ],
   "source": [
    "sys.path = [r'd:\\temp']\n",
    "sys.path.append('c:\\\\lp4d\\\\examples')\n",
    "sys.path.insert(0, '..')\n",
    "sys.path"
   ]
  },
  {
   "cell_type": "markdown",
   "metadata": {},
   "source": [
    "可以使用这个技巧，在 Python 程序中动态配置搜索路径。sys.path 的设置方法只在修改的 Python 会话或程序中才会存续。"
   ]
  },
  {
   "cell_type": "markdown",
   "metadata": {},
   "source": [
    "# 7. Import 语句和 from 语句的 as 扩展  \n",
    "import 和 from 语句都可以扩展，让模块可以在脚本中给予不同的变量名：\n",
    "```\n",
    "import modulename as name\n",
    "```\n",
    "相当于：\n",
    "```\n",
    "import modulename\n",
    "name = modulename\n",
    "del modulename\n",
    "```\n",
    "from 语句也可以这么用：\n",
    "```\n",
    "from modulename import attrname as name\n",
    "```\n",
    "包导入功能也可为整个目录路径提供简短的名称：\n",
    "```\n",
    "import dir1.dir2.mod as mod\n",
    "```"
   ]
  },
  {
   "cell_type": "markdown",
   "metadata": {},
   "source": [
    "# 8. 用名称字符串导入模块  \n",
    "有时候，我们的程序可以在运行时以一个字符串的形式获取要导入的模块的名称。使用特殊的工具，从运行时生成的一个字符串来动态地载入一个模块。最通用的方法是，把一条导入语句构建为 Python 代码的一个字符串，并且将其传递给 exec 内置函数以运行："
   ]
  },
  {
   "cell_type": "code",
   "execution_count": 4,
   "metadata": {},
   "outputs": [
    {
     "data": {
      "text/plain": [
       "<module 'string' from 'E:\\\\Anaconda\\\\lib\\\\string.py'>"
      ]
     },
     "execution_count": 4,
     "metadata": {},
     "output_type": "execute_result"
    }
   ],
   "source": [
    "exec('import string')\n",
    "string"
   ]
  },
  {
   "cell_type": "markdown",
   "metadata": {},
   "source": [
    "使用内置的 `__import__` 函数来从一个名称字符串载入的话，代码可能会运行得更快："
   ]
  },
  {
   "cell_type": "code",
   "execution_count": 5,
   "metadata": {},
   "outputs": [
    {
     "data": {
      "text/plain": [
       "<module 'string' from 'E:\\\\Anaconda\\\\lib\\\\string.py'>"
      ]
     },
     "execution_count": 5,
     "metadata": {},
     "output_type": "execute_result"
    }
   ],
   "source": [
    "string = __import__('string')\n",
    "string"
   ]
  },
  {
   "cell_type": "markdown",
   "metadata": {},
   "source": [
    "新的导入调用普遍更受喜爱："
   ]
  },
  {
   "cell_type": "code",
   "execution_count": 6,
   "metadata": {},
   "outputs": [
    {
     "data": {
      "text/plain": [
       "<module 'string' from 'E:\\\\Anaconda\\\\lib\\\\string.py'>"
      ]
     },
     "execution_count": 6,
     "metadata": {},
     "output_type": "execute_result"
    }
   ],
   "source": [
    "import importlib\n",
    "string = importlib.import_module('string')\n",
    "string"
   ]
  },
  {
   "cell_type": "markdown",
   "metadata": {},
   "source": [
    "# 9. 示例：过渡性模块重载  \n",
    "当重载一个模块时，Python 只重载特定的模块文件，它不会自动重载那些导入的模块。  \n",
    "\n",
    "例如，要重载某个模块 A，并且 A 导入模块 B 和 C，重载只适用于 A，而不适用于 B 和 C。  \n",
    "\n",
    "## 9.1 递归重载  \n",
    "通过扫描模块的 `__dict__` 属性并检查每一项的 type 以找到要重新载入的嵌套模块："
   ]
  },
  {
   "cell_type": "code",
   "execution_count": null,
   "metadata": {},
   "outputs": [],
   "source": [
    "#!python\n",
    "\"\"\"\n",
    "reloadall.py: transitively reload nested modules (2.X + 3.X).\n",
    "Call reload_all with one or more imported module module objects.\n",
    "\"\"\"\n",
    "import types\n",
    "from imp import reload\n",
    "\n",
    "def status(module):\n",
    "    print('reloading ' + module.__name__)\n",
    "    \n",
    "def tryreload(module):\n",
    "    try:\n",
    "        reload(module)\n",
    "    except:\n",
    "        print('FAILED: %s' % module)\n",
    "        \n",
    "def transitive_reload(module, visited):\n",
    "    if not module in visited:                     \n",
    "        status(module)                            \n",
    "        tryreload(module)                        \n",
    "        visited[module] = True\n",
    "        for attrobj in module.__dict__.values():\n",
    "            if type(attrobj) == types.ModuleType:        # 如果是模块就递归\n",
    "                transitive_reload(attrobj, visited)\n",
    "        \n",
    "def reload_all(*args):\n",
    "    visited = {}                                         \n",
    "    for arg in args:                                    \n",
    "        if type(arg) == types.ModuleType:\n",
    "            transitive_reload(arg, visited)\n",
    "            \n",
    "def tester(reloader, modname):                           # 自测试代码\n",
    "    import importlib, sys                                # 仅在测试时导入\n",
    "    if len(sys.argv) > 1: modname = sys.argv[1]\n",
    "    module = importlib.import_module(modname)            # 通过名称字符串导入\n",
    "    reloader(module)\n",
    "\n",
    "if __name__ == '__main__':\n",
    "    tester(reload_all, 'reloadall')"
   ]
  },
  {
   "cell_type": "code",
   "execution_count": 8,
   "metadata": {},
   "outputs": [
    {
     "name": "stdout",
     "output_type": "stream",
     "text": [
      "reloading reloadall\n",
      "reloading types\n",
      "reloading functools\n",
      "reloading collections.abc\n"
     ]
    }
   ],
   "source": [
    "! python reloadall.py"
   ]
  },
  {
   "cell_type": "code",
   "execution_count": 10,
   "metadata": {},
   "outputs": [
    {
     "name": "stdout",
     "output_type": "stream",
     "text": [
      "reloading string\n",
      "reloading _string\n",
      "reloading re\n",
      "reloading enum\n",
      "reloading sys\n",
      "reloading sre_compile\n",
      "reloading _sre\n",
      "reloading sre_parse\n",
      "reloading functools\n",
      "reloading _locale\n",
      "reloading copyreg\n"
     ]
    }
   ],
   "source": [
    "! python reloadall.py string"
   ]
  },
  {
   "cell_type": "markdown",
   "metadata": {},
   "source": [
    "# 10. 模块陷阱  \n",
    "- **顶层代码的语句次序的重要性。**\n",
    "- **from 复制变量名，而不是连接。**\n",
    "- **from * 会让变量语义模糊。**\n",
    "- **reload 不会影响 from 导入。**\n",
    "- **reload、from 以及交互式模式测试。**\n",
    "- **递归形式的 from 导入无法工作。**"
   ]
  },
  {
   "cell_type": "code",
   "execution_count": null,
   "metadata": {},
   "outputs": [],
   "source": []
  }
 ],
 "metadata": {
  "kernelspec": {
   "display_name": "Python 3",
   "language": "python",
   "name": "python3"
  },
  "language_info": {
   "codemirror_mode": {
    "name": "ipython",
    "version": 3
   },
   "file_extension": ".py",
   "mimetype": "text/x-python",
   "name": "python",
   "nbconvert_exporter": "python",
   "pygments_lexer": "ipython3",
   "version": "3.6.8"
  }
 },
 "nbformat": 4,
 "nbformat_minor": 2
}
