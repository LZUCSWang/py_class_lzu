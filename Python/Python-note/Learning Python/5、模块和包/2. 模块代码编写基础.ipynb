{
 "cells": [
  {
   "cell_type": "markdown",
   "metadata": {},
   "source": [
    "# 1. 模块的创建  \n",
    "定义模块，只要使用文本编辑器，把一些 Python 代码输入至文本文件中，然后以“.py”为后缀名进行保存，任何此类文件都会被自动认为是 Python 模块。在模块顶层指定的所有变量名都会变成其属性，并且可以导出供客户端来使用。  \n",
    "\n",
    "例如，如果在名为 module1.py 的文件中输入下面的 def 语句，并将这个文件导入，就会创建一个拥有一个属性的模块对象。"
   ]
  },
  {
   "cell_type": "code",
   "execution_count": 1,
   "metadata": {},
   "outputs": [],
   "source": [
    "def printer(x):\n",
    "    print(x)"
   ]
  },
  {
   "cell_type": "markdown",
   "metadata": {},
   "source": [
    "## 1.1 模块文件名  \n",
    "模块名在 Python 程序中会变成变量名（没有.py）。当一个模块被导入时，Python 会把内部模块名映射到外部文件名，也就是说通过把模块搜索路径中的目录路径加在前边，而 .py 或其他后缀名添加在后边。  \n",
    "\n",
    "# 2. 模块的使用  \n",
    "客户端可以执行 import 或 from 语句。import 会读取整个模块，所以必须进行定义后才能读取它的变量名；from 将获取（或者说复制）模块特定的变量名。  \n",
    "\n",
    "## 2.1 import 语句  \n",
    "上面的变量名 module1 有两个不同的目的：识别要被载入的外部文件，同时会生成脚本中的变量，在文件加载后，用来引用模块对象。"
   ]
  },
  {
   "cell_type": "code",
   "execution_count": 2,
   "metadata": {},
   "outputs": [
    {
     "name": "stdout",
     "output_type": "stream",
     "text": [
      "Hello world!\n"
     ]
    }
   ],
   "source": [
    "import module1\n",
    "module1.printer('Hello world!')"
   ]
  },
  {
   "cell_type": "markdown",
   "metadata": {},
   "source": [
    "import 语句使用逗号分隔，可以载入多个模块。因为 import 使一个变量名引用整个模块对象，我们必须通过模块名称来得到该模块的属性（例如，module1.printer）。"
   ]
  },
  {
   "cell_type": "markdown",
   "metadata": {},
   "source": [
    "## 2.2 from 语句  \n",
    "因为 from 会把变量名复制到另一个作用域，所以它就可以让我们直接在脚本中使用复制后的变量名，而不需要通过模块。"
   ]
  },
  {
   "cell_type": "code",
   "execution_count": 3,
   "metadata": {},
   "outputs": [
    {
     "name": "stdout",
     "output_type": "stream",
     "text": [
      "Hello world!\n"
     ]
    }
   ],
   "source": [
    "from module1 import printer\n",
    "printer('Hello world!')"
   ]
  },
  {
   "cell_type": "markdown",
   "metadata": {},
   "source": [
    "## 2.3 from * 语句  \n",
    "当我们使用 * 时，会取得模块顶层所有赋了值的变量名的拷贝。还是在脚本中使用复制后得到的变量名 printer，而不需要通过模块名。"
   ]
  },
  {
   "cell_type": "code",
   "execution_count": 4,
   "metadata": {},
   "outputs": [
    {
     "name": "stdout",
     "output_type": "stream",
     "text": [
      "Hello world!\n"
     ]
    }
   ],
   "source": [
    "from module1 import *\n",
    "printer('Hello world!')"
   ]
  },
  {
   "cell_type": "markdown",
   "metadata": {},
   "source": [
    "## 2.4 导入只发生一次  \n",
    "模块会在第一次 import 或 from 时载入并执行，并且只在第一次如此。之后的导入操作都只会取出已加载的模块对象。  \n",
    "\n",
    "**初始化代码**"
   ]
  },
  {
   "cell_type": "code",
   "execution_count": 5,
   "metadata": {},
   "outputs": [
    {
     "name": "stdout",
     "output_type": "stream",
     "text": [
      "hello\n"
     ]
    },
    {
     "data": {
      "text/plain": [
       "1"
      ]
     },
     "execution_count": 5,
     "metadata": {},
     "output_type": "execute_result"
    }
   ],
   "source": [
    "import simple                 # 第一次导入\n",
    "simple.spam"
   ]
  },
  {
   "cell_type": "markdown",
   "metadata": {},
   "source": [
    "第二次和其后的导入并不会重新执行此模块的代码，只是从 Python 内部模块表中取出已创建的模块对象。"
   ]
  },
  {
   "cell_type": "code",
   "execution_count": 6,
   "metadata": {},
   "outputs": [
    {
     "data": {
      "text/plain": [
       "2"
      ]
     },
     "execution_count": 6,
     "metadata": {},
     "output_type": "execute_result"
    }
   ],
   "source": [
    "simple.spam = 2\n",
    "import simple                 # 只是取出已创建的模块\n",
    "simple.spam                   # 属性没有改变"
   ]
  },
  {
   "cell_type": "markdown",
   "metadata": {},
   "source": [
    "## 2.5 import 和 from 是赋值语句  \n",
    "import 和 from 是可执行的语句，可以嵌套在 if 测试中，出现在函数 def、try 语句之中等。  \n",
    "\n",
    "import 和 from 都是隐形的赋值语句：\n",
    "- import 将整个模块对象赋值给一个变量名。\n",
    "- from 将一个或多个变量名赋值给另一个模块中同名的对象。"
   ]
  },
  {
   "cell_type": "markdown",
   "metadata": {},
   "source": [
    "## 2.6 import 和 from 的对等性  \n",
    "一个像这样的 from 语句：\n",
    "```\n",
    "from module import name1, name2\n",
    "```\n",
    "与下面这些语句是等效的：  \n",
    "```\n",
    "import module\n",
    "name1 = module.name1\n",
    "name2 = module.name2\n",
    "del module\n",
    "```"
   ]
  },
  {
   "cell_type": "markdown",
   "metadata": {},
   "source": [
    "# 3. 模块命名空间  \n",
    "## 3.1 文件生成命名空间  \n",
    "- **模块语句会在首次导入时执行。**\n",
    "- **顶层的赋值语句会创建模块属性。**\n",
    "- **模块的命名空间能通过属性 `__dict__` 或 dir(M) 获取。**\n",
    "- **模块是一个独立的作用域（本地变量就是全局变量）。**\n",
    "\n",
    "## 3.2 命名空间字典：`__dict__`  \n",
    "在内部模块命名空间是作为字典对象进行存储的。可以通过模块的 `__dict__` 属性获取模块命名空间字典："
   ]
  },
  {
   "cell_type": "code",
   "execution_count": 9,
   "metadata": {},
   "outputs": [
    {
     "data": {
      "text/plain": [
       "['__name__',\n",
       " '__doc__',\n",
       " '__package__',\n",
       " '__loader__',\n",
       " '__spec__',\n",
       " '__file__',\n",
       " '__cached__',\n",
       " '__builtins__',\n",
       " 'printer']"
      ]
     },
     "execution_count": 9,
     "metadata": {},
     "output_type": "execute_result"
    }
   ],
   "source": [
    "list(module1.__dict__.keys())"
   ]
  },
  {
   "cell_type": "markdown",
   "metadata": {},
   "source": [
    "## 3.3 属性名的点号运算  \n",
    "在 Python 中，可以使用点号运算语法 object.attribute 获取任意 object 的 attribute 属性。  \n",
    "\n",
    "属性的点号运算与作用域法则无关，LEGB 规则只适用于无点号运算的纯变量名。以下是其规则：\n",
    "- **简单变量。**X 是指在当前作用域内搜索变量名 X（遵循 LEGB 规则）。\n",
    "- **点号运算。**X.Y 是指在当前范围内搜索 X，然后搜索对象 X 之中的属性 Y（而非在作用域内）。\n",
    "- **多层点号运算。**X.Y.Z 指的是寻找对象 X 之中的变量名 Y，然后再找对象 X.Y 之中的 Z。\n",
    "- **通用性。**点号运算可用于任何具有属性的对象：模块、类、C 扩展类型等。\n",
    "\n",
    "## 3.4 导入和作用域  \n",
    "导入操作不会赋予被导入文件中的代码对上层代码的可见度：被导入文件无法看见进行导入的文件内的变量名。更确切的说法是：\n",
    "- 函数绝对无法看见其他函数内的变量名，除非它们从物理上处于这个函数内。\n",
    "- 模块程序代码绝对无法看见其他模块内的变量名，除非明确地进行了导入。\n",
    "\n",
    "在 Python 中，一段程序的作用域完全由程序所处的文件中实际位置决定。作用域绝不会被函数调用或模块导入影响。  "
   ]
  },
  {
   "cell_type": "markdown",
   "metadata": {},
   "source": [
    "# 4. 重载模块  \n",
    "调用 reload 内置函数可以强制使模块代码重新载入并重新运行。此文件中新的代码的赋值语句会在适当的地方修改现有的模块对象。  \n",
    "\n",
    "reload 函数可以修改程序的一些部分，而无需停止整个程序。因此，利用 reload，可以立即看到对组件的修改的效果。  \n",
    "\n",
    "在 Python 3.X 中，reload 在 imp 标准库模块中，需要 import 语句或 from 语句来载入该工具。  \n",
    "\n",
    "## 4.1 reload 基础  \n",
    "- reload 是 Python 中的内置函数，而不是语句。\n",
    "- 传给 reload 的是已经存在的模块对象，而不是变量名。\n",
    "- reload 在 Python 3.X 中位于模块中，并且必须导入自己。\n",
    "\n",
    "在重载之前，模块一定是已经预先成功导入了。此外，import 语句和 reload 调用的语法并不相同：reload 需要小括号，但 import 不需要。\n",
    "```\n",
    "import module              # 初始化 import\n",
    "...use module.attributes... \n",
    "...                     # 现在，改变 module 文件\n",
    "...\n",
    "from imp import reload        # 获取 reload\n",
    "reload(module)             # 获取更新\n",
    "...use module.attributes...\n",
    "```\n",
    "一般的用法是：导入一个模块，在文本编辑器内修改其原代码，然后将其重载。当调用 reload 时，Python 会重读模块文件的源代码，重新执行其顶层语句。  \n",
    "- **reload 会在模块当前命名空间内执行模块文件的新代码。**重新执行模块文件的代码会覆盖其现有的命名空间，并进行删除而进行重建。\n",
    "- **文件中顶层赋值语句会使得变量名换成新值。**\n",
    "- **重载会影响所有使用 import 读取了模块的客户端。**\n",
    "- **重载只会对以后使用 from 的客户端造成影响。**\n",
    "- **重载只应用于单个模块。**  \n",
    "\n",
    "## 4.2 reload 实例  \n",
    "下面，我们要修改并重载一个模块文件，但不会中止交互模式的 Python 会话。  \n",
    "\n",
    "首先，在文本编辑器中，编写一个名为 changer.py 的模块文件，其内容如下："
   ]
  },
  {
   "cell_type": "code",
   "execution_count": 16,
   "metadata": {},
   "outputs": [],
   "source": [
    "message = 'First version'\n",
    "def printer():\n",
    "    print(message)"
   ]
  },
  {
   "cell_type": "markdown",
   "metadata": {},
   "source": [
    "启动 Python 解释器，导入该模块，然后调用其导出的函数："
   ]
  },
  {
   "cell_type": "code",
   "execution_count": 17,
   "metadata": {},
   "outputs": [
    {
     "name": "stdout",
     "output_type": "stream",
     "text": [
      "First version\n"
     ]
    }
   ],
   "source": [
    "import changer\n",
    "changer.printer()"
   ]
  },
  {
   "cell_type": "markdown",
   "metadata": {},
   "source": [
    "不要关掉解释器，在另一个窗口中编辑该模块文件，改变 message 变量和 printer 函数体："
   ]
  },
  {
   "cell_type": "code",
   "execution_count": 18,
   "metadata": {},
   "outputs": [],
   "source": [
    "message = 'After editing'\n",
    "def printer():\n",
    "    print('reloaded:', message)"
   ]
  },
  {
   "cell_type": "code",
   "execution_count": 19,
   "metadata": {},
   "outputs": [
    {
     "name": "stdout",
     "output_type": "stream",
     "text": [
      "First version\n"
     ]
    }
   ],
   "source": [
    "import changer\n",
    "changer.printer()                     # 再次导入模块没有效果，得到原始的 message"
   ]
  },
  {
   "cell_type": "markdown",
   "metadata": {},
   "source": [
    "回到 Python 窗口，重载该模块从而获得新的代码："
   ]
  },
  {
   "cell_type": "code",
   "execution_count": 20,
   "metadata": {},
   "outputs": [
    {
     "data": {
      "text/plain": [
       "<module 'changer' from 'C:\\\\Users\\\\lan\\\\Desktop\\\\Python\\\\Python-note\\\\Learning Python\\\\五、模块和包\\\\changer.py'>"
      ]
     },
     "execution_count": 20,
     "metadata": {},
     "output_type": "execute_result"
    }
   ],
   "source": [
    "from imp import reload\n",
    "reload(changer)                       # 强制载入运行新代码"
   ]
  },
  {
   "cell_type": "code",
   "execution_count": 21,
   "metadata": {},
   "outputs": [
    {
     "name": "stdout",
     "output_type": "stream",
     "text": [
      "reloaded: After editing\n"
     ]
    }
   ],
   "source": [
    "changer.printer()"
   ]
  }
 ],
 "metadata": {
  "kernelspec": {
   "display_name": "Python 3",
   "language": "python",
   "name": "python3"
  },
  "language_info": {
   "codemirror_mode": {
    "name": "ipython",
    "version": 3
   },
   "file_extension": ".py",
   "mimetype": "text/x-python",
   "name": "python",
   "nbconvert_exporter": "python",
   "pygments_lexer": "ipython3",
   "version": "3.6.8"
  }
 },
 "nbformat": 4,
 "nbformat_minor": 2
}
