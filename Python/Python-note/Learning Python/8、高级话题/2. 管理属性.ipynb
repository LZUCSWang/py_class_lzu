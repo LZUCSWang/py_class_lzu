{
 "cells": [
  {
   "cell_type": "markdown",
   "metadata": {},
   "source": [
    "# 1. 为什么管理属性  \n",
    "通常，属性只是对象的名称"
   ]
  },
  {
   "cell_type": "code",
   "execution_count": null,
   "metadata": {},
   "outputs": [],
   "source": [
    "person.name           # 获取属性值\n",
    "person.name = value   # 改变属性值"
   ]
  },
  {
   "cell_type": "markdown",
   "metadata": {},
   "source": [
    "大多数情况下，属性位于对象自身之中，或者继承自对象所派生自的一个类。  \n",
    "\n",
    "假设编写了一个程序来直接使用一个 name 属性，但是随后需要修改，编写一个方法来管理对属性值的访问，这是很直接的。  \n",
    "\n",
    "然而，这需要在整个程序中用到了名称的所有地方都进行修改。此外，这种方法需要程序知道如何导出值：是作为简单的名称或是作为调用的方法。"
   ]
  },
  {
   "cell_type": "markdown",
   "metadata": {},
   "source": [
    "# 2. 插入在属性访问时运行的代码  \n",
    "一个更好的解决方案是，如果需要的话，在属性访问时自动运行代码。  \n",
    "- `__getattr__` 和 `__setattr__` 方法 ，把未定义的属性获取和所有的属性赋值指向通用的处理器方法。\n",
    "- `__getattribute__` 方法，把所有属性获取都指向 Python 的所有类中的一个泛型处理器方法。\n",
    "- `property` 内置函数，把特定属性访问定位到 get 和 set 处理器函数，也叫做特性。\n",
    "- 描述符协议，把特定属性访问定位到具有任意 get 和 set 处理器方法的类的实例。"
   ]
  },
  {
   "cell_type": "markdown",
   "metadata": {},
   "source": [
    "# 3. 特性  \n",
    "特性协议允许我们把一个特定属性的 get 和 set 操作指向我们所提供的函数或方法，使得我们能够插入在属性访问的时候自动运行的代码，拦截属性删除，还可为属性提供文档。  \n",
    "\n",
    "通过 `property` 内置函数来创建特性并将其分配给类属性，就像方法函数一样。  \n",
    "\n",
    "可以通过子类和实例继承属性。  \n",
    "\n",
    "访问拦截功能通过 self 实例参数提供，该参数确保了在主体实例上访问状态信息和类属性是可行的。  \n",
    "\n",
    "一个特性管理一个单个的、特定的属性。它允许我们控制访问的赋值操作，并且允许我们自由地把一个属性从简单的数据改变为一个计算，而不会影响已有的代码。  \n",
    "\n",
    "## 3.1 基础知识  \n",
    "可以通过把一个内置函数的结果赋给一个类属性来创建一个特性："
   ]
  },
  {
   "cell_type": "code",
   "execution_count": null,
   "metadata": {},
   "outputs": [],
   "source": [
    "attribute = property(fget, fset, fdel, doc)"
   ]
  },
  {
   "cell_type": "markdown",
   "metadata": {},
   "source": [
    "这个内置函数的参数都不是必需的，并且如果没有传递参数的话，所有都取默认值 None。对于前三个，None 意味着对应的操作是不支持的，并且尝试使用默认值将会引发一个异常。  \n",
    "\n",
    "当使用它们的时候，我们向 fget 传递一个函数来拦截属性访问，给 fset 传递一个函数进行赋值，并且给 fdel 传递一个函数进行属性删除。  \n",
    "\n",
    "从技术上讲，这三个参数都接受任何可调用的参数，包括类的方法，第一个参数接收被限定的实例。当稍后被调用时，fget 函数返回计算出的属性值，fset 和 fdel 不返回任何东西（实际上是一个 None），并且这三种方法都可能引发异常来拒绝访问请求。  \n",
    "\n",
    "如果想要的话，doc 参数接收该属性的一个文档字符串，否则，该特性会赋值 fget 函数的文档字符串，通常默认值为 None。  \n",
    "\n",
    "这个内置 `property` 函数调用返回一个特性对象，我们将它赋给了在类的作用域中要管理的属性的名称。"
   ]
  },
  {
   "cell_type": "markdown",
   "metadata": {},
   "source": [
    "## 3.2 第一个例子  \n",
    "使用一个特性来记录对一个名为 name 的属性的访问，实际存储的数据名为 \\_name"
   ]
  },
  {
   "cell_type": "code",
   "execution_count": 1,
   "metadata": {},
   "outputs": [
    {
     "name": "stdout",
     "output_type": "stream",
     "text": [
      "change...\n",
      "fetch...\n",
      "Bob Smith\n",
      "change...\n",
      "fetch...\n",
      "Robert Smith\n",
      "remove...\n",
      "--------------------\n",
      "change...\n",
      "fetch...\n",
      "Sue Jones\n",
      "name property docs\n"
     ]
    }
   ],
   "source": [
    "class Person:\n",
    "    def __init__(self, name):\n",
    "        self.name = name\n",
    "    def getName(self):\n",
    "        print('fetch...')\n",
    "        return self._name\n",
    "    def setName(self, value):\n",
    "        print('change...')\n",
    "        self._name = value\n",
    "    def delName(self):\n",
    "        print('remove...')\n",
    "        del self._name\n",
    "    name = property(getName, setName, delName, \"name property docs\")\n",
    "    \n",
    "bob = Person('Bob Smith')        # bob 有一个管理属性\n",
    "print(bob.name)                  # 运行 getName\n",
    "bob.name = 'Robert Smith'        # 运行 setName\n",
    "print(bob.name)\n",
    "del bob.name                     # 运行 delName\n",
    "\n",
    "print('-'*20)\n",
    "sue = Person('Sue Jones')        # sue 也继承了属性\n",
    "print(sue.name)\n",
    "print(Person.name.__doc__)       # 或者 help(Person.name)"
   ]
  },
  {
   "cell_type": "markdown",
   "metadata": {},
   "source": [
    "实例和较低的子类都继承特性。"
   ]
  },
  {
   "cell_type": "markdown",
   "metadata": {},
   "source": [
    "## 3.3 计算的属性  \n",
    "例如，当获取属性的时候，动态地计算属性的值。"
   ]
  },
  {
   "cell_type": "code",
   "execution_count": 2,
   "metadata": {},
   "outputs": [
    {
     "name": "stdout",
     "output_type": "stream",
     "text": [
      "9\n",
      "16\n",
      "1024\n"
     ]
    }
   ],
   "source": [
    "class PropSquare:\n",
    "    def __init__(self, start):\n",
    "        self.value = start\n",
    "    def getX(self):\n",
    "        return self.value ** 2\n",
    "    def setX(self, value):\n",
    "        self.value = value\n",
    "    X = property(getX, setX)\n",
    "    \n",
    "P = PropSquare(3)         # 两个有特性的类实例\n",
    "Q = PropSquare(32)        # 每个都有不同的状态信息\n",
    "\n",
    "print(P.X)                # 3 ** 2\n",
    "P.X = 4\n",
    "print(P.X)                # 4 ** 2\n",
    "print(Q.X)                # 32 ** 2"
   ]
  },
  {
   "cell_type": "markdown",
   "metadata": {},
   "source": [
    "定义了一个 X 属性，将其当做静态数据一样访问，实际运行的代码在获取该属性的时候计算了它的值。"
   ]
  },
  {
   "cell_type": "markdown",
   "metadata": {},
   "source": [
    "## 3.4 使用装饰器编写特性  \n",
    "内置函数 `property` 可以充当一个装饰器，来定义一个函数，当获取一个属性的时候自动运行该函数："
   ]
  },
  {
   "cell_type": "code",
   "execution_count": null,
   "metadata": {},
   "outputs": [],
   "source": [
    "class Person:\n",
    "    @property\n",
    "    def name(self): ...      # 重绑定：name = property(name)"
   ]
  },
  {
   "cell_type": "markdown",
   "metadata": {},
   "source": [
    "运行的时候，装饰的方法自动传递给 property 内置函数的第一个参数。"
   ]
  },
  {
   "cell_type": "markdown",
   "metadata": {},
   "source": [
    "**Setter 和 deleter 装饰器**  \n",
    "`property` 对象也有 getter、setter 和 deleter 方法，这些方法指定相应的特性访问器方法赋值并且返回特性自身的一个副本。也可以使用这些方法，通过装饰常规方法来指定特性的组成部分，getter 部分通常由创建特性自身的行为自动填充："
   ]
  },
  {
   "cell_type": "code",
   "execution_count": 3,
   "metadata": {},
   "outputs": [
    {
     "name": "stdout",
     "output_type": "stream",
     "text": [
      "fetch...\n",
      "Bob Smith\n",
      "change...\n",
      "remove...\n"
     ]
    }
   ],
   "source": [
    "class Person:\n",
    "    def __init__(self, name):\n",
    "        self._name = name\n",
    "    \n",
    "    @property\n",
    "    def name(self):                  # name = property(name)\n",
    "        \"name property docs\"\n",
    "        print('fetch...')\n",
    "        return self._name\n",
    "    \n",
    "    @name.setter\n",
    "    def name(self, value):           # name = name.setter(name)\n",
    "        print('change...')\n",
    "        self._name = value\n",
    "    \n",
    "    @name.deleter\n",
    "    def name(self):                  # name = name.deleter(name)\n",
    "        print('remove...')\n",
    "        del self._name\n",
    "\n",
    "bob = Person('Bob Smith')\n",
    "print(bob.name)                      # 运行 name getter\n",
    "bob.name = 'Robert Smith'            # 运行 name setter\n",
    "del bob.name                         # 运行 name deleter"
   ]
  },
  {
   "cell_type": "markdown",
   "metadata": {},
   "source": [
    "这段代码等同于第一个示例，装饰只是编写特性的一种替代方法。"
   ]
  },
  {
   "cell_type": "markdown",
   "metadata": {},
   "source": [
    "# 4. 描述符  \n",
    "描述符提供了拦截属性访问的一种替代方法。  \n",
    "\n",
    "特性是描述符的一种，从技术上讲，property 内置函数只是创建一个特定类型的描述符的一种简化方式，而这种描述符在属性访问时运行方法函数。  \n",
    "\n",
    "从功能上讲，描述符协议允许我们把一个特定属性的 get 和 set 操作指向我们提供的一个单独类对象的方法：它们提供了一种方式来插入在访问属性的时候自动运行的代码，并且它们允许我们拦截属性删除并且为属性提供文档。  \n",
    "\n",
    "描述符作为独立的类创建。可以通过子类和实例继承。描述符提供了对获取和赋值访问的控制，并且允许我们自由地把简单的数据修改为计算值从而改变一个属性，而不会影响已有的代码。  \n",
    "\n",
    "## 4.1 基础知识  "
   ]
  },
  {
   "cell_type": "code",
   "execution_count": null,
   "metadata": {},
   "outputs": [],
   "source": [
    "class Descriptor:\n",
    "    \"docstring goes here\"\n",
    "    def __get__(self, instance, owner):...       # 返回属性值\n",
    "    def __set__(self, instance, value):...       # 返回 None\n",
    "    def __delete__(self, instance):...           # 返回 None"
   ]
  },
  {
   "cell_type": "markdown",
   "metadata": {},
   "source": [
    "带有任何这些方法的类都可以看作是描述符，并且当它们的一个实例分配给另一个类的属性的时候，它们的这些方法是特殊的——当访问属性的时候，会自动调用它们。  \n",
    "\n",
    "省略一个 `__set__` 意味着允许这个名字在一个实例中重新定义。因此，隐藏了描述符——要使得一个属性是只读的，必须定义 `__set__` 来捕获赋值并引发一个异常。  \n",
    "\n",
    "带有 `__set__` 的描述符在形式上称为数据描述符，它优先于由常规继承规则定位的其他名称。例如，名称 `__class__` 的继承描述符覆盖实例名称空间字典中的相同名称。这也可以确保你在自己的类中编写的数据描述符优先于其他类。  \n",
    "\n",
    "**描述符方法参数**  \n",
    "`__get__` 访问方法额外地接收一个 owner 参数，指定了描述符实例要附加到的类。instance 参数要么是访问的属性所属的实例（用于 instance.attr），要么当所访问的属性直接属于类的时候是None（用于 class.attr）。"
   ]
  },
  {
   "cell_type": "code",
   "execution_count": 2,
   "metadata": {},
   "outputs": [
    {
     "name": "stdout",
     "output_type": "stream",
     "text": [
      "<__main__.Descriptor object at 0x00000263457C3C50>\n",
      "<__main__.Subject object at 0x00000263457C3C88>\n",
      "<class '__main__.Subject'>\n"
     ]
    }
   ],
   "source": [
    "class Descriptor:\n",
    "    def __get__(self, instance, owner):\n",
    "        print(self, instance, owner, sep='\\n')\n",
    "    \n",
    "class Subject:\n",
    "    attr = Descriptor()            # Descriptor 实例是类属性\n",
    "\n",
    "X = Subject()\n",
    "X.attr"
   ]
  },
  {
   "cell_type": "code",
   "execution_count": 3,
   "metadata": {},
   "outputs": [
    {
     "name": "stdout",
     "output_type": "stream",
     "text": [
      "<__main__.Descriptor object at 0x00000263457C3C50>\n",
      "None\n",
      "<class '__main__.Subject'>\n"
     ]
    }
   ],
   "source": [
    "Subject.attr"
   ]
  },
  {
   "cell_type": "markdown",
   "metadata": {},
   "source": [
    "当获取 X.attr 的时候，Python 自动运行 Descriptor 类的 `__get__` 方法，Subject.attr 类属性分配给该方法。\n",
    "好像发生了如下转换：\n",
    "X.attr -> Descriptor.\\_\\_get__(Subject.attr, X, Subject)"
   ]
  },
  {
   "cell_type": "markdown",
   "metadata": {},
   "source": [
    "**只读描述符**  \n",
    "使用描述符直接忽略 `__set__` 方法不足以让属性成为只读的，因为描述符名称可以赋给一个实例。"
   ]
  },
  {
   "cell_type": "code",
   "execution_count": 4,
   "metadata": {},
   "outputs": [
    {
     "name": "stdout",
     "output_type": "stream",
     "text": [
      "get\n"
     ]
    }
   ],
   "source": [
    "class D:\n",
    "    def __get__(*args):\n",
    "        print('get')\n",
    "        \n",
    "class C:\n",
    "    a = D()\n",
    "\n",
    "X = C()\n",
    "X.a                         # 运行继承的描述符 __get__"
   ]
  },
  {
   "cell_type": "code",
   "execution_count": 5,
   "metadata": {},
   "outputs": [
    {
     "name": "stdout",
     "output_type": "stream",
     "text": [
      "get\n"
     ]
    }
   ],
   "source": [
    "C.a"
   ]
  },
  {
   "cell_type": "code",
   "execution_count": 6,
   "metadata": {},
   "outputs": [
    {
     "data": {
      "text/plain": [
       "99"
      ]
     },
     "execution_count": 6,
     "metadata": {},
     "output_type": "execute_result"
    }
   ],
   "source": [
    "X.a = 99                    # 保存在 X 中，隐藏了 C.a\n",
    "X.a"
   ]
  },
  {
   "cell_type": "code",
   "execution_count": 7,
   "metadata": {},
   "outputs": [
    {
     "data": {
      "text/plain": [
       "['a']"
      ]
     },
     "execution_count": 7,
     "metadata": {},
     "output_type": "execute_result"
    }
   ],
   "source": [
    "list(X.__dict__.keys())"
   ]
  },
  {
   "cell_type": "code",
   "execution_count": 8,
   "metadata": {},
   "outputs": [
    {
     "name": "stdout",
     "output_type": "stream",
     "text": [
      "get\n"
     ]
    }
   ],
   "source": [
    "Y = C()                \n",
    "Y.a                         # Y 依旧继承了描述符"
   ]
  },
  {
   "cell_type": "code",
   "execution_count": 9,
   "metadata": {},
   "outputs": [
    {
     "name": "stdout",
     "output_type": "stream",
     "text": [
      "get\n"
     ]
    }
   ],
   "source": [
    "C.a"
   ]
  },
  {
   "cell_type": "markdown",
   "metadata": {},
   "source": [
    "要让基于描述符的属性成为只读的，捕获描述符类中的赋值并引发一个异常来阻止属性赋值——当要赋值的属性是一个描述符的时候，Python 有效地绕过了常规实例层级的赋值行为，并且把操作指向描述符对象："
   ]
  },
  {
   "cell_type": "code",
   "execution_count": 10,
   "metadata": {},
   "outputs": [
    {
     "name": "stdout",
     "output_type": "stream",
     "text": [
      "get\n"
     ]
    }
   ],
   "source": [
    "class D:\n",
    "    def __get__(*args):\n",
    "        print('get')\n",
    "    def __set__(*args):\n",
    "        raise AttributeError('cannot set')\n",
    "\n",
    "class C:\n",
    "    a = D()\n",
    "\n",
    "X = C()\n",
    "X.a                        # 路由到 C.a.__get__"
   ]
  },
  {
   "cell_type": "code",
   "execution_count": 11,
   "metadata": {},
   "outputs": [
    {
     "ename": "AttributeError",
     "evalue": "cannot set",
     "output_type": "error",
     "traceback": [
      "\u001b[1;31m---------------------------------------------------------------------------\u001b[0m",
      "\u001b[1;31mAttributeError\u001b[0m                            Traceback (most recent call last)",
      "\u001b[1;32m<ipython-input-11-93d9f4bcef68>\u001b[0m in \u001b[0;36m<module>\u001b[1;34m\u001b[0m\n\u001b[1;32m----> 1\u001b[1;33m \u001b[0mX\u001b[0m\u001b[1;33m.\u001b[0m\u001b[0ma\u001b[0m \u001b[1;33m=\u001b[0m \u001b[1;36m99\u001b[0m                   \u001b[1;31m# 路由到 C.a.__set__\u001b[0m\u001b[1;33m\u001b[0m\u001b[0m\n\u001b[0m",
      "\u001b[1;32m<ipython-input-10-de8bfdf7e74f>\u001b[0m in \u001b[0;36m__set__\u001b[1;34m(*args)\u001b[0m\n\u001b[0;32m      3\u001b[0m         \u001b[0mprint\u001b[0m\u001b[1;33m(\u001b[0m\u001b[1;34m'get'\u001b[0m\u001b[1;33m)\u001b[0m\u001b[1;33m\u001b[0m\u001b[0m\n\u001b[0;32m      4\u001b[0m     \u001b[1;32mdef\u001b[0m \u001b[0m__set__\u001b[0m\u001b[1;33m(\u001b[0m\u001b[1;33m*\u001b[0m\u001b[0margs\u001b[0m\u001b[1;33m)\u001b[0m\u001b[1;33m:\u001b[0m\u001b[1;33m\u001b[0m\u001b[0m\n\u001b[1;32m----> 5\u001b[1;33m         \u001b[1;32mraise\u001b[0m \u001b[0mAttributeError\u001b[0m\u001b[1;33m(\u001b[0m\u001b[1;34m'cannot set'\u001b[0m\u001b[1;33m)\u001b[0m\u001b[1;33m\u001b[0m\u001b[0m\n\u001b[0m\u001b[0;32m      6\u001b[0m \u001b[1;33m\u001b[0m\u001b[0m\n\u001b[0;32m      7\u001b[0m \u001b[1;32mclass\u001b[0m \u001b[0mC\u001b[0m\u001b[1;33m:\u001b[0m\u001b[1;33m\u001b[0m\u001b[0m\n",
      "\u001b[1;31mAttributeError\u001b[0m: cannot set"
     ]
    }
   ],
   "source": [
    "X.a = 99                   # 路由到 C.a.__set__"
   ]
  },
  {
   "cell_type": "markdown",
   "metadata": {},
   "source": [
    "不要把描述符 `__delete__` 方法和通用的 `__del__` 方法搞混淆。调用前者是试图删除所有者类的一个实例上的管理属性名称；后者是一种通用的实例析构器方法，当任何类的一个实例将要进行垃圾回收的时候调用。"
   ]
  },
  {
   "cell_type": "markdown",
   "metadata": {},
   "source": [
    "## 4.2 第一个示例"
   ]
  },
  {
   "cell_type": "code",
   "execution_count": 14,
   "metadata": {},
   "outputs": [
    {
     "name": "stdout",
     "output_type": "stream",
     "text": [
      "fetch...\n",
      "Bob Smith\n",
      "change...\n",
      "fetch...\n",
      "Robert Smith\n",
      "remove...\n",
      "name descriptor docs\n"
     ]
    }
   ],
   "source": [
    "class Name:\n",
    "    'name descriptor docs'\n",
    "    def __get__(self, instance, owner):\n",
    "        print('fetch...')\n",
    "        return instance._name\n",
    "    def __set__(self, instance, value):\n",
    "        print('change...')\n",
    "        instance._name = value\n",
    "    def __delete__(self, instance):\n",
    "        print('remove...')\n",
    "        del instance._name\n",
    "    \n",
    "class Person:\n",
    "    def __init__(self, name):\n",
    "        self._name = name\n",
    "    name = Name()                         # 将描述符赋值为属性\n",
    "\n",
    "bob = Person('Bob Smith')                 # bob 有一个管理属性\n",
    "print(bob.name)                           # 运行 Name.__get__\n",
    "bob.name = 'Robert Smith'                 # 运行 Name.__set__\n",
    "print(bob.name)\n",
    "del bob.name                              # 运行 Name.__delete__\n",
    "print(Name.__doc__)"
   ]
  },
  {
   "cell_type": "markdown",
   "metadata": {},
   "source": [
    "实际上，我们必须像这样把描述符赋给一个类属性——如果赋给一个 self 实例属性，它将无法工作。当描述符的 `__get__` 方法运行的时候，它传递了 3 个对象来定义其上下文：\n",
    "- self 是 Name 类实例\n",
    "- instance 是 Person 类实例\n",
    "- owner 是 Person 类\n",
    "\n",
    "描述符类实例是一个类属性，并且由客户类和任何子类的所有实例所继承。  \n",
    "\n",
    "当一个描述符在客户类之外无用的话，将描述符的定义嵌入客户类之中，这在语法上是完全合理的。"
   ]
  },
  {
   "cell_type": "code",
   "execution_count": 15,
   "metadata": {},
   "outputs": [
    {
     "name": "stdout",
     "output_type": "stream",
     "text": [
      "name descriptor docs\n"
     ]
    }
   ],
   "source": [
    "class Person:\n",
    "    def __init__(self, name):\n",
    "        self._name = name\n",
    "        \n",
    "    class Name:                               # 使用嵌套类\n",
    "        'name descriptor docs'\n",
    "        def __get__(self, instance, owner):\n",
    "            print('fetch...')\n",
    "            return instance._name\n",
    "        def __set__(self, instance, value):\n",
    "            print('change...')\n",
    "            instance._name = value\n",
    "        def __delete__(self, instance):\n",
    "            print('remove...')\n",
    "            del instance._name\n",
    "    name = Name()                \n",
    "    \n",
    "print(Person.Name.__doc__)"
   ]
  },
  {
   "cell_type": "markdown",
   "metadata": {},
   "source": [
    "## 4.3 计算的属性  "
   ]
  },
  {
   "cell_type": "code",
   "execution_count": 17,
   "metadata": {},
   "outputs": [
    {
     "name": "stdout",
     "output_type": "stream",
     "text": [
      "9\n",
      "16\n",
      "1024\n"
     ]
    }
   ],
   "source": [
    "class DescSquare:\n",
    "    def __init__(self, start):            # 每个 desc 有自己的状态\n",
    "        self.value = start\n",
    "    def __get__(self, instance, owner):   # 属性获取\n",
    "        return self.value ** 2\n",
    "    def __set__(self, instance, value):   # 属性赋值\n",
    "        self.value = value                # 删除或 docs\n",
    "        \n",
    "class Client1:\n",
    "    X = DescSquare(3)                     # 将描述符实例赋值为类属性\n",
    "\n",
    "class Client2:\n",
    "    X = DescSquare(32)\n",
    "\n",
    "c1 = Client1()\n",
    "c2 = Client2()\n",
    "\n",
    "print(c1.X)                               # 3 ** 2\n",
    "c1.X = 4\n",
    "print(c1.X)                               # 4 ** 2\n",
    "print(c2.X)                               # 32 ** 2"
   ]
  },
  {
   "cell_type": "markdown",
   "metadata": {},
   "source": [
    "## 4.4 在描述符中使用状态信息  \n",
    "- 描述符状态用来管理内部用于描述符工作的数据。\n",
    "- 实例状态记录了和客户类相关的信息，以及可能由客户类创建的信息。\n",
    "\n",
    "描述符状态是每个描述符的数据，实例状态是每个客户实例的数据。 \n",
    "\n",
    "描述符方法也可以使用状态形式，但是描述符状态常常使得不必要使用特定的命名惯例，以避免\n",
    "存储在一个实例上的描述符数据的名称冲突。  \n",
    "\n",
    "例如，描述符把信息附加到自己的实例，因此，它不会与客户类的实例上的信息冲突。  \n",
    "\n",
    "对描述符存储或使用附加到客户类的实例的一个属性，而不是自己的属性，这也是可行的。  \n",
    "\n",
    "描述符和实例状态都有各自的用途。实际上，这是描述符优于特性的一个通用优点——因为它们都有自己的状态，所以可以很容易地在内部保存数据，而不用将数据添加到客户实例对象的命名空间中。"
   ]
  },
  {
   "cell_type": "markdown",
   "metadata": {},
   "source": [
    "## 4.5 特性和描述符是如何相关的  \n",
    "可以使用如下的一个描述符类来模拟 property 内置函数："
   ]
  },
  {
   "cell_type": "code",
   "execution_count": 19,
   "metadata": {},
   "outputs": [
    {
     "name": "stdout",
     "output_type": "stream",
     "text": [
      "getName...\n",
      "setName...\n"
     ]
    },
    {
     "ename": "AttributeError",
     "evalue": "can't delete attribute",
     "output_type": "error",
     "traceback": [
      "\u001b[1;31m---------------------------------------------------------------------------\u001b[0m",
      "\u001b[1;31mAttributeError\u001b[0m                            Traceback (most recent call last)",
      "\u001b[1;32m<ipython-input-19-39d314b0f201>\u001b[0m in \u001b[0;36m<module>\u001b[1;34m\u001b[0m\n\u001b[0;32m     34\u001b[0m \u001b[0mx\u001b[0m\u001b[1;33m.\u001b[0m\u001b[0mname\u001b[0m\u001b[1;33m\u001b[0m\u001b[0m\n\u001b[0;32m     35\u001b[0m \u001b[0mx\u001b[0m\u001b[1;33m.\u001b[0m\u001b[0mname\u001b[0m \u001b[1;33m=\u001b[0m \u001b[1;34m'Bob'\u001b[0m\u001b[1;33m\u001b[0m\u001b[0m\n\u001b[1;32m---> 36\u001b[1;33m \u001b[1;32mdel\u001b[0m \u001b[0mx\u001b[0m\u001b[1;33m.\u001b[0m\u001b[0mname\u001b[0m\u001b[1;33m\u001b[0m\u001b[0m\n\u001b[0m",
      "\u001b[1;32m<ipython-input-19-39d314b0f201>\u001b[0m in \u001b[0;36m__delete__\u001b[1;34m(self, instance)\u001b[0m\n\u001b[0;32m     21\u001b[0m     \u001b[1;32mdef\u001b[0m \u001b[0m__delete__\u001b[0m\u001b[1;33m(\u001b[0m\u001b[0mself\u001b[0m\u001b[1;33m,\u001b[0m \u001b[0minstance\u001b[0m\u001b[1;33m)\u001b[0m\u001b[1;33m:\u001b[0m\u001b[1;33m\u001b[0m\u001b[0m\n\u001b[0;32m     22\u001b[0m         \u001b[1;32mif\u001b[0m \u001b[0mself\u001b[0m\u001b[1;33m.\u001b[0m\u001b[0mfdel\u001b[0m \u001b[1;32mis\u001b[0m \u001b[1;32mNone\u001b[0m\u001b[1;33m:\u001b[0m\u001b[1;33m\u001b[0m\u001b[0m\n\u001b[1;32m---> 23\u001b[1;33m             \u001b[1;32mraise\u001b[0m \u001b[0mAttributeError\u001b[0m\u001b[1;33m(\u001b[0m\u001b[1;34m\"can't delete attribute\"\u001b[0m\u001b[1;33m)\u001b[0m\u001b[1;33m\u001b[0m\u001b[0m\n\u001b[0m\u001b[0;32m     24\u001b[0m         \u001b[0mself\u001b[0m\u001b[1;33m.\u001b[0m\u001b[0mfdel\u001b[0m\u001b[1;33m(\u001b[0m\u001b[0minstance\u001b[0m\u001b[1;33m)\u001b[0m\u001b[1;33m\u001b[0m\u001b[0m\n\u001b[0;32m     25\u001b[0m \u001b[1;33m\u001b[0m\u001b[0m\n",
      "\u001b[1;31mAttributeError\u001b[0m: can't delete attribute"
     ]
    }
   ],
   "source": [
    "class Property:\n",
    "    def __init__(self, fget=None, fset=None, fdel=None, doc=None):\n",
    "        self.fget = fget\n",
    "        self.fset = fset\n",
    "        self.fdel = fdel # Save unbound methods\n",
    "        self.__doc__ = doc # or other callables\n",
    "        \n",
    "    def __get__(self, instance, instancetype=None):\n",
    "        if instance is None:\n",
    "            return self\n",
    "        if self.fget is None:\n",
    "            raise AttributeError(\"can't get attribute\")\n",
    "        return self.fget(instance) # Pass instance to self\n",
    "                                    # in property accessors\n",
    "\n",
    "    def __set__(self, instance, value):\n",
    "        if self.fset is None:\n",
    "            raise AttributeError(\"can't set attribute\")\n",
    "        self.fset(instance, value)\n",
    "\n",
    "    def __delete__(self, instance):\n",
    "        if self.fdel is None:\n",
    "            raise AttributeError(\"can't delete attribute\")\n",
    "        self.fdel(instance)\n",
    "        \n",
    "class Person:\n",
    "    def getName(self):\n",
    "        print('getName...')\n",
    "    def setName(self, value):\n",
    "        print('setName...')                 \n",
    "    name = Property(getName, setName)\n",
    "    \n",
    "x = Person()\n",
    "x.name\n",
    "x.name = 'Bob'\n",
    "del x.name"
   ]
  },
  {
   "cell_type": "markdown",
   "metadata": {},
   "source": [
    "属性获取从 Person 类指向 Property 类的 `__get__` 方法，再回到 Person 类的 getName。"
   ]
  },
  {
   "cell_type": "markdown",
   "metadata": {},
   "source": [
    "# 5. `__getattr__` 和 `__getattribute__`  \n",
    "`__getattr__` 和 `__getattribute__` 操作符重载方法提供了拦截类实例的属性获取的另一种方法。  \n",
    "\n",
    "属性获取拦截表现为两种形式，可用两个不同的方法来编写：\n",
    "- `__getattr__` 针对**未定义的**属性运行——也就是说，属性没有存储在实例上，或者没有从其类之一继承。\n",
    "- `__getattribute__` 针对**每个**属性，因此，当使用它的时候，必须小心避免通过把属性访问传递给超类而导致递归循环。  \n",
    "\n",
    "这些方法是 Python 的**操作符重载**协议的一部分——是类的特殊命名的方法，由子类继承，并且当在隐式的内置操作中使用实例的时候自动调用。  \n",
    "\n",
    "它们可以用来拦截对任何（几乎所有的）实例属性的获取，而不仅仅只是分配给它们的那些特定名称。  \n",
    "\n",
    "它们只是拦截属性获取，而不拦截属性赋值。要捕获赋值对属性的更改，我们必须编写一个 `__setattr__` 方法——这是一个操作符重载方法，只对每个属性获取运行，必须小心避免由于通过实例命名空间字典指向属性赋值而导致的递归循环。  "
   ]
  },
  {
   "cell_type": "markdown",
   "metadata": {},
   "source": [
    "## 5.1 基础知识  \n",
    "如果一个类定义了或继承了如下方法，那么当一个实例用于后面的注释所提到的情况时，它们将自动运行："
   ]
  },
  {
   "cell_type": "code",
   "execution_count": null,
   "metadata": {},
   "outputs": [],
   "source": [
    "def __getattr__(self, name):             # 获取未定义属性 [obj.name]\n",
    "def __getattribute__(self, name):        # 获取所有属性 [obj.name]\n",
    "def __setattr__(self, name, value):      # 所有属性赋值 [obj.name=value]\n",
    "def __delattr__(self, name):             # 所有属性删除 [del obj.name]"
   ]
  },
  {
   "cell_type": "markdown",
   "metadata": {},
   "source": [
    "两个 get 方法通常返回一个属性的值，另两个方法不返回什么（None）。  \n",
    "\n",
    "例如，要捕获每个属性获取，我们可以使用上面的前两个方法；要捕获属性赋值，可以使用第三个方法："
   ]
  },
  {
   "cell_type": "code",
   "execution_count": 1,
   "metadata": {},
   "outputs": [
    {
     "name": "stdout",
     "output_type": "stream",
     "text": [
      "Get: job\n",
      "Get: pay\n",
      "Set: pay 99\n"
     ]
    }
   ],
   "source": [
    "class Catcher:\n",
    "    def __getattr__(self, name):\n",
    "        print('Get:',name)\n",
    "    def __setattr__(self, name, value):\n",
    "        print('Set:', name, value)\n",
    "        \n",
    "X = Catcher()\n",
    "X.job                        # 打印 'Get:job'\n",
    "X.pay                        # 打印 'Get:pay'\n",
    "X.pay = 99                   # 打印 'Set:pay 99'"
   ]
  },
  {
   "cell_type": "markdown",
   "metadata": {},
   "source": [
    "在特定情况下，使用 `__getattribute__` 有相同效果："
   ]
  },
  {
   "cell_type": "code",
   "execution_count": 2,
   "metadata": {},
   "outputs": [
    {
     "name": "stdout",
     "output_type": "stream",
     "text": [
      "Get: job\n",
      "Get: pay\n",
      "Set: pay 99\n"
     ]
    }
   ],
   "source": [
    "class Catcher:\n",
    "    def __getattribute__(self, name):\n",
    "        print('Get:',name)                    # 可能导致循环\n",
    "    def __setattr__(self, name, value):\n",
    "        print('Set:', name, value)\n",
    "        \n",
    "X = Catcher()\n",
    "X.job                    \n",
    "X.pay                      \n",
    "X.pay = 99                   "
   ]
  },
  {
   "cell_type": "markdown",
   "metadata": {},
   "source": [
    "**避免属性拦截方法中的循环**  \n",
    "\n",
    "由于 `__getattribute__` 和 `__setattr__` 针对所有的属性运行，因此，它们的代码要注意在访问其他属性的时候避免再次调用自己并触发一次递归循环。  \n",
    "\n",
    "例如，在一个 `__getattribute__` 方法代码内部的另一次属性获取，将会再次触发 `__getattribute__` ，并且代码将会循环直到内存耗尽："
   ]
  },
  {
   "cell_type": "code",
   "execution_count": null,
   "metadata": {},
   "outputs": [],
   "source": [
    "def __getattribute__(self, name):\n",
    "    x = self.other"
   ]
  },
  {
   "cell_type": "markdown",
   "metadata": {},
   "source": [
    "要解决这个问题，把获取指向一个更高的超类，而不是跳过这个层级的版本——object 类总是一个超类，并且它在这里可以很好地起作用："
   ]
  },
  {
   "cell_type": "code",
   "execution_count": null,
   "metadata": {},
   "outputs": [],
   "source": [
    "def __getattribute__(self, name):\n",
    "    x = object.__getattribute__(self, 'other')     "
   ]
  },
  {
   "cell_type": "markdown",
   "metadata": {},
   "source": [
    "对于 `__setattr__`，把属性作为实例的 `__dict__` 命名空间字典中的一个键赋值。这样就避免了直接的属性赋值："
   ]
  },
  {
   "cell_type": "code",
   "execution_count": null,
   "metadata": {},
   "outputs": [],
   "source": [
    "def __setattr__(self, name, value):\n",
    "    self.__dict__['other'] = value"
   ]
  },
  {
   "cell_type": "markdown",
   "metadata": {},
   "source": [
    "`__setattr__` 也可以把自己的属性赋值传递给一个更高的超类而避免循环，就像 `__getattribute__` 一样。  \n",
    "\n",
    "相反，我们不能使用 `__dict__` 技巧在 `__getattribute__` 中避免循环。获取 `__dict__` 属性本身会再次触发 `__getattribute__` ，导致一个递归循环。"
   ]
  },
  {
   "cell_type": "markdown",
   "metadata": {},
   "source": [
    "## 5.2 第一个示例  "
   ]
  },
  {
   "cell_type": "code",
   "execution_count": 3,
   "metadata": {},
   "outputs": [
    {
     "name": "stdout",
     "output_type": "stream",
     "text": [
      "fetch...\n",
      "Bob Smith\n",
      "change...\n",
      "fetch...\n",
      "Robert Smith\n",
      "remove...\n"
     ]
    }
   ],
   "source": [
    "class Person:\n",
    "    def __init__(self, name):\n",
    "        self._name = name              # 触发 __setattr__\n",
    "    \n",
    "    def __getattr__(self, attr):       # [obj.undefined]\n",
    "        if attr == 'name':             # 拦截 name：不保存\n",
    "            print('fetch...')\n",
    "            return self._name          # 不循环\n",
    "        else:\n",
    "            raise AttributeError(attr)\n",
    "            \n",
    "    def __setattr__(self, attr, value):   # [obj.any = value]\n",
    "        if attr == 'name':\n",
    "            print('change...')\n",
    "            attr = '_name'\n",
    "        self.__dict__[attr] = value       # 避免循环\n",
    "        \n",
    "    def __delattr__(self, attr):\n",
    "        if attr == 'name':\n",
    "            print('remove...')\n",
    "            attr = '_name'\n",
    "        del self.__dict__[attr]\n",
    "        \n",
    "bob = Person('Bob Smith')\n",
    "print(bob.name)                        # 运行 __getattr__\n",
    "bob.name = 'Robert Smith'              # 运行 __setattr__\n",
    "print(bob.name)\n",
    "del bob.name                           # 运行 __delattr__"
   ]
  },
  {
   "cell_type": "markdown",
   "metadata": {},
   "source": [
    "`__init__` 构造函数中的属性赋值也触发了 `__setattr__` ，这个方法捕获了每次属性赋值，即便是类自身之中的那些。  \n",
    "\n",
    "与特性和描述符不同，这里没有为属性直接声明指定的**文档**，管理的属性存在于我们拦截方法的代码之中，而不是在不同的对象中。  \n",
    "\n",
    "**使用 `__getattribute__`  \n",
    "\n",
    "要实现与 `__getattribute__` 相同的结果，用下面的代码替换示例中的 `__getattr__`，由于它会捕获所有的属性获取，因此必须通过把新的获取传递到超类来避免循环，并且通常不能假设未知的名称是错误："
   ]
  },
  {
   "cell_type": "code",
   "execution_count": null,
   "metadata": {},
   "outputs": [],
   "source": [
    "# 将 __getattr__ 替换如下\n",
    "\n",
    "def __getattribute__(self, attr):\n",
    "    if attr == 'name':\n",
    "        print('fetch...')\n",
    "        attr = '_name'\n",
    "    return object.__getattribute__(self, attr)"
   ]
  },
  {
   "cell_type": "markdown",
   "metadata": {},
   "source": [
    "运行时会得到 `_setattr__` 中的获取中的 `__getattribute__` 调用。"
   ]
  },
  {
   "cell_type": "markdown",
   "metadata": {},
   "source": [
    "在只有单个的属性要管理的情况下，特性和描述符可能会做得更好。"
   ]
  },
  {
   "cell_type": "markdown",
   "metadata": {},
   "source": [
    "## 5.3 计算属性  "
   ]
  },
  {
   "cell_type": "code",
   "execution_count": 4,
   "metadata": {},
   "outputs": [
    {
     "name": "stdout",
     "output_type": "stream",
     "text": [
      "9\n",
      "16\n",
      "1024\n"
     ]
    }
   ],
   "source": [
    "class AttrSquare:\n",
    "    def __init__(self, start):\n",
    "        self.value = start               # 触发 __setattr__\n",
    "        \n",
    "    def __getattr__(self, attr):         # 未定义属性获取\n",
    "        if attr == 'X':\n",
    "            return self.value ** 2       # 值未定义\n",
    "        else:\n",
    "            raise AttributeError(attr)\n",
    "            \n",
    "    def __setattr__(self, attr, value):\n",
    "        if attr == 'X':\n",
    "            attr = 'value'\n",
    "        self.__dict__[attr] = value\n",
    "\n",
    "A = AttrSquare(3)\n",
    "B = AttrSquare(32)\n",
    "\n",
    "print(A.X)                     # 3 ** 2\n",
    "A.X = 4\n",
    "print(A.X)                     # 4 ** 2\n",
    "print(B.X)                     # 32 ** 2"
   ]
  },
  {
   "cell_type": "markdown",
   "metadata": {},
   "source": [
    "**使用 `__getattribute__`**  \n",
    "\n",
    "通过使用直接超类方法调用而不是 `__dict__` 键来修改 `__setattr__` 赋值方法从而避免循环："
   ]
  },
  {
   "cell_type": "code",
   "execution_count": 5,
   "metadata": {},
   "outputs": [
    {
     "name": "stdout",
     "output_type": "stream",
     "text": [
      "9\n",
      "16\n",
      "1024\n"
     ]
    }
   ],
   "source": [
    "class AttrSquare:\n",
    "    def __init__(self, start):\n",
    "        self.value = start               # 触发 __setattr__\n",
    "        \n",
    "    def __getattribute__(self, attr):         # 未定义属性获取\n",
    "        if attr == 'X':\n",
    "            return self.value ** 2       # 值未定义\n",
    "        else:\n",
    "            return object.__getattribute__(self, attr)\n",
    "            \n",
    "    def __setattr__(self, attr, value):\n",
    "        if attr == 'X':\n",
    "            attr = 'value'\n",
    "        object.__setattr__(self, attr, value)\n",
    "\n",
    "A = AttrSquare(3)\n",
    "B = AttrSquare(32)\n",
    "\n",
    "print(A.X)                     # 3 ** 2\n",
    "A.X = 4\n",
    "print(A.X)                     # 4 ** 2\n",
    "print(B.X)                     # 32 ** 2"
   ]
  },
  {
   "cell_type": "markdown",
   "metadata": {},
   "source": [
    "隐式的指向在类的方法内部进行：\n",
    "- 构造函数中的 `self.value=start` 触发 `__setattr__`。\n",
    "- `__getattribute__` 中 `self.value` 再次触发 `__getattribute__`。\n",
    "\n",
    "每次我们获取属性 X 的时候，`__getattribute__` 都运行了两次。这并没有在 `__getattr__` 版本中发生，因为 value 属性没有定义。"
   ]
  },
  {
   "cell_type": "markdown",
   "metadata": {},
   "source": [
    "## 5.4 `__getattr__` 和 `__getattribute__` 比较  \n",
    "attr1 是一个类属性，attr2 是一个实例属性，attr3 是一个虚拟的管理属性，当获取时计算它："
   ]
  },
  {
   "cell_type": "code",
   "execution_count": 6,
   "metadata": {},
   "outputs": [
    {
     "name": "stdout",
     "output_type": "stream",
     "text": [
      "1\n",
      "2\n",
      "get: attr3\n",
      "3\n"
     ]
    }
   ],
   "source": [
    "class GetAttr:\n",
    "    attr1 = 1\n",
    "    def __init__(self):\n",
    "        self.attr2 = 2\n",
    "    \n",
    "    def __getattr__(self, attr):           # 仅对未定义属性\n",
    "        print('get: ' + attr)              # 不对 attr1：从类继承\n",
    "        return 3                           # 不对 attr2：保存在实例中\n",
    "    \n",
    "X = GetAttr()\n",
    "print(X.attr1)\n",
    "print(X.attr2)\n",
    "print(X.attr3)"
   ]
  },
  {
   "cell_type": "code",
   "execution_count": 7,
   "metadata": {},
   "outputs": [
    {
     "name": "stdout",
     "output_type": "stream",
     "text": [
      "get: attr1\n",
      "1\n",
      "get: attr2\n",
      "2\n",
      "get: attr3\n",
      "3\n"
     ]
    }
   ],
   "source": [
    "class GetAttribute:\n",
    "    attr1 = 1\n",
    "    def __init__(self):\n",
    "        self.attr2 = 2\n",
    "    \n",
    "    def __getattribute__(self, attr):           # 对所有属性获取\n",
    "        print('get: ' + attr)                   # 使用超类避免循环\n",
    "        if attr == 'attr3':\n",
    "            return 3\n",
    "        else:\n",
    "            return object.__getattribute__(self, attr)\n",
    "    \n",
    "X = GetAttribute()\n",
    "print(X.attr1)\n",
    "print(X.attr2)\n",
    "print(X.attr3)"
   ]
  },
  {
   "cell_type": "markdown",
   "metadata": {},
   "source": [
    "尽管 `__getattribute__` 可以捕获比 `__getattr__` 更多的属性获取，但是实际上，它们只是\n",
    "一个主题的不同变体——如果属性没有物理地存储，二者具有相同的效果。"
   ]
  },
  {
   "cell_type": "markdown",
   "metadata": {},
   "source": [
    "## 5.5 管理技术比较  "
   ]
  },
  {
   "cell_type": "markdown",
   "metadata": {},
   "source": [
    "## 5.6 拦截内置操作属性  \n",
    "对于隐式地使用内置操作获取的方法名属性，这些方法可能根本不会运行。这意味着操作符重载方法调用不能委托给被包装的对象，除非包装类自己重新定义这些方法。  \n",
    "\n",
    "换句话说，在 Python 3 的类中，没有直接的方法来通用地拦截像打印和加法这样的内置操作。  \n",
    "\n",
    "包装类可以通过在自身中重新定义所有相关的操作符重载方法，从而委托调用以解决这一约束。  \n",
    "\n",
    "这个问题只适用于 `__getattr__` 和 `__getattribute__`。由于特性和描述符只针对特定属性定义，所以它们根本不能真正应用于基于代理的类——单个特性或描述符不能用于拦截任意属性。  "
   ]
  },
  {
   "cell_type": "code",
   "execution_count": 2,
   "metadata": {},
   "outputs": [
    {
     "name": "stdout",
     "output_type": "stream",
     "text": [
      "\n",
      "GetAttr===========================================\n",
      "getattr: other\n",
      "__len__: 42\n",
      "fail []\n",
      "fail +\n",
      "fail ()\n",
      "getattr: __call__\n",
      "<__main__.GetAttr object at 0x00000000051933C8>\n",
      "<__main__.GetAttr object at 0x00000000051933C8>\n",
      "\n",
      "GetAttribute======================================\n",
      "getattribute: eggs\n",
      "getattribute: spam\n",
      "getattribute: other\n",
      "__len__: 42\n",
      "fail []\n",
      "fail +\n",
      "fail ()\n",
      "getattribute: __call__\n",
      "getattribute: __str__\n",
      "[GetAttribute str]\n",
      "<__main__.GetAttribute object at 0x00000000051934A8>\n"
     ]
    }
   ],
   "source": [
    "class GetAttr:\n",
    "    eggs = 88                      # 类中存储 eggs，实例中存储 spam\n",
    "    def __init__(self):\n",
    "        self.spam = 77\n",
    "    def __len__(self):             # 使用 len，否则 __getattr__ 由 __len__ 调用\n",
    "        print('__len__: 42')\n",
    "        return 42\n",
    "    def __getattr__(self, attr):   # 提供 __str__\n",
    "        print('getattr: ' + attr)\n",
    "        if attr == '__str__':\n",
    "            return lambda *args: '[Getattr str]'\n",
    "        else:\n",
    "            return lambda *args: None\n",
    "        \n",
    "class GetAttribute:\n",
    "    eggs = 88\n",
    "    def __init__(self):\n",
    "        self.spam = 77\n",
    "    def __len__(self):\n",
    "        print('__len__: 42')\n",
    "        return 42\n",
    "    def __getattribute__(self, attr):\n",
    "        print('getattribute: ' + attr)\n",
    "        if attr == '__str__':\n",
    "            return lambda *args: '[GetAttribute str]'\n",
    "        else:\n",
    "            return lambda *args: None\n",
    "        \n",
    "for Class in GetAttr, GetAttribute:\n",
    "    print('\\n' + Class.__name__.ljust(50, '='))\n",
    "    \n",
    "    X = Class()\n",
    "    X.eggs                     # 类属性\n",
    "    X.spam                     # 实例属性\n",
    "    X.other                    # 未定义属性\n",
    "    len(X)                     # 显式定义 __len__\n",
    "    \n",
    "    try:\n",
    "        X[0]                   # __getitem__?\n",
    "    except:\n",
    "        print('fail []')\n",
    "        \n",
    "    try:\n",
    "        X + 99                 # __add__?\n",
    "    except:\n",
    "        print('fail +')\n",
    "        \n",
    "    try:\n",
    "        X()                    # __call__? (通过内置隐式调用)\n",
    "    except:\n",
    "        print('fail ()')\n",
    "        \n",
    "    X.__call__()               # __call__? (显式调用，非继承)\n",
    "    print(X.__str__())         # __str__? (显式调用，从 type 继承)\n",
    "    print(X)                   # __str__? (通过内置隐式调用)"
   ]
  },
  {
   "cell_type": "markdown",
   "metadata": {},
   "source": [
    "当通过内置操作获取属性的时候，**没有**隐式运行的操作符重载方法会触发哪个属性拦截方法。  \n",
    "\n",
    "- `__str__` 访问有两次未能被 `__getattr__` 捕获：一次是针对内置打印，一次是针对显式获取，因为从该类继承了一个默认方法。\n",
    "- `__str__` 只有一次未能被 `__getattribute__` 捕获，在内置打印操作中，显式获取绕过了继承的版本。\n",
    "- `__call__` 在 Python 3 中用于内置调用表达式的两次都没有捕获，但是，当显式获取的时候，它两次都拦截到了；和 `__str__` 不同，没有继承的 `__call__` 默认版本能够超越 `__getattr__`。\n",
    "- `__len__` 被两个类都捕获了，直接原因是，它在类自身中是一个显式定义的方法——它的名称指明了，在 Python 3 中，如果我们删除了类的 `__len__` 方法，它不会指向 `__getattr__` 或 `__getattribute__`。\n",
    "- 所有其他的内置操作在 Python 3 中都没有被两种方案拦截。"
   ]
  },
  {
   "cell_type": "markdown",
   "metadata": {},
   "source": [
    "# 6. 示例：属性验证  \n",
    "## 6.1 使用特性来验证  \n",
    "特性根据属性访问自动运行代码，但是关注属性的一个特定集合，它们不会用来广泛地拦截所有属性。  \n",
    "\n",
    "`__init__` 构造函数方法内部的属性赋值也触发了特性的 setter 方法。  \n",
    "\n",
    "特性使用公用的实例状态并且没有自己的实例状态。存储在一个属性中的数据叫做 `__name`，而叫做 `name` 的属性总是特性，而非数据。  "
   ]
  },
  {
   "cell_type": "code",
   "execution_count": 5,
   "metadata": {},
   "outputs": [],
   "source": [
    "class CardHolder:\n",
    "    acctlen = 8                      # 类数据\n",
    "    retireage = 59.5\n",
    "    \n",
    "    def __init__(self, acct, name, age, addr):\n",
    "        self.acct = acct             # 实例数据\n",
    "        self.name = name             # 这里也会触发 setter\n",
    "        self.age = age               \n",
    "        self.addr = addr\n",
    "        \n",
    "    def getName(self):\n",
    "        return self.__name\n",
    "    def setName(self, value):\n",
    "        value = value.lower().replace(' ', '_')\n",
    "        self.__name = value\n",
    "    name = property(getName, setName)\n",
    "    \n",
    "    def getAge(self):\n",
    "        return self.__age\n",
    "    def setAge(self, value):\n",
    "        if value < 0 or value > 150:\n",
    "            raise ValueError('invalid age')\n",
    "        else:\n",
    "            self.__age = value\n",
    "    age = property(getAge, setAge)\n",
    "    \n",
    "    def getAcct(self):\n",
    "        return self.__acct[:-3] + '***'\n",
    "    def setAcct(self, value):\n",
    "        value = value.replace('-', '')\n",
    "        if len(value) != self.acctlen:\n",
    "            raise TypeError('invalid acct number')\n",
    "        else:\n",
    "            self.__acct = value\n",
    "    acct = property(getAcct, setAcct)\n",
    "    \n",
    "    def remainGet(self):                      # 方法，而不是属性\n",
    "        return self.retireage - self.age      # 除非已经作为属性使用\n",
    "    remain = property(remainGet)"
   ]
  },
  {
   "cell_type": "markdown",
   "metadata": {},
   "source": [
    "**测试代码**  "
   ]
  },
  {
   "cell_type": "code",
   "execution_count": 22,
   "metadata": {},
   "outputs": [
    {
     "name": "stdout",
     "output_type": "stream",
     "text": [
      "12345*** / bob_smith / 40 / 19.5 / 123 main st\n",
      "23456*** / bob_q._smith / 50 / 9.5 / 123 main st\n",
      "56781*** / sue_jones / 35 / 24.5 / 124 main st\n",
      "Bad age for Sue\n",
      "Can't set sue.remain\n",
      "Bad acct for Sue\n"
     ]
    }
   ],
   "source": [
    "bob = CardHolder('1234-5678', 'Bob Smith', 40, '123 main st')\n",
    "print(bob.acct, bob.name, bob.age, bob.remain, bob.addr, sep=' / ')\n",
    "bob.name = 'Bob Q. Smith'\n",
    "bob.age = 50\n",
    "bob.acct = '23-45-67-89'\n",
    "print(bob.acct, bob.name, bob.age, bob.remain, bob.addr, sep=' / ')\n",
    "\n",
    "sue = CardHolder('5678-12-34', 'Sue Jones', 35, '124 main st')\n",
    "print(sue.acct, sue.name, sue.age, sue.remain, sue.addr, sep=' / ')\n",
    "\n",
    "try:\n",
    "    sue.age = 200\n",
    "except:\n",
    "    print('Bad age for Sue')\n",
    "    \n",
    "try:\n",
    "    sue.remain = 5\n",
    "except:\n",
    "    print(\"Can't set sue.remain\")\n",
    "    \n",
    "try:\n",
    "    sue.acct = '1234567'\n",
    "except:\n",
    "    print('Bad acct for Sue')"
   ]
  },
  {
   "cell_type": "markdown",
   "metadata": {},
   "source": [
    "## 6.2 使用描述符验证  \n",
    "特性基本上是描述符的一种受限制的形式。和特性不同，描述符有自己的状态，并且它们是一种更为通用的方案。  \n",
    "\n",
    "实际的 name 值附加到了描述符对象，而不是客户类实例。  "
   ]
  },
  {
   "cell_type": "code",
   "execution_count": 11,
   "metadata": {},
   "outputs": [],
   "source": [
    "class CardHolder:\n",
    "    acctlen = 8\n",
    "    retireage = 59.5\n",
    "    \n",
    "    def __init__(self, acct, name, age, addr):\n",
    "        self.acct = acct             # 实例数据\n",
    "        self.name = name             # 这里也会触发 __set__ 调用\n",
    "        self.age = age               # 描述符中不需要 __X\n",
    "        self.addr = addr\n",
    "        \n",
    "    class Name:\n",
    "        def __get__(self, instance, owner):     # 类名称：CardHolder 本地变量\n",
    "            return self.name\n",
    "        def __set__(self, instance, value):\n",
    "            value = value.lower().replace(' ', '_')\n",
    "            self.name = value\n",
    "    name = Name()\n",
    "    \n",
    "    class Age:\n",
    "        def __get__(self, instance, owner):\n",
    "            return self.age            # 使用描述符数据\n",
    "        def __set__(self, instance, value):\n",
    "            if value < 0 or value > 150:\n",
    "                raise ValueError('invalid age')\n",
    "            else:\n",
    "                self.age = value\n",
    "    age = Age()\n",
    "    \n",
    "    class Acct:\n",
    "        def __get__(self, instance, owner):\n",
    "            return self.acct[:-3] + '***'\n",
    "        def __set__(self, instance, value):\n",
    "            value = value.replace('-', '')\n",
    "            if len(value) != instance.acctlen:      # 使用实例类数据\n",
    "                raise TypeError('invalid acct number')\n",
    "            else:\n",
    "                self.acct = value\n",
    "    acct = Acct()\n",
    "    \n",
    "    class Remain:\n",
    "        def __get__(self, instance, owner):\n",
    "            return instance.retireage - instance.age   # 触发 Age.__get__\n",
    "        def __set__(self, instance, value):\n",
    "            raise TypeError('cannot set remain')\n",
    "    remain = Remain()"
   ]
  },
  {
   "cell_type": "markdown",
   "metadata": {},
   "source": [
    "## 6.3 使用 `__getattr__` 来验证  \n",
    "像 `__getattr__` 这样的通用工具可能更适合于通用委托，而特性和描述符更直接是为了管理特定属性而设计。"
   ]
  },
  {
   "cell_type": "code",
   "execution_count": 15,
   "metadata": {},
   "outputs": [],
   "source": [
    "class CardHolder:\n",
    "    acctlen = 8\n",
    "    retireage = 59.5\n",
    "    \n",
    "    def __init__(self, acct, name, age, addr):\n",
    "        self.acct = acct             # 实例数据\n",
    "        self.name = name             # 这里也会触发 __setattr__ 调用\n",
    "        self.age = age              \n",
    "        self.addr = addr\n",
    "        \n",
    "    def __getattr__(self, name):\n",
    "        if name == 'acct':                      # 对未定义属性获取\n",
    "            return self._acct[:-3] + '***'      # name, age, addr 已定义\n",
    "        elif name == 'remain':\n",
    "            return self.retireage - self.age    # 未触发 __getattr__\n",
    "        else:\n",
    "            raise AttributeError(name)\n",
    "    \n",
    "    def __setattr__(self, name, value):\n",
    "        if name == 'name':                            # 所有属性赋值\n",
    "            value = value.lower().replace(' ', '_')   # addr 直接存储\n",
    "        elif name == 'age':\n",
    "            if value < 0 or value > 150:\n",
    "                raise ValueError('invalid age')\n",
    "        elif name == 'acct':\n",
    "            name = '_acct'\n",
    "            value = value.replace('-', '')\n",
    "            if len(value) != self.acctlen:\n",
    "                raise TypeError('invalid acct number')\n",
    "        elif name == 'remain':\n",
    "            raise TypeError('cannot set remain')\n",
    "        self.__dict__[name] = value                   # 避免循环"
   ]
  },
  {
   "cell_type": "markdown",
   "metadata": {},
   "source": [
    "## 6.4 使用 `__getattribute__` 验证  \n",
    "由于每个属性获取都指向了 `__getattribute__`，所以这里我们不需要压缩名称以拦截它们（acct 存储为 acct）。  \n",
    "\n",
    "对于设置和获取未管理的属性（例如， addr ），这个版本都会引发额外调用。如果速度极为重要，这个替代方法可能会是所有方案中最慢的。"
   ]
  },
  {
   "cell_type": "code",
   "execution_count": 21,
   "metadata": {},
   "outputs": [],
   "source": [
    "class CardHolder:\n",
    "    acctlen = 8\n",
    "    retireage = 59.5\n",
    "    \n",
    "    def __init__(self, acct, name, age, addr):\n",
    "        self.acct = acct             # 实例数据\n",
    "        self.name = name             # 这里也会触发 __setattr__ 调用\n",
    "        self.age = age              \n",
    "        self.addr = addr\n",
    "        \n",
    "    def __getattribute__(self, name):\n",
    "        superget = object.__getattribute__      # 避免循环：对所有属性获取使用上一级的 __getattribute__\n",
    "        if name == 'acct':\n",
    "            return superget(self, 'acct')[:-3] + '***'\n",
    "        elif name == 'remain':\n",
    "            return superget(self, 'retireage') - superget(self, 'age')\n",
    "        else:\n",
    "            return superget(self, name)\n",
    "        \n",
    "    def __setattr__(self, name, value):\n",
    "        if name == 'name':                            # 所有属性赋值\n",
    "            value = value.lower().replace(' ', '_')   # addr 直接存储\n",
    "        elif name == 'age':\n",
    "            if value < 0 or value > 150:\n",
    "                raise ValueError('invalid age')\n",
    "        elif name == 'acct':\n",
    "            value = value.replace('-', '')\n",
    "            if len(value) != self.acctlen:\n",
    "                raise TypeError('invalid acct number')\n",
    "        elif name == 'remain':\n",
    "            raise TypeError('cannot set remain')\n",
    "        self.__dict__[name] = value                   # 避免循环"
   ]
  },
  {
   "cell_type": "code",
   "execution_count": null,
   "metadata": {},
   "outputs": [],
   "source": []
  }
 ],
 "metadata": {
  "kernelspec": {
   "display_name": "Python 3",
   "language": "python",
   "name": "python3"
  },
  "language_info": {
   "codemirror_mode": {
    "name": "ipython",
    "version": 3
   },
   "file_extension": ".py",
   "mimetype": "text/x-python",
   "name": "python",
   "nbconvert_exporter": "python",
   "pygments_lexer": "ipython3",
   "version": "3.6.8"
  }
 },
 "nbformat": 4,
 "nbformat_minor": 2
}
