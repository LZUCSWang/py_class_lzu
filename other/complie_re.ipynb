{
 "cells": [
  {
   "cell_type": "code",
   "execution_count": 1,
   "metadata": {},
   "outputs": [],
   "source": [
    "# import re\n",
    "# import pydot\n",
    "# import pygraphviz as pgv\n",
    "# from sre_parse import sre_parse\n",
    "# from sre_parse_utils import to_dot\n",
    "\n",
    "# from sre_parse_utils import to_dot\n"
   ]
  }
 ],
 "metadata": {
  "kernelspec": {
   "display_name": "Tor",
   "language": "python",
   "name": "python3"
  },
  "language_info": {
   "codemirror_mode": {
    "name": "ipython",
    "version": 3
   },
   "file_extension": ".py",
   "mimetype": "text/x-python",
   "name": "python",
   "nbconvert_exporter": "python",
   "pygments_lexer": "ipython3",
   "version": "3.10.4"
  }
 },
 "nbformat": 4,
 "nbformat_minor": 2
}
