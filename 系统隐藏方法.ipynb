{
 "cells": [
  {
   "cell_type": "markdown",
   "metadata": {},
   "source": [
    "## 五个隐藏方法\n"
   ]
  },
  {
   "cell_type": "code",
   "execution_count": 1,
   "metadata": {},
   "outputs": [
    {
     "name": "stdout",
     "output_type": "stream",
     "text": [
      "Bob is a person\n"
     ]
    }
   ],
   "source": [
    "class Person:\n",
    "    def __init__(self, name):\n",
    "        self.name = name\n",
    "        print(f\"{self.name} is a person\")\n",
    "\n",
    "    def __del__(self):\n",
    "        print(f\"{self.name} is dead\")\n",
    "\n",
    "\n",
    "b = Person(\"Bob\")"
   ]
  },
  {
   "cell_type": "code",
   "execution_count": 2,
   "metadata": {},
   "outputs": [],
   "source": [
    "cc = 5"
   ]
  },
  {
   "cell_type": "code",
   "execution_count": 3,
   "metadata": {},
   "outputs": [
    {
     "name": "stdout",
     "output_type": "stream",
     "text": [
      "bob6 is a person\n",
      "Bob is dead\n"
     ]
    }
   ],
   "source": [
    "cc += 1\n",
    "b = Person(f\"bob{cc}\")"
   ]
  },
  {
   "cell_type": "code",
   "execution_count": 4,
   "metadata": {},
   "outputs": [
    {
     "name": "stdout",
     "output_type": "stream",
     "text": [
      "bob6 is dead\n"
     ]
    }
   ],
   "source": [
    "del b"
   ]
  },
  {
   "cell_type": "code",
   "execution_count": 5,
   "metadata": {},
   "outputs": [
    {
     "name": "stdout",
     "output_type": "stream",
     "text": [
      "ff\n",
      "d is a person\n",
      "ff end\n",
      "d is dead\n"
     ]
    }
   ],
   "source": [
    "def ff():  # 这个函数结束后，b会被销毁\n",
    "    print(\"ff\")\n",
    "\n",
    "    d = Person(\"d\")\n",
    "\n",
    "    print(\"ff end\")\n",
    "\n",
    "\n",
    "\n",
    "\n",
    "ff()"
   ]
  },
  {
   "cell_type": "code",
   "execution_count": 6,
   "metadata": {},
   "outputs": [
    {
     "name": "stdout",
     "output_type": "stream",
     "text": [
      "f is a person\n",
      "Person not dead\n",
      "f is dead\n"
     ]
    }
   ],
   "source": [
    "def ff(d):  # 这只是一个引用，不是创建一个对象，所以不会调用__del__\n",
    "    pass\n",
    "\n",
    "\n",
    "f = Person(\"f\")\n",
    "ff(f)\n",
    "print(\"Person not dead\")\n",
    "del f"
   ]
  },
  {
   "cell_type": "code",
   "execution_count": 7,
   "metadata": {},
   "outputs": [
    {
     "name": "stdout",
     "output_type": "stream",
     "text": [
      "小雅 is a person\n"
     ]
    }
   ],
   "source": [
    "s1 = Person(f\"小雅\")  # 引用计数，只有在最后一个引用被销毁时，才会调用__del__\n",
    "s2 = s1\n",
    "s3 = s1"
   ]
  },
  {
   "cell_type": "code",
   "execution_count": 8,
   "metadata": {},
   "outputs": [],
   "source": [
    "del s1"
   ]
  },
  {
   "cell_type": "code",
   "execution_count": 9,
   "metadata": {},
   "outputs": [],
   "source": [
    "del s2"
   ]
  },
  {
   "cell_type": "code",
   "execution_count": 10,
   "metadata": {},
   "outputs": [
    {
     "name": "stdout",
     "output_type": "stream",
     "text": [
      "小雅 is dead\n"
     ]
    }
   ],
   "source": [
    "del s3"
   ]
  },
  {
   "cell_type": "code",
   "execution_count": 11,
   "metadata": {},
   "outputs": [
    {
     "name": "stdout",
     "output_type": "stream",
     "text": [
      "小王6 is a person\n",
      "小李6 is a person\n",
      "Person: 小王6\n"
     ]
    },
    {
     "data": {
      "text/plain": [
       "(__repr__2478259497632, '小李6 ready: 2 3')"
      ]
     },
     "execution_count": 11,
     "metadata": {},
     "output_type": "execute_result"
    }
   ],
   "source": [
    "class Person:\n",
    "    def __init__(self, name):\n",
    "        self.name = name\n",
    "        print(f\"{self.name} is a person\")\n",
    "\n",
    "    def __del__(self):\n",
    "        print(f\"{self.name} is dead\")\n",
    "\n",
    "    def __str__(self) -> str:  # 重写__str__方法,返回一个字符串,print时会调用\n",
    "        return f\"Person: {self.name}\"\n",
    "\n",
    "    def __repr__(self):\n",
    "        return \"__repr__\"+str(id(self))\n",
    "\n",
    "    def __call__(self, x, y):  # 重写__call__方法,可以让对象像函数一样调用\n",
    "        return f\"{self.name} ready: {x} {y}\"\n",
    "\n",
    "\n",
    "b = Person(f\"小王{cc}\")\n",
    "c = Person(f\"小李{cc}\")\n",
    "print(b)\n",
    "b,c(2, 3)"
   ]
  },
  {
   "cell_type": "code",
   "execution_count": null,
   "metadata": {},
   "outputs": [],
   "source": []
  }
 ],
 "metadata": {
  "kernelspec": {
   "display_name": "Python 3",
   "language": "python",
   "name": "python3"
  },
  "language_info": {
   "codemirror_mode": {
    "name": "ipython",
    "version": 3
   },
   "file_extension": ".py",
   "mimetype": "text/x-python",
   "name": "python",
   "nbconvert_exporter": "python",
   "pygments_lexer": "ipython3",
   "version": "3.10.4"
  }
 },
 "nbformat": 4,
 "nbformat_minor": 2
}
